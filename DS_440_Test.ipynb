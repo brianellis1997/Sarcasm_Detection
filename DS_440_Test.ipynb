{
  "nbformat": 4,
  "nbformat_minor": 0,
  "metadata": {
    "colab": {
      "provenance": [],
      "gpuType": "T4",
      "include_colab_link": true
    },
    "kernelspec": {
      "name": "python3",
      "display_name": "Python 3"
    },
    "language_info": {
      "name": "python"
    },
    "accelerator": "GPU"
  },
  "cells": [
    {
      "cell_type": "markdown",
      "metadata": {
        "id": "view-in-github",
        "colab_type": "text"
      },
      "source": [
        "<a href=\"https://colab.research.google.com/github/brianellis1997/Sarcasm_Detection/blob/Lindsey/DS_440_Test.ipynb\" target=\"_parent\"><img src=\"https://colab.research.google.com/assets/colab-badge.svg\" alt=\"Open In Colab\"/></a>"
      ]
    },
    {
      "cell_type": "markdown",
      "source": [
        "# Sarcasm Detection using NLP Techniques\n",
        "### Team 2: Brian Ellis, Lindsey Rich, Elena Kern"
      ],
      "metadata": {
        "id": "83CHGfhCqBUr"
      }
    },
    {
      "cell_type": "markdown",
      "source": [
        "## Load Libraries and Dataset"
      ],
      "metadata": {
        "id": "Mf7bmmcfetuI"
      }
    },
    {
      "cell_type": "code",
      "execution_count": 1,
      "metadata": {
        "id": "gB0K8GssUbrq"
      },
      "outputs": [],
      "source": [
        "import pandas as pd\n",
        "import torch\n",
        "from wordcloud import WordCloud\n",
        "import matplotlib.pyplot as plt\n",
        "from sklearn.model_selection import train_test_split\n",
        "\n",
        "#test comment"
      ]
    },
    {
      "cell_type": "code",
      "source": [
        "import torch.nn as nn\n",
        "from torch.nn.utils.rnn import pack_padded_sequence, pad_packed_sequence\n",
        "import torch.optim as optim\n",
        "from sklearn.metrics import accuracy_score, classification_report, confusion_matrix\n",
        "import seaborn as sns"
      ],
      "metadata": {
        "id": "VvT3qX6GYCVV"
      },
      "execution_count": 2,
      "outputs": []
    },
    {
      "cell_type": "code",
      "source": [
        "!git clone https://github.com/brianellis1997/Sarcasm_Detection.git"
      ],
      "metadata": {
        "colab": {
          "base_uri": "https://localhost:8080/"
        },
        "id": "Xqvo69MVYiV-",
        "outputId": "ce7396ed-599c-4b9d-c867-c779cac95d48"
      },
      "execution_count": 3,
      "outputs": [
        {
          "output_type": "stream",
          "name": "stdout",
          "text": [
            "Cloning into 'Sarcasm_Detection'...\n",
            "remote: Enumerating objects: 92, done.\u001b[K\n",
            "remote: Counting objects: 100% (92/92), done.\u001b[K\n",
            "remote: Compressing objects: 100% (92/92), done.\u001b[K\n",
            "remote: Total 92 (delta 46), reused 3 (delta 0), pack-reused 0\u001b[K\n",
            "Receiving objects: 100% (92/92), 2.39 MiB | 7.73 MiB/s, done.\n",
            "Resolving deltas: 100% (46/46), done.\n"
          ]
        }
      ]
    },
    {
      "cell_type": "code",
      "source": [
        "from google.colab import drive\n",
        "drive.mount('/content/drive')"
      ],
      "metadata": {
        "id": "kFqAxbBlhxGs",
        "outputId": "4ffca98c-9762-4bec-9d40-7cecfc782cb9",
        "colab": {
          "base_uri": "https://localhost:8080/"
        }
      },
      "execution_count": 5,
      "outputs": [
        {
          "output_type": "stream",
          "name": "stdout",
          "text": [
            "Mounted at /content/drive\n"
          ]
        }
      ]
    },
    {
      "cell_type": "code",
      "source": [
        "train_bal = pd.read_csv('/content/drive/MyDrive/Sarcasm_Data/train-balanced-sarcasm.csv')   # Make sure path is correct in your google drive\n",
        "train_bal.head()"
      ],
      "metadata": {
        "colab": {
          "base_uri": "https://localhost:8080/",
          "height": 206
        },
        "id": "qQbpFOgeViuu",
        "outputId": "6accaebd-efce-4242-d2d0-c0b38e4f8121"
      },
      "execution_count": 6,
      "outputs": [
        {
          "output_type": "execute_result",
          "data": {
            "text/plain": [
              "   label                                            comment     author  \\\n",
              "0      0                                         NC and NH.  Trumpbart   \n",
              "1      0  You do know west teams play against west teams...  Shbshb906   \n",
              "2      0  They were underdogs earlier today, but since G...   Creepeth   \n",
              "3      0  This meme isn't funny none of the \"new york ni...  icebrotha   \n",
              "4      0                    I could use one of those tools.  cush2push   \n",
              "\n",
              "            subreddit  score  ups  downs     date          created_utc  \\\n",
              "0            politics      2   -1     -1  2016-10  2016-10-16 23:55:23   \n",
              "1                 nba     -4   -1     -1  2016-11  2016-11-01 00:24:10   \n",
              "2                 nfl      3    3      0  2016-09  2016-09-22 21:45:37   \n",
              "3  BlackPeopleTwitter     -8   -1     -1  2016-10  2016-10-18 21:03:47   \n",
              "4  MaddenUltimateTeam      6   -1     -1  2016-12  2016-12-30 17:00:13   \n",
              "\n",
              "                                      parent_comment  \n",
              "0  Yeah, I get that argument. At this point, I'd ...  \n",
              "1  The blazers and Mavericks (The wests 5 and 6 s...  \n",
              "2                            They're favored to win.  \n",
              "3                         deadass don't kill my buzz  \n",
              "4  Yep can confirm I saw the tool they use for th...  "
            ],
            "text/html": [
              "\n",
              "  <div id=\"df-65cb7e7c-103c-474c-9778-7c6e36b79a96\" class=\"colab-df-container\">\n",
              "    <div>\n",
              "<style scoped>\n",
              "    .dataframe tbody tr th:only-of-type {\n",
              "        vertical-align: middle;\n",
              "    }\n",
              "\n",
              "    .dataframe tbody tr th {\n",
              "        vertical-align: top;\n",
              "    }\n",
              "\n",
              "    .dataframe thead th {\n",
              "        text-align: right;\n",
              "    }\n",
              "</style>\n",
              "<table border=\"1\" class=\"dataframe\">\n",
              "  <thead>\n",
              "    <tr style=\"text-align: right;\">\n",
              "      <th></th>\n",
              "      <th>label</th>\n",
              "      <th>comment</th>\n",
              "      <th>author</th>\n",
              "      <th>subreddit</th>\n",
              "      <th>score</th>\n",
              "      <th>ups</th>\n",
              "      <th>downs</th>\n",
              "      <th>date</th>\n",
              "      <th>created_utc</th>\n",
              "      <th>parent_comment</th>\n",
              "    </tr>\n",
              "  </thead>\n",
              "  <tbody>\n",
              "    <tr>\n",
              "      <th>0</th>\n",
              "      <td>0</td>\n",
              "      <td>NC and NH.</td>\n",
              "      <td>Trumpbart</td>\n",
              "      <td>politics</td>\n",
              "      <td>2</td>\n",
              "      <td>-1</td>\n",
              "      <td>-1</td>\n",
              "      <td>2016-10</td>\n",
              "      <td>2016-10-16 23:55:23</td>\n",
              "      <td>Yeah, I get that argument. At this point, I'd ...</td>\n",
              "    </tr>\n",
              "    <tr>\n",
              "      <th>1</th>\n",
              "      <td>0</td>\n",
              "      <td>You do know west teams play against west teams...</td>\n",
              "      <td>Shbshb906</td>\n",
              "      <td>nba</td>\n",
              "      <td>-4</td>\n",
              "      <td>-1</td>\n",
              "      <td>-1</td>\n",
              "      <td>2016-11</td>\n",
              "      <td>2016-11-01 00:24:10</td>\n",
              "      <td>The blazers and Mavericks (The wests 5 and 6 s...</td>\n",
              "    </tr>\n",
              "    <tr>\n",
              "      <th>2</th>\n",
              "      <td>0</td>\n",
              "      <td>They were underdogs earlier today, but since G...</td>\n",
              "      <td>Creepeth</td>\n",
              "      <td>nfl</td>\n",
              "      <td>3</td>\n",
              "      <td>3</td>\n",
              "      <td>0</td>\n",
              "      <td>2016-09</td>\n",
              "      <td>2016-09-22 21:45:37</td>\n",
              "      <td>They're favored to win.</td>\n",
              "    </tr>\n",
              "    <tr>\n",
              "      <th>3</th>\n",
              "      <td>0</td>\n",
              "      <td>This meme isn't funny none of the \"new york ni...</td>\n",
              "      <td>icebrotha</td>\n",
              "      <td>BlackPeopleTwitter</td>\n",
              "      <td>-8</td>\n",
              "      <td>-1</td>\n",
              "      <td>-1</td>\n",
              "      <td>2016-10</td>\n",
              "      <td>2016-10-18 21:03:47</td>\n",
              "      <td>deadass don't kill my buzz</td>\n",
              "    </tr>\n",
              "    <tr>\n",
              "      <th>4</th>\n",
              "      <td>0</td>\n",
              "      <td>I could use one of those tools.</td>\n",
              "      <td>cush2push</td>\n",
              "      <td>MaddenUltimateTeam</td>\n",
              "      <td>6</td>\n",
              "      <td>-1</td>\n",
              "      <td>-1</td>\n",
              "      <td>2016-12</td>\n",
              "      <td>2016-12-30 17:00:13</td>\n",
              "      <td>Yep can confirm I saw the tool they use for th...</td>\n",
              "    </tr>\n",
              "  </tbody>\n",
              "</table>\n",
              "</div>\n",
              "    <div class=\"colab-df-buttons\">\n",
              "\n",
              "  <div class=\"colab-df-container\">\n",
              "    <button class=\"colab-df-convert\" onclick=\"convertToInteractive('df-65cb7e7c-103c-474c-9778-7c6e36b79a96')\"\n",
              "            title=\"Convert this dataframe to an interactive table.\"\n",
              "            style=\"display:none;\">\n",
              "\n",
              "  <svg xmlns=\"http://www.w3.org/2000/svg\" height=\"24px\" viewBox=\"0 -960 960 960\">\n",
              "    <path d=\"M120-120v-720h720v720H120Zm60-500h600v-160H180v160Zm220 220h160v-160H400v160Zm0 220h160v-160H400v160ZM180-400h160v-160H180v160Zm440 0h160v-160H620v160ZM180-180h160v-160H180v160Zm440 0h160v-160H620v160Z\"/>\n",
              "  </svg>\n",
              "    </button>\n",
              "\n",
              "  <style>\n",
              "    .colab-df-container {\n",
              "      display:flex;\n",
              "      gap: 12px;\n",
              "    }\n",
              "\n",
              "    .colab-df-convert {\n",
              "      background-color: #E8F0FE;\n",
              "      border: none;\n",
              "      border-radius: 50%;\n",
              "      cursor: pointer;\n",
              "      display: none;\n",
              "      fill: #1967D2;\n",
              "      height: 32px;\n",
              "      padding: 0 0 0 0;\n",
              "      width: 32px;\n",
              "    }\n",
              "\n",
              "    .colab-df-convert:hover {\n",
              "      background-color: #E2EBFA;\n",
              "      box-shadow: 0px 1px 2px rgba(60, 64, 67, 0.3), 0px 1px 3px 1px rgba(60, 64, 67, 0.15);\n",
              "      fill: #174EA6;\n",
              "    }\n",
              "\n",
              "    .colab-df-buttons div {\n",
              "      margin-bottom: 4px;\n",
              "    }\n",
              "\n",
              "    [theme=dark] .colab-df-convert {\n",
              "      background-color: #3B4455;\n",
              "      fill: #D2E3FC;\n",
              "    }\n",
              "\n",
              "    [theme=dark] .colab-df-convert:hover {\n",
              "      background-color: #434B5C;\n",
              "      box-shadow: 0px 1px 3px 1px rgba(0, 0, 0, 0.15);\n",
              "      filter: drop-shadow(0px 1px 2px rgba(0, 0, 0, 0.3));\n",
              "      fill: #FFFFFF;\n",
              "    }\n",
              "  </style>\n",
              "\n",
              "    <script>\n",
              "      const buttonEl =\n",
              "        document.querySelector('#df-65cb7e7c-103c-474c-9778-7c6e36b79a96 button.colab-df-convert');\n",
              "      buttonEl.style.display =\n",
              "        google.colab.kernel.accessAllowed ? 'block' : 'none';\n",
              "\n",
              "      async function convertToInteractive(key) {\n",
              "        const element = document.querySelector('#df-65cb7e7c-103c-474c-9778-7c6e36b79a96');\n",
              "        const dataTable =\n",
              "          await google.colab.kernel.invokeFunction('convertToInteractive',\n",
              "                                                    [key], {});\n",
              "        if (!dataTable) return;\n",
              "\n",
              "        const docLinkHtml = 'Like what you see? Visit the ' +\n",
              "          '<a target=\"_blank\" href=https://colab.research.google.com/notebooks/data_table.ipynb>data table notebook</a>'\n",
              "          + ' to learn more about interactive tables.';\n",
              "        element.innerHTML = '';\n",
              "        dataTable['output_type'] = 'display_data';\n",
              "        await google.colab.output.renderOutput(dataTable, element);\n",
              "        const docLink = document.createElement('div');\n",
              "        docLink.innerHTML = docLinkHtml;\n",
              "        element.appendChild(docLink);\n",
              "      }\n",
              "    </script>\n",
              "  </div>\n",
              "\n",
              "\n",
              "<div id=\"df-cfc88e24-e179-485a-b133-f7cd82dfeb97\">\n",
              "  <button class=\"colab-df-quickchart\" onclick=\"quickchart('df-cfc88e24-e179-485a-b133-f7cd82dfeb97')\"\n",
              "            title=\"Suggest charts\"\n",
              "            style=\"display:none;\">\n",
              "\n",
              "<svg xmlns=\"http://www.w3.org/2000/svg\" height=\"24px\"viewBox=\"0 0 24 24\"\n",
              "     width=\"24px\">\n",
              "    <g>\n",
              "        <path d=\"M19 3H5c-1.1 0-2 .9-2 2v14c0 1.1.9 2 2 2h14c1.1 0 2-.9 2-2V5c0-1.1-.9-2-2-2zM9 17H7v-7h2v7zm4 0h-2V7h2v10zm4 0h-2v-4h2v4z\"/>\n",
              "    </g>\n",
              "</svg>\n",
              "  </button>\n",
              "\n",
              "<style>\n",
              "  .colab-df-quickchart {\n",
              "      --bg-color: #E8F0FE;\n",
              "      --fill-color: #1967D2;\n",
              "      --hover-bg-color: #E2EBFA;\n",
              "      --hover-fill-color: #174EA6;\n",
              "      --disabled-fill-color: #AAA;\n",
              "      --disabled-bg-color: #DDD;\n",
              "  }\n",
              "\n",
              "  [theme=dark] .colab-df-quickchart {\n",
              "      --bg-color: #3B4455;\n",
              "      --fill-color: #D2E3FC;\n",
              "      --hover-bg-color: #434B5C;\n",
              "      --hover-fill-color: #FFFFFF;\n",
              "      --disabled-bg-color: #3B4455;\n",
              "      --disabled-fill-color: #666;\n",
              "  }\n",
              "\n",
              "  .colab-df-quickchart {\n",
              "    background-color: var(--bg-color);\n",
              "    border: none;\n",
              "    border-radius: 50%;\n",
              "    cursor: pointer;\n",
              "    display: none;\n",
              "    fill: var(--fill-color);\n",
              "    height: 32px;\n",
              "    padding: 0;\n",
              "    width: 32px;\n",
              "  }\n",
              "\n",
              "  .colab-df-quickchart:hover {\n",
              "    background-color: var(--hover-bg-color);\n",
              "    box-shadow: 0 1px 2px rgba(60, 64, 67, 0.3), 0 1px 3px 1px rgba(60, 64, 67, 0.15);\n",
              "    fill: var(--button-hover-fill-color);\n",
              "  }\n",
              "\n",
              "  .colab-df-quickchart-complete:disabled,\n",
              "  .colab-df-quickchart-complete:disabled:hover {\n",
              "    background-color: var(--disabled-bg-color);\n",
              "    fill: var(--disabled-fill-color);\n",
              "    box-shadow: none;\n",
              "  }\n",
              "\n",
              "  .colab-df-spinner {\n",
              "    border: 2px solid var(--fill-color);\n",
              "    border-color: transparent;\n",
              "    border-bottom-color: var(--fill-color);\n",
              "    animation:\n",
              "      spin 1s steps(1) infinite;\n",
              "  }\n",
              "\n",
              "  @keyframes spin {\n",
              "    0% {\n",
              "      border-color: transparent;\n",
              "      border-bottom-color: var(--fill-color);\n",
              "      border-left-color: var(--fill-color);\n",
              "    }\n",
              "    20% {\n",
              "      border-color: transparent;\n",
              "      border-left-color: var(--fill-color);\n",
              "      border-top-color: var(--fill-color);\n",
              "    }\n",
              "    30% {\n",
              "      border-color: transparent;\n",
              "      border-left-color: var(--fill-color);\n",
              "      border-top-color: var(--fill-color);\n",
              "      border-right-color: var(--fill-color);\n",
              "    }\n",
              "    40% {\n",
              "      border-color: transparent;\n",
              "      border-right-color: var(--fill-color);\n",
              "      border-top-color: var(--fill-color);\n",
              "    }\n",
              "    60% {\n",
              "      border-color: transparent;\n",
              "      border-right-color: var(--fill-color);\n",
              "    }\n",
              "    80% {\n",
              "      border-color: transparent;\n",
              "      border-right-color: var(--fill-color);\n",
              "      border-bottom-color: var(--fill-color);\n",
              "    }\n",
              "    90% {\n",
              "      border-color: transparent;\n",
              "      border-bottom-color: var(--fill-color);\n",
              "    }\n",
              "  }\n",
              "</style>\n",
              "\n",
              "  <script>\n",
              "    async function quickchart(key) {\n",
              "      const quickchartButtonEl =\n",
              "        document.querySelector('#' + key + ' button');\n",
              "      quickchartButtonEl.disabled = true;  // To prevent multiple clicks.\n",
              "      quickchartButtonEl.classList.add('colab-df-spinner');\n",
              "      try {\n",
              "        const charts = await google.colab.kernel.invokeFunction(\n",
              "            'suggestCharts', [key], {});\n",
              "      } catch (error) {\n",
              "        console.error('Error during call to suggestCharts:', error);\n",
              "      }\n",
              "      quickchartButtonEl.classList.remove('colab-df-spinner');\n",
              "      quickchartButtonEl.classList.add('colab-df-quickchart-complete');\n",
              "    }\n",
              "    (() => {\n",
              "      let quickchartButtonEl =\n",
              "        document.querySelector('#df-cfc88e24-e179-485a-b133-f7cd82dfeb97 button');\n",
              "      quickchartButtonEl.style.display =\n",
              "        google.colab.kernel.accessAllowed ? 'block' : 'none';\n",
              "    })();\n",
              "  </script>\n",
              "</div>\n",
              "\n",
              "    </div>\n",
              "  </div>\n"
            ]
          },
          "metadata": {},
          "execution_count": 6
        }
      ]
    },
    {
      "cell_type": "code",
      "source": [
        "train_bal.info()"
      ],
      "metadata": {
        "id": "buRDCOARVtib",
        "outputId": "97874d6d-5afd-4b6f-e156-e6154b2688d5",
        "colab": {
          "base_uri": "https://localhost:8080/"
        }
      },
      "execution_count": 7,
      "outputs": [
        {
          "output_type": "stream",
          "name": "stdout",
          "text": [
            "<class 'pandas.core.frame.DataFrame'>\n",
            "RangeIndex: 1010826 entries, 0 to 1010825\n",
            "Data columns (total 10 columns):\n",
            " #   Column          Non-Null Count    Dtype \n",
            "---  ------          --------------    ----- \n",
            " 0   label           1010826 non-null  int64 \n",
            " 1   comment         1010773 non-null  object\n",
            " 2   author          1010826 non-null  object\n",
            " 3   subreddit       1010826 non-null  object\n",
            " 4   score           1010826 non-null  int64 \n",
            " 5   ups             1010826 non-null  int64 \n",
            " 6   downs           1010826 non-null  int64 \n",
            " 7   date            1010826 non-null  object\n",
            " 8   created_utc     1010826 non-null  object\n",
            " 9   parent_comment  1010826 non-null  object\n",
            "dtypes: int64(4), object(6)\n",
            "memory usage: 77.1+ MB\n"
          ]
        }
      ]
    },
    {
      "cell_type": "code",
      "source": [
        "train_bal['label'].value_counts()"
      ],
      "metadata": {
        "id": "8ZmNESsSV-QP",
        "outputId": "6c7123ed-102c-41e7-ac37-3bb17033d49e",
        "colab": {
          "base_uri": "https://localhost:8080/"
        }
      },
      "execution_count": 8,
      "outputs": [
        {
          "output_type": "execute_result",
          "data": {
            "text/plain": [
              "0    505413\n",
              "1    505413\n",
              "Name: label, dtype: int64"
            ]
          },
          "metadata": {},
          "execution_count": 8
        }
      ]
    },
    {
      "cell_type": "markdown",
      "source": [
        "We can see our dataset is balanced."
      ],
      "metadata": {
        "id": "BGEjPFEaXQ-0"
      }
    },
    {
      "cell_type": "code",
      "source": [
        "train_bal[:20]['comment']"
      ],
      "metadata": {
        "id": "l80XOo3PoGVK",
        "outputId": "067add23-4c27-444f-ec63-00a96635d6ba",
        "colab": {
          "base_uri": "https://localhost:8080/"
        }
      },
      "execution_count": 9,
      "outputs": [
        {
          "output_type": "execute_result",
          "data": {
            "text/plain": [
              "0                                            NC and NH.\n",
              "1     You do know west teams play against west teams...\n",
              "2     They were underdogs earlier today, but since G...\n",
              "3     This meme isn't funny none of the \"new york ni...\n",
              "4                       I could use one of those tools.\n",
              "5     I don't pay attention to her, but as long as s...\n",
              "6         Trick or treating in general is just weird...\n",
              "7                       Blade Mastery+Masamune or GTFO!\n",
              "8     You don't have to, you have a good build, buy ...\n",
              "9                     I would love to see him at lolla.\n",
              "10    I think a significant amount would be against ...\n",
              "11                       Damn I was hoping God was real\n",
              "12                                 They have an agenda.\n",
              "13                                          Great idea!\n",
              "14    Ayy bb wassup, it makes a bit more sense in co...\n",
              "15                                        what the fuck\n",
              "16                                               noted.\n",
              "17    because it's what really bothers him... and it...\n",
              "18                        why you fail me, my precious?\n",
              "19                       Pre-Flashpoint Clark and Lois.\n",
              "Name: comment, dtype: object"
            ]
          },
          "metadata": {},
          "execution_count": 9
        }
      ]
    },
    {
      "cell_type": "code",
      "source": [
        "# Remove null rows\n",
        "train_bal = train_bal[-train_bal['comment'].isnull()]\n",
        "train_bal.info()"
      ],
      "metadata": {
        "id": "cA0DMiRxg6IY",
        "outputId": "1a6762ce-1ab5-4537-9f01-bff4a67b97f5",
        "colab": {
          "base_uri": "https://localhost:8080/"
        }
      },
      "execution_count": 10,
      "outputs": [
        {
          "output_type": "stream",
          "name": "stdout",
          "text": [
            "<class 'pandas.core.frame.DataFrame'>\n",
            "Int64Index: 1010773 entries, 0 to 1010825\n",
            "Data columns (total 10 columns):\n",
            " #   Column          Non-Null Count    Dtype \n",
            "---  ------          --------------    ----- \n",
            " 0   label           1010773 non-null  int64 \n",
            " 1   comment         1010773 non-null  object\n",
            " 2   author          1010773 non-null  object\n",
            " 3   subreddit       1010773 non-null  object\n",
            " 4   score           1010773 non-null  int64 \n",
            " 5   ups             1010773 non-null  int64 \n",
            " 6   downs           1010773 non-null  int64 \n",
            " 7   date            1010773 non-null  object\n",
            " 8   created_utc     1010773 non-null  object\n",
            " 9   parent_comment  1010773 non-null  object\n",
            "dtypes: int64(4), object(6)\n",
            "memory usage: 84.8+ MB\n"
          ]
        }
      ]
    },
    {
      "cell_type": "markdown",
      "source": [
        "Now we're going to split our data into train and test sets using an 80/20 split"
      ],
      "metadata": {
        "id": "_Eg3IiS0hm_n"
      }
    },
    {
      "cell_type": "code",
      "source": [
        "df_shuffled = train_bal.sample(frac=1, random_state=22)  # Shuffle data\n",
        "\n",
        "# Split into train and test (80% train, 20% test)\n",
        "train_bal, test_bal = train_test_split(df_shuffled, test_size=0.2, random_state=22)\n",
        "\n",
        "print(train_bal.shape)\n",
        "print(test_bal.shape)"
      ],
      "metadata": {
        "id": "p5VQ6Y3keuLP",
        "outputId": "1c155fe3-066c-4276-9b24-a4338872dd3f",
        "colab": {
          "base_uri": "https://localhost:8080/"
        }
      },
      "execution_count": 11,
      "outputs": [
        {
          "output_type": "stream",
          "name": "stdout",
          "text": [
            "(808618, 10)\n",
            "(202155, 10)\n"
          ]
        }
      ]
    },
    {
      "cell_type": "code",
      "source": [
        "train_bal['label'].value_counts(normalize=True)"
      ],
      "metadata": {
        "id": "_H-pnPjZgGOo",
        "outputId": "529d2b2a-a165-4cc6-f86d-0a9f95dfcfa9",
        "colab": {
          "base_uri": "https://localhost:8080/"
        }
      },
      "execution_count": 12,
      "outputs": [
        {
          "output_type": "execute_result",
          "data": {
            "text/plain": [
              "1    0.500074\n",
              "0    0.499926\n",
              "Name: label, dtype: float64"
            ]
          },
          "metadata": {},
          "execution_count": 12
        }
      ]
    },
    {
      "cell_type": "code",
      "source": [
        "test_bal['label'].value_counts(normalize=True)"
      ],
      "metadata": {
        "id": "L4KxV9nygM6I",
        "outputId": "9bb353c9-0c7a-47ca-a724-6cfc6acaf408",
        "colab": {
          "base_uri": "https://localhost:8080/"
        }
      },
      "execution_count": 13,
      "outputs": [
        {
          "output_type": "execute_result",
          "data": {
            "text/plain": [
              "0    0.500388\n",
              "1    0.499612\n",
              "Name: label, dtype: float64"
            ]
          },
          "metadata": {},
          "execution_count": 13
        }
      ]
    },
    {
      "cell_type": "markdown",
      "source": [
        "## EDA"
      ],
      "metadata": {
        "id": "bxRfLcEQerOA"
      }
    },
    {
      "cell_type": "code",
      "source": [
        "# Separating sarcastic vs non sarcastic comments\n",
        "sarcastic_com = train_bal[train_bal['label'] == 1]\n",
        "non_sarcastic_com = train_bal[train_bal['label'] == 0]"
      ],
      "metadata": {
        "id": "5QAY7ml_oq-h"
      },
      "execution_count": 14,
      "outputs": []
    },
    {
      "cell_type": "code",
      "source": [
        "# # WordCloud for sarcastic comments\n",
        "# wordcloud = WordCloud(width=800, height=400, background_color='white').generate(' '.join(sarcastic_com['comment'].values.ravel()))\n",
        "\n",
        "# # Display the generated word cloud using matplotlib\n",
        "# plt.figure(figsize=(10, 5))\n",
        "# plt.imshow(wordcloud, interpolation='bilinear')\n",
        "# plt.axis('off')\n",
        "# plt.show()"
      ],
      "metadata": {
        "id": "eA_0ybLxesig"
      },
      "execution_count": 15,
      "outputs": []
    },
    {
      "cell_type": "code",
      "source": [
        "# # WordCloud for non-sarcastic comments\n",
        "# wordcloud = WordCloud(width=800, height=400, background_color='white').generate(' '.join(non_sarcastic_com['comment'].values.ravel()))\n",
        "\n",
        "# # Display the generated word cloud using matplotlib\n",
        "# plt.figure(figsize=(10, 5))\n",
        "# plt.imshow(wordcloud, interpolation='bilinear')\n",
        "# plt.axis('off')\n",
        "# plt.show()"
      ],
      "metadata": {
        "id": "NAr7sC4lpEs2"
      },
      "execution_count": 16,
      "outputs": []
    },
    {
      "cell_type": "code",
      "source": [],
      "metadata": {
        "id": "Fn4l2KLpnRkJ"
      },
      "execution_count": 16,
      "outputs": []
    },
    {
      "cell_type": "markdown",
      "source": [
        "# Visualizing Sarcastic Comments by Subreddit"
      ],
      "metadata": {
        "id": "a51uPrvhfN97"
      }
    },
    {
      "cell_type": "code",
      "source": [
        "subreddit_count = sarcastic_com['subreddit'].value_counts()"
      ],
      "metadata": {
        "id": "vH4eEHBohhOY"
      },
      "execution_count": 17,
      "outputs": []
    },
    {
      "cell_type": "code",
      "source": [
        "import matplotlib.pyplot as plt\n",
        "import seaborn as sns\n",
        "top = subreddit_count.head(20)\n",
        "plt.figure(figsize=(10, 6))\n",
        "sns.barplot(x=top.values, y=top.index)\n",
        "plt.xlabel('Number of Sarcastic Comments')\n",
        "plt.ylabel('Subreddit')\n",
        "plt.title('Frequency of Sarcastic Comments by Subreddit')\n",
        "plt.show()\n"
      ],
      "metadata": {
        "id": "MyUb_gYKihvx",
        "outputId": "b6c7d04c-f6fa-4d79-fd2b-ba3f3576175e",
        "colab": {
          "base_uri": "https://localhost:8080/",
          "height": 564
        }
      },
      "execution_count": 18,
      "outputs": [
        {
          "output_type": "display_data",
          "data": {
            "text/plain": [
              "<Figure size 1000x600 with 1 Axes>"
            ],
            "image/png": "[encoded data removed]"
          },
          "metadata": {}
        }
      ]
    },
    {
      "cell_type": "code",
      "source": [
        "import nltk\n",
        "from nltk import word_tokenize, sent_tokenize\n",
        "from nltk.corpus import stopwords\n",
        "from nltk.stem.porter import *\n",
        "nltk.download('punkt')\n",
        "nltk.download('stopwords')\n",
        "\n",
        "import string\n",
        "\n",
        "import gensim\n",
        "from gensim.models.phrases import Phraser, Phrases\n",
        "from gensim.models.word2vec import Word2Vec\n",
        "\n",
        "import spacy # for a lemmatization example\n",
        "\n",
        "from sklearn.manifold import TSNE\n",
        "\n",
        "import pandas as pd\n",
        "from bokeh.io import output_notebook, output_file\n",
        "from bokeh.plotting import show, figure"
      ],
      "metadata": {
        "id": "0070DkpOns2u",
        "outputId": "edd7c78f-e907-4fa7-8b1c-242043290008",
        "colab": {
          "base_uri": "https://localhost:8080/"
        }
      },
      "execution_count": 19,
      "outputs": [
        {
          "output_type": "stream",
          "name": "stderr",
          "text": [
            "[nltk_data] Downloading package punkt to /root/nltk_data...\n",
            "[nltk_data]   Unzipping tokenizers/punkt.zip.\n",
            "[nltk_data] Downloading package stopwords to /root/nltk_data...\n",
            "[nltk_data]   Unzipping corpora/stopwords.zip.\n"
          ]
        }
      ]
    },
    {
      "cell_type": "code",
      "source": [
        "comments = train_bal['comment']"
      ],
      "metadata": {
        "id": "Z1115StdoiGI"
      },
      "execution_count": 20,
      "outputs": []
    },
    {
      "cell_type": "code",
      "source": [
        "comments.info()"
      ],
      "metadata": {
        "id": "EY3sfqD7s9UU",
        "outputId": "6d9c2884-19be-4b16-9fa0-adfa600e8833",
        "colab": {
          "base_uri": "https://localhost:8080/"
        }
      },
      "execution_count": 21,
      "outputs": [
        {
          "output_type": "stream",
          "name": "stdout",
          "text": [
            "<class 'pandas.core.series.Series'>\n",
            "Int64Index: 808618 entries, 522142 to 213871\n",
            "Series name: comment\n",
            "Non-Null Count   Dtype \n",
            "--------------   ----- \n",
            "808618 non-null  object\n",
            "dtypes: object(1)\n",
            "memory usage: 12.3+ MB\n"
          ]
        }
      ]
    },
    {
      "cell_type": "code",
      "source": [
        "comments.dropna(inplace=True)\n",
        "comments.info()"
      ],
      "metadata": {
        "id": "sbjzLRGTtbTO",
        "outputId": "5feffb16-0882-4491-aa0a-66902a8fadab",
        "colab": {
          "base_uri": "https://localhost:8080/"
        }
      },
      "execution_count": 22,
      "outputs": [
        {
          "output_type": "stream",
          "name": "stdout",
          "text": [
            "<class 'pandas.core.series.Series'>\n",
            "Int64Index: 808618 entries, 522142 to 213871\n",
            "Series name: comment\n",
            "Non-Null Count   Dtype \n",
            "--------------   ----- \n",
            "808618 non-null  object\n",
            "dtypes: object(1)\n",
            "memory usage: 12.3+ MB\n"
          ]
        }
      ]
    },
    {
      "cell_type": "code",
      "source": [
        "!pip install dask[delayed]"
      ],
      "metadata": {
        "id": "FGDdd5DDtef4",
        "outputId": "c22a7258-094c-41f1-8280-04bf8c9aa141",
        "colab": {
          "base_uri": "https://localhost:8080/"
        }
      },
      "execution_count": 23,
      "outputs": [
        {
          "output_type": "stream",
          "name": "stdout",
          "text": [
            "Requirement already satisfied: dask[delayed] in /usr/local/lib/python3.10/dist-packages (2023.8.1)\n",
            "Requirement already satisfied: click>=8.0 in /usr/local/lib/python3.10/dist-packages (from dask[delayed]) (8.1.7)\n",
            "Requirement already satisfied: cloudpickle>=1.5.0 in /usr/local/lib/python3.10/dist-packages (from dask[delayed]) (2.2.1)\n",
            "Requirement already satisfied: fsspec>=2021.09.0 in /usr/local/lib/python3.10/dist-packages (from dask[delayed]) (2023.6.0)\n",
            "Requirement already satisfied: packaging>=20.0 in /usr/local/lib/python3.10/dist-packages (from dask[delayed]) (23.2)\n",
            "Requirement already satisfied: partd>=1.2.0 in /usr/local/lib/python3.10/dist-packages (from dask[delayed]) (1.4.1)\n",
            "Requirement already satisfied: pyyaml>=5.3.1 in /usr/local/lib/python3.10/dist-packages (from dask[delayed]) (6.0.1)\n",
            "Requirement already satisfied: toolz>=0.10.0 in /usr/local/lib/python3.10/dist-packages (from dask[delayed]) (0.12.0)\n",
            "Requirement already satisfied: importlib-metadata>=4.13.0 in /usr/local/lib/python3.10/dist-packages (from dask[delayed]) (7.0.1)\n",
            "Requirement already satisfied: zipp>=0.5 in /usr/local/lib/python3.10/dist-packages (from importlib-metadata>=4.13.0->dask[delayed]) (3.17.0)\n",
            "Requirement already satisfied: locket in /usr/local/lib/python3.10/dist-packages (from partd>=1.2.0->dask[delayed]) (1.0.0)\n"
          ]
        }
      ]
    },
    {
      "cell_type": "code",
      "source": [
        "import dask.dataframe as dd\n",
        "from dask import delayed"
      ],
      "metadata": {
        "id": "KJuWYScVtzH6"
      },
      "execution_count": 24,
      "outputs": []
    },
    {
      "cell_type": "code",
      "source": [
        "comment_test = comments.head(10000)"
      ],
      "metadata": {
        "id": "3swTFty9uT5U"
      },
      "execution_count": 25,
      "outputs": []
    },
    {
      "cell_type": "markdown",
      "source": [
        "#Create large function that does this text preprocessing so that it can be used with X_train, also figure out how to split and keep track of data\n"
      ],
      "metadata": {
        "id": "e7PBx8sX9G7V"
      }
    },
    {
      "cell_type": "code",
      "source": [
        "from tensorflow.keras.preprocessing.text import Tokenizer\n",
        "def preprocess(text):\n",
        "  tokenized_comments = batch_tokenize(text.tolist())\n",
        "  phrases = Phrases(tokenized_comments)\n",
        "  bigram = Phraser(phrases)\n",
        "  bigram_comments = [bigram[comment] for comment in tokenized_comments]\n",
        "  tokenizer = Tokenizer(lower=False)\n",
        "  tokenizer.fit_on_texts(bigram_comments)\n",
        "  word_index = tokenizer.word_index\n",
        "  word_size = len(word_index) + 1\n",
        "\n",
        "  # uses tokenizer object with the created word index to make each comment a list of integers corresponding to their index\n",
        "  sequences = tokenizer.texts_to_sequences(bigram_comments)\n",
        "\n",
        "\n",
        "  return word_index, word_size, sequences\n",
        "\n"
      ],
      "metadata": {
        "id": "XU1JbHIV9SjY"
      },
      "execution_count": 26,
      "outputs": []
    },
    {
      "cell_type": "code",
      "source": [
        "#  Replace this?\n",
        "def batch_tokenize(texts, batch_size=50000):\n",
        "    tokenized_texts = []\n",
        "    for i in range(0, len(texts), batch_size):\n",
        "        batch = texts[i:i+batch_size]\n",
        "        tokenized_batch = [word_tokenize(text) for text in batch]\n",
        "        tokenized_texts.extend(tokenized_batch)\n",
        "    return tokenized_texts\n",
        "\n",
        "#tokenized_comments = batch_tokenize(comments.tolist())"
      ],
      "metadata": {
        "id": "PHejGAHduG3r"
      },
      "execution_count": 27,
      "outputs": []
    },
    {
      "cell_type": "code",
      "source": [
        "# len(tokenized_comments)"
      ],
      "metadata": {
        "id": "pRII2opwuchE"
      },
      "execution_count": 28,
      "outputs": []
    },
    {
      "cell_type": "code",
      "source": [
        "#phrases = Phrases(tokenized_comments)"
      ],
      "metadata": {
        "id": "RnAMUB1OvgPU"
      },
      "execution_count": 29,
      "outputs": []
    },
    {
      "cell_type": "code",
      "source": [
        "# bigram = Phraser(phrases)"
      ],
      "metadata": {
        "id": "E01b4TT1mhOi"
      },
      "execution_count": 30,
      "outputs": []
    },
    {
      "cell_type": "code",
      "source": [
        "# bigram.phrasegrams"
      ],
      "metadata": {
        "id": "N5h707SPnWa3"
      },
      "execution_count": 31,
      "outputs": []
    },
    {
      "cell_type": "code",
      "source": [
        "# bigram_comments = [bigram[comment] for comment in tokenized_comments]"
      ],
      "metadata": {
        "id": "ms4C3_EgqlGH"
      },
      "execution_count": 32,
      "outputs": []
    },
    {
      "cell_type": "code",
      "source": [
        "# from tensorflow.keras.preprocessing.text import Tokenizer\n",
        "\n",
        "# tokenizer = Tokenizer(lower=False)\n",
        "# tokenizer.fit_on_texts(bigram_comments)\n",
        "# word_index = tokenizer.word_index\n",
        "\n",
        "# word_index is a dictionary where keys are words and values are their corresponding indices"
      ],
      "metadata": {
        "id": "sT0NTxws3G6W"
      },
      "execution_count": 33,
      "outputs": []
    },
    {
      "cell_type": "code",
      "source": [
        "# len(word_index)"
      ],
      "metadata": {
        "id": "luWWCye73rGV"
      },
      "execution_count": 34,
      "outputs": []
    },
    {
      "cell_type": "code",
      "source": [
        "# word_size = len(word_index) + 1"
      ],
      "metadata": {
        "id": "lT7gO2I94LBb"
      },
      "execution_count": 35,
      "outputs": []
    },
    {
      "cell_type": "code",
      "source": [
        "# #Adjust parameters as needed\n",
        "# size = 150\n",
        "# window = 7\n",
        "# min_count = 15\n",
        "# workers = 4\n",
        "# sg = 1\n",
        "# negative = 5\n",
        "# epochs = 7\n",
        "\n",
        "\n",
        "# model = Word2Vec(bigram_comments, vector_size=size, window=window, min_count=min_count, workers=workers)\n",
        "\n",
        "# # model.save(\"/content/drive/Sarcasm_Data/model/word2vec.w2v\")\n"
      ],
      "metadata": {
        "id": "IN5JoLLGq_-J"
      },
      "execution_count": 37,
      "outputs": []
    },
    {
      "cell_type": "code",
      "source": [
        "# model.save(\"model_embedding.w2v\")"
      ],
      "metadata": {
        "id": "NcOVvoH9UAUZ"
      },
      "execution_count": 38,
      "outputs": []
    },
    {
      "cell_type": "code",
      "source": [
        "# skip re-training the model with the next line:\n",
        "model = gensim.models.Word2Vec.load('/content/drive/MyDrive/word2vec.model')"
      ],
      "metadata": {
        "id": "mDi59BCHTiqi"
      },
      "execution_count": 39,
      "outputs": []
    },
    {
      "cell_type": "code",
      "source": [
        "model.wv['dog']"
      ],
      "metadata": {
        "id": "KTxPfHCxrYEP",
        "outputId": "d7af17ec-8106-406b-cc7e-1b1e2fe84d0f",
        "colab": {
          "base_uri": "https://localhost:8080/"
        }
      },
      "execution_count": 40,
      "outputs": [
        {
          "output_type": "execute_result",
          "data": {
            "text/plain": [
              "array([ 0.90451765,  1.7631044 ,  0.6231895 ,  0.777761  , -0.510725  ,\n",
              "        0.00946851,  0.17777872, -0.10099883, -0.5565152 , -0.7884845 ,\n",
              "        1.0144794 , -1.570673  , -0.8745102 , -0.4505395 , -0.8160293 ,\n",
              "        0.13125573, -0.5152664 , -0.22710656,  1.0006125 , -0.6409768 ,\n",
              "       -1.9435565 ,  1.6426133 , -0.12443724, -0.48832902,  0.6577657 ,\n",
              "       -0.43018162,  0.74570805, -0.84636575, -0.15677069, -0.789554  ,\n",
              "       -0.8159635 ,  0.5740654 ,  0.7666069 ,  1.0616834 , -0.3965836 ,\n",
              "       -0.60506284,  0.3834844 ,  0.34873432,  1.0772258 , -1.2930739 ,\n",
              "        0.04845177, -0.56659   ,  0.44698796,  1.2523938 , -1.1663436 ,\n",
              "        0.381793  , -0.8429205 , -1.2329977 , -1.84278   ,  1.4529505 ,\n",
              "        0.8372087 ,  0.33779916, -1.2361301 ,  1.4015558 ,  1.5104085 ,\n",
              "        1.559361  ,  1.278143  , -0.06229809,  0.8317676 , -0.65179724,\n",
              "        1.0235895 ,  0.48910755,  1.1788733 , -1.1857599 , -0.22784023,\n",
              "        0.41432002,  0.41276404, -0.01175862,  0.4518781 , -0.7300196 ,\n",
              "       -0.8374771 , -0.1387884 , -0.28642485, -0.94883156, -0.6871681 ,\n",
              "        0.3246033 , -0.33149964, -0.1323354 ,  0.8328783 , -1.1397504 ,\n",
              "        0.5808621 , -0.0990453 , -0.509313  ,  0.03035838, -0.20124315,\n",
              "       -0.02489554,  0.64359343,  0.38221067, -0.9810254 , -1.5566046 ,\n",
              "        0.67762977,  1.4499048 ,  0.30009812,  0.57162786, -1.4151525 ,\n",
              "       -1.0221449 ,  0.62477714, -0.48670632,  0.37881532,  1.2678858 ,\n",
              "        1.3101665 ,  0.3186315 ,  0.0356954 , -0.11342485, -0.81428903,\n",
              "       -1.0717608 ,  1.1441368 ,  0.95219266, -0.48588705, -1.5537081 ,\n",
              "        0.7204861 , -0.39527172, -0.60429484, -0.34870103,  0.2203365 ,\n",
              "       -0.22232334,  0.6444871 ,  0.6948056 , -1.8524384 ,  0.17593646,\n",
              "        0.3732253 , -0.18999423, -0.4942816 ,  0.76918936,  0.8966048 ,\n",
              "       -0.35444522, -0.66347706,  0.0872995 , -0.3551005 , -0.5085508 ,\n",
              "        1.4302262 , -0.38396415,  0.39964738, -0.44851458, -0.30252296,\n",
              "        0.28261462,  1.7253313 , -0.65551895, -0.8703985 ,  0.53717774,\n",
              "       -0.51919633, -0.8496332 , -1.3894501 , -0.8018658 ,  1.083469  ,\n",
              "        0.05043231,  0.32045293, -0.5489033 , -2.131886  , -0.628709  ],\n",
              "      dtype=float32)"
            ]
          },
          "metadata": {},
          "execution_count": 40
        }
      ]
    },
    {
      "cell_type": "code",
      "source": [
        "similar_words = model.wv.most_similar('ok')\n",
        "similar_words"
      ],
      "metadata": {
        "colab": {
          "base_uri": "https://localhost:8080/"
        },
        "id": "7GtgNUaAtcQD",
        "outputId": "70a93deb-0eef-4aea-db80-47af975eb54e"
      },
      "execution_count": 41,
      "outputs": [
        {
          "output_type": "execute_result",
          "data": {
            "text/plain": [
              "[('okay', 0.9446449279785156),\n",
              " ('OK', 0.9253052473068237),\n",
              " ('alright', 0.7982171773910522),\n",
              " ('fine', 0.6672182083129883),\n",
              " ('perfectly_fine', 0.642020046710968),\n",
              " ('cool', 0.5878971815109253),\n",
              " ('justified', 0.5626591444015503),\n",
              " ('wrong', 0.5318138599395752),\n",
              " ('understandable', 0.5288909077644348),\n",
              " ('unacceptable', 0.4947114884853363)]"
            ]
          },
          "metadata": {},
          "execution_count": 41
        }
      ]
    },
    {
      "cell_type": "code",
      "source": [
        "model.wv.doesnt_match(\"mother father sister brother dog\".split())"
      ],
      "metadata": {
        "id": "LE74GomRJOWv",
        "outputId": "14df2348-af07-4edc-937f-dbf86b96c9ba",
        "colab": {
          "base_uri": "https://localhost:8080/",
          "height": 36
        }
      },
      "execution_count": 42,
      "outputs": [
        {
          "output_type": "execute_result",
          "data": {
            "text/plain": [
              "'dog'"
            ],
            "application/vnd.google.colaboratory.intrinsic+json": {
              "type": "string"
            }
          },
          "metadata": {},
          "execution_count": 42
        }
      ]
    },
    {
      "cell_type": "code",
      "source": [
        "model.wv.similarity('father', 'dog')"
      ],
      "metadata": {
        "id": "eJcuoTz4JPoP",
        "outputId": "bb3d053a-fe63-47ac-bf40-91cf5a627584",
        "colab": {
          "base_uri": "https://localhost:8080/"
        }
      },
      "execution_count": 43,
      "outputs": [
        {
          "output_type": "execute_result",
          "data": {
            "text/plain": [
              "0.66480863"
            ]
          },
          "metadata": {},
          "execution_count": 43
        }
      ]
    },
    {
      "cell_type": "code",
      "source": [
        "model.wv.most_similar(positive=['father', 'woman'], negative=['man'])   # Should expect mother"
      ],
      "metadata": {
        "id": "ZH0zJ9D0JTAH",
        "outputId": "6f31091b-3b5c-41aa-9696-f614477f812d",
        "colab": {
          "base_uri": "https://localhost:8080/"
        }
      },
      "execution_count": 44,
      "outputs": [
        {
          "output_type": "execute_result",
          "data": {
            "text/plain": [
              "[('mother', 0.7413758039474487),\n",
              " ('child', 0.709227979183197),\n",
              " ('daughter', 0.6811947822570801),\n",
              " ('wife', 0.6779746413230896),\n",
              " ('husband', 0.6702209115028381),\n",
              " ('sister', 0.6224682927131653),\n",
              " ('girlfriend', 0.6099835634231567),\n",
              " ('family', 0.606359601020813),\n",
              " ('teacher', 0.5988774299621582),\n",
              " ('family_member', 0.5981861352920532)]"
            ]
          },
          "metadata": {},
          "execution_count": 44
        }
      ]
    },
    {
      "cell_type": "code",
      "source": [
        "model.wv.most_similar(positive=['husband', 'woman'], negative=['man'])  # Should expect wife"
      ],
      "metadata": {
        "id": "9OBRMbMrJZUa",
        "outputId": "9d878baf-f829-495f-d92d-426d41fe8f51",
        "colab": {
          "base_uri": "https://localhost:8080/"
        }
      },
      "execution_count": 45,
      "outputs": [
        {
          "output_type": "execute_result",
          "data": {
            "text/plain": [
              "[('daughter', 0.7059494853019714),\n",
              " ('mother', 0.6991272568702698),\n",
              " ('child', 0.6818873882293701),\n",
              " ('partner', 0.6637686491012573),\n",
              " ('wife', 0.6501094698905945),\n",
              " ('girlfriend', 0.6445956230163574),\n",
              " ('father', 0.6311219334602356),\n",
              " ('boyfriend', 0.6283386945724487),\n",
              " ('sister', 0.6098517775535583),\n",
              " ('penis', 0.609626293182373)]"
            ]
          },
          "metadata": {},
          "execution_count": 45
        }
      ]
    },
    {
      "cell_type": "markdown",
      "source": [
        "### t-SNE Word Embedding Visualization"
      ],
      "metadata": {
        "id": "eDUAEbPEYVax"
      }
    },
    {
      "cell_type": "code",
      "source": [
        "# tsne = TSNE(n_components=2, n_iter=1000)"
      ],
      "metadata": {
        "id": "r_PTRS5cJfJn"
      },
      "execution_count": 46,
      "outputs": []
    },
    {
      "cell_type": "code",
      "source": [
        "# X_2d = tsne.fit_transform(model.wv[model.wv.key_to_index])\n",
        "# coords_df = pd.DataFrame(X_2d, columns=['x','y'])\n",
        "# coords_df['token'] = model.wv.index_to_key\n",
        "# coords_df.head()\n"
      ],
      "metadata": {
        "id": "RsgHPNmMJqKg"
      },
      "execution_count": 47,
      "outputs": []
    },
    {
      "cell_type": "code",
      "source": [
        "# coords_df.to_csv(\"/content/drive/MyDrive/Sarcasm_Data/coords_df\", index=False)"
      ],
      "metadata": {
        "id": "A8pjccydtFfx"
      },
      "execution_count": 48,
      "outputs": []
    },
    {
      "cell_type": "code",
      "source": [
        "coords_df = pd.read_csv('/content/drive/MyDrive/Sarcasm_Data/coords_df')\n",
        "output_notebook()\n",
        "subset_df = coords_df.sample(n=5000)\n",
        "p = figure(min_width=800, min_height=800)\n",
        "_ = p.text(x=subset_df.x, y=subset_df.y, text=subset_df.token)\n",
        "show(p)"
      ],
      "metadata": {
        "id": "-ZMJHWBWJ0IA",
        "outputId": "13649f50-0fcd-423f-a935-8ea90950a01a",
        "colab": {
          "base_uri": "https://localhost:8080/",
          "height": 817
        }
      },
      "execution_count": 49,
      "outputs": [
        {
          "output_type": "display_data",
          "data": {
            "application/javascript": [
              "(function(root) {\n",
              "  function now() {\n",
              "    return new Date();\n",
              "  }\n",
              "\n",
              "  const force = true;\n",
              "\n",
              "  if (typeof root._bokeh_onload_callbacks === \"undefined\" || force === true) {\n",
              "    root._bokeh_onload_callbacks = [];\n",
              "    root._bokeh_is_loading = undefined;\n",
              "  }\n",
              "\n",
              "const JS_MIME_TYPE = 'application/javascript';\n",
              "  const HTML_MIME_TYPE = 'text/html';\n",
              "  const EXEC_MIME_TYPE = 'application/vnd.bokehjs_exec.v0+json';\n",
              "  const CLASS_NAME = 'output_bokeh rendered_html';\n",
              "\n",
              "  /**\n",
              "   * Render data to the DOM node\n",
              "   */\n",
              "  function render(props, node) {\n",
              "    const script = document.createElement(\"script\");\n",
              "    node.appendChild(script);\n",
              "  }\n",
              "\n",
              "  /**\n",
              "   * Handle when an output is cleared or removed\n",
              "   */\n",
              "  function handleClearOutput(event, handle) {\n",
              "    function drop(id) {\n",
              "      const view = Bokeh.index.get_by_id(id)\n",
              "      if (view != null) {\n",
              "        view.model.document.clear()\n",
              "        Bokeh.index.delete(view)\n",
              "      }\n",
              "    }\n",
              "\n",
              "    const cell = handle.cell;\n",
              "\n",
              "    const id = cell.output_area._bokeh_element_id;\n",
              "    const server_id = cell.output_area._bokeh_server_id;\n",
              "\n",
              "    // Clean up Bokeh references\n",
              "    if (id != null) {\n",
              "      drop(id)\n",
              "    }\n",
              "\n",
              "    if (server_id !== undefined) {\n",
              "      // Clean up Bokeh references\n",
              "      const cmd_clean = \"from bokeh.io.state import curstate; print(curstate().uuid_to_server['\" + server_id + \"'].get_sessions()[0].document.roots[0]._id)\";\n",
              "      cell.notebook.kernel.execute(cmd_clean, {\n",
              "        iopub: {\n",
              "          output: function(msg) {\n",
              "            const id = msg.content.text.trim()\n",
              "            drop(id)\n",
              "          }\n",
              "        }\n",
              "      });\n",
              "      // Destroy server and session\n",
              "      const cmd_destroy = \"import bokeh.io.notebook as ion; ion.destroy_server('\" + server_id + \"')\";\n",
              "      cell.notebook.kernel.execute(cmd_destroy);\n",
              "    }\n",
              "  }\n",
              "\n",
              "  /**\n",
              "   * Handle when a new output is added\n",
              "   */\n",
              "  function handleAddOutput(event, handle) {\n",
              "    const output_area = handle.output_area;\n",
              "    const output = handle.output;\n",
              "\n",
              "    // limit handleAddOutput to display_data with EXEC_MIME_TYPE content only\n",
              "    if ((output.output_type != \"display_data\") || (!Object.prototype.hasOwnProperty.call(output.data, EXEC_MIME_TYPE))) {\n",
              "      return\n",
              "    }\n",
              "\n",
              "    const toinsert = output_area.element.find(\".\" + CLASS_NAME.split(' ')[0]);\n",
              "\n",
              "    if (output.metadata[EXEC_MIME_TYPE][\"id\"] !== undefined) {\n",
              "      toinsert[toinsert.length - 1].firstChild.textContent = output.data[JS_MIME_TYPE];\n",
              "      // store reference to embed id on output_area\n",
              "      output_area._bokeh_element_id = output.metadata[EXEC_MIME_TYPE][\"id\"];\n",
              "    }\n",
              "    if (output.metadata[EXEC_MIME_TYPE][\"server_id\"] !== undefined) {\n",
              "      const bk_div = document.createElement(\"div\");\n",
              "      bk_div.innerHTML = output.data[HTML_MIME_TYPE];\n",
              "      const script_attrs = bk_div.children[0].attributes;\n",
              "      for (let i = 0; i < script_attrs.length; i++) {\n",
              "        toinsert[toinsert.length - 1].firstChild.setAttribute(script_attrs[i].name, script_attrs[i].value);\n",
              "        toinsert[toinsert.length - 1].firstChild.textContent = bk_div.children[0].textContent\n",
              "      }\n",
              "      // store reference to server id on output_area\n",
              "      output_area._bokeh_server_id = output.metadata[EXEC_MIME_TYPE][\"server_id\"];\n",
              "    }\n",
              "  }\n",
              "\n",
              "  function register_renderer(events, OutputArea) {\n",
              "\n",
              "    function append_mime(data, metadata, element) {\n",
              "      // create a DOM node to render to\n",
              "      const toinsert = this.create_output_subarea(\n",
              "        metadata,\n",
              "        CLASS_NAME,\n",
              "        EXEC_MIME_TYPE\n",
              "      );\n",
              "      this.keyboard_manager.register_events(toinsert);\n",
              "      // Render to node\n",
              "      const props = {data: data, metadata: metadata[EXEC_MIME_TYPE]};\n",
              "      render(props, toinsert[toinsert.length - 1]);\n",
              "      element.append(toinsert);\n",
              "      return toinsert\n",
              "    }\n",
              "\n",
              "    /* Handle when an output is cleared or removed */\n",
              "    events.on('clear_output.CodeCell', handleClearOutput);\n",
              "    events.on('delete.Cell', handleClearOutput);\n",
              "\n",
              "    /* Handle when a new output is added */\n",
              "    events.on('output_added.OutputArea', handleAddOutput);\n",
              "\n",
              "    /**\n",
              "     * Register the mime type and append_mime function with output_area\n",
              "     */\n",
              "    OutputArea.prototype.register_mime_type(EXEC_MIME_TYPE, append_mime, {\n",
              "      /* Is output safe? */\n",
              "      safe: true,\n",
              "      /* Index of renderer in `output_area.display_order` */\n",
              "      index: 0\n",
              "    });\n",
              "  }\n",
              "\n",
              "  // register the mime type if in Jupyter Notebook environment and previously unregistered\n",
              "  if (root.Jupyter !== undefined) {\n",
              "    const events = require('base/js/events');\n",
              "    const OutputArea = require('notebook/js/outputarea').OutputArea;\n",
              "\n",
              "    if (OutputArea.prototype.mime_types().indexOf(EXEC_MIME_TYPE) == -1) {\n",
              "      register_renderer(events, OutputArea);\n",
              "    }\n",
              "  }\n",
              "  if (typeof (root._bokeh_timeout) === \"undefined\" || force === true) {\n",
              "    root._bokeh_timeout = Date.now() + 5000;\n",
              "    root._bokeh_failed_load = false;\n",
              "  }\n",
              "\n",
              "  const NB_LOAD_WARNING = {'data': {'text/html':\n",
              "     \"<div style='background-color: #fdd'>\\n\"+\n",
              "     \"<p>\\n\"+\n",
              "     \"BokehJS does not appear to have successfully loaded. If loading BokehJS from CDN, this \\n\"+\n",
              "     \"may be due to a slow or bad network connection. Possible fixes:\\n\"+\n",
              "     \"</p>\\n\"+\n",
              "     \"<ul>\\n\"+\n",
              "     \"<li>re-rerun `output_notebook()` to attempt to load from CDN again, or</li>\\n\"+\n",
              "     \"<li>use INLINE resources instead, as so:</li>\\n\"+\n",
              "     \"</ul>\\n\"+\n",
              "     \"<code>\\n\"+\n",
              "     \"from bokeh.resources import INLINE\\n\"+\n",
              "     \"output_notebook(resources=INLINE)\\n\"+\n",
              "     \"</code>\\n\"+\n",
              "     \"</div>\"}};\n",
              "\n",
              "  function display_loaded() {\n",
              "    const el = document.getElementById(null);\n",
              "    if (el != null) {\n",
              "      el.textContent = \"BokehJS is loading...\";\n",
              "    }\n",
              "    if (root.Bokeh !== undefined) {\n",
              "      if (el != null) {\n",
              "        el.textContent = \"BokehJS \" + root.Bokeh.version + \" successfully loaded.\";\n",
              "      }\n",
              "    } else if (Date.now() < root._bokeh_timeout) {\n",
              "      setTimeout(display_loaded, 100)\n",
              "    }\n",
              "  }\n",
              "\n",
              "  function run_callbacks() {\n",
              "    try {\n",
              "      root._bokeh_onload_callbacks.forEach(function(callback) {\n",
              "        if (callback != null)\n",
              "          callback();\n",
              "      });\n",
              "    } finally {\n",
              "      delete root._bokeh_onload_callbacks\n",
              "    }\n",
              "    console.debug(\"Bokeh: all callbacks have finished\");\n",
              "  }\n",
              "\n",
              "  function load_libs(css_urls, js_urls, callback) {\n",
              "    if (css_urls == null) css_urls = [];\n",
              "    if (js_urls == null) js_urls = [];\n",
              "\n",
              "    root._bokeh_onload_callbacks.push(callback);\n",
              "    if (root._bokeh_is_loading > 0) {\n",
              "      console.debug(\"Bokeh: BokehJS is being loaded, scheduling callback at\", now());\n",
              "      return null;\n",
              "    }\n",
              "    if (js_urls == null || js_urls.length === 0) {\n",
              "      run_callbacks();\n",
              "      return null;\n",
              "    }\n",
              "    console.debug(\"Bokeh: BokehJS not loaded, scheduling load and callback at\", now());\n",
              "    root._bokeh_is_loading = css_urls.length + js_urls.length;\n",
              "\n",
              "    function on_load() {\n",
              "      root._bokeh_is_loading--;\n",
              "      if (root._bokeh_is_loading === 0) {\n",
              "        console.debug(\"Bokeh: all BokehJS libraries/stylesheets loaded\");\n",
              "        run_callbacks()\n",
              "      }\n",
              "    }\n",
              "\n",
              "    function on_error(url) {\n",
              "      console.error(\"failed to load \" + url);\n",
              "    }\n",
              "\n",
              "    for (let i = 0; i < css_urls.length; i++) {\n",
              "      const url = css_urls[i];\n",
              "      const element = document.createElement(\"link\");\n",
              "      element.onload = on_load;\n",
              "      element.onerror = on_error.bind(null, url);\n",
              "      element.rel = \"stylesheet\";\n",
              "      element.type = \"text/css\";\n",
              "      element.href = url;\n",
              "      console.debug(\"Bokeh: injecting link tag for BokehJS stylesheet: \", url);\n",
              "      document.body.appendChild(element);\n",
              "    }\n",
              "\n",
              "    for (let i = 0; i < js_urls.length; i++) {\n",
              "      const url = js_urls[i];\n",
              "      const element = document.createElement('script');\n",
              "      element.onload = on_load;\n",
              "      element.onerror = on_error.bind(null, url);\n",
              "      element.async = false;\n",
              "      element.src = url;\n",
              "      console.debug(\"Bokeh: injecting script tag for BokehJS library: \", url);\n",
              "      document.head.appendChild(element);\n",
              "    }\n",
              "  };\n",
              "\n",
              "  function inject_raw_css(css) {\n",
              "    const element = document.createElement(\"style\");\n",
              "    element.appendChild(document.createTextNode(css));\n",
              "    document.body.appendChild(element);\n",
              "  }\n",
              "\n",
              "  const js_urls = [\"https://cdn.bokeh.org/bokeh/release/bokeh-3.3.3.min.js\", \"https://cdn.bokeh.org/bokeh/release/bokeh-gl-3.3.3.min.js\", \"https://cdn.bokeh.org/bokeh/release/bokeh-widgets-3.3.3.min.js\", \"https://cdn.bokeh.org/bokeh/release/bokeh-tables-3.3.3.min.js\", \"https://cdn.bokeh.org/bokeh/release/bokeh-mathjax-3.3.3.min.js\"];\n",
              "  const css_urls = [];\n",
              "\n",
              "  const inline_js = [    function(Bokeh) {\n",
              "      Bokeh.set_log_level(\"info\");\n",
              "    },\n",
              "function(Bokeh) {\n",
              "    }\n",
              "  ];\n",
              "\n",
              "  function run_inline_js() {\n",
              "    if (root.Bokeh !== undefined || force === true) {\n",
              "          for (let i = 0; i < inline_js.length; i++) {\n",
              "      inline_js[i].call(root, root.Bokeh);\n",
              "    }\n",
              "} else if (Date.now() < root._bokeh_timeout) {\n",
              "      setTimeout(run_inline_js, 100);\n",
              "    } else if (!root._bokeh_failed_load) {\n",
              "      console.log(\"Bokeh: BokehJS failed to load within specified timeout.\");\n",
              "      root._bokeh_failed_load = true;\n",
              "    } else if (force !== true) {\n",
              "      const cell = $(document.getElementById(null)).parents('.cell').data().cell;\n",
              "      cell.output_area.append_execute_result(NB_LOAD_WARNING)\n",
              "    }\n",
              "  }\n",
              "\n",
              "  if (root._bokeh_is_loading === 0) {\n",
              "    console.debug(\"Bokeh: BokehJS loaded, going straight to plotting\");\n",
              "    run_inline_js();\n",
              "  } else {\n",
              "    load_libs(css_urls, js_urls, function() {\n",
              "      console.debug(\"Bokeh: BokehJS plotting callback run at\", now());\n",
              "      run_inline_js();\n",
              "    });\n",
              "  }\n",
              "}(window));"
            ],
            "application/vnd.bokehjs_load.v0+json": "(function(root) {\n  function now() {\n    return new Date();\n  }\n\n  const force = true;\n\n  if (typeof root._bokeh_onload_callbacks === \"undefined\" || force === true) {\n    root._bokeh_onload_callbacks = [];\n    root._bokeh_is_loading = undefined;\n  }\n\n\n  if (typeof (root._bokeh_timeout) === \"undefined\" || force === true) {\n    root._bokeh_timeout = Date.now() + 5000;\n    root._bokeh_failed_load = false;\n  }\n\n  const NB_LOAD_WARNING = {'data': {'text/html':\n     \"<div style='background-color: #fdd'>\\n\"+\n     \"<p>\\n\"+\n     \"BokehJS does not appear to have successfully loaded. If loading BokehJS from CDN, this \\n\"+\n     \"may be due to a slow or bad network connection. Possible fixes:\\n\"+\n     \"</p>\\n\"+\n     \"<ul>\\n\"+\n     \"<li>re-rerun `output_notebook()` to attempt to load from CDN again, or</li>\\n\"+\n     \"<li>use INLINE resources instead, as so:</li>\\n\"+\n     \"</ul>\\n\"+\n     \"<code>\\n\"+\n     \"from bokeh.resources import INLINE\\n\"+\n     \"output_notebook(resources=INLINE)\\n\"+\n     \"</code>\\n\"+\n     \"</div>\"}};\n\n  function display_loaded() {\n    const el = document.getElementById(null);\n    if (el != null) {\n      el.textContent = \"BokehJS is loading...\";\n    }\n    if (root.Bokeh !== undefined) {\n      if (el != null) {\n        el.textContent = \"BokehJS \" + root.Bokeh.version + \" successfully loaded.\";\n      }\n    } else if (Date.now() < root._bokeh_timeout) {\n      setTimeout(display_loaded, 100)\n    }\n  }\n\n  function run_callbacks() {\n    try {\n      root._bokeh_onload_callbacks.forEach(function(callback) {\n        if (callback != null)\n          callback();\n      });\n    } finally {\n      delete root._bokeh_onload_callbacks\n    }\n    console.debug(\"Bokeh: all callbacks have finished\");\n  }\n\n  function load_libs(css_urls, js_urls, callback) {\n    if (css_urls == null) css_urls = [];\n    if (js_urls == null) js_urls = [];\n\n    root._bokeh_onload_callbacks.push(callback);\n    if (root._bokeh_is_loading > 0) {\n      console.debug(\"Bokeh: BokehJS is being loaded, scheduling callback at\", now());\n      return null;\n    }\n    if (js_urls == null || js_urls.length === 0) {\n      run_callbacks();\n      return null;\n    }\n    console.debug(\"Bokeh: BokehJS not loaded, scheduling load and callback at\", now());\n    root._bokeh_is_loading = css_urls.length + js_urls.length;\n\n    function on_load() {\n      root._bokeh_is_loading--;\n      if (root._bokeh_is_loading === 0) {\n        console.debug(\"Bokeh: all BokehJS libraries/stylesheets loaded\");\n        run_callbacks()\n      }\n    }\n\n    function on_error(url) {\n      console.error(\"failed to load \" + url);\n    }\n\n    for (let i = 0; i < css_urls.length; i++) {\n      const url = css_urls[i];\n      const element = document.createElement(\"link\");\n      element.onload = on_load;\n      element.onerror = on_error.bind(null, url);\n      element.rel = \"stylesheet\";\n      element.type = \"text/css\";\n      element.href = url;\n      console.debug(\"Bokeh: injecting link tag for BokehJS stylesheet: \", url);\n      document.body.appendChild(element);\n    }\n\n    for (let i = 0; i < js_urls.length; i++) {\n      const url = js_urls[i];\n      const element = document.createElement('script');\n      element.onload = on_load;\n      element.onerror = on_error.bind(null, url);\n      element.async = false;\n      element.src = url;\n      console.debug(\"Bokeh: injecting script tag for BokehJS library: \", url);\n      document.head.appendChild(element);\n    }\n  };\n\n  function inject_raw_css(css) {\n    const element = document.createElement(\"style\");\n    element.appendChild(document.createTextNode(css));\n    document.body.appendChild(element);\n  }\n\n  const js_urls = [\"https://cdn.bokeh.org/bokeh/release/bokeh-3.3.3.min.js\", \"https://cdn.bokeh.org/bokeh/release/bokeh-gl-3.3.3.min.js\", \"https://cdn.bokeh.org/bokeh/release/bokeh-widgets-3.3.3.min.js\", \"https://cdn.bokeh.org/bokeh/release/bokeh-tables-3.3.3.min.js\", \"https://cdn.bokeh.org/bokeh/release/bokeh-mathjax-3.3.3.min.js\"];\n  const css_urls = [];\n\n  const inline_js = [    function(Bokeh) {\n      Bokeh.set_log_level(\"info\");\n    },\nfunction(Bokeh) {\n    }\n  ];\n\n  function run_inline_js() {\n    if (root.Bokeh !== undefined || force === true) {\n          for (let i = 0; i < inline_js.length; i++) {\n      inline_js[i].call(root, root.Bokeh);\n    }\n} else if (Date.now() < root._bokeh_timeout) {\n      setTimeout(run_inline_js, 100);\n    } else if (!root._bokeh_failed_load) {\n      console.log(\"Bokeh: BokehJS failed to load within specified timeout.\");\n      root._bokeh_failed_load = true;\n    } else if (force !== true) {\n      const cell = $(document.getElementById(null)).parents('.cell').data().cell;\n      cell.output_area.append_execute_result(NB_LOAD_WARNING)\n    }\n  }\n\n  if (root._bokeh_is_loading === 0) {\n    console.debug(\"Bokeh: BokehJS loaded, going straight to plotting\");\n    run_inline_js();\n  } else {\n    load_libs(css_urls, js_urls, function() {\n      console.debug(\"Bokeh: BokehJS plotting callback run at\", now());\n      run_inline_js();\n    });\n  }\n}(window));"
          },
          "metadata": {}
        },
        {
          "output_type": "display_data",
          "data": {
            "text/html": [
              "\n",
              "  <div id=\"d1e820bf-62e6-41e1-b39f-7761c308133f\" data-root-id=\"p1001\" style=\"display: contents;\"></div>\n"
            ]
          },
          "metadata": {}
        },
        {
          "output_type": "display_data",
          "data": {
            "application/javascript": [
              "(function(root) {\n",
              "  function embed_document(root) {\n",
              "  const docs_json = {\"e410d900-6ebd-401a-b966-71f80ff2591d\":{\"version\":\"3.3.3\",\"title\":\"Bokeh Application\",\"roots\":[{\"type\":\"object\",\"name\":\"Figure\",\"id\":\"p1001\",\"attributes\":{\"min_width\":800,\"min_height\":800,\"x_range\":{\"type\":\"object\",\"name\":\"DataRange1d\",\"id\":\"p1002\"},\"y_range\":{\"type\":\"object\",\"name\":\"DataRange1d\",\"id\":\"p1003\"},\"x_scale\":{\"type\":\"object\",\"name\":\"LinearScale\",\"id\":\"p1010\"},\"y_scale\":{\"type\":\"object\",\"name\":\"LinearScale\",\"id\":\"p1011\"},\"title\":{\"type\":\"object\",\"name\":\"Title\",\"id\":\"p1008\"},\"renderers\":[{\"type\":\"object\",\"name\":\"GlyphRenderer\",\"id\":\"p1039\",\"attributes\":{\"data_source\":{\"type\":\"object\",\"name\":\"ColumnDataSource\",\"id\":\"p1033\",\"attributes\":{\"selected\":{\"type\":\"object\",\"name\":\"Selection\",\"id\":\"p1034\",\"attributes\":{\"indices\":[],\"line_indices\":[]}},\"selection_policy\":{\"type\":\"object\",\"name\":\"UnionRenderers\",\"id\":\"p1035\"},\"data\":{\"type\":\"map\",\"entries\":[[\"x\",{\"type\":\"ndarray\",\"array\":{\"type\":\"bytes\",\"data\":\"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\"},\"shape\":[5000],\"dtype\":\"float64\",\"order\":\"little\"}],[\"y\",{\"type\":\"ndarray\",\"array\":{\"type\":\"bytes\",\"data\":\"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\"},\"shape\":[5000],\"dtype\":\"float64\",\"order\":\"little\"}],[\"text\",{\"type\":\"ndarray\",\"array\":[\"r/nba\",\"detrimental\",\"efficiently\",\"itchy\",\"interest_rates\",\"Cooks\",\"makes_sense\",\"hung\",\"HE_'S\",\"John_Cena\",\"ayy_lmao\",\"Btw\",\"advise\",\"personality\",\"Tom_Cruise\",\"Spoilers\",\"critics\",\"parental\",\"google_search\",\"LW\",\"hella\",\"intercourse\",\"basing\",\"Portugal\",\"loan\",\"hopped\",\"deciding\",\"grow_up\",\"gardens\",\"explains_why\",\"traveled\",\"Controller\",\"strangle\",\"grandkids\",\"merit\",\"madness\",\"sympathizer\",\"Matthews\",\"Crisis\",\"n00b\",\"an_infinite\",\"Theo\",\"self-hating\",\"Brooklyn\",\"shorts\",\"reliably\",\"protests\",\"upward\",\"outraged\",\"hooker\",\"Super_Saiyan\",\"Hannity\",\"prius\",\"green\",\"AOL\",\"Horde\",\"Fireball\",\"Taylor\",\"roster\",\"his_teammates\",\"Chuck\",\"plush\",\"vagina\",\"supply_drops\",\"meta\",\"will_gladly\",\"falling_down\",\"industrialized\",\"remember_seeing\",\"single_target\",\"Taco_Bell\",\"gas\",\"Also_known\",\"Stop_victim\",\"health_insurance\",\"mildly\",\"hardest\",\"Multiple\",\"Support\",\"located\",\"1,000\",\"skips\",\"Furious\",\"candy\",\"area\",\"babes\",\"mis\",\"Byron\",\"^^you\",\"MW3\",\"comparing\",\"100_million\",\"tweak\",\"Paying\",\"VPN\",\"astonishing\",\"bipartisan\",\"filling\",\"lava\",\"socialized\",\"fuel\",\"Or\",\"ufc\",\"CAD\",\"KID\",\"My_favorite\",\"overturn\",\"health_care\",\"mass_destruction\",\"Caldwell\",\"RACIST\",\"downhill\",\"Hawks\",\"Titan_X\",\"foxes\",\"Worst\",\"postseason\",\"atheism\",\"pounding\",\"Tom_Brady\",\"desperate\",\"99_%\",\"lines\",\"microphone\",\"permissions\",\"Yankee\",\"jet\",\"wrongdoing\",\"connectors\",\"held_accountable\",\"Makes_perfect\",\"iCloud\",\"depths_of\",\"hooked\",\"distractions\",\"Friend\",\"CCTV\",\"GET_IT\",\"Farm\",\"court\",\"The_technology\",\"falls_under\",\"an_inch\",\"steel_beams\",\"squeeze\",\"definitive\",\"used\",\"conditioning\",\"band_name\",\"raising\",\"pulled_over\",\"delusions\",\"botched\",\"Hipster\",\"pads\",\"Tryndamere\",\"believes\",\"graph\",\"wonder_why\",\"calf\",\"guarantees\",\"an_amazing\",\"relying_on\",\"evil\",\"dam\",\"Ready\",\"nonstop\",\"Specs\",\"decisions\",\"Murray\",\"hon\",\"Taiwan\",\"Philippines\",\"NI\",\"spoiled\",\"month_ago\",\"tangible\",\"get_rekt\",\"fulfilling\",\"contributed\",\"retro\",\"Mmmm\",\"lawful\",\"douchey\",\"Conquest\",\"dimensions\",\"NMS\",\"england\",\"reactionary\",\"movement_speed\",\"mother\",\"inbetween\",\"shudder\",\"only_affects\",\"Mexican\",\"embarrassing\",\"All\",\"Royals\",\"O\",\"Greece\",\"sprite\",\"resorting\",\"feeble\",\"Skin\",\"A_LOT\",\"boston\",\"CAN_NOT\",\"wannabe\",\"slightly_less\",\"pssh\",\"lan\",\"10_min\",\"catcher\",\"2006\",\"seriously_doubt\",\"questioning\",\"give_birth\",\"compared\",\"foul\",\"destroy\",\"erotica\",\"saber\",\"DO_N'T\",\"ecstatic\",\"Looks_legit\",\"comes_from\",\"markup\",\"Crunch\",\"stoning\",\"Mormons\",\"SMITE\",\"buddies\",\"killings\",\"Heroin\",\"LOOKS_LIKE\",\"m4\",\"pretty_sweet\",\"meal\",\"fps\",\"defamation\",\"CSGO\",\"letters\",\"Rayman\",\"GET_A\",\"liability\",\"surveys\",\"nevermind\",\"stunts\",\"apes\",\"newbies\",\"George\",\"raps\",\"followers\",\"Need\",\"Kiev\",\"inefficient\",\"sector\",\"recorded\",\"trio\",\"..........\",\"gospel\",\"interesting\",\"nursing\",\":_O\",\"Protip_:\",\"files\",\"flesh\",\"bruh\",\"Good_Guy\",\"noodles\",\"sneakers\",\"peen\",\"FLAC\",\"suburban\",\"Congratulations\",\"processors\",\"Canadians\",\"neat\",\"bacteria\",\"Captain_America\",\"large_scale\",\"anti-semitic\",\"patented\",\"savior\",\"peoples\",\"shoots\",\"mountain_dew\",\"past_couple\",\"anecdotal\",\"phone_number\",\"Flusha\",\"late_game\",\"Prob\",\"was\",\"happened\",\"fired\",\"notifications\",\"AN\",\"absence\",\"California\",\"scrim\",\"concede\",\"london\",\"diabetic\",\"spectator\",\"Trump_supporter\",\"committed_by\",\"Hardy\",\"grief\",\"Tristana\",\"offerings\",\"whoring\",\"Looking_at\",\"funny\",\"Radical\",\"Patriot_Act\",\"Spain\",\"failed\",\"locker\",\"Doubt\",\"*_sigh\",\"charities\",\"alphabet\",\"Production\",\"Office\",\"Amsterdam\",\"Dis\",\"Hannibal\",\"reflexes\",\"blankets\",\"Costa\",\"salary_cap\",\"my_birthday\",\"restroom\",\"smelled\",\"emojis\",\"WHILE\",\"fuckin_'\",\"ms\",\"Pennsylvania\",\"focused\",\"resolved\",\"nou\",\"Palace\",\"before_deciding\",\"psu\",\"an_external\",\"staying\",\"ignition\",\"Nade\",\"tastes\",\"4_years\",\"stand_corrected\",\"'free\",\"aligned_with\",\"2003\",\"Bones\",\"nerf\",\"future_generations\",\"Coyotes\",\"whites\",\"reading_comprehension\",\"terrain\",\"high_tier\",\"goof\",\"evens_out\",\"blowout\",\"different\",\"tender\",\"Your_comment\",\"THERE_IS\",\"Instagram\",\"families\",\"Miles\",\"2nd_Amendment\",\"satisfied_with\",\"beside\",\"Maps\",\"despite_being\",\"stop_acting\",\"Teddy\",\"Meh\",\"smarter_than\",\"her_daughter\",\"pesky\",\"lesser\",\"ya_know\",\"eight_years\",\"Ness\",\"hicks\",\"creative\",\"beyond\",\"1\",\"main_reason\",\"partnership\",\"dangerous\",\"TONS\",\"Lucy\",\"Zionists\",\"Farmville\",\"Been\",\"techies\",\"Louis_CK\",\"tragedies\",\"spheres\",\"pat\",\"striking\",\"USA_USA\",\"Wut\",\"brew\",\"browse_reddit\",\"Buzz\",\"Pull\",\"immensely\",\"generalizations\",\"fruition\",\"acronym\",\"Cult\",\"Knew\",\"aerodynamics\",\"(_ie\",\"rising\",\"Dungeons\",\"wasting_time\",\"Chill\",\"Brad\",\"turkey\",\"cure\",\"Nutella\",\"enthusiasm\",\"availability\",\"got\",\"upon_us\",\"teeth\",\"whether\",\"back_seat\",\"Allu\",\"Medusa\",\"an_odd\",\"UPDATE\",\"converts\",\"brought\",\"chin\",\"motorcycle\",\"Youtube\",\"Allo\",\"WAS_A\",\"charts\",\"swipe\",\"subsequent\",\"In\",\"hosted\",\"stances\",\"15\",\"'ve_learned\",\"archaic\",\"murderer\",\"murdering\",\"SO_MUCH\",\"Oh_yeah\",\"38\",\"repaired\",\"reputable_source\",\"jurisdiction\",\"buyer\",\"phallic\",\"supplying\",\"roids\",\"sane_person\",\"meetings\",\"delete\",\"Channel\",\"240p\",\"Canon\",\"Genji\",\"microsoft\",\"euro\",\"cleaner\",\"articles\",\"logically\",\"Texan\",\"adopt\",\"playoff_game\",\"Captain_Obvious\",\"Fredbear\",\"for_clarifying\",\"Upvoted_for\",\"rival\",\"carnage\",\"acceptable\",\"propeller\",\"sounded_like\",\"roll\",\"Busch\",\"LINE\",\"Horror\",\"whiteness\",\"mental_disorder\",\"Hulu\",\"Watch\",\"penny\",\"conspiracy_theories\",\"Check\",\"anyways\",\"tears\",\"Villa\",\"Torture\",\"trinity\",\"wheel\",\"mirrored\",\"1992\",\"oppress\",\"Practice\",\"could_argue\",\"blond\",\"ticket\",\"PKA\",\"chant\",\"clone\",\"commonwealth\",\"disappointed\",\"Mid\",\"Puerto_Rico\",\"U2\",\"who_wants\",\"1.\",\"SI\",\"history_class\",\"flair_checks\",\"corporation\",\"African_Americans\",\"Parts\",\"Thats_why\",\"has_been\",\"plains\",\"Fighting\",\"b\",\"mistake\",\"Trilogy\",\"begs\",\"Luckily\",\"Hel\",\"dinosaurs\",\"Darkness\",\"doomed\",\"muddy\",\"finest\",\"soo\",\"6+\",\"Sun\",\"offenders\",\"sam\",\"Noble\",\"min\",\"Lesbians\",\"chromosomes\",\"totally\",\"Leeroy\",\"collectively\",\"laundry\",\"fulfill\",\"crossed\",\"March\",\"fossil\",\"fist\",\";_p\",\"'ll_admit\",\"5-7\",\"important_thing\",\"WHEN\",\"Cool_story\",\"SC2\",\"sacked\",\"den\",\"Wolverine\",\"como\",\"Shulk\",\"worldnews\",\"Ooh\",\"achievements\",\"an_STD\",\"solar_panels\",\"Patton\",\"fade\",\"HuffPo\",\"secretly\",\"codes\",\"retailers\",\"dilute\",\"Monopoly\",\"BY\",\"clears\",\"local_news\",\"private_jet\",\"flamed\",\"holy_shit\",\"funded_by\",\"car_accidents\",\"note\",\"low\",\"GW2\",\"Evolve\",\"our_glorious\",\"simultaneously\",\"headache\",\"taught_me\",\"calendar\",\"aside\",\"less_than\",\"MORE_THAN\",\"cgi\",\"Increase\",\"birth_certificate\",\"shaco\",\"donuts\",\"HAVE_A\",\"golem\",\"passenger\",\"Might_want\",\"Sauron\",\"full_retard\",\"Minister\",\"comfort\",\"substance\",\"Mein_Kampf\",\"she_deserves\",\"discrete\",\"Brain\",\"pretty_good\",\"which\",\"arcane\",\"Han\",\"during\",\"arrogant\",\"Capitalism\",\"bleeds\",\"bike_lane\",\"ikr\",\"Shill\",\"portray\",\"commie\",\"grabs\",\"secured\",\"servers\",\"carried\",\"follower\",\"runs\",\"Factory\",\"un\",\"an_elite\",\"imagine\",\"ge\",\"Raving_Raving\",\"Oh_noes\",\"Fox_news\",\"get_sued\",\"New_Years\",\"tribe\",\"moeten\",\"tendies\",\"Julia\",\"crave\",\"Sheesh\",\"access\",\"important\",\"golden\",\"tax_money\",\"Origin\",\"brain_damage\",\"otherkin\",\"not_necessarily\",\"copies\",\"community_service\",\"Cosby\",\"Subway\",\"defends\",\"walk\",\"jedi\",\"mothership\",\"Prime_Minister\",\"Central\",\"thousand_years\",\"tiny_hands\",\"genuinely\",\"CUCK\",\"Embrace\",\"wishes\",\"af\",\"LeBlanc\",\"my_grandma\",\"40_year\",\"comparison\",\"max_level\",\"37\",\"fault_somehow\",\"forth\",\"HURR_DURR\",\"AV\",\"hinder\",\"22_year\",\"communities\",\"planned\",\"Gentlemen\",\"few_minutes\",\"farts\",\"invest_in\",\"fuckery\",\"ti\",\"decision\",\"Jersey\",\"o-line\",\"notorious_for\",\"Lexus\",\"HILARIOUS\",\"resolutions\",\"retailer\",\"Sexism\",\"media_outlets\",\"follow\",\"opposite\",\"Taurus\",\"undergrad\",\"faze\",\"wine\",\"thumbs\",\"succeeded\",\"MT\",\"or_whatever\",\"heart_attacks\",\"ripping\",\"480p\",\"Wonder_why\",\"Idk\",\";_P\",\"David\",\"gained\",\"STEALING\",\"sandbox\",\"ammendment\",\"care_about\",\"Randle\",\"entire_thread\",\"God_bless\",\"more_effective\",\"down_votes\",\"scheme\",\"in_advance\",\"grainy\",\"fake_news\",\"Jerry\",\"Rob\",\"prestigious\",\"camped\",\"c9\",\"Mississippi\",\"GET_THE\",\"current_events\",\"murican\",\"dinosaur\",\"Cowboy\",\"La\",\"24th\",\"per_se\",\"old_lady\",\"attacks\",\"Should\",\"seriously_considering\",\"explosives\",\"scoring\",\"waiting\",\"imply\",\"Akali\",\"bern\",\"last_season\",\"shack\",\"unchecked\",\"volume\",\"bombs\",\"syntax\",\"next_expansion\",\"takeover\",\"Both_sides\",\"low_tier\",\"dragging\",\"SEEN\",\"giving\",\"definitly\",\"har_har\",\"stays\",\"blaster\",\"td\",\"hacks\",\"literacy\",\"struggles\",\"ban_guns\",\"Supposedly\",\"ppl\",\"y\",\"SAYING\",\"patronizing\",\"meltdown\",\":_/\",\"Dreams\",\"ADCs\",\"inconsequential\",\"allows\",\"pockets\",\"move_forward\",\"Prime\",\"WE_WANT\",\"most\",\"End\",\"unimportant\",\"PDF\",\"CUZ\",\"conventional\",\"MEAN\",\"nationalist\",\"40_hours\",\"STOP_BEING\",\"traffic\",\"especially_when\",\"Melbourne\",\"their_husbands\",\"bucks\",\"silly\",\"libtards\",\"widows\",\"DZ\",\"arming\",\"DC\",\"spirits\",\"Beck\",\"stored\",\"legit\",\"BUT_BUT\",\"informed\",\"Panama\",\"beta\",\"I'ma\",\"Social\",\"LOW\",\"paradise\",\"recieved\",\"Cool\",\"Hispanics\",\"9-5\",\"laughing_at\",\"black_president\",\"interfering_with\",\"labeled_as\",\"an_alternative\",\"mutant\",\"hitboxes\",\"AP\",\"Russian\",\"an_anti-Semite\",\"start_crying\",\"Jerk\",\"honesty\",\"18_months\",\"Venus\",\"Pool\",\"baddies\",\"arresting\",\"rabbits\",\"sleeve\",\"IKR\",\"disk\",\"whoops\",\"tax_returns\",\"Wallace\",\"descendants\",\"Linux\",\"Machine\",\"cleaned\",\"awhile\",\"forever\",\"2009\",\"humorous\",\"150\",\"ticking\",\"Spent\",\"an_Aussie\",\"clearing\",\"Lets\",\"foster_care\",\"bite\",\"Back\",\"ninja\",\"disregard\",\"existing\",\"jaw\",\"Obama_administration\",\"exempt_from\",\"Ohhhhh\",\"regen\",\"crit\",\"Whitney\",\"turrets\",\"Bought\",\"open-minded\",\"BROKEN\",\"Lenovo\",\"suggesting\",\"crimes\",\"30,000\",\"confuse\",\"popularity\",\"movements\",\"screw_over\",\"Call_me\",\"superficial\",\"Visa\",\"breaking_news\",\"As_opposed\",\"speak_American\",\"toes\",\"cert\",\"have_gotten\",\"considerate\",\"EZ\",\"STEM\",\"pve\",\"Leg\",\"their_own\",\"Pentium\",\"25_years\",\"jackpot\",\"denier\",\"nades\",\"Galio\",\"generic\",\"slot\",\"20_%\",\"boobies\",\"non-white\",\"cishet_white\",\"neighbour\",\"pace\",\"draws\",\"Brutal\",\"unhealthy\",\"have_added\",\"ND\",\"vitamins\",\"WAKE_UP\",\"Milner\",\"prominent\",\"fair_comparison\",\"Never_forget\",\"sanitary\",\"Ryze\",\"particle\",\"parasite\",\"Shut\",\"zero_tolerance\",\"United_Kingdom\",\"persons\",\"aging\",\"Nice_username\",\"remaster\",\"under\",\"Ray_Rice\",\"fluffy\",\"Atheist\",\"little_boys\",\"$_200\",\"deploy\",\"leafs\",\"Alex_Jones\",\"Shitpost\",\"their_ancestors\",\"T1\",\"accidents\",\"Fans\",\"occur\",\"wears\",\"reclaim\",\"doomsday\",\"shots_fired\",\"hopeless\",\"super_rare\",\"leading\",\"beneath\",\"cattle\",\"basically\",\"Costa_Rica\",\"fiend\",\"Water\",\"passives\",\"use\",\"wither\",\"rural\",\"recoil\",\"insure\",\"The_Witcher\",\"hot_girls\",\"hi\",\"Please_stop\",\"coop\",\"beer\",\"lookin_'\",\"Melania\",\"us\",\"Johnny_Depp\",\"BACK\",\"start_smoking\",\"stadiums\",\"Mar\",\"Maryland\",\"YOU_'RE\",\"enter\",\"Titanfall\",\"Rust\",\"scratching\",\"WV\",\"migrants\",\"farmers\",\"subsidy\",\"vag\",\"#_flintstones\",\"cocoa\",\"kingdom\",\"Better_yet\",\"gun_nuts\",\"india\",\"Jon_Stewart\",\"Zeus\",\"shortly\",\"sleep_tonight\",\"imperialist\",\"North\",\"RX_480\",\"becomes\",\"feared_for\",\"fair_amount\",\"STARBUCKS_STARBUCKS\",\"clarified\",\"Servers\",\"Apples\",\"Jimmy_Fallon\",\"tenth\",\"scroll_through\",\"top_20\",\"shittier\",\"feminine\",\"financial_crisis\",\"Install\",\"Gamergate\",\"vaping\",\"distracted_by\",\"Emergency\",\"homeowner\",\"please\",\"sin\",\"grace\",\"deep_breath\",\"concussions\",\"injury\",\"pretty_much\",\"playtime\",\"Guilty\",\"Bernie_Sanders\",\"surgeries\",\"around_town\",\"blinds\",\"house\",\"consensus\",\"cloud\",\"discriminated_against\",\"fast_food\",\"incorrect\",\"stay\",\"ROLL\",\"kosher\",\"stole\",\"This_guy\",\"Ale\",\"same_thing\",\"Magazine\",\"Catalonia\",\"CZ\",\"professional\",\"our_bodies\",\"public\",\"pupper\",\"Neat\",\"likely\",\"driving\",\"TB\",\"Dudes\",\"whiners\",\"Racing\",\"inspired\",\"New_York\",\"HL\",\"indie_game\",\"home\",\"getting_arrested\",\"BECAUSE_THEY\",\"crashes\",\"West_Virginia\",\"variables\",\"Asian_women\",\"surrounds\",\"interns\",\"Virgin\",\"I\",\"an_award\",\"inbred\",\"adding\",\"Fat\",\"find_out\",\"cis-gendered\",\"million\",\"Abathur\",\"strive\",\"bowl\",\"no-one\",\"hum\",\"ssd\",\"young_girls\",\"Brazilian\",\"bait\",\"U_R\",\"mortgages\",\"rape_victims\",\"thee\",\"FYI\",\"Said\",\"Bam\",\"weighing\",\"subliminal\",\"people\",\"an_argument\",\"JVR\",\"League\",\"mug\",\"snowball\",\"devastated\",\"Ward\",\"bulk\",\"upsetting\",\"float\",\"Catholic_Church\",\"meepo\",\"says_hi\",\"treason\",\"few_days\",\"unskilled\",\"iv\",\"O.o\",\"millionaires\",\"edit\",\"Hashtag\",\"slave\",\"Independent\",\"credibility\",\"bare\",\"c'mon\",\"wide_open\",\"clutch\",\"rekt\",\"perpetual\",\"The_Room\",\"Dumb\",\"sub-par\",\"party\",\"YOU_WILL\",\"religious_freedom\",\"cut_off\",\"championships\",\"Hillary_won\",\"front_runner\",\"puppies\",\"affiliate\",\"literal\",\"recognizable\",\"47\",\"HL3\",\"criticize\",\"boiling\",\"brewing\",\"settles\",\"upvotes\",\"Obi-Wan\",\"their_careers\",\"prosecuted\",\"trails\",\"sau\",\"endanger\",\"Photos\",\"BY_THE\",\"Karl\",\"yr_old\",\"mlg\",\"motivator\",\"amazingly\",\"COMMIE\",\"lp\",\"Republican\",\"UP\",\"instruments\",\"Comic\",\"granny\",\"CD\",\"CONSOLE\",\"Until\",\"closure\",\"inception\",\"responded\",\"dinner\",\"giant\",\"Stafford\",\"gigs\",\"suicide_bombers\",\"Walking\",\"handling\",\"wacky\",\"C'mon_guys\",\"rumour\",\"Colt\",\"Android_phone\",\"you\",\"don\",\"cropped\",\"shining_beacon\",\"sound_logic\",\"Baron\",\"compelling\",\"your_parents\",\"junk_food\",\"happened_before\",\"concentration\",\"spanish\",\"Long\",\"exception\",\"winrate\",\"someone_mentions\",\"Whites\",\"crickets\",\"lesson\",\"Sugar\",\"AR-15\",\"stages\",\"holes\",\"HRT\",\"portable\",\"Protestant\",\"Legally\",\"Scotland\",\"misconception\",\"Auburn\",\"supporting\",\"physically\",\"selected\",\"sex_offender\",\"bernie\",\"obtain\",\"Drouin\",\"comic\",\"Bundy\",\"Sol\",\"heaps_of\",\"taint\",\"infections\",\"frustrated\",\"Trump_wins\",\"ako\",\"Rule_2\",\"rely\",\"ANOTHER\",\";_}\",\"#_s\",\"Intelligence\",\"Winner\",\"Post\",\"discriminate_against\",\"Superbowl\",\"wrecking\",\"permission\",\"fear_mongering\",\"promise\",\"taken_down\",\"auto_industry\",\"seperate\",\"pierce\",\"explain_why\",\"NAH\",\"tech\",\"rude\",\"pan\",\"gon\",\"private\",\"risen\",\"usage\",\"Goodbye\",\"Sharon\",\"fun\",\"hunter\",\"triggers\",\"touchscreen\",\"grills\",\"In_addition\",\"So_glad\",\"American_culture\",\"kya\",\"retain\",\"4v5\",\"takes\",\"AoE\",\"behind_bars\",\"while_simultaneously\",\"Killed\",\"doesnt\",\"kk\",\"Bingo\",\"tier_1\",\"immune_system\",\"now\",\"equipment\",\"Justin\",\"employees\",\"imagined\",\"am_sure\",\"Roll\",\"aggression\",\"tend_to\",\"spinning\",\"cute_girl\",\"girly\",\"market\",\"getting_fired\",\"intensive\",\"Mum\",\"US\",\"deprived\",\"list\",\"zoo\",\"an_addict\",\"distrust\",\"allowed\",\"describe\",\"exits\",\"Oppression\",\"making\",\"dumb_enough\",\"Karma\",\"rapier\",\"Piece\",\"youth\",\"Hold\",\"forgetting\",\"Hernandez\",\"cow\",\"restore\",\"Civ\",\"directed\",\"Movement\",\"Gretzky\",\"5_minutes\",\"pledge\",\"NO_IT\",\"Virtual\",\"Seal\",\"marry_her\",\"FRIENDS\",\"Til\",\"both_parties\",\"Klan\",\"dressed\",\"FTFY\",\"PRO\",\"Buster\",\"paedophile\",\"pretty_clear\",\"owner\",\"swole\",\"Moscow\",\"level_headed\",\"confirmed\",\"Insert\",\"Rush\",\"Seattle\",\"desperately\",\"jump_ship\",\"]_]\",\"oilers\",\"As_long\",\"anticipated\",\"vaccinations\",\"blasphemous\",\"shamed\",\"Tim_Tebow\",\"Anecdotal_evidence\",\"Loving\",\"injections\",\"Language\",\"every_aspect\",\"yah\",\"ASK\",\"SEND\",\"unlocked\",\"WHAT\",\"FTW\",\"beads\",\"bonuses\",\"named_after\",\"scored\",\"object\",\"Forbes\",\"shitbag\",\"wired\",\"barge\",\"liquor_store\",\"dangers_of\",\"BLOW\",\"shooter\",\"charitable\",\"goal_scorer\",\"eater\",\"Bucs\",\"Insane\",\"run_faster\",\"idiots_who\",\"loli\",\"PSN_:\",\"shouldve\",\"disproportionately\",\"leaning\",\"associate_with\",\"healthy_relationship\",\"Sources\",\"our_freedoms\",\"everyone_else\",\"Denny\",\"Olly\",\"internally\",\"sacrificed\",\"DMG\",\"thrown\",\"romantic\",\"flawed\",\"their_respective\",\"mental_illnesses\",\"Mecca\",\"info\",\"humanities\",\"Bruce_Lee\",\"stands_for\",\"withdrawal\",\"honorable\",\"Tea\",\"job_creation\",\"SHE_'S\",\"bankrupt\",\"argue_against\",\"doch\",\"euros\",\"competing\",\"Islamophobic\",\"devotion\",\"Account\",\"gaining\",\"compensated\",\"5/7\",\"left_side\",\"fundies\",\"hideous\",\"tinfoil\",\"Uplay\",\"our_beloved\",\"Vardy\",\"tar\",\"big_deal\",\"proc\",\"raider\",\"Nintendo_games\",\"seemed_pretty\",\"severely\",\"mature_enough\",\"slaughter\",\"C++\",\"representatives\",\"freakin\",\"Ladies\",\"overboard\",\"sensationalist\",\"boosters\",\"adds\",\"aids\",\"dope\",\"SM\",\"Absolutely\",\"fight_against\",\"CANCER\",{\"type\":\"number\",\"value\":\"nan\"},\"eligible\",\"passport\",\"hollywood\",\"nets\",\"republic\",\"God_damn\",\"wallets\",\"disprove\",\"beginner\",\"Kids\",\"mac\",\"dick\",\"urinals\",\"Jordan\",\"compete_with\",\"videos\",\"Trash\",\"btc\",\"behavioral\",\"professionally\",\"reserves\",\"alt\",\"supremacy\",\"Yea_cause\",\"AGAIN\",\"came_back\",\"Native\",\"kill_themselves\",\"humid\",\"affairs\",\"thay\",\"infact\",\"crop\",\"enraged\",\"organs\",\"Geoff\",\"tones\",\"bribe\",\"Enterprise\",\"guilty_until\",\"int\",\"symptom\",\"my_hopes\",\"summoning\",\"jackdaw\",\"Greg\",\"Lords\",\"publicly\",\"prosthetic\",\"Your_dad\",\"'s_liberation\",\"neo\",\"KO\",\"dying\",\"lad\",\"intent\",\"caliber\",\"AS_A\",\"exam\",\"suppliers\",\"banker\",\"junkies\",\"s1mple\",\"suspended\",\"rotated\",\"URF\",\"tips_fedora\",\"yells\",\"wheres\",\"how\",\"renters\",\"criticise\",\"decide_whether\",\"angles\",\"human_beings\",\"Reminds_me\",\"AZ\",\"fullscreen\",\"Chronicles\",\"nose\",\"conversations\",\"bliss\",\"dumb_bitch\",\"teenager\",\"singer\",\"an_idiot\",\"robotics\",\"optimal\",\"mein\",\"waters\",\"subsidized\",\"euphoria\",\"being_attracted\",\"deficiency\",\"cults\",\"Battle\",\"clitoris\",\"sideways\",\"PC_gamers\",\"professions\",\"mayo\",\"federation\",\"pages\",\"AND\",\"tons_of\",\"28th\",\"Slayer\",\"Simpsons\",\"Challenge_accepted\",\"shopping\",\"hair\",\"wholesome\",\"Same\",\"BEEN\",\"theme\",\"caramel\",\"stash\",\"personal_experience\",\"mindless\",\"Saturn\",\"muffin\",\"wasting\",\"operations\",\"those_pesky\",\"albino\",\"major\",\"their_bootstraps\",\"fearing\",\"Jacksonville\",\"unite\",\"Idaho\",\"mystic\",\"screwing\",\"Illegal\",\"immediately_after\",\"Bible_Belt\",\"artist\",\"agreeing\",\"rock\",\"TT\",\"sadly\",\"cake\",\"Sandwich\",\"alt_account\",\"snip\",\"blasted\",\"Industry\",\"executives\",\"ceremony\",\"notepad\",\"unconscious\",\"governance\",\"Hai\",\"revamp\",\"digital\",\"addicting\",\"Nader\",\"Bloodborne\",\"pathetic\",\"X-Files\",\"matched_with\",\"moveset\",\"strongly_worded\",\"TRAIN\",\"shy\",\"THIS\",\"lsd\",\"Starting\",\"disrespecting\",\"being_rude\",\"attitude\",\"Parkinson_'s\",\"Sorry_forgot\",\"puzzle\",\"Bruno\",\"riot\",\"States\",\"DOT\",\"Royce\",\"crown\",\"Tell_us\",\"Shooting\",\"questo\",\"clean\",\"American_politics\",\"anal_sex\",\"higher_taxes\",\"older_brother\",\"exactly\",\"Absolute\",\"entering\",\"prettier\",\"stare\",\"MPH\",\"matched\",\"implement\",\"Hooray\",\"phew\",\"backlash\",\"Spongebob\",\"ordinance\",\"constitution\",\"Seth\",\"approaches\",\"u_wan\",\"warned\",\"unable_to\",\"negotiations\",\"dedicate\",\"cherry\",\"EDIT\",\"vindictive\",\"realization\",\"consumer\",\"black_market\",\"lever\",\"hackers\",\"healers\",\"next_season\",\"EXCEPT\",\"aint\",\"inconvenience\",\"dedicated\",\"Classic\",\"centre\",\"The_Rock\",\"YES\",\"drunken\",\"Dictator\",\"mas\",\"bugs\",\"platforms\",\"final_boss\",\"slide\",\"completely_agree\",\"South_Carolina\",\"Start\",\"'ve_noticed\",\"Xanax\",\"half_hour\",\"vibrations\",\"41\",\"keep_telling\",\"elusive\",\"rubber\",\"backdoor\",\"Blackberry\",\"skyline\",\"floors\",\"Inception\",\"15k\",\"ten\",\"chiefs\",\"illegitimate\",\"The_Office\",\"factors\",\"South\",\"semi\",\"xenophobes\",\"brawl\",\"little_sister\",\"fighters\",\"scheduling\",\"CHEESE\",\"leather\",\"iMac\",\"blessed\",\"annoyance\",\"buffs\",\"Person\",\"nom\",\"scumbags\",\"Ryu\",\"handles\",\"nervous\",\"cycle\",\";\",\"IV\",\"high\",\"Jenna\",\"starcraft\",\"Falls\",\"monument\",\"oxygen\",\"Gold\",\"500_years\",\"chute\",\"pen\",\"told\",\"Cheney\",\"generally\",\"LEAVE\",\"compensation\",\"synth\",\"Maori\",\"Studio\",\"exclude\",\"much_easier\",\"difficulties\",\"bumping\",\"fiction\",\"famine\",\"classical\",\"traumatized\",\"pricks\",\"club\",\"exploited\",\"Slavery\",\"policing\",\"always\",\"specify\",\"Repost\",\"chem_trails\",\"Curse\",\"machines\",\"unit\",\"Date\",\"mumble\",\"forum\",\"goodbye\",\"anxiety\",\"6.5\",\"while_eating\",\"Thanks_for\",\"scrolls\",\"classics\",\"EVERYBODY\",\"promoted\",\"Tracer\",\"RESPECT\",\"browser\",\"Best_Korea\",\"sucking\",\"rengar\",\"judgment\",\"Asylum\",\"ITT_:\",\"AFC\",\"Cliff\",\"qualifies_as\",\"pies\",\"unforgivable\",\"capitalize\",\"brat\",\"Garcia\",\"frosting\",\"HoF\",\"John_Oliver\",\"Christian_nation\",\"IS_NOT\",\"WDC\",\"ES\",\"TK\",\"researching\",\"gather\",\"resurrect\",\"contribution\",\"nicely\",\"skepticism\",\"dresses\",\"detriment\",\"PRESIDENT\",\"mentions\",\"kill_himself\",\"stand\",\"jack\",\"Sexy\",\"TCU\",\"Ron_Paul\",\"FFA\",\"an_upstanding\",\"Hilary\",\"so_many\",\"spoiler_tag\",\"offends_me\",\"grappling\",\"joy\",\"hah\",\"Twitter_account\",\"heater\",\"triple_double\",\"executed\",\"FIND\",\"reviewers\",\"Fun_fact\",\"requested\",\"forming\",\"Downvote\",\"liked\",\"Renegades\",\"competence\",\"overclocked\",\"forward_thinking\",\"drills\",\"deluded\",\"check_out\",\"remembering\",\"straight_line\",\"stupid_questions\",\"vomiting\",\"LFG\",\"Lin\",\"PTR\",\"roof\",\"threat\",\"liner\",\"finds\",\"obv\",\"most_places\",\"Good\",\"Stop_making\",\"neckbeards\",\"streaks\",\"marching\",\"Death\",\"knots\",\"pop_up\",\"canada\",\"cammer_pissed\",\"volleyball\",\"actresses\",\"comes_along\",\"messenger\",\"smart_enough\",\"Bounty\",\"bueno\",\"anybody_else\",\"Wall_Street\",\"BECAUSE_THE\",\"bored\",\"Ritual\",\"contradiction\",\"Gandalf\",\"To_be\",\"mobs\",\"weeks_ago\",\"similarities\",\"handouts\",\"recreate\",\"low_income\",\"pineapple\",\"Commenting\",\"converter\",\"assaults\",\"bugged\",\"horny\",\"criticized\",\"elitists\",\"HW\",\"exceptionally\",\"hits\",\"court_system\",\"LBJ\",\"down_syndrome\",\"couple_minutes\",\"bleach\",\"jack_shit\",\"'VE\",\"turn_18\",\"repulsive\",\"Sherlock\",\"spent\",\"Supply\",\"goodwill\",\"BOTH\",\"Anyway\",\"Rule\",\"tags\",\"drug_dealers\",\"duties\",\"there\",\"mobo\",\"g2\",\"Tranzit\",\"disgusting\",\"#_1\",\"accessory\",\"Song\",\"drafted\",\"reunion\",\"Back_when\",\"shitposting\",\"got_buffed\",\"proximity\",\"descriptions\",\"Miller\",\"boulder\",\"Arkham_Knight\",\"blog\",\"my_grandparents\",\"Stannis\",\"My_cousin\",\"Goddamnit\",\"bang\",\"Artist\",\"four\",\"Kalista\",\"Store\",\"TEACH\",\"Privilege\",\"perception\",\"Presidency\",\"framework\",\"gloves\",\"arguement\",\"spring\",\"uncomfortably\",\"voiced\",\"brink\",\"fox_news\",\"F5_F5\",\"jeez\",\"worked\",\"negros\",\"admittedly\",\"COME\",\"Govt\",\"jacks\",\"roads\",\"TP\",\"Money_well\",\"FAN\",\"advancement\",\"attention_span\",\"cheddar\",\"silent\",\"miracle\",\"being_charged\",\"heteronormative\",\"circulation\",\"Green_Lantern\",\"oculus\",\"downgraded\",\"depressing\",\"bravery\",\"last\",\"Creation\",\"casted\",\"UGH\",\"diversity\",\"QM\",\"xD\",\"buggy\",\"Top_Gear\",\"DUN_DUN\",\"amateurs\",\"fantastic_job\",\"unrestricted\",\"jelly\",\"Flamini\",\"publishing\",\"confederate_flag\",\"cucumber\",\"Ashe\",\"law_abiding\",\"stores\",\"heavy\",\"wil\",\"defaults\",\"places\",\"rape_apologist\",\"myself\",\"Bubba\",\"my_favorites\",\"god_bless\",\"nephew\",\"learn_how\",\"earn\",\"dehumanizing\",\"Crown\",\"fairness\",\"Didnt\",\"sp\",\"Depending_on\",\"vampires\",\"taps\",\";_t\",\"oblivion\",\"Teen\",\"borrow\",\"thong\",\"shaming\",\"Film\",\"smoker\",\"jar\",\"sells\",\"other_peoples\",\"minority\",\"Liam\",\"safe_spaces\",\"prophet\",\"totaly\",\"private_server\",\"same\",\"Tomb_Raider\",\"description\",\"at_home\",\"inverted\",\"Mandarin\",\"unsure\",\"initiated\",\"Man_City\",\"Sister\",\"wingers\",\"'s\",\"forgotten_about\",\"spout\",\"sheer\",\"resisting_arrest\",\"Money\",\"first_overall\",\"Trees\",\"mal\",\"meme\",\"ive_ever\",\"killstreaks\",\"SMS\",\"Eva\",\"enlightening\",\":_D.\",\"Seen\",\"burning\",\"iPads\",\"preferably\",\"built-in\",\"Iris\",\"requirements\",\"dagger\",\"GODDAMN\",\"North_Dakota\",\"EG\",\"circlejerks\",\"shoulda_put\",\"insert\",\"fucking_moron\",\"36\",\"Lord\",\"herself\",\"couldve\",\"Dennis\",\"OF_MY\",\"realm\",\"shaped\",\"cheering\",\"whisper\",\"surprisingly\",\"snob\",\"Ehh\",\"islam\",\"tracks\",\"catastrophic\",\"Staying\",\"gene_pool\",\"weirdos\",\"downvotes\",\"billion_dollars\",\"catered\",\"investigator\",\"spam\",\"fucks_sake\",\"ect\",\"HEAD\",\"Gas\",\"free_speech\",\"feud\",\"2GB\",\"TV\",\"opposing\",\"vapes\",\"sjw\",\"3,000\",\"directly_into\",\"perverts\",\"bold_prediction\",\"mod\",\"phones\",\"Minus\",\"pre\",\"licking\",\"structure\",\"wild_animals\",\"lawmakers\",\"divided_by\",\"F1\",\"Travel\",\"facebook\",\"outsource\",\"enjoys\",\"branded\",\"teachings\",\"pro\",\"Thin_privilege\",\"5.0\",\"humble\",\"seems_perfectly\",\"Roosevelt\",\"comfortably\",\"Aid\",\"Leftist\",\"ouch\",\"champions_league\",\"Gim_me\",\"basicly\",\"ore\",\"clever\",\"irl\",\"under_attack\",\"SURPRISE\",\"sympathize_with\",\"How\",\"Hungary\",\"basketball_players\",\"pairing\",\"persuade\",\"Potato\",\"platinum\",\"imposing\",\"rolling\",\"OTHER\",\"grin\",\"girl\",\"kits\",\"awful\",\"revolver\",\"traded_away\",\"fears\",\"yang\",\"childish\",\"of_thrones\",\"purse\",\"Dragon_Age\",\"SHILL\",\"Hail\",\"Oh_yea\",\"halftime\",\"previous_comment\",\"shaky\",\"decades\",\"Woo\",\"stickers\",\"relatives\",\"interpreting\",\"form\",\"nutty\",\"Aaron_Rodgers\",\"quarterback\",\"allies\",\"stem\",\"improved\",\"Dolphin\",\"3.8\",\"literally_worse\",\"saturated\",\"smallest\",\"has\",\"WHAT_A\",\"GSW\",\"swim\",\"TJ\",\"smite\",\"staring_at\",\"Alone\",\"bought\",\"crease\",\"BELIEVE\",\"survived\",\"Hahaha\",\"dee\",\"branches\",\"radioactive\",\"out\",\"parents\",\"Moms\",\"fiery\",\"years_later\",\"expecting\",\"cost_$\",\"DAMNIT\",\"punks\",\"Na'Vi\",\"mainly\",\"ho\",\"mask\",\"abusive\",\"Church\",\"God_gave\",\"puppet\",\"ah_ok\",\"brim\",\"1776\",\"Ba\",\"Hornets\",\"DI\",\"ruled\",\"DMT\",\"islamist\",\"Koch_brothers\",\"Deadly\",\"walmart\",\"Camera\",\"dumber\",\"salads\",\"headlines\",\"stick_around\",\"sex_slaves\",\"Massachusetts\",\"Smart\",\"pursuit\",\"United\",\"blizzard\",\"discouraged\",\"ramming\",\"personality_disorder\",\"becasue\",\"applicable\",\"npc\",\"hers\",\"your_sister\",\"lax\",\"pas\",\"trying_to\",\"your_brain\",\"invalidate\",\"victories\",\"ginger\",\"L_O\",\"itch\",\"became\",\"bribes\",\"ones\",\"HDR\",\"Brilliant\",\"marginal\",\"Season_4\",\"MA\",\"taking_care\",\"whopping\",\"high_school\",\"creature\",\"furious\",\"Elaborate\",\"recovered\",\"trick\",\"impression\",\"hemisphere\",\"signals\",\"WaW\",\"offensively\",\"Economic\",\"education\",\"dunked\",\"wolf\",\"deposit\",\"varies\",\"frame\",\"Thomas_Jefferson\",\"IQ\",\"sensors\",\"Incest\",\"ISS\",\"CT\",\"extras\",\"cultural\",\"obstacle\",\"jab_at\",\"down_voting\",\"............\",\"rumor\",\"fetish\",\"bu_..\",\"vegetables\",\"children\",\"taxpayers\",\"error\",\"hm\",\"nominee\",\"Dalton\",\"construct\",\"low_energy\",\"unpleasant\",\"contact\",\"right_wingers\",\"Grandpa\",\"David_Johnson\",\"ON_A\",\"an_outlet\",\"pitching\",\"Canucks\",\"nope\",\"Cow\",\"free_healthcare\",\"stitches\",\"liberties\",\"imagery\",\"gambling\",\"config\",\"honoring\",\"Incoming\",\"point_guard\",\"scroll\",\"ca_n't\",\"requirement\",\"autonomous\",\"triggered_by\",\"jihad\",\"Dies\",\"standing_up\",\"superhero\",\"Uhhhh\",\"onboard\",\"whose\",\"distorted\",\"attack_speed\",\"overdue\",\"quoting\",\"shells\",\"difficulty\",\"oceans\",\"THATS\",\"Hugo\",\"Crooked_Hillary\",\"Friday_night\",\"Testing\",\"travelling\",\"tens_of\",\"240\",\"Fully\",\"2_years\",\"Viagra\",\"communist\",\"200m\",\"derby\",\"Rob_Ford\",\"w/o\",\"programmed\",\"gt\",\"kappa\",\"WORD\",\"robin\",\"kys\",\"Star_Citizen\",\"Careful\",\"UR\",\"DIFFERENT\",\"somewhat\",\"partners\",\"sis\",\"faggots\",\"creators\",\"warhammer\",\"144\",\"backers\",\"breakout\",\"June\",\"detect\",\"19th\",\"Satoshi\",\"hologram\",\"Finally_someone\",\"away_from\",\"Anderson\",\"interviewing\",\"parties\",\"Ferguson\",\"Gospel\",\"notch\",\"belief\",\"emerge\",\"So_edgy\",\"Ignorance\",\"came\",\"Clarke\",\"whiskey\",\"mmo\",\"obscene\",\"Amanda\",\"neocon\",\"Starbucks\",\"Shia\",\"effects\",\"STAR\",\"Iirc\",\"an_SSD\",\"Clint_Eastwood\",\"Vision\",\"vans\",\"Heroic\",\"seemed_like\",\"bless\",\"Gaming\",\"Hercules\",\"irrational\",\"ITS_A\",\"producers\",\"20_dollars\",\"insist_on\",\"caring_about\",\"closed\",\"MONEY\",\"super_fast\",\"You\",\"limitations\",\"Work\",\"evade\",\"wanker\",\"encryption\",\"demonstrate\",\"Santa\",\"Z\",\"Guild\",\"seventh\",\"tee\",\"Model\",\"Clinton_Foundation\",\"courteous\",\"Hugh\",\"Psst\",\"mess_around\",\"tonight\",\"teammates\",\"council\",\"hotfix\",\"computer\",\"Andrea\",\"deregulation\",\"mutation\",\"getting_pregnant\",\"needless\",\"sprinkle\",\"vintage\",\"dirty\",\"Generally\",\"shipping\",\"climbing\",\"peep\",\"barriers\",\"Ooo\",\"white_supremacist\",\"THERE\",\"fuck\",\"ultimate\",\"cousins\",\"BTC\",\"Crazy\",\"dwarf\",\"gene\",\"fertility\",\"Bc\",\"vaccinated\",\"casinos\",\"s/he\",\"additions\",\"misplaced\",\"determination\",\"rotate\",\"couple_times\",\"South_America\",\"suggest\",\"rebounds\",\"mobile_phone\",\"wield\",\"Syndrome\",\"grunts\",\"Evil\",\"20-30\",\"ARE\",\"chassis\",\"gtx\",\"*\",\"Laptop\",\"delivers\",\"No\",\"negative_consequences\",\"smh\",\"performing\",\"aus\",\"Edmund\",\"Ray_Allen\",\"vocal_minority\",\"fancy\",\"meh\",\"tell_me\",\"reverted\",\"lungs\",\"Sleep\",\"shirt\",\"comebacks\",\"Hulk_Hogan\",\"footsteps\",\"newsletter\",\"HUD\",\"spreadsheet\",\"stretching\",\"pre-orders\",\"thy\",\"impressed\",\"language\",\"vaccine\",\"tests\",\"radiation\",\"Bachmann\",\"Extra\",\"Apply\",\"ogre\",\"severe\",\"ruining_our\",\"pitchforks\",\"doubt\",\"HEB\",\"top_laner\",\"securing\",\"boob\",\"Smash\",\"BLACK_PEOPLE\",\"inb4\",\"shaman\",\"smoothly\",\"Ohhhh\",\"Seinfeld\",\"25\",\"Naturally\",\"phat\",\"pod\",\"logic\",\"committed_suicide\",\"someone_asks\",\"black_lives\",\"age\",\"Twitch_chat\",\"noodle\",\"gay_rights\",\"addicted\",\"Minecraft\",\"Commonwealth\",\"freed\",\"facial_hair\",\"Finland\",\"hearing\",\"stop_using\",\"argue\",\"googled\",\"Webb\",\"sc\",\"hidden\",\"nit\",\"Challenger\",\"8_hours\",\"counting\",\"baffled\",\"technological\",\"Keeper\",\"Press\",\"Dodgers\",\"readily\",\"failures\",\"freeloading\",\"seahawks\",\"panel\",\"980ti\",\"original_post\",\"got_ta\",\"pregnant_woman\",\"pressures\",\".............\",\"pinned\",\"free_markets\",\"Bravo\",\"cry\",\"sooner_or\",\"location\",\"an_egg\",\"theist\",\"receives\",\"Sharp\",\"71\",\"kidneys\",\"Not_necessarily\",\"Ty\",\"Olof\",\"Search\",\"Pen\",\"Cubs\",\"black\",\"societies\",\"harness\",\"aussie\",\"Arabia\",\"pronounced_``\",\"protocol\",\"an_alt\",\"Brian\",\"$_80\",\"cloning\",\"an_eternity\",\"Acer\",\"shill\",\"noses\",\"Just_remember\",\"peer\",\"Bernie_supporter\",\"cover\",\"could\",\"boy\",\"wife\",\"Stone\",\"Keeping\",\"TEAMS\",\"wind_up\",\"Note\",\"millennials\",\"themed\",\"Germans\",\"misspelled\",\"university\",\"conscious\",\"throwing_money\",\"smog\",\"Um\",\"teased\",\"wallpapers\",\"Mercedes\",\"Olivia\",\"flaw\",\"pipes\",\"H\",\"redditing\",\"cleavage\",\"Listening\",\"responsible_for\",\"biased_towards\",\"Goldberg\",\"i_cant\",\"13_years\",\"looking_forward\",\"million_times\",\"dish\",\"aboriginal\",\"lacks\",\"episode\",\"Woodhead\",\"rabid\",\"Gotham\",\"lolz\",\"iq\",\"washed\",\"detection\",\"couple_hundred\",\"4/10\",\"explaining\",\"million_dollar\",\"watches\",\"slant\",\"HL2\",\"hooks\",\"Let_me\",\"jetpack\",\"WSGY_WSGY\",\"founding_fathers\",\"assist\",\"dislike\",\"suppress\",\"blessed_day\",\"lewis\",\"ability\",\"impractical\",\"shorter\",\"communicating_with\",\"whoa\",\"narcissistic\",\"known\",\"Nakamura\",\"study\",\"sprays\",\"employed_by\",\"xenophobic\",\"helium\",\"GGG\",\"HATE\",\"^^\",\"peasant\",\"Marijuana\",\"lookin\",\"roaches\",\"practicing\",\"gluten\",\"Soviet\",\"Siege\",\"opens\",\"Seriously_though\",\"officiating\",\"Once\",\"Requiem\",\"majors\",\"attendance\",\"offered\",\"Dallas\",\"graduates\",\"Besides\",\"Stones\",\"overheat\",\"Hey\",\"mids\",\"am_aware\",\"rigs\",\"looking\",\"payload\",\"reverse\",\"surreal\",\"W\",\"rigged\",\"alliances\",\"obtained\",\"class_action\",\"legalizing\",\"President\",\"came_out\",\"Trouble\",\"Girl\",\"Con\",\"connect\",\"Mah\",\"broken\",\"Ben_Carson\",\"erotic\",\"no_harm\",\"Rex\",\"uninstalling\",\"invested\",\"Cosmo\",\"errors\",\"fair_share\",\"Frontier\",\"esea\",\"blitz\",\"kin\",\"bodybuilders\",\"eating\",\"worship\",\"pensions\",\"4.5\",\"Chamber\",\"Macklemore\",\"frank\",\"$_10,000\",\"august\",\"an_essay\",\"her_body\",\"just\",\"our_enemies\",\"minister\",\"Nemesis\",\"WAN_NA\",\"predators\",\"Combo\",\"fifa\",\"tombstone\",\"Survival\",\"impartial\",\"most_popular\",\"Hang_on\",\"phrasing\",\"surfaces\",\"soggy\",\"backups\",\"bae\",\"face_value\",\"ze\",\"small\",\"bottleneck\",\"Rawls\",\"your_privilege\",\"rightly\",\"Nepal\",\"trickle_down\",\"martial_arts\",\"colour\",\"unfounded\",\"trips\",\"40_%\",\"should\",\"manufacturing\",\"deny\",\"no_idea\",\"sub-reddit\",\"exposing\",\"drama\",\"rivalry\",\"major_city\",\"precedent\",\"must_be\",\"hunter2\",\"Ellen\",\"establishing\",\"Green_Party\",\"busted\",\"before\",\"dividing\",\"jazz\",\"drives\",\"symptoms\",\"Luffy\",\"bites\",\"quit_being\",\"mortal\",\"STI\",\"Ive_seen\",\"tracked\",\"elementary_school\",\"New_Mexico\",\"snarky\",\"finals\",\"busy\",\"nigga\",\"robber\",\"Climate_change\",\"dna\",\"an_angel\",\"swearing\",\"DOESNT\",\"Mail\",\"metal_band\",\"peoples_'\",\"white_trash\",\"$_600\",\"comical\",\"Yogscast\",\"1337\",\"kryptonite\",\"Literal\",\"water_bottle\",\"4K\",\"mash\",\"absorb\",\"Renault\",\"pencils\",\"internets\",\"invades\",\"factions\",\"Bud_Light\",\"attention\",\"amendments\",\"rebranded\",\"Arena\",\"app\",\"Boston\",\"top_hat\",\"economically\",\"pick\",\"animal\",\"yards\",\"hug\",\"possibly\",\"FNaF\",\"Garrett\",\"45_minutes\",\"coaching_staff\",\"BUT_WHAT\",\"manipulating\",\"take_care\",\"cubs\",\"butts\",\"[_]\",\"THEN\",\"apples\",\"gl\",\"Dragon\",\"very_effective\",\"Bunch_of\",\"extremely\",\"Amiibo\",\"think\",\"oil_prices\",\"G2A\",\"Neon\",\"halo\",\"big_bucks\",\"Neuer\",\"Thank_goodness\",\"fails\",\"swimming_pool\",\"Dex\",\"championship\",\"more_productive\",\"heart_attack\",\"suitable\",\"ser\",\"GENOCIDE_GENOCIDE\",\"intellectually\",\"cis_shitlord\",\"after_losing\",\"Sound\",\"Ryan\",\"pushing\",\"both_ways\",\"oppressive\",\"Cuck\",\"Wouldnt\",\"indicate_sarcasm\",\"190\",\"drown\",\"corn\",\"DICE\",\"hesitation\",\"smelly\",\"therapist\",\"wikipedia\",\"entire_world\",\"Apart_from\",\"hat\",\"altogether\",\"flagged\",\"VICTIM\",\"left_behind\",\"Bug\",\"public_transit\",\"Accidentally\",\"Jane\",\"Full\",\"ATT\",\"bunch\",\"07\",\"American_Dream\",\"remotely\",\"51\",\"au\",\"mule\",\"Sox\",\"Flames\",\"dynamic\",\"takes_place\",\"microphones\",\"true_hero\",\"D3\",\"hasnt_been\",\"maintenance\",\"even_worse\",\"Made_me\",\"insight\",\"new_meaning\",\"fixed\",\"copypasta\",\"national_team\",\"writer\",\"theoretical\",\"Thunder\",\"automatically_assume\",\"Cyber\",\"applies\",\"Depression\",\"volunteering\",\"coalition\",\"philly\",\"helpless\",\"swung\",\"internet_points\",\"2018\",\"different_ways\",\"2s\",\"assassinated\",\"plans\",\"expectation\",\"themes\",\"militia\",\"plague\",\"Netherlands\",\"Mechanical\",\"music\",\"rush\",\"statistically\",\"sunday\",\"Noob\",\"Charlotte\",\"male_scum\",\"minimal\",\"above_average\",\"WONDER\",\"TFW\",\"Asian\",\"refugees\",\"froze\",\"LMAO\",\"Gundam\",\"integrated\",\"an_anarchist\",\"record\",\"dealership\",\"domestic_abuse\",\"Preston\",\"naw\",\"pawns\",\"pipeline\",\"Admit_it\",\"heart\",\"wiring\",\"Radeon\",\"Anet\",\"Math\",\"pdf\",\"esp\",\"child_abuse\",\"anti\",\"lust\",\"focused_on\",\"skewed\",\"shitstorm\",\"Spiderman\",\"rumble\",\"tacticool\",\"ni\",\"told_us\",\"dummy\",\"stellar\",\"always_wanted\",\"grips\",\"Universe\",\"pandas\",\"carrying\",\"gaan\",\"Satanic\",\"section\",\"Surprisingly\",\"drug_cartels\",\"destruction\",\"1.6_billion\",\"awp\",\"positively\",\"K_T\",\"works_wonders\",\"swiss\",\"abnormal\",\"pine\",\"risking\",\"posed\",\"on_par\",\"definitely\",\"heist\",\"drugged\",\"catch_fire\",\"artificially\",\"learn\",\"MAC\",\"Beyond\",\"heh\",\"SPACE\",\"drop\",\"skeptical\",\"stomped\",\"cyclist\",\"hysterical\",\"mystical\",\"Eurovision\",\"only_applies\",\"supreme_court\",\"company\",\"last_name\",\"Mystic\",\"GTR\",\"Jesse\",\"bj\",\"kings\",\"crumble\",\"scene\",\"chatting\",\"majority\",\"Bend\",\"laces\",\"voted_for\",\"behaves\",\"pronounce\",\"WHATEVER\",\"spree\",\"starring\",\"Nah_mate\",\"brains\",\"QBR\",\"'cuz\",\"importance\",\"incase\",\"PC_port\",\"relies_on\",\"encourages\",\"allocation\",\"owe_me\",\"ethnically\",\"European\",\"F5\",\"arenas\",\"pass_through\",\"thigh\",\"striker\",\"borderlands\",\"Video_games\",\"poker\",\"after_reading\",\"followed\",\"Solar\",\"penises\",\"Shake\",\"Bradley\",\"dwellers\",\"shrimp\",\"Woah\",\"b4\",\"DIY\",\"constituents\",\"traces\",\"Cops\",\"Id\",\"streaming\",\"fuckin\",\"aware\",\"TNG\",\"During\",\"OFF\",\"Upvotes\",\"Africans\",\"Former\",\"em\",\"Newegg\",\"Hotel\",\"loudly\",\"Pre\",\"techniques\",\"Women\",\"stricter_gun\",\"Video\",\"ten_year\",\"Stats\",\"nike\",\"only\",\"Anniversary\",\"Ben\",\"eachother\",\"Hard\",\"buckle\",\"150_%\",\"consistently\",\"rides\",\"aerospace\",\"scan\",\"ruin\",\"flairs\",\"Flint\",\"Dank\",\"dave\",\"halfway_through\",\"Much\",\"filled_with\",\"comments\",\"exceptional\",\"Relevant_flair\",\"Soviets\",\"accounts\",\"Single\",\"trainer\",\"Real_life\",\"TFA\",\"evidence\",\"Bay\",\"tracer\",\"Butler\",\"destroy_America\",\"Bieber\",\"Ouch\",\"Forever\",\"seemed\",\"m8\",\"azir\",\"gimmicky\",\"penetrate\",\"nonsense\",\"Lee\",\"ANY\",\"trophy\",\"posted\",\"5.5\",\"homemade\",\"HOLY_FUCK\",\"fucking_retard\",\"worn_out\",\"precisely\",\"rhymes\",\"godless\",\"bounds\",\"vulnerable\",\"ritual\",\"dummies\",\"hypothesis\",\"flats\",\"DID_YOU\",\"skins\",\"Very_interesting\",\"emotes\",\"universally\",\"MAKE_AMERICA\",\"25th\",\"cupcakes\",\"on\",\"Quickly\",\"believed\",\"asked\",\"LB\",\"land\",\"Liz\",\"gender_identity\",\"ethnicities\",\"boss_fight\",\"bank_account\",\"botters\",\"Pain\",\"discovery\",\"Morgan\",\"football_player\",\"guise\",\"sparrow\",\"cleared_up\",\"boxer\",\"Let_'s\",\"torrent\",\"airports\",\"where_near\",\"breaks_down\",\"jk\",\"XBL\",\"slut_shaming\",\"serial_killer\",\"turn_signal\",\"games\",\"creepers\",\"student_loan\",\"catholic_church\",\"Bad\",\"Vandy\",\"N64\",\"complains_about\",\"reskin\",\"more_likely\",\"easter_egg\",\"seconds\",\"64_tick\",\"Kansas_City\",\"legalization\",\"sleeves\",\"Elf\",\"Hear\",\"fully\",\"Fallout\",\"vitamin\",\"thinly_veiled\",\"signal\",\"IS_FOR\",\"female_characters\",\"abs\",\"expressing\",\"Del\",\"boots\",\"involved\",\"premade\",\"poorer\",\"CIS\",\"Masters\",\"Rapture\",\"braking\",\"illuminati\",\"limitation\",\"slaughtering\",\"Drew\",\"hopping\",\"PEDs\",\"misleading_title\",\"Making\",\"typo\",\"QUICK\",\"skinned\",\"walk_around\",\"Brent\",\"Same_here\",\"dildos\",\"Pussy\",\"pull_off\",\"ad_revenue\",\"single-handedly\",\"live_near\",\"none\",\"qualifies\",\"smoother\",\"murica\",\"scenes\",\"conjecture\",\"go_anywhere\",\"Dogs\",\"spotlight\",\"coal\",\"troubles\",\"Epsilon\",\"bi\",\"Tiger\",\"Tears\",\"snap\",\"stay_alive\",\"adequate\",\"only_logical\",\"Tavares\",\"biggest_problem\",\"Pope\",\"Gucci\",\"Muhammad\",\"ce\",\"take_responsibility\",\"BTFO\",\"ADHD\",\"stoned\",\"l33t\",\"rose\",\"fossils\",\"Realistically\",\"ca\",\"tracking\",\"Catholicism\",\"many_places\",\"Zerg\",\"Sounds\",\"mainstream\",\"prospective\",\"Bulbasaur\",\"remedy\",\"anecdote\",\"Bioware\",\"getting_killed\",\"Salem\",\"an_ad\",\"scrape\",\"today\",\"identical\",\"MMO\",\"HATES\",\"Ottoman\",\"Shhh\",\"Ryder\",\"explodes\",\"gains\",\"secrets\",\"solution\",\"'ve_gone\",\"SUPER\",\"Ram\",\"Morgan_Freeman\",\"Elite\",\"Dee\",\"apologizing\",\"gobble\",\"labeling\",\"maar\",\"GA\",\"proposals\",\"Blatant\",\"well_spent\",\"equity\",\"Pacquiao\",\"Hat\",\"STUFF\",\"Beach\",\"causation\",\"Talk_about\",\"appears\",\"Couple\",\"reducing\",\"Just_another\",\"murders\",\"Tell_me\",\"encounters\",\"Martin_Luther\",\"systematically\",\"patches\",\"coincidence\",\"mama\",\"vayne\",\"hindi\",\"bb\",\"18_year\",\"Hoping\",\"song\",\"gators\",\"tax\",\"Troy\",\"eaten_by\",\"outcome\",\"proven_innocent\",\"YOURSELF\",\"Islamophobia\",\"lcs\",\"prosecutor\",\"gallery\",\"golf_course\",\"haram\",\"join_us\",\"whistle\",\"Happened\",\"tables\",\"S3\",\"Still_waiting\",\"worthwhile\",\"Australian\",\"colours\",\"19\",\"delegate\",\"Dont_worry\",\"nobody_knows\",\"declaring\",\"idiotic\",\"legal_system\",\"Carlton\",\"Sbisa\",\"friends\",\"swallow\",\"Russell\",\"assistance\",\"commenting\",\"divided\",\"frivolous\",\"UAE\",\"attackers\",\"SURE\",\"Barbie\",\"by_extension\",\"several_times\",\"Outside\",\"amendment\",\"Gaijin\",\"whole_thing\",\"came_across\",\"pcmr\",\"body_shaming\",\"Newton\",\"abusing\",\"trusty\",\"Colby\",\"hatched\",\"shapes\",\"Jimmy\",\"chills\",\"Horse\",\"adblock\",\"grenade\",\"PLAY\",\"pokestop\",\"Indians\",\"ownership\",\"slayer\",\"potent\",\"Google+\",\"empowered\",\"strongly\",\"tomorrow\",\"neutral\",\"redundant\",\"AU\",\"big\",\"batting\",\"technically\",\"will_eventually\",\"cigarette\",\"Train\",\"plastics\",\"unbalanced\",\"cakes\",\"safety\",\"fucker\",\"tournament\",\"woody\",\"Doublelift\",\"papers\",\"midwest\",\"Merry_Christmas\",\"Verstappen\",\"suffice\",\"oppressing_me\",\"persecuting\",\"darts\",\"Confederate_flag\",\"sci-fi\",\"BACK_TO\",\"Preferably\",\"main\",\"legacy\",\"seen\",\"barrage\",\"monk\",\"Possible\",\"Dark\",\"politicians\",\"hangar\",\"workforce\",\"Development\",\"main_story\",\"homosexuality\",\"fatphobic\",\"heatsink\",\"mayonnaise\",\"passports\",\"missed\",\"Scarra\",\"OoT\",\"annoyed_by\",\"customer_support\",\"$_75\",\"Scots\",\"talked\",\"enhanced\",\"leftists\",\"practiced\",\"teamfights\",\"prospect\",\"9/11\",\"Favre\",\"Boris\",\"Avery\",\"an_animal\",\"slay\",\"restrictive\",\"dealings\",\"violation\",\"sets\",\"unelectable\",\"dock\",\"FED\",\"Widow\",\"fork\",\"blowing_up\",\"loaded\",\"gaming_community\",\"Portland\",\"mentioning\",\"6_years\",\"retaliation\",\"ethical\",\"achievable\",\"chimp\",\"weight\",\"photographed\",\"Constantine\",\"who\",\"cobalt\",\"Adderall\",\"GET_OUT\",\"his_daughter\",\"Hyper\",\"Andre\",\"offence\",\"gets_posted\",\"Really_glad\",\"y'know\",\"PS4_Pro\",\"different_opinion\",\"proofs\",\"ich\",\"Toronto\",\"spawn\",\"laughed_at\",\"imho\",\"View\",\"quests\",\"dominance\",\"white_knights\",\"OCD\",\"sold_out\",\"askreddit\",\"express\",\"butterflies\",\"afterlife\",\"flattered\",\"spare_time\",\"rep\",\"unaware\",\"lag\",\"vocals\",\"complaints_about\",\"taboo\",\"graphic\",\"obey\",\"randomly\",\"FANS\",\"GETTING\",\"thread\",\"enslave\",\"FTL\",\"teaching\",\"islamophobia\",\"vicinity\",\"Never_underestimate\",\"inserted\",\"with\",\"stuttering\",\"bitten\",\"priceless\",\"But_muh\",\"mixing\",\"skillshot\",\"3.6\",\"concise\",\"operates\",\"Everton\",\"testosterone\",\"accusations\",\"targeted\",\"paying_jobs\",\"Triple\",\"phone_calls\",\"Relevant_username\",\"MOTHER\",\"Greatest\",\"translate\",\"WORDS\",\"Tagged_as\",\"Thief\",\"Flawless\",\"Leffen\",\"moto\",\"unplug\",\"leap\",\"bonnie\",\";_D\",\"our_ancestors\",\"tops\",\"fodder\",\"reactor\",\"keeps_getting\",\"knuckles\",\"Hype\",\"slap\",\"breed\",\"dollar_bill\",\"BF4\",\"Chica\",\"Danielle\",\"shit_storm\",\"blatantly\",\"cite\",\"species\",\"hinting\",\"'Murica\",\"Micheal\",\"obliged\",\"amen\",\"bias\",\"nooooooo\",\"Goff\",\"MGTOW\",\"riven\",\"Newfoundland\",\"LET_ME\",\"drowned\",\"bee\",\"rash\",\"every_weekend\",\"Roadhog\",\"shitters\",\"24\",\"kim\",\"podium\",\"Reported\",\"nick\",\"ducks\",\"spammer\",\"final_solution\",\"Rec\",\"vikings\",\"appreciate\",\"SWEET\",\"too_late\",\"comms\",\"schemes\",\"real_racists\",\"imports\",\"collapses\",\"busting\",\"beatings\",\"stomach\",\"from_entering\",\"urge\",\"18th\",\"sufficiently\",\"skillz\",\"same_level\",\"Economics\",\"negotiating\",\"acceleration\",\"emotional\",\"bing\",\"1000_times\",\"spinach\",\"Kardashian\",\"om\",\"cleanse\",\"great_advice\",\"clinch\",\"BUT_YOU\",\"getting_downvoted\",\"large_amount\",\"3_years\",\"festive\",\"across\",\"hypocrites\",\"poise\",\"favored\",\"honors\",\"else\",\"never_fails\",\"(_including\",\"legion\",\"Pokemon\",\"On_top\",\"Hillary_Clinton\",\"unpopular_opinion\",\":_^\",\"co-op\",\"saw\",\"Saban\",\"removable\",\"abused_by\",\"Offer\",\"god_awful\",\"Felix\",\"executive\",\"illusion\",\"demeaning\",\"Shame_on\",\"supportive\",\"Depends_on\",\"republican_party\",\"ffs\",\"rescued\",\"warrior\",\"bold\",\"intolerant\",\"series\",\"stone\",\"Athens\",\"Keanu_Reeves\",\"suffer_from\",\"mundo\",\"windy\",\"Such\",\"blockchain\",\"changed\",\"trespassing\",\"LAND\",\"crammed\",\"bu\",\"secure\",\"software_update\",\"christian\",\"Took_me\",\"unemployment\",\"leaders\",\"was_originally\",\"Sorry\",\"version\",\"Gamers\",\"disney\",\"paws\",\"gimp\",\"burner\",\"stop_signs\",\"structural\",\"Brexit\",\"self_esteem\",\"7/11\",\"Mmmmm\",\"dolphin\",\"blaze\",\"Spin\",\"most_cases\",\"non\",\"HAPPENED\",\"porn_stars\",\"Vince\",\"NA_LCS\",\"Warriors\",\"sus\",\"recall_correctly\",\"hillbilly\",\"Sharing\",\"grown_up\",\"Cut_him\",\"XBOX\",\"week_ago\",\"Shhhhhhh\",\"convincing\",\"fair_trade\",\"Give_him\",\"runescape\",\"crippling\",\"prick\",\"Body\",\"lobbied\",\"queue\",\"oblivious\",\"found_out\",\"Haha\",\"Wait\",\"wealth\",\"future\",\"genetics\",\"partially\",\"timeline\",\"light\",\"warranted\",\"wives\",\"Lucas\",\"Stranger\",\"winged\",\"public_transportation\",\"Heights\",\"edges\",\"Larry\",\"bureaucracy\",\"recommendations\",\"Checks\",\"onions\",\"q\",\"applied\",\"Engineer\",\"political\",\"flexing\",\"individually\",\"release_date\",\"logistics\",\"countrymen\",\"flat\",\"Nah_man\",\"bind\",\"DDOS\",\"dated\",\"cider\",\"stereo\",\"subtly\",\"vets\",\"cmd_cmd\",\"conceived\",\"masturbation\",\"companies\",\"2/2\",\"javascript\",\"pitchfork\",\"Id_rather\",\"WITH_YOUR\",\"ALL_THE\",\"debris\",\"Kim_Jong\",\"It_'s\",\"contracted\",\"their_jobs\",\"drunk\",\"Rent\",\"moderately\",\"538\",\"minute\",\"stump\",\"aesthetics\",\"sage\",\"recipes\",\"best_friend\",\"Stephanie\",\"hypocritical\",\"LT\",\"Tuesdays\",\"breathing\",\"few_weeks\",\"avoided\",\"Mike_Brown\",\"influenced\",\"Perkins\",\"putin\",\"faulty\",\"Donkey_Kong\",\"frontier\",\"senators\",\"2D\",\"dime\",\"cruise\",\"justifying\",\"Liquid\",\"indeed\",\"Mostly_because\",\"Bros\",\"Judging_by\",\"American_flag\",\"skeltal\",\"teenage_girl\",\"religious_beliefs\",\"Floridian\",\"forearm\",\"ins\",\"OEL\",\"THEY_'RE\",\"Misandry\",\"fatter\",\"boosts\",\"an_empty\",\"Ran\",\"pedos\",\"PCs\",\"Stevie\",\"indifferent\",\"necklace\",\"gold_plated\",\"pink\",\"casters\",\"marble\",\"motive\",\"PPR\",\"redirect\",\"drink_alcohol\",\"correction\",\"mock\",\"gosh_darn\",\"Draw\",\"showers\",\"Panthers\",\"tiny_bit\",\"blend\",\"McDavid\",\"router\",\"Trail\",\"scale\",\"tempo\",\"Twins\",\"DDR3\",\"Baylor\",\"pure\",\"THOSE\",\"5/10\",\"Big_12\",\"containing\",\"damn_shame\",\"creatures\",\"commander\",\"Atlantis\",\"hardly\",\"escalated_quickly\",\"z\",\"Anyone_who\",\"Benzema\",\"kicker\",\"mathematics\",\"situational\",\"popping\",\"argument\",\"noticing\",\"fascism\",\"killed_by\",\"brutally\",\"jumper\",\"Yoda\",\"Pepe\",\"Just\",\"wound\",\"pops_up\",\"entrance\",\"firearms\",\"Best_part\",\"in-game\",\"healing\",\"Gragas\",\"WC\",\"wars\",\"veto\",\"Open\",\"Damien\",\"snickers\",\"motherfucking\",\"console_peasant\",\"announcement\",\"pressing\",\"Psyonix\",\"in_cages\",\"woods\",\"pisses\",\"graphics_cards\",\"invincible\",\"JERRY_JERRY\",\"80_years\",\"wholly\",\"Lucario\",\"mentality\",\"disgustingly\",\"good_ol\",\"reflecting\",\"meanings\",\"fortress\",\"Chan\",\"writes\",\"confrontation\",\"Paypal\",\"dayz\",\"periods\",\"tutti\",\"Pakistani\",\"five_minutes\",\"SEASON\",\"protoss\",\"awakening\",\"some_kind\",\"airing\",\"Dota\",\"yawn\",\"in_droves\",\"turns_into\",\"premiere\",\"al\",\"Brand\",\"criminal\",\"tripped\",\"afraid\",\"Morrowind\",\"rods\",\"Jhin\",\"Southampton\",\"phenomenon\",\"Darth_Vader\",\"votes\",\"Piss\",\"genetic\",\"Buried\",\"Ive_been\",\"soy\",\"'ll_take\",\"bends\",\"Tron\",\"their_opponents\",\"Huawei\",\"African_countries\",\"public_sector\",\"Alicia\",\"BOI\",\"QUIT\",\"ninth\",\"excess\",\"Ugh\",\"10_years\",\"nagging\",\"witchcraft\",\"Ah\",\"Every\",\"wooden\",\"crosses\",\"Robinson\",\"Marino\",\"gardening\",\"Zen\",\"concentrate_on\",\"Darwin\",\"teen\",\"heating\",\"achieving\",\"Humanity\",\"included\",\"trucker\",\"discovering\",\"cloth\",\"bureaucratic\",\"Paint\",\"Asking\",\"Samurai\",\"Range\",\"Rape\",\"research\",\"SEX\",\"Gene\",\"dull\",\"sabotage\",\"calories\",\"wait\",\"Joy\",\"stop_spreading\",\"playing_field\",\"checking\",\"peak\",\"Mmm\",\"Manning\",\"THIS_IS\",\"1/4\",\"olive_oil\",\"shoes\",\"BUT_IT\",\"my_uncle\",\"Sara\",\"targeting\",\"airflow\",\"first_sentence\",\"highlighting\",\"example\",\"decals\",\"Hating\",\"Nukes\",\"jaws\",\"frost\",\"tragedy\",\"wasnt\",\"very_helpful\",\"face_hunter\",\"superheroes\",\"SENSE\",\"Virginia\",\"attempts_at\",\"my_teammates\",\"an_unfortunate\",\"masculine\",\"threats\",\"After_watching\",\"pact\",\"exploding\",\"instinctively\",\"damages\",\"hetero\",\"Palmer\",\"Wikileaks\",\"off-season\",\"Including\",\"questionable\",\"estimation\",\"fetishes\",\"distribution\",\"dessert\",\"n't_exist\",\"BS\",\"master_plan\",\"celebrating\",\"YEA\",\"looser\",\"deficit\",\"brave\",\"WW2\",\"reddit_users\",\"duck\",\"knives\",\"pakistan\",\"upload\",\"campaigns\",\"worries\",\"Good_ole\",\"Same_thing\",\"an_outstanding\",\"fried_chicken\",\"informing\",\"warriors\",\"faking\",\"Band\",\"er\",\"player_base\",\"Gregory\",\"excitement\",\"THEM\",\"loses\",\"sided\",\"Calling\",\"rly\",\"chick\",\"cleaners\",\"nooo\",\"scissors\",\"Edmonton\",\"Miami\",\"thief\",\"tv_show\",\"uninstall\",\"EVEN\",\"Rangers\",\"HAHAHAHAHAHA\",\"suprise\",\"eradicate\",\"leaderboards\",\"Wedding\",\"control_over\",\"OpTic\",\"==\",\"readers\",\"Ah_okay\",\"golf\",\"SWAT\",\"CM\",\"playoffs\",\"Balance\",\"disrespect\",\"sarcastic\",\"tyrannical\",\"utility\",\"Mercy\",\"plugged_into\",\"autistic\",\"subtract\",\"mistook\",\"better_option\",\"Halo_2\",\"exclusives\",\"guru\",\"woman\",\"hormone\",\"populace\",\"credible_source\",\"GTA_V\",\"wildly\",\"profitable\",\"male_models\",\"sewage\",\"TBH\",\"set\",\"masterpiece\",\"Five\",\"sting\",\"All_those\",\"entirely_possible\",\"impactful\",\"set_up\",\"stripping\",\"cough_*\",\"intentions\",\"reptile\",\"recent\",\"tv\",\"idea\",\"begging\",\"dashboard\",\"upside_down\",\"counteract\",\"artifact\",\"^_^\",\"iPhones\",\"Bruh\",\"shutting\",\"red_light\",\"Go_ahead\",\"Hackers\",\"Guys\",\"taunt\",\"Inflation\",\"ranking\",\"cooldowns\",\"explorer\",\"cock\",\"rewatch\",\"heated\",\"Mizzou\",\"epic\",\"violations\",\"increasing\",\"200_%\",\"mid_laner\",\"heres\",\"Benning\",\"grader\",\"hallucinations\",\"are_incapable\",\"Slave\",\"Mortal_Kombat\",\"Galaxy\",\"defend_themselves\",\"analyst\",\"misspelling\",\"go_outside\",\"Your_mother\",\"evidently\",\"contents\",\"128_tick\",\"companion\",\"turkeys\",\"unfairly\",\"pagan\",\"Mass_Effect\",\"Twitter\",\"page\",\"FIA\",\"disco\",\"Planet\",\"RULES\",\"pickups\",\"subtle\",\"predicting\",\"HAPPENING\",\"Especially_when\",\"All_hail\",\"Laugh\",\"corsair\",\"have_guessed\",\"wondering_if\",\"provinces\",\"identify\",\"Human_Rights\",\"refined\",\"Calm_down\",\"SOMEONE\",\"addresses\",\"keeping\",\"swallowing\",\"CHOOSE\",\"expense\",\"400+\",\"stamped\",\"safer\",\"GMT\",\"scams\",\"mainland\",\"owes\",\"OTA\",\"Dante\",\"geopolitical\",\"attorney\",\"knocking\",\"Ez\",\"Roland\",\"every_year\",\"curvy\",\"regions\",\"outlook\",\"wonder\",\"toilet_paper\",\"Seems_fair\",\"Kraken\",\"your_input\",\"tree_fiddy\",\"Naruto\",\"candles\",\"DA\",\"preorder\",\"SUCH_A\",\"bad_apple\",\"For_some\",\"Cannon\",\"wipe_out\",\"barring\",\"Stay_classy\",\"issues\",\"handed\",\"possession\",\"100+\",\"Yh\",\"acted_like\",\"dpi\",\"homophobia\",\"combine\",\"highly_unlikely\",\"expansion\",\"S\",\"finishing\",\"giving_away\",\"profile_picture\",\"jews\",\"memorable\",\"outs\",\"elite\",\"YEAH_BUT\",\"refunds\",\"uncontrollable\",\"never_heard\",\"originally\",\"regret\",\"shades\",\"Ken\",\"LIBERAL\",\"idols\",\"doing_something\",\"pro-choice\",\"smash\",\"James_Jones\",\"deployed\",\"LEGO\",\"jock\",\"dressing\",\"wikileaks\",\"paths\",\"besides\",\"cells\",\"01100101\",\"smith\",\"false_flags\",\"definitively\",\"truck_driver\",\"Martian\",\"keys\",\"cafe\",\"OMG_SO\",\"stop_laughing\",\"cabbage\",\"mass_shooting\",\"Pittsburgh\",\"legal_advice\",\"alright_alright\",\"stain\",\"less_likely\",\"210\",\"Michael_Vick\",\"Attention\",\"THE_FUCK\",\"Sick\",\"Evidence\",\"trans_women\",\"advertised\",\"Lies\",\"Serie_A\",\"developing\",\"hydrogen\",\"saying\",\"RDA\",\"pans\",\"HIM\",\"unregulated\",\"racial_slurs\",\"His\",\"45\",\"49_%\",\"Condoms\",\"McHale\",\"Ronald_Reagan\",\"Ooooh\",\"HEAT\",\"feel_comfortable\",\"SMALL\",\"mental_illness\",\"violent\",\"population\",\"an_agenda\",\"hardly_any\",\"small_group\",\"witch_hunt\",\"steroid\",\"interests\",\"navigation\",\"Dec\",\"utilize\",\"Certified\",\"criminally\",\"id_say\",\"tithing\",\"filler\",\"yesterday\",\"typical\",\"Riven\",\"tactical\",\"caster\",\"gates\",\"destined\",\"coarse\",\"abyss\",\"involvement\",\"class\",\"oligarchy\",\"untill\",\"cabal\",\"opposite_sex\",\"NX\",\"Reds\",\"copyrighted\",\"same-sex_marriage\",\"awarded\",\"explains\",\"Sanders_supporters\",\"journalists\",\"an_extended\",\"gym\",\"chuck\",\"CC\",\"studs\",\"Oh_dear\",\"reworked\",\"IS_N'T\",\"pup\",\"My_theory\",\"low_effort\",\"dankest\",\"pendulum\",\"guitar\",\"unfunny\",\"better\",\"LCS\",\"changes_everything\",\"shatter\",\"stove\",\"stop_oppressing\",\"Ventura\",\"combined\",\"sinks\",\"your_ears\",\"overall\",\"reich\",\"Who_knew\",\"Samuel\",\"borderline\",\"adcs\",\"1v2\",\"mourning\",\"Gives\",\"Falling\",\"Nice_job\",\"transcript\",\"Real\",\"negotiation\",\"Dicks_out\",\"segregated\",\"galactic\",\"those_things\",\"miles_away\",\"offs\",\"caring\",\"circumstances\",\"gunner\",\"heretic\",\"films\",\"lied\",\"comprised\",\"patriotism\",\"diagnosed\",\"Allied\",\"Oreos\",\"rap\",\"TRONALD_DUMP\",\"accordingly\",\"thermal\",\"shouldnt\",\"Lot\",\"mouths\",\"moderators\",\"bald\",\"seems\",\"trial\",\"dominates\",\"Eragon\",\"'it\",\"happy_birthday\",\"puddle\",\"blunts\",\"pretty_damn\",\"talks\",\"dealing_with\",\"cartoons\",\"grandparents\",\"PSVR\",\"little_kids\",\"Obligatory\",\"tin\",\"50\",\"being_abused\",\"restaurants\",\"responses\",\"premier_league\",\"starvation\",\"discriminate\",\"will\",\"Unions\",\"tin_foil\",\"nonono\",\"Establishment\",\"CPUs\",\"awareness\",\"vidya\",\"THEY_DO\",\"an_improvement\",\"Neither_did\",\"ever_met\",\"kiddie\",\"Ummm\",\"VAT\",\"funding\",\"invasion\",\"corgi\",\"pet\",\"durable\",\"pop-up\",\"bloodborne\",\"YOU_GUYS\",\"Shaman\",\"attic\",\"Same_goes\",\"tubes\",\"comment_above\",\"thrilling\",\"Software\",\"latest\",\"hehe\",\"wrist\",\"nonviolent\",\"stealthy\",\"PA\",\"reroll\",\"Large\",\"interior\",\"learnt\",\"Granted\",\"Sushi\",\"annoyed\",\"air\",\"more_accurate\",\"higher_resolution\",\"Tried\",\"viable_option\",\"falling_asleep\",\"Path\",\"coloreds\",\"overused\",\"SU\",\"Pffff\",\"Fair\",\"Zimmerman\",\"mentally_challenged\",\"Zlatan\",\"RG3\",\"prints\",\"mushrooms\",\"Building\",\"paintball\",\"factor\",\"holster\",\"detected\",\"Japanese\",\"Heaven\",\"pros\",\"Non\",\"subset_of\",\"only_6,000\",\"step_away\",\"math\",\"check\",\"whim\",\"offends\",\"democracy\",\"race_relations\",\"alcoholic\",\"louder_than\",\"coral\",\"3D\",\"strong\",\"waitress\",\"popular_opinion\",\"'ve_gotten\",\"News\",\"count\",\"Legendary\",\"fridge\",\"speed_limit\",\"couch\",\"POTG\",\"accepted\",\"stacked\",\"much_worse\",\"woops\",\"bashing\",\"changing\",\"Martha\",\"military_grade\",\"punk_rock\",\"+15\",\"greeting\",\"toddler\",\"completely_different\",\"SQL\",\"US_soil\",\"BTW\",\"remove\",\"Excellent\",\"anchor\",\"definitions\",\"doors\",\"charges\",\"ele\",\"pigeons\",\"theory\",\"Down_voted\",\"turn_off\",\"zed\",\"HAVE\",\"antiquated\",\"array\",\"Shen\",\"drug_test\",\"communication\",\"Paul\",\"Rising\",\"differently\",\"two_separate\",\"understand\",\"Reason\",\"web_browser\",\"morale\",\"Gods\",\"patients\",\"finance\",\"middle_aged\",\"misandry\",\"Hills\",\"'re_supposed\",\"paraphrasing\",\"bent_over\",\"sidebar\",\"Diablo\",\"LEVEL\",\"universes\",\"cement\",\"boo\",\"americans\",\"investigate\",\"pays_off\",\"extinction\",\"Uber\",\"status\",\"Many\",\"Ocarina_of\",\"Cause\",\"so_badly\",\"Steal\",\"civil_war\",\"Infinite_Warfare\",\"Whatever\",\"Hair\",\"hero_power\",\"Curious\",\"Remember_guys\",\"Takes\",\"FIVE\",\"objective\",\"Gary_Johnson\",\":_\\\\^\",\"steaks\",\"Matt_Damon\",\"invasive\",\"identified\",\"Shocked\",\"VERY\",\"mental\",\"rational_response\",\"Oklahoma\",\"british\",\"MLG\",\"tell_ya\",\"coaches\",\"useful\",\"Protect\",\"Mitchell\",\"storyline\",\"africa\",\"Whereas\",\"passion\",\"twitch_chat\",\"thermal_paste\",\"Marvin\",\"delicate\",\"Edition_SLI\",\"Major\",\"your_username\",\"Luna\",\"project\",\"small_business\",\"unions\",\"back_yard\",\"willpower\",\"cancel_each\",\"priced\",\"far_fetched\",\"CALLED\",\"Ya\",\"posters\",\"temporarily\",\"Fingers_crossed\",\"compensate\",\"TERRIBLE\",\"remained\",\"WHY_DO\",\"marathon\",\"spurs\",\"`\",\"P_O\",\"generates\",\"'Cause\",\"Comedy\",\"distinction_between\",\"soloq\",\"CAN\",\"Trade_him\",\"HHH\",\"hut\",\"trigger_discipline\",\"fuck_fuck\",\"it\",\"fucking_retarded\",\"Odyssey\",\"cringing\",\"Angel\",\"believer\",\"2.0\",\"extreme\",\"Computer\",\"race_card\",\"Larson\",\"infer\",\"had\",\"Sammy\",\"current_system\",\"refurbished\",\"your_soul\",\"Echo\",\"years_old\",\"SEA\",\"ROM\",\"Thai\",\"explanation\",\"followed_by\",\"1_%\",\"outrage\",\"insights\",\"child_support\",\"entitlement\",\"members\",\"upvoting\",\"AS\",\"Shelby\",\"middle-aged\",\"punch\",\"micro\",\"olympics\",\"our_throats\",\"sex_drive\",\"Jefferson\",\"Proud\",\"Brussels\",\"dictates\",\"Filthy\",\"coordinated\",\"entered\",\"Eden\",\"academia\",\"innovation\",\"pacman\",\"sim\",\"bowling\",\"questions_asked\",\"rarer\",\"leggings\",\"defence\",\"Jericho\",\"halloween\",\"Shady\",\"Bolt\",\"Definitely\",\"rogue\",\"trailer_park\",\"dumps\",\"music_videos\",\"touring\",\"pistol\",\"generalization\",\"restoring\",\"Fukushima\",\"Bungie\",\"explain\",\"tax_dollars\",\"misleading\",\"Release\",\"having\",\"Flair\",\"realities\",\"Belgian\",\"pin\",\"Discovery\",\"cheaper_than\",\"}_}\",\"channel\",\"cut_yourself\",\"especially_considering\",\"washington\",\"tester\",\"adapter\",\"Kassadin\",\"Ranger\",\"2.5\",\"commons\",\"an_acronym\",\"dollars_worth\",\"Adobe\",\"farting\",\"defend_against\",\"from\",\"My_dog\",\"Al_Qaeda\",\"Kent\",\"remarkable\",\"vacations\",\"carriage\",\"Elder_Scrolls\",\"duty\",\"meetup\",\"SCUM\",\"Adelaide\",\"Here\",\"'m_sorry\",\"zerg\",\"Psh\",\"downvote_brigade\",\"Shaw\",\"next_time\",\"Pulling\",\"hard_hitting\",\"missions\",\"Bucks\"],\"shape\":[5000],\"dtype\":\"object\",\"order\":\"little\"}]]}}},\"view\":{\"type\":\"object\",\"name\":\"CDSView\",\"id\":\"p1040\",\"attributes\":{\"filter\":{\"type\":\"object\",\"name\":\"AllIndices\",\"id\":\"p1041\"}}},\"glyph\":{\"type\":\"object\",\"name\":\"Text\",\"id\":\"p1036\",\"attributes\":{\"x\":{\"type\":\"field\",\"field\":\"x\"},\"y\":{\"type\":\"field\",\"field\":\"y\"},\"text\":{\"type\":\"field\",\"field\":\"text\"},\"text_color\":{\"type\":\"value\",\"value\":\"black\"}}},\"nonselection_glyph\":{\"type\":\"object\",\"name\":\"Text\",\"id\":\"p1037\",\"attributes\":{\"x\":{\"type\":\"field\",\"field\":\"x\"},\"y\":{\"type\":\"field\",\"field\":\"y\"},\"text\":{\"type\":\"field\",\"field\":\"text\"},\"text_color\":{\"type\":\"value\",\"value\":\"black\"},\"text_alpha\":{\"type\":\"value\",\"value\":0.1}}},\"muted_glyph\":{\"type\":\"object\",\"name\":\"Text\",\"id\":\"p1038\",\"attributes\":{\"x\":{\"type\":\"field\",\"field\":\"x\"},\"y\":{\"type\":\"field\",\"field\":\"y\"},\"text\":{\"type\":\"field\",\"field\":\"text\"},\"text_color\":{\"type\":\"value\",\"value\":\"black\"},\"text_alpha\":{\"type\":\"value\",\"value\":0.2}}}}}],\"toolbar\":{\"type\":\"object\",\"name\":\"Toolbar\",\"id\":\"p1009\",\"attributes\":{\"tools\":[{\"type\":\"object\",\"name\":\"PanTool\",\"id\":\"p1022\"},{\"type\":\"object\",\"name\":\"WheelZoomTool\",\"id\":\"p1023\",\"attributes\":{\"renderers\":\"auto\"}},{\"type\":\"object\",\"name\":\"BoxZoomTool\",\"id\":\"p1024\",\"attributes\":{\"overlay\":{\"type\":\"object\",\"name\":\"BoxAnnotation\",\"id\":\"p1025\",\"attributes\":{\"syncable\":false,\"level\":\"overlay\",\"visible\":false,\"left\":{\"type\":\"number\",\"value\":\"nan\"},\"right\":{\"type\":\"number\",\"value\":\"nan\"},\"top\":{\"type\":\"number\",\"value\":\"nan\"},\"bottom\":{\"type\":\"number\",\"value\":\"nan\"},\"left_units\":\"canvas\",\"right_units\":\"canvas\",\"top_units\":\"canvas\",\"bottom_units\":\"canvas\",\"line_color\":\"black\",\"line_alpha\":1.0,\"line_width\":2,\"line_dash\":[4,4],\"fill_color\":\"lightgrey\",\"fill_alpha\":0.5}}}},{\"type\":\"object\",\"name\":\"SaveTool\",\"id\":\"p1030\"},{\"type\":\"object\",\"name\":\"ResetTool\",\"id\":\"p1031\"},{\"type\":\"object\",\"name\":\"HelpTool\",\"id\":\"p1032\"}]}},\"left\":[{\"type\":\"object\",\"name\":\"LinearAxis\",\"id\":\"p1017\",\"attributes\":{\"ticker\":{\"type\":\"object\",\"name\":\"BasicTicker\",\"id\":\"p1018\",\"attributes\":{\"mantissas\":[1,2,5]}},\"formatter\":{\"type\":\"object\",\"name\":\"BasicTickFormatter\",\"id\":\"p1019\"},\"major_label_policy\":{\"type\":\"object\",\"name\":\"AllLabels\",\"id\":\"p1020\"}}}],\"below\":[{\"type\":\"object\",\"name\":\"LinearAxis\",\"id\":\"p1012\",\"attributes\":{\"ticker\":{\"type\":\"object\",\"name\":\"BasicTicker\",\"id\":\"p1013\",\"attributes\":{\"mantissas\":[1,2,5]}},\"formatter\":{\"type\":\"object\",\"name\":\"BasicTickFormatter\",\"id\":\"p1014\"},\"major_label_policy\":{\"type\":\"object\",\"name\":\"AllLabels\",\"id\":\"p1015\"}}}],\"center\":[{\"type\":\"object\",\"name\":\"Grid\",\"id\":\"p1016\",\"attributes\":{\"axis\":{\"id\":\"p1012\"}}},{\"type\":\"object\",\"name\":\"Grid\",\"id\":\"p1021\",\"attributes\":{\"dimension\":1,\"axis\":{\"id\":\"p1017\"}}}]}}]}};\n",
              "  const render_items = [{\"docid\":\"e410d900-6ebd-401a-b966-71f80ff2591d\",\"roots\":{\"p1001\":\"d1e820bf-62e6-41e1-b39f-7761c308133f\"},\"root_ids\":[\"p1001\"]}];\n",
              "  root.Bokeh.embed.embed_items_notebook(docs_json, render_items);\n",
              "  }\n",
              "  if (root.Bokeh !== undefined) {\n",
              "    embed_document(root);\n",
              "  } else {\n",
              "    let attempts = 0;\n",
              "    const timer = setInterval(function(root) {\n",
              "      if (root.Bokeh !== undefined) {\n",
              "        clearInterval(timer);\n",
              "        embed_document(root);\n",
              "      } else {\n",
              "        attempts++;\n",
              "        if (attempts > 100) {\n",
              "          clearInterval(timer);\n",
              "          console.log(\"Bokeh: ERROR: Unable to run BokehJS code because BokehJS library is missing\");\n",
              "        }\n",
              "      }\n",
              "    }, 10, root)\n",
              "  }\n",
              "})(window);"
            ],
            "application/vnd.bokehjs_exec.v0+json": ""
          },
          "metadata": {
            "application/vnd.bokehjs_exec.v0+json": {
              "id": "p1001"
            }
          }
        }
      ]
    },
    {
      "cell_type": "markdown",
      "source": [
        "# Start LSTM architecture with these initial embeddings before BERT\n"
      ],
      "metadata": {
        "id": "fIbme868woHt"
      }
    },
    {
      "cell_type": "markdown",
      "source": [
        "# Need to create embeddings matrix for LSTM\n"
      ],
      "metadata": {
        "id": "5AfbFAoaz39X"
      }
    },
    {
      "cell_type": "code",
      "source": [
        "train_bal.dropna(inplace=True)"
      ],
      "metadata": {
        "id": "iqVkwcnsv8pV"
      },
      "execution_count": 50,
      "outputs": []
    },
    {
      "cell_type": "code",
      "source": [
        "train_bal.shape[0]"
      ],
      "metadata": {
        "id": "nwXq1Lorv_5m",
        "outputId": "8112064d-229f-40b0-dd02-97188d4305e9",
        "colab": {
          "base_uri": "https://localhost:8080/"
        }
      },
      "execution_count": 51,
      "outputs": [
        {
          "output_type": "execute_result",
          "data": {
            "text/plain": [
              "808618"
            ]
          },
          "metadata": {},
          "execution_count": 51
        }
      ]
    },
    {
      "cell_type": "code",
      "source": [
        "train_bal.head(5)"
      ],
      "metadata": {
        "id": "rayjb8TvwG8R",
        "outputId": "ecec61b1-efc6-4fd7-e766-b7a143d7a745",
        "colab": {
          "base_uri": "https://localhost:8080/",
          "height": 206
        }
      },
      "execution_count": 79,
      "outputs": [
        {
          "output_type": "execute_result",
          "data": {
            "text/plain": [
              "        label                                            comment       author  \\\n",
              "522142      0  I personally wasn't a huge Garrosh fan, I've a...  cromemako83   \n",
              "907864      1                                     you forgot the  _SharkWeek_   \n",
              "604170      1                 Nah man, she's clearly an ad carry    jdswift13   \n",
              "110635      1                            This sub in a nutshell.    trickz-M-   \n",
              "997758      0                                       Yes... I do.    guriboysf   \n",
              "\n",
              "              subreddit  score  ups  downs     date          created_utc  \\\n",
              "522142        AskReddit      2    2      0  2015-07  2015-07-11 01:55:53   \n",
              "907864        AskReddit      1    1      0  2013-03  2013-03-14 03:03:46   \n",
              "604170  leagueoflegends      1    1      0  2015-10  2015-10-21 23:22:17   \n",
              "110635  GlobalOffensive      1   -1     -1  2016-12  2016-12-05 03:50:18   \n",
              "997758           videos      4    4      0  2010-01  2010-01-17 21:32:40   \n",
              "\n",
              "                                           parent_comment  \n",
              "522142  Fuck Vol'jin. Garrosh Hellscream did nothing w...  \n",
              "907864  That's a lie fed to you by the LIEberal media....  \n",
              "604170                                  she isnt already?  \n",
              "110635            Cloud 9 Qualify! (ONLY C9 FANS ALLOWED(  \n",
              "997758                  \"so, i hear you have a fat cock.\"  "
            ],
            "text/html": [
              "\n",
              "  <div id=\"df-548ae21e-bcd9-4087-b8b2-d6499ef3fae0\" class=\"colab-df-container\">\n",
              "    <div>\n",
              "<style scoped>\n",
              "    .dataframe tbody tr th:only-of-type {\n",
              "        vertical-align: middle;\n",
              "    }\n",
              "\n",
              "    .dataframe tbody tr th {\n",
              "        vertical-align: top;\n",
              "    }\n",
              "\n",
              "    .dataframe thead th {\n",
              "        text-align: right;\n",
              "    }\n",
              "</style>\n",
              "<table border=\"1\" class=\"dataframe\">\n",
              "  <thead>\n",
              "    <tr style=\"text-align: right;\">\n",
              "      <th></th>\n",
              "      <th>label</th>\n",
              "      <th>comment</th>\n",
              "      <th>author</th>\n",
              "      <th>subreddit</th>\n",
              "      <th>score</th>\n",
              "      <th>ups</th>\n",
              "      <th>downs</th>\n",
              "      <th>date</th>\n",
              "      <th>created_utc</th>\n",
              "      <th>parent_comment</th>\n",
              "    </tr>\n",
              "  </thead>\n",
              "  <tbody>\n",
              "    <tr>\n",
              "      <th>522142</th>\n",
              "      <td>0</td>\n",
              "      <td>I personally wasn't a huge Garrosh fan, I've a...</td>\n",
              "      <td>cromemako83</td>\n",
              "      <td>AskReddit</td>\n",
              "      <td>2</td>\n",
              "      <td>2</td>\n",
              "      <td>0</td>\n",
              "      <td>2015-07</td>\n",
              "      <td>2015-07-11 01:55:53</td>\n",
              "      <td>Fuck Vol'jin. Garrosh Hellscream did nothing w...</td>\n",
              "    </tr>\n",
              "    <tr>\n",
              "      <th>907864</th>\n",
              "      <td>1</td>\n",
              "      <td>you forgot the</td>\n",
              "      <td>_SharkWeek_</td>\n",
              "      <td>AskReddit</td>\n",
              "      <td>1</td>\n",
              "      <td>1</td>\n",
              "      <td>0</td>\n",
              "      <td>2013-03</td>\n",
              "      <td>2013-03-14 03:03:46</td>\n",
              "      <td>That's a lie fed to you by the LIEberal media....</td>\n",
              "    </tr>\n",
              "    <tr>\n",
              "      <th>604170</th>\n",
              "      <td>1</td>\n",
              "      <td>Nah man, she's clearly an ad carry</td>\n",
              "      <td>jdswift13</td>\n",
              "      <td>leagueoflegends</td>\n",
              "      <td>1</td>\n",
              "      <td>1</td>\n",
              "      <td>0</td>\n",
              "      <td>2015-10</td>\n",
              "      <td>2015-10-21 23:22:17</td>\n",
              "      <td>she isnt already?</td>\n",
              "    </tr>\n",
              "    <tr>\n",
              "      <th>110635</th>\n",
              "      <td>1</td>\n",
              "      <td>This sub in a nutshell.</td>\n",
              "      <td>trickz-M-</td>\n",
              "      <td>GlobalOffensive</td>\n",
              "      <td>1</td>\n",
              "      <td>-1</td>\n",
              "      <td>-1</td>\n",
              "      <td>2016-12</td>\n",
              "      <td>2016-12-05 03:50:18</td>\n",
              "      <td>Cloud 9 Qualify! (ONLY C9 FANS ALLOWED(</td>\n",
              "    </tr>\n",
              "    <tr>\n",
              "      <th>997758</th>\n",
              "      <td>0</td>\n",
              "      <td>Yes... I do.</td>\n",
              "      <td>guriboysf</td>\n",
              "      <td>videos</td>\n",
              "      <td>4</td>\n",
              "      <td>4</td>\n",
              "      <td>0</td>\n",
              "      <td>2010-01</td>\n",
              "      <td>2010-01-17 21:32:40</td>\n",
              "      <td>\"so, i hear you have a fat cock.\"</td>\n",
              "    </tr>\n",
              "  </tbody>\n",
              "</table>\n",
              "</div>\n",
              "    <div class=\"colab-df-buttons\">\n",
              "\n",
              "  <div class=\"colab-df-container\">\n",
              "    <button class=\"colab-df-convert\" onclick=\"convertToInteractive('df-548ae21e-bcd9-4087-b8b2-d6499ef3fae0')\"\n",
              "            title=\"Convert this dataframe to an interactive table.\"\n",
              "            style=\"display:none;\">\n",
              "\n",
              "  <svg xmlns=\"http://www.w3.org/2000/svg\" height=\"24px\" viewBox=\"0 -960 960 960\">\n",
              "    <path d=\"M120-120v-720h720v720H120Zm60-500h600v-160H180v160Zm220 220h160v-160H400v160Zm0 220h160v-160H400v160ZM180-400h160v-160H180v160Zm440 0h160v-160H620v160ZM180-180h160v-160H180v160Zm440 0h160v-160H620v160Z\"/>\n",
              "  </svg>\n",
              "    </button>\n",
              "\n",
              "  <style>\n",
              "    .colab-df-container {\n",
              "      display:flex;\n",
              "      gap: 12px;\n",
              "    }\n",
              "\n",
              "    .colab-df-convert {\n",
              "      background-color: #E8F0FE;\n",
              "      border: none;\n",
              "      border-radius: 50%;\n",
              "      cursor: pointer;\n",
              "      display: none;\n",
              "      fill: #1967D2;\n",
              "      height: 32px;\n",
              "      padding: 0 0 0 0;\n",
              "      width: 32px;\n",
              "    }\n",
              "\n",
              "    .colab-df-convert:hover {\n",
              "      background-color: #E2EBFA;\n",
              "      box-shadow: 0px 1px 2px rgba(60, 64, 67, 0.3), 0px 1px 3px 1px rgba(60, 64, 67, 0.15);\n",
              "      fill: #174EA6;\n",
              "    }\n",
              "\n",
              "    .colab-df-buttons div {\n",
              "      margin-bottom: 4px;\n",
              "    }\n",
              "\n",
              "    [theme=dark] .colab-df-convert {\n",
              "      background-color: #3B4455;\n",
              "      fill: #D2E3FC;\n",
              "    }\n",
              "\n",
              "    [theme=dark] .colab-df-convert:hover {\n",
              "      background-color: #434B5C;\n",
              "      box-shadow: 0px 1px 3px 1px rgba(0, 0, 0, 0.15);\n",
              "      filter: drop-shadow(0px 1px 2px rgba(0, 0, 0, 0.3));\n",
              "      fill: #FFFFFF;\n",
              "    }\n",
              "  </style>\n",
              "\n",
              "    <script>\n",
              "      const buttonEl =\n",
              "        document.querySelector('#df-548ae21e-bcd9-4087-b8b2-d6499ef3fae0 button.colab-df-convert');\n",
              "      buttonEl.style.display =\n",
              "        google.colab.kernel.accessAllowed ? 'block' : 'none';\n",
              "\n",
              "      async function convertToInteractive(key) {\n",
              "        const element = document.querySelector('#df-548ae21e-bcd9-4087-b8b2-d6499ef3fae0');\n",
              "        const dataTable =\n",
              "          await google.colab.kernel.invokeFunction('convertToInteractive',\n",
              "                                                    [key], {});\n",
              "        if (!dataTable) return;\n",
              "\n",
              "        const docLinkHtml = 'Like what you see? Visit the ' +\n",
              "          '<a target=\"_blank\" href=https://colab.research.google.com/notebooks/data_table.ipynb>data table notebook</a>'\n",
              "          + ' to learn more about interactive tables.';\n",
              "        element.innerHTML = '';\n",
              "        dataTable['output_type'] = 'display_data';\n",
              "        await google.colab.output.renderOutput(dataTable, element);\n",
              "        const docLink = document.createElement('div');\n",
              "        docLink.innerHTML = docLinkHtml;\n",
              "        element.appendChild(docLink);\n",
              "      }\n",
              "    </script>\n",
              "  </div>\n",
              "\n",
              "\n",
              "<div id=\"df-8b84f541-4864-400b-9786-ad16ec4384ba\">\n",
              "  <button class=\"colab-df-quickchart\" onclick=\"quickchart('df-8b84f541-4864-400b-9786-ad16ec4384ba')\"\n",
              "            title=\"Suggest charts\"\n",
              "            style=\"display:none;\">\n",
              "\n",
              "<svg xmlns=\"http://www.w3.org/2000/svg\" height=\"24px\"viewBox=\"0 0 24 24\"\n",
              "     width=\"24px\">\n",
              "    <g>\n",
              "        <path d=\"M19 3H5c-1.1 0-2 .9-2 2v14c0 1.1.9 2 2 2h14c1.1 0 2-.9 2-2V5c0-1.1-.9-2-2-2zM9 17H7v-7h2v7zm4 0h-2V7h2v10zm4 0h-2v-4h2v4z\"/>\n",
              "    </g>\n",
              "</svg>\n",
              "  </button>\n",
              "\n",
              "<style>\n",
              "  .colab-df-quickchart {\n",
              "      --bg-color: #E8F0FE;\n",
              "      --fill-color: #1967D2;\n",
              "      --hover-bg-color: #E2EBFA;\n",
              "      --hover-fill-color: #174EA6;\n",
              "      --disabled-fill-color: #AAA;\n",
              "      --disabled-bg-color: #DDD;\n",
              "  }\n",
              "\n",
              "  [theme=dark] .colab-df-quickchart {\n",
              "      --bg-color: #3B4455;\n",
              "      --fill-color: #D2E3FC;\n",
              "      --hover-bg-color: #434B5C;\n",
              "      --hover-fill-color: #FFFFFF;\n",
              "      --disabled-bg-color: #3B4455;\n",
              "      --disabled-fill-color: #666;\n",
              "  }\n",
              "\n",
              "  .colab-df-quickchart {\n",
              "    background-color: var(--bg-color);\n",
              "    border: none;\n",
              "    border-radius: 50%;\n",
              "    cursor: pointer;\n",
              "    display: none;\n",
              "    fill: var(--fill-color);\n",
              "    height: 32px;\n",
              "    padding: 0;\n",
              "    width: 32px;\n",
              "  }\n",
              "\n",
              "  .colab-df-quickchart:hover {\n",
              "    background-color: var(--hover-bg-color);\n",
              "    box-shadow: 0 1px 2px rgba(60, 64, 67, 0.3), 0 1px 3px 1px rgba(60, 64, 67, 0.15);\n",
              "    fill: var(--button-hover-fill-color);\n",
              "  }\n",
              "\n",
              "  .colab-df-quickchart-complete:disabled,\n",
              "  .colab-df-quickchart-complete:disabled:hover {\n",
              "    background-color: var(--disabled-bg-color);\n",
              "    fill: var(--disabled-fill-color);\n",
              "    box-shadow: none;\n",
              "  }\n",
              "\n",
              "  .colab-df-spinner {\n",
              "    border: 2px solid var(--fill-color);\n",
              "    border-color: transparent;\n",
              "    border-bottom-color: var(--fill-color);\n",
              "    animation:\n",
              "      spin 1s steps(1) infinite;\n",
              "  }\n",
              "\n",
              "  @keyframes spin {\n",
              "    0% {\n",
              "      border-color: transparent;\n",
              "      border-bottom-color: var(--fill-color);\n",
              "      border-left-color: var(--fill-color);\n",
              "    }\n",
              "    20% {\n",
              "      border-color: transparent;\n",
              "      border-left-color: var(--fill-color);\n",
              "      border-top-color: var(--fill-color);\n",
              "    }\n",
              "    30% {\n",
              "      border-color: transparent;\n",
              "      border-left-color: var(--fill-color);\n",
              "      border-top-color: var(--fill-color);\n",
              "      border-right-color: var(--fill-color);\n",
              "    }\n",
              "    40% {\n",
              "      border-color: transparent;\n",
              "      border-right-color: var(--fill-color);\n",
              "      border-top-color: var(--fill-color);\n",
              "    }\n",
              "    60% {\n",
              "      border-color: transparent;\n",
              "      border-right-color: var(--fill-color);\n",
              "    }\n",
              "    80% {\n",
              "      border-color: transparent;\n",
              "      border-right-color: var(--fill-color);\n",
              "      border-bottom-color: var(--fill-color);\n",
              "    }\n",
              "    90% {\n",
              "      border-color: transparent;\n",
              "      border-bottom-color: var(--fill-color);\n",
              "    }\n",
              "  }\n",
              "</style>\n",
              "\n",
              "  <script>\n",
              "    async function quickchart(key) {\n",
              "      const quickchartButtonEl =\n",
              "        document.querySelector('#' + key + ' button');\n",
              "      quickchartButtonEl.disabled = true;  // To prevent multiple clicks.\n",
              "      quickchartButtonEl.classList.add('colab-df-spinner');\n",
              "      try {\n",
              "        const charts = await google.colab.kernel.invokeFunction(\n",
              "            'suggestCharts', [key], {});\n",
              "      } catch (error) {\n",
              "        console.error('Error during call to suggestCharts:', error);\n",
              "      }\n",
              "      quickchartButtonEl.classList.remove('colab-df-spinner');\n",
              "      quickchartButtonEl.classList.add('colab-df-quickchart-complete');\n",
              "    }\n",
              "    (() => {\n",
              "      let quickchartButtonEl =\n",
              "        document.querySelector('#df-8b84f541-4864-400b-9786-ad16ec4384ba button');\n",
              "      quickchartButtonEl.style.display =\n",
              "        google.colab.kernel.accessAllowed ? 'block' : 'none';\n",
              "    })();\n",
              "  </script>\n",
              "</div>\n",
              "\n",
              "    </div>\n",
              "  </div>\n"
            ]
          },
          "metadata": {},
          "execution_count": 79
        }
      ]
    },
    {
      "cell_type": "code",
      "source": [
        "from sklearn.model_selection import train_test_split\n",
        "# split the dataset into 60% training and 40% validation and test sets\n",
        "train_df, val_test_df = train_test_split(train_bal, test_size=0.4, random_state=42)\n",
        "\n",
        "# split the 40% into half validation and half test sets\n",
        "val_df, test_df = train_test_split(val_test_df, test_size=0.5, random_state=42)"
      ],
      "metadata": {
        "id": "yqMoDkrHvk28"
      },
      "execution_count": 53,
      "outputs": []
    },
    {
      "cell_type": "code",
      "source": [
        "train_df # first word of 2nd comment is No which matches its mapping in the padded sequence df"
      ],
      "metadata": {
        "colab": {
          "base_uri": "https://localhost:8080/",
          "height": 423
        },
        "id": "m-GSOdozpYjm",
        "outputId": "dc45b55c-f47a-4a4d-926f-26b2088fa84e"
      },
      "execution_count": 80,
      "outputs": [
        {
          "output_type": "execute_result",
          "data": {
            "text/plain": [
              "        label                                            comment  \\\n",
              "898011      0                                           3edgy5me   \n",
              "813468      0  No it's faster to completely stop the entire g...   \n",
              "868717      0                           Did she actually change?   \n",
              "753135      1          But I thought Arsenal were a classy club?   \n",
              "979488      0  If you really think that HSBC is the only bank...   \n",
              "...       ...                                                ...   \n",
              "969949      1  Definitely devote all of your energy to this p...   \n",
              "395394      1                        Time for US to follow suit?   \n",
              "46198       1  By this logic we should hit all boss monsters ...   \n",
              "64079       0  Carotid arteries are in the neck and supply bl...   \n",
              "492678      1  But having random drunk people driving the wro...   \n",
              "\n",
              "               author            subreddit  score  ups  downs     date  \\\n",
              "898011   JealotGaming         pcmasterrace      1    1      0  2014-03   \n",
              "813468       golemike                  nba      3    3      0  2014-03   \n",
              "868717    FriarNurgle                 pics    254  254      0  2014-07   \n",
              "753135      BuzzAir44               soccer     -5   -5      0  2015-01   \n",
              "979488         ej2389  PoliticalDiscussion      1    1      0  2013-02   \n",
              "...               ...                  ...    ...  ...    ...      ...   \n",
              "969949      moriginal  relationship_advice      1    1      0  2013-09   \n",
              "395394   elusivewater             Military      2    2      0  2016-03   \n",
              "46198           Ylar_               yugioh      1   -1     -1  2016-10   \n",
              "64079    beckertastic                  WTF      1   -1     -1  2016-12   \n",
              "492678  Beagle_Bailey                tampa      3    3      0  2016-04   \n",
              "\n",
              "                created_utc                                     parent_comment  \n",
              "898011  2014-03-22 14:41:22                                   Gr8 b8 m8 r8 8/8  \n",
              "813468  2014-03-03 01:44:14  He did it incredibly fast and the opponents go...  \n",
              "868717  2014-07-18 22:00:37  Result: I did eventually facilitate her escape...  \n",
              "753135  2015-01-10 03:15:46  The infamous Ruud van Nistelrooy in a fierce m...  \n",
              "979488  2013-02-18 17:53:12  Except for HSBC, what crimes are you talking a...  \n",
              "...                     ...                                                ...  \n",
              "969949  2013-09-21 05:51:39  My boyfriend won't hang out with me. So, my bo...  \n",
              "395394  2016-03-28 12:35:30  New Army cyber warriors allowed long hair (UK,...  \n",
              "46198   2016-10-30 22:21:07  You might want to use some logic when arguing....  \n",
              "64079   2016-12-03 07:31:54  This is a shitty protip. Writing requires manu...  \n",
              "492678  2016-04-29 02:06:00  Uh, it's routine, and meant to get impaired dr...  \n",
              "\n",
              "[485170 rows x 10 columns]"
            ],
            "text/html": [
              "\n",
              "  <div id=\"df-2812cd26-180d-4456-ac0e-0f68ed378011\" class=\"colab-df-container\">\n",
              "    <div>\n",
              "<style scoped>\n",
              "    .dataframe tbody tr th:only-of-type {\n",
              "        vertical-align: middle;\n",
              "    }\n",
              "\n",
              "    .dataframe tbody tr th {\n",
              "        vertical-align: top;\n",
              "    }\n",
              "\n",
              "    .dataframe thead th {\n",
              "        text-align: right;\n",
              "    }\n",
              "</style>\n",
              "<table border=\"1\" class=\"dataframe\">\n",
              "  <thead>\n",
              "    <tr style=\"text-align: right;\">\n",
              "      <th></th>\n",
              "      <th>label</th>\n",
              "      <th>comment</th>\n",
              "      <th>author</th>\n",
              "      <th>subreddit</th>\n",
              "      <th>score</th>\n",
              "      <th>ups</th>\n",
              "      <th>downs</th>\n",
              "      <th>date</th>\n",
              "      <th>created_utc</th>\n",
              "      <th>parent_comment</th>\n",
              "    </tr>\n",
              "  </thead>\n",
              "  <tbody>\n",
              "    <tr>\n",
              "      <th>898011</th>\n",
              "      <td>0</td>\n",
              "      <td>3edgy5me</td>\n",
              "      <td>JealotGaming</td>\n",
              "      <td>pcmasterrace</td>\n",
              "      <td>1</td>\n",
              "      <td>1</td>\n",
              "      <td>0</td>\n",
              "      <td>2014-03</td>\n",
              "      <td>2014-03-22 14:41:22</td>\n",
              "      <td>Gr8 b8 m8 r8 8/8</td>\n",
              "    </tr>\n",
              "    <tr>\n",
              "      <th>813468</th>\n",
              "      <td>0</td>\n",
              "      <td>No it's faster to completely stop the entire g...</td>\n",
              "      <td>golemike</td>\n",
              "      <td>nba</td>\n",
              "      <td>3</td>\n",
              "      <td>3</td>\n",
              "      <td>0</td>\n",
              "      <td>2014-03</td>\n",
              "      <td>2014-03-03 01:44:14</td>\n",
              "      <td>He did it incredibly fast and the opponents go...</td>\n",
              "    </tr>\n",
              "    <tr>\n",
              "      <th>868717</th>\n",
              "      <td>0</td>\n",
              "      <td>Did she actually change?</td>\n",
              "      <td>FriarNurgle</td>\n",
              "      <td>pics</td>\n",
              "      <td>254</td>\n",
              "      <td>254</td>\n",
              "      <td>0</td>\n",
              "      <td>2014-07</td>\n",
              "      <td>2014-07-18 22:00:37</td>\n",
              "      <td>Result: I did eventually facilitate her escape...</td>\n",
              "    </tr>\n",
              "    <tr>\n",
              "      <th>753135</th>\n",
              "      <td>1</td>\n",
              "      <td>But I thought Arsenal were a classy club?</td>\n",
              "      <td>BuzzAir44</td>\n",
              "      <td>soccer</td>\n",
              "      <td>-5</td>\n",
              "      <td>-5</td>\n",
              "      <td>0</td>\n",
              "      <td>2015-01</td>\n",
              "      <td>2015-01-10 03:15:46</td>\n",
              "      <td>The infamous Ruud van Nistelrooy in a fierce m...</td>\n",
              "    </tr>\n",
              "    <tr>\n",
              "      <th>979488</th>\n",
              "      <td>0</td>\n",
              "      <td>If you really think that HSBC is the only bank...</td>\n",
              "      <td>ej2389</td>\n",
              "      <td>PoliticalDiscussion</td>\n",
              "      <td>1</td>\n",
              "      <td>1</td>\n",
              "      <td>0</td>\n",
              "      <td>2013-02</td>\n",
              "      <td>2013-02-18 17:53:12</td>\n",
              "      <td>Except for HSBC, what crimes are you talking a...</td>\n",
              "    </tr>\n",
              "    <tr>\n",
              "      <th>...</th>\n",
              "      <td>...</td>\n",
              "      <td>...</td>\n",
              "      <td>...</td>\n",
              "      <td>...</td>\n",
              "      <td>...</td>\n",
              "      <td>...</td>\n",
              "      <td>...</td>\n",
              "      <td>...</td>\n",
              "      <td>...</td>\n",
              "      <td>...</td>\n",
              "    </tr>\n",
              "    <tr>\n",
              "      <th>969949</th>\n",
              "      <td>1</td>\n",
              "      <td>Definitely devote all of your energy to this p...</td>\n",
              "      <td>moriginal</td>\n",
              "      <td>relationship_advice</td>\n",
              "      <td>1</td>\n",
              "      <td>1</td>\n",
              "      <td>0</td>\n",
              "      <td>2013-09</td>\n",
              "      <td>2013-09-21 05:51:39</td>\n",
              "      <td>My boyfriend won't hang out with me. So, my bo...</td>\n",
              "    </tr>\n",
              "    <tr>\n",
              "      <th>395394</th>\n",
              "      <td>1</td>\n",
              "      <td>Time for US to follow suit?</td>\n",
              "      <td>elusivewater</td>\n",
              "      <td>Military</td>\n",
              "      <td>2</td>\n",
              "      <td>2</td>\n",
              "      <td>0</td>\n",
              "      <td>2016-03</td>\n",
              "      <td>2016-03-28 12:35:30</td>\n",
              "      <td>New Army cyber warriors allowed long hair (UK,...</td>\n",
              "    </tr>\n",
              "    <tr>\n",
              "      <th>46198</th>\n",
              "      <td>1</td>\n",
              "      <td>By this logic we should hit all boss monsters ...</td>\n",
              "      <td>Ylar_</td>\n",
              "      <td>yugioh</td>\n",
              "      <td>1</td>\n",
              "      <td>-1</td>\n",
              "      <td>-1</td>\n",
              "      <td>2016-10</td>\n",
              "      <td>2016-10-30 22:21:07</td>\n",
              "      <td>You might want to use some logic when arguing....</td>\n",
              "    </tr>\n",
              "    <tr>\n",
              "      <th>64079</th>\n",
              "      <td>0</td>\n",
              "      <td>Carotid arteries are in the neck and supply bl...</td>\n",
              "      <td>beckertastic</td>\n",
              "      <td>WTF</td>\n",
              "      <td>1</td>\n",
              "      <td>-1</td>\n",
              "      <td>-1</td>\n",
              "      <td>2016-12</td>\n",
              "      <td>2016-12-03 07:31:54</td>\n",
              "      <td>This is a shitty protip. Writing requires manu...</td>\n",
              "    </tr>\n",
              "    <tr>\n",
              "      <th>492678</th>\n",
              "      <td>1</td>\n",
              "      <td>But having random drunk people driving the wro...</td>\n",
              "      <td>Beagle_Bailey</td>\n",
              "      <td>tampa</td>\n",
              "      <td>3</td>\n",
              "      <td>3</td>\n",
              "      <td>0</td>\n",
              "      <td>2016-04</td>\n",
              "      <td>2016-04-29 02:06:00</td>\n",
              "      <td>Uh, it's routine, and meant to get impaired dr...</td>\n",
              "    </tr>\n",
              "  </tbody>\n",
              "</table>\n",
              "<p>485170 rows × 10 columns</p>\n",
              "</div>\n",
              "    <div class=\"colab-df-buttons\">\n",
              "\n",
              "  <div class=\"colab-df-container\">\n",
              "    <button class=\"colab-df-convert\" onclick=\"convertToInteractive('df-2812cd26-180d-4456-ac0e-0f68ed378011')\"\n",
              "            title=\"Convert this dataframe to an interactive table.\"\n",
              "            style=\"display:none;\">\n",
              "\n",
              "  <svg xmlns=\"http://www.w3.org/2000/svg\" height=\"24px\" viewBox=\"0 -960 960 960\">\n",
              "    <path d=\"M120-120v-720h720v720H120Zm60-500h600v-160H180v160Zm220 220h160v-160H400v160Zm0 220h160v-160H400v160ZM180-400h160v-160H180v160Zm440 0h160v-160H620v160ZM180-180h160v-160H180v160Zm440 0h160v-160H620v160Z\"/>\n",
              "  </svg>\n",
              "    </button>\n",
              "\n",
              "  <style>\n",
              "    .colab-df-container {\n",
              "      display:flex;\n",
              "      gap: 12px;\n",
              "    }\n",
              "\n",
              "    .colab-df-convert {\n",
              "      background-color: #E8F0FE;\n",
              "      border: none;\n",
              "      border-radius: 50%;\n",
              "      cursor: pointer;\n",
              "      display: none;\n",
              "      fill: #1967D2;\n",
              "      height: 32px;\n",
              "      padding: 0 0 0 0;\n",
              "      width: 32px;\n",
              "    }\n",
              "\n",
              "    .colab-df-convert:hover {\n",
              "      background-color: #E2EBFA;\n",
              "      box-shadow: 0px 1px 2px rgba(60, 64, 67, 0.3), 0px 1px 3px 1px rgba(60, 64, 67, 0.15);\n",
              "      fill: #174EA6;\n",
              "    }\n",
              "\n",
              "    .colab-df-buttons div {\n",
              "      margin-bottom: 4px;\n",
              "    }\n",
              "\n",
              "    [theme=dark] .colab-df-convert {\n",
              "      background-color: #3B4455;\n",
              "      fill: #D2E3FC;\n",
              "    }\n",
              "\n",
              "    [theme=dark] .colab-df-convert:hover {\n",
              "      background-color: #434B5C;\n",
              "      box-shadow: 0px 1px 3px 1px rgba(0, 0, 0, 0.15);\n",
              "      filter: drop-shadow(0px 1px 2px rgba(0, 0, 0, 0.3));\n",
              "      fill: #FFFFFF;\n",
              "    }\n",
              "  </style>\n",
              "\n",
              "    <script>\n",
              "      const buttonEl =\n",
              "        document.querySelector('#df-2812cd26-180d-4456-ac0e-0f68ed378011 button.colab-df-convert');\n",
              "      buttonEl.style.display =\n",
              "        google.colab.kernel.accessAllowed ? 'block' : 'none';\n",
              "\n",
              "      async function convertToInteractive(key) {\n",
              "        const element = document.querySelector('#df-2812cd26-180d-4456-ac0e-0f68ed378011');\n",
              "        const dataTable =\n",
              "          await google.colab.kernel.invokeFunction('convertToInteractive',\n",
              "                                                    [key], {});\n",
              "        if (!dataTable) return;\n",
              "\n",
              "        const docLinkHtml = 'Like what you see? Visit the ' +\n",
              "          '<a target=\"_blank\" href=https://colab.research.google.com/notebooks/data_table.ipynb>data table notebook</a>'\n",
              "          + ' to learn more about interactive tables.';\n",
              "        element.innerHTML = '';\n",
              "        dataTable['output_type'] = 'display_data';\n",
              "        await google.colab.output.renderOutput(dataTable, element);\n",
              "        const docLink = document.createElement('div');\n",
              "        docLink.innerHTML = docLinkHtml;\n",
              "        element.appendChild(docLink);\n",
              "      }\n",
              "    </script>\n",
              "  </div>\n",
              "\n",
              "\n",
              "<div id=\"df-c97c3990-159f-4569-a581-2ede5f2c87f8\">\n",
              "  <button class=\"colab-df-quickchart\" onclick=\"quickchart('df-c97c3990-159f-4569-a581-2ede5f2c87f8')\"\n",
              "            title=\"Suggest charts\"\n",
              "            style=\"display:none;\">\n",
              "\n",
              "<svg xmlns=\"http://www.w3.org/2000/svg\" height=\"24px\"viewBox=\"0 0 24 24\"\n",
              "     width=\"24px\">\n",
              "    <g>\n",
              "        <path d=\"M19 3H5c-1.1 0-2 .9-2 2v14c0 1.1.9 2 2 2h14c1.1 0 2-.9 2-2V5c0-1.1-.9-2-2-2zM9 17H7v-7h2v7zm4 0h-2V7h2v10zm4 0h-2v-4h2v4z\"/>\n",
              "    </g>\n",
              "</svg>\n",
              "  </button>\n",
              "\n",
              "<style>\n",
              "  .colab-df-quickchart {\n",
              "      --bg-color: #E8F0FE;\n",
              "      --fill-color: #1967D2;\n",
              "      --hover-bg-color: #E2EBFA;\n",
              "      --hover-fill-color: #174EA6;\n",
              "      --disabled-fill-color: #AAA;\n",
              "      --disabled-bg-color: #DDD;\n",
              "  }\n",
              "\n",
              "  [theme=dark] .colab-df-quickchart {\n",
              "      --bg-color: #3B4455;\n",
              "      --fill-color: #D2E3FC;\n",
              "      --hover-bg-color: #434B5C;\n",
              "      --hover-fill-color: #FFFFFF;\n",
              "      --disabled-bg-color: #3B4455;\n",
              "      --disabled-fill-color: #666;\n",
              "  }\n",
              "\n",
              "  .colab-df-quickchart {\n",
              "    background-color: var(--bg-color);\n",
              "    border: none;\n",
              "    border-radius: 50%;\n",
              "    cursor: pointer;\n",
              "    display: none;\n",
              "    fill: var(--fill-color);\n",
              "    height: 32px;\n",
              "    padding: 0;\n",
              "    width: 32px;\n",
              "  }\n",
              "\n",
              "  .colab-df-quickchart:hover {\n",
              "    background-color: var(--hover-bg-color);\n",
              "    box-shadow: 0 1px 2px rgba(60, 64, 67, 0.3), 0 1px 3px 1px rgba(60, 64, 67, 0.15);\n",
              "    fill: var(--button-hover-fill-color);\n",
              "  }\n",
              "\n",
              "  .colab-df-quickchart-complete:disabled,\n",
              "  .colab-df-quickchart-complete:disabled:hover {\n",
              "    background-color: var(--disabled-bg-color);\n",
              "    fill: var(--disabled-fill-color);\n",
              "    box-shadow: none;\n",
              "  }\n",
              "\n",
              "  .colab-df-spinner {\n",
              "    border: 2px solid var(--fill-color);\n",
              "    border-color: transparent;\n",
              "    border-bottom-color: var(--fill-color);\n",
              "    animation:\n",
              "      spin 1s steps(1) infinite;\n",
              "  }\n",
              "\n",
              "  @keyframes spin {\n",
              "    0% {\n",
              "      border-color: transparent;\n",
              "      border-bottom-color: var(--fill-color);\n",
              "      border-left-color: var(--fill-color);\n",
              "    }\n",
              "    20% {\n",
              "      border-color: transparent;\n",
              "      border-left-color: var(--fill-color);\n",
              "      border-top-color: var(--fill-color);\n",
              "    }\n",
              "    30% {\n",
              "      border-color: transparent;\n",
              "      border-left-color: var(--fill-color);\n",
              "      border-top-color: var(--fill-color);\n",
              "      border-right-color: var(--fill-color);\n",
              "    }\n",
              "    40% {\n",
              "      border-color: transparent;\n",
              "      border-right-color: var(--fill-color);\n",
              "      border-top-color: var(--fill-color);\n",
              "    }\n",
              "    60% {\n",
              "      border-color: transparent;\n",
              "      border-right-color: var(--fill-color);\n",
              "    }\n",
              "    80% {\n",
              "      border-color: transparent;\n",
              "      border-right-color: var(--fill-color);\n",
              "      border-bottom-color: var(--fill-color);\n",
              "    }\n",
              "    90% {\n",
              "      border-color: transparent;\n",
              "      border-bottom-color: var(--fill-color);\n",
              "    }\n",
              "  }\n",
              "</style>\n",
              "\n",
              "  <script>\n",
              "    async function quickchart(key) {\n",
              "      const quickchartButtonEl =\n",
              "        document.querySelector('#' + key + ' button');\n",
              "      quickchartButtonEl.disabled = true;  // To prevent multiple clicks.\n",
              "      quickchartButtonEl.classList.add('colab-df-spinner');\n",
              "      try {\n",
              "        const charts = await google.colab.kernel.invokeFunction(\n",
              "            'suggestCharts', [key], {});\n",
              "      } catch (error) {\n",
              "        console.error('Error during call to suggestCharts:', error);\n",
              "      }\n",
              "      quickchartButtonEl.classList.remove('colab-df-spinner');\n",
              "      quickchartButtonEl.classList.add('colab-df-quickchart-complete');\n",
              "    }\n",
              "    (() => {\n",
              "      let quickchartButtonEl =\n",
              "        document.querySelector('#df-c97c3990-159f-4569-a581-2ede5f2c87f8 button');\n",
              "      quickchartButtonEl.style.display =\n",
              "        google.colab.kernel.accessAllowed ? 'block' : 'none';\n",
              "    })();\n",
              "  </script>\n",
              "</div>\n",
              "\n",
              "  <div id=\"id_95b707d2-926d-4fc9-a415-77a71d4ba0de\">\n",
              "    <style>\n",
              "      .colab-df-generate {\n",
              "        background-color: #E8F0FE;\n",
              "        border: none;\n",
              "        border-radius: 50%;\n",
              "        cursor: pointer;\n",
              "        display: none;\n",
              "        fill: #1967D2;\n",
              "        height: 32px;\n",
              "        padding: 0 0 0 0;\n",
              "        width: 32px;\n",
              "      }\n",
              "\n",
              "      .colab-df-generate:hover {\n",
              "        background-color: #E2EBFA;\n",
              "        box-shadow: 0px 1px 2px rgba(60, 64, 67, 0.3), 0px 1px 3px 1px rgba(60, 64, 67, 0.15);\n",
              "        fill: #174EA6;\n",
              "      }\n",
              "\n",
              "      [theme=dark] .colab-df-generate {\n",
              "        background-color: #3B4455;\n",
              "        fill: #D2E3FC;\n",
              "      }\n",
              "\n",
              "      [theme=dark] .colab-df-generate:hover {\n",
              "        background-color: #434B5C;\n",
              "        box-shadow: 0px 1px 3px 1px rgba(0, 0, 0, 0.15);\n",
              "        filter: drop-shadow(0px 1px 2px rgba(0, 0, 0, 0.3));\n",
              "        fill: #FFFFFF;\n",
              "      }\n",
              "    </style>\n",
              "    <button class=\"colab-df-generate\" onclick=\"generateWithVariable('train_df')\"\n",
              "            title=\"Generate code using this dataframe.\"\n",
              "            style=\"display:none;\">\n",
              "\n",
              "  <svg xmlns=\"http://www.w3.org/2000/svg\" height=\"24px\"viewBox=\"0 0 24 24\"\n",
              "       width=\"24px\">\n",
              "    <path d=\"M7,19H8.4L18.45,9,17,7.55,7,17.6ZM5,21V16.75L18.45,3.32a2,2,0,0,1,2.83,0l1.4,1.43a1.91,1.91,0,0,1,.58,1.4,1.91,1.91,0,0,1-.58,1.4L9.25,21ZM18.45,9,17,7.55Zm-12,3A5.31,5.31,0,0,0,4.9,8.1,5.31,5.31,0,0,0,1,6.5,5.31,5.31,0,0,0,4.9,4.9,5.31,5.31,0,0,0,6.5,1,5.31,5.31,0,0,0,8.1,4.9,5.31,5.31,0,0,0,12,6.5,5.46,5.46,0,0,0,6.5,12Z\"/>\n",
              "  </svg>\n",
              "    </button>\n",
              "    <script>\n",
              "      (() => {\n",
              "      const buttonEl =\n",
              "        document.querySelector('#id_95b707d2-926d-4fc9-a415-77a71d4ba0de button.colab-df-generate');\n",
              "      buttonEl.style.display =\n",
              "        google.colab.kernel.accessAllowed ? 'block' : 'none';\n",
              "\n",
              "      buttonEl.onclick = () => {\n",
              "        google.colab.notebook.generateWithVariable('train_df');\n",
              "      }\n",
              "      })();\n",
              "    </script>\n",
              "  </div>\n",
              "\n",
              "    </div>\n",
              "  </div>\n"
            ]
          },
          "metadata": {},
          "execution_count": 80
        }
      ]
    },
    {
      "cell_type": "code",
      "source": [
        "X_train = train_df['comment']\n",
        "y_train = train_df['label']"
      ],
      "metadata": {
        "id": "ukeBZF6V6O5z"
      },
      "execution_count": 54,
      "outputs": []
    },
    {
      "cell_type": "code",
      "source": [
        "word2vec = Word2Vec.load(\"/content/drive/MyDrive/word2vec.model\")\n"
      ],
      "metadata": {
        "id": "nVAx8QTXwt9Q"
      },
      "execution_count": 55,
      "outputs": []
    },
    {
      "cell_type": "code",
      "source": [
        "#extracting pretrained weights for embedding layer using word2vec model\n",
        "word_vectors = word2vec.wv\n"
      ],
      "metadata": {
        "id": "gQS9mBFjxtCe"
      },
      "execution_count": 56,
      "outputs": []
    },
    {
      "cell_type": "code",
      "source": [
        "vector_size = model.vector_size\n",
        "vector_size"
      ],
      "metadata": {
        "id": "tSbgAa1t0g42",
        "outputId": "a6ea2405-5ef4-43ab-8346-814397da0e17",
        "colab": {
          "base_uri": "https://localhost:8080/"
        }
      },
      "execution_count": 57,
      "outputs": [
        {
          "output_type": "execute_result",
          "data": {
            "text/plain": [
              "150"
            ]
          },
          "metadata": {},
          "execution_count": 57
        }
      ]
    },
    {
      "cell_type": "code",
      "source": [
        "word_index, word_size, _ = preprocess(comments)"
      ],
      "metadata": {
        "id": "WJu0sRAW8bIU"
      },
      "execution_count": 58,
      "outputs": []
    },
    {
      "cell_type": "code",
      "source": [
        "#inititlze embeddings matrix\n",
        "import numpy as np\n",
        "embedding_matrix = np.zeros((word_size, vector_size))"
      ],
      "metadata": {
        "id": "8U6XoI0q0wT3"
      },
      "execution_count": 59,
      "outputs": []
    },
    {
      "cell_type": "code",
      "source": [
        "#fill embeddings matrix for LSTM with tensor flow : each row should correspond to a word\n",
        "for word, i in word_index.items():\n",
        "    if word in word_vectors:\n",
        "        embedding_matrix[i] = word_vectors[word]\n"
      ],
      "metadata": {
        "id": "55tO0Z86yCap"
      },
      "execution_count": 60,
      "outputs": []
    },
    {
      "cell_type": "code",
      "source": [
        "embedding_df = pd.DataFrame(embedding_matrix)"
      ],
      "metadata": {
        "id": "0I_RICV31eSm"
      },
      "execution_count": 61,
      "outputs": []
    },
    {
      "cell_type": "code",
      "source": [
        "embedding_df.head(5)"
      ],
      "metadata": {
        "id": "ABBkxiZf1zZg",
        "outputId": "f447dda5-6509-4d1f-84f0-b9fce1c54e86",
        "colab": {
          "base_uri": "https://localhost:8080/",
          "height": 255
        }
      },
      "execution_count": 62,
      "outputs": [
        {
          "output_type": "execute_result",
          "data": {
            "text/plain": [
              "        0         1         2         3         4         5         6    \\\n",
              "0  0.000000  0.000000  0.000000  0.000000  0.000000  0.000000  0.000000   \n",
              "1 -0.664518 -0.086922  0.283365  0.902932  0.070024 -0.421360  0.600063   \n",
              "2  0.325742 -0.473029  0.729136  0.812504 -1.205325  0.127234  0.083067   \n",
              "3 -0.707989  1.566842  1.210992  2.036757  0.864193 -1.366605  2.543164   \n",
              "4  0.147720  1.951131  2.720746  0.825240  0.188283 -0.662247 -0.178244   \n",
              "\n",
              "        7         8         9    ...       140       141       142       143  \\\n",
              "0  0.000000  0.000000  0.000000  ...  0.000000  0.000000  0.000000  0.000000   \n",
              "1  1.695763  0.727469 -0.283117  ... -0.405994 -0.586456 -0.430985  0.510138   \n",
              "2  1.239108  0.321420  1.252292  ...  0.065309 -0.505013  0.334321  0.154655   \n",
              "3  1.671720  1.539983 -1.236842  ... -1.426946 -0.876561 -0.195377  1.266137   \n",
              "4  0.552779  1.265213 -1.657513  ... -0.672240  2.250735  0.572337 -1.130341   \n",
              "\n",
              "        144       145       146       147       148       149  \n",
              "0  0.000000  0.000000  0.000000  0.000000  0.000000  0.000000  \n",
              "1  0.484568 -0.550256  1.437720 -0.217590  0.259132  1.212474  \n",
              "2  0.633848  0.997518  0.537003 -0.333254 -0.611590  0.209429  \n",
              "3 -0.769589 -1.188386  1.366831 -1.450624  1.433921 -0.457654  \n",
              "4  0.363177  1.574580  0.302234 -0.871057  0.444568 -0.454546  \n",
              "\n",
              "[5 rows x 150 columns]"
            ],
            "text/html": [
              "\n",
              "  <div id=\"df-ef5c0a51-3f70-4c76-ac7d-2a1a36abaf0a\" class=\"colab-df-container\">\n",
              "    <div>\n",
              "<style scoped>\n",
              "    .dataframe tbody tr th:only-of-type {\n",
              "        vertical-align: middle;\n",
              "    }\n",
              "\n",
              "    .dataframe tbody tr th {\n",
              "        vertical-align: top;\n",
              "    }\n",
              "\n",
              "    .dataframe thead th {\n",
              "        text-align: right;\n",
              "    }\n",
              "</style>\n",
              "<table border=\"1\" class=\"dataframe\">\n",
              "  <thead>\n",
              "    <tr style=\"text-align: right;\">\n",
              "      <th></th>\n",
              "      <th>0</th>\n",
              "      <th>1</th>\n",
              "      <th>2</th>\n",
              "      <th>3</th>\n",
              "      <th>4</th>\n",
              "      <th>5</th>\n",
              "      <th>6</th>\n",
              "      <th>7</th>\n",
              "      <th>8</th>\n",
              "      <th>9</th>\n",
              "      <th>...</th>\n",
              "      <th>140</th>\n",
              "      <th>141</th>\n",
              "      <th>142</th>\n",
              "      <th>143</th>\n",
              "      <th>144</th>\n",
              "      <th>145</th>\n",
              "      <th>146</th>\n",
              "      <th>147</th>\n",
              "      <th>148</th>\n",
              "      <th>149</th>\n",
              "    </tr>\n",
              "  </thead>\n",
              "  <tbody>\n",
              "    <tr>\n",
              "      <th>0</th>\n",
              "      <td>0.000000</td>\n",
              "      <td>0.000000</td>\n",
              "      <td>0.000000</td>\n",
              "      <td>0.000000</td>\n",
              "      <td>0.000000</td>\n",
              "      <td>0.000000</td>\n",
              "      <td>0.000000</td>\n",
              "      <td>0.000000</td>\n",
              "      <td>0.000000</td>\n",
              "      <td>0.000000</td>\n",
              "      <td>...</td>\n",
              "      <td>0.000000</td>\n",
              "      <td>0.000000</td>\n",
              "      <td>0.000000</td>\n",
              "      <td>0.000000</td>\n",
              "      <td>0.000000</td>\n",
              "      <td>0.000000</td>\n",
              "      <td>0.000000</td>\n",
              "      <td>0.000000</td>\n",
              "      <td>0.000000</td>\n",
              "      <td>0.000000</td>\n",
              "    </tr>\n",
              "    <tr>\n",
              "      <th>1</th>\n",
              "      <td>-0.664518</td>\n",
              "      <td>-0.086922</td>\n",
              "      <td>0.283365</td>\n",
              "      <td>0.902932</td>\n",
              "      <td>0.070024</td>\n",
              "      <td>-0.421360</td>\n",
              "      <td>0.600063</td>\n",
              "      <td>1.695763</td>\n",
              "      <td>0.727469</td>\n",
              "      <td>-0.283117</td>\n",
              "      <td>...</td>\n",
              "      <td>-0.405994</td>\n",
              "      <td>-0.586456</td>\n",
              "      <td>-0.430985</td>\n",
              "      <td>0.510138</td>\n",
              "      <td>0.484568</td>\n",
              "      <td>-0.550256</td>\n",
              "      <td>1.437720</td>\n",
              "      <td>-0.217590</td>\n",
              "      <td>0.259132</td>\n",
              "      <td>1.212474</td>\n",
              "    </tr>\n",
              "    <tr>\n",
              "      <th>2</th>\n",
              "      <td>0.325742</td>\n",
              "      <td>-0.473029</td>\n",
              "      <td>0.729136</td>\n",
              "      <td>0.812504</td>\n",
              "      <td>-1.205325</td>\n",
              "      <td>0.127234</td>\n",
              "      <td>0.083067</td>\n",
              "      <td>1.239108</td>\n",
              "      <td>0.321420</td>\n",
              "      <td>1.252292</td>\n",
              "      <td>...</td>\n",
              "      <td>0.065309</td>\n",
              "      <td>-0.505013</td>\n",
              "      <td>0.334321</td>\n",
              "      <td>0.154655</td>\n",
              "      <td>0.633848</td>\n",
              "      <td>0.997518</td>\n",
              "      <td>0.537003</td>\n",
              "      <td>-0.333254</td>\n",
              "      <td>-0.611590</td>\n",
              "      <td>0.209429</td>\n",
              "    </tr>\n",
              "    <tr>\n",
              "      <th>3</th>\n",
              "      <td>-0.707989</td>\n",
              "      <td>1.566842</td>\n",
              "      <td>1.210992</td>\n",
              "      <td>2.036757</td>\n",
              "      <td>0.864193</td>\n",
              "      <td>-1.366605</td>\n",
              "      <td>2.543164</td>\n",
              "      <td>1.671720</td>\n",
              "      <td>1.539983</td>\n",
              "      <td>-1.236842</td>\n",
              "      <td>...</td>\n",
              "      <td>-1.426946</td>\n",
              "      <td>-0.876561</td>\n",
              "      <td>-0.195377</td>\n",
              "      <td>1.266137</td>\n",
              "      <td>-0.769589</td>\n",
              "      <td>-1.188386</td>\n",
              "      <td>1.366831</td>\n",
              "      <td>-1.450624</td>\n",
              "      <td>1.433921</td>\n",
              "      <td>-0.457654</td>\n",
              "    </tr>\n",
              "    <tr>\n",
              "      <th>4</th>\n",
              "      <td>0.147720</td>\n",
              "      <td>1.951131</td>\n",
              "      <td>2.720746</td>\n",
              "      <td>0.825240</td>\n",
              "      <td>0.188283</td>\n",
              "      <td>-0.662247</td>\n",
              "      <td>-0.178244</td>\n",
              "      <td>0.552779</td>\n",
              "      <td>1.265213</td>\n",
              "      <td>-1.657513</td>\n",
              "      <td>...</td>\n",
              "      <td>-0.672240</td>\n",
              "      <td>2.250735</td>\n",
              "      <td>0.572337</td>\n",
              "      <td>-1.130341</td>\n",
              "      <td>0.363177</td>\n",
              "      <td>1.574580</td>\n",
              "      <td>0.302234</td>\n",
              "      <td>-0.871057</td>\n",
              "      <td>0.444568</td>\n",
              "      <td>-0.454546</td>\n",
              "    </tr>\n",
              "  </tbody>\n",
              "</table>\n",
              "<p>5 rows × 150 columns</p>\n",
              "</div>\n",
              "    <div class=\"colab-df-buttons\">\n",
              "\n",
              "  <div class=\"colab-df-container\">\n",
              "    <button class=\"colab-df-convert\" onclick=\"convertToInteractive('df-ef5c0a51-3f70-4c76-ac7d-2a1a36abaf0a')\"\n",
              "            title=\"Convert this dataframe to an interactive table.\"\n",
              "            style=\"display:none;\">\n",
              "\n",
              "  <svg xmlns=\"http://www.w3.org/2000/svg\" height=\"24px\" viewBox=\"0 -960 960 960\">\n",
              "    <path d=\"M120-120v-720h720v720H120Zm60-500h600v-160H180v160Zm220 220h160v-160H400v160Zm0 220h160v-160H400v160ZM180-400h160v-160H180v160Zm440 0h160v-160H620v160ZM180-180h160v-160H180v160Zm440 0h160v-160H620v160Z\"/>\n",
              "  </svg>\n",
              "    </button>\n",
              "\n",
              "  <style>\n",
              "    .colab-df-container {\n",
              "      display:flex;\n",
              "      gap: 12px;\n",
              "    }\n",
              "\n",
              "    .colab-df-convert {\n",
              "      background-color: #E8F0FE;\n",
              "      border: none;\n",
              "      border-radius: 50%;\n",
              "      cursor: pointer;\n",
              "      display: none;\n",
              "      fill: #1967D2;\n",
              "      height: 32px;\n",
              "      padding: 0 0 0 0;\n",
              "      width: 32px;\n",
              "    }\n",
              "\n",
              "    .colab-df-convert:hover {\n",
              "      background-color: #E2EBFA;\n",
              "      box-shadow: 0px 1px 2px rgba(60, 64, 67, 0.3), 0px 1px 3px 1px rgba(60, 64, 67, 0.15);\n",
              "      fill: #174EA6;\n",
              "    }\n",
              "\n",
              "    .colab-df-buttons div {\n",
              "      margin-bottom: 4px;\n",
              "    }\n",
              "\n",
              "    [theme=dark] .colab-df-convert {\n",
              "      background-color: #3B4455;\n",
              "      fill: #D2E3FC;\n",
              "    }\n",
              "\n",
              "    [theme=dark] .colab-df-convert:hover {\n",
              "      background-color: #434B5C;\n",
              "      box-shadow: 0px 1px 3px 1px rgba(0, 0, 0, 0.15);\n",
              "      filter: drop-shadow(0px 1px 2px rgba(0, 0, 0, 0.3));\n",
              "      fill: #FFFFFF;\n",
              "    }\n",
              "  </style>\n",
              "\n",
              "    <script>\n",
              "      const buttonEl =\n",
              "        document.querySelector('#df-ef5c0a51-3f70-4c76-ac7d-2a1a36abaf0a button.colab-df-convert');\n",
              "      buttonEl.style.display =\n",
              "        google.colab.kernel.accessAllowed ? 'block' : 'none';\n",
              "\n",
              "      async function convertToInteractive(key) {\n",
              "        const element = document.querySelector('#df-ef5c0a51-3f70-4c76-ac7d-2a1a36abaf0a');\n",
              "        const dataTable =\n",
              "          await google.colab.kernel.invokeFunction('convertToInteractive',\n",
              "                                                    [key], {});\n",
              "        if (!dataTable) return;\n",
              "\n",
              "        const docLinkHtml = 'Like what you see? Visit the ' +\n",
              "          '<a target=\"_blank\" href=https://colab.research.google.com/notebooks/data_table.ipynb>data table notebook</a>'\n",
              "          + ' to learn more about interactive tables.';\n",
              "        element.innerHTML = '';\n",
              "        dataTable['output_type'] = 'display_data';\n",
              "        await google.colab.output.renderOutput(dataTable, element);\n",
              "        const docLink = document.createElement('div');\n",
              "        docLink.innerHTML = docLinkHtml;\n",
              "        element.appendChild(docLink);\n",
              "      }\n",
              "    </script>\n",
              "  </div>\n",
              "\n",
              "\n",
              "<div id=\"df-518437fc-a6bb-4b63-a910-c9085c8705b1\">\n",
              "  <button class=\"colab-df-quickchart\" onclick=\"quickchart('df-518437fc-a6bb-4b63-a910-c9085c8705b1')\"\n",
              "            title=\"Suggest charts\"\n",
              "            style=\"display:none;\">\n",
              "\n",
              "<svg xmlns=\"http://www.w3.org/2000/svg\" height=\"24px\"viewBox=\"0 0 24 24\"\n",
              "     width=\"24px\">\n",
              "    <g>\n",
              "        <path d=\"M19 3H5c-1.1 0-2 .9-2 2v14c0 1.1.9 2 2 2h14c1.1 0 2-.9 2-2V5c0-1.1-.9-2-2-2zM9 17H7v-7h2v7zm4 0h-2V7h2v10zm4 0h-2v-4h2v4z\"/>\n",
              "    </g>\n",
              "</svg>\n",
              "  </button>\n",
              "\n",
              "<style>\n",
              "  .colab-df-quickchart {\n",
              "      --bg-color: #E8F0FE;\n",
              "      --fill-color: #1967D2;\n",
              "      --hover-bg-color: #E2EBFA;\n",
              "      --hover-fill-color: #174EA6;\n",
              "      --disabled-fill-color: #AAA;\n",
              "      --disabled-bg-color: #DDD;\n",
              "  }\n",
              "\n",
              "  [theme=dark] .colab-df-quickchart {\n",
              "      --bg-color: #3B4455;\n",
              "      --fill-color: #D2E3FC;\n",
              "      --hover-bg-color: #434B5C;\n",
              "      --hover-fill-color: #FFFFFF;\n",
              "      --disabled-bg-color: #3B4455;\n",
              "      --disabled-fill-color: #666;\n",
              "  }\n",
              "\n",
              "  .colab-df-quickchart {\n",
              "    background-color: var(--bg-color);\n",
              "    border: none;\n",
              "    border-radius: 50%;\n",
              "    cursor: pointer;\n",
              "    display: none;\n",
              "    fill: var(--fill-color);\n",
              "    height: 32px;\n",
              "    padding: 0;\n",
              "    width: 32px;\n",
              "  }\n",
              "\n",
              "  .colab-df-quickchart:hover {\n",
              "    background-color: var(--hover-bg-color);\n",
              "    box-shadow: 0 1px 2px rgba(60, 64, 67, 0.3), 0 1px 3px 1px rgba(60, 64, 67, 0.15);\n",
              "    fill: var(--button-hover-fill-color);\n",
              "  }\n",
              "\n",
              "  .colab-df-quickchart-complete:disabled,\n",
              "  .colab-df-quickchart-complete:disabled:hover {\n",
              "    background-color: var(--disabled-bg-color);\n",
              "    fill: var(--disabled-fill-color);\n",
              "    box-shadow: none;\n",
              "  }\n",
              "\n",
              "  .colab-df-spinner {\n",
              "    border: 2px solid var(--fill-color);\n",
              "    border-color: transparent;\n",
              "    border-bottom-color: var(--fill-color);\n",
              "    animation:\n",
              "      spin 1s steps(1) infinite;\n",
              "  }\n",
              "\n",
              "  @keyframes spin {\n",
              "    0% {\n",
              "      border-color: transparent;\n",
              "      border-bottom-color: var(--fill-color);\n",
              "      border-left-color: var(--fill-color);\n",
              "    }\n",
              "    20% {\n",
              "      border-color: transparent;\n",
              "      border-left-color: var(--fill-color);\n",
              "      border-top-color: var(--fill-color);\n",
              "    }\n",
              "    30% {\n",
              "      border-color: transparent;\n",
              "      border-left-color: var(--fill-color);\n",
              "      border-top-color: var(--fill-color);\n",
              "      border-right-color: var(--fill-color);\n",
              "    }\n",
              "    40% {\n",
              "      border-color: transparent;\n",
              "      border-right-color: var(--fill-color);\n",
              "      border-top-color: var(--fill-color);\n",
              "    }\n",
              "    60% {\n",
              "      border-color: transparent;\n",
              "      border-right-color: var(--fill-color);\n",
              "    }\n",
              "    80% {\n",
              "      border-color: transparent;\n",
              "      border-right-color: var(--fill-color);\n",
              "      border-bottom-color: var(--fill-color);\n",
              "    }\n",
              "    90% {\n",
              "      border-color: transparent;\n",
              "      border-bottom-color: var(--fill-color);\n",
              "    }\n",
              "  }\n",
              "</style>\n",
              "\n",
              "  <script>\n",
              "    async function quickchart(key) {\n",
              "      const quickchartButtonEl =\n",
              "        document.querySelector('#' + key + ' button');\n",
              "      quickchartButtonEl.disabled = true;  // To prevent multiple clicks.\n",
              "      quickchartButtonEl.classList.add('colab-df-spinner');\n",
              "      try {\n",
              "        const charts = await google.colab.kernel.invokeFunction(\n",
              "            'suggestCharts', [key], {});\n",
              "      } catch (error) {\n",
              "        console.error('Error during call to suggestCharts:', error);\n",
              "      }\n",
              "      quickchartButtonEl.classList.remove('colab-df-spinner');\n",
              "      quickchartButtonEl.classList.add('colab-df-quickchart-complete');\n",
              "    }\n",
              "    (() => {\n",
              "      let quickchartButtonEl =\n",
              "        document.querySelector('#df-518437fc-a6bb-4b63-a910-c9085c8705b1 button');\n",
              "      quickchartButtonEl.style.display =\n",
              "        google.colab.kernel.accessAllowed ? 'block' : 'none';\n",
              "    })();\n",
              "  </script>\n",
              "</div>\n",
              "\n",
              "    </div>\n",
              "  </div>\n"
            ]
          },
          "metadata": {},
          "execution_count": 62
        }
      ]
    },
    {
      "cell_type": "code",
      "source": [
        "train_index,_, X_train = preprocess(X_train)"
      ],
      "metadata": {
        "id": "5r7ZuIZJ8wSb"
      },
      "execution_count": 63,
      "outputs": []
    },
    {
      "cell_type": "code",
      "source": [
        "from tensorflow.keras.preprocessing.sequence import pad_sequences\n",
        "\n",
        "X_train_padded = pad_sequences(X_train, maxlen=500, padding='post')\n"
      ],
      "metadata": {
        "id": "PNZ4b7piBeJG"
      },
      "execution_count": 65,
      "outputs": []
    },
    {
      "cell_type": "code",
      "source": [
        "df = pd.DataFrame(X_train_padded)\n",
        "df.head(5)"
      ],
      "metadata": {
        "colab": {
          "base_uri": "https://localhost:8080/",
          "height": 235
        },
        "id": "vyzYRp2iBpcY",
        "outputId": "28bfc054-431e-4f83-ff50-176560dff189"
      },
      "execution_count": 66,
      "outputs": [
        {
          "output_type": "execute_result",
          "data": {
            "text/plain": [
              "     0    1    2     3    4      5     6     7    8     9    ...  490  491  \\\n",
              "0  30865    0    0     0    0      0     0     0    0     0  ...    0    0   \n",
              "1     99   10   14  1481    5    446   305     3  707   101  ...    0    0   \n",
              "2    318  106  147   352   13      0     0     0    0     0  ...    0    0   \n",
              "3     53    6  155  5251   95      4  3040  1661   13     0  ...    0    0   \n",
              "4    116    9   79    62   11  38423     8     3   67  2007  ...    0    0   \n",
              "\n",
              "   492  493  494  495  496  497  498  499  \n",
              "0    0    0    0    0    0    0    0    0  \n",
              "1    0    0    0    0    0    0    0    0  \n",
              "2    0    0    0    0    0    0    0    0  \n",
              "3    0    0    0    0    0    0    0    0  \n",
              "4    0    0    0    0    0    0    0    0  \n",
              "\n",
              "[5 rows x 500 columns]"
            ],
            "text/html": [
              "\n",
              "  <div id=\"df-4a843f77-c4e3-41f1-917b-606e49612189\" class=\"colab-df-container\">\n",
              "    <div>\n",
              "<style scoped>\n",
              "    .dataframe tbody tr th:only-of-type {\n",
              "        vertical-align: middle;\n",
              "    }\n",
              "\n",
              "    .dataframe tbody tr th {\n",
              "        vertical-align: top;\n",
              "    }\n",
              "\n",
              "    .dataframe thead th {\n",
              "        text-align: right;\n",
              "    }\n",
              "</style>\n",
              "<table border=\"1\" class=\"dataframe\">\n",
              "  <thead>\n",
              "    <tr style=\"text-align: right;\">\n",
              "      <th></th>\n",
              "      <th>0</th>\n",
              "      <th>1</th>\n",
              "      <th>2</th>\n",
              "      <th>3</th>\n",
              "      <th>4</th>\n",
              "      <th>5</th>\n",
              "      <th>6</th>\n",
              "      <th>7</th>\n",
              "      <th>8</th>\n",
              "      <th>9</th>\n",
              "      <th>...</th>\n",
              "      <th>490</th>\n",
              "      <th>491</th>\n",
              "      <th>492</th>\n",
              "      <th>493</th>\n",
              "      <th>494</th>\n",
              "      <th>495</th>\n",
              "      <th>496</th>\n",
              "      <th>497</th>\n",
              "      <th>498</th>\n",
              "      <th>499</th>\n",
              "    </tr>\n",
              "  </thead>\n",
              "  <tbody>\n",
              "    <tr>\n",
              "      <th>0</th>\n",
              "      <td>30865</td>\n",
              "      <td>0</td>\n",
              "      <td>0</td>\n",
              "      <td>0</td>\n",
              "      <td>0</td>\n",
              "      <td>0</td>\n",
              "      <td>0</td>\n",
              "      <td>0</td>\n",
              "      <td>0</td>\n",
              "      <td>0</td>\n",
              "      <td>...</td>\n",
              "      <td>0</td>\n",
              "      <td>0</td>\n",
              "      <td>0</td>\n",
              "      <td>0</td>\n",
              "      <td>0</td>\n",
              "      <td>0</td>\n",
              "      <td>0</td>\n",
              "      <td>0</td>\n",
              "      <td>0</td>\n",
              "      <td>0</td>\n",
              "    </tr>\n",
              "    <tr>\n",
              "      <th>1</th>\n",
              "      <td>99</td>\n",
              "      <td>10</td>\n",
              "      <td>14</td>\n",
              "      <td>1481</td>\n",
              "      <td>5</td>\n",
              "      <td>446</td>\n",
              "      <td>305</td>\n",
              "      <td>3</td>\n",
              "      <td>707</td>\n",
              "      <td>101</td>\n",
              "      <td>...</td>\n",
              "      <td>0</td>\n",
              "      <td>0</td>\n",
              "      <td>0</td>\n",
              "      <td>0</td>\n",
              "      <td>0</td>\n",
              "      <td>0</td>\n",
              "      <td>0</td>\n",
              "      <td>0</td>\n",
              "      <td>0</td>\n",
              "      <td>0</td>\n",
              "    </tr>\n",
              "    <tr>\n",
              "      <th>2</th>\n",
              "      <td>318</td>\n",
              "      <td>106</td>\n",
              "      <td>147</td>\n",
              "      <td>352</td>\n",
              "      <td>13</td>\n",
              "      <td>0</td>\n",
              "      <td>0</td>\n",
              "      <td>0</td>\n",
              "      <td>0</td>\n",
              "      <td>0</td>\n",
              "      <td>...</td>\n",
              "      <td>0</td>\n",
              "      <td>0</td>\n",
              "      <td>0</td>\n",
              "      <td>0</td>\n",
              "      <td>0</td>\n",
              "      <td>0</td>\n",
              "      <td>0</td>\n",
              "      <td>0</td>\n",
              "      <td>0</td>\n",
              "      <td>0</td>\n",
              "    </tr>\n",
              "    <tr>\n",
              "      <th>3</th>\n",
              "      <td>53</td>\n",
              "      <td>6</td>\n",
              "      <td>155</td>\n",
              "      <td>5251</td>\n",
              "      <td>95</td>\n",
              "      <td>4</td>\n",
              "      <td>3040</td>\n",
              "      <td>1661</td>\n",
              "      <td>13</td>\n",
              "      <td>0</td>\n",
              "      <td>...</td>\n",
              "      <td>0</td>\n",
              "      <td>0</td>\n",
              "      <td>0</td>\n",
              "      <td>0</td>\n",
              "      <td>0</td>\n",
              "      <td>0</td>\n",
              "      <td>0</td>\n",
              "      <td>0</td>\n",
              "      <td>0</td>\n",
              "      <td>0</td>\n",
              "    </tr>\n",
              "    <tr>\n",
              "      <th>4</th>\n",
              "      <td>116</td>\n",
              "      <td>9</td>\n",
              "      <td>79</td>\n",
              "      <td>62</td>\n",
              "      <td>11</td>\n",
              "      <td>38423</td>\n",
              "      <td>8</td>\n",
              "      <td>3</td>\n",
              "      <td>67</td>\n",
              "      <td>2007</td>\n",
              "      <td>...</td>\n",
              "      <td>0</td>\n",
              "      <td>0</td>\n",
              "      <td>0</td>\n",
              "      <td>0</td>\n",
              "      <td>0</td>\n",
              "      <td>0</td>\n",
              "      <td>0</td>\n",
              "      <td>0</td>\n",
              "      <td>0</td>\n",
              "      <td>0</td>\n",
              "    </tr>\n",
              "  </tbody>\n",
              "</table>\n",
              "<p>5 rows × 500 columns</p>\n",
              "</div>\n",
              "    <div class=\"colab-df-buttons\">\n",
              "\n",
              "  <div class=\"colab-df-container\">\n",
              "    <button class=\"colab-df-convert\" onclick=\"convertToInteractive('df-4a843f77-c4e3-41f1-917b-606e49612189')\"\n",
              "            title=\"Convert this dataframe to an interactive table.\"\n",
              "            style=\"display:none;\">\n",
              "\n",
              "  <svg xmlns=\"http://www.w3.org/2000/svg\" height=\"24px\" viewBox=\"0 -960 960 960\">\n",
              "    <path d=\"M120-120v-720h720v720H120Zm60-500h600v-160H180v160Zm220 220h160v-160H400v160Zm0 220h160v-160H400v160ZM180-400h160v-160H180v160Zm440 0h160v-160H620v160ZM180-180h160v-160H180v160Zm440 0h160v-160H620v160Z\"/>\n",
              "  </svg>\n",
              "    </button>\n",
              "\n",
              "  <style>\n",
              "    .colab-df-container {\n",
              "      display:flex;\n",
              "      gap: 12px;\n",
              "    }\n",
              "\n",
              "    .colab-df-convert {\n",
              "      background-color: #E8F0FE;\n",
              "      border: none;\n",
              "      border-radius: 50%;\n",
              "      cursor: pointer;\n",
              "      display: none;\n",
              "      fill: #1967D2;\n",
              "      height: 32px;\n",
              "      padding: 0 0 0 0;\n",
              "      width: 32px;\n",
              "    }\n",
              "\n",
              "    .colab-df-convert:hover {\n",
              "      background-color: #E2EBFA;\n",
              "      box-shadow: 0px 1px 2px rgba(60, 64, 67, 0.3), 0px 1px 3px 1px rgba(60, 64, 67, 0.15);\n",
              "      fill: #174EA6;\n",
              "    }\n",
              "\n",
              "    .colab-df-buttons div {\n",
              "      margin-bottom: 4px;\n",
              "    }\n",
              "\n",
              "    [theme=dark] .colab-df-convert {\n",
              "      background-color: #3B4455;\n",
              "      fill: #D2E3FC;\n",
              "    }\n",
              "\n",
              "    [theme=dark] .colab-df-convert:hover {\n",
              "      background-color: #434B5C;\n",
              "      box-shadow: 0px 1px 3px 1px rgba(0, 0, 0, 0.15);\n",
              "      filter: drop-shadow(0px 1px 2px rgba(0, 0, 0, 0.3));\n",
              "      fill: #FFFFFF;\n",
              "    }\n",
              "  </style>\n",
              "\n",
              "    <script>\n",
              "      const buttonEl =\n",
              "        document.querySelector('#df-4a843f77-c4e3-41f1-917b-606e49612189 button.colab-df-convert');\n",
              "      buttonEl.style.display =\n",
              "        google.colab.kernel.accessAllowed ? 'block' : 'none';\n",
              "\n",
              "      async function convertToInteractive(key) {\n",
              "        const element = document.querySelector('#df-4a843f77-c4e3-41f1-917b-606e49612189');\n",
              "        const dataTable =\n",
              "          await google.colab.kernel.invokeFunction('convertToInteractive',\n",
              "                                                    [key], {});\n",
              "        if (!dataTable) return;\n",
              "\n",
              "        const docLinkHtml = 'Like what you see? Visit the ' +\n",
              "          '<a target=\"_blank\" href=https://colab.research.google.com/notebooks/data_table.ipynb>data table notebook</a>'\n",
              "          + ' to learn more about interactive tables.';\n",
              "        element.innerHTML = '';\n",
              "        dataTable['output_type'] = 'display_data';\n",
              "        await google.colab.output.renderOutput(dataTable, element);\n",
              "        const docLink = document.createElement('div');\n",
              "        docLink.innerHTML = docLinkHtml;\n",
              "        element.appendChild(docLink);\n",
              "      }\n",
              "    </script>\n",
              "  </div>\n",
              "\n",
              "\n",
              "<div id=\"df-641efb81-657f-405f-a7a5-95c6840c6195\">\n",
              "  <button class=\"colab-df-quickchart\" onclick=\"quickchart('df-641efb81-657f-405f-a7a5-95c6840c6195')\"\n",
              "            title=\"Suggest charts\"\n",
              "            style=\"display:none;\">\n",
              "\n",
              "<svg xmlns=\"http://www.w3.org/2000/svg\" height=\"24px\"viewBox=\"0 0 24 24\"\n",
              "     width=\"24px\">\n",
              "    <g>\n",
              "        <path d=\"M19 3H5c-1.1 0-2 .9-2 2v14c0 1.1.9 2 2 2h14c1.1 0 2-.9 2-2V5c0-1.1-.9-2-2-2zM9 17H7v-7h2v7zm4 0h-2V7h2v10zm4 0h-2v-4h2v4z\"/>\n",
              "    </g>\n",
              "</svg>\n",
              "  </button>\n",
              "\n",
              "<style>\n",
              "  .colab-df-quickchart {\n",
              "      --bg-color: #E8F0FE;\n",
              "      --fill-color: #1967D2;\n",
              "      --hover-bg-color: #E2EBFA;\n",
              "      --hover-fill-color: #174EA6;\n",
              "      --disabled-fill-color: #AAA;\n",
              "      --disabled-bg-color: #DDD;\n",
              "  }\n",
              "\n",
              "  [theme=dark] .colab-df-quickchart {\n",
              "      --bg-color: #3B4455;\n",
              "      --fill-color: #D2E3FC;\n",
              "      --hover-bg-color: #434B5C;\n",
              "      --hover-fill-color: #FFFFFF;\n",
              "      --disabled-bg-color: #3B4455;\n",
              "      --disabled-fill-color: #666;\n",
              "  }\n",
              "\n",
              "  .colab-df-quickchart {\n",
              "    background-color: var(--bg-color);\n",
              "    border: none;\n",
              "    border-radius: 50%;\n",
              "    cursor: pointer;\n",
              "    display: none;\n",
              "    fill: var(--fill-color);\n",
              "    height: 32px;\n",
              "    padding: 0;\n",
              "    width: 32px;\n",
              "  }\n",
              "\n",
              "  .colab-df-quickchart:hover {\n",
              "    background-color: var(--hover-bg-color);\n",
              "    box-shadow: 0 1px 2px rgba(60, 64, 67, 0.3), 0 1px 3px 1px rgba(60, 64, 67, 0.15);\n",
              "    fill: var(--button-hover-fill-color);\n",
              "  }\n",
              "\n",
              "  .colab-df-quickchart-complete:disabled,\n",
              "  .colab-df-quickchart-complete:disabled:hover {\n",
              "    background-color: var(--disabled-bg-color);\n",
              "    fill: var(--disabled-fill-color);\n",
              "    box-shadow: none;\n",
              "  }\n",
              "\n",
              "  .colab-df-spinner {\n",
              "    border: 2px solid var(--fill-color);\n",
              "    border-color: transparent;\n",
              "    border-bottom-color: var(--fill-color);\n",
              "    animation:\n",
              "      spin 1s steps(1) infinite;\n",
              "  }\n",
              "\n",
              "  @keyframes spin {\n",
              "    0% {\n",
              "      border-color: transparent;\n",
              "      border-bottom-color: var(--fill-color);\n",
              "      border-left-color: var(--fill-color);\n",
              "    }\n",
              "    20% {\n",
              "      border-color: transparent;\n",
              "      border-left-color: var(--fill-color);\n",
              "      border-top-color: var(--fill-color);\n",
              "    }\n",
              "    30% {\n",
              "      border-color: transparent;\n",
              "      border-left-color: var(--fill-color);\n",
              "      border-top-color: var(--fill-color);\n",
              "      border-right-color: var(--fill-color);\n",
              "    }\n",
              "    40% {\n",
              "      border-color: transparent;\n",
              "      border-right-color: var(--fill-color);\n",
              "      border-top-color: var(--fill-color);\n",
              "    }\n",
              "    60% {\n",
              "      border-color: transparent;\n",
              "      border-right-color: var(--fill-color);\n",
              "    }\n",
              "    80% {\n",
              "      border-color: transparent;\n",
              "      border-right-color: var(--fill-color);\n",
              "      border-bottom-color: var(--fill-color);\n",
              "    }\n",
              "    90% {\n",
              "      border-color: transparent;\n",
              "      border-bottom-color: var(--fill-color);\n",
              "    }\n",
              "  }\n",
              "</style>\n",
              "\n",
              "  <script>\n",
              "    async function quickchart(key) {\n",
              "      const quickchartButtonEl =\n",
              "        document.querySelector('#' + key + ' button');\n",
              "      quickchartButtonEl.disabled = true;  // To prevent multiple clicks.\n",
              "      quickchartButtonEl.classList.add('colab-df-spinner');\n",
              "      try {\n",
              "        const charts = await google.colab.kernel.invokeFunction(\n",
              "            'suggestCharts', [key], {});\n",
              "      } catch (error) {\n",
              "        console.error('Error during call to suggestCharts:', error);\n",
              "      }\n",
              "      quickchartButtonEl.classList.remove('colab-df-spinner');\n",
              "      quickchartButtonEl.classList.add('colab-df-quickchart-complete');\n",
              "    }\n",
              "    (() => {\n",
              "      let quickchartButtonEl =\n",
              "        document.querySelector('#df-641efb81-657f-405f-a7a5-95c6840c6195 button');\n",
              "      quickchartButtonEl.style.display =\n",
              "        google.colab.kernel.accessAllowed ? 'block' : 'none';\n",
              "    })();\n",
              "  </script>\n",
              "</div>\n",
              "\n",
              "    </div>\n",
              "  </div>\n"
            ]
          },
          "metadata": {},
          "execution_count": 66
        }
      ]
    },
    {
      "cell_type": "code",
      "source": [
        "# import tensorflow as tf\n",
        "# from tensorflow.keras.models import Sequential\n",
        "# from tensorflow.keras.layers import LSTM, Dense, Embedding\n",
        "# from tensorflow.keras.preprocessing.sequence import pad_sequences\n",
        "\n",
        "# model = Sequential()\n",
        "# model.add(Embedding(input_dim=word_size, output_dim=word2vec.vector_size, weights=[embedding_matrix], trainable=False))\n",
        "# model.add(LSTM(128))\n",
        "# model.add(Dense(1, activation='sigmoid'))\n",
        "\n",
        "\n",
        "# model.compile(optimizer='adam', loss='binary_crossentropy', metrics=['accuracy'])\n",
        "\n",
        "\n",
        "# model.fit(X_train_padded, y_train, epochs=10, validation_split=0.2)\n",
        "\n",
        "# # get X_train data into format where the embeddings layer can look up its corresposnding vector, add padding so that all input is the same length\n",
        "# # model.evaluate(X_test, y_test)\n"
      ],
      "metadata": {
        "id": "1U3uKTHouftj"
      },
      "execution_count": 67,
      "outputs": []
    },
    {
      "cell_type": "markdown",
      "source": [
        "# New Try"
      ],
      "metadata": {
        "id": "o9Lcf0OoI_0y"
      }
    },
    {
      "cell_type": "code",
      "source": [
        "import tensorflow\n",
        "from tensorflow.keras.datasets import imdb\n",
        "from tensorflow.keras.preprocessing.sequence import pad_sequences\n",
        "from tensorflow.keras.models import Sequential\n",
        "from tensorflow.keras.layers import Dense, Dropout, Embedding, SpatialDropout1D, LSTM\n",
        "from tensorflow.keras.layers import Bidirectional\n",
        "from tensorflow.keras.callbacks import ModelCheckpoint\n",
        "import os\n",
        "from sklearn.metrics import roc_auc_score\n",
        "import matplotlib.pyplot as plt"
      ],
      "metadata": {
        "id": "Akjt9DN-H75J"
      },
      "execution_count": 68,
      "outputs": []
    },
    {
      "cell_type": "code",
      "source": [
        "word_size = embedding_matrix.shape[0]\n",
        "embedding_size = embedding_matrix.shape[1]\n",
        "max_comment_length = X_train_padded.shape[1]"
      ],
      "metadata": {
        "id": "SvIz8utII9r8"
      },
      "execution_count": 69,
      "outputs": []
    },
    {
      "cell_type": "code",
      "source": [
        "model = Sequential()\n",
        "\n",
        "\n",
        "model.add(Embedding(input_dim=word_size,\n",
        "                    output_dim=embedding_size,\n",
        "                    weights=[embedding_matrix],\n",
        "                    input_length=max_comment_length,\n",
        "                    trainable=False))\n",
        "\n",
        "model.add(Bidirectional(LSTM(128)))\n",
        "\n",
        "model.add(Dense(1, activation='sigmoid'))\n",
        "\n",
        "model.compile(optimizer='adam', loss='binary_crossentropy', metrics=['accuracy'])\n",
        "\n",
        "# default learning rate .001\n",
        "# add attention / dropout regularization\n",
        "\n",
        "\n",
        "model.fit(X_train_padded, y_train, epochs=6, batch_size=128, validation_split=0.2)\n",
        "\n",
        "\n",
        "\n"
      ],
      "metadata": {
        "colab": {
          "base_uri": "https://localhost:8080/"
        },
        "id": "hpEW6Gz1JmLP",
        "outputId": "23d924a6-a968-4f31-ec8c-fddc293d6a1d"
      },
      "execution_count": 70,
      "outputs": [
        {
          "output_type": "stream",
          "name": "stdout",
          "text": [
            "Epoch 1/6\n",
            "3033/3033 [==============================] - 225s 72ms/step - loss: 0.5881 - accuracy: 0.6816 - val_loss: 0.5710 - val_accuracy: 0.6971\n",
            "Epoch 2/6\n",
            "3033/3033 [==============================] - 219s 72ms/step - loss: 0.5558 - accuracy: 0.7097 - val_loss: 0.5605 - val_accuracy: 0.7072\n",
            "Epoch 3/6\n",
            "3033/3033 [==============================] - 221s 73ms/step - loss: 0.5426 - accuracy: 0.7201 - val_loss: 0.5561 - val_accuracy: 0.7114\n",
            "Epoch 4/6\n",
            "3033/3033 [==============================] - 218s 72ms/step - loss: 0.5258 - accuracy: 0.7325 - val_loss: 0.5554 - val_accuracy: 0.7128\n",
            "Epoch 5/6\n",
            "3033/3033 [==============================] - 219s 72ms/step - loss: 0.5128 - accuracy: 0.7430 - val_loss: 0.5597 - val_accuracy: 0.7111\n",
            "Epoch 6/6\n",
            "3033/3033 [==============================] - 221s 73ms/step - loss: 0.4984 - accuracy: 0.7527 - val_loss: 0.5680 - val_accuracy: 0.7098\n"
          ]
        },
        {
          "output_type": "execute_result",
          "data": {
            "text/plain": [
              "<keras.src.callbacks.History at 0x7a67cca77520>"
            ]
          },
          "metadata": {},
          "execution_count": 70
        }
      ]
    },
    {
      "cell_type": "code",
      "source": [
        "model.save('/content/drive/MyDrive/model.h5')"
      ],
      "metadata": {
        "id": "nHl7MWy5aYjM",
        "colab": {
          "base_uri": "https://localhost:8080/"
        },
        "outputId": "1ac0af49-3fbb-4180-ae55-9a41403461b7"
      },
      "execution_count": 71,
      "outputs": [
        {
          "output_type": "stream",
          "name": "stderr",
          "text": [
            "/usr/local/lib/python3.10/dist-packages/keras/src/engine/training.py:3103: UserWarning: You are saving your model as an HDF5 file via `model.save()`. This file format is considered legacy. We recommend using instead the native Keras format, e.g. `model.save('my_model.keras')`.\n",
            "  saving_api.save_model(\n"
          ]
        }
      ]
    },
    {
      "cell_type": "code",
      "source": [
        "from tensorflow.keras.models import load_model\n",
        "import os\n",
        "first_model = load_model('/content/drive/MyDrive/model.h5')"
      ],
      "metadata": {
        "id": "-fNFmBfuaGxU"
      },
      "execution_count": 72,
      "outputs": []
    },
    {
      "cell_type": "markdown",
      "source": [
        "# Build a basic RNN to show how our LSTMs improve upon that\n"
      ],
      "metadata": {
        "id": "G508d6nV1BOW"
      }
    },
    {
      "cell_type": "code",
      "source": [
        "model.summary()"
      ],
      "metadata": {
        "colab": {
          "base_uri": "https://localhost:8080/"
        },
        "id": "aFMZFlyr1ALN",
        "outputId": "4e3be31e-da89-4a29-845d-dd18e74339e8"
      },
      "execution_count": 81,
      "outputs": [
        {
          "output_type": "stream",
          "name": "stdout",
          "text": [
            "Model: \"sequential\"\n",
            "_________________________________________________________________\n",
            " Layer (type)                Output Shape              Param #   \n",
            "=================================================================\n",
            " embedding (Embedding)       (None, 500, 150)          37117500  \n",
            "                                                                 \n",
            " bidirectional (Bidirection  (None, 256)               285696    \n",
            " al)                                                             \n",
            "                                                                 \n",
            " dense (Dense)               (None, 1)                 257       \n",
            "                                                                 \n",
            "=================================================================\n",
            "Total params: 37403453 (142.68 MB)\n",
            "Trainable params: 285953 (1.09 MB)\n",
            "Non-trainable params: 37117500 (141.59 MB)\n",
            "_________________________________________________________________\n"
          ]
        }
      ]
    },
    {
      "cell_type": "code",
      "source": [],
      "metadata": {
        "id": "bafb1L4z1ZkW"
      },
      "execution_count": null,
      "outputs": []
    }
  ]
}