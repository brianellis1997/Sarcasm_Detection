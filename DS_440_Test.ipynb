{
  "nbformat": 4,
  "nbformat_minor": 0,
  "metadata": {
    "colab": {
      "provenance": [],
      "gpuType": "T4",
      "include_colab_link": true
    },
    "kernelspec": {
      "name": "python3",
      "display_name": "Python 3"
    },
    "language_info": {
      "name": "python"
    },
    "accelerator": "GPU"
  },
  "cells": [
    {
      "cell_type": "markdown",
      "metadata": {
        "id": "view-in-github",
        "colab_type": "text"
      },
      "source": [
        "<a href=\"https://colab.research.google.com/github/brianellis1997/Sarcasm_Detection/blob/Lindsey/DS_440_Test.ipynb\" target=\"_parent\"><img src=\"https://colab.research.google.com/assets/colab-badge.svg\" alt=\"Open In Colab\"/></a>"
      ]
    },
    {
      "cell_type": "markdown",
      "source": [
        "# Sarcasm Detection using NLP Techniques\n",
        "### Team 2: Brian Ellis, Lindsey Rich, Elena Kern"
      ],
      "metadata": {
        "id": "83CHGfhCqBUr"
      }
    },
    {
      "cell_type": "markdown",
      "source": [
        "## Load Libraries and Dataset"
      ],
      "metadata": {
        "id": "Mf7bmmcfetuI"
      }
    },
    {
      "cell_type": "code",
      "execution_count": 1,
      "metadata": {
        "id": "gB0K8GssUbrq"
      },
      "outputs": [],
      "source": [
        "import pandas as pd\n",
        "import torch\n",
        "from wordcloud import WordCloud\n",
        "import matplotlib.pyplot as plt\n",
        "\n",
        "#test comment"
      ]
    },
    {
      "cell_type": "code",
      "source": [
        "import torch.nn as nn\n",
        "from torch.nn.utils.rnn import pack_padded_sequence, pad_packed_sequence\n",
        "import torch.optim as optim\n",
        "from sklearn.metrics import accuracy_score, classification_report, confusion_matrix\n",
        "import seaborn as sns"
      ],
      "metadata": {
        "id": "VvT3qX6GYCVV"
      },
      "execution_count": 2,
      "outputs": []
    },
    {
      "cell_type": "code",
      "source": [
        "!git clone https://github.com/brianellis1997/Sarcasm_Detection.git"
      ],
      "metadata": {
        "colab": {
          "base_uri": "https://localhost:8080/"
        },
        "id": "Xqvo69MVYiV-",
        "outputId": "3282367b-20d9-440c-c5e9-00374e5d3c92"
      },
      "execution_count": 3,
      "outputs": [
        {
          "output_type": "stream",
          "name": "stdout",
          "text": [
            "Cloning into 'Sarcasm_Detection'...\n",
            "remote: Enumerating objects: 74, done.\u001b[K\n",
            "remote: Counting objects: 100% (74/74), done.\u001b[K\n",
            "remote: Compressing objects: 100% (74/74), done.\u001b[K\n",
            "remote: Total 74 (delta 37), reused 3 (delta 0), pack-reused 0\u001b[K\n",
            "Receiving objects: 100% (74/74), 1.22 MiB | 7.96 MiB/s, done.\n",
            "Resolving deltas: 100% (37/37), done.\n"
          ]
        }
      ]
    },
    {
      "cell_type": "code",
      "source": [
        "from google.colab import drive\n",
        "drive.mount('/content/drive')"
      ],
      "metadata": {
        "id": "kFqAxbBlhxGs",
        "outputId": "f3c07701-42c7-4ed6-c2eb-0d67bc47fa14",
        "colab": {
          "base_uri": "https://localhost:8080/"
        }
      },
      "execution_count": 4,
      "outputs": [
        {
          "output_type": "stream",
          "name": "stdout",
          "text": [
            "Mounted at /content/drive\n"
          ]
        }
      ]
    },
    {
      "cell_type": "code",
      "source": [
        "train_bal = pd.read_csv('/content/drive/MyDrive/Sarcasm_Data/train-balanced-sarcasm.csv')   # Make sure path is correct in your google drive\n",
        "train_bal.head()"
      ],
      "metadata": {
        "colab": {
          "base_uri": "https://localhost:8080/",
          "height": 206
        },
        "id": "qQbpFOgeViuu",
        "outputId": "6e998a82-7d30-41be-cfb0-4683bf75143f"
      },
      "execution_count": 5,
      "outputs": [
        {
          "output_type": "execute_result",
          "data": {
            "text/plain": [
              "   label                                            comment     author  \\\n",
              "0      0                                         NC and NH.  Trumpbart   \n",
              "1      0  You do know west teams play against west teams...  Shbshb906   \n",
              "2      0  They were underdogs earlier today, but since G...   Creepeth   \n",
              "3      0  This meme isn't funny none of the \"new york ni...  icebrotha   \n",
              "4      0                    I could use one of those tools.  cush2push   \n",
              "\n",
              "            subreddit  score  ups  downs     date          created_utc  \\\n",
              "0            politics      2   -1     -1  2016-10  2016-10-16 23:55:23   \n",
              "1                 nba     -4   -1     -1  2016-11  2016-11-01 00:24:10   \n",
              "2                 nfl      3    3      0  2016-09  2016-09-22 21:45:37   \n",
              "3  BlackPeopleTwitter     -8   -1     -1  2016-10  2016-10-18 21:03:47   \n",
              "4  MaddenUltimateTeam      6   -1     -1  2016-12  2016-12-30 17:00:13   \n",
              "\n",
              "                                      parent_comment  \n",
              "0  Yeah, I get that argument. At this point, I'd ...  \n",
              "1  The blazers and Mavericks (The wests 5 and 6 s...  \n",
              "2                            They're favored to win.  \n",
              "3                         deadass don't kill my buzz  \n",
              "4  Yep can confirm I saw the tool they use for th...  "
            ],
            "text/html": [
              "\n",
              "  <div id=\"df-b60882ef-5201-4005-8958-3534e106a37a\" class=\"colab-df-container\">\n",
              "    <div>\n",
              "<style scoped>\n",
              "    .dataframe tbody tr th:only-of-type {\n",
              "        vertical-align: middle;\n",
              "    }\n",
              "\n",
              "    .dataframe tbody tr th {\n",
              "        vertical-align: top;\n",
              "    }\n",
              "\n",
              "    .dataframe thead th {\n",
              "        text-align: right;\n",
              "    }\n",
              "</style>\n",
              "<table border=\"1\" class=\"dataframe\">\n",
              "  <thead>\n",
              "    <tr style=\"text-align: right;\">\n",
              "      <th></th>\n",
              "      <th>label</th>\n",
              "      <th>comment</th>\n",
              "      <th>author</th>\n",
              "      <th>subreddit</th>\n",
              "      <th>score</th>\n",
              "      <th>ups</th>\n",
              "      <th>downs</th>\n",
              "      <th>date</th>\n",
              "      <th>created_utc</th>\n",
              "      <th>parent_comment</th>\n",
              "    </tr>\n",
              "  </thead>\n",
              "  <tbody>\n",
              "    <tr>\n",
              "      <th>0</th>\n",
              "      <td>0</td>\n",
              "      <td>NC and NH.</td>\n",
              "      <td>Trumpbart</td>\n",
              "      <td>politics</td>\n",
              "      <td>2</td>\n",
              "      <td>-1</td>\n",
              "      <td>-1</td>\n",
              "      <td>2016-10</td>\n",
              "      <td>2016-10-16 23:55:23</td>\n",
              "      <td>Yeah, I get that argument. At this point, I'd ...</td>\n",
              "    </tr>\n",
              "    <tr>\n",
              "      <th>1</th>\n",
              "      <td>0</td>\n",
              "      <td>You do know west teams play against west teams...</td>\n",
              "      <td>Shbshb906</td>\n",
              "      <td>nba</td>\n",
              "      <td>-4</td>\n",
              "      <td>-1</td>\n",
              "      <td>-1</td>\n",
              "      <td>2016-11</td>\n",
              "      <td>2016-11-01 00:24:10</td>\n",
              "      <td>The blazers and Mavericks (The wests 5 and 6 s...</td>\n",
              "    </tr>\n",
              "    <tr>\n",
              "      <th>2</th>\n",
              "      <td>0</td>\n",
              "      <td>They were underdogs earlier today, but since G...</td>\n",
              "      <td>Creepeth</td>\n",
              "      <td>nfl</td>\n",
              "      <td>3</td>\n",
              "      <td>3</td>\n",
              "      <td>0</td>\n",
              "      <td>2016-09</td>\n",
              "      <td>2016-09-22 21:45:37</td>\n",
              "      <td>They're favored to win.</td>\n",
              "    </tr>\n",
              "    <tr>\n",
              "      <th>3</th>\n",
              "      <td>0</td>\n",
              "      <td>This meme isn't funny none of the \"new york ni...</td>\n",
              "      <td>icebrotha</td>\n",
              "      <td>BlackPeopleTwitter</td>\n",
              "      <td>-8</td>\n",
              "      <td>-1</td>\n",
              "      <td>-1</td>\n",
              "      <td>2016-10</td>\n",
              "      <td>2016-10-18 21:03:47</td>\n",
              "      <td>deadass don't kill my buzz</td>\n",
              "    </tr>\n",
              "    <tr>\n",
              "      <th>4</th>\n",
              "      <td>0</td>\n",
              "      <td>I could use one of those tools.</td>\n",
              "      <td>cush2push</td>\n",
              "      <td>MaddenUltimateTeam</td>\n",
              "      <td>6</td>\n",
              "      <td>-1</td>\n",
              "      <td>-1</td>\n",
              "      <td>2016-12</td>\n",
              "      <td>2016-12-30 17:00:13</td>\n",
              "      <td>Yep can confirm I saw the tool they use for th...</td>\n",
              "    </tr>\n",
              "  </tbody>\n",
              "</table>\n",
              "</div>\n",
              "    <div class=\"colab-df-buttons\">\n",
              "\n",
              "  <div class=\"colab-df-container\">\n",
              "    <button class=\"colab-df-convert\" onclick=\"convertToInteractive('df-b60882ef-5201-4005-8958-3534e106a37a')\"\n",
              "            title=\"Convert this dataframe to an interactive table.\"\n",
              "            style=\"display:none;\">\n",
              "\n",
              "  <svg xmlns=\"http://www.w3.org/2000/svg\" height=\"24px\" viewBox=\"0 -960 960 960\">\n",
              "    <path d=\"M120-120v-720h720v720H120Zm60-500h600v-160H180v160Zm220 220h160v-160H400v160Zm0 220h160v-160H400v160ZM180-400h160v-160H180v160Zm440 0h160v-160H620v160ZM180-180h160v-160H180v160Zm440 0h160v-160H620v160Z\"/>\n",
              "  </svg>\n",
              "    </button>\n",
              "\n",
              "  <style>\n",
              "    .colab-df-container {\n",
              "      display:flex;\n",
              "      gap: 12px;\n",
              "    }\n",
              "\n",
              "    .colab-df-convert {\n",
              "      background-color: #E8F0FE;\n",
              "      border: none;\n",
              "      border-radius: 50%;\n",
              "      cursor: pointer;\n",
              "      display: none;\n",
              "      fill: #1967D2;\n",
              "      height: 32px;\n",
              "      padding: 0 0 0 0;\n",
              "      width: 32px;\n",
              "    }\n",
              "\n",
              "    .colab-df-convert:hover {\n",
              "      background-color: #E2EBFA;\n",
              "      box-shadow: 0px 1px 2px rgba(60, 64, 67, 0.3), 0px 1px 3px 1px rgba(60, 64, 67, 0.15);\n",
              "      fill: #174EA6;\n",
              "    }\n",
              "\n",
              "    .colab-df-buttons div {\n",
              "      margin-bottom: 4px;\n",
              "    }\n",
              "\n",
              "    [theme=dark] .colab-df-convert {\n",
              "      background-color: #3B4455;\n",
              "      fill: #D2E3FC;\n",
              "    }\n",
              "\n",
              "    [theme=dark] .colab-df-convert:hover {\n",
              "      background-color: #434B5C;\n",
              "      box-shadow: 0px 1px 3px 1px rgba(0, 0, 0, 0.15);\n",
              "      filter: drop-shadow(0px 1px 2px rgba(0, 0, 0, 0.3));\n",
              "      fill: #FFFFFF;\n",
              "    }\n",
              "  </style>\n",
              "\n",
              "    <script>\n",
              "      const buttonEl =\n",
              "        document.querySelector('#df-b60882ef-5201-4005-8958-3534e106a37a button.colab-df-convert');\n",
              "      buttonEl.style.display =\n",
              "        google.colab.kernel.accessAllowed ? 'block' : 'none';\n",
              "\n",
              "      async function convertToInteractive(key) {\n",
              "        const element = document.querySelector('#df-b60882ef-5201-4005-8958-3534e106a37a');\n",
              "        const dataTable =\n",
              "          await google.colab.kernel.invokeFunction('convertToInteractive',\n",
              "                                                    [key], {});\n",
              "        if (!dataTable) return;\n",
              "\n",
              "        const docLinkHtml = 'Like what you see? Visit the ' +\n",
              "          '<a target=\"_blank\" href=https://colab.research.google.com/notebooks/data_table.ipynb>data table notebook</a>'\n",
              "          + ' to learn more about interactive tables.';\n",
              "        element.innerHTML = '';\n",
              "        dataTable['output_type'] = 'display_data';\n",
              "        await google.colab.output.renderOutput(dataTable, element);\n",
              "        const docLink = document.createElement('div');\n",
              "        docLink.innerHTML = docLinkHtml;\n",
              "        element.appendChild(docLink);\n",
              "      }\n",
              "    </script>\n",
              "  </div>\n",
              "\n",
              "\n",
              "<div id=\"df-bc5f8c11-ffdc-4a15-84ee-4b22cf97f39c\">\n",
              "  <button class=\"colab-df-quickchart\" onclick=\"quickchart('df-bc5f8c11-ffdc-4a15-84ee-4b22cf97f39c')\"\n",
              "            title=\"Suggest charts\"\n",
              "            style=\"display:none;\">\n",
              "\n",
              "<svg xmlns=\"http://www.w3.org/2000/svg\" height=\"24px\"viewBox=\"0 0 24 24\"\n",
              "     width=\"24px\">\n",
              "    <g>\n",
              "        <path d=\"M19 3H5c-1.1 0-2 .9-2 2v14c0 1.1.9 2 2 2h14c1.1 0 2-.9 2-2V5c0-1.1-.9-2-2-2zM9 17H7v-7h2v7zm4 0h-2V7h2v10zm4 0h-2v-4h2v4z\"/>\n",
              "    </g>\n",
              "</svg>\n",
              "  </button>\n",
              "\n",
              "<style>\n",
              "  .colab-df-quickchart {\n",
              "      --bg-color: #E8F0FE;\n",
              "      --fill-color: #1967D2;\n",
              "      --hover-bg-color: #E2EBFA;\n",
              "      --hover-fill-color: #174EA6;\n",
              "      --disabled-fill-color: #AAA;\n",
              "      --disabled-bg-color: #DDD;\n",
              "  }\n",
              "\n",
              "  [theme=dark] .colab-df-quickchart {\n",
              "      --bg-color: #3B4455;\n",
              "      --fill-color: #D2E3FC;\n",
              "      --hover-bg-color: #434B5C;\n",
              "      --hover-fill-color: #FFFFFF;\n",
              "      --disabled-bg-color: #3B4455;\n",
              "      --disabled-fill-color: #666;\n",
              "  }\n",
              "\n",
              "  .colab-df-quickchart {\n",
              "    background-color: var(--bg-color);\n",
              "    border: none;\n",
              "    border-radius: 50%;\n",
              "    cursor: pointer;\n",
              "    display: none;\n",
              "    fill: var(--fill-color);\n",
              "    height: 32px;\n",
              "    padding: 0;\n",
              "    width: 32px;\n",
              "  }\n",
              "\n",
              "  .colab-df-quickchart:hover {\n",
              "    background-color: var(--hover-bg-color);\n",
              "    box-shadow: 0 1px 2px rgba(60, 64, 67, 0.3), 0 1px 3px 1px rgba(60, 64, 67, 0.15);\n",
              "    fill: var(--button-hover-fill-color);\n",
              "  }\n",
              "\n",
              "  .colab-df-quickchart-complete:disabled,\n",
              "  .colab-df-quickchart-complete:disabled:hover {\n",
              "    background-color: var(--disabled-bg-color);\n",
              "    fill: var(--disabled-fill-color);\n",
              "    box-shadow: none;\n",
              "  }\n",
              "\n",
              "  .colab-df-spinner {\n",
              "    border: 2px solid var(--fill-color);\n",
              "    border-color: transparent;\n",
              "    border-bottom-color: var(--fill-color);\n",
              "    animation:\n",
              "      spin 1s steps(1) infinite;\n",
              "  }\n",
              "\n",
              "  @keyframes spin {\n",
              "    0% {\n",
              "      border-color: transparent;\n",
              "      border-bottom-color: var(--fill-color);\n",
              "      border-left-color: var(--fill-color);\n",
              "    }\n",
              "    20% {\n",
              "      border-color: transparent;\n",
              "      border-left-color: var(--fill-color);\n",
              "      border-top-color: var(--fill-color);\n",
              "    }\n",
              "    30% {\n",
              "      border-color: transparent;\n",
              "      border-left-color: var(--fill-color);\n",
              "      border-top-color: var(--fill-color);\n",
              "      border-right-color: var(--fill-color);\n",
              "    }\n",
              "    40% {\n",
              "      border-color: transparent;\n",
              "      border-right-color: var(--fill-color);\n",
              "      border-top-color: var(--fill-color);\n",
              "    }\n",
              "    60% {\n",
              "      border-color: transparent;\n",
              "      border-right-color: var(--fill-color);\n",
              "    }\n",
              "    80% {\n",
              "      border-color: transparent;\n",
              "      border-right-color: var(--fill-color);\n",
              "      border-bottom-color: var(--fill-color);\n",
              "    }\n",
              "    90% {\n",
              "      border-color: transparent;\n",
              "      border-bottom-color: var(--fill-color);\n",
              "    }\n",
              "  }\n",
              "</style>\n",
              "\n",
              "  <script>\n",
              "    async function quickchart(key) {\n",
              "      const quickchartButtonEl =\n",
              "        document.querySelector('#' + key + ' button');\n",
              "      quickchartButtonEl.disabled = true;  // To prevent multiple clicks.\n",
              "      quickchartButtonEl.classList.add('colab-df-spinner');\n",
              "      try {\n",
              "        const charts = await google.colab.kernel.invokeFunction(\n",
              "            'suggestCharts', [key], {});\n",
              "      } catch (error) {\n",
              "        console.error('Error during call to suggestCharts:', error);\n",
              "      }\n",
              "      quickchartButtonEl.classList.remove('colab-df-spinner');\n",
              "      quickchartButtonEl.classList.add('colab-df-quickchart-complete');\n",
              "    }\n",
              "    (() => {\n",
              "      let quickchartButtonEl =\n",
              "        document.querySelector('#df-bc5f8c11-ffdc-4a15-84ee-4b22cf97f39c button');\n",
              "      quickchartButtonEl.style.display =\n",
              "        google.colab.kernel.accessAllowed ? 'block' : 'none';\n",
              "    })();\n",
              "  </script>\n",
              "</div>\n",
              "\n",
              "    </div>\n",
              "  </div>\n"
            ]
          },
          "metadata": {},
          "execution_count": 5
        }
      ]
    },
    {
      "cell_type": "code",
      "source": [
        "train_bal.info()"
      ],
      "metadata": {
        "id": "buRDCOARVtib",
        "outputId": "4c3a3707-07a3-4c1f-bafc-4a35c675e6cb",
        "colab": {
          "base_uri": "https://localhost:8080/"
        }
      },
      "execution_count": 6,
      "outputs": [
        {
          "output_type": "stream",
          "name": "stdout",
          "text": [
            "<class 'pandas.core.frame.DataFrame'>\n",
            "RangeIndex: 1010826 entries, 0 to 1010825\n",
            "Data columns (total 10 columns):\n",
            " #   Column          Non-Null Count    Dtype \n",
            "---  ------          --------------    ----- \n",
            " 0   label           1010826 non-null  int64 \n",
            " 1   comment         1010773 non-null  object\n",
            " 2   author          1010826 non-null  object\n",
            " 3   subreddit       1010826 non-null  object\n",
            " 4   score           1010826 non-null  int64 \n",
            " 5   ups             1010826 non-null  int64 \n",
            " 6   downs           1010826 non-null  int64 \n",
            " 7   date            1010826 non-null  object\n",
            " 8   created_utc     1010826 non-null  object\n",
            " 9   parent_comment  1010826 non-null  object\n",
            "dtypes: int64(4), object(6)\n",
            "memory usage: 77.1+ MB\n"
          ]
        }
      ]
    },
    {
      "cell_type": "code",
      "source": [
        "train_bal['label'].value_counts()"
      ],
      "metadata": {
        "id": "8ZmNESsSV-QP",
        "outputId": "f1b7d3ff-fe6d-4af4-c752-8a23c740b1cb",
        "colab": {
          "base_uri": "https://localhost:8080/"
        }
      },
      "execution_count": 7,
      "outputs": [
        {
          "output_type": "execute_result",
          "data": {
            "text/plain": [
              "0    505413\n",
              "1    505413\n",
              "Name: label, dtype: int64"
            ]
          },
          "metadata": {},
          "execution_count": 7
        }
      ]
    },
    {
      "cell_type": "markdown",
      "source": [
        "We can see our dataset is balanced."
      ],
      "metadata": {
        "id": "BGEjPFEaXQ-0"
      }
    },
    {
      "cell_type": "code",
      "source": [
        "train_bal['comment'] = train_bal['comment'].astype('str')\n",
        "train_bal.info()"
      ],
      "metadata": {
        "id": "WgAbanW9XSkN",
        "outputId": "ecff141f-6a1c-4111-e266-afb6707b3a5e",
        "colab": {
          "base_uri": "https://localhost:8080/"
        }
      },
      "execution_count": 8,
      "outputs": [
        {
          "output_type": "stream",
          "name": "stdout",
          "text": [
            "<class 'pandas.core.frame.DataFrame'>\n",
            "RangeIndex: 1010826 entries, 0 to 1010825\n",
            "Data columns (total 10 columns):\n",
            " #   Column          Non-Null Count    Dtype \n",
            "---  ------          --------------    ----- \n",
            " 0   label           1010826 non-null  int64 \n",
            " 1   comment         1010826 non-null  object\n",
            " 2   author          1010826 non-null  object\n",
            " 3   subreddit       1010826 non-null  object\n",
            " 4   score           1010826 non-null  int64 \n",
            " 5   ups             1010826 non-null  int64 \n",
            " 6   downs           1010826 non-null  int64 \n",
            " 7   date            1010826 non-null  object\n",
            " 8   created_utc     1010826 non-null  object\n",
            " 9   parent_comment  1010826 non-null  object\n",
            "dtypes: int64(4), object(6)\n",
            "memory usage: 77.1+ MB\n"
          ]
        }
      ]
    },
    {
      "cell_type": "code",
      "source": [
        "train_bal[:20]['comment']"
      ],
      "metadata": {
        "id": "l80XOo3PoGVK",
        "outputId": "341b75a6-7954-43f2-898d-6c8d3e4d7d57",
        "colab": {
          "base_uri": "https://localhost:8080/"
        }
      },
      "execution_count": 9,
      "outputs": [
        {
          "output_type": "execute_result",
          "data": {
            "text/plain": [
              "0                                            NC and NH.\n",
              "1     You do know west teams play against west teams...\n",
              "2     They were underdogs earlier today, but since G...\n",
              "3     This meme isn't funny none of the \"new york ni...\n",
              "4                       I could use one of those tools.\n",
              "5     I don't pay attention to her, but as long as s...\n",
              "6         Trick or treating in general is just weird...\n",
              "7                       Blade Mastery+Masamune or GTFO!\n",
              "8     You don't have to, you have a good build, buy ...\n",
              "9                     I would love to see him at lolla.\n",
              "10    I think a significant amount would be against ...\n",
              "11                       Damn I was hoping God was real\n",
              "12                                 They have an agenda.\n",
              "13                                          Great idea!\n",
              "14    Ayy bb wassup, it makes a bit more sense in co...\n",
              "15                                        what the fuck\n",
              "16                                               noted.\n",
              "17    because it's what really bothers him... and it...\n",
              "18                        why you fail me, my precious?\n",
              "19                       Pre-Flashpoint Clark and Lois.\n",
              "Name: comment, dtype: object"
            ]
          },
          "metadata": {},
          "execution_count": 9
        }
      ]
    },
    {
      "cell_type": "markdown",
      "source": [
        "## EDA"
      ],
      "metadata": {
        "id": "bxRfLcEQerOA"
      }
    },
    {
      "cell_type": "code",
      "source": [
        "# Separating sarcastic vs non sarcastic comments\n",
        "sarcastic_com = train_bal[train_bal['label'] == 1]\n",
        "non_sarcastic_com = train_bal[train_bal['label'] == 0]"
      ],
      "metadata": {
        "id": "5QAY7ml_oq-h"
      },
      "execution_count": 10,
      "outputs": []
    },
    {
      "cell_type": "code",
      "source": [
        "# # WordCloud for sarcastic comments\n",
        "# wordcloud = WordCloud(width=800, height=400, background_color='white').generate(' '.join(sarcastic_com['comment'].values.ravel()))\n",
        "\n",
        "# # Display the generated word cloud using matplotlib\n",
        "# plt.figure(figsize=(10, 5))\n",
        "# plt.imshow(wordcloud, interpolation='bilinear')\n",
        "# plt.axis('off')\n",
        "# plt.show()"
      ],
      "metadata": {
        "id": "eA_0ybLxesig"
      },
      "execution_count": 11,
      "outputs": []
    },
    {
      "cell_type": "code",
      "source": [
        "# # WordCloud for non-sarcastic comments\n",
        "# wordcloud = WordCloud(width=800, height=400, background_color='white').generate(' '.join(non_sarcastic_com['comment'].values.ravel()))\n",
        "\n",
        "# # Display the generated word cloud using matplotlib\n",
        "# plt.figure(figsize=(10, 5))\n",
        "# plt.imshow(wordcloud, interpolation='bilinear')\n",
        "# plt.axis('off')\n",
        "# plt.show()"
      ],
      "metadata": {
        "id": "NAr7sC4lpEs2"
      },
      "execution_count": 12,
      "outputs": []
    },
    {
      "cell_type": "code",
      "source": [],
      "metadata": {
        "id": "Fn4l2KLpnRkJ"
      },
      "execution_count": 12,
      "outputs": []
    },
    {
      "cell_type": "markdown",
      "source": [
        "# Visualizing Sarcastic Comments by Subreddit"
      ],
      "metadata": {
        "id": "a51uPrvhfN97"
      }
    },
    {
      "cell_type": "code",
      "source": [
        "subreddit_count = sarcastic_com['subreddit'].value_counts()"
      ],
      "metadata": {
        "id": "vH4eEHBohhOY"
      },
      "execution_count": 13,
      "outputs": []
    },
    {
      "cell_type": "code",
      "source": [
        "import matplotlib.pyplot as plt\n",
        "import seaborn as sns\n",
        "top = subreddit_count.head(20)\n",
        "plt.figure(figsize=(10, 6))\n",
        "sns.barplot(x=top.values, y=top.index)\n",
        "plt.xlabel('Number of Sarcastic Comments')\n",
        "plt.ylabel('Subreddit')\n",
        "plt.title('Frequency of Sarcastic Comments by Subreddit')\n",
        "plt.show()\n"
      ],
      "metadata": {
        "id": "MyUb_gYKihvx",
        "outputId": "9fbeda78-20d6-408e-b60f-1d9c5e27b6b9",
        "colab": {
          "base_uri": "https://localhost:8080/",
          "height": 564
        }
      },
      "execution_count": 14,
      "outputs": [
        {
          "output_type": "display_data",
          "data": {
            "text/plain": [
              "<Figure size 1000x600 with 1 Axes>"
            ],
            "image/png": "[encoded data removed]"
          },
          "metadata": {}
        }
      ]
    },
    {
      "cell_type": "code",
      "source": [
        "import nltk\n",
        "from nltk import word_tokenize, sent_tokenize\n",
        "from nltk.corpus import stopwords\n",
        "from nltk.stem.porter import *\n",
        "nltk.download('punkt')\n",
        "nltk.download('stopwords')\n",
        "\n",
        "import string\n",
        "\n",
        "import gensim\n",
        "from gensim.models.phrases import Phraser, Phrases\n",
        "from gensim.models.word2vec import Word2Vec\n",
        "\n",
        "import spacy # for a lemmatization example\n",
        "\n",
        "from sklearn.manifold import TSNE\n",
        "\n",
        "import pandas as pd\n",
        "from bokeh.io import output_notebook, output_file\n",
        "from bokeh.plotting import show, figure"
      ],
      "metadata": {
        "id": "0070DkpOns2u",
        "outputId": "f7110e58-cac0-492c-d9f3-b0d4a0476131",
        "colab": {
          "base_uri": "https://localhost:8080/"
        }
      },
      "execution_count": 15,
      "outputs": [
        {
          "output_type": "stream",
          "name": "stderr",
          "text": [
            "[nltk_data] Downloading package punkt to /root/nltk_data...\n",
            "[nltk_data]   Unzipping tokenizers/punkt.zip.\n",
            "[nltk_data] Downloading package stopwords to /root/nltk_data...\n",
            "[nltk_data]   Unzipping corpora/stopwords.zip.\n"
          ]
        }
      ]
    },
    {
      "cell_type": "code",
      "source": [
        "comments = train_bal['comment']"
      ],
      "metadata": {
        "id": "Z1115StdoiGI"
      },
      "execution_count": 16,
      "outputs": []
    },
    {
      "cell_type": "code",
      "source": [
        "comments.info()"
      ],
      "metadata": {
        "id": "EY3sfqD7s9UU",
        "outputId": "96ab2de9-8c65-48a1-d066-07737b2f152b",
        "colab": {
          "base_uri": "https://localhost:8080/"
        }
      },
      "execution_count": 17,
      "outputs": [
        {
          "output_type": "stream",
          "name": "stdout",
          "text": [
            "<class 'pandas.core.series.Series'>\n",
            "RangeIndex: 1010826 entries, 0 to 1010825\n",
            "Series name: comment\n",
            "Non-Null Count    Dtype \n",
            "--------------    ----- \n",
            "1010826 non-null  object\n",
            "dtypes: object(1)\n",
            "memory usage: 7.7+ MB\n"
          ]
        }
      ]
    },
    {
      "cell_type": "code",
      "source": [
        "comments.dropna(inplace=True)\n",
        "comments.info()"
      ],
      "metadata": {
        "id": "sbjzLRGTtbTO",
        "outputId": "81d83548-adaf-4a56-fff9-ecc5a89bcf5a",
        "colab": {
          "base_uri": "https://localhost:8080/"
        }
      },
      "execution_count": 18,
      "outputs": [
        {
          "output_type": "stream",
          "name": "stdout",
          "text": [
            "<class 'pandas.core.series.Series'>\n",
            "Int64Index: 1010826 entries, 0 to 1010825\n",
            "Series name: comment\n",
            "Non-Null Count    Dtype \n",
            "--------------    ----- \n",
            "1010826 non-null  object\n",
            "dtypes: object(1)\n",
            "memory usage: 15.4+ MB\n"
          ]
        }
      ]
    },
    {
      "cell_type": "code",
      "source": [
        "!pip install dask[delayed]"
      ],
      "metadata": {
        "id": "FGDdd5DDtef4",
        "outputId": "1f698f37-b82a-4487-f328-23c27bb8e965",
        "colab": {
          "base_uri": "https://localhost:8080/"
        }
      },
      "execution_count": 19,
      "outputs": [
        {
          "output_type": "stream",
          "name": "stdout",
          "text": [
            "Requirement already satisfied: dask[delayed] in /usr/local/lib/python3.10/dist-packages (2023.8.1)\n",
            "Requirement already satisfied: click>=8.0 in /usr/local/lib/python3.10/dist-packages (from dask[delayed]) (8.1.7)\n",
            "Requirement already satisfied: cloudpickle>=1.5.0 in /usr/local/lib/python3.10/dist-packages (from dask[delayed]) (2.2.1)\n",
            "Requirement already satisfied: fsspec>=2021.09.0 in /usr/local/lib/python3.10/dist-packages (from dask[delayed]) (2023.6.0)\n",
            "Requirement already satisfied: packaging>=20.0 in /usr/local/lib/python3.10/dist-packages (from dask[delayed]) (23.2)\n",
            "Requirement already satisfied: partd>=1.2.0 in /usr/local/lib/python3.10/dist-packages (from dask[delayed]) (1.4.1)\n",
            "Requirement already satisfied: pyyaml>=5.3.1 in /usr/local/lib/python3.10/dist-packages (from dask[delayed]) (6.0.1)\n",
            "Requirement already satisfied: toolz>=0.10.0 in /usr/local/lib/python3.10/dist-packages (from dask[delayed]) (0.12.0)\n",
            "Requirement already satisfied: importlib-metadata>=4.13.0 in /usr/local/lib/python3.10/dist-packages (from dask[delayed]) (7.0.1)\n",
            "Requirement already satisfied: zipp>=0.5 in /usr/local/lib/python3.10/dist-packages (from importlib-metadata>=4.13.0->dask[delayed]) (3.17.0)\n",
            "Requirement already satisfied: locket in /usr/local/lib/python3.10/dist-packages (from partd>=1.2.0->dask[delayed]) (1.0.0)\n"
          ]
        }
      ]
    },
    {
      "cell_type": "code",
      "source": [
        "import dask.dataframe as dd\n",
        "from dask import delayed"
      ],
      "metadata": {
        "id": "KJuWYScVtzH6"
      },
      "execution_count": 20,
      "outputs": []
    },
    {
      "cell_type": "code",
      "source": [
        "comment_test = comments.head(10000)"
      ],
      "metadata": {
        "id": "3swTFty9uT5U"
      },
      "execution_count": 21,
      "outputs": []
    },
    {
      "cell_type": "markdown",
      "source": [
        "#Create large function that does this text preprocessing so that it can be used with X_train, also figure out how to split and keep track of data\n"
      ],
      "metadata": {
        "id": "e7PBx8sX9G7V"
      }
    },
    {
      "cell_type": "code",
      "source": [],
      "metadata": {
        "id": "XU1JbHIV9SjY"
      },
      "execution_count": null,
      "outputs": []
    },
    {
      "cell_type": "code",
      "source": [
        "#  Replace this?\n",
        "def batch_tokenize(texts, batch_size=50000):\n",
        "    tokenized_texts = []\n",
        "    for i in range(0, len(texts), batch_size):\n",
        "        batch = texts[i:i+batch_size]\n",
        "        tokenized_batch = [word_tokenize(text) for text in batch]\n",
        "        tokenized_texts.extend(tokenized_batch)\n",
        "    return tokenized_texts\n",
        "\n",
        "tokenized_comments = batch_tokenize(comments.tolist())"
      ],
      "metadata": {
        "id": "PHejGAHduG3r"
      },
      "execution_count": 22,
      "outputs": []
    },
    {
      "cell_type": "code",
      "source": [
        "len(tokenized_comments)"
      ],
      "metadata": {
        "id": "pRII2opwuchE",
        "outputId": "32ab985b-0252-480b-d000-8f89af324fa7",
        "colab": {
          "base_uri": "https://localhost:8080/"
        }
      },
      "execution_count": 23,
      "outputs": [
        {
          "output_type": "execute_result",
          "data": {
            "text/plain": [
              "1010826"
            ]
          },
          "metadata": {},
          "execution_count": 23
        }
      ]
    },
    {
      "cell_type": "code",
      "source": [
        "phrases = Phrases(tokenized_comments)"
      ],
      "metadata": {
        "id": "RnAMUB1OvgPU"
      },
      "execution_count": 24,
      "outputs": []
    },
    {
      "cell_type": "code",
      "source": [
        "bigram = Phraser(phrases)"
      ],
      "metadata": {
        "id": "E01b4TT1mhOi"
      },
      "execution_count": 25,
      "outputs": []
    },
    {
      "cell_type": "code",
      "source": [
        "# bigram.phrasegrams"
      ],
      "metadata": {
        "id": "N5h707SPnWa3"
      },
      "execution_count": 26,
      "outputs": []
    },
    {
      "cell_type": "code",
      "source": [
        "bigram_comments = [bigram[comment] for comment in tokenized_comments]\n"
      ],
      "metadata": {
        "id": "ms4C3_EgqlGH"
      },
      "execution_count": 27,
      "outputs": []
    },
    {
      "cell_type": "code",
      "source": [
        "from tensorflow.keras.preprocessing.text import Tokenizer\n",
        "\n",
        "tokenizer = Tokenizer(lower=False)\n",
        "tokenizer.fit_on_texts(bigram_comments)\n",
        "word_index = tokenizer.word_index\n",
        "\n",
        "# word_index is a dictionary where keys are words and values are their corresponding indices"
      ],
      "metadata": {
        "id": "sT0NTxws3G6W"
      },
      "execution_count": 112,
      "outputs": []
    },
    {
      "cell_type": "code",
      "source": [
        "len(word_index)"
      ],
      "metadata": {
        "id": "luWWCye73rGV",
        "outputId": "ac34bb7d-d0d0-4c6d-e5b9-898c9d53d307",
        "colab": {
          "base_uri": "https://localhost:8080/"
        }
      },
      "execution_count": 113,
      "outputs": [
        {
          "output_type": "execute_result",
          "data": {
            "text/plain": [
              "284489"
            ]
          },
          "metadata": {},
          "execution_count": 113
        }
      ]
    },
    {
      "cell_type": "code",
      "source": [
        "word_size = len(word_index) + 1"
      ],
      "metadata": {
        "id": "lT7gO2I94LBb"
      },
      "execution_count": 120,
      "outputs": []
    },
    {
      "cell_type": "code",
      "source": [
        "# Adjust parameters as needed\n",
        "size = 150\n",
        "window = 7\n",
        "min_count = 15\n",
        "workers = 4\n",
        "sg = 1\n",
        "negative = 5\n",
        "epochs = 7\n",
        "\n",
        "\n",
        "model = Word2Vec(bigram_comments, vector_size=size, window=window, min_count=min_count, workers=workers)\n",
        "\n",
        "# model.save(\"/content/drive/Sarcasm_Data/model/word2vec.w2v\")\n"
      ],
      "metadata": {
        "id": "IN5JoLLGq_-J"
      },
      "execution_count": 28,
      "outputs": []
    },
    {
      "cell_type": "code",
      "source": [
        "# model.save(\"model_embedding.w2v\")"
      ],
      "metadata": {
        "id": "NcOVvoH9UAUZ"
      },
      "execution_count": 29,
      "outputs": []
    },
    {
      "cell_type": "code",
      "source": [
        "# skip re-training the model with the next line:\n",
        "model = gensim.models.Word2Vec.load('/content/drive/MyDrive/word2vec.model')"
      ],
      "metadata": {
        "id": "mDi59BCHTiqi"
      },
      "execution_count": 31,
      "outputs": []
    },
    {
      "cell_type": "code",
      "source": [
        "model.wv['dog']"
      ],
      "metadata": {
        "id": "KTxPfHCxrYEP",
        "outputId": "a0f99af2-5250-4e7a-d7ef-b79d71ff1d04",
        "colab": {
          "base_uri": "https://localhost:8080/"
        }
      },
      "execution_count": 32,
      "outputs": [
        {
          "output_type": "execute_result",
          "data": {
            "text/plain": [
              "array([ 0.90451765,  1.7631044 ,  0.6231895 ,  0.777761  , -0.510725  ,\n",
              "        0.00946851,  0.17777872, -0.10099883, -0.5565152 , -0.7884845 ,\n",
              "        1.0144794 , -1.570673  , -0.8745102 , -0.4505395 , -0.8160293 ,\n",
              "        0.13125573, -0.5152664 , -0.22710656,  1.0006125 , -0.6409768 ,\n",
              "       -1.9435565 ,  1.6426133 , -0.12443724, -0.48832902,  0.6577657 ,\n",
              "       -0.43018162,  0.74570805, -0.84636575, -0.15677069, -0.789554  ,\n",
              "       -0.8159635 ,  0.5740654 ,  0.7666069 ,  1.0616834 , -0.3965836 ,\n",
              "       -0.60506284,  0.3834844 ,  0.34873432,  1.0772258 , -1.2930739 ,\n",
              "        0.04845177, -0.56659   ,  0.44698796,  1.2523938 , -1.1663436 ,\n",
              "        0.381793  , -0.8429205 , -1.2329977 , -1.84278   ,  1.4529505 ,\n",
              "        0.8372087 ,  0.33779916, -1.2361301 ,  1.4015558 ,  1.5104085 ,\n",
              "        1.559361  ,  1.278143  , -0.06229809,  0.8317676 , -0.65179724,\n",
              "        1.0235895 ,  0.48910755,  1.1788733 , -1.1857599 , -0.22784023,\n",
              "        0.41432002,  0.41276404, -0.01175862,  0.4518781 , -0.7300196 ,\n",
              "       -0.8374771 , -0.1387884 , -0.28642485, -0.94883156, -0.6871681 ,\n",
              "        0.3246033 , -0.33149964, -0.1323354 ,  0.8328783 , -1.1397504 ,\n",
              "        0.5808621 , -0.0990453 , -0.509313  ,  0.03035838, -0.20124315,\n",
              "       -0.02489554,  0.64359343,  0.38221067, -0.9810254 , -1.5566046 ,\n",
              "        0.67762977,  1.4499048 ,  0.30009812,  0.57162786, -1.4151525 ,\n",
              "       -1.0221449 ,  0.62477714, -0.48670632,  0.37881532,  1.2678858 ,\n",
              "        1.3101665 ,  0.3186315 ,  0.0356954 , -0.11342485, -0.81428903,\n",
              "       -1.0717608 ,  1.1441368 ,  0.95219266, -0.48588705, -1.5537081 ,\n",
              "        0.7204861 , -0.39527172, -0.60429484, -0.34870103,  0.2203365 ,\n",
              "       -0.22232334,  0.6444871 ,  0.6948056 , -1.8524384 ,  0.17593646,\n",
              "        0.3732253 , -0.18999423, -0.4942816 ,  0.76918936,  0.8966048 ,\n",
              "       -0.35444522, -0.66347706,  0.0872995 , -0.3551005 , -0.5085508 ,\n",
              "        1.4302262 , -0.38396415,  0.39964738, -0.44851458, -0.30252296,\n",
              "        0.28261462,  1.7253313 , -0.65551895, -0.8703985 ,  0.53717774,\n",
              "       -0.51919633, -0.8496332 , -1.3894501 , -0.8018658 ,  1.083469  ,\n",
              "        0.05043231,  0.32045293, -0.5489033 , -2.131886  , -0.628709  ],\n",
              "      dtype=float32)"
            ]
          },
          "metadata": {},
          "execution_count": 32
        }
      ]
    },
    {
      "cell_type": "code",
      "source": [
        "similar_words = model.wv.most_similar('ok')\n",
        "similar_words"
      ],
      "metadata": {
        "colab": {
          "base_uri": "https://localhost:8080/"
        },
        "id": "7GtgNUaAtcQD",
        "outputId": "c96f5966-69a6-4763-b507-c6f12e1a90a7"
      },
      "execution_count": 33,
      "outputs": [
        {
          "output_type": "execute_result",
          "data": {
            "text/plain": [
              "[('okay', 0.9446449279785156),\n",
              " ('OK', 0.9253052473068237),\n",
              " ('alright', 0.7982171773910522),\n",
              " ('fine', 0.6672182083129883),\n",
              " ('perfectly_fine', 0.642020046710968),\n",
              " ('cool', 0.5878971815109253),\n",
              " ('justified', 0.5626591444015503),\n",
              " ('wrong', 0.5318138599395752),\n",
              " ('understandable', 0.5288909077644348),\n",
              " ('unacceptable', 0.4947114884853363)]"
            ]
          },
          "metadata": {},
          "execution_count": 33
        }
      ]
    },
    {
      "cell_type": "code",
      "source": [
        "model.wv.doesnt_match(\"mother father sister brother dog\".split())"
      ],
      "metadata": {
        "id": "LE74GomRJOWv",
        "outputId": "08938f11-d054-4a7e-c2dd-8c5220a99a48",
        "colab": {
          "base_uri": "https://localhost:8080/",
          "height": 36
        }
      },
      "execution_count": 34,
      "outputs": [
        {
          "output_type": "execute_result",
          "data": {
            "text/plain": [
              "'dog'"
            ],
            "application/vnd.google.colaboratory.intrinsic+json": {
              "type": "string"
            }
          },
          "metadata": {},
          "execution_count": 34
        }
      ]
    },
    {
      "cell_type": "code",
      "source": [
        "model.wv.similarity('father', 'dog')"
      ],
      "metadata": {
        "id": "eJcuoTz4JPoP",
        "outputId": "0cffe6ad-a100-4937-ba50-a1e67b2be355",
        "colab": {
          "base_uri": "https://localhost:8080/"
        }
      },
      "execution_count": 35,
      "outputs": [
        {
          "output_type": "execute_result",
          "data": {
            "text/plain": [
              "0.66480863"
            ]
          },
          "metadata": {},
          "execution_count": 35
        }
      ]
    },
    {
      "cell_type": "code",
      "source": [
        "model.wv.most_similar(positive=['father', 'woman'], negative=['man'])   # Should expect mother"
      ],
      "metadata": {
        "id": "ZH0zJ9D0JTAH",
        "outputId": "05d3d1c1-a644-44b3-d243-ef2cc6a3d25d",
        "colab": {
          "base_uri": "https://localhost:8080/"
        }
      },
      "execution_count": 36,
      "outputs": [
        {
          "output_type": "execute_result",
          "data": {
            "text/plain": [
              "[('mother', 0.7413758039474487),\n",
              " ('child', 0.709227979183197),\n",
              " ('daughter', 0.6811947822570801),\n",
              " ('wife', 0.6779746413230896),\n",
              " ('husband', 0.6702209115028381),\n",
              " ('sister', 0.6224682927131653),\n",
              " ('girlfriend', 0.6099835634231567),\n",
              " ('family', 0.606359601020813),\n",
              " ('teacher', 0.5988774299621582),\n",
              " ('family_member', 0.5981861352920532)]"
            ]
          },
          "metadata": {},
          "execution_count": 36
        }
      ]
    },
    {
      "cell_type": "code",
      "source": [
        "model.wv.most_similar(positive=['husband', 'woman'], negative=['man'])  # Should expect wife"
      ],
      "metadata": {
        "id": "9OBRMbMrJZUa",
        "outputId": "dd4851e8-7a6d-4c4c-bba4-4ecc3a5af385",
        "colab": {
          "base_uri": "https://localhost:8080/"
        }
      },
      "execution_count": 37,
      "outputs": [
        {
          "output_type": "execute_result",
          "data": {
            "text/plain": [
              "[('daughter', 0.7059494853019714),\n",
              " ('mother', 0.6991272568702698),\n",
              " ('child', 0.6818873882293701),\n",
              " ('partner', 0.6637686491012573),\n",
              " ('wife', 0.6501094698905945),\n",
              " ('girlfriend', 0.6445956230163574),\n",
              " ('father', 0.6311219334602356),\n",
              " ('boyfriend', 0.6283386945724487),\n",
              " ('sister', 0.6098517775535583),\n",
              " ('penis', 0.609626293182373)]"
            ]
          },
          "metadata": {},
          "execution_count": 37
        }
      ]
    },
    {
      "cell_type": "markdown",
      "source": [
        "### t-SNE Word Embedding Visualization"
      ],
      "metadata": {
        "id": "eDUAEbPEYVax"
      }
    },
    {
      "cell_type": "code",
      "source": [
        "tsne = TSNE(n_components=2, n_iter=1000)"
      ],
      "metadata": {
        "id": "r_PTRS5cJfJn"
      },
      "execution_count": 41,
      "outputs": []
    },
    {
      "cell_type": "code",
      "source": [
        "X_2d = tsne.fit_transform(model.wv[model.wv.key_to_index])\n",
        "coords_df = pd.DataFrame(X_2d, columns=['x','y'])\n",
        "coords_df['token'] = model.wv.index_to_key\n",
        "coords_df.head()\n"
      ],
      "metadata": {
        "id": "RsgHPNmMJqKg",
        "outputId": "b9658ef7-3519-4486-ab24-b9c9377ea503",
        "colab": {
          "base_uri": "https://localhost:8080/",
          "height": 369
        }
      },
      "execution_count": 42,
      "outputs": [
        {
          "output_type": "error",
          "ename": "OSError",
          "evalue": "Cannot save file into a non-existent directory: '/content/drive/Sarcasm_Data/model'",
          "traceback": [
            "\u001b[0;31m---------------------------------------------------------------------------\u001b[0m",
            "\u001b[0;31mOSError\u001b[0m                                   Traceback (most recent call last)",
            "\u001b[0;32m<ipython-input-42-9c3843c69c50>\u001b[0m in \u001b[0;36m<cell line: 5>\u001b[0;34m()\u001b[0m\n\u001b[1;32m      3\u001b[0m \u001b[0mcoords_df\u001b[0m\u001b[0;34m[\u001b[0m\u001b[0;34m'token'\u001b[0m\u001b[0;34m]\u001b[0m \u001b[0;34m=\u001b[0m \u001b[0mmodel\u001b[0m\u001b[0;34m.\u001b[0m\u001b[0mwv\u001b[0m\u001b[0;34m.\u001b[0m\u001b[0mindex_to_key\u001b[0m\u001b[0;34m\u001b[0m\u001b[0;34m\u001b[0m\u001b[0m\n\u001b[1;32m      4\u001b[0m \u001b[0mcoords_df\u001b[0m\u001b[0;34m.\u001b[0m\u001b[0mhead\u001b[0m\u001b[0;34m(\u001b[0m\u001b[0;34m)\u001b[0m\u001b[0;34m\u001b[0m\u001b[0;34m\u001b[0m\u001b[0m\n\u001b[0;32m----> 5\u001b[0;31m \u001b[0mcoords_df\u001b[0m\u001b[0;34m.\u001b[0m\u001b[0mto_csv\u001b[0m\u001b[0;34m(\u001b[0m\u001b[0;34m'/content/drive/Sarcasm_Data/model/word_embedding_tsne.csv'\u001b[0m\u001b[0;34m,\u001b[0m \u001b[0mindex\u001b[0m\u001b[0;34m=\u001b[0m\u001b[0;32mFalse\u001b[0m\u001b[0;34m)\u001b[0m\u001b[0;34m\u001b[0m\u001b[0;34m\u001b[0m\u001b[0m\n\u001b[0m",
            "\u001b[0;32m/usr/local/lib/python3.10/dist-packages/pandas/util/_decorators.py\u001b[0m in \u001b[0;36mwrapper\u001b[0;34m(*args, **kwargs)\u001b[0m\n\u001b[1;32m    209\u001b[0m                 \u001b[0;32melse\u001b[0m\u001b[0;34m:\u001b[0m\u001b[0;34m\u001b[0m\u001b[0;34m\u001b[0m\u001b[0m\n\u001b[1;32m    210\u001b[0m                     \u001b[0mkwargs\u001b[0m\u001b[0;34m[\u001b[0m\u001b[0mnew_arg_name\u001b[0m\u001b[0;34m]\u001b[0m \u001b[0;34m=\u001b[0m \u001b[0mnew_arg_value\u001b[0m\u001b[0;34m\u001b[0m\u001b[0;34m\u001b[0m\u001b[0m\n\u001b[0;32m--> 211\u001b[0;31m             \u001b[0;32mreturn\u001b[0m \u001b[0mfunc\u001b[0m\u001b[0;34m(\u001b[0m\u001b[0;34m*\u001b[0m\u001b[0margs\u001b[0m\u001b[0;34m,\u001b[0m \u001b[0;34m**\u001b[0m\u001b[0mkwargs\u001b[0m\u001b[0;34m)\u001b[0m\u001b[0;34m\u001b[0m\u001b[0;34m\u001b[0m\u001b[0m\n\u001b[0m\u001b[1;32m    212\u001b[0m \u001b[0;34m\u001b[0m\u001b[0m\n\u001b[1;32m    213\u001b[0m         \u001b[0;32mreturn\u001b[0m \u001b[0mcast\u001b[0m\u001b[0;34m(\u001b[0m\u001b[0mF\u001b[0m\u001b[0;34m,\u001b[0m \u001b[0mwrapper\u001b[0m\u001b[0;34m)\u001b[0m\u001b[0;34m\u001b[0m\u001b[0;34m\u001b[0m\u001b[0m\n",
            "\u001b[0;32m/usr/local/lib/python3.10/dist-packages/pandas/core/generic.py\u001b[0m in \u001b[0;36mto_csv\u001b[0;34m(self, path_or_buf, sep, na_rep, float_format, columns, header, index, index_label, mode, encoding, compression, quoting, quotechar, lineterminator, chunksize, date_format, doublequote, escapechar, decimal, errors, storage_options)\u001b[0m\n\u001b[1;32m   3718\u001b[0m         )\n\u001b[1;32m   3719\u001b[0m \u001b[0;34m\u001b[0m\u001b[0m\n\u001b[0;32m-> 3720\u001b[0;31m         return DataFrameRenderer(formatter).to_csv(\n\u001b[0m\u001b[1;32m   3721\u001b[0m             \u001b[0mpath_or_buf\u001b[0m\u001b[0;34m,\u001b[0m\u001b[0;34m\u001b[0m\u001b[0;34m\u001b[0m\u001b[0m\n\u001b[1;32m   3722\u001b[0m             \u001b[0mlineterminator\u001b[0m\u001b[0;34m=\u001b[0m\u001b[0mlineterminator\u001b[0m\u001b[0;34m,\u001b[0m\u001b[0;34m\u001b[0m\u001b[0;34m\u001b[0m\u001b[0m\n",
            "\u001b[0;32m/usr/local/lib/python3.10/dist-packages/pandas/util/_decorators.py\u001b[0m in \u001b[0;36mwrapper\u001b[0;34m(*args, **kwargs)\u001b[0m\n\u001b[1;32m    209\u001b[0m                 \u001b[0;32melse\u001b[0m\u001b[0;34m:\u001b[0m\u001b[0;34m\u001b[0m\u001b[0;34m\u001b[0m\u001b[0m\n\u001b[1;32m    210\u001b[0m                     \u001b[0mkwargs\u001b[0m\u001b[0;34m[\u001b[0m\u001b[0mnew_arg_name\u001b[0m\u001b[0;34m]\u001b[0m \u001b[0;34m=\u001b[0m \u001b[0mnew_arg_value\u001b[0m\u001b[0;34m\u001b[0m\u001b[0;34m\u001b[0m\u001b[0m\n\u001b[0;32m--> 211\u001b[0;31m             \u001b[0;32mreturn\u001b[0m \u001b[0mfunc\u001b[0m\u001b[0;34m(\u001b[0m\u001b[0;34m*\u001b[0m\u001b[0margs\u001b[0m\u001b[0;34m,\u001b[0m \u001b[0;34m**\u001b[0m\u001b[0mkwargs\u001b[0m\u001b[0;34m)\u001b[0m\u001b[0;34m\u001b[0m\u001b[0;34m\u001b[0m\u001b[0m\n\u001b[0m\u001b[1;32m    212\u001b[0m \u001b[0;34m\u001b[0m\u001b[0m\n\u001b[1;32m    213\u001b[0m         \u001b[0;32mreturn\u001b[0m \u001b[0mcast\u001b[0m\u001b[0;34m(\u001b[0m\u001b[0mF\u001b[0m\u001b[0;34m,\u001b[0m \u001b[0mwrapper\u001b[0m\u001b[0;34m)\u001b[0m\u001b[0;34m\u001b[0m\u001b[0;34m\u001b[0m\u001b[0m\n",
            "\u001b[0;32m/usr/local/lib/python3.10/dist-packages/pandas/io/formats/format.py\u001b[0m in \u001b[0;36mto_csv\u001b[0;34m(self, path_or_buf, encoding, sep, columns, index_label, mode, compression, quoting, quotechar, lineterminator, chunksize, date_format, doublequote, escapechar, errors, storage_options)\u001b[0m\n\u001b[1;32m   1187\u001b[0m             \u001b[0mformatter\u001b[0m\u001b[0;34m=\u001b[0m\u001b[0mself\u001b[0m\u001b[0;34m.\u001b[0m\u001b[0mfmt\u001b[0m\u001b[0;34m,\u001b[0m\u001b[0;34m\u001b[0m\u001b[0;34m\u001b[0m\u001b[0m\n\u001b[1;32m   1188\u001b[0m         )\n\u001b[0;32m-> 1189\u001b[0;31m         \u001b[0mcsv_formatter\u001b[0m\u001b[0;34m.\u001b[0m\u001b[0msave\u001b[0m\u001b[0;34m(\u001b[0m\u001b[0;34m)\u001b[0m\u001b[0;34m\u001b[0m\u001b[0;34m\u001b[0m\u001b[0m\n\u001b[0m\u001b[1;32m   1190\u001b[0m \u001b[0;34m\u001b[0m\u001b[0m\n\u001b[1;32m   1191\u001b[0m         \u001b[0;32mif\u001b[0m \u001b[0mcreated_buffer\u001b[0m\u001b[0;34m:\u001b[0m\u001b[0;34m\u001b[0m\u001b[0;34m\u001b[0m\u001b[0m\n",
            "\u001b[0;32m/usr/local/lib/python3.10/dist-packages/pandas/io/formats/csvs.py\u001b[0m in \u001b[0;36msave\u001b[0;34m(self)\u001b[0m\n\u001b[1;32m    239\u001b[0m         \"\"\"\n\u001b[1;32m    240\u001b[0m         \u001b[0;31m# apply compression and byte/text conversion\u001b[0m\u001b[0;34m\u001b[0m\u001b[0;34m\u001b[0m\u001b[0m\n\u001b[0;32m--> 241\u001b[0;31m         with get_handle(\n\u001b[0m\u001b[1;32m    242\u001b[0m             \u001b[0mself\u001b[0m\u001b[0;34m.\u001b[0m\u001b[0mfilepath_or_buffer\u001b[0m\u001b[0;34m,\u001b[0m\u001b[0;34m\u001b[0m\u001b[0;34m\u001b[0m\u001b[0m\n\u001b[1;32m    243\u001b[0m             \u001b[0mself\u001b[0m\u001b[0;34m.\u001b[0m\u001b[0mmode\u001b[0m\u001b[0;34m,\u001b[0m\u001b[0;34m\u001b[0m\u001b[0;34m\u001b[0m\u001b[0m\n",
            "\u001b[0;32m/usr/local/lib/python3.10/dist-packages/pandas/io/common.py\u001b[0m in \u001b[0;36mget_handle\u001b[0;34m(path_or_buf, mode, encoding, compression, memory_map, is_text, errors, storage_options)\u001b[0m\n\u001b[1;32m    732\u001b[0m     \u001b[0;31m# Only for write methods\u001b[0m\u001b[0;34m\u001b[0m\u001b[0;34m\u001b[0m\u001b[0m\n\u001b[1;32m    733\u001b[0m     \u001b[0;32mif\u001b[0m \u001b[0;34m\"r\"\u001b[0m \u001b[0;32mnot\u001b[0m \u001b[0;32min\u001b[0m \u001b[0mmode\u001b[0m \u001b[0;32mand\u001b[0m \u001b[0mis_path\u001b[0m\u001b[0;34m:\u001b[0m\u001b[0;34m\u001b[0m\u001b[0;34m\u001b[0m\u001b[0m\n\u001b[0;32m--> 734\u001b[0;31m         \u001b[0mcheck_parent_directory\u001b[0m\u001b[0;34m(\u001b[0m\u001b[0mstr\u001b[0m\u001b[0;34m(\u001b[0m\u001b[0mhandle\u001b[0m\u001b[0;34m)\u001b[0m\u001b[0;34m)\u001b[0m\u001b[0;34m\u001b[0m\u001b[0;34m\u001b[0m\u001b[0m\n\u001b[0m\u001b[1;32m    735\u001b[0m \u001b[0;34m\u001b[0m\u001b[0m\n\u001b[1;32m    736\u001b[0m     \u001b[0;32mif\u001b[0m \u001b[0mcompression\u001b[0m\u001b[0;34m:\u001b[0m\u001b[0;34m\u001b[0m\u001b[0;34m\u001b[0m\u001b[0m\n",
            "\u001b[0;32m/usr/local/lib/python3.10/dist-packages/pandas/io/common.py\u001b[0m in \u001b[0;36mcheck_parent_directory\u001b[0;34m(path)\u001b[0m\n\u001b[1;32m    595\u001b[0m     \u001b[0mparent\u001b[0m \u001b[0;34m=\u001b[0m \u001b[0mPath\u001b[0m\u001b[0;34m(\u001b[0m\u001b[0mpath\u001b[0m\u001b[0;34m)\u001b[0m\u001b[0;34m.\u001b[0m\u001b[0mparent\u001b[0m\u001b[0;34m\u001b[0m\u001b[0;34m\u001b[0m\u001b[0m\n\u001b[1;32m    596\u001b[0m     \u001b[0;32mif\u001b[0m \u001b[0;32mnot\u001b[0m \u001b[0mparent\u001b[0m\u001b[0;34m.\u001b[0m\u001b[0mis_dir\u001b[0m\u001b[0;34m(\u001b[0m\u001b[0;34m)\u001b[0m\u001b[0;34m:\u001b[0m\u001b[0;34m\u001b[0m\u001b[0;34m\u001b[0m\u001b[0m\n\u001b[0;32m--> 597\u001b[0;31m         \u001b[0;32mraise\u001b[0m \u001b[0mOSError\u001b[0m\u001b[0;34m(\u001b[0m\u001b[0;34mrf\"Cannot save file into a non-existent directory: '{parent}'\"\u001b[0m\u001b[0;34m)\u001b[0m\u001b[0;34m\u001b[0m\u001b[0;34m\u001b[0m\u001b[0m\n\u001b[0m\u001b[1;32m    598\u001b[0m \u001b[0;34m\u001b[0m\u001b[0m\n\u001b[1;32m    599\u001b[0m \u001b[0;34m\u001b[0m\u001b[0m\n",
            "\u001b[0;31mOSError\u001b[0m: Cannot save file into a non-existent directory: '/content/drive/Sarcasm_Data/model'"
          ]
        }
      ]
    },
    {
      "cell_type": "code",
      "source": [
        "coords_df.to_csv(\"/content/drive/MyDrive/Sarcasm_Data/coords_df\", index=False)"
      ],
      "metadata": {
        "id": "A8pjccydtFfx"
      },
      "execution_count": 47,
      "outputs": []
    },
    {
      "cell_type": "code",
      "source": [
        "coords_df = pd.read_csv('/content/drive/MyDrive/Sarcasm_Data/coords_df')\n",
        "output_notebook()\n",
        "subset_df = coords_df.sample(n=5000)\n",
        "p = figure(min_width=800, min_height=800)\n",
        "_ = p.text(x=subset_df.x, y=subset_df.y, text=subset_df.token)\n",
        "show(p)"
      ],
      "metadata": {
        "id": "-ZMJHWBWJ0IA",
        "outputId": "d5b2f9b2-6f5c-423d-a5db-78d9581ba59d",
        "colab": {
          "base_uri": "https://localhost:8080/",
          "height": 817
        }
      },
      "execution_count": 49,
      "outputs": [
        {
          "output_type": "display_data",
          "data": {
            "application/javascript": [
              "(function(root) {\n",
              "  function now() {\n",
              "    return new Date();\n",
              "  }\n",
              "\n",
              "  const force = true;\n",
              "\n",
              "  if (typeof root._bokeh_onload_callbacks === \"undefined\" || force === true) {\n",
              "    root._bokeh_onload_callbacks = [];\n",
              "    root._bokeh_is_loading = undefined;\n",
              "  }\n",
              "\n",
              "const JS_MIME_TYPE = 'application/javascript';\n",
              "  const HTML_MIME_TYPE = 'text/html';\n",
              "  const EXEC_MIME_TYPE = 'application/vnd.bokehjs_exec.v0+json';\n",
              "  const CLASS_NAME = 'output_bokeh rendered_html';\n",
              "\n",
              "  /**\n",
              "   * Render data to the DOM node\n",
              "   */\n",
              "  function render(props, node) {\n",
              "    const script = document.createElement(\"script\");\n",
              "    node.appendChild(script);\n",
              "  }\n",
              "\n",
              "  /**\n",
              "   * Handle when an output is cleared or removed\n",
              "   */\n",
              "  function handleClearOutput(event, handle) {\n",
              "    function drop(id) {\n",
              "      const view = Bokeh.index.get_by_id(id)\n",
              "      if (view != null) {\n",
              "        view.model.document.clear()\n",
              "        Bokeh.index.delete(view)\n",
              "      }\n",
              "    }\n",
              "\n",
              "    const cell = handle.cell;\n",
              "\n",
              "    const id = cell.output_area._bokeh_element_id;\n",
              "    const server_id = cell.output_area._bokeh_server_id;\n",
              "\n",
              "    // Clean up Bokeh references\n",
              "    if (id != null) {\n",
              "      drop(id)\n",
              "    }\n",
              "\n",
              "    if (server_id !== undefined) {\n",
              "      // Clean up Bokeh references\n",
              "      const cmd_clean = \"from bokeh.io.state import curstate; print(curstate().uuid_to_server['\" + server_id + \"'].get_sessions()[0].document.roots[0]._id)\";\n",
              "      cell.notebook.kernel.execute(cmd_clean, {\n",
              "        iopub: {\n",
              "          output: function(msg) {\n",
              "            const id = msg.content.text.trim()\n",
              "            drop(id)\n",
              "          }\n",
              "        }\n",
              "      });\n",
              "      // Destroy server and session\n",
              "      const cmd_destroy = \"import bokeh.io.notebook as ion; ion.destroy_server('\" + server_id + \"')\";\n",
              "      cell.notebook.kernel.execute(cmd_destroy);\n",
              "    }\n",
              "  }\n",
              "\n",
              "  /**\n",
              "   * Handle when a new output is added\n",
              "   */\n",
              "  function handleAddOutput(event, handle) {\n",
              "    const output_area = handle.output_area;\n",
              "    const output = handle.output;\n",
              "\n",
              "    // limit handleAddOutput to display_data with EXEC_MIME_TYPE content only\n",
              "    if ((output.output_type != \"display_data\") || (!Object.prototype.hasOwnProperty.call(output.data, EXEC_MIME_TYPE))) {\n",
              "      return\n",
              "    }\n",
              "\n",
              "    const toinsert = output_area.element.find(\".\" + CLASS_NAME.split(' ')[0]);\n",
              "\n",
              "    if (output.metadata[EXEC_MIME_TYPE][\"id\"] !== undefined) {\n",
              "      toinsert[toinsert.length - 1].firstChild.textContent = output.data[JS_MIME_TYPE];\n",
              "      // store reference to embed id on output_area\n",
              "      output_area._bokeh_element_id = output.metadata[EXEC_MIME_TYPE][\"id\"];\n",
              "    }\n",
              "    if (output.metadata[EXEC_MIME_TYPE][\"server_id\"] !== undefined) {\n",
              "      const bk_div = document.createElement(\"div\");\n",
              "      bk_div.innerHTML = output.data[HTML_MIME_TYPE];\n",
              "      const script_attrs = bk_div.children[0].attributes;\n",
              "      for (let i = 0; i < script_attrs.length; i++) {\n",
              "        toinsert[toinsert.length - 1].firstChild.setAttribute(script_attrs[i].name, script_attrs[i].value);\n",
              "        toinsert[toinsert.length - 1].firstChild.textContent = bk_div.children[0].textContent\n",
              "      }\n",
              "      // store reference to server id on output_area\n",
              "      output_area._bokeh_server_id = output.metadata[EXEC_MIME_TYPE][\"server_id\"];\n",
              "    }\n",
              "  }\n",
              "\n",
              "  function register_renderer(events, OutputArea) {\n",
              "\n",
              "    function append_mime(data, metadata, element) {\n",
              "      // create a DOM node to render to\n",
              "      const toinsert = this.create_output_subarea(\n",
              "        metadata,\n",
              "        CLASS_NAME,\n",
              "        EXEC_MIME_TYPE\n",
              "      );\n",
              "      this.keyboard_manager.register_events(toinsert);\n",
              "      // Render to node\n",
              "      const props = {data: data, metadata: metadata[EXEC_MIME_TYPE]};\n",
              "      render(props, toinsert[toinsert.length - 1]);\n",
              "      element.append(toinsert);\n",
              "      return toinsert\n",
              "    }\n",
              "\n",
              "    /* Handle when an output is cleared or removed */\n",
              "    events.on('clear_output.CodeCell', handleClearOutput);\n",
              "    events.on('delete.Cell', handleClearOutput);\n",
              "\n",
              "    /* Handle when a new output is added */\n",
              "    events.on('output_added.OutputArea', handleAddOutput);\n",
              "\n",
              "    /**\n",
              "     * Register the mime type and append_mime function with output_area\n",
              "     */\n",
              "    OutputArea.prototype.register_mime_type(EXEC_MIME_TYPE, append_mime, {\n",
              "      /* Is output safe? */\n",
              "      safe: true,\n",
              "      /* Index of renderer in `output_area.display_order` */\n",
              "      index: 0\n",
              "    });\n",
              "  }\n",
              "\n",
              "  // register the mime type if in Jupyter Notebook environment and previously unregistered\n",
              "  if (root.Jupyter !== undefined) {\n",
              "    const events = require('base/js/events');\n",
              "    const OutputArea = require('notebook/js/outputarea').OutputArea;\n",
              "\n",
              "    if (OutputArea.prototype.mime_types().indexOf(EXEC_MIME_TYPE) == -1) {\n",
              "      register_renderer(events, OutputArea);\n",
              "    }\n",
              "  }\n",
              "  if (typeof (root._bokeh_timeout) === \"undefined\" || force === true) {\n",
              "    root._bokeh_timeout = Date.now() + 5000;\n",
              "    root._bokeh_failed_load = false;\n",
              "  }\n",
              "\n",
              "  const NB_LOAD_WARNING = {'data': {'text/html':\n",
              "     \"<div style='background-color: #fdd'>\\n\"+\n",
              "     \"<p>\\n\"+\n",
              "     \"BokehJS does not appear to have successfully loaded. If loading BokehJS from CDN, this \\n\"+\n",
              "     \"may be due to a slow or bad network connection. Possible fixes:\\n\"+\n",
              "     \"</p>\\n\"+\n",
              "     \"<ul>\\n\"+\n",
              "     \"<li>re-rerun `output_notebook()` to attempt to load from CDN again, or</li>\\n\"+\n",
              "     \"<li>use INLINE resources instead, as so:</li>\\n\"+\n",
              "     \"</ul>\\n\"+\n",
              "     \"<code>\\n\"+\n",
              "     \"from bokeh.resources import INLINE\\n\"+\n",
              "     \"output_notebook(resources=INLINE)\\n\"+\n",
              "     \"</code>\\n\"+\n",
              "     \"</div>\"}};\n",
              "\n",
              "  function display_loaded() {\n",
              "    const el = document.getElementById(null);\n",
              "    if (el != null) {\n",
              "      el.textContent = \"BokehJS is loading...\";\n",
              "    }\n",
              "    if (root.Bokeh !== undefined) {\n",
              "      if (el != null) {\n",
              "        el.textContent = \"BokehJS \" + root.Bokeh.version + \" successfully loaded.\";\n",
              "      }\n",
              "    } else if (Date.now() < root._bokeh_timeout) {\n",
              "      setTimeout(display_loaded, 100)\n",
              "    }\n",
              "  }\n",
              "\n",
              "  function run_callbacks() {\n",
              "    try {\n",
              "      root._bokeh_onload_callbacks.forEach(function(callback) {\n",
              "        if (callback != null)\n",
              "          callback();\n",
              "      });\n",
              "    } finally {\n",
              "      delete root._bokeh_onload_callbacks\n",
              "    }\n",
              "    console.debug(\"Bokeh: all callbacks have finished\");\n",
              "  }\n",
              "\n",
              "  function load_libs(css_urls, js_urls, callback) {\n",
              "    if (css_urls == null) css_urls = [];\n",
              "    if (js_urls == null) js_urls = [];\n",
              "\n",
              "    root._bokeh_onload_callbacks.push(callback);\n",
              "    if (root._bokeh_is_loading > 0) {\n",
              "      console.debug(\"Bokeh: BokehJS is being loaded, scheduling callback at\", now());\n",
              "      return null;\n",
              "    }\n",
              "    if (js_urls == null || js_urls.length === 0) {\n",
              "      run_callbacks();\n",
              "      return null;\n",
              "    }\n",
              "    console.debug(\"Bokeh: BokehJS not loaded, scheduling load and callback at\", now());\n",
              "    root._bokeh_is_loading = css_urls.length + js_urls.length;\n",
              "\n",
              "    function on_load() {\n",
              "      root._bokeh_is_loading--;\n",
              "      if (root._bokeh_is_loading === 0) {\n",
              "        console.debug(\"Bokeh: all BokehJS libraries/stylesheets loaded\");\n",
              "        run_callbacks()\n",
              "      }\n",
              "    }\n",
              "\n",
              "    function on_error(url) {\n",
              "      console.error(\"failed to load \" + url);\n",
              "    }\n",
              "\n",
              "    for (let i = 0; i < css_urls.length; i++) {\n",
              "      const url = css_urls[i];\n",
              "      const element = document.createElement(\"link\");\n",
              "      element.onload = on_load;\n",
              "      element.onerror = on_error.bind(null, url);\n",
              "      element.rel = \"stylesheet\";\n",
              "      element.type = \"text/css\";\n",
              "      element.href = url;\n",
              "      console.debug(\"Bokeh: injecting link tag for BokehJS stylesheet: \", url);\n",
              "      document.body.appendChild(element);\n",
              "    }\n",
              "\n",
              "    for (let i = 0; i < js_urls.length; i++) {\n",
              "      const url = js_urls[i];\n",
              "      const element = document.createElement('script');\n",
              "      element.onload = on_load;\n",
              "      element.onerror = on_error.bind(null, url);\n",
              "      element.async = false;\n",
              "      element.src = url;\n",
              "      console.debug(\"Bokeh: injecting script tag for BokehJS library: \", url);\n",
              "      document.head.appendChild(element);\n",
              "    }\n",
              "  };\n",
              "\n",
              "  function inject_raw_css(css) {\n",
              "    const element = document.createElement(\"style\");\n",
              "    element.appendChild(document.createTextNode(css));\n",
              "    document.body.appendChild(element);\n",
              "  }\n",
              "\n",
              "  const js_urls = [\"https://cdn.bokeh.org/bokeh/release/bokeh-3.3.3.min.js\", \"https://cdn.bokeh.org/bokeh/release/bokeh-gl-3.3.3.min.js\", \"https://cdn.bokeh.org/bokeh/release/bokeh-widgets-3.3.3.min.js\", \"https://cdn.bokeh.org/bokeh/release/bokeh-tables-3.3.3.min.js\", \"https://cdn.bokeh.org/bokeh/release/bokeh-mathjax-3.3.3.min.js\"];\n",
              "  const css_urls = [];\n",
              "\n",
              "  const inline_js = [    function(Bokeh) {\n",
              "      Bokeh.set_log_level(\"info\");\n",
              "    },\n",
              "function(Bokeh) {\n",
              "    }\n",
              "  ];\n",
              "\n",
              "  function run_inline_js() {\n",
              "    if (root.Bokeh !== undefined || force === true) {\n",
              "          for (let i = 0; i < inline_js.length; i++) {\n",
              "      inline_js[i].call(root, root.Bokeh);\n",
              "    }\n",
              "} else if (Date.now() < root._bokeh_timeout) {\n",
              "      setTimeout(run_inline_js, 100);\n",
              "    } else if (!root._bokeh_failed_load) {\n",
              "      console.log(\"Bokeh: BokehJS failed to load within specified timeout.\");\n",
              "      root._bokeh_failed_load = true;\n",
              "    } else if (force !== true) {\n",
              "      const cell = $(document.getElementById(null)).parents('.cell').data().cell;\n",
              "      cell.output_area.append_execute_result(NB_LOAD_WARNING)\n",
              "    }\n",
              "  }\n",
              "\n",
              "  if (root._bokeh_is_loading === 0) {\n",
              "    console.debug(\"Bokeh: BokehJS loaded, going straight to plotting\");\n",
              "    run_inline_js();\n",
              "  } else {\n",
              "    load_libs(css_urls, js_urls, function() {\n",
              "      console.debug(\"Bokeh: BokehJS plotting callback run at\", now());\n",
              "      run_inline_js();\n",
              "    });\n",
              "  }\n",
              "}(window));"
            ],
            "application/vnd.bokehjs_load.v0+json": "(function(root) {\n  function now() {\n    return new Date();\n  }\n\n  const force = true;\n\n  if (typeof root._bokeh_onload_callbacks === \"undefined\" || force === true) {\n    root._bokeh_onload_callbacks = [];\n    root._bokeh_is_loading = undefined;\n  }\n\n\n  if (typeof (root._bokeh_timeout) === \"undefined\" || force === true) {\n    root._bokeh_timeout = Date.now() + 5000;\n    root._bokeh_failed_load = false;\n  }\n\n  const NB_LOAD_WARNING = {'data': {'text/html':\n     \"<div style='background-color: #fdd'>\\n\"+\n     \"<p>\\n\"+\n     \"BokehJS does not appear to have successfully loaded. If loading BokehJS from CDN, this \\n\"+\n     \"may be due to a slow or bad network connection. Possible fixes:\\n\"+\n     \"</p>\\n\"+\n     \"<ul>\\n\"+\n     \"<li>re-rerun `output_notebook()` to attempt to load from CDN again, or</li>\\n\"+\n     \"<li>use INLINE resources instead, as so:</li>\\n\"+\n     \"</ul>\\n\"+\n     \"<code>\\n\"+\n     \"from bokeh.resources import INLINE\\n\"+\n     \"output_notebook(resources=INLINE)\\n\"+\n     \"</code>\\n\"+\n     \"</div>\"}};\n\n  function display_loaded() {\n    const el = document.getElementById(null);\n    if (el != null) {\n      el.textContent = \"BokehJS is loading...\";\n    }\n    if (root.Bokeh !== undefined) {\n      if (el != null) {\n        el.textContent = \"BokehJS \" + root.Bokeh.version + \" successfully loaded.\";\n      }\n    } else if (Date.now() < root._bokeh_timeout) {\n      setTimeout(display_loaded, 100)\n    }\n  }\n\n  function run_callbacks() {\n    try {\n      root._bokeh_onload_callbacks.forEach(function(callback) {\n        if (callback != null)\n          callback();\n      });\n    } finally {\n      delete root._bokeh_onload_callbacks\n    }\n    console.debug(\"Bokeh: all callbacks have finished\");\n  }\n\n  function load_libs(css_urls, js_urls, callback) {\n    if (css_urls == null) css_urls = [];\n    if (js_urls == null) js_urls = [];\n\n    root._bokeh_onload_callbacks.push(callback);\n    if (root._bokeh_is_loading > 0) {\n      console.debug(\"Bokeh: BokehJS is being loaded, scheduling callback at\", now());\n      return null;\n    }\n    if (js_urls == null || js_urls.length === 0) {\n      run_callbacks();\n      return null;\n    }\n    console.debug(\"Bokeh: BokehJS not loaded, scheduling load and callback at\", now());\n    root._bokeh_is_loading = css_urls.length + js_urls.length;\n\n    function on_load() {\n      root._bokeh_is_loading--;\n      if (root._bokeh_is_loading === 0) {\n        console.debug(\"Bokeh: all BokehJS libraries/stylesheets loaded\");\n        run_callbacks()\n      }\n    }\n\n    function on_error(url) {\n      console.error(\"failed to load \" + url);\n    }\n\n    for (let i = 0; i < css_urls.length; i++) {\n      const url = css_urls[i];\n      const element = document.createElement(\"link\");\n      element.onload = on_load;\n      element.onerror = on_error.bind(null, url);\n      element.rel = \"stylesheet\";\n      element.type = \"text/css\";\n      element.href = url;\n      console.debug(\"Bokeh: injecting link tag for BokehJS stylesheet: \", url);\n      document.body.appendChild(element);\n    }\n\n    for (let i = 0; i < js_urls.length; i++) {\n      const url = js_urls[i];\n      const element = document.createElement('script');\n      element.onload = on_load;\n      element.onerror = on_error.bind(null, url);\n      element.async = false;\n      element.src = url;\n      console.debug(\"Bokeh: injecting script tag for BokehJS library: \", url);\n      document.head.appendChild(element);\n    }\n  };\n\n  function inject_raw_css(css) {\n    const element = document.createElement(\"style\");\n    element.appendChild(document.createTextNode(css));\n    document.body.appendChild(element);\n  }\n\n  const js_urls = [\"https://cdn.bokeh.org/bokeh/release/bokeh-3.3.3.min.js\", \"https://cdn.bokeh.org/bokeh/release/bokeh-gl-3.3.3.min.js\", \"https://cdn.bokeh.org/bokeh/release/bokeh-widgets-3.3.3.min.js\", \"https://cdn.bokeh.org/bokeh/release/bokeh-tables-3.3.3.min.js\", \"https://cdn.bokeh.org/bokeh/release/bokeh-mathjax-3.3.3.min.js\"];\n  const css_urls = [];\n\n  const inline_js = [    function(Bokeh) {\n      Bokeh.set_log_level(\"info\");\n    },\nfunction(Bokeh) {\n    }\n  ];\n\n  function run_inline_js() {\n    if (root.Bokeh !== undefined || force === true) {\n          for (let i = 0; i < inline_js.length; i++) {\n      inline_js[i].call(root, root.Bokeh);\n    }\n} else if (Date.now() < root._bokeh_timeout) {\n      setTimeout(run_inline_js, 100);\n    } else if (!root._bokeh_failed_load) {\n      console.log(\"Bokeh: BokehJS failed to load within specified timeout.\");\n      root._bokeh_failed_load = true;\n    } else if (force !== true) {\n      const cell = $(document.getElementById(null)).parents('.cell').data().cell;\n      cell.output_area.append_execute_result(NB_LOAD_WARNING)\n    }\n  }\n\n  if (root._bokeh_is_loading === 0) {\n    console.debug(\"Bokeh: BokehJS loaded, going straight to plotting\");\n    run_inline_js();\n  } else {\n    load_libs(css_urls, js_urls, function() {\n      console.debug(\"Bokeh: BokehJS plotting callback run at\", now());\n      run_inline_js();\n    });\n  }\n}(window));"
          },
          "metadata": {}
        },
        {
          "output_type": "display_data",
          "data": {
            "text/html": [
              "\n",
              "  <div id=\"e7dc3ec4-7021-4ccb-ba9a-2498190fc617\" data-root-id=\"p1044\" style=\"display: contents;\"></div>\n"
            ]
          },
          "metadata": {}
        },
        {
          "output_type": "display_data",
          "data": {
            "application/javascript": [
              "(function(root) {\n",
              "  function embed_document(root) {\n",
              "  const docs_json = {\"e073b8d0-72b5-4b02-9fc7-f03543b4e2c7\":{\"version\":\"3.3.3\",\"title\":\"Bokeh Application\",\"roots\":[{\"type\":\"object\",\"name\":\"Figure\",\"id\":\"p1044\",\"attributes\":{\"min_width\":800,\"min_height\":800,\"x_range\":{\"type\":\"object\",\"name\":\"DataRange1d\",\"id\":\"p1045\"},\"y_range\":{\"type\":\"object\",\"name\":\"DataRange1d\",\"id\":\"p1046\"},\"x_scale\":{\"type\":\"object\",\"name\":\"LinearScale\",\"id\":\"p1053\"},\"y_scale\":{\"type\":\"object\",\"name\":\"LinearScale\",\"id\":\"p1054\"},\"title\":{\"type\":\"object\",\"name\":\"Title\",\"id\":\"p1051\"},\"renderers\":[{\"type\":\"object\",\"name\":\"GlyphRenderer\",\"id\":\"p1082\",\"attributes\":{\"data_source\":{\"type\":\"object\",\"name\":\"ColumnDataSource\",\"id\":\"p1076\",\"attributes\":{\"selected\":{\"type\":\"object\",\"name\":\"Selection\",\"id\":\"p1077\",\"attributes\":{\"indices\":[],\"line_indices\":[]}},\"selection_policy\":{\"type\":\"object\",\"name\":\"UnionRenderers\",\"id\":\"p1078\"},\"data\":{\"type\":\"map\",\"entries\":[[\"x\",{\"type\":\"ndarray\",\"array\":{\"type\":\"bytes\",\"data\":\"pPyk2qejQ8DXwFYJFu80QCJOzB94AQFAm8sNhjpcFcCFsYUgBwxRwPw4miMrizrAOBWpMLagRECP/wJBgJBCQK9G0V7YTR1ACRaHM7/qGcBx4xbzc/shwOMZNPRPcEBAIy9rYoE/IkA1DB8RU/InwKQ1Bp0Q4j3APnrDfeTuOcDb96i/XvlAQFMDzefcPTNA+aI9XkhPMEBjRnh7EFo7QCcORSaFnuY/9dbAVglqR8Bk6NhBJS7Rv2+Cb5o+ozpAdAzIXu/cQ8DRXKeRlioawEymCkYlFRbAcy7FVWVbQ0DChNGsbA8UQA6itaLNKUPAOIJUih21LcAuEbkqmlj/v6GA7WDE8ETANUHUfQCaQUB6GcVyS/s0wCDVsN8TLyBA6c1NQLgvEsDqCUs8oIxJQHQkl/+Q0EPAGG2fn/MEGEA9u3zrw3IiwCgMyjSazCTAErtb/uhYF0B7Tnrf+BpNwOcKpeX2AQjAX9BCAkbfKkD1DrdDw5pLwEmD29rCoyJACqLuA5AeP0CFzJVBtfE/QPaZsz7loDZA6YHqev20B0Caet0iMLo3wCpwsg3cYQ7AifAvgsYgQsD04VmCjEBBQL1tpkI8TkBAqDXNO04ZQUAQsFbtmsAaQEPIef8f10dAHAjJAiZwQkAq4Qm9/ihAwOEJvf4kjkNAIJijx+8RS8C1E8pnHmX8PybGMv0Sp0XAo8wGmWQkO8AQO1PovIIzwIfAkUCDA0nAFAX6RJ6EFcAnpaDbS3hRwPWyN0JQPxHALdFZZhFKKUBPkNjuHkAnQOF6FK5HO1HAycfuAiWdNcBCzvv/OBENQKIo0Cfy7CDAtKz7x0LoPUBPdcjNcC9FwHJqZ5ja0j5AeZJ0zeTbUECCGr6FdbMVQMZpiCr8OSbAq+ek941/MkCFCaNZ2UYtQMkE/BpJwi1Alymck80r+L/LSSh9IcZAQCqoqPqVJiBAd/hrska9Q8BaZDvfT9FEwD3S4La28CJA3sfRHFnRQsB3SDFAogk+QDJWm/9Xp0BAHcpQFVPBJUAeVOI6xu01QJ4MjpJXXyrAPX0E/vDBR0BgsBu2LTo8QEOSWb3DiTvAns4VpYSIOEAR5QtaSEgowLNeDOVEyztAv9alRujvN0Ba8+MvLcoEQLN5HAbzlzbAxHk4genMPEC0BBkBFfYhwAVR9wFIo0TAYvNxbai4Q0D1nPS+8Y0QQLmLMEW52DlAMX4a9+avI0CZnxuasnsyQPT5KCMuKDZAQX3LnC4rDkDkwKvlzgg5wNGQ8SiVkChAmODUB5JHIsCDwMqhRfYyQDNQGf8+qURAPQrXo3CpPEDFrBdDOZ9BQGb35GGhVEfAmpSCbi+5OEA9nStKCSEgQLw9CAH5BkJAoMA7+fTkO8CGHcakv5MyQMjRHFn54TbAWB8PfXenOECe7GZGP2ohQHVZTGw+IklAvxBy3v/PQ8DysbtASY1IwNYCe0ykdBlA5QmEnWINKcACLV3BNmY+wBZRE30+cEDAo3TpX5JSIMCGqwMg7nhAQDFfXoB9MEZA2CrB4nD2RMBqSx3k9Sw9wKLVyRmKOyDAU0FF1a8kIUBvDWyVYIVCwDqijAKOHgLAlZwTe2hLMMCRLGACt1xGwBsv3SQGcUrANby0PGpnCcB5zas6q90vQB40u+6tIC5AHJYGflRXRkBwehfvx9UoQK1oc5zbkkBAVUyln3DgQ0B9JCU9DB1GwD9wlScQYjdAQYNNnUe1J8DIXu/+eF8FQILn3sMlBz1A1LZhFARHLECVRPZBlvdAQEJ23sZmNyJAdGIP7WNtJ0CxpNx9jg8twJNvtrkx9TpADTm2niGYS0AS91j60FVCwEKY273c1xdAdTxmoDKCOUCXxcTm45Y0wEf2UsJdhxvAdsO2RZm9EcDp0yr6Q+cwQBxfe2ZJMDjATMEaZ9MlNMAR/PNd3+HgP3f3AN2XQ0JArWgY42izGkCNwRb9mSjTPwe2SrA4xCRAeCefHtsyHsCQgxJm2l5CQLDT/r3KAB3AlPqytFOTJsC296kqNJghwBWrBmFuZzpANjy9UpaNR8CRfZBlwRQ3QKhuLv628zzAG0zD8BHxKMCbIOo+AFtAQLYQ5KCEOVDA8Z9uoMC7QMBnUCPjB00UQGq8dJMYBBPABr03hgBkNsAapUv/khg8wD3UtmEUVkjAFYxK6gTsSEBX4eAcvyEKQOHP8GYNljFAkWPrGcJtMMAUeZJ0zVwxQGDKwAEtpTzAWkbqPZUvNEAsZRniWJ8+QAx1WOGWZUbAzqrP1VaERkDEQNe+gJpKwFOwxtl0FDtAaTf6mA8APUCTxmgdVYEwQPS/XIsWYP8/BqBRuvT/NsAFb0ijAiVDwAsMWd3q10ZAZ9Xnaiv2FcAKMZdUbTcZQLI0S12NZxLAPUm6ZvL5NsBQ3zKny25DwJRQ+kLIKR9AxOkkW12CN0ChE0IHXao6wK2JBb6iGypAyF7v/nhvRsBz1xLyQZ8wQKwCtRg8FDjAP/7Soj4VRsANB/gkZuz8v0ZblUT2uTVAATW1bK1vGEAHtkqwOBQnQMdkcf+ROTFAroBCPX3EQkCWeEDZlFsQQLTIdr6fOEZAVRNE3QduQ8BQ2sDC7mgWQKADw6DpeOO/KXtLOV8oN8BsQ8U4f38+wGDNAYI5kjZAour8gKy0E8Dhmjv6X64swFtxu+GIrxBAAKlNnNwTRkAIXLKFe6AAwFfO3hltuTHAotEdxM5+T0D8GkmCcClBQHXlszwPpkZAieqtga2eRECUwrzHmXI3QALZ690fIzJASYCaWraiMUC1FmahnXNFwIKtEiwOLynAF0hQ/BjHUEDPSe8bX+lHwCiaB7DIzyVAiskbYOZrM8Cd9SnHZGE+wBDPEmQE+EfAahg+IqbQP8Av+Z/83WsRQF3aFZ+nLhXAlMFR8urEOsAi/8wgPngrQOyGbYsy+ypAc4I2OXyqKEAP7s7abW8pwCL8i6AxaypAIy9rYoF3RUDkS6jg8AJAwE5/9iNFqEjANNqqJLIPP0C37BD/sKEywL7dkhywX0FAhQX3Ax4ISEB8SPje3xxCwGST/IhfCSNAuHU3T3U4R0AxlX7C2dk5wAvNGmH2FwlA/dgkP+JZS0B4feasTxEhwAiRDDm23jnAU1ipoKJOPUAS+wRQjHQvwH/bEyS2h0tAAyfbwB34McCD/GzkupU1wGr3qwDfV0lAVHQkl/8kUUBXJZF9kAdKwJWzPZvR5tq/V3cstkmlEEDWc9L7xitEwNF2TN2VyUbA+5EiMqxCRUBjKCfaVVhJQPm9TX/240RAfEIbJVQFCUAj+N9KdrwswAnE6/oFy0hAdxIR/kX4HUDh7qzddqNAQBqiCn+G7UhAILJIE+9YKcBwQiECDqlBwK//hMSHEw5AhJz3/3H+NsCqm4u/7RFMQIrNx7Wh4k3A4SU49YGEJsDfbHNjerxCwNL9nIL81EtAyecVTz0SIcB9PPTdrRRHwI48EFmk0TZADsbj/ROPF8BOmgZF8zgkQF7WxAJfQTFAUOhQ4WMLAMBsCfmgZ7dCwFA0D2CRMzvAMsaH2cvGJkD/lgD8U+I9QDhr8L4qS0ZAHOviNhpwFUCnvC3DRY/Vv416iEZ30BBAb0ijAieXQUBKCiyAKTc5wII8u3zrOztAScBDrFkC/7+1/pYA/GMqwG+70FynsSrAjLrW3qcyO0AniLoPQH5HQNVbA1slQChAJVmHo6uAOEDrMMtDS/MFQLIQHQJHyiTA/dmPFJGVT0DqsS0DzgoswFsk7UYfey/Au5nRj4ZzHEDU8ZiByvA7wF6gpMACNDtAR7Bx/bt6PcAzKro/KMkdwBEp5zp2GJc/LVqAttU0IkD2C3bDtitCwBMteTwtlylAf82DBUEx/7+sGRnkLsZBQLg6AOKu0EBADMo0mlzoPMBglKC/0IM1QJZ7gVmh7DDAAj9PqEwW+r/iAWVTrvAYQA2LUdfayxVA3EYDeAvERkBORpVh3P1AwLe28LxUIETAI/lKICV4RUBOX8/XLHs4QL2MYrml/TFA5l31gHlQOECTq1j8pmRLwDv7yoP0JBdAoMN8eQGyO0CWW1oNidsOwNgqweJwGElAmzv6X649NsAkfO9v0J4nQEROX8/XLCxA7bYLzXVCRkDIYTB/hfxFwKkvSzs14zRAxMJaxpdaDUDu6lVkdHgvwLlPjgJESR7A7FBNSdbJKkC2LjVCP29IwOwYV1wcnTDAYAMixJUVRMBqpRDIJUY0QF1txf6yRUVAj+BGyhZpJcBlZ3aColYQwHReY5eo8kTA3bHYJhXtHMCIblHBPKcYwMxiYvNxYUFAmfBL/bwlOEBYyjLEsS4UQAhagSGrwUBAmdTQBmC3N0BrIthdRZMTQK/sgsE1VyPApBr2e2JNNcCw5gDBHO9KwL+CNGPR7EfAvgPy28ZlAEDA0CNGz403wGH+CpkrcxbAcjPcgM9kUcB8LH3ogsZFQFtmbEMgsgrAT6+UZYibI0DiBnx+GG9HwAOZnUXvdDXAZRwj2SP8MMC0PuWYLN41QL0d4bTgtTDAKjdRS3O7KMDfiVkvhoJCQBsN4C2QADDAw7ZFmQ2eN0Ds3R/vVbM3wDgSaLCpyyPAb8BCQYQrFsBCB13CoSs/QMv49xkX+kXAwmIeQxFsEUANtsfBWwYCwEm5+xwfrTjAM6fLYmL7G8DhJM0f0/o7QK8l5IOeE1FAgeuKGeGlK0Bj7lpCPmA2QE8IHXQJhyTAls/yPLi7JsCY9s391ZMvwKHXn8Tn1iDAUDdQ4J2MQ0BUUiegiRBDQGt9kdCWr0tAdHrejQUlJED1ona/CgwyQGBZaVIKWiBAmWVPApsjQEBAMEeP39MzQO19qgoNBOQ/4dBbPLwDQsCAYI4ev5VIQM6OVN/5RThAuTe/YaIZREDJ42n5gbMlwHfc8LvpPj3AbTzYYrdjO0BFaAQb1y87QIKQLGACSzXASdi3k4goKMD68CxBRrA0wBuBeF2/xEnAkzmWd9VTEMBgysABLfE+QPN2hNOClynA1HyVfOymIMBJZB9kWbZAwHB9WG/U6hRAr7FLVG+lMcAOT6+UZWgmQA02dR4V801AVoFaDB5GDkC4y37d6b4gQLmI78SsCVFAU3b6QV0ARMDqQqz+CCsuQBoXDoRkiT3AbCQJwhUASMCoOA68WiJCwDGVfsLZ1TDApBmLprP3QUC371F/vTBIQP8+48KB8AJAiNf1C3aPQUAeUaG6uVAnwO1kcJS8AjLA2xCIfDw5DEBQc/IiE5APwC50JQLVEzFAscHCSZpHJ8A5JSAm4SICQL01sFWCCUxA78hYbf5/LECoGVJF8ZY1QFu21hcJPUvA2GSNeojuMMC693DJcecewFKbOLnfr1DAOX8TChFQPcDBIESNncvZvzSD+MCOLwfAnkFD/wQvTEChiQubXDcEQCQO2UC6oCdAxT2WPnTzRcC30QDeAhdAQCswZHWrH1BAUO3CxUANC8CAgosVNRJQQIsZ4e1BGBxAOBQ+WwfXNED3tvTDY/oFwDMUHANX1hxA/u4dNSZ8LcAe4EkLl00hQDG2EOSgLCNA8wLso1OXF0BSfHxCdso5wGTo2EElsERAK8JNRpWhI8Cd8uhGWJQnQAt72uGvK07AZapgVFKPTECPG3433YITQKKb/YFyTUlAhEiGHFvlTEC14bA08BMhQHReY5eofkNAPGu3XWgmF8C++KI9XoA+QH9N1qiHIFDApYY2ABvwPkCI9NvXgUsnwDmzXaEPRElAdxN80/R5GMBXkuEdhdDyP1wExvoG1itAzZGVXwYHIUAETCpk+DkFQN+JWS+G0jLA/zwNGCT1NMAAxjNo6KclwNQnucMmSihAu/CD86lDD0CsWPymsNIOQF4td2aC0SLAh/pd2JpdN8DPLAlQU0M0wJQXmYBfc0TAxqNUwhNwQEBxxjAnaCMowJlKP+HsCkHAuaZAZmdxK8ASF4BG6TICQEq4kEdwEztAeT9uv3wyQMBWAELatUMGwHmVtU3xiC3AHuG04EWPPEA4FD5bB/sxwNb+zvboTSFA39xfPe6VQsCrPldbsW8YQDtdzIWAYgBA1Cr6QzNhRkB8SPje30RLwB7htOBFAlDAAU2EDU9zTUCzs+idClAkQFWIR+LleUZA0eejjLgwKUBZwW9DjBlCQNp1b0VibjjA9Bq7RPWWPUBxV68io+syQHOAYI4ey0LA6xuY3CjCPECcMGE0K8sswHswKT4+ZUFAFVeVfVeCREC9cr1tprokwJ7qkJvhBFBA4e6s3XbfQEBDHyxjQz9FwB3nNuFe+0ZA8L+V7NgoFcAna9RDNDpDwMYMv2HD7+E/ETY8vVIKTECVuflGdDckQOhLb38uyhpA9+gN95F7BkAs76oHzD88QOLplbIMuS7Ap41Nn9uT5r/kkvR6QTUCQOf9f5wwfUxAEFoPXyY6RcC++KI9XrRHQIDVkSOdP0PAdGA5QgaSOcAGSDSBIvYhQLIrLSP15iTAJJnVO9xKREDPSe8bX8siwAx2w7ZF7UbAkh/xK9b4K8CY/E/+7plCwE7TZwdc2z7Au7iNBvACOcAkuJGyRSovQIJAoX0wuec/+pl63SLsPMB1JgqAM2npP4J1HD9U2hTAMdP2r6wUCkDmzHaFPng7wJZDi2znAydA2PSgoBQlScCRtBt9zHVFwDbOpiOAG0RAyfPPwlQpDcC77Ned7hQrQFG/C1uzRS3ADr3Fw3vQSMD8qIb9nopHQP5itmRVtC5ARQ2mYfgORsD7ko0HW3w8QD9UGjGzLynA2fG62XrxBUB7hJohVdhCQPcGX5hMBT/AaD9SRIalHEA8TWa8rfwjQKEsfH2tI0HAVYZxN4gmKEDqqXqe5PsUwDjXMEPjMTJAGR2QhH1zJMDv5xTkZ8NAQObKoNrgNCtAQI+sV+xK6D+DonkAi+AjwA8J3/sbQEZAb5wU5j1mMcA3bjE/N9QlQKQ1Bp0Q7jXAuTXptkRGIUDdW5GYoEIwwHbwXZTqTPK/paFGIcnIMMCqCg3Ess0+QDGYv0Lm3EHApnVlYZn4FcBF8Sprm1ojwI/8wcBzTxJA16NwPQq/SMAOoUrNHkRHQEZ55uWw+wxAkdCWcyleMcAXZTbIJDs0QE2+2ebGdPy/e/oI/OErRsBgkPRpFV0XwHwqpz0lU0HAenB31m7zJEDU8ZiByuw0QGGm7V9ZqTLADLkIQmhTGsCX/5B++zIaQMRA176AAjnAGOyGbYs+RMB6Oey+Y7xBwLiU88XenztA5bM8D+7eE8B0XI3sSisPwM5aZQFu8QhAQPuRIjKkQ0B/pfPhWeItwLGGi9zT909AUprN4zAwMMCdS3FV2Y9EwPc7FAX6aDRA9Z81P/6iMsCb4nFRLeomwFeyYyMQ3wlAbojxmlfhNEB7aYoAp3tAQCI4LuOmPEvAL4mzImoeOMDXFwltOZNFQHi5iO/E1ENAWMhcGVTbOMBK7xtfe2RAwKZFfZI77AlAdTklICaVSkCSE9z+S3gFQDnv/+OEQUnAQKlRo+td7D9C8qUi2/rqv4mZfR6j7kXA3xtDAHDcQ0BQ3zKnywIcwDMyyF2ET0PA965BX3qLGEBkBFQ4gpg9wKQZi6azMw9A/wWCABk2OMDxyA7g46L9P+kMjLys/TRAMX2vIThYQkAzHCohs27gv/0xrU1jSxhAV81zRL5POcB/PRUmQrkGQESyNnzBfQNAYrt7gO7/OEDEyDeAIw4SwAdfmEwVHEzAFTYDXJB7QsAjoS3nUqxEQO0rD9JTzChAdQsT/CVoBMDdtYR80IFHwMtneR7clTVAueNNfot+N0Ae/wWCAI9KwOfBgqBINBzA5ujxe5umIECFBfcDHggXQLlwICQLxkZATfilft6MJ0A5Yi0+BeJBQNR8lXzsFkjAZTcz+tGgP8CGyVTBqHQ4wMgG0sWmFSdAtoMR+wRMNEAlBoGVQ5s7wJF++zpw/khAZB75g4EdR0C6bM+HwqLzv/VLxFvnfyXAWTSdnQxUS0CeJcgIqPATwANeZtgo8ybA54u9F18IN8C4VnvYC40lwI/hsZ/FzkHA0v9yLVowEEAXAQRiyHAcwI29chgnefQ/z4WRXtSWTEBxj6UPXURGwGWLpN3oV0bAdZMYBFZONcBUrBqEuTk+wK0XQznR5jvAqkiFsYU0SMCjj/mAQOc4wAHcLF4s7Os/LESHwJGsQMACZOjYQaE+QL6TBQJTzBlANiOD3EW4QcDSHcTOFIo/QKgd/pqslVBAxuBh2jefP0DUQzS6g7AoQJdXrrfN/D9AUU8fgT8wS8BlprT+ljgzQJNuS+SCAzFAs7W+SGhbScC3m+Cbpn8dQE62gTtQVzLAgXhdv2D7P8A8a7ddaLxAQBCpDl5g8xrAvcXDew5EIcADfSJPkupLwBPVWwNbxUHAgH7fv3krQUA6KHpDjqvVP2D+r9+48QZA8pcW9UnuA8B4eqUsQ5RBQJ7Swfo/ByNAQ3Bcxk39NUAdyeU/pLVDQIqryr4r/EBA7WKa6V5PJ0ASh2wgXRBKQK2GxD2WEEHAQQ5KmGnHSEDF5uPaUJE+wOfib3uCiDrAoBov3SRmNEBd34eDhKw2wEymCkYllUfAdt7GZkcuNcDLZ3ke3HE7QFN1j2yuuiJA42vPLAkYSUDqPCr+7xBBQHgqnoIVitm/mwKZnUVVR8DL+PcZF4YkwLerXwIa2e8/rIvbaADfLkBbTY2GQlr3P9nr3R/vj0vAJVryeFpuLECHtUKiGnAEwD0K16NwUUnARYMUPIX8OcDCacGLvipEwFs//WfNAzrAZ/LNNjd2NMAscpnkkekNQDqxh/axEhnAE0TdByDdMUByxFp8CgpPQHTqymd5zkBAMPDce7gURkDpJ5zdWrxBwCuhuyTOPjFAC/Dd5o3jOsCgF+5cGJk/QCzvqgfMYyhAE2BY/nxFRECbxvZa0DssQKV1CqgmF/k/O4kI/yImQsAN/RNcrN5MQLRyLzArvCBAMgG/RpKYOUCLu+b648IJQBhanZyhZD7AxomvdhT/LcCFsYUgB8k0wGtFm+Pc9jHA3pOHhVpLRcDkDwaee5dAQOFdLuI73TRAryXkg57jTEDBkNWtnttDQO2ZJQFqQjFANV1PdF24AEBR9MDHYBUwwIS7s3bbRUpAmu/gJw7wM0D4/3HChBFFQNujN9xH3iDA7ISX4NQjNEC6v3rct1Y/wAR2NXnKehdAxHdi1ov5OsAhAg6hSvdGwCScFrzokUVA+fNtwVIhQMBvoMA7+YgyQCsv+Z/8xSNAOdGuQsq3JECLQKuCB4weQLXC9L2GQEBAzTtO0ZGMPECJz51g/+EjQM5UiEfi1SjAydAMPb2dFECL3qmAe5JAQMfXnlkSgANAyqgyjLsxFsCLqIk+H31DQIqsNZTayy1AcLGiBtPoQcA66X3ja1lFwPFjzF1LCEjAHjNQGf/yS8BTA83n3K0OwKaYg6CjpTxA8YEd/wU6K0CLVBhbCCIrwGJM+nsp3EVA2sEtxI+GDsBLzR5oBRZBwBUdyeU/XC1AKSUEq+p9LMCGcqJdhXA2QJTZIJOMuERAYJSgv9CxQED8AKQ2cTolwMnp6/mapTBAQqK/hpZr/z9XPWAeMu9LwOp1i8BYlxdAvTeGAOAsJcAh6dMq+oMcQJ3VAntMRD7A/N8RFaq7+z9ZUqwi9UHuP04K8x5nrkJARfXWwFYpRsBT0O0ljVkxQOfIyi+D4RfAkfC9v0EjQkD7sUl+xONNwO4m+Kbp2zFABtZx/FBhI0BxV68io0c1wDPDRlm/ufe/niPyXUr9MUCo4zEDla1HQODzwwjhsS5AIcms3uF26r8mqrcGttZGQMW3ZuGhLgVApwcFpWhtNMD+YrZkVZg+wMmnbP2ZjhxAD9HoDmJnJsC/K4L/rdwiQGB2Tx4WEkXARtEDH4MhR0AAyt+9o/hEQMnjDkAPOv6/ADlhwmhkRcDcLjTXacxAwL+CNGPRQEnANCxGXWvvHMCV9DC0OvkTwB11dFyNyEXAr+yCwTUFQMDDuBtEaxUwwECR3bu8vwrAzjY3picoRECUiVsFMTQ3QAVoABTIcfE/OZuOAG7iIsAqGmt/Z19GwJ9ZEqCmeElAU84Xey/eEEAjZvZ5jEI/wNesjneiP+Y/IlFoWfe3IkBxAP2+f2tFQIts5/up2SPAG0zD8BFZNcDzyB8MPJckwGtFm+PclkJAS7uHOmLTAsCWScPf5TgZwDS6g9iZmjTAFLGIYYcJOUB/MPDce0AywOFgb2JICjNAGRwlr87REcCbAS7IloU3QAu45/nTnihAvw8HCVFWLcDP2QJC66EcwI4/UdmwgjVAS3MrhNUoSEBeEmdF1IA7QAKCOXr81kNAwO0JEttFIsCqRxrc1uo7wAejabvPEtq/o7H2d7YPMkCXOV0WE8smQNzxJr9FLy/APDHrxVDqN0BkPEolPEEWwGyTisbajxJA2T9PAwZRM8Boyk4/qGFHQKSzgpX5nfK/G2SSkbPIQ0Cg/UgRGd42QKLPRxlxjTLAmKQyxRwoNsCTOgFNhL0VQHJtqBjnVzlAHNKowMl+M8Ds3R/vVVsmQAXB49u7xEPAW11OCYjxLECtwJDVrRJIQBcysr9HIBDAR6rv/KJIPMDQXiKDgQQVwFbxRuaRkzjAGOyGbYtGQ8AVcM/zp5UrwIv9ZffkBUnAzvqUY7JAKsDwvioXKh8qwNO9TurLAhTAe0ljtI7uR8Cp3hrYKjVKwLgE4J9SUUBAavtXVppARED1oQvqW4pJQOBvD535kAjApzy6ERaNJkAQk3Ahj4xOQDBinwCKyRNAJuyRvCn7AsAOZhNgWDo0QLYQ5KCEu0RAJt9sc2MCQEAoY3yYvaQxwPuxSX7Eez5AuXGL+bnRC0DFxydk521AQNCX3v5c9BhAUW3L22yH/T+crRee8tscQFsiF5zB0zFAlGjJ42kZNcA7GRwlrxYyQAclzLT9qz9AvFzEd2KKP0C28/3UeJFFQPCiryDN+CRAhgDg2LM7PcCrsBnggkQyQGrRTEHIswdABAKdSZuSIcApIy4AjTpKwGCsb2ByoUVAflx24zgrAcCQa0PFOGc7QE8kmGpm5SNA7GmHvyZjN0A2zqYjgI89wCvB4nDmpxhA4xsKn62fR0CYMnBAS7cJwMpUwaikzjLAFLTJ4ZMMQcDuluSAXd0SQPz89+C1qxpAh8Woa+1FLsCQ3Jp0W7ojQELsTKHz7jDAwM+4cCDkTkDusfShC5YywM5V8xyRNzrAeLgdGhZbNkApd5/jo3ExwFQZxt0g+iRA9z3qr1cIG8CCqzyBsCMeQLU3+MJkYkXAo8haQ6nrSUBslPWbie9BQKlKW1zjEynAHVpkO987QkBU+NgC56EDwFYrE36pfyHAZwcBnlkvHEA49uy5TO08QG4YBcHjw0LAwr8IGjPpLEBu3GJ+bvg2QKJJvQIsZRjAUvLqHAO8QEAm4UIewRkzwPXYlgFnKUtArHDLR1JmNsCdpFQdzcziP5j5Dn7iODBA/7J78rDAJ0DfFcH/VopHQPIGmPkOHjNAxLEubqNFSkDHgsKgTDNAwCLGa17VXTRA8IXJVME4MEC3DaMgeIgiQAnFVtC0JCjA1SE3ww3YQcA5QUBjy48dwNhF0QMfm0ZAl3MprirDREDUCz7NycsHwAMixJWzvylAeCrgnueXP0B56/zbZaNLQB/0bFZ9PhXAgCxEh8BRFkASpb3BF8YtwM9MMJxrnDFA3A94YACJJMCwARHiyjExQHl1jgHZp0BAk1FlGHerOECJRKFl3c8rwHe/CvDdNhVAvcKC+wH/CEBomLlEHtbZv1bxRuaRozrA5gMCnUlrQEB3TN2VXVALwCNzG8NSkx9AoUK/AAw1HMCXUwJiEn5AQKzPi8nR0vQ/WAPvP43WD8C8XMR3YjZGQB4X1SKiDkZA/89hvrz4PcChTQ6fdH5MwAL0+/7N6ypAilkvhnJORMDWbrvQXHNOQG5pNSTu9UTAAAAAAADgR8DyzwziA5M2QAvw3eaNMylA4X7AAwO6RMCqmbUUkP4iQBh47j1cIkzALzIBv0YeSkBVSzrKwaQlwL6HS447DT3AoP8evHYlM0C3ek5631AgwHBgcqPIckjA8/+qI0dORkB2b0VigqpJQLfRAN4CslBAoAyfvq8LEcC0PXrDfdg7wKM9XkiHgzzAVyWRfZBBTkBpNo/DYE5LwJT43An2NyBA8UV7vJDWI0Ake4SaIY0gwL5MFCF1/UXAZcdGIF7nQEBf04OCUnw/QEusjEY+GzdA1gCloUbxMUBCtFa0Ob4awLoyqDY4eSbAWaZfIt7GPMCnqnWHuQn/PzYDXJAtKwtA5q4l5IOqN0Cbx2Ewf0UvQGYxsfm4+kDAoKhsWFMRO8Cr1rq7a5zevy/APjp11ThAqnLrf8oCEsBa1Ce5wy48QFNeK6G78DhAzvv/OGEyL0AEVDiCVFpBwADK372jZEjAeLRxxFqoMMBCfLuA8hL9v1+X4T/dVCvAUil2NA4VJEDGavP/qqMiwCUC1T+IzEXAp658lueZNECWs3dGW20pQFnJfWHo1wZAKxTpfk4vQMClZg+0AmtLwG2QSUbO8i3AXJNuS+SyIsD8U6pE2TMmwLHVitsNxwlAuU+OAkQlSUBrt11orjtFwH14liAjgCjA+YbCZ+vMN0BKsg5HV0k9wDnVWpiFvilAldIzvcSwN0ACRSxi2AE4QM07TtGRZEtAS5F8JZDGNsA67Bkd6y0aQLX5f9WRayVABcWPMXchQMAc0xOWeFBQwLRzmgXalS/AJc/1fThYOcDZCS/BqclFwEyo4PCCoCzATrNAu0NeNkBdo+VAD3dEwDRlpx/U4SpAISOgwhEyQUD3yVGAKHAwwMi1oWKc20TABtmyfF0ERMA7bvjddGM5wDnWxW00gDFAI9v5fmocMcDwoq8gzWxCwFvTvOMU30TACHJQwkzrTcBrY+yElxghwDttjQjGARnAw6BMo8mFO0A1m8dhMFM+QHRgOUIGKj/AHXdKB+tvHEBbXyS05YQ6wE1qw7wiow/AtLCnHf5CQsD5adyb34BAwDo7GRwlh0bA+kZ0z7pWLkCZeKy+X/EJQHiXi/hOfDnAZ5sb0xMiQMB/wAMDCPcSwHtmSYCaPkRAQBaiQ+DsQkCH3uLhPWNBQJ30vvG1VytAQiECDqHuSEDFH0Wducc9wM7aEl4nev+/GKGOfX+JFEDH4YIizMMOQObwpOCE9RzANwAbECE+H8CXviGeNgQSQBU5RNycBjZAfTz03a1kMEBzuiwmNtM9QCf5Eb9i6UlAHsNjP4uhTcAgzy7f+qgjwDJ3LSEfAERA965BX3pFQMAPD2H8NHBBQLRxxFp8xjFAJpJDH4fkEkDbxMn9DnNGwIp1qnzPLkdAkml+RjOgBEAAVHHjFsM6QE2giEUMWzjA3eXHBKFh7D8LC+4HPDAtQEZEMXkDNCZA5KPFGcMwNkAGzmPe9EgawAUabOo8qgZAqyLcZFStNMAkC5jAraVCQHYcP1QacSDAiiDOwwk0JsDvdOeJ53QlwBcrajANIztAgbT/AdbCRMCfO8H+6/ZQwE5FKowt1ErAsKpefqfJM0ASMSWS6C0vQH+8V61M4ERAqI/AH37qIUCFQgQcQk9DwKRxqN+FxTHA205bI4J1RUDoTNpU3QMvwNKpK5/ly0JAkfC9v0HXKUBEbRtGQbg9QDiDv1/MAE5AkSkfgqpFOcA51VqYhXYFQPJEa6BUrhzAMNgN2xbtRsD5U5kYgefuP3ynuGBf4QJAaY8X0uE5JEDrK1lfbmH5v+Xz5WCRWg7A6J/gYkVhO8D3ArNCkfYQQIquCz84C05AsqAwKNOYNsCh9fBlouw+wEpGzsKeyjjAU7MHWoExMUBUY/g+C2gAQDHMriBydx9A2uGvyRqtQEAc8PlhhOJNQD8djxmoSExA8bp+wW7SQkAwL8A+OvU5wHvVb8vsuPa/kC+hgsO3OECug4O9iTEyQBR4J58e0U/AyzDuBtF6K8BQHEC/70swQNAKDFnd+kZAg24vaYxuNMCr7Lsi+HchwD4/jBAeXTTALlbUYBrmIsCXrfVFQpNIwPw1WaMeGj5A9G+X/bqHSEAOorWizcU6wNuK/WX3iDfAyqMbYVG1QEDTLxFvna8RwOT5Z2Gq3B7ApDSbx2EIP8DU1ohgHOguwEI+jSA6KQtABRiWP9/qKkCrmEo/4Ww9QLoxPWGJ4zZAP47myMr/IkAYYB+duj42QNu/stKkCETALAMY4MxZ9L9zgGCOHtcmQMx5xr5kQUhAHxFTIomqPEA4wMx38HswQFqg3SHFADdAaww6IXR4QsAwgzEiUdw0QAzMCkW6hy5AHjUmxFyqKkDaykv+JzVBwNI41O/CZipAYm+9AcE3DsD+uWjIeKQjwCuhuyTOChRAXkiHhzDaPEC77q1ITIAYQA5nfjUHSDzA0csollv6R8DvcDs0LIYQwAr19BH4QyxAou4DkNrMM0AYJ77aUQwhQGR+ySE9eBpAmFDB4QWjQUBVppiDoGc3wGnlXmBWJCHAJt9sc2MiNcCreCPzyCdCwBfgcUABahjADk5Ev7ZEQkClv5fCg7JHQIxjycERARhAIxXGFoJcP8DUf9b8+D9BQEA/QoMD8ARAdNGQ8Sh1H0AAAAAAACwqwEaVYdwNoEBAHNDSFWxTKsAi/8wgPrg5wJw1eF+VoxBAwlHy6hyrPMA7wg4IGW3+vzyDhv4J/kVAI2sNpfYCEcATLXk8LUlGwO5vt8Hc8NY/Gy5yT1efJ8Bh304iwgFIwL2cIzzrJAVAbt+j/nrxPkAyrrg4Ku8iwPfMkgA1ySNARiI0go23P0B48X7cflk/QNxnlZnSuhJAp5TXSuiOBkBTymsldHcpwD874LpizjRAPGh23VuZRsB1a+OZ4dD4v2w/GePDOD3AgsHavYEWEkABomDGFPg2wAm5nFydDQ5AamrZWl+wO0A+zcmLTDAtwKkwthDk2EZAy28sg8UEGkBq3nGKjohCwEChnj4CzxxAeGLWi6GEPcBq+uyA62IqQFlpUgq6xULAz7uxoDBER8CF7LyNzT4nwGoUkszq3SnAjzNN2H7eNEAyO4veqahAQFjLnZlg8DpAxJlfzQGaP8CGV5I818dFQFioNc07BitA0O/7Ny/+NcAMyF7v/sBKQHdOs0C7EUXApdk8DoOZG8B8nGnC9ktKQJ32lJwTmzvAEvkupS4dNcDvLw5wOUW+v78NMV7z8kZAB4vUxbexDkDmBdhHp2YxwCzwFd16fTzADtsWZTakSkAvXj046efwP2eBdocU8yRADtsWZTYYPsAjLgCN0h0hwHGPpQ9dSENAl3SUg9kIP0ATZtr+lYU2wLiU88XeTz3Ad0gxQKIBRcAY6rDCLbc2QLmmQGZngTdAs9AQhuitzj+/f/PixB8oQPs/h/nyKkDA//oyYrCcHcBfcYKAxrb5P3kGDf0TmDJAQX3LnC5LR8CqmiDqPngkwLGIYYcxqSZATB8VWjFX9L/VdaimJNcxQFSrr64K1CZA1T+IZMjRJsAMWd3qOYlCwKtcqPxrO0DAG4NOCB1ENUDXo3A9CglKwJJ0zeSbMTDAtI6qJoi2QMDSONTvwnYGwEYIjzaOSERA4J18emwbGUBnuAGfHyI6wAmQ/Bx6NhrAONBL3mOd4r8QejarPq8qwJIjnYGRc0XAiJy+nq+jR8CsU+V7RtY+QAvuBzwwmEnAMQdBR6sCPcAoY3yYvfQ8wHXKoxthgS3A8Z2Y9WJIEEAZ731gfTL6v13+Q/rtoy1AJeHnZE4cCUA41JQJZJvwPy6SdqOPnUDAdTv7yoOEK0CWr8vwn34mQJRKeEKvpyRA9WbUfJUUQ0CJXdvbLZVBQErOiT209xlAOe//44QbRkByhRwAFlYQQFRweEFE7jdAhiFy+nqWNcDlKha/KcwwwLCMDd3s70xAnYAmwoanIECo5JzYQysbwLKFIAclCFFAp8mMt5WuL0ALfhtivHpEQOCAlq5gkybAEHUfgNQAR0BKDW0ANmJBQLth26LMGjPA9Ib7yK2BI0B21yMemtMNQJFGBU62oS7Anil0XmPpQkD9ZmK6EMs3QFxxcVRukiVAfZbnwd1bQUBkV1pG6n00wDS0ph4OfxjAxysQPSmzLMDSi9r9Krg/wOZDiuAD5Ms/8RcO3x2U/r8/pyA/G2EzQImWPJ6WUztA/2tpA+osx79rUOqBRWQAwANgPIOG6j9AWu5QPWfF1r+SPxh47mk0QArXo3A9ukNAzGJi83GlTsBDrWnecQISwDBoIQGj8UhAe5+qQgPjSUBcHQBxV/8jQCP5pdmXZ/y/5Qkp5O8jDcDXaaSl8soyQIwv2uOF1ELAoYDtYMTGQcAU1ba8zXYCQPfKvFXXoSpA26UNh6VBOUBWSWQfZDEsQO/nFORn40FAZ7gBnx+GQUD7IwwDlgA+QKV5EbdU7/i/F1HJ7yPt27/+KytNSvdQwLhYUYNpIEZA14o2x7lNJMCM22gAb9kbQBx79lymGkbA6YGPwYqzIEAW9rTDXzVQwOX8f2KFd+C/nu3RG+7/QcAmw/F8BrwywB3J5T+k+0RA+ti4WRfSAcCDTggddEFGwGsMOiF00PS/j1GeeTkAP0BWZd8VwT8uQDbIJCNnSRLA9pZyvtiVQcAOFeP8TVA7wNDTgEHSiz/AhGQBE7jtQsDRzf5AuX0AwJj8T/7uvTFAB3MFJRayB0CitDf4wjxAwHLcKR2sRzjAOdTvwtZINkCBeF2/YLsrwHqNXaJ6tzNAiZgSSfReQEAb9KW3P88/wLR224XmCkzAsRafAmBuRkDy7shYbUYmwIdOz7uxOEZAL4hITbvIIUDf1oKDYtALwKLvbmWJ3j/ANUHUfQDwREB7+DJRhEwjQLezrzxIbzZA2QkvwamvTMBj1XuFYNAEQEKVmj3Q3kXAk4/dBUqeNkBZ38DkRoU+wOjZrPpcHVDA1XlU/N95IcC0ccRafOpBQDJ3LSEfoETA/plBfGBRR8C0AdiACLknQDarPldbSUfAqkca3NamEcAxQQ3fwn4wwHx8Qnbehv2/UAEwnkGPScBi9NxCV2ZMQOxWKgNiFRLAM4l6wac5NcCHURA8vsdAQLMKmwEurDPAoPzdO2qcQsB2Tx4Waj03QOkOYmcKCTtApeCEnb3OCUBxICQLmNhIQBwbywV4nOM/sHH9uz6NSkDcKR2s/6M1QCAnTBjNGibAgGCOHr+fNUAZV1wclR1GwDICKhxBGhbAeAlOfSBdP8BWRiOfVwwywBQ+WwcH8z9AIhecwd+fMkARqtTsgSpMQMR4zas6CyTAJ6Wg20teQEBhwf2AB+5CQLlwICQL+klASgnBqnqRJEC71Aj9TAUaQKoLeJlhlzdA5dAi2/nSQECV8IRef5JGQN5aJsPx5kHAtEjJYeaRCUD7P4f58konQIQNT6+UgUNA5IdKI2aGJ8COiqSCL/HxP78oQX+hi0TAYW73cp9kKsASTgte9MFDwAzLn28LNinAZi0FpP2ZSUCz74rgf7lOQMB2MGKfvD5Ag4dp39ynSEAAH7x2aaMpwCrgnudPMzfAjZYDPdQmFEBXJvxSP99FQKOgyh/CzhHAofZbO1GSP8CmXyLeOu9BQG5uTE9Y2jHAl4+kpIfBH0CgGi/dJII+wMSxLm6jMUNAq3gj88hvPcApXI/C9Q5EQCUgJuFCvjTAJNV3flGwQsBh4Ln3cHlOwFt8CoDxtC9Al+ZWCKvxGkC+wKxQpHsfQE60q5DyEzlAZ/M4DOZPIsDf3F897ls5wOAqTyDsGEDA7DTSUnnbTECCVmDI6j5PQCL99nXg/DTAkst/SL8d+T9QReD+EufxP1QcB14t20LADfrS25+jI0Bgx3+BIAgyQGX/PA0YpBNAFlNE4Q6vB8ASh2wgXV5HQA6HpYEfCUbAYmpLHeQZREA/WMaGbtYjQICfceFAqCVA24XmOo38QUBhUnx8Qq4xQF8+/nfpS/s/8Ui8PJ0jJMATKji8IBIsQJ1KBoAq2kTAaOp1i8CAI8AJqHAEqSg0wLuX++Qo6CXAB7R0BdswNkBkr3d/vPFQwJg0RuuomhBAZHlXPWDYSkApBd1e0kgkQFjnGJC9wkXAHt5zYDlqJ0AEPGnhspJBQKwBSkONjkRAmGpmLQUk+b8b8zrikOFLwLh2oiQkwjjAweCaO/oXLMCrWz0nvXtFQE0hRr4BzB/AaoR+pl5XG0AaxAd2/DcjQAQcQpWa/URAmlyMgXVUJkBQN1DgnbJEQJy/CYUIIEbAfm/Tn/1IRMAonrMFhDYywNmxEYjXcUXA3LdaJy4nI8D2RNeFH8w6wL+36c9+/EdAlAylm2knD0C8blulBTkNQLlUpS2uQRFA0c5pFmgPLkDbEyS2u8cUwGGJB5RNeSvAeCefHtssR8BdTgmISYw6wNA4Hn3dExnAIorJG2AWFsBvSKMCJwsGwLcLzXUa6UBAaMpOP6jHQsCTwyedSEA6QH7DRIMU3ADAyXa+nxq9QkBUOlj/50hEQORLqODwcj/AZucj31u3GEBw0o/hDMETQHva4a/JckNAodefxOdSNkAEkNrEycFJQHUeFf93DCXAMILGTKI2IkD7rgj+t/I9wOSHSiNmLhnAzTtO0ZF8I0AnEeFfBP1AQAFO7+L9kEJAo1nZPuQnRsCie9Y1Wv4owN/BTxxAnyJA499nXDjYIsCd8uhGWDA1QLyzdtuFDj9AEMzR4/duL8CYpghwesciQKpla32R5D7AGFxzR/+TOEB4exAC8r9AQL7aUZyjrEXA3QphNZYgHEBkkSbeAUxAwPvMWZ9y+EPA4Tv3PzyC6b+NX3glyS82QDfeHRmrITNAT/aFRmY0DEAbKsb5m6xLQPHVjuIccTRAxQPKplxNQsASvYxiueVFQKkxIeaSQivAWtdoOdCfNsCUS+MXXhU5wEWEfxE0fi7AqODwgohAR8DJdr6fGj1FQIfD0sCPAjbAx0YgXtcfQEDYgt4bQ/ghQKxT5XtGPkJA1hmEXiRZ4j+6SQwCK5NGwPGWkoL6WNy/3nL1Y5NmQcCFPljGhsY0wB5U4jrG6TnATrSrkPLvQ0B/bJIf8QM5QG5oyk4/CC9AQgby7PJFL0C6FFeVfRtCQARz9Pi9HUrAkElGzsK2NMCnlUIgl4wjwME7+fTYJi/AWkbqPZV/NcDBVZ5A2DFHwPC+z123BRtAwcjLmlg0N8Aps0EmGX1RQFJIMqt32C1AX7THC+kIJEDZtb3dkjhDwCDxK9ZwmSrA6gYKvJOzPkBB1H0AUocoQFRVaCCWOURAdsQhG0h/J8Bn7iHhe9dFwCTwh5//Ki/ASkONQpKpRMCxUGuad8RGQDQ8B+CwnhvARrWIKCYPKUDd0mpI3NMbwJiG4SNi7EXASw/5HXmWDcBPyqSGNpA1QK231cXQ3sg/wvuqXKgWQUB/kvHeBzYDwEdVE0TdQz1ARGraxTS3N0CRYKqZtRQTQMto5POKzyRAgEi/fR3wNMAce/ZcptREQGyVYHE420RAKsk6HF1FPcC5X5GhW5awP70cdt8xVDhAVpv/Vx3xN0Cny2Ji89EUQA2oN6PmNzDAqZSNvc2hHcDD8XwG1D8xQKG+ZU6XaULAYWwhyEGtREB4f7xXrVg7QJzQNd38EAtAqOMxA5UtNUADzefc7XIwwOTeV0D8jxbAhzJUxVSqOkDO/GoOEDwnQEzFxryOoEJA5bhTOliPIMCNtFTejjhKwBMteTwt7URATDj0Fg+PLsDJyFnY0/xQwLvtQnOdyFBArIvbaAAnSUBi1ouhnHRDQFHZsKaywDdAG9e/6zOn/j+5401+ixRHwCWuY1xxO01AliNkIM96M8Dzxklh3kMpwKUyxRwEx0VAMjogCfvmFECvWpnwS3lIQE8Hsp5arTZADw9h/DTiP8CSdM3km80HwBNjmX6JgDFAePF+3H7RJMAMPzifOuYuQEfjUL8LqzBAYOrnTUWqOMAGZoUi3cdCwGSvd3+830dApU3VPbIpNUAVAOMZNMg8QOzZc5maxPs/kGYsms6yR0Bl5CzsaSdAwCxF8pVAAirAvIwHADNE5z/iAPp9/4IzwBSuR+F61BvA2NMOf037UMDqJFtdTmVCwNQq+kMztzPAsfuO4bFfTcAI5X0czeE+QMS0b+6vNilAPN154jnXOkDtZHCUvEo3QBHDDmPSp0ZAKc5RR8fBNkDLLhhcc2FLwN1CVyJQOT5AeV2/YDe0K0DMYmLzca1JQHQn2H+dPzjAUigLX1+JSUCbBMoBFpQKQI790dyvnxLA5IIz+PuNOsBol299WDVMQHu9++O9DjXACB7f3jWYI8BtjnObcNszQDSFzmvs6jPAA1slWBwmQMCNfcnGg90awA8pBkg0qSlAwObBgqDAEkBFEVK3s68oQGB2Tx4WSEhAbk+Q2O6eL0AmipC6nd3yP0Kz696KLDHAj4r/O6IKIkDT9NkB1+FBwOCcEaW9JTLAyjZwB+pkI8DaVN0jm6MyQF4SZ0XUPDlAEXLe/8cxQsAst7QaEu82QNzY7Ej1XRpAAOKuXkVWP8BF14UfnBtRQO8AT1q4eDlACVG+oIU+TkCwql5+p50zQJ9XPPVISy3AIRhRJKm2DcChZ7Pqc109QF+X4T/dwCRAysNCrWkOKMBVkiurn23YPwIKmjuf5gfATwMGSZ/2K0AsSDMWTX9AwHd+9siLcf4/6gd1kULhJUCGWtO842pIQDwx68VQLkHAbEmi8go//79JOOPqtrrjvxR7aB8rlClA+UhKehjuPsCuK2aEt4cawNLj9zb9p1HAgv18APfpGED4iJgSSUpRQMNHxJRIaitArkm3JXLpNcAu/yH99jVFwCJxj6UPaTbAjNtoAG/VP8ALtDukGGA8wO+OjNXmjxlAKH0h5Lz3MMDoTUUqjP0jwOAqTyDsTDzA7wOQ2sQVP0BJufscH1dGQI9v7xr0TTLAxCKGHcYUEcBzoIfaNtA2wESn591YjD5ASMX/HVHZLEAxlX7C2dU5wBzw+WGE1DfAVP61vHKpM8DP2QJC60dIwJWfVPt0tDzAL204LA2sH0CezhWlhCgtwOlhaHVy5hNAl3MpripfQEBUjPM3oWhKQMczw6ESkv0/UtSZe0jINUCZS6q2mxAlQEewcf270jJA4les4SIpSMAKhlL/SXHqP5dWQ+IeNUXAhhuVQO/6EMCMEYlCyyIxwA/uztpt/zRAXkvIBz37SMDXEvJBz+5GwM9nQL0ZG0jAryKjA5JAOMAZA+s4fuw5QL1uERjrdz9AGHyakxcZDEBfQC/cubACQB5Ig4AhuBHAukxNgjdoO0D+fcaFA20/wPVm1HyVGETAVU/mH32PR8Du8zGCOiPiv3dn7bYLrULAIvyLoDHrP0Dwv5Xs2OxIQC9OfLWj4C1AAU2EDU/TQkDQNkjSf6DXv2VQbXAici3A3NlXHqRPRsCq86j4v0soQHjt0obDuiZASP31CgueH8DmrE85Jmc9wAlU/yCS90TAVM0HX/PlDsA0LhwIyYZDQOmY84x9KSXAldi1vd2qPMBAUG7b9yg2QKqTfaGRmfU/LcxCO6cJNMCitDf4wuBEwAsJGF3eCEvABK4rZoR7McCnFltS/2rMv0/LD1zlST3APfAxWHG2OMBwjiGdDTvHP+f7qfHSfSTATFEujV/QLkB9XYb/dGMqQIkMq3gjOztAaR7AIr+aQcBn5D0YwhvyPzI6IAn7liNAEsE4uHQAMUCC/kKPGNUtwIuNeR1x7ERA/wQXK2p4LUCkNnFyv8tAwEIhAg6h3kRAqa+d3nsOEEDNHmgFhtwUQEwnyL4a1g5Aho2yfjNZPMA2H9eGikU6QLjOv132DzJAINPaNLbX8D+Be54/bWQIQGdjJeZZKT3AV1wclZtQLcAOhGQBE+ZIQPkvEATI6CbAG4F4Xb+URMBkr3d/vEdBwNxJRPgX7TvACty6m6cCQUBPlIRE2gI4wBXkZyPXyTxA9lc0QuShEkAj2/l+ajZAwKOlPASf8O4/C/Dd5o0jLEDgvg6cM8RIwHh7EALylUbAIv32deDEM8AIdvwXCJoowHk8LT9wNRxAiiE5mbjhP8C9NEWA00NMwE+y1eWU8B/A/KpcqPyPPkAe/MQB9FMoQEPQLGQJhu6/EZAvoYIXO8DBc+/hkmFHQPgW1o13PyXAHSJuTiWzEcAE5bZ9j1pCwPw4miMrd0ZAPKQYINE8NECM9nghHZo+wNuK/WX3KEdAtjF2wkt2TUA1XyUfu5MwQP+ye/Kw+DNA8fPfg9cmMEBWgsXhzAFBQAgddAmH3g/AQbeXNEaPQkBpb/CFyeQGwLO1vkhoi0FAdzhwvVza579Z+PpalzY3QErRyr3A6kzAPsvz4O4YR8Ao8E4+PS5EwIdu9gfKeTtAmwKZnUXvJUAyPsxetmUlwL9/8+LEdylAoMN8eQEmH0Dh8e1dgxY/QKeRlsrbcUrAIR0ewvjVRcA+7fDXZMVJwEOOrWcIByJAOgX52ciRP8CthsQ9lnIzwE4K8x5nakHABfpEniRxOEDcfvlkxQAsQEeP39v090PANo/DYP5oT0DE6/oFu2EMwMyXF2Afa0dA2INJ8fE5I0Cp+L8jKhQ1wDtZxXZS+vs/dmwE4nVpRsBFf2jmycUsQNivIkDZVtC/BjBl4IAaQ8Bx6C0e3nNAQHEgJAuYflBArBqEud1PO8BvY7Mj1e88wNYZ3xeX+h/AalZsgl4u8D8x7gbRWpEWwAR2NXnKLjHA/B2KAn0sQ8C0WfW52lBQwNZSQNr/ODHAPWL03EK/PECKx0W1iHgaQEeP39v030LALCy4H/BAJkBDVyJQ/TMZQK2/JQD/LEjA2zAKgscLQMDaAGxAhOAfQGfttgvN9RjApiiXxi9MNMDyQjo8hLEzQBa9UwH31CVAUKbR5GKoOkBUcHhBRCZJwGjKTj+oxyJAp++QvTkXBECV2LW93RBHwFoqb0c42UdABJN2/kiEHcC2ateEtGYwQO8a9KW3HzfAUHPyIhMcSUBb0HtjCDBEwKFkcmpnqBnAhslUwagKREBta9EjwhbVvzykGCDRMkdAgsXhzK+WLEDa4a/JGjFMwJf/kH772EXAzXaFPlg+M8CvmXyzzfUtwI9tGXCWOiFAgGWlSSmwT8BeoKTAAiwzwL0cdt8xfBjAS+mZXmJeQMD2lnK+2JtEQOHSMecZhzpAlgUTfxQ9KMDkMJi/QqRGQIbijjf5nRdAUp0OZD1tLkDaBBiWP6chwEEPtW0Y7S3AF58CYDybJUD5hOy8jZtDwPTfg9cuXRjAx/FDpRFzOEA50ENtG54gwBSUopV7iSnABmNEotBESUDCiH0CKApMQE8hV+pZcCBAvi7Df7rZR8B9PzVeuk9AwNjYJaq3ZjBA/iVOk7416b+zKOyi6OHwP02uGGSBJfS/TN2VXTA0NkDK4v4j08EGQHLvKyD+axTAlkBK7NqmLsAnTu53KHhQQIcW2c73Y0TA+tNGdTpQJsCSlPQwtMoXQBdFD3wMzjrAy91CstuC7b/Eh8ifXn8DwNBefTz0VUDA+8xZn3LGSUAuxVVl35VAQAfOGVHaSxxALSP1nso5IMBJoSx8fbdJwGa9GMqJ1i5A9YQlHlDIQEBj/Opgs9Ljv+o8Kv7vGBLA78uZ7Qq997/DLooe+HgPwJwG+2XmiAPAc0urIXHjOcCug4O9iXEJwEQ0uoPYVUJAbazEPCs7QcD7ko0HWyw3wKCU/39S4xvA2UKQgxKWHsBlUdhF0Y81wK98lufB3fK/b/Wc9L5tUUAAV7JjI/BAQOvJ/KNvME1ALD+6IkJt+b/xKQDGMww2QOJyvALR0zJAXMmOjUAMSsD5vU1/9n9GQN9PjZduej3A0nMLXYmIN0BQUfUrnecvwJ2AJsKG+zLAgBDJkGMLD8Aa/P1itoRBQGKdKt8zBEfAIM8u3/qUOEDtmSUBap46QCHkvP+PxyNAg/sBDwyQF8Bio6zfTHxEwNgo6zcTRztA0VeQZiwyQUCYw+47hlM0QKeVQiCXUk/A78aCwqDQREDU00fgDyFKQCcR4V8ECUxAJO8cylDVJEBd+pekMh0mQM8sCVBTX0HAllmEYiusREBEF9S3zIlDwB+BP/z8HUbA+3d95qwzMkA3/dmPFDVJwFJF8SprEyZA2J/E507w4T9Nh07Pu/kvwKtvqv+9pQ1AuwIbIU1WH0DLZ3ke3EUjwKN06V+SjEFAOUcdHVeDC8DRJLGk3HEzQMqIC0Cj0kXAt39lpUkJR0C/ZOPBFsFAwH8V4LvNN0xAWg2Jeyz1PsBFaAQb1/c2QC6qRUQxpT9AOWReotWsHMBFgNO7eE8nQCdp/pjW6jtAuvWaHhR8TED4xhAAHHMuwMcuUb01kExALNhGPNkpRECtF0M50co9QIaQ8/4/9ElASiTRyygeQcBhjh6/t0NIQMBbIEHx+zVAqWis/Z0VNMDHuyNjteU3wC50JQLVYULAO8eA7PXyScBkP4ulSL7rvziJnBlYgglAiSmRRC+XOkD+fcaFAx0+wM7HtaFiJkFAA1/RrdfkL8BJZB9kWZBFwDogCft2qiBAbt+j/nqZNUBiS4+megIcwO3YCMTrTjVAsjm9QWoZFECnoJG+/6UTwIyfxr35IUZAKzV7oBWSQ0DRQZdw6I0gQDnRrkLKnydArfiGwmcDRMAZVYZxN1gsQKpE2VvKa0PAG2ZoPBG0KMCTjJyFPT1DwIqw4emVwidAqDl5kQlILsBs7BLVW89EwHITWntEMfo/CwkYXd5UP0BxICQLmJhIQJULlX8t00TAAMrfvaPoSMC+3v3xXpFLQLR224Xmii/AJjYf14aeQUAzbmqg+d5EQOrMPSR8rybAszM7QVH/GsA2O1J95x1LwJZZhGIrgEdApBzMJsAoPkCOWfYksJkhQNaLoZxoe0FAbhea6zR2QUDQuHAgJEtKQMH+69y09UdAt39lpUlZKEA0ETY8vVI3QMP1KFyPpkPAAJlK/cQa2j/9ag4QzBVRwMBAECBDXy1A2UKQgxJoUUD3Hi457pQwwDZbecn/1C/AHec24V7XRsB3acNhaYxLwKICzCFONBRAM4l6wacXQUCygAncunNCQFIN+z2xDhtAGXYYk/6uJUCXUwJiEiYkwNF0djI4qj7ANuSfGcTXGsAKLev+sfZDQAkX8ghuPCDAwvuqXKhaQ0DQ7F/+r/cVQLfRAN4CHUVAM56tKMoK979x5eyd0UI0wNrhr8kaOUZAJUG4AgqRR8CiC+pb5jw7QNZuu9BcZ01AmKoPf6ivDMDgLZCg+L1CQAjlfRzNo0JAVU/mH33HO0DSpuoe2axFwJBmLJrOojXAGmzqPCquRkCP/wJBgJgxQBh6xOi59SlAVisTfqnPIsCdqcYBqq4JwGcPtAJDaj/AFNBE2PCENMCjdVQ1QThEQPKwUGuaA0ZAqMgh4uZQMMCDMo0mF6MqwNIA3gIJ0jpAuyu7YHCBKMD1LAjlfRwrQHv0hvvIvThAqB3+mqwhAEC5NlSM8/NFwD7o2az6XB/A1ZEjnYEHSkC8yRQYV4H4v/VKWYY4aj1AcQM+P4wcTsDVPh2PGXg2wJyKVBhbyD5Aq9z6n7KgGsBtrMQ8KxlMQMN/uoEC3z/ANL3EWKYHIsBtA3egTuVDQJtxGqIKUUNA/1vJjo2wLcDrxrsjY29AwEZ8J2a9CDfAi/m5oSl7M8CU+UffpPU1wNgqweJw3jFA6/1GO25QPMADjHj8KLT8P6bR5GIMJDJAkdJsHoc5SEAoDwu1ptEgwPxSP28qwjbAC+9yEd9pR8BIN8KiIn40wPXzpiIVphzA3hZ2YiAJDkDfN772zPIpQM4AF2TLlEJAuRyvQPQ8MsDbPpqgPEIYwMpRgCiYASrA12oPe6FQJsDUu3g/bsNPwBeCHJQwq0rAHk03gdCX6L9Y2B2cmfoPwD0K16NwD0hAl299WG/8JMAHI/YJoPAlwMJBjCFKJfE/n5PeN76ySUDx1Y7iHLVGwKezk8FR7E1APpY+dEF1LcDBb0OM11wYQO/Jw0KtsTVA2Rbx37TH2z8lOzYC8exCwFw/WCFAORbAMA4uHXMgSEDFjVvMz2UgwDCBW3fzJCZA2Qkvwak9REDcvdwnR1EcwIfyT7o+PQ9ALGLYYUxWRkApeXWOAWlGQAlszsEzH0HAP6phvycSP0D7kSIyrMouQEQ0uoPY0UXAp+Zyg6EqScA3GsBbIFEewPst8MtPoPi/kzoBTYQlRMARVI1eDZAyQPHIDuDjkh/AjzsAPWihDcAY0uEhjHcgQPYLdsO27SJAJxQi4BCWM0BtVKcDWV8owByxFp8CfDBAnpW04hu6KUBOK4VALuEzwFNA2v8A2zvAG7tE9dboQsDplOx9T2kcQO3WMhmOGzXAtwn3yrwVGcBpAG+BBNUmQPyp8dJNIjLAOUTcnErAQsClvcEXJktIQHZMgtzqfgNArDb/rzqCIkAOoyB4fGs1QIyiBz4GEUJAv6MhPgtVE8DXiGAcXO5LwIVgVb38FiXATUusjEaWLEB3hxQDJAY2wLKchNIXQibAxsrDnWY89L9TXFX2XZ1AQMSww5j05zTAFyzVBbxcFMAcfGEyVRBCQMy0/Ssr9S5AqOMxA5X/QECxTSoaa9c/QIv5uaEp60LAlX1XBP+fNEB4flGC/io8QGJITiZuoTdA3UQtza0wH0DCiejX1qc2wH2R0JZzCSxAaR7AIr/iN0DtfhXgu1U7wBpuwOeHtTZAzCkiP/K5wj+hgO1gxF5OwIfscgCzARtAMBFvnX8hQUCeKXReYxcnwI47pYP1Jz/AyqZc4V3mEUBA2ZQrvMsdwDaTb7a5XUfAzcmLTMC/HEBxVG6ilrYBQEloy7kUg03A3eOWoNC8AMB9yjFZ3H8hwIW0xqATZjzAR3alZaRmIsD0MorllqZDwJSl1vuNrEdAHSZ1XVNzGcA275P+ufsYQGSUZ14OC0VAIF7XL9gpRkCGyVTBqBwnwIvAWN/A7EDA7S3lfLH3OUCiDivc8jUzQPPU2X9THh3ApwTEJFwANMBGmQ0yycgSQMZSJF8JsDRABOW2fY8yM0DA6zNnfSoOwG2sxDwrq0LATHDqA8mrGUDtGuN5XysNQIjxmld1liHAhlj9EYbxJsDhfyvZsWEXQN8Xl6q0FS/AWIy61t73JsAbWNgdnLkfwPbv+sxZxy3AHvmDgeceJ0DsUE1J1ukjQOCCbFm+EjnAc77Ye/G9T8D5MHvZduI1QIicvp6vpURAbTmX4qq+RMC++KI9XrA2QGRd3EYDnDTAx7sjY7VdRUC+huC4jJM/QIjzcALTYRjA7Sx6pwIOIUDjqUca3MY0QIqbCTzmMuc/YOemzThdG8DOqWQAqGxDwO8eoPtydj1Anst5awUS8T/4U+Olm3xDwHPxtz1BCkDAt/C8VGyMK0BCzvv/OPkwQCzwFd16fS5ARzJQvkUMC8Brt11orhNCQEzD8BExRUhAvJaQD3rWNkDTMxh+y68RwMf0hCUexDPAequuQzXpPUCSIjKs4slDwB/2QgHbUULAq+rld5qs8z9eEfxvJbslQGfuIeF7I1FAi4nNx7WtQcAeigJ9Inc3wK6AQj19YDJABtZx/FChMkDjbDoCuB0/wHMR34lZ90JAcT0K16NQNEA2IhgHl1IxQK8FvTeGQBpAZtzUQPMJOkDDg2bXvcUhQPZf56bNEC7Aj41AvK6nP0AKQO0BBN0XQGouNxjqABFA6PaSxmgVTMDuYMQ+AdQ3wCtoWmJlwDtAG2SSkbNcRUA6OxkcJQcrwAVpxqLp3kfALaAGwgSUE0A9LNSa5n04wAAapUv/svg/W83fKYkR978zF7g81jQmQHkEN1K2KB9AYGkq1U9J3r/Gia92FEcUwF4u4jsxD0LA6YGPwYrzGMAD7KNTV34zQIrlllZDGibAcD2vHTE3EUAN5NnlW2c9QAoPml335hRAx3+BIEAoQEBolC79S2JEQJ0std5v0DFAjndHxmo3PcCnejL/6BVOwPUSY5l+mTlAsQy7Oaa46L8lehnFcr9CwODZHr3hrhBAlnfVA+a/QMD8cfvlk+k3QBB4YADhaypAoG0164ynIMD8471qZaIbwKc+kLxzWCpAPgeWI2TwR0CRRC+jWNRFwPPixFc76ilAJ2iTwyf1IMDQ7pBigOgywMnjDkAPmv+/YYkHlE1BPEB9k6ZB0UREQJz9gXLbviZAP8iyYOLHNEBBZfz7jEFQwB0Dste7Bz7AIGCt2jWhJ8CIKvwZ3gz+v3lafuAqKzTAt0WZDTK1RMAeGhajrmdPQAHBHD1+v0DAYMjqVs85QMDXTpSERHoMwCgn2lVIAT9AnDHMCdp0KEDdeHdkrKYYQMoV3uUialHAbGLcaFso7b/luFM6WGchwBecwd8vBhNANQu0O6R4KkDjbDoCuJkdQBzw+WGElkNA0hxZ+WUAIMB80okEUyE6QBWNtb+z+UNALx//u/RFBcDT9q+sNOk/wCpvRzgtEEPAUYL+Qo9yT0AJlW4BVzgBwOCgvfp4ADDAadxAJr4/C0D7PEZ55gU0wI4B2evd50lA5PT1fM3qEEAaogp/ht9HwHbB4Jo7winA/1SB/1KjFMCnnVA+82j1P3QHsTOFPizAoUs49BY3JMDe5SK+E/s9wPrPmh9/k0bAi98UVipQLEAKEtvdAywywBKj5xa6ui5AQQ+1bRglKcC2+BQA4zFKwOD0Lt6PIz7Aq+y7Ivj7UMAybN6CttYJQNoAbECENDLAGoums5MRJEBkO99PjT85QMHmHDwTuhxADycwndbxQcDMXradtmhBwMcuUb01HD3As5jYfFyhTkDJHww89841QPOPvknTgC7AKCmwAKZsPMCC597DJYNFwP8Q0Z6BBxbA5pZWQ+I0RcBxRkGu3CS3P/4vMlx4qQvAUitM32ucP0AXt9EA3r5RQNid7jzxVDDAtYmT+x0WSkCIug9Aaus6QNSAQdKnfS5A2ZdsPNiyQEBe8j/5uz8jwEzHnGfsCydA/yCSIcdmP0CFXRQ98GVAQHXMeca+nCPA7UeKyLCuRkAqdF5jl3ZFwCo5J/bQHvi/MXpuoSuBH0C+ofDZOogsQPqbUIiAsyJAJ2vUQzSMSMCd8uhGWOgywMzUJHhDzjrAwLLSpBR0LUA1fAvrxusawH/cfvlkzTHABHY1ecqSKkAlAtU/iFpFwHhgAOFDlUHA0uP3Nv1JJ8D4GRcOhJwrwC9pjNZRZT3A4CJBApCkC8DsUbgehcsrwPa3BOCf/iPANiOD3EX8QkDzk2qfjjVEwHy3eeOkuC1ADw72JobEOMDnAMEcPUxPQBrh7UEICCFAUkSGVbwZRMBDcceb/PY9QCk+PiE7TzHAGRu62R/UNUBsXtVZLVA+QBlz1xLyuTvAUDdQ4J1CRcBb6iCvBwsrwMWrrG2K1xHA/n+cMGFkKUALQQ5KmIEhQHKo34WtfTJABMsRMpBnJUBOabOg5hoSwCnPvBx2mzDAfV2G/3QtQEAplltaDbk1QDi/YaJBoktAmu0KfbBIQED59q5BX/RCwE7yI37FqEZAhqktdZA3HUBgysABLcFLQOgwX16ALTbAKy/5n/w1LsCvCz84n+o4wGuduByvTDTAE/QXesRIJEAPRYE+kecxwI1BJ4QORjlAlSwnofRzQsB7oBUYsq5BwDDVzFoKzDrAcOtunuodUcBbCkj7H6A/QEc1kT5SoR/AUWfuIeEjEMCZhAt5BJ89wBMKEXAI5UXATmGlgooCFMD+ZffkYXFDwOCfUiXKNjRAz3RlBuClCMDnqKPjaswkQKmkTkAToUDAwqONI9baMECyTL9EvGk4QC0I5X0c1TbA8UV7vJAuBEAn28AdqEslQFWIR+LlOSTAwHlx4qvdNEDTTPc6qW/yv8uQtjNE/L+/p+mzA663M0BxAz4/jKwswJ+PMuIC3DfAmvJ8YY1mGEDh62tdapwoQGwm32xzWzbAW3wKgPEUI8DzWZ4Hd5s1wAQAx549ZUTAOjsZHCVhS8CLjA5Iwt44wBg+IqZEYgJAtK1mnfHFM8BSDmYTYBgBwE2G4/kM2C5Aa9RDNLr/SMBgHccPlQYCwExxVdl3BUNASddMvtlyRUCk+zkF+bkqwN5xio7kyi/Ak3NiD+3jF0BVMCqpE/glQHPXEvJB/z5A2UKQgxKeSsBAJI0byATVP2d8X1yqDjxALQWk/Q/gLUDMQ6Z8CP49wAg/zLlv8PI/FZFhFW+UGEBv9Zz0vgEYQMP0vYbgqDzAnE1HADe3NUClL4Sc9/s4QOOlm8QgODtANv8SZS2N078GvMywUbYhQB0Dste7izPACcOAJVfJK0BA+5EiMs5QQI51cRsN2C1Ao1huaTVwRsBtAaH18BUbQIMZU7DG8SjA/MOWHk2dNsD2QCswZNVDwDk+/+K+IhxAGJmAXyMbUUA7/DVZo35GwA+0AkNWjUhAhsYTQZw/JkBoB1xXzAgPQFhYcD/g2TVAlkOLbOevQEA7iQj/Ing7wPYn8bkT5DfARcfEnFaAFEDsFKsGYY49QNvgRPRrmxBAvvVhvVFvQsAW31D4bB0UQOnuOhvy5ylAqpog6j6ALEBQUmABTGE+QEpenWNAakHA7ISX4NQ7PMCx4emVshhFQKEQAYdQ4TVAOZfiqrL/OEABDYACOeIeQEvNHmgFVklAMUROX88/REDnw7MEGbU8wBMM5xpmyB3A8dQjDW5LJ8AK16NwPZZBQDIiUWhZazbAOVfen5ySFEBLBKp/EC1BQCpXeJeLcEVAyeiAJOzrJMBeoKTAAtApwPw7Nl2qLR1AvcYuUb1tMkBQxCKGHa4/QEar/xjfnPy//DVZox7mR8CeswWE1hc7wIhH4uXpsDZAOSf20D52DUC9qUiFsRVHwEFiu3uAkjTAzhsnhXnzOkAipdk8DlNFQN/98V61rjlAtv3hnTIN7L+4I5wWvLhBQI+oUN1cLDzAZmzoZn+4IUD03OedryYTwPyJyoY1tSHAWIEQfwMZFUA0gLdAguZQQMe5TbhXDjhAforjwKvZSMD1nPS+8fUDwDCeQUP/dkLAEW3H1F25HEBVMCqpEwRGwP32deCclTxAIGhgPx9oFsC7l/vkKGg/QK0vEtpyHFBAzojS3uBrL8B31m670CBIQMdGIF7X8U/APBQF+kSaQ8Cdf2AzZWz6P77iBAGNRR3AsBmFyflH/j+Kk/sdipZCwPg2/dmPdBzAeJyiI7kUOsCeRIR/ESBFQIjjr3+NuhLAW4MxAUN/rr+jhoCNNe3uv5JXjF8dLPm/S3ZsBOKVMMDSjEXT2b1AwHWvk/qygDpAXHfzVIcwSEC6ZYf4hwE7QN4DdF/OoFDAaBnzhG/LC0CeB3dn7fZBwBSr1idYmoI/pb+XwoOCQ0AAjj17LvM6wMCSq1j85i3A9gt2w7YRS8Brgqj7AAxLQKfoSC7/tURAp8tiYvPtN8A5K6Im+rg5wGABTBk4APm/syA5Pv/i+T8MHqZ9c69NwOOlm8QgkDPA6MMOvouKFUDjjjf5LaojwPEtrBvv4jHAzse1oWKIMkBSCIlZ1CwAQK8rwT0qAR9AlGsKZHaSR0CugEI9faRBQDgUPlsHczBAPzbJj/ilIUDk2eVbH+o7wLMkQE0tczJAcOmY84z9J8B1BkZe1tQ2QG8Sg8DK6TFAZwEk5M1rBkDGNNO9TkhJQNIA3gIJ0k5AiV3b2y1ZP0DlVediHXgVwC5x5IHIdjjAW3nJ/+SDI8DsavKU1cQnQO23dqIklkFAHR1XI7vGP0CXdf9YiFY5QBBaD18mlkRAZkmAmlomCUB3n+OjxeUzwIiBrn0BI0dAxXO2gNBAQUBOC170FWwhQPVoqifz4zFAKy3IOyy5AsCdZKvLKYEHQBcs1QW8rBZAq15+p8l0NMB4zVCBOGwcQMDQI0bPwTDAinWqfM/iTUC0ci8wK1QqQBSWeEDZ4kZAg6J5AIv4MsC71XPS+8pEQJtZSwFplx3AMlC+RczRA8Ceew+XHDcpwMx8Bz9xHEHAJNI2/kR9OUCZ9WIoJ8InQL73N2ivLivATRB1H4BiREBGXtbEAv8+wDz2s1iK1BRAYaku4GXqR8BdbFopBPIjQGms/Z3tPTjAFjCBW3fHNED3kzE+zBBIQBMteTwtBUHAsOO/QBC0QEBcEUb9P1gEwNhF0QMfW0PAT8sPXOVNS0DR6A5iZypJwL8OnDOiXELAe9y3WifeK8BtrS8S2vJCQLzplh3iHUJAStQLPs0ZR8BtOZfiqvpBwC5GE97URgdAMBFvnX9PQEDYne488RQ9QILhXMMMJTNAZRZGH5iwEEDeVKTC2LpJQKwCtRg8MD9AH7qgvmWuQcAnF2NgHZ8kQOo/a378TTnAQrUcQ1shHED7Anrhzh0cwHJRLSKKhUfANEqX/iUJJMDikA2ki8kxwFZJZB9kpUVABZ1axwLw+7/luFM6WLdBQOdcQB6w0QNA4xjJHqEwQsAf8wGBzsJLQIApAwe0ODRATTJyFvZMJ8DOx7WhYhpEQOI/3UCBPUZAwMsMG2WNM8AL0oxF0/1DwA4yJILM8R1AskY9RKObH8B4l4v4TlhDQDatFAK5PDBABW1y+KSTOcD11VWBWvJHwLqe6LrwBzjATl5kAn4tRcAdAdwsXhQtQJR89J+Y6bI/8YEd/wUIRsBxPJ8B9Sb/P3S1FfvLajBAjPLMy2E/IkCSdw5lqIo5wO7PRUPGZ0TAYB+duvI1QMCSWb3D7RgjwJq5G58koB5A430LoTmh/z9wzR39L4tBQHbfMTz2QzRAFvcfmQ5NM0DKGvUQjZYhwLVU3o5wSFFAryXkg559HEArFyr/WjRNQCBdbFopxBpAsfuO4bFXRsD2l92ThyUwQIidKXReCz9ARZ4kXTPFNUAEyqZc4f0GQNJSeTvCBULAyk+qfToWRkD0b5f9unPgPwmKH2PugktAIlM+BFXbM0CoNc07TnVHwAksJXCQdei/yE4ufDMgAcBBvK5fsCcqwJbMsbyrzitAUXV+QFamC8AlkBK7trfXv6K3eHjPXTxA4pNOJJh2NsAhIF9CBXs5wK2nVl9dLUlAZJRnXg6vTkA3JQ/6iL4KQMZElECUmRPAzse1oWL8MUDE6/oFuyNQQA/mwLwRlxHAGeJYF7cRNEAujV94JQ04wMx8Bz9xVDjA5DCYv0IOQUB741qj1LQLwGfTEcDNfkdAVkYjn1e4QEBywoTRrFQmwBxniYSlkAHABjBl4IAiREDJq3MMyLpIwJZHknsVhAvA35LSIpE8EMAXt9EA3h4xwB9mL9tOTzNAmzi536GuRsBma32R0OJCwOzAOSNKu0JA3H75ZMVUMkBQx2MGKgNGQF8lH7sLBBBAzjRh+8kwLUBfsvFgi1FIwOkq3V1n20hA7ZxmgXY/QcC+iLZj6m5BwCV1ApoIRzFAnyCx3T0OQMAAHebLCxg3QBdi9UcYmjfAVb/S+fCMNUDI0ocuqA9FwLePJiiPOOy/HxSUopXzQcAuAmN9A+dEQGngRzXsNyBAjhji/V2sFEB9kdCWc4FGwKuVCb/UizTAOX8TChGwN0AwuycPC5FIQCNrDaX2giXAe/SG+8iFLEBb75KT5DT8v4F38umxbSdAHm/yW3RyQcBDOdGuQtI1wOc7U0N2ARDAbypSYWyROUACY30Dk5cywDiez4B64yjANNdppKWSOUCfd2NBYe5FQCHlJ9U+hT7AbqMBvAX+P8D8xteeWZJRQDT4+8VsKSDAwb5CixFu9j8L7gc8MNQ8wP2iBP2Fvh9AIv/MID5UQEAfAZKfQ08OwCWxpNx9GkdAI2b2eYxiPEDObcK9Mm8owHXIzXADGkhA6S9PQkRF7D9Dklm9w7E0wNSCF30FPUVAaHizBu+zIEBiD+1jBXcoQMiUD0HVFEFArg0V4/yjQUCx4H7AA7c0QGr67IDrIENAtoKmJVayMMDGihpMwwRDwFpG6j2Vc0DAZHWr56RfQ8A2yCQjZ3dFQGRz1TxH9DHAJJhqZi0tIMCnmN5ZFvcCwOs6VFOSDSnASz0LQnljQEDqk9xhE3FAQI48EFmk0T/AtydIbHeXLsAJ4jycwLJCwEPGo1TC+yLAd2ouNxiSKkAC8iVUcMAqwKg1zTtObTXAbVSnA1l/TcDXbOUl/wc4wD9xAP2+R0bAB2ADIsTFOEAzbmqg+ZJHwEn3cwry0xtAAoI5evwaRkBJufscHzlCQJp3nKIjW0HAfNP02QF7PkBQATCeQbc9QIXukjgrEjDA0GBT51EJKsDowd1ZuzFLQHUeFf931CLA5SfVPh1DR0CjC2YjQunZv65/12fOhjRAUkHqGz3D9L+WJqWg25dFQOCik6XW9zhA5sqg2uDIP0BBRkCFI4AhQEtbXOMzyUFAqRd8mpNDMsDd66S+LOtHwFeqsL4myBNAPl5Ih4fMN0D6DKg3owYvwEqbqntkAzJArb8lAP9SQ0DBJ4wc2CAFQPzDlh5NrTPA1ejVAKX1QEC5bd+j/sZHQDmm3Z7WEwRATDRIwVPAJcCchqjCn+ElwNi2KLNBSk5ATKYKRiU5R8C46jpUUyotwO26tyIxN0JARUdy+Q+BM8CM8zehEGtIwOWc2EP7EEtAvASnPpBCQ0BuUWaDTJBEQHLWTGMg7BtAGQnI8gk09z9I+N7foKUtwKlorP2dGU3AacTMPo/RIMDoZn+g3HpGwCDVsN8TNyPAB+Cwfn2e/7+B6bRug9ohwMLgWB8oGu0/IW0t3W4T0L+az7nb9XI0wL8zkB0KpRzAIqGxH/fn0j9DOGbZk4AvwA6MF2b8tg1Aisiwijc6QMABh1ClZjNPwLfWcsLfqgpASSu+ofClScDmIVM+BCNEwEwao3VUWUVAc9anHJM1FMDyXyAIkJEiQHwL68a7oznAbO7of7muPcAf2PFfIOg7wGwJ+aBnr0DAAp1Jm6qTM0AiUP2DSH4rwH45s12hl0ZA68a7I2OtSEDeVKTC2CouwDUomgewMC3AdPwG3KnfB8CQvd798V5LwCBFnbmHLDNAeoocIm5+LcDLn28LluodwHgq4J7nlzpA2pMboI+lEMDzk2qfjoVFQKfPDriuZDBAnfS+8bVHTUBlwi/18/ZCwDUHCOboiUJAFUkFX+L58z+6SQwCKy1AwCOe7GZGszNAZ/LNNjeOQsAwR4/f25A7wNBjlGdeTi5AhjyCGylTLEB2/YLdsGFIwFBtcCL68TfATFRvDWwxR0C3Q8Ni1F00QMU3FD5bVzvAFajF4GH2MUDTwfo/h4lJQLdGBOPgWEPAke18PzUuJcCx3T1A9wUwwAlOfSB5px5AdELooEusRkCWyVef/vXXvwfTMHxECDnA/KiG/Z4AK0DquTshKpMKwNffEoB/Kum/S5S9pZyPP0D5wI7/AkEjwKuyjGAll7S/7YFWYMjKSUD5Tsx6MZQkwDDzHfzE4TDAWvYksDm/J0DrxVBOtHtDQAO0rWadUT3A7tCwGHUxNcBXCj9AEMPlv2Jcu/5uWxBAJ0ut9xvtKUB3uvPEc44iwIOieQCLsD1AIEHxY8wXQ0Cp9X6jHa1FwKMDkrBv5xTAQQ5KmGmfRECZKhiV1G1JwCFcAYV6CiHA+bziqUciLUB8e9egL2UnQHjZCvVPq/8/1ZelnZoTNEBVTRB1H4BCwGO1+X/VXTvA9b2G4LgERMADe0ykNF80QA8KStHKfSHA8piByvjXTUBsZXii2uYMwKeVQiCX3EDAgQncupujTcDVwnZBjicVwFG8ytqmBDpA2J5ZEqASRMBVbTfBNylOwFotsMdEkjpA2Ls/3qtOQEDQMBBfgasSwMyXF2AfBUBAgqlm1lKAKkDScqCH2s4oQJDaxMn91jBA8Q2Fz9YBJ8DxZg3eV31GQBObj2tD6UFACvn7ICaUG0D8qIb9nohMwGXfFcH/HERA39xfPe7lRcCGcqJdhbg0QGU2yCQja0dAhaQFHs7yE8ChEWxc//BNwDfg88MICUDAXAAapUtrP0D4wmSqYPBHQJ1oVyHlPxpAw6BMo8mFBEDUQzS6g+w+wBHDDmPSTyRA4/5E4YoW7T8nH3F+eUcQwO+QYoBEbzTACB10CYe2I0DyXyAIkGE8wF6KBoQxPfe/MQvtnGYBRsA1tteC3hVJQMKFPIIbd0XAnQ5kPbUaIED9+bZgqQ5IQNL8Ma1NcxpAjgQabOocJcDSx3xAoD9DQNu2Od+Z+v4/oRFsXP/YTcCHbCBdbIBJQHQprir7nFBANEsC1NSqQ0AMsfojDDNDQJllTwKb00pAV8wIbw+SIsBhHFw65nwqwHfZrzvd8TVAcEIhAg5PSUAVxhaCHPhAwAd8fhghXCpA1pC4x9LPUMCo5JzYQzs/QOEkzR/T4klAvma5bHSOIUA9aqdBLB4dQHYXKCmwwCvAAFKbOLkTRcA8oGzKFdpBwBu9GqA0lEFAzvqUY7JcNMBX6INlbFAuQOxLNh5sGVDA8ZwtILSuMsA9fQT+8O1EQMdjBirjXzTAI8DpXbw/6b8oC19f61xFwMmvH2KDBTDA7Q4pBkhMMUCx+iMMA6YQwA9CQL6EBkBAL4mzImriScBDAdvBiBFMQJM4K6ImKjRASE+RQ8RLSECS6ju/KJVBwI0LB0KyCDRAPSO2YE5dFsCSjayhecXzPyb/k797I0dAXwfOGVGKSMCtp1ZfXYUcQNr38kx5Xv8/58Qe2sdWMUDnqQ65GU5CQNoDrcCQbU1AxqNUwhNmPsB4nKIjucxIQFitTPil2krA4C77daf7AcDsziT7MTcHQCVcyCO4sStAZJXSM73MKUAe/pqsUYdGQEht4uR+3zRA3Qw34POlRUDmV3OAYHRGwFpLAWn/8ypA5jxjX7K9QUDl8h/Sb0NOwPvo1JXPPFHAi3Mvi+Qm8r+PxqF+F3BQQCodrP9zhDvAcEIhAg6LR8Crsu+K4M8fwLjOv1328yNAu/JZngdLR8Bha7bykqciQPMYiuAkcuC/ox6i0R2ENUDl1TkGZG8rwNSH5BpVHA3Ai2zn+6nRG0DBx2DFqcYmwGQ6dHreXSrAou2YuisTKcDqeMxAZcw0QF2LFqBtwSBAj2yumudANkCHU+bmG1k0QDcWFAZlkiRA2+xZIfajCkAs9SwI5VU3wIL/rWTH0j7AcoqO5PI3LcAcKPBOPt0rwMISDyibdjJAg/qWOV3uKEBeEJGadok8wHxjCACO1UrARDF5A8xQR8DceYeA6NYRQGyXNhyWJkvAWZDB5QyAD0Bz7Oqf8V4WwFad1QJ7ZD3Aw2Fp4Ed5SsBOmgZF88g5QE5DVOHPYAJAC+4HPDAkMsDc1EDzOUcrwH/yHDY2YPq/MnGrIAbYSsAdPX5v068qQBPyQc9mfULA4EigwaZmNECMLm8O1/IswJEKYwtBSknAFK8V4eSG7D8Bz6xb8xkJwEvpmV5ijCdADwpK0coNJ8AJTn0geacOQF8pyxDHaiJANWJmn8faR8Cto6oJokJCwONUa2EWoELAERIOYgyRA0ALYqBrX1grwIsyG2SSGUNAKlJhbCGAQEDtLeV8sZtBwFIrTN9r7ERAYIYQoVv5GECrWz0nvfcxQAhyUMJMOxlAgCkDB7QUNMC1bRgFwXslwK1rtBzojTBA6/8c5ssXTMAMB0KygCFNwF2LFqBtY0bAzgAXZMvUTECRKR+CqpFJwA2+1d+3bhrA6SYxCKwAM8AfZi/bTsspQLVU3o5wUFDAMjuL3qnIOsDXXCSjufQXQKuSyD7I2kLAnfUpx2SVMEBXPsvz4FZAQGjr4GBvpkdAmzi536EnUcCFCaNZ2eY7wK5hhsYTcTTAFMstrYb8MsCApOPFHYr8P13BNuLJjj/AeedQhqoEMMBpjqz8MsBGQF3hXS7iP0RAMlpHVROSUUAg0m9fB2YXQNdDRebbLAzAUzwuqkVEBUDMmljgK/oiwDV9dsB1QSxADcNHxJTEO8C4dMx5xp4nwI6u0t11LjDAWtb9YyEGO0Ci725liVIwwC1b64uEukFADRr6J7hMS0B9dVWgFg8iQHV2MjhK+kzA6xRQTe688b8fhetRuGYgQLmmQGZnCTjAZRwj2SOsOkAaqIx/n2UuQGPxm8JKjTJACJChYwfFP0DOwTOhSaI9wJvniHyXhENAP+PCgZBcJ8DVStcCMY8DwKJinL8J1ThAblrfdleM8r9xxjAnaJczwBhanZyhLEBAcSAkC5jIPECoOuRmuJ07QPAYHvtZ3DjAvRjKiXZJScAcsRafAlw5wPje36C9xEnAfQVpxqIBJ0CzJasi3BpNwIGyKVd4LyLAvyuC/62MKsDzxklh3q9GQHegTnl0UxFA7URJSKT5PMC4KA77mNoKQMx6MZQTgUHACoUIOIRmNECELAsm/vQwwGBY/nxb+D5ANstlo3OqPEArGJXUCYRDQDFbsirCTSBAFK5H4Xq6Q8DkLOxph0dFQOrqjsU28TfAaJHtfD8RSkAVqTC2EJQUQAnh0cYRx0BANLkYA+u+RMCxpNx9jmc0QKM7iJ0p3kjAtvgUAOPlTUATuHU3TzlFQO244XfTPRFABp/m5EXGNkAX8Z2Y9cJJwIgcEUL2gBjAHThnRGk3TUB/h6JAn1pDQOTcJtwrS0nAdLLUer+pPUDFxydk51UhQAcJUb6gn09AzemymNg0LMCAZaVJKXA0wGniHeBJSyXAzQGCOXo0K0CLdJpgk2gUwLL0oQvqX0TAfnIUIAruO8B7MZQT7cobwB1xyAbSDTjAiljEsMMILMD8GHPXEvIpQOllFMst9SlAxOv6BbtZUMC77Ned7lBAQHoZxXJLQzXASnuDL0yuSECTwyedSPAgQLOY2HxczUXAhlrTvON6SEDn49pQMQYiwG8a0/r419Q/9UwvMZZ5EcCq8Gd4s044wMSxLm6jSUdAfCx96ILeSEAlOzYC8VxEwAXbiCe7qT5Ab/HwngPLPsAuTsZCvtUJwPM5d7te6hNA9Wc/UkSGPsCUjWIUX2j1vzCDMSJRUCFAfevDeqMWN0DAWyBB8QVAwIzWUdUE/UxAGNLhIYxHRkBCCMiXUCEywEIHXcKhqzRATIkkehl1OEBAL9y5MIoxQO/k02NbbkLAxhnDnKDZPMBSms3jMBpHwBn/PuPCHTHA6Ugu/yG1I0DqCUs8oHwWQK2iPzTzNBzA+b1Nf/bRR0C/3rNkROgDwAnf+xu0ZzJAgLirV5EJLEAjE/BrJMEnwLA9syRAqUNAA137AnqZQMCjztxDwkcwQLjLft3p5kBAK2owDcM7QEBjdfV0v9T/P4iAQ6hSqyXAui9ntitEKcAR3O0fsD8aQF7zqs5qAfA/wr8IGjMNPMD+YrZkVZA5wM3LYfcd6yDAO8eA7PVeRsBEV30JcFXVPxDPEmQEJELAmpSCbi9VTECeNvRgnHkdwLHdPUD3mUJAFLNeDOWkRMB9CRUcXsgyQG+XogFh1BZAtL0nIDcNEsCiyWpf5Z0WQHIVi98UZklAJ9vAHahJQEDlfoeiQOM3QOjZrPpc9T/Ag94bQwBQQ0AQr+sX7NZEQNfZkH9mkP2/VkRN9PngL8AjoS3nUiBHwGuCqPsAvEPAmfT3Uni4J0COP1HZsJI4wPwYc9cSokTAqWdBKO+bOcCN1eb/VQFKwGItPgXA8ClAl3SUg9lqREB0eXO4VtcxwG3nVmNkbBJAVaTC2EKGUUCFQZlGkzMvQJW2uMZnai3ACFvs9lnlG0D3yOaqeVYqwCMUW0HTpEHAZ/FiYYjmRkBA2v8Aa0NAQPfMkgA1AUlAsi5uowGQSMAcKVsk7fYiQMdGIF7XSzJAz4DdXSWn4r8EyTuHMowxQFqcMcwJEivAby2T4Xh2OEBWD5iHTD0/QCLhe3+DglDAwytJnuvtTEBMcOoDyXlHQPjhICHKh0PAT7D/OjedLMAl6ZrJNzMvwHqqQ26G2zFACoDxDBrmQEDudygK9O1OQNtv7URJ3DPA2bCmsihMLUCy5UteUyYWwAdcV8wIL/i/031K37UVG0AKv9TPm4ZEwA5ORL+2djBAUTHO34TiSMCTGtoAbLg6QL4Ts14MB0FApFAWvr56RsBinSrfM9hIwCRgdHlznDDArrzkf/KvKcC1T8djBm43wLvUCP1M4T1AomKcvwlZScC1CeaeZAHqv8Muih74DEPABeEKKNQ7PECX/brTnUcmwMiUD0HVODLAkq6ZfLOhPsCtE5fjFYJFQEF9y5wuyUNABfpEniTJREC8QEmBBQggwGWlSSnoZkbABoVBmUafOUBETfT5KEs0wCy3tBoSZ0BAVOV7RiI0IEAuGjIepTJKwLCNeLKbwSZAVMN+T6wjH0DElEiil+VAQG2oGOdv5kZA7m1EQToWHcDQQgJGl6ceQJMANbVsxUDAPsvz4O6YRkAVNgNckPNBQGL03EJXCkdAxxFr8SmwKkBPBkfJq4s6wDzHNl/bcQnAh4cwfhrbPUD0h2aeXB8xwE4NNJ9z9yLAxgcsb/0q1z/swDkjShMdQLbY7bPKPCDA9fdSeNCYMsDfh4OEKC82QB+EgHwJUULAaHbdW5H4OMCNYrml1eRDQIE+kSdJH0bAPYGwU6wCJMBXeQJhp6pKwDUz6aUYhgBA8GyP3nBPJUAPRYE+kcFEQPrvwWuXNhnAoDiAft8/MkCUNxuG6oEAQItPATCeQUNAeuI5W0A8PsCHFtnO9zs9wAPrOH6obFDAMGXggJbWGkBhcM0d/Z1IwFD+7h01IjfA/YNIhhx/PUBlNsgkI4tGQHbgnBGlZTNAyAiocASZI8DgMNEgBbNCwNU+HY8ZoDRAJ4QOuoQ7MMAaUdobfJ1HQC6CcwR4pM+/rp6T3jeuGMC5izBFuQA0QA9Iwr6dtE9AKSDtf4A5PsBPzHoxlGdBwEsBaf8DVkfAjuvf9ZlzIcC/79+8OOEJQOy9+KI9fkhAp+mzA64LSEC6L2e2K2QSQNgtAmN9hz/AP+CBAYTnNkD9n8N8eeVAwEw3iUFgjUZAr7FLVG/lQkAW31D4bHU+QMPTK2UZGiXA8+UF2EfDN8AFata+JQXzPzQQy2YOGS/APyQyYlWTEsAFbAcj9qEgQJGcTNwqkkZAjQ5Iwr5ZOcBeukkMAgtQwFjiAWVTliXA9b2G4Lj2QkA7Gof6XaA4QAxXB0DcJUXAsIwN3ewPGkA4EmiwqYstwP5g4Ln3kDpAlE25wrtcA8CWmGclrXw9wGZqErwhY0LAdELooEv0PcDnwkgvak8rQExV2uIaKUbA1H0AUptMQ0DL2TujrTISwA7Or/+doee/yqZc4V2GHkAmxjL9EhVFQAU1fAvrxhZAP49RnnmtQEA8sZgiClcTQJ595UF6VjnAjliLTwHwDkBCW86luD4xQCUjZ2FPRUNAidLe4AsDS8CIZTOHpGI5QJW3I5wWCEbAWcy+4fSEE0Diy0QRUvcbQAyQaAJFMD7AvtpRnKNIScCx3NJqSPBQQE65wrtcylBANjtSfecVQ0BXeQJhp5gTQC9YBcXqSgVA6LzGLlG9RUBd4sgDkW01wLlVEANdGyRAw2SqYFQ8SMCga19AL5gkwNkJL8GpV0RAUk4PZQMkCEBmvoOfOMAdwKc8uhEWBSfAEwt8RbcqNMATuHU3T20iwNvRSQBIN+2/iUFg5dCaPkALDFnd6kkxwD4g0Jm0aTXAmFEst7R6RUA+INCZtHkuwCbGMv0SV0PAA+li00qZL8DYmq285M8QwPuT+NwJLkXAUkMbgA1+TsDKNJpcjGVFwHY3T3XIyU5AKa4q+67IRUDJAbuaPLU2wK7yBMJOtUZA2xSPi2pJIsDPaRZod0wywBRvjZ0qvse/wNAjRs91OkBMbamDvKZGwOlF7X4VIDvAWW5pNSRmKcDmsPuO4WkoQH/O7trvevo/dQZGXtaWQUCdOkX95D4BQFN40Oy6xyrAwZFAg02XScA18tR+xpgTwFBg8B/BMw3AkrOwpx3qM0DLviuC/8kzwFab/1cduSbAr3yW58EZRMBxWvCir7hFQDhKXp1jYCfAmYQLeQTvP0B1PGagMsI+QK3CZoAL8vm/3zXoS2/fJ8CR8L2/QatJwFg4SfPHdC3APE1mvK3ENED9aaM6Hdg4QL2PozmyhjFAnUoGgCqKLUB6jV2ielVOwGfuIeF7pyvAC9aTVAEy8T9Q/u4dNV4yQM3wVeGFIwfA7Q2+MJn+REBIqYQn9MonQMbE5uPabkzAvhOzXgztPEBQUmABTK9FwFe7gV2o9/W/TdcTXRfGKsAUQZyHE2g9wCAot+17XC7A5V5gVihSCkCOeLKbGRU6wFsrNdZZCP4/Vrd6TnoDRMDdPxaiQ/gpQL6DnziA7jRAkrHa/L/SM0AlQbgCCgkyQFqeB3dnMURAu0OKARJjRMBRTrSrkE5OQIZY/RGGKSlAK/aX3ZMPPEBV9l0R/F8swOAPP/89BENAWi4bnfOFRsCq7/yiBCk5QNmxEYjXFQtArRdDOdEeRcAhQUwdP98fwBUCucSR3yDAX52++Wj8C8AEVDiCVJovQFlMbD6uEUJAgczOonemMkD3Bl+YTOFHQFmJeVbSYitAbt+j/nrhQsDnb0IhAjpDwBppqbwd4fg/LJ/leXAPRkDQeTKkL8kBQNUhN8MN7EhATiuFQC61QkDLMO4G0VIswNxmKsQjqUBAOllqvd9yTMA0LhwIyb4xQN0J9l/nBjdAigCnd/G2KcC94NOcvCA0wJT43An2zyFA76gxIeYAS0CZEkn0Mu5IQBFy3v/HFSrA9mIoJ9ohQUBYjpCBPKc5QIkJavgWbjzAYcPTK2UpK8AN/+kGCkg1QNTX8zXLzS7A1XYTfNNAQUBjuaXVkMgvwAj+XNmqSQtArB+b5EdYOMAaYVmC7+rYv0M50a5CekpAv2N47GcpK0CEu7N2281KwCGP4EbKojXAalZsgl4OCUBHy4EeamtFQIsECUCS2AHAu7ciMUGVLUBApN++DkA1QMMuih74RDjAVz7L8+DOJMATSIld2+1NQBNIiV3bRUFAmDRG66jKPEAVOq+xSwhEwAXEJFzIKUBA6GZ/oNy2SsBhpu1fWYNBQC2CtSBK2h1Axr/PuHAIQkB9rrZif/NDwL8oQX+hPx3AxPwmXq+aGED3r6w0KeU4wLwi+N9K9jLAqpuLv+1RR8CjdVQ1QdQ6QMpOP6iL5DJAuhPsv85VMsCbIOo+ABZRQEGfyJOkTVDAAfbRqStHIECQMuIC0MZFQO27IvjfukDAqaROQBMVMUAjZ2FPO7w7wA/Tvrm/sjlApG5nX3noT8DJkc7AyBNMwAUXK2owqUDA7ncoCvTxPUB2Fr1TAcccQF3AywwbPSbAzvv/OGFqJkA1KQXdXnBFQCodrP9znkHACwxZ3eoVP8BImuxdiy/XPxEbLJyk+TxAMepae59CIsDVlGQdjuI9wLadtkYEyyNAsoAJ3LqVRkDABkSIK1cUQNLHfECgXzVAHuIftvT4L8DrHAOy11NEwPSLEvQXuiZAzGCMSBTyK8AeTmA6rfc/wNY5BmSvoUdAdEaU9gYHR8AYtJCA0XEwwP+z5sdfJj9AZapgVFJ7R8ARGOsbmMxGQFNeK6G7cEVAVtY2xeM+OMD2XnzRHo8jwKYJ20/GOPe/fH2tS42YJ8CbVNkcjN0NQB3pDIy8hCHA84cL5enB8b8f2PFfIJQkQNfMEH0t7hLAWp4Hd2e1PMBwtrkxPR1BQFa8kXnk/w9A4jycwHQYUEBeM1QgDs3zP35yFCAK2kjAOe0pOSdKO8Be2nBYGngdwMdGIF7X20NAU1kUdlHUEEBvD0JAvsRBwCrhCb3+QEBAHLeYnxuyIkCxMa8jDmFEQDcY6rDCNS3ARv8VQ4PeE8Aqj26ERV0sQACFxIcjWfc/1nUDYJd8AkCcFrzoK0guQNgPscHCcSxAaNDQP8HvQMBzY3rCErM2QJrtCn2wmETAEMr7OJonOECWPnRBfQcxwGNjXkccHjLAiPaxgt++SMBw7xr0pYcUQF6CUx9IbkzAW9JRDmYjKcC4ByEgX/RIwC7/If32V0BAzjl4JjQBI0Bq2VpfJCpCwJayDHGsX0VAfuGVJM9JPUD3yycrhustwPBt+rMfGUPA7FG4HoVHPMDwxKwXQzkUQDJaR1UTRB/Aa524HK+YMUCGrG71nMxFQO3YCMTrdlHAEDy+vWtCQUB9ELhkC8cPwGstzEI7TzNAXYL4ZdXM9z+JKZFEL4M2QKUrGmMO39o/OY/UjFbf+L/X3xKAf4o1QHfX2ZB/3iJAfnTqymdpSUAvxOqPMJwbwLpm8s02O05A1IGsp1a3IUBSms3jMKA2QCEL6r4QsNU/d4U+WMa2FcC0Q1d9CXgfwIqQup19bUvAvhOzXgyBQ0BTsMbZdLw/wP6arFEP4TZAjWDj+nctPcDb96i/XtUzQGp8cIgCx9I/6IcRwqM5R8ABuP4C5pYGQBssnKT5GyHAkIXoEDhCKECInL6er703QBHZrJ+jAhpACjg6nRq+EEAtcYnIVfH0vxps6jwqAkZA5l31gHmIIcBPBkfJq8s1wEA08+SaQjhAvv1WPg2Q3L8SoKaWrf01wC5Bofn3JAXA+YctPZrCMUCn6bMDrrtBwIvgfyvZURpAC34bYry2SsDrNqj91sZPQBsqxvmbEDBAVYhH4uVNM8AIVtXL75QLwGkdVU0QZVBA7PfEOlVGM8Amb4CZ72g6wJbMsbyrth/A+5C3XP1wLsDJdVPKa/UrQKujmd1JyhZAchWL3xTeQ8BvDWyVYHknQBuBeF2/akBA9MMI4dH2McBcHmtGBukVQFH5tuThUsa/izIbZJJlRkCSPq2iP/wywH7iAPp9pzDAfEPhs3XQCcCzMztBUd8YwLZJRWPtFUdAFjCBW3ejOcAzU1p/S9RCQA4WTtL88SDA3/3xXrVSQcApo9tcRosQQM+Du7N2l0bAbFuU2SB/O0C37BD/sE0kQEpiSbn7NDbAH73hPnL/OcCtLxLacvpJwAvw3eaNPzxAqBjnb0LJRsAOyBRi5GsFQORME7afPCxAZmQ1ApZpHkAeGhajroU5QCen0T8cJxpABVH3AUhdRECKV1nbFMs/QDDw3Hu4wD7AHKkIgaafEsCCkCxgAtVJwLOY2HxcNzRA5Nu7Bn2NPUDTZwdcV9w4wOVC5V/L6w3AZFxxcVROFEBAv+/fvLQ8QFdrckIyjgZA542TwrxPOkDAeXHiq30rwFnBb0OMIU3AaydKQiIRSUAyc4HLY/0uQKtf6Xx41kJAUcyLXeyHEMCe0yzQ7qgnwFwAGqVLNzLAy0xp/S19P8BBKVq5FzgBQAGkNnFyWVBAPGu3XWi6M8CBBMWPMXNEQF9+p8mMly9APErKgi6+FEBFEOfhBH4hQE59IHnnfDTA6rRug9p3IEC/79+8OAFFwC4CY30DxzhA56/rcqX5/j+Nmq+Sj4UmQAqdfB+zQB5A+BisONVyPECGGFTA4vXgPzUpBd1e/krA9gt2w7azQUALtaZ5xylFQND3rpwYzRVAC0W6n1OIQ8AL7ZxmgaYmQJFEL6NYJkFA+s+aH38xJ0Cy2vy/6tBIQGYVNgNcJkTAcGByo8iaPMBQXa+ftBYEQC1dwTbigS/AFTYDXJBfREBv2SH+YXs6wClcj8L1jEHATBk4oKUvQMB6Ij5mVqULQPLvMy4cMDTAD0WBPpHXMcD4GRcOhChCQEK7+fzmZBdA1jibjgD2K0C2gxH7BNAWQOQPBp57MlDANL+aAwQPMkBuaTUk7pFBQHoZxXJLA0dAPpKSHoY2OkA91/fhIFk5QMZP4978WkhAV+iDZWyANEDiP91AgecVwGyzsRLzrCFAxfDHowo1D8BdTgmISTQ8QN6Th4VaZzXATptxGqJiP8CQwB9+/s87QM8xIHu9U0JAm8k329z0MUCFVzeDZG4fQBQ/xty1Zk7AmYOgo1VRPkC+MQQAx+48wLQ1x16UnRtAuRYtQNv+NkBxdQDEXS0rwCBFnbmH1C5AM/lmmxu3ScDNHmgFhnwhQFM/bypSrUJAcR5OYDrRPMDy7zMuHIBKwBZQqKePaDPAswbvq3LRIcBfJLTlXNJHwNhkjXqI7jjAtxjyvuDpBkDxgLIpV5AkQLecS3FVoTzAZJnZQutkG0CmuRXCajg0wFQcB14tq0bAlYCYhAvxNsDvqDEh5npPQOoI4GbxchHAh/pd2Jp1IEBGfCdmvdBAwGLcDaK1Ej1A/FI/byq6PsBQcLGiBv80wGGL3T6rDEvA9iNFZFjFGkCKzce1oVJDQPbRqSufWUlA7swEw7kmSMD4UQ37PQkyQL6ItmPqRipAVAH3PH96P0CCdRw/VPI4QLCqXn6nCTVAgy9MpgpKNEC5/If02wtCwOvkDMUdvzBANuREYFHuHkBpqbwd4WQ9QHaNlgM9XkbAs0RnmUW8NcANchdhihxGQM5PcRx4x0XA9x4uOe6oRkCFB82ue5sfwFtbeF4q+EPAOEw0SMGjNcAEdcqjG6VHwNiarbzkXz3AU3b6QV0oO0A8MevFUAI4wAxbs5WXbBNAzojS3uD7EUAMpgY/Fl8SwA9gkV8/+DfAoS+9/bmgREAJqdvZVz4PwKPmq+RjKzhAwXCuYYY2R8CD3htDAAxIwLXdBN80dT9AOWefIuIZGEA5DVGFPwM7wGUYd4NoTRTAP5EnSdfs+D9ATpgwmt0twPV0ZJsK5wxA/fvnxHmz87/TiJl9HqVJQFJDG4ANIkZAforjwKuRNEAtXFZhM7w0QIFXcOQmvw5Aa39ne/QKMMBuGAXB48M5wAzNdRppuUZAVp3VAntUMMCWPnRBfQNCQEyKj0/IxirAAn6NJEHoIsCZ8Ev9vOtBQKgM0kK4qANAUhA8vr0DKEAPSMK+nfwqwJJB7iJMUTbA+BisONWSI8B0e0ljtNpKQMo329yYkkLAc2iR7Xx/J0DFrBdDOQtFQM/cQ8L3tkRAUtUEUff5QEBiLxSwHTwewKWhRiHJcFFA0NA/wcW+TUBzgjY5fPIwQLb103/WeELAYVJ8fEIWTsCwkSQIV9ASwGu3XWiuczlAL/oK0oxRQED5wI7/Agk9wFqYKr3buRJAsKpefqfBIUC8rl+wG4ZLwKcf1EUKMTjAI6Et51L8/T/BcK5hhk44QM0/VeC/XBlAYhgLnp1PHsBGJXUCmiw9wOffLvt1nyJAaD18mSiSN0DIlA9B1eg3QAbxJmSM5A9A46lHGtzCMcA3F3/bE4wrwO/i/bj98gDAuAchIF/iPMANiuYBLMJGQM9r7BLV80XAg9+GGK9hJsAoC19f6xZDwAqDMo0mlxtAtyW03etB4L8vw3+6gaYywK4oJQSrEiRAUmFsIcglTsA8LqpFREE0QAIw+fq10OK/AHDs2XOpJEARO66hL7AQwNY2xeOimiLA3PEmv0WfMsCSI52BkUtAwJNvtrkxZUfAQxzr4jZKQ8CblUj9UAQcwNfc0f9ybUTAVpqUgm6XScBkdha9U6NGQI8zTdh+njbASiTRyyheQ8DswDkjSkdMQHJtqBjnA0RAZTbIJCPPQsBKC5dV2GwewBZO0vwxBThABcB4Bg1tL0CxFMlXAvkfQCPNaWD1ER1A5ZttbkwzQMDjUSrhCSk9wG3mkNRC4SrAHF97ZklEPsDfGAKAY38OQP/qcd9qeTnAQukLIeeNPcCfd2NBYfBDQHxhMlUwpkxAxTh/EwoVRUAs81Zdh0pHwOfFia929CXAJgD/lCqxBUD4im69pr86QIJV9fI7VSDA42w6ArirRsC1jNR7KodDQDKTqBd88idAlIWvr3VJGUDFZSZiW9ASQOIBZVOusElAJZLoZRTrQ8DncoOhDjsvwGb35GGh6jJAsHJoke2AQUDbbRea6yQAwOhNRSqMcUBAwsJJmj+GNcD0gMNVr2zePyJQ/YNIpjdA2nVvRWIiAUD9fKU9bxQNQEdZv5mYujJAbw9CQL4UDsCVkcTc/xECwN5E4z+TQxBAsp3vp8bnPUACDwwgfKQ2QHcVUn5SRSTACf63kh3TSECJfQIoRuY3QBfxnZj17kPAiWLyBpiBNkBCW86luBJMQCs1e6AVJEvAZAwHnWuTFsC+wRcmU/kywJKSHoZWJyBA6xwDstcDMUBFTyVe+a8aQPlOzHoxmDnAveKpRxpc9j/C2hg74YU/wD3RdeEHJwHA1Ce5wyY2R8BaSSu+ocxDwNQrZRni3ENA/b0UHjQdR8C4IjFBDe85wJdpoJ7jSO+/hSSzeocHO0AEyqZc4akyQPiUUoZgC/i/8N+8OPEFO8DBOSNKe3lRQLkYA+s4XiDAwac5eZFVO0Cc+dUcICZKQNuIJ7uZERBATE0nfjGA079B1H0AUitBwFpHVRNERUfAJO1GH/NtKEDn+6nx0oVCwN2YnrDE80XA/TBCeLRROEBaRuo9lQ1DwODHqJ0nv8y/R27yALvHEUCunpPeN4ZHwK1oc5zbRCfA+gyoN6OGP8BBtixflwHnv8VgtH1+7hVAAfp9/+YrUMDZP08DBnEjwEATYcPTPUlAeVc9YB5KQUDRHi+kw4czwFq4rMJmLDLAaK8+HvowQUAEyqZc4dE4QAtutZjpCPs/ueNNfouaPkD9+bZgqb5CwK/RcqCHNjbAB5eOOc8QOsBDqb2ItqMlwO/Jw0KtXURAaT+t/fjmBEDDmsqisBs6QJdSl4xj1BlA3zZTIR6RN0B9dVWgFslIwE8jLZW3GyrAlUiil1EsMkB9W7BUF7gnwErUCz7NjUxACWzOwTNjQEBq39xfPYIxwMlyEkpfiBBAEce6uI1uN8DBAMKHEpU9wIif/x68FjjApPyk2qejQ8AysI7jh2xBwA3Z5QBmax/AuPQeHQ2WFEDZ2xydqSYIQAX4bvPGCShAJQNAFTduKsDpt68D50A0QMU6Vb5nlEVA3nahuU7HQECgNqrTgbwnQLUzTG2p0yBAmUo/4ezWPMAqOLwgInk2wMTThh6Mk/w/7ISX4NQbQMCvldBdEtccwEKY273cty7AmWclrfjeIUBr1hnfFxtCQJvkR/yKzUvALgH4p1RtN8Bk6UMX1BdHQK4oJQSrQijA5fBJJxL0I0B4RtdcoOrVvx3nNuFe4UFATyMtlbdjAkBGQ8ajVPJEQOwUqwZhBjLArMWnABgjMcDoZ+p1i/AnQM6MfjSc4idAZ5sb0xPKSsBBmxw+6dwlQLQiaqLPfxTARz6veOpxK0CuDoC4q885wL8LW7OVxxfATtTS3AoZMkCzt5TzxW4uQNE/wcWK4kLA5+CZ0CSJJsCsNTkhGT8fQJgXYB+dxjHAb38uGjLGN8BeQxWjU0wAwIAqbtxi2EVAK6T8pNqbUMB2BTZCmpQXQMU6Vb5ndDNAaOif4GK9GcAKMCx/vrFFwNqQf2YQbzhAGw6NHxFw67/whclUwWBHwCHJrN7hlEXALhwIyQI2JUB/hGHAkr82QHl1jgHZKU1ABTOmYI2DO0CA1ZEjnfEBwLGJzFzgVjnAQInPnWD/QUDICRNGs2I8QF9AL9y5JEDA9/UyQFj8CcBo6+BgbzZOQJZBtcGJqC5A9FFGXACuNcCB7PXujyNJQA71u7A1yyhAjln2JLBRNcCqYb8n1i09QNgubTgs/RdARgpl4evzMEATKji8IBZAQMtneR7cNT7AjYAKR5AyPcCSIFwBhUZNwNj0oKAUKTVACRaHM7+aHUArpWd6ibEhwAPMfAc/8TLAHm6HhsXAN0A+srlqnuMgQHF1AMRd9ULApBzMJsDYJcAfhetRuF4xQO4ljdE6vkNAlrIMcaxrSsAjFcYWghBLQNZXVwVqGSrA8xiK4CQaGsDPTgZHyYNGwM5V8xyRn0LAJv+Tv3sHPsCQniKHiGsZwH0kJT0MiUhA/KcbKPCKM8BqozodyLZGQCi5wyYySzpArK3YX3bfNkC0y7c+rMcUwPLtXYO+MDpAtf0rK01KQMDGhQMhWaJGwM1y2eicByzAj1AzpIpSOcCSPNf34RQyQJpC5zV2/UXAPdUhN8ONCsBu3GJ+bpg/QNAlHHqLQzTAxxNBnIdbIkAdOGdEaZ9BQIl46/zbXSZAaeVeYFZgMkDEsplDUpMiQBh9BWnGDkPA65Cb4QaEEEAgiOJEqg4MwLG/7J48bB/AwoanV8puOkA49YHknQP4v+kOYmcKKUfABHCzeLFoKkC8rfTabNQhQPsHkQw5tro/UUoIVtVrG8BORSqMLUQsQPt5U5EK10XA3dPVHYsdO0CYFB+fkAFCQHWvk/qy5BfAfNY1Wg70IsBBg02dRyUywHnnUIaqfDTAA3y3eeMUE0CR1a2ek2RHwMXm49pQvUZAWFUvv9NmRUA1MyvC6pvuv13dsdgm9SlAsyjsouihJkCwcJLmjxk+wPyohv2eNEPAYd9OIsJXM8AYfsv3533vPwjnU8cqdSFAjwBuFi8eIkDBgG/ky5UNQOohGt1B8EvApt4qurtvwz/9M4P4wDYqwGYQH9jxByLAOC9OfLXjPMCveVVntdw1wHV4COOnsTpA1m670FzPK0A6BmSvd788wKg1zTtOZVFAfm2iOy1ECMD3AUht4mxCQHh7EALyU09Amm242WmFAEDequtQTfEvwC+JsyJqCkJA5SX/k7+bGsCV2LW93dJOwHAnEeFfbD5AI6KYvAE+P8AOETenksU6wJPIPsiyMDVAstr8v+o0NsA9Sbpm8u1FQIDuy5ntsjrAAOKuXkUeQ0AwYp8AinEpwFtdTgmIeRnAQRAgQ8dKMkDUKCSZ1W81wKw3aoXp9z7AKc+8HHYJQUBjf9k9eehFQO+FE+LbdR5AqAgm7fzR4z9BR6ta0kk2QMCy0qQU1EHAklhS7j6nAsAK16NwPRoywPtXVpqUHjbAba0vEtoeSsBrmnecog9NwMNkqmBUYkZAnu+nxksrQ0AuU5PgDS09QBztuOF3t0HAjPZ4IR02REDJAiZw61ZIwMlNHmD3px5AwfbdvlgZF0A/qfbpeDxQQORp+YGruETAbsST3cxUQ0CUZMLUO6H5P6RS7Ggc+h7AecxAZfzzOUAj2/l+apJGQHVat0HtuUrAspsZ/WgUNMDSOqqaIHomwHDNHf0vzyRAbOhmf6AcPkAa/Wg4ZS41wH/AAwMIrxZAU6i4uxgEDUC2v7M9ejlEQO30g7pIVT9AZv/yf/02FsAXKv9aXk08QNtv7URJFD3AEi7kEdwIDsAAz1GigCjqvzwuqkVEcSXAU5W2uMZjMcCIu3oVGd0EwI8F4PoLqA/AUHEceLXsOMAU56ij4xxAQKGA7WDEBEFAvi7Df7pVNsChhm9h3RxDQCBdbFopCDvA8u1dg74MS8DRr62f/t89wE8iwr8I6kVAmSmtvyW4OEAHmWTkLIwXQAFRMGMKxErAsvLLYIzIO8Ct3XahucxMQCHIQQkz/T3ABHXKoxvBL8CFBmLZzAkgwE7v4v24zRjAu3zrw3ovQsDFG5lH/sgmQOKvyRr1WDvAnGotzEJ7E0BtjnObcG8jwNwqiIGuV0vAe0/ltKcMJUBFEr2MYnFMQJONB1vs5j3A66hqgqgDO8D7m6tB87wYwLa/sz16yxZA8Q9bejQpPcBPPdLgtipPwHriOVtAQDlAaR7AIr/OCUCSrpl8sxE2wIFbd/NUl0VABvGBHf/nREAniSXl7ts0QIdtizIbbD/AMbH5uDaMNsCo0C8AQ7USwLgf8MAAfkfAbcxGQrZfFEAKndfYJbIpQLVug9pv3TlAqzZJPVWvB8B48X7cftFJQPYINUOqtEpAVyJQ/YN4A8Dzjeiedc0twL1zKENVxD3Ad5/jo8UtRsBxytx8I4I9QE28AzxpbUVA2uGvyRo9QMDFxydk5x1AwPZgUnx8HkNAFOy/zk1rEsBMNh5ssZsXwOdR8X9HCD/ARYMUPIXUL0B+AFKbOIE0QOZXc4BgEk1AADYgQlzVQcBVg9X9CLAQQBr6J7hYSUBAigW+oltPLUB3Z+22C8lHwGSWPQlsPi1AUMdjBiq7IcCdZRah2PZHwAEwnkFDPxBApaFGIck6R0B+rOC3IfYpQB2Txf1HzjLAxsTm49qAOsCAImC+Bg4CQLgBnx9GPDDA54wo7Q0ONsALRbqfUwxKQCUGgZVD91DAtcNfkzVaMMAYqUHiaAgcQGIs0y8RHxTA3lm77UITRcACS65i8fstQADaoEDpRRdAV19dFahFB0B3+GuyRoFDQOHx7V2DdiBAHjUmxFzWPkBGIjSCja8zQFn9EYYBuxzAMCk+PiF3S0A2TOH/lpnUv3+9woL7/UTAVRUaiGV/OkATukvirKQ6wNoDrcCQzShAADYgQlxDQEDY0w5/TRhIwBrDnKBNEjxAiM0RQ7wfGkD7sUl+xEtIQLnjTX6LEjpAZ4QSwZO5HkCYvWw7bW09wDaVRWEX5f4/PNujN9wXIUDo9LwbC348wMstrYbEsUBAhc5r7BIhR0AhPrDjv8g2QPmgZ7PqYxTA9YHknUNJRMBNEHUfgOBEQHqlLEMcJzlAyOvBpPi4HcBLdJZZhNowwEbQmEnUEybA9qwQ+6nW8b98OEtAgbS4v4E//Pz3aC9AFqJD4EgIQkDWqIdodGNCwNjSo6meXBFAI/jfSnY8NEC+2ebG9KQ3QLgiMUENGUpAkC+hgsMrMcDX9+EgITI2wPMC7KNTS0FAcZNRZRhnNkAHl445zyw2QPpeQ3Bcri3A6njMQGVsNMCL/PohNnAjQD4HliNkuDdA0m9fB84NQEA1Ymafx/ZAwJ1mgXaHpBHAKzV7oBVESMAMWkjA6FowwKL1Sx8VkhHAb6DAO/kEOcCWzLG8q244wCekNQad8DRA0xVsI57QM0DxnC0gtMBJwHBfB84ZPURAILjKEwgTKkAKZeHra50KQOmY84x9eSFAAtnr3R8nKMDiBnx+GHFGQAUzpmCNzzVAtVAyObXLN8AYBcHj29tDQHTS+8bXPkFAPwEUI0s2NMC3tvC8VBgxQE2+2ebGuEbA34sv2uOVA0DMXyFzZWglwOw00lJ5gzJAVKwahLmVLkBPHhZqTbMawD90QX3LwkVAizIbZJI1TUAfLc4Y5vwrwBNjmX6JcEZAuAGfH0a0KMBRFr6+1rVEwBOB6h9EBjlAqz5XW7EPS0AQyvs4mnM4wNSBrKdWJzXADhXj/E34PkAHB3sTQ9IlwEljtI6qfjPA+3lTkQrTNcCO3OQBdl8ZQL6fGi/dzEVA5CIIoc1LHEC+2HvxRZsRwMAHr13akEXAHLRXHw+ZQUCmDvJ6MDU4wLxYGCKnnULAc2iR7XxfL8B1r5P6sqAywN+mP/uRWjJA+Z/83TuORMDSHcTOFPJHQA==\"},\"shape\":[5000],\"dtype\":\"float64\",\"order\":\"little\"}],[\"y\",{\"type\":\"ndarray\",\"array\":{\"type\":\"bytes\",\"data\":\"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\"},\"shape\":[5000],\"dtype\":\"float64\",\"order\":\"little\"}],[\"text\",{\"type\":\"ndarray\",\"array\":[\"brought_back\",\"discrimination\",\"Matter\",\"draws\",\"1070_1060\",\"*_ahem\",\"little_sister\",\"sake\",\"raiders\",\"Scalia\",\"prod\",\"snaps\",\"alimony\",\"PTS\",\"Computers\",\"flaming\",\"persecution\",\"fnatic\",\"theirs\",\"reproductive_rights\",\"Luffy\",\"smarter_than\",\"Corn\",\"buster\",\"Stop_making\",\"documented\",\"heaps_of\",\"63\",\"blow_up\",\"obtained\",\"(\",\"bow_down\",\"FFS\",\"enabled\",\"thinkers\",\"Barbara\",\"Balls\",\"cell\",\"MIND\",\"harmony\",\"dressing\",\"Ubi\",\"Illegal\",\"Are_you\",\"colonized\",\"BYU\",\"NICE\",\"Evangelion\",\"stud\",\"animatronics\",\"careers\",\"unwashed\",\"precise\",\"Pearl\",\"marrying\",\"pity\",\"no_reason\",\"Just_wait\",\"Bridge\",\"opponent\",\"ignorance\",\"chasing\",\"degree\",\"dunno\",\"an_individual\",\"dressed_up\",\"holding\",\"Last_year\",\"recommends\",\"Benteke\",\"MY\",\"broadcasting\",\"marble\",\"Renault\",\"THE_BEST\",\"Different\",\"Beauty\",\"highlighted\",\"dongle\",\"kidding_me\",\"blunt\",\"Switzerland\",\"wall_street\",\"malfunction\",\"WVU\",\"Vlad\",\"noon\",\"interstellar\",\"merchant\",\"Bang\",\"WHORE\",\"avoided\",\"adoption\",\"out_loud\",\"protection\",\"sovereignty\",\"raining\",\"investments\",\"alt_right\",\"maximum\",\"shed\",\"Doesnt\",\"god\",\"pugs\",\"and/or\",\"exclusion\",\"hack\",\"Real_life\",\"Site\",\"align_with\",\"snort\",\"drawer\",\"those_filthy\",\"arrogance\",\"V\",\"FTL\",\"court\",\"wield\",\"giggles\",\"pre-season\",\"Groot\",\"large_amount\",\"crib\",\"GP\",\"DNS\",\"sure_showed\",\"upward\",\"Frodo\",\"apprentice\",\"subtle\",\"Mesa\",\"hydrated\",\"proposal\",\"hardline\",\"arms\",\"WE_'LL\",\"waiting_for\",\"San_Jose\",\"tug\",\"ako\",\"ima\",\"Brown\",\"price\",\"grammar\",\"had_forgotten\",\"hain\",\"coloreds\",\"crust\",\"sentenced\",\"her_body\",\"travesty\",\"smoked\",\"turns_out\",\"arming\",\"its_citizens\",\"gutter\",\"sights\",\"democracies\",\"skepticism\",\"twenty\",\"CARE\",\"herpes\",\"Bruno\",\"Filipinos\",\"residency\",\"dairy\",\"rhetoric\",\"20th_century\",\"FPTP\",\"identical\",\"domestic\",\"bar\",\"booed\",\"Douche\",\"HS\",\"Shhhhhhh\",\"George\",\"hallucinations\",\"places\",\"karaoke\",\"streaming\",\"begin\",\"660\",\"perverts\",\"something_along\",\"Iranians\",\"contractor\",\"fuse\",\"disagree\",\"Spot\",\"strongly\",\"mario\",\"Agreed\",\"Rams\",\"particularly\",\"kyle\",\"hunch\",\"ten_year\",\"Sign_me\",\"punchline\",\"synonymous_with\",\"an_indication\",\"either_way\",\"talks_about\",\"reps\",\"sanctity_of\",\"gun_control\",\"Shake\",\"surgeries\",\"confusing\",\"dnc\",\"topics\",\"thanked\",\"ward\",\"happens_when\",\"turnover\",\"prosthetic\",\"confrontation\",\"suicide\",\"heavy_metal\",\"trolled\",\"hurry\",\"Royce\",\"Harley\",\"Smart\",\"Math\",\"Name_checks\",\"shutting_down\",\"archive\",\"Oh_snap\",\"veterans\",\"SMART\",\"MW3\",\"typos\",\"discovering\",\"minority\",\"pro_players\",\"mayonnaise\",\"Cali\",\"creators\",\"goats\",\"FD\",\"higher_than\",\"WHY_ARE\",\"Brooklyn\",\"places_where\",\"U_R\",\"judgmental\",\"established\",\"Joe_Rogan\",\"pyramid_scheme\",\"Piglet\",\"gap\",\"Shane\",\"Should_have\",\"soundtrack\",\"Panic\",\"atk\",\"five_seconds\",\"Bears\",\"air_force\",\"green_light\",\"B-b-b-but\",\"newbies\",\"Afghanistan\",\"FINALLY\",\"shootouts\",\"Totally_legit\",\"invincible\",\"Looks\",\"manly\",\"Grey\",\"Officer\",\"Ai_n't\",\"1985\",\"point_blank\",\"Season_3\",\"Bon\",\"mortgages\",\"niece\",\"la\",\"THANKS\",\"fifth\",\"alt_accounts\",\"spirit\",\"doctor\",\"Spoken_like\",\"paved\",\"proc\",\"immigrate\",\"Mask\",\"which\",\"ps\",\"vaguely\",\"services\",\"frightening\",\"IMO\",\"sprays\",\"yourselves\",\"photo\",\"Rome\",\"THREAD\",\"suckers\",\"apes\",\"totally_convinced\",\"vibe\",\"ten_minutes\",\"traffic\",\"roommates\",\"Ring\",\"unsafe\",\"reference\",\"cheerleader\",\"ios\",\"thumbnail\",\"casts\",\"gosh\",\"Scots\",\"Pick_up\",\"4K\",\"DAT\",\"Martial\",\"NSFW_tag\",\"river\",\"hypothetically\",\"thanks\",\"swings\",\"poorest\",\"2030\",\"lakes\",\"Chicken\",\"inviting\",\"Tell_her\",\"gerrymandering\",\"investigation\",\"mm\",\"work\",\"Anita\",\"blue_collar\",\"throttle\",\"bern\",\"environments\",\"spectators\",\"jinx\",\"citation_needed\",\"coup\",\"permanent\",\"jews\",\"undefeated\",\"Court\",\"Danielle\",\"television\",\"very_rare\",\"fad\",\"teenage_girls\",\"doin\",\"hockey\",\"Color_me\",\"Tim_Tebow\",\"start\",\"pyramids\",\"bullying\",\"side_bar\",\"anyhow\",\"cupcake\",\"Motorola\",\"begs\",\"dresses\",\"'what\",\"authors\",\"WG\",\"Lost\",\"fruit\",\"explicitly\",\"Depends_on\",\"2000_years\",\"Trees\",\"Hamilton\",\"cs_go\",\"Whenever\",\"reddit_users\",\"Remote\",\"celebrate\",\"cliff\",\"behaves\",\"Wi-Fi\",\"their_homes\",\"tension\",\"should_sue\",\"kale\",\"NAP\",\"CoD4\",\"Libs\",\"pumpkin\",\"IS_NOT\",\"insensitive\",\"throws\",\"FSU\",\"lifting\",\"Binding_of\",\"Pete\",\"touched\",\"hate_speech\",\"condone\",\"this_weekend\",\"toughness\",\"parasites\",\"portrait\",\"unranked\",\"print\",\"protects\",\"flawed\",\"THERE_'S\",\"looking_forward\",\"Schneider\",\"blurry\",\"Lawrence\",\"GO\",\"parade\",\"harm\",\"reprint\",\"happend\",\"buffing\",\"attacking\",\"leaderboards\",\"erotic\",\"Derrick_Rose\",\"upped\",\"anti-national\",\"party\",\"revolutionary\",\"fall_asleep\",\"manifest\",\"boiled\",\"m'lady\",\"Pluto\",\"islamic\",\"eyed\",\"Quickly\",\"blowjob\",\"Oklahoma\",\"mankind\",\"LR\",\"handicapped\",\"Animals\",\"risking\",\"racism_against\",\"week_ago\",\"biceps\",\"lots_of\",\"Massa\",\"detector\",\"Flying\",\"merit\",\"EE\",\"fox_news\",\"i_didnt\",\"title\",\"player_base\",\"$_45\",\"frog\",\"muh\",\"stool\",\"challenges\",\"Mmmmm\",\"iv\",\";_M\",\"improves\",\"Orwell\",\"Gmail\",\"facist\",\"upvote\",\"fkn\",\"normies\",\"literally_Satan\",\"iron_man\",\"controller\",\"Kadri\",\"free_agent\",\"Japan\",\"Eww\",\"clash\",\"Hence\",\"tells_me\",\"TBH\",\"polluting\",\"crocs\",\"hills\",\"Watson\",\"humour\",\"Dawkins\",\"My_mom\",\"5000_years\",\"soviet\",\"Mao\",\"admire\",\"discover\",\"colour\",\"Boeing\",\"darius\",\"explains\",\"Swedish\",\"Jones\",\"LOVE_TRUMPS\",\"touching\",\"me_chuckle\",\"oppressive\",\"reload\",\"Rambo\",\"naught\",\"Considering\",\"buffer\",\"episode\",\"Santa\",\"Harvard\",\"lazy\",\"Widow\",\"Genocide\",\"vegetarians\",\"asian\",\"gods\",\"Ghandi\",\"universal_health\",\"clues\",\"clothing\",\"seafood\",\"death_threats\",\"01100001\",\"boot\",\"hardly_any\",\"bit\",\"cloud\",\"Rat\",\"so_far\",\"Kennedy\",\"seasoning\",\"FIRST\",\"locally\",\"clear\",\"chests\",\"Johns\",\"cleric\",\"gaps\",\"bananas\",\"Marxism\",\"American_flag\",\"Checks\",\"bathe\",\"dunked\",\"Taco\",\"Norris\",\"Hang\",\"Quiet\",\"addictive\",\"Ofc\",\"linebacker\",\"pancake\",\"shortage_of\",\"pinko\",\"Draft\",\"League\",\"scrapped\",\"legislate\",\"google_search\",\"rose\",\"screen_shot\",\"Laws\",\"FOREVER\",\"packers\",\"Ramsey\",\"trim\",\"PIECE_OF\",\"TAKE\",\"printer\",\"white_males\",\"analysis\",\"Xbox_Live\",\"50_cents\",\"Samson\",\"Bronze\",\"cracks\",\"GOSH\",\"healthcare\",\"world_peace\",\"IDE\",\"$_5000\",\"hooray\",\"heaven\",\"creation\",\"oh_wait\",\"dong\",\"enjoy\",\"taken_seriously\",\"special_teams\",\"school\",\"Arc\",\"Les\",\"Daniel_Bryan\",\"Playstation\",\"wither\",\"bring_back\",\"Count\",\"quest\",\"after_seeing\",\"unicorn\",\"SMALL\",\"High_quality\",\"crawl\",\"cussing\",\"cookies\",\"david\",\"Even_though\",\"copyrighted\",\"harmed\",\"mijn\",\"sounds_awesome\",\"social_programs\",\"butterflies\",\"Beautiful\",\"randomness\",\"Brandon\",\"tragedies\",\"walking\",\"Mage\",\"uses\",\"Still\",\"McDonald_'s\",\"Frankenstein\",\"poland\",\"Debbie\",\"'ve_met\",\"1500\",\"Supply\",\"Cos\",\"micro_transactions\",\"Ridge\",\"Little\",\"whales\",\"Perfect\",\"Starts\",\"desks\",\"hoo\",\"economists\",\"stealing_our\",\"life_expectancy\",\"summoners\",\"Rift\",\"indoors\",\"important_issues\",\"Mick\",\"1k\",\"swell\",\"motorcycles\",\"'n\",\"Slavs\",\"Anybody\",\"policing\",\"MIB\",\"The_Witcher\",\"mislead\",\"protected_by\",\"upheld\",\"Roland\",\"AND_THAT\",\"skirt\",\"align\",\"crude\",\"Tracer\",\"voat\",\"moved\",\"Dublin\",\"But_muh\",\"nail\",\"Saban\",\"happy_cake\",\"compilation\",\".500\",\"Mandatory\",\"finding_out\",\"Praise\",\"instead_of\",\"Boring\",\"beholden\",\"waaay\",\"addon\",\"granted\",\"first_place\",\"confession\",\"moaning\",\"FNC\",\"shakes\",\"attracting\",\"Front\",\"Chelsea\",\"Leader\",\"prefer\",\"respected\",\"even_worse\",\"tray\",\"exaggeration\",\"jus\",\"java\",\"options\",\"extraordinary\",\"hard_enough\",\"manga\",\"Walt\",\"ran\",\"bounty\",\"discern\",\"accused_of\",\"Nine\",\"tackling\",\"Vodka\",\"Combo\",\"learn_how\",\"equality\",\"distro\",\"Rivers\",\"House\",\"OP_pls\",\"circle_jerk\",\"slightly_different\",\"entry_level\",\"thor\",\"let\",\"plugged\",\"scalp\",\"establishments\",\"brim\",\"wrote\",\"LSU\",\"magical\",\"appears\",\"Roosevelt\",\"SS\",\"immersion\",\"few_hours\",\"strip_club\",\"sweaters\",\"sooo\",\"el\",\"Chill_out\",\"college_students\",\"instability\",\"speculating\",\"components\",\"grandma\",\"Nazi_Germany\",\"turd\",\"leagues\",\"Misery\",\"Heights\",\"challenging\",\"Katie\",\"ez\",\"sportsmanship\",\"opera\",\"transphobia\",\"audio\",\"drank\",\"accomplished\",\"dedicated\",\"pas\",\"presenting\",\"remember_hearing\",\"Edited\",\"provide\",\"faking\",\"Bitcoin\",\"cutting_edge\",\"motivated\",\"Macbook\",\"Gaza\",\"snipe\",\"monk\",\"prestige\",\"'ve_found\",\"GK\",\"Sim\",\"Bitch9ers\",\"greedy\",\"Hush\",\"TFW\",\"balloon\",\"inconvenience\",\"Lazy\",\"will_fix\",\"gutted\",\"hotels\",\"retain\",\"Hand\",\"Dion\",\"Comcast\",\"salary_cap\",\"flexibility\",\"several_hundred\",\"tiny_hands\",\"United_Kingdom\",\"OL\",\"deluded\",\"properties\",\"flocking\",\"Sigh\",\"shareholders\",\"related\",\"SEND\",\"kilt\",\"Own\",\"miles_ahead\",\"picks\",\"entire\",\"prosecution\",\"IS_LITERALLY\",\"driven_by\",\"anarchism\",\"matte\",\"remember_folks\",\"are\",\"TX\",\"Progressive\",\"drives\",\"difficult\",\"bothered\",\"very_convincing\",\"shitload_of\",\"fireman\",\"Hercules\",\"Bite\",\"stage\",\"anecdotal_evidence\",\"replies\",\"fukin\",\"Wearing\",\"^^^\",\"donut\",\"Souls\",\"fantasies\",\"investigations\",\"Aaron_Rodgers\",\"feared_for\",\"ship\",\"gay_men\",\"stacking\",\"selectively\",\"doubly\",\"private_email\",\"Pft\",\"TiA\",\"HILARIOUS\",\"maintenance\",\"birth_control\",\"wifi\",\"Stick\",\"partnership\",\"fix_everything\",\"nasus\",\"exhaust\",\"MLG\",\"980\",\"civilized\",\"lineman\",\"una\",\"Reynolds\",\"snob\",\"went_full\",\"imagination\",\"farted\",\"jars\",\"shove\",\"Wales\",\"new_york\",\"GHz\",\"testicle\",\"alternatively\",\"brood\",\"School\",\"paychecks\",\"stop_playing\",\"fucky\",\"Took\",\"backups\",\"cute_little\",\"insinuating\",\"laughed_at\",\"will_solve\",\"talk_about\",\"languages\",\"coming_soon\",\"heel\",\"pipes\",\"Khan\",\"amused\",\"blowout\",\"forsaken\",\"adaptation\",\"pills\",\"2015\",\"Censor\",\"perimeter\",\"cyanide\",\"OKAY\",\"black_lives\",\"Auckland\",\"geography\",\"classy\",\"blockbuster\",\"Theory\",\"superiority\",\"wow\",\"large_numbers\",\"excluding\",\"compatible\",\"WAKE_UP\",\"obama\",\"Farm\",\"ddos\",\"altering\",\"OW\",\"hoodie\",\"recent_history\",\"MO\",\"heads\",\"Project_M\",\"Scientists\",\"Race\",\"denominator\",\"handful\",\"child_support\",\"were_born\",\"few_weeks\",\"30_days\",\"Ralph\",\"LOVES\",\"restored\",\"unable_to\",\"Howard\",\"on_earth\",\"uptight\",\"naar\",\"most_qualified\",\"permanently\",\"550\",\"affair\",\"Ever_heard\",\"[_Insert\",\"brought_up\",\"extra\",\"Zimbabwe\",\"Hands\",\"root\",\"slam\",\"siblings\",\"RBI\",\"Huge\",\"Actual\",\"skating\",\"secular\",\"disabled\",\"resembles\",\"alpha\",\"inflammatory\",\"great_example\",\"Latin\",\"hat_trick\",\"European_countries\",\"characterization\",\"Zac\",\"Bruins\",\"toes\",\"Activision\",\"mice\",\"egregious\",\"automatically_means\",\"rely_on\",\"varieties\",\"Spawn\",\"Oh_darn\",\"8.1\",\"regain\",\"pick_up\",\"Gym\",\"source\",\"treble\",\"booze\",\"mist\",\"Worse\",\"too_confusing\",\"Apocalypse\",\"justification_for\",\"perfectly_fine\",\"rapists\",\"requested\",\"911\",\"tiles\",\"longest_time\",\"prima\",\"AMA\",\"drinker\",\"maining\",\"rank_3\",\"Maybe\",\"reactionary\",\"ten_times\",\"Conan\",\"BEAUTIFUL\",\"Go\",\"maple_syrup\",\"personal_experience\",\"winrate\",\"Fellaini\",\"Mission\",\"Xbox_One\",\"parkour\",\"exemplary\",\"dental\",\"sensor\",\"water_bottle\",\"doomed\",\"recruits\",\"Art\",\"eye_contact\",\"fucks\",\"perform\",\"breathe\",\"footsteps\",\"Ayyy\",\"seating\",\"tapes\",\"carb\",\"phrase\",\"Trout\",\"ho\",\"x2\",\"Harbaugh\",\"hurt\",\"'d_wager\",\"chunks\",\"legalized\",\"minecraft\",\"advancing\",\"threes\",\"uitat\",\"beings\",\"sweater\",\"endure\",\"cs_:\",\"dnt\",\"select\",\"orthodox\",\"syndrome\",\"faggots\",\"indicating\",\"also\",\"Hitting\",\"heartwarming\",\"Capitalism\",\"babe\",\"bites\",\"Brad_Pitt\",\"spend_money\",\"appeared\",\"4\",\"whopping\",\"r/iamverysmart\",\"hog\",\"Palmer\",\"spoken\",\"prototype\",\"an_agenda\",\"disappeared\",\"Win\",\"EMP\",\"C.\",\"diarrhea\",\"shouldve\",\"flavor\",\"x\",\"offer\",\"3rd_party\",\"Invisible\",\"Navy\",\"taxpayer\",\"drivers\",\"te\",\"Baylor\",\"holster\",\"shut\",\"fiend\",\"checkmate\",\"feel_bad\",\"barely\",\"profile_picture\",\"Leslie\",\"Ten\",\"consideration\",\"too_many\",\"supercell\",\"Metallica\",\"AKA\",\"Erdogan\",\"chaps\",\"game_mechanics\",\"slogan\",\"Mechanical\",\"Adrian_Peterson\",\"Military\",\"slug\",\"inspection\",\"f_*\",\"manually\",\"Gerrard\",\"ride\",\"dare\",\"discovery\",\"gain\",\"Justin\",\"cd\",\"jerseys\",\"badass\",\"AGAINST\",\"tariffs\",\"unlocked\",\"PC\",\"HE_HAS\",\"SECOND\",\"footprint\",\"1800s\",\"Seriously_though\",\"rhyme\",\"SO_MUCH\",\"engines\",\"get_paid\",\"esto\",\"1v5\",\"same_exact\",\"cares_about\",\"decision\",\"cheek\",\"South_Korea\",\"Bill_Murray\",\"fitting\",\"please_remove\",\"case\",\"'ll_take\",\"visas\",\"natives\",\"retiring\",\"happier\",\"Friday\",\"unlimited_data\",\"arty\",\"large_number\",\"treyarch\",\"OSHA\",\"well\",\"social_issues\",\"Dream\",\"live\",\"ERA\",\"quoted\",\"7k\",\"strawmen\",\"arcade\",\"speak\",\"multi\",\"drugs\",\"hospitals\",\"trickle\",\"Sadly\",\"Memorial\",\"Bin_Laden\",\"weep\",\"locals\",\"anomaly\",\"an_adult\",\"enchanted\",\"canada\",\"Dyrus\",\"De\",\"suppose\",\"anything_besides\",\"gendered\",\"keto\",\"Walter\",\"Internet\",\"REMEMBER\",\"interchangeable\",\"techniques\",\"heil\",\"pry\",\"Madden\",\"pub\",\"camera\",\"P_O\",\"cures\",\"Lore\",\"scott\",\"SEE\",\"taking_away\",\"french\",\"IDEA\",\"No_kidding\",\"internets\",\"Tell_us\",\"Bay_Area\",\"tomorrow\",\"IMHO\",\"Funny\",\"CANADA\",\"instantly\",\"Cam\",\"or_whatever\",\"RUINING\",\"fucker\",\"may\",\"conflicts_with\",\"comet\",\"errors\",\"studies\",\"making_jokes\",\"Cash\",\"any_chance\",\"engage\",\"shaming\",\"an_abusive\",\"TODAY\",\"Taco_Bell\",\"disc_golf\",\"ill_try\",\"quiet\",\"rob\",\"grandkids\",\"salsa\",\"refusal\",\"last_patch\",\"cock\",\"cool\",\"agents\",\"interference\",\"college_kids\",\"fuels\",\"Harrison\",\"Live\",\"wasting_money\",\"fiscal\",\"sector\",\"bucket\",\"THAT_IS\",\"correlated\",\"spikes\",\"own_fault\",\"fireball\",\"rays\",\"Missing\",\"salty\",\"variable\",\"Echo\",\"rebate\",\"lets_hope\",\"visually\",\"PEDs\",\"Teemo\",\"giants\",\"black\",\"Johnny_Depp\",\"deeper_than\",\"30th\",\"Therrien\",\"biblical\",\"decapitated\",\"sarcasm\",\"has_been\",\"NOW\",\"depends_on\",\"massive_amount\",\"votes\",\"GPUs\",\"curry\",\"rejecting\",\"fat_cat\",\"49\",\"populate\",\"bell\",\"ski\",\"product\",\"order\",\"Trade_him\",\"clinical\",\"Def\",\"same_boat\",\"achieve\",\"Michael_Bay\",\"piss\",\"picker\",\"condemn\",\"elo_hell\",\"Excel\",\"Ubuntu\",\"B_O\",\"scary\",\"Makes_me\",\"patents\",\"RTZ\",\"Action\",\"free\",\"graphics_card\",\"line\",\"spouse\",\"Still_waiting\",\"originated\",\"foreign_policy\",\"worst_part\",\"WANT\",\"racist_bigot\",\"Contact\",\"trillion\",\"hex\",\"innovate\",\"Chi\",\"caricature\",\"pretty\",\"returns\",\"chains\",\"uhhh\",\"top_notch\",\"cronies\",\"domestic_terrorists\",\"determining\",\"los\",\"banning\",\"football_fans\",\"front_runner\",\"subscribers\",\"teamfights\",\"Redditors\",\"3rd_place\",\"ICE\",\"ignore\",\"IL\",\"delay\",\"their_respective\",\"eliminating\",\"smite\",\"sniped\",\"scythe\",\"supernatural\",\"somebody\",\"patched\",\"sided\",\"Bad\",\"bestiality\",\"Book\",\"Niantic\",\"Sea\",\"Google+\",\"soo\",\"Batista\",\"offenses\",\"sacrificing\",\"G5\",\"young_men\",\"radiation\",\"rephrase\",\"waterboarding\",\"Di\",\"aint\",\"dynasty\",\"9k\",\"reduction\",\"Insider\",\"Sell\",\"nap\",\"LMA\",\"audiences\",\"modi\",\"Arch\",\"brainwashing\",\"nooooooo\",\"Competition\",\"Seems_legit\",\"Ware\",\"fleet\",\"identity_politics\",\"WON\",\"concentrate_on\",\"Boris\",\"misread\",\"mp3\",\"Merc\",\"than\",\"whip\",\"disease\",\"favor\",\"sniff\",\"Rask\",\"spreading\",\"scars\",\"satisfied\",\"enforce\",\"Happy_birthday\",\"play\",\"'murica\",\"Comic_Sans\",\"limits\",\"Asian\",\"barrels\",\"quarterbacks\",\"YOU_WILL\",\"native_Americans\",\"under_oath\",\"womans\",\"practicing\",\"offended_by\",\"Short_answer\",\"unnamed\",\"world_class\",\"February\",\"poverty\",\"scamming\",\"bushes\",\":_|\",\"well_rounded\",\"route\",\"Holy_fuck\",\"approve\",\"grass\",\"uncommon\",\"'t\",\"machine_guns\",\"8_years\",\"11_million\",\"reigns\",\"Many_people\",\"backup\",\"Frozen\",\"crusades\",\"Translation_:\",\"created_by\",\"metres\",\"basketball_team\",\"lt_;\",\"smashing\",\"uh\",\"roaming\",\"Interested_in\",\"Conservative\",\"my_backyard\",\"For_some\",\"Madonna\",\"admins\",\"Active\",\"Lol_yeah\",\"based_on\",\"td\",\"Pat\",\"trio\",\"musical\",\"Monopoly\",\"Whoa_whoa\",\"^^^I\",\"junglers\",\"wanting\",\"Goodell\",\"8/8\",\"littering\",\"vegetables\",\"Slave\",\"rational\",\"selective\",\"exclusivity\",\"Ftfy\",\"natty\",\"SENSE\",\"Far_Cry\",\"Sarcasm_does\",\"unpleasant\",\"Lo\",\"d2\",\"sciences\",\"Mike_Trout\",\"great_leader\",\"AK-47\",\"grassroots\",\"tru\",\"Snorlax\",\"Harlem\",\"Demon\",\"12k\",\"stereo\",\"Pride\",\"38\",\"outsiders\",\"outbreak\",\"different_things\",\"dee\",\"opening\",\"commonwealth\",\"interact_with\",\"France\",\"exact_opposite\",\"flowers\",\"demanding\",\"meters\",\"Oct\",\"My_ex\",\"bing\",\"megathread\",\"aggressively\",\"dessert\",\"E3\",\"conspiracies\",\"beauty\",\"questionable\",\"Triple\",\"anti-establishment\",\"o\",\"nursing\",\"sacrifice\",\"both_worlds\",\"motivation\",\"shrinking\",\"perpetrator\",\"torrents\",\"Antonio\",\"Hanzo\",\"paws\",\"IT_WAS\",\"disproportionate\",\"pairs\",\"skill\",\"stick\",\"Human\",\"refrain_from\",\"his_contract\",\"getting_caught\",\"plz\",\"declined\",\"Full\",\"crushes\",\"Ocean\",\"fathers\",\"prostitutes\",\"management\",\"has_fallen\",\"Cowboy_Bebop\",\"Family_TRUMP\",\"element\",\"specify\",\"gnomes\",\"WOULD_N'T\",\"Control\",\"BEFORE\",\"Snopes\",\"continuing\",\"aside\",\"an_inch\",\"reproduce\",\"So_basically\",\"Brees\",\"1:1\",\"distinct\",\"absorbing\",\"stay_healthy\",\"fortunate\",\"pe\",\"POKEMON\",\"Lady\",\"NAFTA\",\"circumcision\",\"Beat\",\"almost_certainly\",\"NSA\",\"Prayer\",\"zeus\",\"reflection\",\"Dear\",\"To\",\"ID\",\"wait_until\",\"trailers\",\"Speed\",\"respect\",\"il\",\"dungeon\",\"Exxon\",\"underwater\",\"AND_NOT\",\"steph\",\"horny\",\"Hollywood\",\"HUSSEIN\",\"BEST\",\"weirdest\",\"obsession_with\",\"Nobody_cares\",\"ashamed\",\"Flat\",\"ecstatic\",\"hosted\",\"oooh\",\"raise_taxes\",\"when\",\"shelf\",\"nationalistic\",\"Bitches\",\"Level\",\"buyer\",\"STEALING\",\"r/all\",\"abundant\",\"Avengers\",\"orbs\",\"be_deported\",\"glass\",\"tanky\",\"staple\",\"apocalypse\",\"mastermind\",\"Sandy_Hook\",\"dehydrated\",\"previously\",\"prediction\",\"real_estate\",\"road\",\"photographers\",\"TN\",\"strengths\",\"warning\",\"earthquakes\",\"8-8\",\"undercut\",\"gigantic\",\"flesh\",\"boarded\",\"important_things\",\"Apex\",\"past_few\",\"stomps\",\"allah\",\"about\",\"Forces\",\"disagreeing_with\",\"Flawless_logic\",\"9\",\"email\",\"usernames\",\"two\",\"Sauce\",\"doable\",\"Side\",\"more_entertaining\",\"worship\",\"obligatory\",\"worries\",\"literally_Hitler\",\"guys\",\"defying\",\"facial_hair\",\"lewd\",\"gravy\",\"trafficking\",\"chased\",\"HE_IS\",\"small_government\",\"Star\",\"metaphors\",\"array\",\"being_treated\",\"blinded\",\"Ik\",\"event\",\"then\",\"literally_impossible\",\"Revolution\",\"trends\",\"enters\",\"modern_day\",\"rises\",\"newspapers\",\"serve\",\"year_olds\",\"CUT\",\"wired\",\"famine\",\"teens\",\"dock\",\"punks\",\"Kanter\",\"Welsh\",\"our_problems\",\"umm\",\"Columbia\",\"Commenting\",\"universally\",\"zerg\",\"Raving_Raving\",\"netcode\",\"hitter\",\"sing\",\"dreaming\",\"Obsidian\",\"altar\",\"pleasure\",\"Savior\",\"nope_nope\",\"I'ma\",\"homosexual\",\"em\",\"zelda\",\"Bill_Nye\",\"Horizon\",\"1.4\",\"briefly\",\"previous_comment\",\"Such\",\"quoting\",\"completely_irrelevant\",\"trusting\",\"Lincoln\",\"convenient\",\"spider\",\"chicago\",\"Song\",\"Tonight\",\"harbor\",\"voter_suppression\",\"offerings\",\"oh_yea\",\"smiled\",\"forgive_him\",\"lie\",\"David_Duke\",\"adidas\",\"tripped\",\"v2\",\"WaPo\",\"gasoline\",\"4-5\",\"ce\",\"child_labor\",\"death_panels\",\"once\",\"cosplay\",\"castle\",\"Losing\",\"side_effects\",\"sunt\",\"restarting\",\"castles\",\"an_arrow\",\"1400\",\"Ah\",\"1960\",\"sprinting\",\"patty\",\"our_roads\",\"hairstyle\",\"Porn\",\"musicians\",\"suicidal\",\"xenophobia\",\"sunday\",\"socially_awkward\",\"Dry\",\"bounced\",\"Makes\",\"steal\",\"bbq\",\"military_spending\",\"Dragons\",\"table\",\"technological\",\"kidnapping\",\"rats\",\"adopting\",\"bold\",\"weirder\",\"Goddess\",\"ended\",\"childhood\",\"=p\",\"souls\",\"his_rookie\",\"G3\",\"Raven\",\"Come_on\",\"overwhelmingly\",\"Hooray_for\",\"kush\",\"Quit_being\",\"73\",\"WS\",\"Lounge\",\"entitlements\",{\"type\":\"number\",\"value\":\"nan\"},\"keep_forgetting\",\"photoshopped\",\"Dale\",\"brings_back\",\"low_elo\",\"clarified\",\"taxis\",\"no_exceptions\",\"Michigan\",\"last_episode\",\"Adventure\",\"reminding\",\"Click\",\"tv_show\",\"Print\",\"2,000\",\"scramble\",\"lonely\",\"hiring\",\"Either_way\",\"ak\",\"interrupt\",\"catholic_church\",\"Preston\",\"picky\",\"Auschwitz\",\"cattle\",\"clerk\",\"recipes\",\"Motion\",\"dishwasher\",\"MLB\",\"next_door\",\"Sonic\",\"artistic\",\"balcony\",\"cooler\",\"mare\",\"our_brains\",\"priority\",\"experiment\",\"press\",\"well_spent\",\"exclude\",\"tax_payers\",\"fearful\",\"R9\",\"discord\",\"Boss\",\"billions\",\"parrot\",\"relive\",\"roller\",\"baiting\",\"Store\",\"mace\",\"TIMES\",\"first_language\",\"stuttering\",\"DONALD_TRUMP\",\"Idaho\",\"dog\",\"NES\",\"maturity\",\"heresy\",\"Nah_bro\",\"stadium\",\"Ever_since\",\"Tired\",\"sentiment\",\"gender_equality\",\"bucks\",\"adjusted\",\"gon\",\"Ambrose\",\"symptom\",\"Bae\",\"Downtown\",\"sole_purpose\",\"yang\",\"hence_why\",\"supplies\",\"tents\",\"Ultra\",\"playlists\",\"$_25\",\"inspired_by\",\"shush\",\"Twilight\",\"savvy\",\"n-word\",\"GENOCIDE_GENOCIDE\",\"recognise\",\"worth_watching\",\"tastes_like\",\"drama\",\"dm\",\"arcane\",\"Saints\",\"original_post\",\"cheeto\",\"BURN\",\"yahoo\",\"PAX\",\"person\",\"^^you\",\"bikes\",\"colonial\",\"traffic_laws\",\"Thx\",\"hill\",\"coward\",\"stop_eating\",\"Mordekaiser\",\"cis_shitlord\",\"hebben\",\"scrim\",\"Saturn\",\"try\",\"Remastered\",\"suspension\",\"obesity\",\"Alien\",\"millenial\",\"All_Star\",\"rite\",\"rams\",\"Define_``\",\"azir\",\"principle\",\"outta\",\"lay_down\",\"capitol\",\"torturing\",\"California\",\"MySpace\",\"router\",\"equity\",\"tester\",\"counterfeit\",\"drop_rate\",\"Mormons\",\"Till\",\"protester\",\"novels\",\"Charizard\",\"crammed\",\"non-violent\",\"Bettman\",\"$_10\",\"distracted\",\"do\",\"libs\",\"Cafe\",\"wrongly\",\"observing\",\"AND\",\"ww2\",\"Wisconsin\",\"Grove\",\"conforming\",\"ONLY_ONE\",\"doggo\",\"Comparing\",\"You_spelled\",\"Phoenix\",\"Payton\",\"Ham\",\"wicked\",\"autos\",\"40_years\",\"utterly\",\"prove\",\"goof\",\"discounted\",\"Simulator\",\"minerals\",\"very_useful\",\"idiot\",\"responds\",\"^\",\"invisible_hand\",\"merely\",\"freeloading\",\"cloak\",\"main\",\"fall_damage\",\"transparency\",\"Pokemon_Go\",\"Moving\",\"Apparently\",\"False_flag\",\"Hmmm\",\"Hugo\",\"stop_being\",\"Riven\",\"too_lazy\",\"Ironically\",\"pretty_damn\",\"Er\",\"CS\",\"calorie\",\"rgb\",\"Quest\",\"middle_eastern\",\"Volvo\",\"smiling\",\"dang\",\"scared\",\"Barnes\",\"By\",\"vested_interest\",\"35\",\"cavity\",\"longer_than\",\"fix\",\"sex_offender\",\"nah_man\",\"my_backpack\",\"Arabs\",\"hots\",\"volunteering\",\"Uhhh\",\"fanfiction\",\"happiness\",\"red_flag\",\"clever\",\"Big_12\",\"global_climate\",\"bad_luck\",\"paying_attention\",\"THIS_GAME\",\"Evan\",\"separation\",\"Im_pretty\",\"bland\",\"Niners\",\"Your_argument\",\"Hood\",\"Goldman_Sachs\",\"T-shirt\",\"HAND\",\"make\",\"Men\",\"Conor\",\"stop_lying\",\"warranty\",\"Problem\",\"kek\",\"960\",\"faux\",\"spam\",\"seventh\",\"fierce\",\"N64\",\"Hamas\",\"Al_Qaeda\",\"Penis\",\"appropriated\",\"child_molester\",\"tub\",\"dead_horse\",\"hired\",\"Bhai\",\"intoxicated\",\"revoked\",\"lighthearted\",\"the\",\"Single\",\"conceived\",\"superpowers\",\"Libertarianism\",\"turns_into\",\"halfway_through\",\"Q_&\",\"gunman\",\"Islamic_extremists\",\"sexualized\",\"HILLARY\",\"simplest\",\"reports\",\"england\",\"Returns\",\"i_wouldnt\",\"restaurants\",\"incapable_of\",\"imperial\",\"Keep_telling\",\"advice\",\"Vayne\",\"ji\",\"3_years\",\"daily\",\"markets\",\"Diamonds\",\"microphones\",\"strategy\",\"brainless\",\"comma\",\"never_lied\",\"toilets\",\"Spike\",\"durability\",\"PAY\",\"triggered\",\"addressed\",\"Aunt\",\"Coors\",\"get_stabbed\",\"Round\",\"Miranda\",\"innovation\",\"'d_recommend\",\"drew\",\"of_course\",\"wake_up\",\"50_million\",\"savage\",\"frightened\",\"compensation\",\"Spiderman\",\"bud\",\"challenge\",\"Barry\",\"monkey\",\"Immortal\",\"immune\",\"police_forces\",\"conflicted\",\"Shen\",\"registering\",\"surrounded\",\"Broke\",\"United_States\",\"white_nationalist\",\"en_el\",\"Lee\",\"MTV\",\"Gumi\",\"cultural_appropriation\",\"re-read\",\"15_year\",\"this_morning\",\"tint\",\"Posts\",\"Lizard\",\"revolt\",\"HLTV\",\"still_waiting\",\"Feminism\",\"sedan\",\"Jeff\",\"too_early\",\"ammonia\",\"amateur\",\"T-Mobile\",\"always_felt\",\"RNC\",\"Coal\",\"talked\",\"effects\",\"Tyler\",\"stocks\",\"Difference\",\"caps\",\"ARE_N'T\",\"notice\",\"holiday\",\"/pol/\",\"hrs\",\"teachers\",\"Always\",\"UNDER\",\"Gibbs\",\"flake\",\"Rage\",\"WRONG\",\"couldve\",\"Kreygasm\",\"ze\",\"apologies\",\"optimized\",\"Report\",\"torque\",\"Banner\",\"local_police\",\"burning_down\",\"dvd\",\"Jersey\",\"le\",\"associate_with\",\"haircuts\",\"produced_by\",\"Blasphemy\",\"shards\",\"60fps\",\"trolls\",\"BUT_MY\",\"frowned_upon\",\"open_beta\",\"shorten\",\"wireless_charging\",\"lawmakers\",\"facial\",\"announcers\",\"generalize\",\"dispel\",\"Yemen\",\"smaller_than\",\"donald\",\"Killer\",\"an_educated\",\"PC_gamer\",\"Pope_Francis\",\"als\",\"bats\",\"seizure\",\"Berserk\",\"perceive\",\"NEEDS_TO\",\"firepower\",\"Episode\",\"dummy\",\"spy_on\",\"reflect\",\"find_out\",\"american\",\"kk\",\"Jerry\",\"wallets\",\"devastated\",\"Sarcasm\",\"KISS\",\"redeeming\",\";_t\",\"outsource\",\"DC\",\"speeches\",\"Earth\",\"Eli\",\"Federation\",\"+4\",\"HERO\",\"50_years\",\"normal_human\",\"mars\",\"cis\",\"distributing\",\"Adnan\",\"fears\",\"Duh\",\"his_arm\",\"DP\",\"Pictures\",\"induced\",\"drunk\",\"sports\",\"shark\",\"OKC\",\"FREE\",\"pond\",\"dot\",\"color\",\"african\",\"Springfield\",\"expelled\",\"$_80\",\"woke\",\"Lol\",\"thereby\",\"can_confirm\",\"Yoshi\",\"palestinians\",\"degrading\",\"crow\",\"interfered\",\"Sing\",\"consent\",\"Bam\",\"Matthews\",\"Hey_guys\",\"professor\",\"awkwardly\",\"moon\",\"Terrible\",\"collusion\",\"semi_auto\",\"noun\",\"Street_Fighter\",\"sandbox_mode\",\"bots\",\"Darwin\",\"trip\",\"semen\",\"headsets\",\"missions\",\"meetup\",\"friends\",\"habit\",\"Parents\",\"scummy\",\"ducking\",\"Wait_until\",\"Viagra\",\"Group\",\"Watch_Dogs\",\"pa\",\"digit\",\"fucking_casual\",\"referred_to\",\"pump\",\"estrogen\",\"Hopkins\",\"autonomy\",\"enter\",\"recognize\",\"9_months\",\"desires\",\"girls\",\"muslims\",\"upvoted\",\"end_result\",\"pointing\",\"Jennifer\",\"who_disagrees\",\"divisions\",\"NS\",\"choked\",\"Mormonism\",\"oil\",\"timeline\",\".......\",\"but\",\"limit\",\"African-American\",\"assist\",\"5.5\",\"'merica\",\"Elon_Musk\",\"CHILDREN\",\"summer\",\"eyebrow\",\"Europa\",\"dinosaur\",\"flaws\",\"jet\",\"cc\",\"competitively\",\"masteries\",\"slaughtered\",\"class_action\",\"OR\",\"pro_level\",\"Washington\",\"ED\",\"prank_bro\",\"comfortable\",\"HUMAN\",\"nuking\",\"paypal\",\"plans\",\"media_coverage\",\"wear\",\"roulette\",\"1000_%\",\"dozens\",\"lasted\",\"pronounce\",\"asteroids\",\"domestic_abuse\",\"12_months\",\"bargaining\",\"infact\",\"way_cooler\",\"complains_about\",\"EDC\",\"onto\",\"blackout\",\"76\",\"cardboard\",\"handicap\",\"promised\",\"god_damned\",\"few_minutes\",\"eve\",\"scrutiny\",\"farce\",\"harsher\",\"git_gud\",\"troll\",\"5+\",\"warmer\",\"visual_glitch\",\"limiting\",\"pasta\",\"automotive\",\"peoples\",\"presidential_candidate\",\"translate\",\"opted\",\"clue_what\",\"cameras\",\"Sharia\",\"failures\",\"HAHAHAHAHA_HAHAHAHAHA\",\"im_glad\",\"comedy\",\"Sharing\",\"animation\",\"let_alone\",\"treat_them\",\"128\",\"savior\",\"Drain\",\"an\",\"B\",\"PM_me\",\"black_person\",\"coop\",\"fo\",\"rogues\",\"pillars\",\"diamond\",\"varies\",\"verbatim\",\"impressed_by\",\"presumed\",\"thriving\",\"pierce\",\"afterlife\",\"patent\",\"truly\",\"vital\",\"cursive\",\"2edgy4me\",\"NEED\",\"GENDER\",\"Jennifer_Lawrence\",\"nazi\",\"tent\",\"plantation\",\"TRAITOR\",\"Tesco\",\"foot\",\"stoked\",\"monitor\",\"Diversity\",\"righteous\",\"hint\",\"former\",\"[_citation\",\"sterilize\",\"snipers\",\"symmetry\",\"sorting\",\"facts\",\"erotica\",\"disappear\",\"pics\",\"mistake\",\"wasting_time\",\"900p\",\"Reach\",\"defends\",\"THERE_IS\",\"Steve\",\"romo\",\"Dunno\",\"mockery\",\"red_card\",\"European\",\"distorted\",\"08\",\"mineral\",\"work_environment\",\"political_party\",\"1998\",\"Sup\",\"nos\",\"incase\",\"Bay\",\"snake_oil\",\"pay_attention\",\"Puerto_Rico\",\"grim\",\"SCHOOL\",\"flat\",\"Bruce_Wayne\",\"Pikachu\",\"springs\",\"life_experiences\",\"remorse\",\"GETTING\",\"Blast\",\"depleted\",\"mule\",\"medications\",\"Beyonce\",\"stain\",\"T.\",\"defies\",\"paid_vacation\",\"misuse\",\"pint\",\"respectively\",\"cleaned\",\"hot_dogs\",\"checkout\",\"singularity\",\"believers\",\"frag\",\"paddle\",\"world_cup\",\"believable\",\"office\",\"Nathan\",\"KEEP\",\"theology\",\"Lollipop\",\"smoke_weed\",\"sono\",\"bisexuals\",\"Ben\",\"relieved\",\"Salt\",\"jails\",\"HA_HA\",\"liberating\",\"Springs\",\"drinking\",\"deemed\",\"Fucking\",\"significantly\",\"the_donald\",\"galaxies\",\"things\",\"architecture\",\"Specs\",\"hav\",\"Super_Bowl\",\"gas_prices\",\"Stan\",\"Noice\",\"neg\",\"signatures\",\"an_admin\",\"covering_up\",\"RAGE\",\"Bullet\",\"Luigi\",\"fall_under\",\"poppy\",\"Dota2\",\"bipedal\",\"objectively\",\"refer_to\",\"hoot\",\"gays\",\"sadness\",\"participating\",\"PUT\",\"overnight\",\"clicking\",\"Hmmmm\",\"airplanes\",\"repent\",\"moms\",\"sip\",\"brain_damage\",\"inception\",\"Ryze\",\"power_armor\",\"Thanatos\",\"sits\",\"Slap\",\"Maori\",\"verified\",\"comfy\",\"dipping\",\"small_number\",\"parallels\",\"mods_ruin\",\"political_beliefs\",\"grenades\",\"proposals\",\"issuing\",\"bladder\",\"flavour\",\"Julian\",\"dawg\",\"Russ\",\"Medieval\",\"eastern\",\"strong_independent\",\"leans\",\"leopard\",\"Millions\",\"Solid\",\"lineups\",\"hotdogs\",\"Kobe\",\"colts\",\"independence\",\"Syrians\",\"gladly\",\"retirement\",\"Museum\",\"willy\",\"DICK\",\"Reddits\",\"scandal\",\"skulls\",\"Pew\",\"because\",\"pronoun\",\"fuckhead\",\"Filipino\",\"united\",\"brown_people\",\"delta\",\"ISS\",\"Rory\",\"am_offended\",\"Udyr\",\"conception\",\"Serious_question\",\"mimic\",\"GE\",\"Eugenics\",\"20th\",\"ssd\",\"Spiders\",\"vindictive\",\"00100000\",\"rematch\",\"Baker\",\"THREE\",\"install\",\"parking_spaces\",\"rattle\",\"Democrats\",\"101\",\"Dame\",\"Last\",\"pounds\",\"comes_across\",\"vetting\",\"DFW\",\"fatshaming\",\"rapes\",\"Play\",\"20_dollars\",\"artists\",\"Scout\",\"19_year\",\"frat\",\"sith\",\"wwe\",\"Gaben\",\"HATES\",\"Craigslist\",\"plotting\",\"Shooting\",\"r/atheism\",\"enterprise\",\"Counter\",\"haters\",\"ABOUT\",\"finnish\",\"poisoning\",\"finish\",\"Cod\",\"backstory\",\"class\",\"Ibra\",\"p2w\",\"male_privilege\",\"NYPD\",\"skinny\",\"straighten\",\"podcast\",\"Czech\",\"timestamp\",\"nuclear_power\",\"needing\",\"mana\",\"overheat\",\"worried_about\",\"slimy\",\"hides\",\"proper_term\",\"Suit\",\"Reason\",\"de_la\",\"Sweet\",\"Clara\",\"Letting\",\"regulating\",\"blasphemy\",\"PLAYER\",\"Hilarious\",\"HERE\",\"anorexia\",\"witchcraft\",\"Dies\",\"diversity\",\"Sleeping\",\"SAFE\",\"homie\",\"gets_posted\",\"file\",\"2/2\",\"touring\",\"unintentionally\",\"Oh_boy\",\"Bob\",\"Idk_man\",\"ensuring\",\"single_handedly\",\"deagle\",\"State\",\"national_news\",\"ghost\",\"referendum\",\"incubators\",\"pricing\",\"imagine\",\"black_people\",\"heists\",\"vim\",\"being_born\",\"dream\",\"Gee\",\"academics\",\"brightest\",\"fellows\",\"Olympic\",\"guessing\",\"reminiscent_of\",\"brutal\",\"Splatoon\",\"hound\",\"Passive\",\"Factory\",\"IS_BETTER\",\"Mm\",\"noting\",\"merry\",\"lookin_'\",\"Western\",\"5/7\",\"Lucic\",\"650\",\"executed\",\"cutscene\",\"sounds_familiar\",\"my_desk\",\"intellectuals\",\"Ahhhh\",\"investment\",\"Whose\",\"other_subs\",\"modification\",\"OP\",\"ADD\",\"brat\",\"Hunt\",\"WaW\",\"shit_storm\",\"surveys\",\"appearing\",\"shrek\",\"big_ol\",\"25th\",\"funk\",\"fire\",\"biscuit\",\"Those_damn\",\"grandmother\",\"formal\",\"loss\",\"stranger\",\"barbarian\",\"necessary\",\"stitches\",\"Clinton_supporters\",\"Elo\",\"toll\",\"Nice_job\",\"comrade\",\"just_sayin\",\"GUYS\",\"3D_printer\",\"are_incapable\",\"Samuel\",\"uno\",\"improved\",\"bale\",\"bro\",\"PL\",\"dick_pic\",\"Egg\",\"Excalibur\",\"Black_Friday\",\"cal\",\"intense\",\"Gotham\",\"logging\",\"advocate\",\"R1\",\"Sudan\",\"Nakamura\",\"SK\",\"reddiquette\",\"Nah_m8\",\"broncos\",\"people\",\"precisely\",\"biological\",\"flawless\",\"oh_wow\",\"GODDAMN\",\"t\",\"downsides\",\"stan\",\"Manchester_United\",\"Ticket\",\"wished\",\"opposed\",\"kittens\",\"dreams\",\"achieving\",\"increasingly\",\"our_politicians\",\"unbeatable\",\"fouls\",\"blah_blah\",\"Media\",\"Dolphin\",\"online_dating\",\"stepping\",\"skit\",\"Federal_Reserve\",\"rape_victims\",\"Libertarians\",\"presidency\",\"offensive_line\",\"circumstances\",\"reals\",\"bombings\",\"indian\",\"GMT\",\"county\",\"hockey_team\",\"owned\",\"send\",\"POC\",\"very_exciting\",\"cheating\",\"music_industry\",\"America\",\"sent\",\"wedding\",\"roadhog\",\"Terminator\",\"1_%\",\"DOS\",\"plausible\",\"balanced\",\"governmental\",\"bytes\",\"doomsday\",\"raided\",\"Stone\",\"snowballs\",\"flask\",\"Mac_Pro\",\"cropping\",\"young_children\",\"135\",\"productivity\",\"WC\",\"Airlines\",\"variety\",\"power_supply\",\"tame\",\"perfectly_balanced\",\"Potato\",\"wolf\",\"Whilst\",\"niggers\",\"hamburger\",\"projectiles\",\"actively\",\"Hint\",\"parades\",\"collectors\",\"sweet\",\"Liz\",\"BACK_TO\",\"romantic\",\"top_20\",\"Crow\",\"opposes\",\"aspire\",\"ping_pong\",\"reasoning\",\"mechanism\",\"George_W.\",\"zoom\",\"So_brave\",\"Penn_State\",\"Wallace\",\"icy\",\"Engine\",\"Norway\",\"founder\",\"Tell\",\"no_longer\",\"whoops\",\"little_kids\",\"Wake_up\",\"summary\",\"motivate\",\"caliber\",\"place\",\"moderately\",\"1/2\",\"LOOK_AT\",\"suspended\",\"Indonesian\",\"bless\",\"Old_Testament\",\"Ur\",\"fan_fiction\",\"calm\",\"240\",\"Colbert\",\"Louis\",\"came_along\",\"retention\",\"maybe\",\"refering\",\"original_joke\",\"ladder\",\"framework\",\"GON_NA\",\"crashing\",\"yeh\",\"bandwagoners\",\"impact_on\",\"onto_something\",\"brilliant_idea\",\"identify_as\",\"garage\",\"bumper\",\"manchild\",\"realising\",\"overturn\",\"oatmeal\",\"didnt\",\"changing\",\"Roads\",\"start_smoking\",\"Laptop\",\"THC\",\"revolutions\",\"goblins\",\"monthly\",\"advisor\",\"instruments\",\"an_ally\",\"fun\",\"Clemson\",\"oppressors\",\"scaled\",\"iphones\",\"employed\",\"sections\",\"version\",\"minimum_wage\",\"listing\",\"Lying\",\"itching\",\"athletes\",\"representation\",\"Chevy\",\"humanity\",\"an_island\",\"our_defense\",\"Yu\",\"spaghetti\",\"TTK\",\"witnesses\",\"ministers\",\"liberated\",\"Immortals\",\"Line\",\"polo\",\"Saved\",\"filthy\",\"PSU\",\"migrants\",\"two_weeks\",\"standup\",\"magnum\",\"hardest\",\"David_Johnson\",\"thief\",\"mr\",\"pepe\",\"lecture\",\"Scumbag\",\"cousins\",\"Dank\",\"Cheese\",\"LMAO\",\"Knight\",\"My_heart\",\"casters\",\"day\",\"Big_surprise\",\"September\",\"regulated\",\"flair_checks\",\"knife\",\"remember_reading\",\"tossed\",\"Looking_forward\",\"an_option\",\"accident\",\"GOT_TA\",\"thankfully\",\"Kawhi\",\"main_story\",\"prop\",\"perfect_example\",\"connect\",\"here\",\"money\",\"raised_by\",\"thrive\",\"spammer\",\"smiley_face\",\"seized\",\"agrees\",\"Newman\",\"horrific\",\"complaint\",\"Byron\",\"insults\",\"Scarra\",\"reversed\",\"players\",\"destructive\",\"repaired\",\"motion\",\"questions\",\"osu\",\":_(\",\"Hardy\",\"no_homo\",\"mayo\",\"shipment\",\"reasonably\",\"Except\",\"unpredictable\",\"after_reading\",\"derby\",\"receive\",\"CAPS\",\"Dark_Knight\",\"ourselves\",\"medicare\",\"me_irl\",\"Thinking\",\"found_guilty\",\"zoomed_in\",\"Gays\",\"Department\",\"month_old\",\"deodorant\",\"east_coast\",\"insects\",\"Oregon\",\"douchebags\",\"new\",\"above_average\",\"SHAME\",\"proletariat\",\"trainers\",\"zed\",\"teal\",\"xd\",\"years_old\",\"Granny\",\"tank\",\"PR\",\"learned\",\"passive-aggressive\",\"Braun\",\"instinctively\",\"distances\",\"ABS\",\"Revis\",\"Battlefield\",\"Rather\",\"stripping\",\"kid\",\"Wii\",\"TOR\",\"hinder\",\"insulin\",\"me\",\"Bell\",\"islam\",\"knowledgeable\",\"watchers\",\"next_season\",\"personal_information\",\"best_friend\",\"days_ago\",\"64_tick\",\"lifted\",\"amp\",\"talking_about\",\"Amy_Schumer\",\"Lamar\",\"Whole\",\"Labour\",\"Me_too\",\"automatically_makes\",\"belongings\",\"botnet\",\"lesson\",\"Atlantis\",\"displayed\",\"idk\",\"mid\",\"clog\",\"punched\",\"subsidies\",\"stop_posting\",\"homage\",\"opens_up\",\"rugby\",\"..\",\"redistribute\",\"for_sharing\",\"crap\",\"Master\",\"Katy_Perry\",\"Well_duh\",\"Wan_na\",\"fury\",\"trap\",\"Seahawks_fan\",\"frogs\",\"adapters\",\"bachelors\",\"pull_themselves\",\"associates\",\"complain\",\"compressed\",\"hormonal\",\"too_harsh\",\"laughter\",\"2_minutes\",\"pero\",\"tall\",\"Philly\",\"Billy\",\"hierarchy\",\"fucked_up\",\"take\",\"equipped\",\"Increase\",\"20_years\",\"nerfed\",\"dir\",\"$_500\",\"develop\",\"oppress_women\",\"complete\",\"Baja\",\"MN\",\"World_War\",\"your_inventory\",\"sol\",\".1\",\"pandering\",\"reporting\",\"trashing\",\"Edwards\",\"i7\",\"Janet\",\"hopeless\",\"Quinn\",\"v.\",\"slow\",\"Spotify\",\"R8\",\"cause_autism\",\"leg_day\",\"Cave\",\"24th\",\"4/10\",\"common_knowledge\",\"GUNS\",\"catastrophic\",\"As_someone\",\"hanging_around\",\"hilariously\",\"my_teammates\",\"fewer\",\"fingers_crossed\",\"Dem\",\"struggle\",\"CEO\",\"About_time\",\"rascist\",\"kitchen\",\"[_M\",\"queue\",\"Tron\",\"same_amount\",\"Meg\",\"boosters\",\"Conquest\",\"4th\",\"shills\",\"today\",\"evidently\",\"soooooo\",\"definitions\",\"feat\",\"persecuting\",\"chroma\",\"fireballs\",\"runners\",\"Fund\",\"litter\",\"RNG\",\"Dragic\",\"Killary\",\"IMDB\",\"library\",\"disagrees\",\"spree\",\"most_expensive\",\"deviant\",\"THEY_HAVE\",\"songs\",\"balloons\",\"anger\",\"our_nation\",\"playtime\",\"hate_crime\",\"FUN\",\"funded_by\",\"stunned\",\"phat\",\"legalizing\",\"poutine\",\"anti-cheat\",\"Hannity\",\"astonishing\",\"Kyle\",\"jocks\",\"vice\",\"evasion\",\"Ignorance\",\"HAHA\",\"Sunni\",\"smart_enough\",\"nominated\",\"feathers\",\"Martha\",\"spotlight\",\"Nickelback\",\"taller\",\"wonderful\",\"jesus_christ\",\"proportion\",\"destroyers\",\"couple_hundred\",\"pink\",\"Paying\",\"Bigot\",\"Balor\",\"Every_time\",\"HRC\",\"Panda\",\"stump\",\"4.3\",\"thank\",\"tinfoil_hat\",\"Map\",\"over\",\"Plenty_of\",\"unlocks\",\"tremendously\",\"Yet_another\",\"trillions\",\"an_upvote\",\"standing\",\"randomly\",\"Native_American\",\"Too_bad\",\"fucking_cunt\",\"10_years\",\"fallout_3\",\"swedish\",\"futures\",\"40\",\"HOW_DO\",\"Sergeant\",\"rumour\",\"T8\",\"fists\",\"Question\",\"relevant\",\"narratives\",\"prof\",\"jim\",\"syringe\",\"amaze_me\",\"lollipop\",\"dmg\",\"Karl\",\"in_jail\",\"blue_line\",\"dignity\",\"flipping\",\"chug\",\"Jon_Jones\",\"Star_Trek\",\"operates\",\"PSA_:\",\"differences\",\"80+\",\"embraced\",\"immortality\",\"demo\",\"trying_to\",\"take_responsibility\",\"Halo_5\",\"rented\",\"Society\",\"Suite\",\"harassed\",\"SO_MANY\",\"investigated\",\"Fifa\",\"Tucker\",\"highest\",\"oppose\",\"overreacting\",\"shes\",\"majority_of\",\"etsy\",\"MAKE_AMERICA\",\"01101001\",\"homeless_guy\",\"tight\",\"race_relations\",\"ethics\",\"heart_disease\",\"10K\",\"Cisco\",\"internally\",\"forever\",\"summoning\",\"sailing\",\"youll\",\"edges\",\"Aw\",\"BGH\",\"daddy\",\"Ray_Rice\",\"MEN\",\"im_gon\",\".45\",\"$_1000\",\"Vince_Young\",\"Bogut\",\"motivated_by\",\"2.0\",\"Der\",\"Picard\",\"despite_having\",\"Assault\",\"on_campus\",\"feed\",\"TALK\",\"teeth\",\"mother_fucker\",\"fall\",\"mom\",\":\",\"Citizen\",\"generator\",\"Milner\",\"THEY_'RE\",\"lighting\",\"South_Africa\",\"tons\",\"entire_career\",\"bugs\",\"an_essay\",\"Select\",\"repairs\",\"finger\",\"freaked_out\",\"scream\",\"AGAIN\",\"OpenGL\",\"puck\",\"climb\",\"Daisy\",\"who_owns\",\"C'mon_man\",\"amiright\",\"delusion\",\"Worse_than\",\"frontier\",\"AND_YOU\",\"emphasis_on\",\"plants\",\"releasing\",\"focus_on\",\"Hmm\",\"thyroid\",\"passengers\",\"refuse\",\"16th\",\"destroys\",\"cinematic\",\"HAM\",\"parent\",\"y_u\",\"shit_load\",\"Snoop\",\"coarse\",\"aunt\",\"hates\",\"on_Sundays\",\"collect\",\"Brady\",\"strats\",\"development\",\"condescending\",\"solo\",\"One_day\",\"independent\",\"Naked\",\"you\",\"Model\",\"elbows\",\"Chiefs\",\"turn_signal\",\"either\",\"another_planet\",\"hobbies\",\"JERRY_JERRY\",\"IT\",\"Corp\",\"Panama\",\"italian\",\"oh_yeah\",\"Stuff\",\"reich\",\"YEAH_BUT\",\"App\",\"Freddy\",\"continued\",\"mystery\",\"Sarah_Palin\",\"squirrels\",\"murderous\",\"Empty\",\"Citation_needed\",\"Thresh\",\"Chicks\",\"2-0\",\"council\",\"Kurds\",\"Hidden\",\"made-up\",\"autocorrect\",\"o/\",\"affordable\",\"constant\",\"districts\",\"mis\",\"STRONG\",\"found\",\"walking_dead\",\"ruined\",\"JDM\",\"MRM\",\"doar\",\"RIOT\",\"declaration\",\"Felix\",\"tilts\",\"MRA\",\"Jihad\",\"How_else\",\".5\",\"treating\",\"attacker\",\"(_ie\",\"Until\",\"survive\",\"Chem\",\"spinach\",\"chaotic\",\"voice_acting\",\"pop\",\"confused\",\"hello\",\"getting_paid\",\"Empire\",\"clue\",\"values\",\"flagship\",\"sexually_assaulted\",\"210\",\"secured\",\"Meet\",\"FNAF\",\"hipster\",\"absorbed\",\"Flint\",\"AMERICAN\",\"Im\",\"SICK\",\"remote\",\"^^the\",\"Buffalo\",\"automod\",\"MW\",\"14_year\",\"running\",\"global_economy\",\"in_mysterious\",\"Early_Access\",\"blend\",\"jets\",\"HAVE\",\"Psshh\",\"enhancement\",\"BDSM\",\"Mo\",\"Beating\",\"noone\",\"Billion\",\"spark\",\"Oakland\",\"Kansas_City\",\"misandry\",\"Victory\",\"around_town\",\"festivals\",\"Posting\",\"woo_woo\",\"Whatever_happened\",\"relation\",\"class_act\",\"last_time\",\"matchups\",\"New\",\"WAY\",\"vote_manipulation\",\"divorces\",\"After_watching\",\"hair_color\",\"SC\",\"Breath\",\"last\",\"touchy\",\"LL\",\"Jaina\",\"tutorials\",\"potion\",\"cuddling\",\"For_science\",\"enhanced\",\"communities\",\"winners\",\"batshit_crazy\",\"never_guessed\",\"reddits\",\"was_referring\",\"Pedro\",\"Ca_n't\",\"Spend\",\"Mental\",\"cheeks\",\"Legend\",\"traveling\",\"plane_ticket\",\"cant_handle\",\"integration\",\"Divorce\",\"sensation\",\"cannons\",\"last_few\",\"flyers\",\"hacking\",\"Shot\",\"Hoping\",\"scoring\",\"Sixers\",\"amount\",\"Pffff\",\"federal_government\",\"HALF\",\"Nintendo\",\"twice\",\"snag\",\"spheres\",\"been_able\",\"Magical\",\"path\",\"few_times\",\"Personally\",\"reposts\",\"Sexy\",\"ticket\",\"prostitute\",\"terrible_person\",\"Simple\",\"academy\",\"restoring\",\"born\",\"Clear\",\"brown\",\"inaccurate\",\"gangster\",\"lever\",\"mop\",\"DOWN\",\"smooth\",\"special_snowflake\",\"shoes\",\"1960s\",\"looked_like\",\"few\",\"waive\",\"elder\",\"brute_force\",\"in-depth\",\"gut\",\"planes\",\"DAMAGE\",\"inflation\",\"childish\",\"chord\",\"federal_law\",\"daw\",\"negligence\",\"suburb\",\"WvW\",\"daar\",\"spot\",\"chaos\",\"Better_yet\",\"Fiora\",\"rogue\",\"main_reason\",\"Psssh\",\"handsome\",\"Naw\",\"bold_prediction\",\"Hong_Kong\",\"bind\",\"Pants\",\"throat\",\"sweeping\",\"Romney\",\"PI\",\"slur\",\"eyeball\",\"shutting\",\"Keeper\",\"wrath\",\"pens\",\"acronym\",\"burying\",\"CSI\",\"wells\",\"Any_chance\",\"resorting\",\"amusing\",\"detect\",\"long_ago\",\"Bobby\",\"japanese\",\"sidewalk\",\"Best\",\"critique\",\"Say_what\",\"Nunu\",\"vac\",\"Melania\",\"televised\",\"accuracy\",\"NVIDIA\",\"chargers\",\"clap\",\"0.3\",\"safe\",\"dispose\",\"healthiest\",\"A_GOOD\",\"GTFO\",\"everywhere_else\",\"Call_me\",\"Lucky\",\"oddly\",\"TOOK\",\"rituals\",\"foreskin\",\"mathematically\",\"Predator\",\"Florida\",\"pensions\",\"ruse\",\"feminazis\",\"general_rule\",\"NATION\",\"links\",\"Give_me\",\"instagram\",\"follows\",\"royalties\",\"sunscreen\",\"Liberal\",\"arrival\",\"plentiful\",\"10_feet\",\"loaf\",\"BETTER\",\"combo\",\"buffs\",\"OPINIONS\",\"fir\",\"ancap\",\"some_cases\",\"MacBook\",\"scenes\",\"G_&\",\"bows\",\"silencing\",\"pro-gun\",\"Marijuana\",\"fucking\",\"Nexus_5\",\"gave_us\",\"BMI\",\"downfall\",\"succeeded\",\"CAR\",\"ignoring\",\"vet\",\"Give_him\",\"examples\",\"gon_na\",\"victim\",\"surround\",\"godly\",\"Shots_fired\",\"see_30fps\",\"naked\",\"sisters\",\"tags\",\"enemy_team\",\"loudest\",\"WAS_N'T\",\"geared\",\"Funny_thing\",\"pitches\",\"sync\",\"concur\",\"checkpoint\",\"turkeys\",\"repeat\",\"shadows\",\"CTR\",\"hawaii\",\"scripting\",\"meat\",\"his_legs\",\"electric\",\"accidentally\",\"*\",\"Orthodox\",\"exponentially\",\"Already\",\"cams\",\"our_current\",\"Refs\",\"an_AR-15\",\"invasive\",\".50\",\"Deport\",\"somethings\",\"experiences\",\"gave_birth\",\"covenant\",\"provides\",\"Manny\",\"penguin\",\"weights\",\"Dungeon\",\"meatballs\",\"Tale\",\"cakes\",\"finishing\",\"Che\",\"HER\",\"hispanics\",\"somewhat\",\"videogame\",\"service\",\"nuts\",\"LPT_:\",\"GT3\",\"BURN_THE\",\"Republican_party\",\"salesman\",\"50k\",\"Socialist\",\"resurrect\",\"all_sorts\",\"intro\",\"ni\",\"scrape\",\"sworn\",\"maintained\",\"vanish\",\"perks\",\"Genji\",\"institutional\",\"dire\",\"Celtics\",\"cleans\",\"farming\",\"6+\",\"Cortana\",\"One_word\",\"an_opportunity\",\"social_justice\",\"bigoted\",\"innovating\",\"Alex_Smith\",\"potatoes\",\"cookie_cutter\",\"HATE\",\"jerk_off\",\"expertise\",\"obligations\",\"RANDOM\",\"boomers\",\"Fade\",\"slit\",\"progressive\",\"anche\",\"penetrated\",\"stabs\",\"Landing\",\"color_blind\",\"4/5\",\"harass\",\"showcase\",\"fill\",\"dip\",\"mailing\",\"April\",\"Splinter\",\"effective\",\"LeBlanc\",\"enhancements\",\"lettuce\",\"Am\",\"prosperity\",\"LIKE_IT\",\"hogging\",\"Faith\",\":3\",\"went_through\",\"Alaska\",\"europe\",\"binder\",\"Cross\",\"Nirvana\",\"much_higher\",\"Damn_son\",\"angels\",\"Glad\",\"pacman\",\"i3\",\"Chili\",\"worry\",\"associate\",\"obscure\",\"injury_prone\",\"democratically_elected\",\"melted\",\"snitch\",\"Soooooo\",\"misunderstanding\",\"costing\",\"yah\",\"o_o\",\"much_nicer\",\"QUIT\",\"RUN\",\"WANTED\",\"detail\",\"perspective\",\"Certainly\",\"food\",\"belong_here\",\"pop_culture\",\"solving\",\"curl\",\"TA\",\"an_upstanding\",\"giraffe\",\"People\",\"self_defense\",\"gripe\",\"Gamergate\",\"very_large\",\"TRADE\",\"best_QB\",\"protesting\",\"ahead\",\"downward\",\"TTC\",\"God_damn\",\"concept\",\"Economics\",\"ambient\",\"60hz\",\"Cat\",\"desperation\",\"sincerely_hope\",\"crook\",\"very_quickly\",\"shuttle\",\"PF\",\"foundations\",\"cmd_cmd\",\"nigger\",\"dark_matter\",\"archetype\",\"young_girls\",\"stuff\",\"Irelia\",\"seems_like\",\"3D\",\"banged\",\"Nade\",\"johnson\",\"awkward\",\"Bounty\",\"imagery\",\"carrying\",\"John_Cena\",\"Screw\",\"GTR\",\"Yasuo\",\"earrings\",\"AFAIK\",\"tick\",\"Literally\",\"app\",\"Alliance\",\"owner\",\"Transformers\",\"playable\",\"waited_until\",\"single_target\",\"Wild\",\"hearing\",\"Sand\",\"Trouble\",\"peep\",\"same_sentence\",\"rivals\",\"Kickstarter\",\"64\",\"Sparky\",\"high_five\",\"my_friend\",\"Techies\",\"5_hours\",\"pc_gaming\",\"soul\",\"perception\",\"suitable\",\"entitlement\",\"WITHOUT\",\"sponsor\",\"illegal\",\"sob\",\"snot\",\"Enterprise\",\"hammer\",\"ear\",\"farmer\",\"hot_sauce\",\"his_career\",\"pranks\",\"Poseidon\",\"flop\",\"goddamn_antisemitic\",\"Xbox_360\",\"gypsy\",\"non-white\",\"high_energy\",\"Perkins\",\"lists\",\"Filthy_casuals\",\"decided\",\"WOT\",\"mass_murder\",\"70_%\",\"manipulated\",\"students\",\"ps2\",\"viable\",\"subsequently\",\"mouse\",\"crop\",\"Graphics\",\"commenting_on\",\"App_Store\",\"LOST\",\"configuration\",\"Nazis_were\",\"toilet_paper\",\"OF_MY\",\"preordering\",\"pedos\",\"Erm\",\"goddamned\",\"damned\",\"from_scratch\",\"SEA\",\"whipping\",\"Illinois\",\"BUT_IT\",\"Jade\",\"more_convenient\",\"sum\",\"branding\",\"shooting\",\"GoPro\",\"IS_SO\",\"wasnt\",\"aside_from\",\"formula\",\"traitors\",\"Comedy\",\"Cobra\",\"3-4\",\"slowed_down\",\"Trans\",\"Terrorism\",\"curved\",\"world_wide\",\"Highly\",\"T-Rex\",\"small_loan\",\"sheriff\",\"Jaguars\",\"joe\",\"Ohhh\",\"lined_up\",\"grammer\",\"oder\",\"costume\",\"screwed_up\",\"rhyming\",\"props\",\"She_sounds\",\"front_door\",\"sensors\",\"Heaven_forbid\",\"unneeded\",\"sustained\",\"slave\",\"buy\",\"restrictive\",\"recruit\",\"Veteran\",\"Merkel\",\"brave_enough\",\"expensive\",\"free_throws\",\"scene\",\"hs\",\"WITH_A\",\"cough_*\",\"become_president\",\"8.5\",\"97_%\",\"rocked\",\"aggression\",\"LEGO\",\"smaller\",\"excessive\",\"in_absolutes\",\"detention\",\"Giannis\",\"Lord\",\"citizens\",\"doctors\",\"catered\",\"meats\",\"dismissed\",\"secretary\",\"Who\",\"lesbian\",\"needs\",\"tv_shows\",\"MALE\",\"Rent\",\"telling_me\",\"salary\",\"Technology\",\"u_r\",\"move_speed\",\"juices\",\"privileged\",\"u\",\"Precisely\",\"sanctuary\",\"coolest\",\"Xmas\",\"43\",\"FUCKING\",\"customer\",\"investigating\",\"homosexuality\",\"our_youth\",\"Dolphins\",\"Sharia_law\",\"flagrant\",\"most\",\"Amber\",\"per\",\"most_important\",\"army\",\"scene_where\",\"attackers\",\"Thatcher\",\"some_serious\",\"killing_innocent\",\"Someone_needs\",\"10_million\",\"an_alcoholic\",\"or_anything\",\"typing\",\"Bernie\",\"prequel\",\"TO_MAKE\",\"domestic_violence\",\"indistinguishable_from\",\"Pele\",\"BT\",\"Marines\",\"Wenger\",\"rigging\",\"3k\",\"Bull\",\"at_3am\",\"admission\",\"blaze\",\"saving\",\"Islamic\",\"holders\",\"r_u\",\"Klan\",\"What\",\"poking_fun\",\"Tie\",\"Tis\",\"Katrina\",\"WWII\",\"Fancy\",\"..........\",\"Thrall\",\"Turnbull\",\"Arena\",\"Sacramento\",\"IS_THAT\",\"of_Duty\",\"ideology\",\"mainstream\",\"Hill\",\"be_careful\",\"Better_late\",\"Op\",\"fantastic_idea\",\"treat\",\"kidnap\",\"two_years\",\"cooler_than\",\"200+\",\"barbaric\",\"nd\",\"sloth\",\"flashbacks\",\"control\",\"Version\",\"Inflation\",\"totally_unrelated\",\"JESUS\",\"advertisement\",\"dropped_this\",\"poem\",\"ramen\",\"Piece\",\"no_scope\",\"falling_apart\",\"second_term\",\"pitchers\",\"curvy\",\"remind_us\",\"occurs\",\"Senator\",\"transport\",\"^the\",\"researching\",\"youtube_videos\",\"newspaper\",\"Demo\",\"unfair_advantage\",\"dentist\",\"im\",\"21\",\"TB\",\"stone\",\"consists_of\",\"Scar\",\"unpopular_opinion\",\"cursing\",\"brag\",\"Midwest\",\"Before\",\"identity\",\"technologies\",\"federation\",\"flush\",\"priceless\",\"writers\",\"Umm\",\"underlying\",\"cruisers\",\"trade_deals\",\"lower_prices\",\"structures\",\"resolve\",\"encourages\",\"crucible\",\"115\",\"Little_Mac\",\"Talk\",\"Camp\",\"cartridge\",\"strangers\",\"enemies\",\"sir\",\"brilliant\",\"our_minds\",\"internet_access\",\"veggies\",\"giggle\",\"very_helpful\",\"Hold\",\"get_banned\",\"fucking_disgusting\",\"idiotic\",\"Card\",\"customize\",\"Siege\",\"fuckers\",\"FOR_THE\",\"Lucario\",\"fox\",\"suggestion\",\"20fps\",\"4th_quarter\",\"mounts\",\"korea\",\"shortly_after\",\"moon_landing\",\"compare\",\"combinations\",\"obeying\",\"sexy\",\"optimize\",\"reason\",\"budgets\",\"midfielder\",\"`_`\",\"goods\",\"classless\",\"Fed\",\"ours\",\"fresh_air\",\"notepad\",\"laughed\",\"African_countries\",\"prep\",\"for_daring\",\"LEAVE\",\"reinforces\",\"chores\",\"wondering_if\",\"q\",\"Dubstep\",\"settling\",\"Genius\",\"get\",\"been_proven\",\"singing\",\"Filthy_casual\",\"intervals\",\"Burning\",\"Cosmo\",\"LIGHT\",\"cheats\",\"mas\",\"Freaking\",\"assumes\",\"heal\",\"500+\",\"pic\",\"Right\",\"Drumpf\",\"terrorist_attacks\",\"expenses\",\"billing\",\"weeds\",\"your_resume\",\"resisting\",\"camber\",\"twins\",\"riot\",\"fucked\",\"versatile\",\"sticks\",\"'Cause\",\"bulk\",\"Rupert_Murdoch\",\"PIG\",\"Points\",\"expects\",\"nel\",\"battlefield\",\"oughta\",\"quality_loss\",\"psychedelic\",\"bastion_of\",\"HORRIBLE\",\"oxygen\",\"Saitama\",\"Seahawks\",\"ah_yes\",\"TELL\",\"5th\",\"MIT\",\"10/10_would\",\"no_doubt\",\"russian\",\"trademarked\",\"Pee\",\"tailgate\",\"dimension\",\"larger_than\",\"cooled\",\"senate\",\"paralyzed\",\"Binks\",\"boo_hoo\",\"chips\",\"pre-existing\",\"yogurt\",\"bombshell\",\"Kaine\",\"fakes\",\"Phillies\",\"Some_people\",\"teleports\",\"'you\",\"Rupert\",\"star\",\"KILLING\",\"60_minutes\",\"nutrients\",\"dorm\",\"FX\",\"notch\",\"NY\",\"hard_drive\",\"montages\",\"Bringing\",\"alright_alright\",\"pornography\",\"nade\",\"PlayStation\",\"brigaded\",\"y'all\",\"Nats\",\"DOWNVOTE\",\"an_amateur\",\"election_fraud\",\"kik\",\"ATF\",\"lewis\",\"sloppy\",\"treatments\",\"endgame\",\"portion_of\",\"Indiana_Jones\",\"My_dad\",\"Wise\",\"NWO\",\"super_smart\",\"per_year\",\"Calm_down\",\"Reverse\",\"ITT\",\"extinction\",\"fanatic\",\"ee\",\"warlocks\",\"heaven_forbid\",\"MMOs\",\"Hayden\",\"Founding_Fathers\",\"terror_attacks\",\"Junior\",\"petty\",\"je\",\"kinda_looks\",\"Stupid\",\"annoy\",\"CLOSE\",\"cant_believe\",\"analogy\",\"afloat\",\"pounding\",\"step\",\"250k\",\"Checkmate\",\"Ecuador\",\"adjustment\",\"systemic\",\"SU\",\"bulls\",\"who_wants\",\"sub-reddit\",\"hold_onto\",\"fapping\",\"handouts\",\"a_tad\",\"shoving\",\"averages\",\"top\",\"middle_name\",\"wondering\",\"seated\",\"homelessness\",\"Cadillac\",\"shouting_``\",\"hey\",\"emulator\",\"summit\",\"Fighters\",\"Eye\",\"dust\",\"ends\",\"Finish\",\"tvs\",\"GTX_970\",\"committed_by\",\"findings\",\"yum\",\"Daesh\",\"complexity\",\"philly\",\"KT\",\"Labor\",\"Pearl_Harbor\",\"Quote\",\"imitate\",\"FTP\",\"justice_system\",\"redesign\",\"poster\",\"MR\",\"mentioning\",\"average_person\",\"somewhere\",\"YOU_JUST\",\"Thomas_Jefferson\",\"comedic\",\"meditation\",\"Haven\",\"Centre\",\"flexible\",\"albino\",\"cu\",\"Ryder\",\"met\",\"Who_knows\",\"passenger\",\"said\",\"vague\",\"Monty\",\"Diablo_3\",\"Azir\",\"norwegian\",\"bueno\",\"East\",\"Jo\",\"mass\",\"tanks\",\"super_secret\",\"60_seconds\",\"Not_enough\",\"tagged\",\"small_children\",\"kissing\",\"Oh_wow\",\"amendment\",\"feeding\",\"Mad_Men\",\"conventional\",\"Meh\",\"an_aimbot\",\"Casey\",\"Roof\",\"lessons_from\",\"LIFE\",\"'MURICA\",\"draft_picks\",\"compass\",\"Sagan\",\"Politically\",\"gap_between\",\"2nd_amendment\",\"Quran\",\"cinematic_experience\",\"friendzoned\",\"phenomenal\",\"jagex\",\"aimed_at\",\"larger\",\"youtuber\",\"syntax\",\"catholics\",\"NA_team\",\"arent\",\"privelege\",\"mosquitoes\",\"New_Yorkers\",\"scrubs\",\"internal\",\"Nobody_wants\",\"Emperor\",\"swallowed\",\"fa\",\"allowing\",\"reposting\",\"very_informative\",\"trust_fund\",\"Moon\",\"Maxwell\",\"1989\",\"blonde\",\"takedown\",\"word\",\"professors\",\"FN\",\"bastards\",\"Yikes\",\"erection\",\"Arrow\",\"Hahahahaha\",\"cgi\",\"hate_freedom\",\"Bend\",\"no\",\"THE_FUCK\",\"Pats_fans\",\"thing\",\"Californian\",\"Whitney\",\"overtake\",\"zip\",\"show_'em\",\"40_minutes\",\"pays_off\",\"Being\",\"shifted\",\"go_home\",\"contributed\",\"wake\",\"largely\",\"Prestige\",\"pansexual\",\"Dean\",\"Miata\",\"remade\",\"BAZINGA\",\"ny\",\"Red_Pill\",\"Paging\",\"inappropriate\",\"affect\",\"ages\",\"NOT\",\"Patrol\",\"hands_down\",\"Aryan\",\"interviewed\",\"absence\",\"1-1\",\"never_happened\",\"PATRIARCHY\",\"exceptional\",\"treadmill\",\"tab\",\"Minecraft\",\"authoritarian\",\"pl0x\",\"honour\",\"positions\",\"disavow\",\"financial_crisis\",\"steam\",\"corporations\",\"th\",\"dick\",\"Legendary\",\"god_fearing\",\"fever\",\"prophecy\",\"chamber\",\"chem\",\"begging\",\"reading\",\"BUY\",\"runway\",\"Big\",\"duped\",\"Your_dad\",\"mages\",\"Special\",\"tho\",\".gif\",\"Gronk\",\"commercial\",\"'ve_learned\",\"characters\",\"pro_tip\",\"deserve\",\"begun\",\"SWAG\",\"intervening\",\"screwing_up\",\"purple\",\"jsut\",\"middle_school\",\"school_bus\",\"relative\",\"everywhere\",\"91\",\"Another\",\"MUH\",\"ruined_everything\",\"humorous\",\"Sol\",\"pulled\",\"at_gunpoint\",\"regard\",\"prominent\",\"Slim\",\"penises\",\"Liberals\",\"optic\",\"founding_fathers\",\"HAS_A\",\"Words\",\"counteract\",\"pr\",\"55_%\",\"advance\",\"existed\",\"backbone\",\"pats\",\"Foreign\",\"Rick_Perry\",\"RM\",\"Hi\",\"pimp\",\"buck\",\"kill_themselves\",\"creepers\",\"sound_logic\",\"hesitant\",\"Hue\",\"retires\",\"mag\",\"poles\",\"convert\",\"arctic\",\"WA\",\"politely\",\"slipped\",\"justified\",\"Nutella\",\"assassination\",\"All-Star\",\"Wrath\",\"solves\",\"got_banned\",\"Glenn\",\"Elliott\",\"embarrassing\",\"'The\",\"sub-par\",\"1995\",\"^^\",\"his_wife\",\"nobody_uses\",\"BR\",\"Starbucks\",\"backfire\",\"activist\",\"sentiments\",\"segregated\",\"'M_DAJUAN\",\"minesweeper\",\"yelling\",\"sigh\",\"2-1\",\"rewarding\",\"More\",\"fishy\",\"policies\",\"Nickleback\",\"dj\",\"KD\",\"nerfing\",\"More_proof\",\"acceptance\",\"wider\",\"invaders\",\"DPOY\",\"CIA\",\"try_turning\",\"religious\",\"Additionally\",\"Creepy\",\"really_enjoyed\",\"got_ta\",\"sharper\",\"noises\",\"administration\",\"letting_us\",\"lemon\",\"reads\",\"Free\",\"Zone\",\"germany\",\"completed\",\"groceries\",\"Trials\",\"Matt\",\"Rocket_League\",\"bacon\",\"FUCKIN\",\"Ale\",\"Santa_Claus\",\"preparation\",\"diameter\",\"Surprisingly\",\"Sharp\",\"Wizards\",\"twelve\",\"steroid\",\"repeated\",\"buffed\",\"algo\",\"citations\",\"budget_cuts\",\"fathom\",\"very_reliable\",\"Reed\",\"Castro\",\"doesnt_exist\",\"15th\",\"fetishes\",\"subsidizing\",\"pan\",\"overrated\",\"Next\",\"okay\",\"soda\",\"tf2\",\"gold_standard\",\"needed\",\"totaly\",\"developers\",\"not_necessarily\",\"natural_selection\",\"two_separate\",\"Warner\",\"bb\",\"feminists\",\"missing\",\"handout\",\"invent\",\"suspect\",\"lurking\",\"center\",\"Here_comes\",\"enjoyable\",\"Reynad\",\"JV\",\"entire_thread\",\"THATS\",\"Religion\",\"Nation\",\"holy_crap\",\"more_effective\",\"30s\",\"petroleum\",\"10/10\",\"gaem\",\"harvesting\",\"which_means\",\"Stanley\",\"their_minds\",\"fatal\",\"cammer\",\"wing\",\"cannon\",\"Sting\",\"martyr\",\"pouring\",\"came_back\",\"newborn\",\"GTX\",\"R.\",\"tossing\",\"Kids_these\",\"TNG\",\"pine\",\"Wrong\",\"public_schools\",\"24_hour\",\"auto\",\"NATURAL\",\"lobbied\",\"evaluation\",\"Marine\",\"cause\",\"warmup\",\"Ducks\",\"af\",\"bezel\",\"mph\",\"mixes\",\"suspense\",\"rito\",\"militaries\",\"feminist\",\"user_friendly\",\"ships\",\"TRUMP_First\",\"niggas\",\"Shotgun\",\"Kanye\",\"Hah\",\"everything\",\"Castle\",\"male\",\"3-5\",\"beautiful_woman\",\"Hangouts\",\"CNN\",\"grainy\",\"multiple\",\"consumed\",\"TRASH\",\"substance\",\"insightful\",\"developed_countries\",\"2007\",\"Yup\",\"Pokemon\",\"an_STD\",\"shoulders\",\"explosive\",\"Crystal\",\"Tagged_as\",\"Cancer\",\"peasants\",\"insist_on\",\"laundry\",\"holes\",\"coaching\",\"injections\",\"FOR_ALL\",\"prescription\",\"Rights\",\"flu\",\"what_constitutes\",\"Atletico\",\"Baptist\",\"Pablo\",\"Police\",\"dashboard\",\"Downvoted_for\",\"gentrification\",\"fuckton\",\"mega\",\"wood\",\"Bud_Light\",\"sooo_much\",\"phrasing\",\"Constitution\",\"clones\",\"Sexual\",\"traitor\",\"millennials\",\"lives\",\"Bing\",\"ayy_lmao\",\"Li\",\"Even_if\",\"DMT\",\"quarterly\",\"titty\",\"mistaking\",\"full_tank\",\"Obama\",\"Hate\",\"2.7\",\"someone_else\",\"wealthy\",\"PU\",\"comedies\",\"butter\",\"Tony_Romo\",\"Spaghetti\",\"every_penny\",\"cocks\",\"divisive\",\"on_behalf\",\"amazed_at\",\"Kai\",\"Pro_tip\",\"restrictions\",\"Jumping\",\"Strong\",\"much_harder\",\"crowd\",\"Legally\",\"angles\",\"killstreaks\",\"ignored\",\"shaman\",\"shotgun\",\"fetuses\",\"highlighting\",\"dispenser\",\"Raider\",\"nowadays\",\"stinking\",\"conspiracy_theorists\",\"lp\",\"Talking\",\"Roman_Reigns\",\"awake\",\"static\",\"exhausting\",\"compromised\",\"homophobic\",\"Havent\",\"inevitable\",\"Relax\",\"arrows\"],\"shape\":[5000],\"dtype\":\"object\",\"order\":\"little\"}]]}}},\"view\":{\"type\":\"object\",\"name\":\"CDSView\",\"id\":\"p1083\",\"attributes\":{\"filter\":{\"type\":\"object\",\"name\":\"AllIndices\",\"id\":\"p1084\"}}},\"glyph\":{\"type\":\"object\",\"name\":\"Text\",\"id\":\"p1079\",\"attributes\":{\"x\":{\"type\":\"field\",\"field\":\"x\"},\"y\":{\"type\":\"field\",\"field\":\"y\"},\"text\":{\"type\":\"field\",\"field\":\"text\"},\"text_color\":{\"type\":\"value\",\"value\":\"black\"}}},\"nonselection_glyph\":{\"type\":\"object\",\"name\":\"Text\",\"id\":\"p1080\",\"attributes\":{\"x\":{\"type\":\"field\",\"field\":\"x\"},\"y\":{\"type\":\"field\",\"field\":\"y\"},\"text\":{\"type\":\"field\",\"field\":\"text\"},\"text_color\":{\"type\":\"value\",\"value\":\"black\"},\"text_alpha\":{\"type\":\"value\",\"value\":0.1}}},\"muted_glyph\":{\"type\":\"object\",\"name\":\"Text\",\"id\":\"p1081\",\"attributes\":{\"x\":{\"type\":\"field\",\"field\":\"x\"},\"y\":{\"type\":\"field\",\"field\":\"y\"},\"text\":{\"type\":\"field\",\"field\":\"text\"},\"text_color\":{\"type\":\"value\",\"value\":\"black\"},\"text_alpha\":{\"type\":\"value\",\"value\":0.2}}}}}],\"toolbar\":{\"type\":\"object\",\"name\":\"Toolbar\",\"id\":\"p1052\",\"attributes\":{\"tools\":[{\"type\":\"object\",\"name\":\"PanTool\",\"id\":\"p1065\"},{\"type\":\"object\",\"name\":\"WheelZoomTool\",\"id\":\"p1066\",\"attributes\":{\"renderers\":\"auto\"}},{\"type\":\"object\",\"name\":\"BoxZoomTool\",\"id\":\"p1067\",\"attributes\":{\"overlay\":{\"type\":\"object\",\"name\":\"BoxAnnotation\",\"id\":\"p1068\",\"attributes\":{\"syncable\":false,\"level\":\"overlay\",\"visible\":false,\"left\":{\"type\":\"number\",\"value\":\"nan\"},\"right\":{\"type\":\"number\",\"value\":\"nan\"},\"top\":{\"type\":\"number\",\"value\":\"nan\"},\"bottom\":{\"type\":\"number\",\"value\":\"nan\"},\"left_units\":\"canvas\",\"right_units\":\"canvas\",\"top_units\":\"canvas\",\"bottom_units\":\"canvas\",\"line_color\":\"black\",\"line_alpha\":1.0,\"line_width\":2,\"line_dash\":[4,4],\"fill_color\":\"lightgrey\",\"fill_alpha\":0.5}}}},{\"type\":\"object\",\"name\":\"SaveTool\",\"id\":\"p1073\"},{\"type\":\"object\",\"name\":\"ResetTool\",\"id\":\"p1074\"},{\"type\":\"object\",\"name\":\"HelpTool\",\"id\":\"p1075\"}]}},\"left\":[{\"type\":\"object\",\"name\":\"LinearAxis\",\"id\":\"p1060\",\"attributes\":{\"ticker\":{\"type\":\"object\",\"name\":\"BasicTicker\",\"id\":\"p1061\",\"attributes\":{\"mantissas\":[1,2,5]}},\"formatter\":{\"type\":\"object\",\"name\":\"BasicTickFormatter\",\"id\":\"p1062\"},\"major_label_policy\":{\"type\":\"object\",\"name\":\"AllLabels\",\"id\":\"p1063\"}}}],\"below\":[{\"type\":\"object\",\"name\":\"LinearAxis\",\"id\":\"p1055\",\"attributes\":{\"ticker\":{\"type\":\"object\",\"name\":\"BasicTicker\",\"id\":\"p1056\",\"attributes\":{\"mantissas\":[1,2,5]}},\"formatter\":{\"type\":\"object\",\"name\":\"BasicTickFormatter\",\"id\":\"p1057\"},\"major_label_policy\":{\"type\":\"object\",\"name\":\"AllLabels\",\"id\":\"p1058\"}}}],\"center\":[{\"type\":\"object\",\"name\":\"Grid\",\"id\":\"p1059\",\"attributes\":{\"axis\":{\"id\":\"p1055\"}}},{\"type\":\"object\",\"name\":\"Grid\",\"id\":\"p1064\",\"attributes\":{\"dimension\":1,\"axis\":{\"id\":\"p1060\"}}}]}}]}};\n",
              "  const render_items = [{\"docid\":\"e073b8d0-72b5-4b02-9fc7-f03543b4e2c7\",\"roots\":{\"p1044\":\"e7dc3ec4-7021-4ccb-ba9a-2498190fc617\"},\"root_ids\":[\"p1044\"]}];\n",
              "  root.Bokeh.embed.embed_items_notebook(docs_json, render_items);\n",
              "  }\n",
              "  if (root.Bokeh !== undefined) {\n",
              "    embed_document(root);\n",
              "  } else {\n",
              "    let attempts = 0;\n",
              "    const timer = setInterval(function(root) {\n",
              "      if (root.Bokeh !== undefined) {\n",
              "        clearInterval(timer);\n",
              "        embed_document(root);\n",
              "      } else {\n",
              "        attempts++;\n",
              "        if (attempts > 100) {\n",
              "          clearInterval(timer);\n",
              "          console.log(\"Bokeh: ERROR: Unable to run BokehJS code because BokehJS library is missing\");\n",
              "        }\n",
              "      }\n",
              "    }, 10, root)\n",
              "  }\n",
              "})(window);"
            ],
            "application/vnd.bokehjs_exec.v0+json": ""
          },
          "metadata": {
            "application/vnd.bokehjs_exec.v0+json": {
              "id": "p1044"
            }
          }
        }
      ]
    },
    {
      "cell_type": "markdown",
      "source": [
        "# Start LSTM architecture with these initial embeddings before BERT\n"
      ],
      "metadata": {
        "id": "fIbme868woHt"
      }
    },
    {
      "cell_type": "markdown",
      "source": [
        "# Need to create embeddings matrix for LSTM\n"
      ],
      "metadata": {
        "id": "5AfbFAoaz39X"
      }
    },
    {
      "cell_type": "code",
      "source": [
        "train_bal.dropna(inplace=True)"
      ],
      "metadata": {
        "id": "iqVkwcnsv8pV"
      },
      "execution_count": 52,
      "outputs": []
    },
    {
      "cell_type": "code",
      "source": [
        "train_bal.shape[0]"
      ],
      "metadata": {
        "id": "nwXq1Lorv_5m",
        "outputId": "8daff669-b240-451e-949d-32daaade4e02",
        "colab": {
          "base_uri": "https://localhost:8080/"
        }
      },
      "execution_count": 53,
      "outputs": [
        {
          "output_type": "execute_result",
          "data": {
            "text/plain": [
              "1010826"
            ]
          },
          "metadata": {},
          "execution_count": 53
        }
      ]
    },
    {
      "cell_type": "code",
      "source": [
        "train_bal.tail(5)"
      ],
      "metadata": {
        "id": "rayjb8TvwG8R",
        "outputId": "3f968f57-99fe-4f16-82f1-ffc9a2c2d68e",
        "colab": {
          "base_uri": "https://localhost:8080/",
          "height": 206
        }
      },
      "execution_count": 90,
      "outputs": [
        {
          "output_type": "execute_result",
          "data": {
            "text/plain": [
              "         label                                            comment  \\\n",
              "1010821      1  I'm sure that Iran and N. Korea have the techn...   \n",
              "1010822      1                 whatever you do, don't vote green!   \n",
              "1010823      1  Perhaps this is an atheist conspiracy to make ...   \n",
              "1010824      1  The Slavs got their own country - it is called...   \n",
              "1010825      1  values, as in capitalism .. there is good mone...   \n",
              "\n",
              "                 author   subreddit  score  ups  downs     date  \\\n",
              "1010821       TwarkMain  reddit.com      2    2      0  2009-04   \n",
              "1010822        BCHarvey     climate      1    1      0  2009-05   \n",
              "1010823  rebelcommander     atheism      1    1      0  2009-01   \n",
              "1010824           catsi   worldnews      1    1      0  2009-01   \n",
              "1010825        frogking    politics      2    2      0  2009-01   \n",
              "\n",
              "                 created_utc  \\\n",
              "1010821  2009-04-25 00:47:52   \n",
              "1010822  2009-05-14 22:27:40   \n",
              "1010823  2009-01-11 00:22:57   \n",
              "1010824  2009-01-23 21:12:49   \n",
              "1010825  2009-01-24 06:20:14   \n",
              "\n",
              "                                            parent_comment  \n",
              "1010821  No one is calling this an engineered pathogen,...  \n",
              "1010822  In a move typical of their recent do-nothing a...  \n",
              "1010823  Screw the Disabled--I've got to get to Church ...  \n",
              "1010824  I've always been unsettled by that. I hear a l...  \n",
              "1010825  Why do the people who make our laws seem unabl...  "
            ],
            "text/html": [
              "\n",
              "  <div id=\"df-033edd3b-9cf1-4b4a-9640-2bb1cbc34c5b\" class=\"colab-df-container\">\n",
              "    <div>\n",
              "<style scoped>\n",
              "    .dataframe tbody tr th:only-of-type {\n",
              "        vertical-align: middle;\n",
              "    }\n",
              "\n",
              "    .dataframe tbody tr th {\n",
              "        vertical-align: top;\n",
              "    }\n",
              "\n",
              "    .dataframe thead th {\n",
              "        text-align: right;\n",
              "    }\n",
              "</style>\n",
              "<table border=\"1\" class=\"dataframe\">\n",
              "  <thead>\n",
              "    <tr style=\"text-align: right;\">\n",
              "      <th></th>\n",
              "      <th>label</th>\n",
              "      <th>comment</th>\n",
              "      <th>author</th>\n",
              "      <th>subreddit</th>\n",
              "      <th>score</th>\n",
              "      <th>ups</th>\n",
              "      <th>downs</th>\n",
              "      <th>date</th>\n",
              "      <th>created_utc</th>\n",
              "      <th>parent_comment</th>\n",
              "    </tr>\n",
              "  </thead>\n",
              "  <tbody>\n",
              "    <tr>\n",
              "      <th>1010821</th>\n",
              "      <td>1</td>\n",
              "      <td>I'm sure that Iran and N. Korea have the techn...</td>\n",
              "      <td>TwarkMain</td>\n",
              "      <td>reddit.com</td>\n",
              "      <td>2</td>\n",
              "      <td>2</td>\n",
              "      <td>0</td>\n",
              "      <td>2009-04</td>\n",
              "      <td>2009-04-25 00:47:52</td>\n",
              "      <td>No one is calling this an engineered pathogen,...</td>\n",
              "    </tr>\n",
              "    <tr>\n",
              "      <th>1010822</th>\n",
              "      <td>1</td>\n",
              "      <td>whatever you do, don't vote green!</td>\n",
              "      <td>BCHarvey</td>\n",
              "      <td>climate</td>\n",
              "      <td>1</td>\n",
              "      <td>1</td>\n",
              "      <td>0</td>\n",
              "      <td>2009-05</td>\n",
              "      <td>2009-05-14 22:27:40</td>\n",
              "      <td>In a move typical of their recent do-nothing a...</td>\n",
              "    </tr>\n",
              "    <tr>\n",
              "      <th>1010823</th>\n",
              "      <td>1</td>\n",
              "      <td>Perhaps this is an atheist conspiracy to make ...</td>\n",
              "      <td>rebelcommander</td>\n",
              "      <td>atheism</td>\n",
              "      <td>1</td>\n",
              "      <td>1</td>\n",
              "      <td>0</td>\n",
              "      <td>2009-01</td>\n",
              "      <td>2009-01-11 00:22:57</td>\n",
              "      <td>Screw the Disabled--I've got to get to Church ...</td>\n",
              "    </tr>\n",
              "    <tr>\n",
              "      <th>1010824</th>\n",
              "      <td>1</td>\n",
              "      <td>The Slavs got their own country - it is called...</td>\n",
              "      <td>catsi</td>\n",
              "      <td>worldnews</td>\n",
              "      <td>1</td>\n",
              "      <td>1</td>\n",
              "      <td>0</td>\n",
              "      <td>2009-01</td>\n",
              "      <td>2009-01-23 21:12:49</td>\n",
              "      <td>I've always been unsettled by that. I hear a l...</td>\n",
              "    </tr>\n",
              "    <tr>\n",
              "      <th>1010825</th>\n",
              "      <td>1</td>\n",
              "      <td>values, as in capitalism .. there is good mone...</td>\n",
              "      <td>frogking</td>\n",
              "      <td>politics</td>\n",
              "      <td>2</td>\n",
              "      <td>2</td>\n",
              "      <td>0</td>\n",
              "      <td>2009-01</td>\n",
              "      <td>2009-01-24 06:20:14</td>\n",
              "      <td>Why do the people who make our laws seem unabl...</td>\n",
              "    </tr>\n",
              "  </tbody>\n",
              "</table>\n",
              "</div>\n",
              "    <div class=\"colab-df-buttons\">\n",
              "\n",
              "  <div class=\"colab-df-container\">\n",
              "    <button class=\"colab-df-convert\" onclick=\"convertToInteractive('df-033edd3b-9cf1-4b4a-9640-2bb1cbc34c5b')\"\n",
              "            title=\"Convert this dataframe to an interactive table.\"\n",
              "            style=\"display:none;\">\n",
              "\n",
              "  <svg xmlns=\"http://www.w3.org/2000/svg\" height=\"24px\" viewBox=\"0 -960 960 960\">\n",
              "    <path d=\"M120-120v-720h720v720H120Zm60-500h600v-160H180v160Zm220 220h160v-160H400v160Zm0 220h160v-160H400v160ZM180-400h160v-160H180v160Zm440 0h160v-160H620v160ZM180-180h160v-160H180v160Zm440 0h160v-160H620v160Z\"/>\n",
              "  </svg>\n",
              "    </button>\n",
              "\n",
              "  <style>\n",
              "    .colab-df-container {\n",
              "      display:flex;\n",
              "      gap: 12px;\n",
              "    }\n",
              "\n",
              "    .colab-df-convert {\n",
              "      background-color: #E8F0FE;\n",
              "      border: none;\n",
              "      border-radius: 50%;\n",
              "      cursor: pointer;\n",
              "      display: none;\n",
              "      fill: #1967D2;\n",
              "      height: 32px;\n",
              "      padding: 0 0 0 0;\n",
              "      width: 32px;\n",
              "    }\n",
              "\n",
              "    .colab-df-convert:hover {\n",
              "      background-color: #E2EBFA;\n",
              "      box-shadow: 0px 1px 2px rgba(60, 64, 67, 0.3), 0px 1px 3px 1px rgba(60, 64, 67, 0.15);\n",
              "      fill: #174EA6;\n",
              "    }\n",
              "\n",
              "    .colab-df-buttons div {\n",
              "      margin-bottom: 4px;\n",
              "    }\n",
              "\n",
              "    [theme=dark] .colab-df-convert {\n",
              "      background-color: #3B4455;\n",
              "      fill: #D2E3FC;\n",
              "    }\n",
              "\n",
              "    [theme=dark] .colab-df-convert:hover {\n",
              "      background-color: #434B5C;\n",
              "      box-shadow: 0px 1px 3px 1px rgba(0, 0, 0, 0.15);\n",
              "      filter: drop-shadow(0px 1px 2px rgba(0, 0, 0, 0.3));\n",
              "      fill: #FFFFFF;\n",
              "    }\n",
              "  </style>\n",
              "\n",
              "    <script>\n",
              "      const buttonEl =\n",
              "        document.querySelector('#df-033edd3b-9cf1-4b4a-9640-2bb1cbc34c5b button.colab-df-convert');\n",
              "      buttonEl.style.display =\n",
              "        google.colab.kernel.accessAllowed ? 'block' : 'none';\n",
              "\n",
              "      async function convertToInteractive(key) {\n",
              "        const element = document.querySelector('#df-033edd3b-9cf1-4b4a-9640-2bb1cbc34c5b');\n",
              "        const dataTable =\n",
              "          await google.colab.kernel.invokeFunction('convertToInteractive',\n",
              "                                                    [key], {});\n",
              "        if (!dataTable) return;\n",
              "\n",
              "        const docLinkHtml = 'Like what you see? Visit the ' +\n",
              "          '<a target=\"_blank\" href=https://colab.research.google.com/notebooks/data_table.ipynb>data table notebook</a>'\n",
              "          + ' to learn more about interactive tables.';\n",
              "        element.innerHTML = '';\n",
              "        dataTable['output_type'] = 'display_data';\n",
              "        await google.colab.output.renderOutput(dataTable, element);\n",
              "        const docLink = document.createElement('div');\n",
              "        docLink.innerHTML = docLinkHtml;\n",
              "        element.appendChild(docLink);\n",
              "      }\n",
              "    </script>\n",
              "  </div>\n",
              "\n",
              "\n",
              "<div id=\"df-dfe72791-46f2-42fd-8671-fbf757ffbd97\">\n",
              "  <button class=\"colab-df-quickchart\" onclick=\"quickchart('df-dfe72791-46f2-42fd-8671-fbf757ffbd97')\"\n",
              "            title=\"Suggest charts\"\n",
              "            style=\"display:none;\">\n",
              "\n",
              "<svg xmlns=\"http://www.w3.org/2000/svg\" height=\"24px\"viewBox=\"0 0 24 24\"\n",
              "     width=\"24px\">\n",
              "    <g>\n",
              "        <path d=\"M19 3H5c-1.1 0-2 .9-2 2v14c0 1.1.9 2 2 2h14c1.1 0 2-.9 2-2V5c0-1.1-.9-2-2-2zM9 17H7v-7h2v7zm4 0h-2V7h2v10zm4 0h-2v-4h2v4z\"/>\n",
              "    </g>\n",
              "</svg>\n",
              "  </button>\n",
              "\n",
              "<style>\n",
              "  .colab-df-quickchart {\n",
              "      --bg-color: #E8F0FE;\n",
              "      --fill-color: #1967D2;\n",
              "      --hover-bg-color: #E2EBFA;\n",
              "      --hover-fill-color: #174EA6;\n",
              "      --disabled-fill-color: #AAA;\n",
              "      --disabled-bg-color: #DDD;\n",
              "  }\n",
              "\n",
              "  [theme=dark] .colab-df-quickchart {\n",
              "      --bg-color: #3B4455;\n",
              "      --fill-color: #D2E3FC;\n",
              "      --hover-bg-color: #434B5C;\n",
              "      --hover-fill-color: #FFFFFF;\n",
              "      --disabled-bg-color: #3B4455;\n",
              "      --disabled-fill-color: #666;\n",
              "  }\n",
              "\n",
              "  .colab-df-quickchart {\n",
              "    background-color: var(--bg-color);\n",
              "    border: none;\n",
              "    border-radius: 50%;\n",
              "    cursor: pointer;\n",
              "    display: none;\n",
              "    fill: var(--fill-color);\n",
              "    height: 32px;\n",
              "    padding: 0;\n",
              "    width: 32px;\n",
              "  }\n",
              "\n",
              "  .colab-df-quickchart:hover {\n",
              "    background-color: var(--hover-bg-color);\n",
              "    box-shadow: 0 1px 2px rgba(60, 64, 67, 0.3), 0 1px 3px 1px rgba(60, 64, 67, 0.15);\n",
              "    fill: var(--button-hover-fill-color);\n",
              "  }\n",
              "\n",
              "  .colab-df-quickchart-complete:disabled,\n",
              "  .colab-df-quickchart-complete:disabled:hover {\n",
              "    background-color: var(--disabled-bg-color);\n",
              "    fill: var(--disabled-fill-color);\n",
              "    box-shadow: none;\n",
              "  }\n",
              "\n",
              "  .colab-df-spinner {\n",
              "    border: 2px solid var(--fill-color);\n",
              "    border-color: transparent;\n",
              "    border-bottom-color: var(--fill-color);\n",
              "    animation:\n",
              "      spin 1s steps(1) infinite;\n",
              "  }\n",
              "\n",
              "  @keyframes spin {\n",
              "    0% {\n",
              "      border-color: transparent;\n",
              "      border-bottom-color: var(--fill-color);\n",
              "      border-left-color: var(--fill-color);\n",
              "    }\n",
              "    20% {\n",
              "      border-color: transparent;\n",
              "      border-left-color: var(--fill-color);\n",
              "      border-top-color: var(--fill-color);\n",
              "    }\n",
              "    30% {\n",
              "      border-color: transparent;\n",
              "      border-left-color: var(--fill-color);\n",
              "      border-top-color: var(--fill-color);\n",
              "      border-right-color: var(--fill-color);\n",
              "    }\n",
              "    40% {\n",
              "      border-color: transparent;\n",
              "      border-right-color: var(--fill-color);\n",
              "      border-top-color: var(--fill-color);\n",
              "    }\n",
              "    60% {\n",
              "      border-color: transparent;\n",
              "      border-right-color: var(--fill-color);\n",
              "    }\n",
              "    80% {\n",
              "      border-color: transparent;\n",
              "      border-right-color: var(--fill-color);\n",
              "      border-bottom-color: var(--fill-color);\n",
              "    }\n",
              "    90% {\n",
              "      border-color: transparent;\n",
              "      border-bottom-color: var(--fill-color);\n",
              "    }\n",
              "  }\n",
              "</style>\n",
              "\n",
              "  <script>\n",
              "    async function quickchart(key) {\n",
              "      const quickchartButtonEl =\n",
              "        document.querySelector('#' + key + ' button');\n",
              "      quickchartButtonEl.disabled = true;  // To prevent multiple clicks.\n",
              "      quickchartButtonEl.classList.add('colab-df-spinner');\n",
              "      try {\n",
              "        const charts = await google.colab.kernel.invokeFunction(\n",
              "            'suggestCharts', [key], {});\n",
              "      } catch (error) {\n",
              "        console.error('Error during call to suggestCharts:', error);\n",
              "      }\n",
              "      quickchartButtonEl.classList.remove('colab-df-spinner');\n",
              "      quickchartButtonEl.classList.add('colab-df-quickchart-complete');\n",
              "    }\n",
              "    (() => {\n",
              "      let quickchartButtonEl =\n",
              "        document.querySelector('#df-dfe72791-46f2-42fd-8671-fbf757ffbd97 button');\n",
              "      quickchartButtonEl.style.display =\n",
              "        google.colab.kernel.accessAllowed ? 'block' : 'none';\n",
              "    })();\n",
              "  </script>\n",
              "</div>\n",
              "\n",
              "    </div>\n",
              "  </div>\n"
            ]
          },
          "metadata": {},
          "execution_count": 90
        }
      ]
    },
    {
      "cell_type": "code",
      "source": [
        "from sklearn.model_selection import train_test_split\n",
        "# split the dataset into 60% training and 40% validation and test sets\n",
        "train_df, val_test_df = train_test_split(train_bal, test_size=0.4, random_state=42)\n",
        "\n",
        "# split the 40% into half validation and half test sets\n",
        "val_df, test_df = train_test_split(val_test_df, test_size=0.5, random_state=42)"
      ],
      "metadata": {
        "id": "yqMoDkrHvk28"
      },
      "execution_count": 78,
      "outputs": []
    },
    {
      "cell_type": "code",
      "source": [
        "X_train = train_df['comment']\n",
        "y_train = train_df['label']"
      ],
      "metadata": {
        "id": "ukeBZF6V6O5z"
      },
      "execution_count": 127,
      "outputs": []
    },
    {
      "cell_type": "code",
      "source": [
        "word2vec = Word2Vec.load(\"/content/drive/MyDrive/word2vec.model\")\n"
      ],
      "metadata": {
        "id": "nVAx8QTXwt9Q"
      },
      "execution_count": 79,
      "outputs": []
    },
    {
      "cell_type": "code",
      "source": [
        "#extracting pretrained weights for embedding layer using word2vec model\n",
        "word_vectors = word2vec.wv\n"
      ],
      "metadata": {
        "id": "gQS9mBFjxtCe"
      },
      "execution_count": 121,
      "outputs": []
    },
    {
      "cell_type": "code",
      "source": [
        "vector_size = model.vector_size\n",
        "vector_size"
      ],
      "metadata": {
        "id": "tSbgAa1t0g42",
        "outputId": "4a01a1c3-a664-482e-94e0-3e130fb1e4e7",
        "colab": {
          "base_uri": "https://localhost:8080/"
        }
      },
      "execution_count": 122,
      "outputs": [
        {
          "output_type": "execute_result",
          "data": {
            "text/plain": [
              "150"
            ]
          },
          "metadata": {},
          "execution_count": 122
        }
      ]
    },
    {
      "cell_type": "code",
      "source": [
        "#inititlze embeddings matrix\n",
        "import numpy as np\n",
        "embedding_matrix = np.zeros((word_size, vector_size))"
      ],
      "metadata": {
        "id": "8U6XoI0q0wT3"
      },
      "execution_count": 123,
      "outputs": []
    },
    {
      "cell_type": "code",
      "source": [
        "#fill embeddings matrix for LSTM with tensor flow : each row should correspond to a word\n",
        "for word, i in word_index.items():\n",
        "    if word in word_vectors:\n",
        "        embedding_matrix[i] = word_vectors[word]\n"
      ],
      "metadata": {
        "id": "55tO0Z86yCap"
      },
      "execution_count": 124,
      "outputs": []
    },
    {
      "cell_type": "code",
      "source": [
        "embedding_df = pd.DataFrame(embedding_matrix)"
      ],
      "metadata": {
        "id": "0I_RICV31eSm"
      },
      "execution_count": 125,
      "outputs": []
    },
    {
      "cell_type": "code",
      "source": [
        "embedding_df.tail(5)"
      ],
      "metadata": {
        "id": "ABBkxiZf1zZg",
        "outputId": "07af1393-4167-4044-c228-ab86ff48bdd3",
        "colab": {
          "base_uri": "https://localhost:8080/",
          "height": 235
        }
      },
      "execution_count": 126,
      "outputs": [
        {
          "output_type": "execute_result",
          "data": {
            "text/plain": [
              "        0    1    2    3    4    5    6    7    8    9    ...  140  141  142  \\\n",
              "284485  0.0  0.0  0.0  0.0  0.0  0.0  0.0  0.0  0.0  0.0  ...  0.0  0.0  0.0   \n",
              "284486  0.0  0.0  0.0  0.0  0.0  0.0  0.0  0.0  0.0  0.0  ...  0.0  0.0  0.0   \n",
              "284487  0.0  0.0  0.0  0.0  0.0  0.0  0.0  0.0  0.0  0.0  ...  0.0  0.0  0.0   \n",
              "284488  0.0  0.0  0.0  0.0  0.0  0.0  0.0  0.0  0.0  0.0  ...  0.0  0.0  0.0   \n",
              "284489  0.0  0.0  0.0  0.0  0.0  0.0  0.0  0.0  0.0  0.0  ...  0.0  0.0  0.0   \n",
              "\n",
              "        143  144  145  146  147  148  149  \n",
              "284485  0.0  0.0  0.0  0.0  0.0  0.0  0.0  \n",
              "284486  0.0  0.0  0.0  0.0  0.0  0.0  0.0  \n",
              "284487  0.0  0.0  0.0  0.0  0.0  0.0  0.0  \n",
              "284488  0.0  0.0  0.0  0.0  0.0  0.0  0.0  \n",
              "284489  0.0  0.0  0.0  0.0  0.0  0.0  0.0  \n",
              "\n",
              "[5 rows x 150 columns]"
            ],
            "text/html": [
              "\n",
              "  <div id=\"df-4135094e-dc53-4146-8e7e-16c46e246c7d\" class=\"colab-df-container\">\n",
              "    <div>\n",
              "<style scoped>\n",
              "    .dataframe tbody tr th:only-of-type {\n",
              "        vertical-align: middle;\n",
              "    }\n",
              "\n",
              "    .dataframe tbody tr th {\n",
              "        vertical-align: top;\n",
              "    }\n",
              "\n",
              "    .dataframe thead th {\n",
              "        text-align: right;\n",
              "    }\n",
              "</style>\n",
              "<table border=\"1\" class=\"dataframe\">\n",
              "  <thead>\n",
              "    <tr style=\"text-align: right;\">\n",
              "      <th></th>\n",
              "      <th>0</th>\n",
              "      <th>1</th>\n",
              "      <th>2</th>\n",
              "      <th>3</th>\n",
              "      <th>4</th>\n",
              "      <th>5</th>\n",
              "      <th>6</th>\n",
              "      <th>7</th>\n",
              "      <th>8</th>\n",
              "      <th>9</th>\n",
              "      <th>...</th>\n",
              "      <th>140</th>\n",
              "      <th>141</th>\n",
              "      <th>142</th>\n",
              "      <th>143</th>\n",
              "      <th>144</th>\n",
              "      <th>145</th>\n",
              "      <th>146</th>\n",
              "      <th>147</th>\n",
              "      <th>148</th>\n",
              "      <th>149</th>\n",
              "    </tr>\n",
              "  </thead>\n",
              "  <tbody>\n",
              "    <tr>\n",
              "      <th>284485</th>\n",
              "      <td>0.0</td>\n",
              "      <td>0.0</td>\n",
              "      <td>0.0</td>\n",
              "      <td>0.0</td>\n",
              "      <td>0.0</td>\n",
              "      <td>0.0</td>\n",
              "      <td>0.0</td>\n",
              "      <td>0.0</td>\n",
              "      <td>0.0</td>\n",
              "      <td>0.0</td>\n",
              "      <td>...</td>\n",
              "      <td>0.0</td>\n",
              "      <td>0.0</td>\n",
              "      <td>0.0</td>\n",
              "      <td>0.0</td>\n",
              "      <td>0.0</td>\n",
              "      <td>0.0</td>\n",
              "      <td>0.0</td>\n",
              "      <td>0.0</td>\n",
              "      <td>0.0</td>\n",
              "      <td>0.0</td>\n",
              "    </tr>\n",
              "    <tr>\n",
              "      <th>284486</th>\n",
              "      <td>0.0</td>\n",
              "      <td>0.0</td>\n",
              "      <td>0.0</td>\n",
              "      <td>0.0</td>\n",
              "      <td>0.0</td>\n",
              "      <td>0.0</td>\n",
              "      <td>0.0</td>\n",
              "      <td>0.0</td>\n",
              "      <td>0.0</td>\n",
              "      <td>0.0</td>\n",
              "      <td>...</td>\n",
              "      <td>0.0</td>\n",
              "      <td>0.0</td>\n",
              "      <td>0.0</td>\n",
              "      <td>0.0</td>\n",
              "      <td>0.0</td>\n",
              "      <td>0.0</td>\n",
              "      <td>0.0</td>\n",
              "      <td>0.0</td>\n",
              "      <td>0.0</td>\n",
              "      <td>0.0</td>\n",
              "    </tr>\n",
              "    <tr>\n",
              "      <th>284487</th>\n",
              "      <td>0.0</td>\n",
              "      <td>0.0</td>\n",
              "      <td>0.0</td>\n",
              "      <td>0.0</td>\n",
              "      <td>0.0</td>\n",
              "      <td>0.0</td>\n",
              "      <td>0.0</td>\n",
              "      <td>0.0</td>\n",
              "      <td>0.0</td>\n",
              "      <td>0.0</td>\n",
              "      <td>...</td>\n",
              "      <td>0.0</td>\n",
              "      <td>0.0</td>\n",
              "      <td>0.0</td>\n",
              "      <td>0.0</td>\n",
              "      <td>0.0</td>\n",
              "      <td>0.0</td>\n",
              "      <td>0.0</td>\n",
              "      <td>0.0</td>\n",
              "      <td>0.0</td>\n",
              "      <td>0.0</td>\n",
              "    </tr>\n",
              "    <tr>\n",
              "      <th>284488</th>\n",
              "      <td>0.0</td>\n",
              "      <td>0.0</td>\n",
              "      <td>0.0</td>\n",
              "      <td>0.0</td>\n",
              "      <td>0.0</td>\n",
              "      <td>0.0</td>\n",
              "      <td>0.0</td>\n",
              "      <td>0.0</td>\n",
              "      <td>0.0</td>\n",
              "      <td>0.0</td>\n",
              "      <td>...</td>\n",
              "      <td>0.0</td>\n",
              "      <td>0.0</td>\n",
              "      <td>0.0</td>\n",
              "      <td>0.0</td>\n",
              "      <td>0.0</td>\n",
              "      <td>0.0</td>\n",
              "      <td>0.0</td>\n",
              "      <td>0.0</td>\n",
              "      <td>0.0</td>\n",
              "      <td>0.0</td>\n",
              "    </tr>\n",
              "    <tr>\n",
              "      <th>284489</th>\n",
              "      <td>0.0</td>\n",
              "      <td>0.0</td>\n",
              "      <td>0.0</td>\n",
              "      <td>0.0</td>\n",
              "      <td>0.0</td>\n",
              "      <td>0.0</td>\n",
              "      <td>0.0</td>\n",
              "      <td>0.0</td>\n",
              "      <td>0.0</td>\n",
              "      <td>0.0</td>\n",
              "      <td>...</td>\n",
              "      <td>0.0</td>\n",
              "      <td>0.0</td>\n",
              "      <td>0.0</td>\n",
              "      <td>0.0</td>\n",
              "      <td>0.0</td>\n",
              "      <td>0.0</td>\n",
              "      <td>0.0</td>\n",
              "      <td>0.0</td>\n",
              "      <td>0.0</td>\n",
              "      <td>0.0</td>\n",
              "    </tr>\n",
              "  </tbody>\n",
              "</table>\n",
              "<p>5 rows × 150 columns</p>\n",
              "</div>\n",
              "    <div class=\"colab-df-buttons\">\n",
              "\n",
              "  <div class=\"colab-df-container\">\n",
              "    <button class=\"colab-df-convert\" onclick=\"convertToInteractive('df-4135094e-dc53-4146-8e7e-16c46e246c7d')\"\n",
              "            title=\"Convert this dataframe to an interactive table.\"\n",
              "            style=\"display:none;\">\n",
              "\n",
              "  <svg xmlns=\"http://www.w3.org/2000/svg\" height=\"24px\" viewBox=\"0 -960 960 960\">\n",
              "    <path d=\"M120-120v-720h720v720H120Zm60-500h600v-160H180v160Zm220 220h160v-160H400v160Zm0 220h160v-160H400v160ZM180-400h160v-160H180v160Zm440 0h160v-160H620v160ZM180-180h160v-160H180v160Zm440 0h160v-160H620v160Z\"/>\n",
              "  </svg>\n",
              "    </button>\n",
              "\n",
              "  <style>\n",
              "    .colab-df-container {\n",
              "      display:flex;\n",
              "      gap: 12px;\n",
              "    }\n",
              "\n",
              "    .colab-df-convert {\n",
              "      background-color: #E8F0FE;\n",
              "      border: none;\n",
              "      border-radius: 50%;\n",
              "      cursor: pointer;\n",
              "      display: none;\n",
              "      fill: #1967D2;\n",
              "      height: 32px;\n",
              "      padding: 0 0 0 0;\n",
              "      width: 32px;\n",
              "    }\n",
              "\n",
              "    .colab-df-convert:hover {\n",
              "      background-color: #E2EBFA;\n",
              "      box-shadow: 0px 1px 2px rgba(60, 64, 67, 0.3), 0px 1px 3px 1px rgba(60, 64, 67, 0.15);\n",
              "      fill: #174EA6;\n",
              "    }\n",
              "\n",
              "    .colab-df-buttons div {\n",
              "      margin-bottom: 4px;\n",
              "    }\n",
              "\n",
              "    [theme=dark] .colab-df-convert {\n",
              "      background-color: #3B4455;\n",
              "      fill: #D2E3FC;\n",
              "    }\n",
              "\n",
              "    [theme=dark] .colab-df-convert:hover {\n",
              "      background-color: #434B5C;\n",
              "      box-shadow: 0px 1px 3px 1px rgba(0, 0, 0, 0.15);\n",
              "      filter: drop-shadow(0px 1px 2px rgba(0, 0, 0, 0.3));\n",
              "      fill: #FFFFFF;\n",
              "    }\n",
              "  </style>\n",
              "\n",
              "    <script>\n",
              "      const buttonEl =\n",
              "        document.querySelector('#df-4135094e-dc53-4146-8e7e-16c46e246c7d button.colab-df-convert');\n",
              "      buttonEl.style.display =\n",
              "        google.colab.kernel.accessAllowed ? 'block' : 'none';\n",
              "\n",
              "      async function convertToInteractive(key) {\n",
              "        const element = document.querySelector('#df-4135094e-dc53-4146-8e7e-16c46e246c7d');\n",
              "        const dataTable =\n",
              "          await google.colab.kernel.invokeFunction('convertToInteractive',\n",
              "                                                    [key], {});\n",
              "        if (!dataTable) return;\n",
              "\n",
              "        const docLinkHtml = 'Like what you see? Visit the ' +\n",
              "          '<a target=\"_blank\" href=https://colab.research.google.com/notebooks/data_table.ipynb>data table notebook</a>'\n",
              "          + ' to learn more about interactive tables.';\n",
              "        element.innerHTML = '';\n",
              "        dataTable['output_type'] = 'display_data';\n",
              "        await google.colab.output.renderOutput(dataTable, element);\n",
              "        const docLink = document.createElement('div');\n",
              "        docLink.innerHTML = docLinkHtml;\n",
              "        element.appendChild(docLink);\n",
              "      }\n",
              "    </script>\n",
              "  </div>\n",
              "\n",
              "\n",
              "<div id=\"df-db69e568-9b92-4e58-9540-778a9463f6e7\">\n",
              "  <button class=\"colab-df-quickchart\" onclick=\"quickchart('df-db69e568-9b92-4e58-9540-778a9463f6e7')\"\n",
              "            title=\"Suggest charts\"\n",
              "            style=\"display:none;\">\n",
              "\n",
              "<svg xmlns=\"http://www.w3.org/2000/svg\" height=\"24px\"viewBox=\"0 0 24 24\"\n",
              "     width=\"24px\">\n",
              "    <g>\n",
              "        <path d=\"M19 3H5c-1.1 0-2 .9-2 2v14c0 1.1.9 2 2 2h14c1.1 0 2-.9 2-2V5c0-1.1-.9-2-2-2zM9 17H7v-7h2v7zm4 0h-2V7h2v10zm4 0h-2v-4h2v4z\"/>\n",
              "    </g>\n",
              "</svg>\n",
              "  </button>\n",
              "\n",
              "<style>\n",
              "  .colab-df-quickchart {\n",
              "      --bg-color: #E8F0FE;\n",
              "      --fill-color: #1967D2;\n",
              "      --hover-bg-color: #E2EBFA;\n",
              "      --hover-fill-color: #174EA6;\n",
              "      --disabled-fill-color: #AAA;\n",
              "      --disabled-bg-color: #DDD;\n",
              "  }\n",
              "\n",
              "  [theme=dark] .colab-df-quickchart {\n",
              "      --bg-color: #3B4455;\n",
              "      --fill-color: #D2E3FC;\n",
              "      --hover-bg-color: #434B5C;\n",
              "      --hover-fill-color: #FFFFFF;\n",
              "      --disabled-bg-color: #3B4455;\n",
              "      --disabled-fill-color: #666;\n",
              "  }\n",
              "\n",
              "  .colab-df-quickchart {\n",
              "    background-color: var(--bg-color);\n",
              "    border: none;\n",
              "    border-radius: 50%;\n",
              "    cursor: pointer;\n",
              "    display: none;\n",
              "    fill: var(--fill-color);\n",
              "    height: 32px;\n",
              "    padding: 0;\n",
              "    width: 32px;\n",
              "  }\n",
              "\n",
              "  .colab-df-quickchart:hover {\n",
              "    background-color: var(--hover-bg-color);\n",
              "    box-shadow: 0 1px 2px rgba(60, 64, 67, 0.3), 0 1px 3px 1px rgba(60, 64, 67, 0.15);\n",
              "    fill: var(--button-hover-fill-color);\n",
              "  }\n",
              "\n",
              "  .colab-df-quickchart-complete:disabled,\n",
              "  .colab-df-quickchart-complete:disabled:hover {\n",
              "    background-color: var(--disabled-bg-color);\n",
              "    fill: var(--disabled-fill-color);\n",
              "    box-shadow: none;\n",
              "  }\n",
              "\n",
              "  .colab-df-spinner {\n",
              "    border: 2px solid var(--fill-color);\n",
              "    border-color: transparent;\n",
              "    border-bottom-color: var(--fill-color);\n",
              "    animation:\n",
              "      spin 1s steps(1) infinite;\n",
              "  }\n",
              "\n",
              "  @keyframes spin {\n",
              "    0% {\n",
              "      border-color: transparent;\n",
              "      border-bottom-color: var(--fill-color);\n",
              "      border-left-color: var(--fill-color);\n",
              "    }\n",
              "    20% {\n",
              "      border-color: transparent;\n",
              "      border-left-color: var(--fill-color);\n",
              "      border-top-color: var(--fill-color);\n",
              "    }\n",
              "    30% {\n",
              "      border-color: transparent;\n",
              "      border-left-color: var(--fill-color);\n",
              "      border-top-color: var(--fill-color);\n",
              "      border-right-color: var(--fill-color);\n",
              "    }\n",
              "    40% {\n",
              "      border-color: transparent;\n",
              "      border-right-color: var(--fill-color);\n",
              "      border-top-color: var(--fill-color);\n",
              "    }\n",
              "    60% {\n",
              "      border-color: transparent;\n",
              "      border-right-color: var(--fill-color);\n",
              "    }\n",
              "    80% {\n",
              "      border-color: transparent;\n",
              "      border-right-color: var(--fill-color);\n",
              "      border-bottom-color: var(--fill-color);\n",
              "    }\n",
              "    90% {\n",
              "      border-color: transparent;\n",
              "      border-bottom-color: var(--fill-color);\n",
              "    }\n",
              "  }\n",
              "</style>\n",
              "\n",
              "  <script>\n",
              "    async function quickchart(key) {\n",
              "      const quickchartButtonEl =\n",
              "        document.querySelector('#' + key + ' button');\n",
              "      quickchartButtonEl.disabled = true;  // To prevent multiple clicks.\n",
              "      quickchartButtonEl.classList.add('colab-df-spinner');\n",
              "      try {\n",
              "        const charts = await google.colab.kernel.invokeFunction(\n",
              "            'suggestCharts', [key], {});\n",
              "      } catch (error) {\n",
              "        console.error('Error during call to suggestCharts:', error);\n",
              "      }\n",
              "      quickchartButtonEl.classList.remove('colab-df-spinner');\n",
              "      quickchartButtonEl.classList.add('colab-df-quickchart-complete');\n",
              "    }\n",
              "    (() => {\n",
              "      let quickchartButtonEl =\n",
              "        document.querySelector('#df-db69e568-9b92-4e58-9540-778a9463f6e7 button');\n",
              "      quickchartButtonEl.style.display =\n",
              "        google.colab.kernel.accessAllowed ? 'block' : 'none';\n",
              "    })();\n",
              "  </script>\n",
              "</div>\n",
              "\n",
              "    </div>\n",
              "  </div>\n"
            ]
          },
          "metadata": {},
          "execution_count": 126
        }
      ]
    },
    {
      "cell_type": "code",
      "source": [
        "import tensorflow as tf\n",
        "from tensorflow.keras.models import Sequential\n",
        "from tensorflow.keras.layers import LSTM, Dense, Embedding\n",
        "from tensorflow.keras.preprocessing.sequence import pad_sequences\n",
        "\n",
        "model = Sequential()\n",
        "model.add(Embedding(input_dim=word_size, output_dim=word2vec.vector_size, weights=[embedding_matrix], trainable=False))\n",
        "model.add(LSTM(128))\n",
        "model.add(Dense(1, activation='sigmoid'))\n",
        "\n",
        "\n",
        "model.compile(optimizer='adam', loss='binary_crossentropy', metrics=['accuracy'])\n",
        "\n",
        "\n",
        "model.fit(X_train, y_train, epochs=10, validation_split=0.2)\n",
        "\n",
        "# get X_train data into format where the embeddings layer can look up its corresposnding vector, add padding so that all input is the same length\n",
        "# model.evaluate(X_test, y_test)\n"
      ],
      "metadata": {
        "id": "1U3uKTHouftj",
        "outputId": "86fd405e-4bf8-41ff-d8ea-8765fa7b9e50",
        "colab": {
          "base_uri": "https://localhost:8080/",
          "height": 1000
        }
      },
      "execution_count": 128,
      "outputs": [
        {
          "output_type": "stream",
          "name": "stdout",
          "text": [
            "Epoch 1/10\n"
          ]
        },
        {
          "output_type": "error",
          "ename": "UnimplementedError",
          "evalue": "Graph execution error:\n\nDetected at node sequential/Cast defined at (most recent call last):\n  File \"/usr/lib/python3.10/runpy.py\", line 196, in _run_module_as_main\n\n  File \"/usr/lib/python3.10/runpy.py\", line 86, in _run_code\n\n  File \"/usr/local/lib/python3.10/dist-packages/colab_kernel_launcher.py\", line 37, in <module>\n\n  File \"/usr/local/lib/python3.10/dist-packages/traitlets/config/application.py\", line 992, in launch_instance\n\n  File \"/usr/local/lib/python3.10/dist-packages/ipykernel/kernelapp.py\", line 619, in start\n\n  File \"/usr/local/lib/python3.10/dist-packages/tornado/platform/asyncio.py\", line 195, in start\n\n  File \"/usr/lib/python3.10/asyncio/base_events.py\", line 603, in run_forever\n\n  File \"/usr/lib/python3.10/asyncio/base_events.py\", line 1909, in _run_once\n\n  File \"/usr/lib/python3.10/asyncio/events.py\", line 80, in _run\n\n  File \"/usr/local/lib/python3.10/dist-packages/tornado/ioloop.py\", line 685, in <lambda>\n\n  File \"/usr/local/lib/python3.10/dist-packages/tornado/ioloop.py\", line 738, in _run_callback\n\n  File \"/usr/local/lib/python3.10/dist-packages/tornado/gen.py\", line 825, in inner\n\n  File \"/usr/local/lib/python3.10/dist-packages/tornado/gen.py\", line 786, in run\n\n  File \"/usr/local/lib/python3.10/dist-packages/ipykernel/kernelbase.py\", line 361, in process_one\n\n  File \"/usr/local/lib/python3.10/dist-packages/tornado/gen.py\", line 234, in wrapper\n\n  File \"/usr/local/lib/python3.10/dist-packages/ipykernel/kernelbase.py\", line 261, in dispatch_shell\n\n  File \"/usr/local/lib/python3.10/dist-packages/tornado/gen.py\", line 234, in wrapper\n\n  File \"/usr/local/lib/python3.10/dist-packages/ipykernel/kernelbase.py\", line 539, in execute_request\n\n  File \"/usr/local/lib/python3.10/dist-packages/tornado/gen.py\", line 234, in wrapper\n\n  File \"/usr/local/lib/python3.10/dist-packages/ipykernel/ipkernel.py\", line 302, in do_execute\n\n  File \"/usr/local/lib/python3.10/dist-packages/ipykernel/zmqshell.py\", line 539, in run_cell\n\n  File \"/usr/local/lib/python3.10/dist-packages/IPython/core/interactiveshell.py\", line 2975, in run_cell\n\n  File \"/usr/local/lib/python3.10/dist-packages/IPython/core/interactiveshell.py\", line 3030, in _run_cell\n\n  File \"/usr/local/lib/python3.10/dist-packages/IPython/core/async_helpers.py\", line 78, in _pseudo_sync_runner\n\n  File \"/usr/local/lib/python3.10/dist-packages/IPython/core/interactiveshell.py\", line 3257, in run_cell_async\n\n  File \"/usr/local/lib/python3.10/dist-packages/IPython/core/interactiveshell.py\", line 3473, in run_ast_nodes\n\n  File \"/usr/local/lib/python3.10/dist-packages/IPython/core/interactiveshell.py\", line 3553, in run_code\n\n  File \"<ipython-input-128-7c9bc7fbb5bf>\", line 19, in <cell line: 19>\n\n  File \"/usr/local/lib/python3.10/dist-packages/keras/src/utils/traceback_utils.py\", line 65, in error_handler\n\n  File \"/usr/local/lib/python3.10/dist-packages/keras/src/engine/training.py\", line 1807, in fit\n\n  File \"/usr/local/lib/python3.10/dist-packages/keras/src/engine/training.py\", line 1401, in train_function\n\n  File \"/usr/local/lib/python3.10/dist-packages/keras/src/engine/training.py\", line 1384, in step_function\n\n  File \"/usr/local/lib/python3.10/dist-packages/keras/src/engine/training.py\", line 1373, in run_step\n\n  File \"/usr/local/lib/python3.10/dist-packages/keras/src/engine/training.py\", line 1150, in train_step\n\n  File \"/usr/local/lib/python3.10/dist-packages/keras/src/utils/traceback_utils.py\", line 65, in error_handler\n\n  File \"/usr/local/lib/python3.10/dist-packages/keras/src/engine/training.py\", line 590, in __call__\n\n  File \"/usr/local/lib/python3.10/dist-packages/keras/src/utils/traceback_utils.py\", line 65, in error_handler\n\n  File \"/usr/local/lib/python3.10/dist-packages/keras/src/engine/base_layer.py\", line 1149, in __call__\n\n  File \"/usr/local/lib/python3.10/dist-packages/keras/src/utils/traceback_utils.py\", line 96, in error_handler\n\n  File \"/usr/local/lib/python3.10/dist-packages/keras/src/engine/sequential.py\", line 398, in call\n\n  File \"/usr/local/lib/python3.10/dist-packages/keras/src/engine/functional.py\", line 515, in call\n\n  File \"/usr/local/lib/python3.10/dist-packages/keras/src/engine/functional.py\", line 654, in _run_internal_graph\n\n  File \"/usr/local/lib/python3.10/dist-packages/keras/src/engine/functional.py\", line 751, in _conform_to_reference_input\n\n2 root error(s) found.\n  (0) UNIMPLEMENTED:  Cast string to float is not supported\n\t [[{{node sequential/Cast}}]]\n  (1) CANCELLED:  Function was cancelled before it was started\n0 successful operations.\n0 derived errors ignored. [Op:__inference_train_function_3128]",
          "traceback": [
            "\u001b[0;31m---------------------------------------------------------------------------\u001b[0m",
            "\u001b[0;31mUnimplementedError\u001b[0m                        Traceback (most recent call last)",
            "\u001b[0;32m<ipython-input-128-7c9bc7fbb5bf>\u001b[0m in \u001b[0;36m<cell line: 19>\u001b[0;34m()\u001b[0m\n\u001b[1;32m     17\u001b[0m \u001b[0;34m\u001b[0m\u001b[0m\n\u001b[1;32m     18\u001b[0m \u001b[0;31m# Train the model\u001b[0m\u001b[0;34m\u001b[0m\u001b[0;34m\u001b[0m\u001b[0m\n\u001b[0;32m---> 19\u001b[0;31m \u001b[0mmodel\u001b[0m\u001b[0;34m.\u001b[0m\u001b[0mfit\u001b[0m\u001b[0;34m(\u001b[0m\u001b[0mX_train\u001b[0m\u001b[0;34m,\u001b[0m \u001b[0my_train\u001b[0m\u001b[0;34m,\u001b[0m \u001b[0mepochs\u001b[0m\u001b[0;34m=\u001b[0m\u001b[0;36m10\u001b[0m\u001b[0;34m,\u001b[0m \u001b[0mvalidation_split\u001b[0m\u001b[0;34m=\u001b[0m\u001b[0;36m0.2\u001b[0m\u001b[0;34m)\u001b[0m\u001b[0;34m\u001b[0m\u001b[0;34m\u001b[0m\u001b[0m\n\u001b[0m\u001b[1;32m     20\u001b[0m \u001b[0;34m\u001b[0m\u001b[0m\n\u001b[1;32m     21\u001b[0m \u001b[0;31m# Evaluate the model\u001b[0m\u001b[0;34m\u001b[0m\u001b[0;34m\u001b[0m\u001b[0m\n",
            "\u001b[0;32m/usr/local/lib/python3.10/dist-packages/keras/src/utils/traceback_utils.py\u001b[0m in \u001b[0;36merror_handler\u001b[0;34m(*args, **kwargs)\u001b[0m\n\u001b[1;32m     68\u001b[0m             \u001b[0;31m# To get the full stack trace, call:\u001b[0m\u001b[0;34m\u001b[0m\u001b[0;34m\u001b[0m\u001b[0m\n\u001b[1;32m     69\u001b[0m             \u001b[0;31m# `tf.debugging.disable_traceback_filtering()`\u001b[0m\u001b[0;34m\u001b[0m\u001b[0;34m\u001b[0m\u001b[0m\n\u001b[0;32m---> 70\u001b[0;31m             \u001b[0;32mraise\u001b[0m \u001b[0me\u001b[0m\u001b[0;34m.\u001b[0m\u001b[0mwith_traceback\u001b[0m\u001b[0;34m(\u001b[0m\u001b[0mfiltered_tb\u001b[0m\u001b[0;34m)\u001b[0m \u001b[0;32mfrom\u001b[0m \u001b[0;32mNone\u001b[0m\u001b[0;34m\u001b[0m\u001b[0;34m\u001b[0m\u001b[0m\n\u001b[0m\u001b[1;32m     71\u001b[0m         \u001b[0;32mfinally\u001b[0m\u001b[0;34m:\u001b[0m\u001b[0;34m\u001b[0m\u001b[0;34m\u001b[0m\u001b[0m\n\u001b[1;32m     72\u001b[0m             \u001b[0;32mdel\u001b[0m \u001b[0mfiltered_tb\u001b[0m\u001b[0;34m\u001b[0m\u001b[0;34m\u001b[0m\u001b[0m\n",
            "\u001b[0;32m/usr/local/lib/python3.10/dist-packages/tensorflow/python/eager/execute.py\u001b[0m in \u001b[0;36mquick_execute\u001b[0;34m(op_name, num_outputs, inputs, attrs, ctx, name)\u001b[0m\n\u001b[1;32m     51\u001b[0m   \u001b[0;32mtry\u001b[0m\u001b[0;34m:\u001b[0m\u001b[0;34m\u001b[0m\u001b[0;34m\u001b[0m\u001b[0m\n\u001b[1;32m     52\u001b[0m     \u001b[0mctx\u001b[0m\u001b[0;34m.\u001b[0m\u001b[0mensure_initialized\u001b[0m\u001b[0;34m(\u001b[0m\u001b[0;34m)\u001b[0m\u001b[0;34m\u001b[0m\u001b[0;34m\u001b[0m\u001b[0m\n\u001b[0;32m---> 53\u001b[0;31m     tensors = pywrap_tfe.TFE_Py_Execute(ctx._handle, device_name, op_name,\n\u001b[0m\u001b[1;32m     54\u001b[0m                                         inputs, attrs, num_outputs)\n\u001b[1;32m     55\u001b[0m   \u001b[0;32mexcept\u001b[0m \u001b[0mcore\u001b[0m\u001b[0;34m.\u001b[0m\u001b[0m_NotOkStatusException\u001b[0m \u001b[0;32mas\u001b[0m \u001b[0me\u001b[0m\u001b[0;34m:\u001b[0m\u001b[0;34m\u001b[0m\u001b[0;34m\u001b[0m\u001b[0m\n",
            "\u001b[0;31mUnimplementedError\u001b[0m: Graph execution error:\n\nDetected at node sequential/Cast defined at (most recent call last):\n  File \"/usr/lib/python3.10/runpy.py\", line 196, in _run_module_as_main\n\n  File \"/usr/lib/python3.10/runpy.py\", line 86, in _run_code\n\n  File \"/usr/local/lib/python3.10/dist-packages/colab_kernel_launcher.py\", line 37, in <module>\n\n  File \"/usr/local/lib/python3.10/dist-packages/traitlets/config/application.py\", line 992, in launch_instance\n\n  File \"/usr/local/lib/python3.10/dist-packages/ipykernel/kernelapp.py\", line 619, in start\n\n  File \"/usr/local/lib/python3.10/dist-packages/tornado/platform/asyncio.py\", line 195, in start\n\n  File \"/usr/lib/python3.10/asyncio/base_events.py\", line 603, in run_forever\n\n  File \"/usr/lib/python3.10/asyncio/base_events.py\", line 1909, in _run_once\n\n  File \"/usr/lib/python3.10/asyncio/events.py\", line 80, in _run\n\n  File \"/usr/local/lib/python3.10/dist-packages/tornado/ioloop.py\", line 685, in <lambda>\n\n  File \"/usr/local/lib/python3.10/dist-packages/tornado/ioloop.py\", line 738, in _run_callback\n\n  File \"/usr/local/lib/python3.10/dist-packages/tornado/gen.py\", line 825, in inner\n\n  File \"/usr/local/lib/python3.10/dist-packages/tornado/gen.py\", line 786, in run\n\n  File \"/usr/local/lib/python3.10/dist-packages/ipykernel/kernelbase.py\", line 361, in process_one\n\n  File \"/usr/local/lib/python3.10/dist-packages/tornado/gen.py\", line 234, in wrapper\n\n  File \"/usr/local/lib/python3.10/dist-packages/ipykernel/kernelbase.py\", line 261, in dispatch_shell\n\n  File \"/usr/local/lib/python3.10/dist-packages/tornado/gen.py\", line 234, in wrapper\n\n  File \"/usr/local/lib/python3.10/dist-packages/ipykernel/kernelbase.py\", line 539, in execute_request\n\n  File \"/usr/local/lib/python3.10/dist-packages/tornado/gen.py\", line 234, in wrapper\n\n  File \"/usr/local/lib/python3.10/dist-packages/ipykernel/ipkernel.py\", line 302, in do_execute\n\n  File \"/usr/local/lib/python3.10/dist-packages/ipykernel/zmqshell.py\", line 539, in run_cell\n\n  File \"/usr/local/lib/python3.10/dist-packages/IPython/core/interactiveshell.py\", line 2975, in run_cell\n\n  File \"/usr/local/lib/python3.10/dist-packages/IPython/core/interactiveshell.py\", line 3030, in _run_cell\n\n  File \"/usr/local/lib/python3.10/dist-packages/IPython/core/async_helpers.py\", line 78, in _pseudo_sync_runner\n\n  File \"/usr/local/lib/python3.10/dist-packages/IPython/core/interactiveshell.py\", line 3257, in run_cell_async\n\n  File \"/usr/local/lib/python3.10/dist-packages/IPython/core/interactiveshell.py\", line 3473, in run_ast_nodes\n\n  File \"/usr/local/lib/python3.10/dist-packages/IPython/core/interactiveshell.py\", line 3553, in run_code\n\n  File \"<ipython-input-128-7c9bc7fbb5bf>\", line 19, in <cell line: 19>\n\n  File \"/usr/local/lib/python3.10/dist-packages/keras/src/utils/traceback_utils.py\", line 65, in error_handler\n\n  File \"/usr/local/lib/python3.10/dist-packages/keras/src/engine/training.py\", line 1807, in fit\n\n  File \"/usr/local/lib/python3.10/dist-packages/keras/src/engine/training.py\", line 1401, in train_function\n\n  File \"/usr/local/lib/python3.10/dist-packages/keras/src/engine/training.py\", line 1384, in step_function\n\n  File \"/usr/local/lib/python3.10/dist-packages/keras/src/engine/training.py\", line 1373, in run_step\n\n  File \"/usr/local/lib/python3.10/dist-packages/keras/src/engine/training.py\", line 1150, in train_step\n\n  File \"/usr/local/lib/python3.10/dist-packages/keras/src/utils/traceback_utils.py\", line 65, in error_handler\n\n  File \"/usr/local/lib/python3.10/dist-packages/keras/src/engine/training.py\", line 590, in __call__\n\n  File \"/usr/local/lib/python3.10/dist-packages/keras/src/utils/traceback_utils.py\", line 65, in error_handler\n\n  File \"/usr/local/lib/python3.10/dist-packages/keras/src/engine/base_layer.py\", line 1149, in __call__\n\n  File \"/usr/local/lib/python3.10/dist-packages/keras/src/utils/traceback_utils.py\", line 96, in error_handler\n\n  File \"/usr/local/lib/python3.10/dist-packages/keras/src/engine/sequential.py\", line 398, in call\n\n  File \"/usr/local/lib/python3.10/dist-packages/keras/src/engine/functional.py\", line 515, in call\n\n  File \"/usr/local/lib/python3.10/dist-packages/keras/src/engine/functional.py\", line 654, in _run_internal_graph\n\n  File \"/usr/local/lib/python3.10/dist-packages/keras/src/engine/functional.py\", line 751, in _conform_to_reference_input\n\n2 root error(s) found.\n  (0) UNIMPLEMENTED:  Cast string to float is not supported\n\t [[{{node sequential/Cast}}]]\n  (1) CANCELLED:  Function was cancelled before it was started\n0 successful operations.\n0 derived errors ignored. [Op:__inference_train_function_3128]"
          ]
        }
      ]
    }
  ]
}