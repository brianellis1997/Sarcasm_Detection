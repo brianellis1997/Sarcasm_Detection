{
  "nbformat": 4,
  "nbformat_minor": 0,
  "metadata": {
    "colab": {
      "provenance": [],
      "gpuType": "T4",
      "include_colab_link": true
    },
    "kernelspec": {
      "name": "python3",
      "display_name": "Python 3"
    },
    "language_info": {
      "name": "python"
    },
    "accelerator": "GPU"
  },
  "cells": [
    {
      "cell_type": "markdown",
      "metadata": {
        "id": "view-in-github",
        "colab_type": "text"
      },
      "source": [
        "<a href=\"https://colab.research.google.com/github/brianellis1997/Sarcasm_Detection/blob/Lindsey/DS_440_Test.ipynb\" target=\"_parent\"><img src=\"https://colab.research.google.com/assets/colab-badge.svg\" alt=\"Open In Colab\"/></a>"
      ]
    },
    {
      "cell_type": "markdown",
      "source": [
        "# Sarcasm Detection using NLP Techniques\n",
        "### Team 2: Brian Ellis, Lindsey Rich, Elena Kern"
      ],
      "metadata": {
        "id": "83CHGfhCqBUr"
      }
    },
    {
      "cell_type": "markdown",
      "source": [
        "## Load Libraries and Dataset"
      ],
      "metadata": {
        "id": "Mf7bmmcfetuI"
      }
    },
    {
      "cell_type": "code",
      "execution_count": 1,
      "metadata": {
        "id": "gB0K8GssUbrq"
      },
      "outputs": [],
      "source": [
        "import pandas as pd\n",
        "import torch\n",
        "from wordcloud import WordCloud\n",
        "import matplotlib.pyplot as plt\n",
        "from sklearn.model_selection import train_test_split\n",
        "\n",
        "#test comment"
      ]
    },
    {
      "cell_type": "code",
      "source": [
        "import torch.nn as nn\n",
        "from torch.nn.utils.rnn import pack_padded_sequence, pad_packed_sequence\n",
        "import torch.optim as optim\n",
        "from sklearn.metrics import accuracy_score, classification_report, confusion_matrix\n",
        "import seaborn as sns"
      ],
      "metadata": {
        "id": "VvT3qX6GYCVV"
      },
      "execution_count": 2,
      "outputs": []
    },
    {
      "cell_type": "code",
      "source": [
        "!git clone https://github.com/brianellis1997/Sarcasm_Detection.git"
      ],
      "metadata": {
        "colab": {
          "base_uri": "https://localhost:8080/"
        },
        "id": "Xqvo69MVYiV-",
        "outputId": "7ca5fe35-a030-46f2-854c-7205379c0b07"
      },
      "execution_count": 3,
      "outputs": [
        {
          "output_type": "stream",
          "name": "stdout",
          "text": [
            "Cloning into 'Sarcasm_Detection'...\n",
            "remote: Enumerating objects: 89, done.\u001b[K\n",
            "remote: Counting objects: 100% (89/89), done.\u001b[K\n",
            "remote: Compressing objects: 100% (89/89), done.\u001b[K\n",
            "remote: Total 89 (delta 45), reused 3 (delta 0), pack-reused 0\u001b[K\n",
            "Receiving objects: 100% (89/89), 2.22 MiB | 5.73 MiB/s, done.\n",
            "Resolving deltas: 100% (45/45), done.\n"
          ]
        }
      ]
    },
    {
      "cell_type": "code",
      "source": [
        "from google.colab import drive\n",
        "drive.mount('/content/drive')"
      ],
      "metadata": {
        "id": "kFqAxbBlhxGs",
        "outputId": "79ed6f09-cc28-41bf-ca9f-ad0c7257c327",
        "colab": {
          "base_uri": "https://localhost:8080/"
        }
      },
      "execution_count": 4,
      "outputs": [
        {
          "output_type": "stream",
          "name": "stdout",
          "text": [
            "Mounted at /content/drive\n"
          ]
        }
      ]
    },
    {
      "cell_type": "code",
      "source": [
        "train_bal = pd.read_csv('/content/drive/MyDrive/Sarcasm_Data/train-balanced-sarcasm.csv')   # Make sure path is correct in your google drive\n",
        "train_bal.head()"
      ],
      "metadata": {
        "colab": {
          "base_uri": "https://localhost:8080/",
          "height": 206
        },
        "id": "qQbpFOgeViuu",
        "outputId": "ab7e9891-be80-4139-efb7-5ec68ed0ea04"
      },
      "execution_count": 5,
      "outputs": [
        {
          "output_type": "execute_result",
          "data": {
            "text/plain": [
              "   label                                            comment     author  \\\n",
              "0      0                                         NC and NH.  Trumpbart   \n",
              "1      0  You do know west teams play against west teams...  Shbshb906   \n",
              "2      0  They were underdogs earlier today, but since G...   Creepeth   \n",
              "3      0  This meme isn't funny none of the \"new york ni...  icebrotha   \n",
              "4      0                    I could use one of those tools.  cush2push   \n",
              "\n",
              "            subreddit  score  ups  downs     date          created_utc  \\\n",
              "0            politics      2   -1     -1  2016-10  2016-10-16 23:55:23   \n",
              "1                 nba     -4   -1     -1  2016-11  2016-11-01 00:24:10   \n",
              "2                 nfl      3    3      0  2016-09  2016-09-22 21:45:37   \n",
              "3  BlackPeopleTwitter     -8   -1     -1  2016-10  2016-10-18 21:03:47   \n",
              "4  MaddenUltimateTeam      6   -1     -1  2016-12  2016-12-30 17:00:13   \n",
              "\n",
              "                                      parent_comment  \n",
              "0  Yeah, I get that argument. At this point, I'd ...  \n",
              "1  The blazers and Mavericks (The wests 5 and 6 s...  \n",
              "2                            They're favored to win.  \n",
              "3                         deadass don't kill my buzz  \n",
              "4  Yep can confirm I saw the tool they use for th...  "
            ],
            "text/html": [
              "\n",
              "  <div id=\"df-c95d79ce-2b7e-4bd4-8f73-775bbaef11b1\" class=\"colab-df-container\">\n",
              "    <div>\n",
              "<style scoped>\n",
              "    .dataframe tbody tr th:only-of-type {\n",
              "        vertical-align: middle;\n",
              "    }\n",
              "\n",
              "    .dataframe tbody tr th {\n",
              "        vertical-align: top;\n",
              "    }\n",
              "\n",
              "    .dataframe thead th {\n",
              "        text-align: right;\n",
              "    }\n",
              "</style>\n",
              "<table border=\"1\" class=\"dataframe\">\n",
              "  <thead>\n",
              "    <tr style=\"text-align: right;\">\n",
              "      <th></th>\n",
              "      <th>label</th>\n",
              "      <th>comment</th>\n",
              "      <th>author</th>\n",
              "      <th>subreddit</th>\n",
              "      <th>score</th>\n",
              "      <th>ups</th>\n",
              "      <th>downs</th>\n",
              "      <th>date</th>\n",
              "      <th>created_utc</th>\n",
              "      <th>parent_comment</th>\n",
              "    </tr>\n",
              "  </thead>\n",
              "  <tbody>\n",
              "    <tr>\n",
              "      <th>0</th>\n",
              "      <td>0</td>\n",
              "      <td>NC and NH.</td>\n",
              "      <td>Trumpbart</td>\n",
              "      <td>politics</td>\n",
              "      <td>2</td>\n",
              "      <td>-1</td>\n",
              "      <td>-1</td>\n",
              "      <td>2016-10</td>\n",
              "      <td>2016-10-16 23:55:23</td>\n",
              "      <td>Yeah, I get that argument. At this point, I'd ...</td>\n",
              "    </tr>\n",
              "    <tr>\n",
              "      <th>1</th>\n",
              "      <td>0</td>\n",
              "      <td>You do know west teams play against west teams...</td>\n",
              "      <td>Shbshb906</td>\n",
              "      <td>nba</td>\n",
              "      <td>-4</td>\n",
              "      <td>-1</td>\n",
              "      <td>-1</td>\n",
              "      <td>2016-11</td>\n",
              "      <td>2016-11-01 00:24:10</td>\n",
              "      <td>The blazers and Mavericks (The wests 5 and 6 s...</td>\n",
              "    </tr>\n",
              "    <tr>\n",
              "      <th>2</th>\n",
              "      <td>0</td>\n",
              "      <td>They were underdogs earlier today, but since G...</td>\n",
              "      <td>Creepeth</td>\n",
              "      <td>nfl</td>\n",
              "      <td>3</td>\n",
              "      <td>3</td>\n",
              "      <td>0</td>\n",
              "      <td>2016-09</td>\n",
              "      <td>2016-09-22 21:45:37</td>\n",
              "      <td>They're favored to win.</td>\n",
              "    </tr>\n",
              "    <tr>\n",
              "      <th>3</th>\n",
              "      <td>0</td>\n",
              "      <td>This meme isn't funny none of the \"new york ni...</td>\n",
              "      <td>icebrotha</td>\n",
              "      <td>BlackPeopleTwitter</td>\n",
              "      <td>-8</td>\n",
              "      <td>-1</td>\n",
              "      <td>-1</td>\n",
              "      <td>2016-10</td>\n",
              "      <td>2016-10-18 21:03:47</td>\n",
              "      <td>deadass don't kill my buzz</td>\n",
              "    </tr>\n",
              "    <tr>\n",
              "      <th>4</th>\n",
              "      <td>0</td>\n",
              "      <td>I could use one of those tools.</td>\n",
              "      <td>cush2push</td>\n",
              "      <td>MaddenUltimateTeam</td>\n",
              "      <td>6</td>\n",
              "      <td>-1</td>\n",
              "      <td>-1</td>\n",
              "      <td>2016-12</td>\n",
              "      <td>2016-12-30 17:00:13</td>\n",
              "      <td>Yep can confirm I saw the tool they use for th...</td>\n",
              "    </tr>\n",
              "  </tbody>\n",
              "</table>\n",
              "</div>\n",
              "    <div class=\"colab-df-buttons\">\n",
              "\n",
              "  <div class=\"colab-df-container\">\n",
              "    <button class=\"colab-df-convert\" onclick=\"convertToInteractive('df-c95d79ce-2b7e-4bd4-8f73-775bbaef11b1')\"\n",
              "            title=\"Convert this dataframe to an interactive table.\"\n",
              "            style=\"display:none;\">\n",
              "\n",
              "  <svg xmlns=\"http://www.w3.org/2000/svg\" height=\"24px\" viewBox=\"0 -960 960 960\">\n",
              "    <path d=\"M120-120v-720h720v720H120Zm60-500h600v-160H180v160Zm220 220h160v-160H400v160Zm0 220h160v-160H400v160ZM180-400h160v-160H180v160Zm440 0h160v-160H620v160ZM180-180h160v-160H180v160Zm440 0h160v-160H620v160Z\"/>\n",
              "  </svg>\n",
              "    </button>\n",
              "\n",
              "  <style>\n",
              "    .colab-df-container {\n",
              "      display:flex;\n",
              "      gap: 12px;\n",
              "    }\n",
              "\n",
              "    .colab-df-convert {\n",
              "      background-color: #E8F0FE;\n",
              "      border: none;\n",
              "      border-radius: 50%;\n",
              "      cursor: pointer;\n",
              "      display: none;\n",
              "      fill: #1967D2;\n",
              "      height: 32px;\n",
              "      padding: 0 0 0 0;\n",
              "      width: 32px;\n",
              "    }\n",
              "\n",
              "    .colab-df-convert:hover {\n",
              "      background-color: #E2EBFA;\n",
              "      box-shadow: 0px 1px 2px rgba(60, 64, 67, 0.3), 0px 1px 3px 1px rgba(60, 64, 67, 0.15);\n",
              "      fill: #174EA6;\n",
              "    }\n",
              "\n",
              "    .colab-df-buttons div {\n",
              "      margin-bottom: 4px;\n",
              "    }\n",
              "\n",
              "    [theme=dark] .colab-df-convert {\n",
              "      background-color: #3B4455;\n",
              "      fill: #D2E3FC;\n",
              "    }\n",
              "\n",
              "    [theme=dark] .colab-df-convert:hover {\n",
              "      background-color: #434B5C;\n",
              "      box-shadow: 0px 1px 3px 1px rgba(0, 0, 0, 0.15);\n",
              "      filter: drop-shadow(0px 1px 2px rgba(0, 0, 0, 0.3));\n",
              "      fill: #FFFFFF;\n",
              "    }\n",
              "  </style>\n",
              "\n",
              "    <script>\n",
              "      const buttonEl =\n",
              "        document.querySelector('#df-c95d79ce-2b7e-4bd4-8f73-775bbaef11b1 button.colab-df-convert');\n",
              "      buttonEl.style.display =\n",
              "        google.colab.kernel.accessAllowed ? 'block' : 'none';\n",
              "\n",
              "      async function convertToInteractive(key) {\n",
              "        const element = document.querySelector('#df-c95d79ce-2b7e-4bd4-8f73-775bbaef11b1');\n",
              "        const dataTable =\n",
              "          await google.colab.kernel.invokeFunction('convertToInteractive',\n",
              "                                                    [key], {});\n",
              "        if (!dataTable) return;\n",
              "\n",
              "        const docLinkHtml = 'Like what you see? Visit the ' +\n",
              "          '<a target=\"_blank\" href=https://colab.research.google.com/notebooks/data_table.ipynb>data table notebook</a>'\n",
              "          + ' to learn more about interactive tables.';\n",
              "        element.innerHTML = '';\n",
              "        dataTable['output_type'] = 'display_data';\n",
              "        await google.colab.output.renderOutput(dataTable, element);\n",
              "        const docLink = document.createElement('div');\n",
              "        docLink.innerHTML = docLinkHtml;\n",
              "        element.appendChild(docLink);\n",
              "      }\n",
              "    </script>\n",
              "  </div>\n",
              "\n",
              "\n",
              "<div id=\"df-1584e659-4b74-4a79-8b2a-8e756dfb8e21\">\n",
              "  <button class=\"colab-df-quickchart\" onclick=\"quickchart('df-1584e659-4b74-4a79-8b2a-8e756dfb8e21')\"\n",
              "            title=\"Suggest charts\"\n",
              "            style=\"display:none;\">\n",
              "\n",
              "<svg xmlns=\"http://www.w3.org/2000/svg\" height=\"24px\"viewBox=\"0 0 24 24\"\n",
              "     width=\"24px\">\n",
              "    <g>\n",
              "        <path d=\"M19 3H5c-1.1 0-2 .9-2 2v14c0 1.1.9 2 2 2h14c1.1 0 2-.9 2-2V5c0-1.1-.9-2-2-2zM9 17H7v-7h2v7zm4 0h-2V7h2v10zm4 0h-2v-4h2v4z\"/>\n",
              "    </g>\n",
              "</svg>\n",
              "  </button>\n",
              "\n",
              "<style>\n",
              "  .colab-df-quickchart {\n",
              "      --bg-color: #E8F0FE;\n",
              "      --fill-color: #1967D2;\n",
              "      --hover-bg-color: #E2EBFA;\n",
              "      --hover-fill-color: #174EA6;\n",
              "      --disabled-fill-color: #AAA;\n",
              "      --disabled-bg-color: #DDD;\n",
              "  }\n",
              "\n",
              "  [theme=dark] .colab-df-quickchart {\n",
              "      --bg-color: #3B4455;\n",
              "      --fill-color: #D2E3FC;\n",
              "      --hover-bg-color: #434B5C;\n",
              "      --hover-fill-color: #FFFFFF;\n",
              "      --disabled-bg-color: #3B4455;\n",
              "      --disabled-fill-color: #666;\n",
              "  }\n",
              "\n",
              "  .colab-df-quickchart {\n",
              "    background-color: var(--bg-color);\n",
              "    border: none;\n",
              "    border-radius: 50%;\n",
              "    cursor: pointer;\n",
              "    display: none;\n",
              "    fill: var(--fill-color);\n",
              "    height: 32px;\n",
              "    padding: 0;\n",
              "    width: 32px;\n",
              "  }\n",
              "\n",
              "  .colab-df-quickchart:hover {\n",
              "    background-color: var(--hover-bg-color);\n",
              "    box-shadow: 0 1px 2px rgba(60, 64, 67, 0.3), 0 1px 3px 1px rgba(60, 64, 67, 0.15);\n",
              "    fill: var(--button-hover-fill-color);\n",
              "  }\n",
              "\n",
              "  .colab-df-quickchart-complete:disabled,\n",
              "  .colab-df-quickchart-complete:disabled:hover {\n",
              "    background-color: var(--disabled-bg-color);\n",
              "    fill: var(--disabled-fill-color);\n",
              "    box-shadow: none;\n",
              "  }\n",
              "\n",
              "  .colab-df-spinner {\n",
              "    border: 2px solid var(--fill-color);\n",
              "    border-color: transparent;\n",
              "    border-bottom-color: var(--fill-color);\n",
              "    animation:\n",
              "      spin 1s steps(1) infinite;\n",
              "  }\n",
              "\n",
              "  @keyframes spin {\n",
              "    0% {\n",
              "      border-color: transparent;\n",
              "      border-bottom-color: var(--fill-color);\n",
              "      border-left-color: var(--fill-color);\n",
              "    }\n",
              "    20% {\n",
              "      border-color: transparent;\n",
              "      border-left-color: var(--fill-color);\n",
              "      border-top-color: var(--fill-color);\n",
              "    }\n",
              "    30% {\n",
              "      border-color: transparent;\n",
              "      border-left-color: var(--fill-color);\n",
              "      border-top-color: var(--fill-color);\n",
              "      border-right-color: var(--fill-color);\n",
              "    }\n",
              "    40% {\n",
              "      border-color: transparent;\n",
              "      border-right-color: var(--fill-color);\n",
              "      border-top-color: var(--fill-color);\n",
              "    }\n",
              "    60% {\n",
              "      border-color: transparent;\n",
              "      border-right-color: var(--fill-color);\n",
              "    }\n",
              "    80% {\n",
              "      border-color: transparent;\n",
              "      border-right-color: var(--fill-color);\n",
              "      border-bottom-color: var(--fill-color);\n",
              "    }\n",
              "    90% {\n",
              "      border-color: transparent;\n",
              "      border-bottom-color: var(--fill-color);\n",
              "    }\n",
              "  }\n",
              "</style>\n",
              "\n",
              "  <script>\n",
              "    async function quickchart(key) {\n",
              "      const quickchartButtonEl =\n",
              "        document.querySelector('#' + key + ' button');\n",
              "      quickchartButtonEl.disabled = true;  // To prevent multiple clicks.\n",
              "      quickchartButtonEl.classList.add('colab-df-spinner');\n",
              "      try {\n",
              "        const charts = await google.colab.kernel.invokeFunction(\n",
              "            'suggestCharts', [key], {});\n",
              "      } catch (error) {\n",
              "        console.error('Error during call to suggestCharts:', error);\n",
              "      }\n",
              "      quickchartButtonEl.classList.remove('colab-df-spinner');\n",
              "      quickchartButtonEl.classList.add('colab-df-quickchart-complete');\n",
              "    }\n",
              "    (() => {\n",
              "      let quickchartButtonEl =\n",
              "        document.querySelector('#df-1584e659-4b74-4a79-8b2a-8e756dfb8e21 button');\n",
              "      quickchartButtonEl.style.display =\n",
              "        google.colab.kernel.accessAllowed ? 'block' : 'none';\n",
              "    })();\n",
              "  </script>\n",
              "</div>\n",
              "\n",
              "    </div>\n",
              "  </div>\n"
            ]
          },
          "metadata": {},
          "execution_count": 5
        }
      ]
    },
    {
      "cell_type": "code",
      "source": [
        "train_bal.info()"
      ],
      "metadata": {
        "id": "buRDCOARVtib",
        "outputId": "1ccae089-cecf-4d0f-fa43-772393ec1dac",
        "colab": {
          "base_uri": "https://localhost:8080/"
        }
      },
      "execution_count": 6,
      "outputs": [
        {
          "output_type": "stream",
          "name": "stdout",
          "text": [
            "<class 'pandas.core.frame.DataFrame'>\n",
            "RangeIndex: 1010826 entries, 0 to 1010825\n",
            "Data columns (total 10 columns):\n",
            " #   Column          Non-Null Count    Dtype \n",
            "---  ------          --------------    ----- \n",
            " 0   label           1010826 non-null  int64 \n",
            " 1   comment         1010773 non-null  object\n",
            " 2   author          1010826 non-null  object\n",
            " 3   subreddit       1010826 non-null  object\n",
            " 4   score           1010826 non-null  int64 \n",
            " 5   ups             1010826 non-null  int64 \n",
            " 6   downs           1010826 non-null  int64 \n",
            " 7   date            1010826 non-null  object\n",
            " 8   created_utc     1010826 non-null  object\n",
            " 9   parent_comment  1010826 non-null  object\n",
            "dtypes: int64(4), object(6)\n",
            "memory usage: 77.1+ MB\n"
          ]
        }
      ]
    },
    {
      "cell_type": "code",
      "source": [
        "train_bal['label'].value_counts()"
      ],
      "metadata": {
        "id": "8ZmNESsSV-QP",
        "outputId": "22faccdb-c6af-4e0f-87d9-79f630112803",
        "colab": {
          "base_uri": "https://localhost:8080/"
        }
      },
      "execution_count": 7,
      "outputs": [
        {
          "output_type": "execute_result",
          "data": {
            "text/plain": [
              "0    505413\n",
              "1    505413\n",
              "Name: label, dtype: int64"
            ]
          },
          "metadata": {},
          "execution_count": 7
        }
      ]
    },
    {
      "cell_type": "markdown",
      "source": [
        "We can see our dataset is balanced."
      ],
      "metadata": {
        "id": "BGEjPFEaXQ-0"
      }
    },
    {
      "cell_type": "code",
      "source": [
        "train_bal[:20]['comment']"
      ],
      "metadata": {
        "id": "l80XOo3PoGVK",
        "outputId": "f0951675-cbb0-46d8-8108-7243b17c3c98",
        "colab": {
          "base_uri": "https://localhost:8080/"
        }
      },
      "execution_count": 8,
      "outputs": [
        {
          "output_type": "execute_result",
          "data": {
            "text/plain": [
              "0                                            NC and NH.\n",
              "1     You do know west teams play against west teams...\n",
              "2     They were underdogs earlier today, but since G...\n",
              "3     This meme isn't funny none of the \"new york ni...\n",
              "4                       I could use one of those tools.\n",
              "5     I don't pay attention to her, but as long as s...\n",
              "6         Trick or treating in general is just weird...\n",
              "7                       Blade Mastery+Masamune or GTFO!\n",
              "8     You don't have to, you have a good build, buy ...\n",
              "9                     I would love to see him at lolla.\n",
              "10    I think a significant amount would be against ...\n",
              "11                       Damn I was hoping God was real\n",
              "12                                 They have an agenda.\n",
              "13                                          Great idea!\n",
              "14    Ayy bb wassup, it makes a bit more sense in co...\n",
              "15                                        what the fuck\n",
              "16                                               noted.\n",
              "17    because it's what really bothers him... and it...\n",
              "18                        why you fail me, my precious?\n",
              "19                       Pre-Flashpoint Clark and Lois.\n",
              "Name: comment, dtype: object"
            ]
          },
          "metadata": {},
          "execution_count": 8
        }
      ]
    },
    {
      "cell_type": "code",
      "source": [
        "# Remove null rows\n",
        "train_bal = train_bal[-train_bal['comment'].isnull()]\n",
        "train_bal.info()"
      ],
      "metadata": {
        "id": "cA0DMiRxg6IY",
        "outputId": "e505bce1-e57d-4ec5-e097-063e7de5cf8e",
        "colab": {
          "base_uri": "https://localhost:8080/"
        }
      },
      "execution_count": 9,
      "outputs": [
        {
          "output_type": "stream",
          "name": "stdout",
          "text": [
            "<class 'pandas.core.frame.DataFrame'>\n",
            "Int64Index: 1010773 entries, 0 to 1010825\n",
            "Data columns (total 10 columns):\n",
            " #   Column          Non-Null Count    Dtype \n",
            "---  ------          --------------    ----- \n",
            " 0   label           1010773 non-null  int64 \n",
            " 1   comment         1010773 non-null  object\n",
            " 2   author          1010773 non-null  object\n",
            " 3   subreddit       1010773 non-null  object\n",
            " 4   score           1010773 non-null  int64 \n",
            " 5   ups             1010773 non-null  int64 \n",
            " 6   downs           1010773 non-null  int64 \n",
            " 7   date            1010773 non-null  object\n",
            " 8   created_utc     1010773 non-null  object\n",
            " 9   parent_comment  1010773 non-null  object\n",
            "dtypes: int64(4), object(6)\n",
            "memory usage: 84.8+ MB\n"
          ]
        }
      ]
    },
    {
      "cell_type": "markdown",
      "source": [
        "Now we're going to split our data into train and test sets using an 80/20 split"
      ],
      "metadata": {
        "id": "_Eg3IiS0hm_n"
      }
    },
    {
      "cell_type": "code",
      "source": [
        "df_shuffled = train_bal.sample(frac=1, random_state=22)  # Shuffle data\n",
        "\n",
        "# Split into train and test (80% train, 20% test)\n",
        "train_bal, test_bal = train_test_split(df_shuffled, test_size=0.2, random_state=22)\n",
        "\n",
        "print(train_bal.shape)\n",
        "print(test_bal.shape)"
      ],
      "metadata": {
        "id": "p5VQ6Y3keuLP",
        "outputId": "692d475e-5559-4737-da52-7aec631fb9ad",
        "colab": {
          "base_uri": "https://localhost:8080/"
        }
      },
      "execution_count": 10,
      "outputs": [
        {
          "output_type": "stream",
          "name": "stdout",
          "text": [
            "(808618, 10)\n",
            "(202155, 10)\n"
          ]
        }
      ]
    },
    {
      "cell_type": "code",
      "source": [
        "train_bal['label'].value_counts(normalize=True)"
      ],
      "metadata": {
        "id": "_H-pnPjZgGOo",
        "outputId": "03069286-0cb4-4ff6-d23f-6868965793d6",
        "colab": {
          "base_uri": "https://localhost:8080/"
        }
      },
      "execution_count": 11,
      "outputs": [
        {
          "output_type": "execute_result",
          "data": {
            "text/plain": [
              "1    0.500074\n",
              "0    0.499926\n",
              "Name: label, dtype: float64"
            ]
          },
          "metadata": {},
          "execution_count": 11
        }
      ]
    },
    {
      "cell_type": "code",
      "source": [
        "test_bal['label'].value_counts(normalize=True)"
      ],
      "metadata": {
        "id": "L4KxV9nygM6I",
        "outputId": "b86f80d4-80dc-42a8-8bbf-5742f86b934a",
        "colab": {
          "base_uri": "https://localhost:8080/"
        }
      },
      "execution_count": 12,
      "outputs": [
        {
          "output_type": "execute_result",
          "data": {
            "text/plain": [
              "0    0.500388\n",
              "1    0.499612\n",
              "Name: label, dtype: float64"
            ]
          },
          "metadata": {},
          "execution_count": 12
        }
      ]
    },
    {
      "cell_type": "markdown",
      "source": [
        "## EDA"
      ],
      "metadata": {
        "id": "bxRfLcEQerOA"
      }
    },
    {
      "cell_type": "code",
      "source": [
        "# Separating sarcastic vs non sarcastic comments\n",
        "sarcastic_com = train_bal[train_bal['label'] == 1]\n",
        "non_sarcastic_com = train_bal[train_bal['label'] == 0]"
      ],
      "metadata": {
        "id": "5QAY7ml_oq-h"
      },
      "execution_count": 13,
      "outputs": []
    },
    {
      "cell_type": "code",
      "source": [
        "# # WordCloud for sarcastic comments\n",
        "# wordcloud = WordCloud(width=800, height=400, background_color='white').generate(' '.join(sarcastic_com['comment'].values.ravel()))\n",
        "\n",
        "# # Display the generated word cloud using matplotlib\n",
        "# plt.figure(figsize=(10, 5))\n",
        "# plt.imshow(wordcloud, interpolation='bilinear')\n",
        "# plt.axis('off')\n",
        "# plt.show()"
      ],
      "metadata": {
        "id": "eA_0ybLxesig"
      },
      "execution_count": 14,
      "outputs": []
    },
    {
      "cell_type": "code",
      "source": [
        "# # WordCloud for non-sarcastic comments\n",
        "# wordcloud = WordCloud(width=800, height=400, background_color='white').generate(' '.join(non_sarcastic_com['comment'].values.ravel()))\n",
        "\n",
        "# # Display the generated word cloud using matplotlib\n",
        "# plt.figure(figsize=(10, 5))\n",
        "# plt.imshow(wordcloud, interpolation='bilinear')\n",
        "# plt.axis('off')\n",
        "# plt.show()"
      ],
      "metadata": {
        "id": "NAr7sC4lpEs2"
      },
      "execution_count": 15,
      "outputs": []
    },
    {
      "cell_type": "code",
      "source": [],
      "metadata": {
        "id": "Fn4l2KLpnRkJ"
      },
      "execution_count": 15,
      "outputs": []
    },
    {
      "cell_type": "markdown",
      "source": [
        "# Visualizing Sarcastic Comments by Subreddit"
      ],
      "metadata": {
        "id": "a51uPrvhfN97"
      }
    },
    {
      "cell_type": "code",
      "source": [
        "subreddit_count = sarcastic_com['subreddit'].value_counts()"
      ],
      "metadata": {
        "id": "vH4eEHBohhOY"
      },
      "execution_count": 16,
      "outputs": []
    },
    {
      "cell_type": "code",
      "source": [
        "import matplotlib.pyplot as plt\n",
        "import seaborn as sns\n",
        "top = subreddit_count.head(20)\n",
        "plt.figure(figsize=(10, 6))\n",
        "sns.barplot(x=top.values, y=top.index)\n",
        "plt.xlabel('Number of Sarcastic Comments')\n",
        "plt.ylabel('Subreddit')\n",
        "plt.title('Frequency of Sarcastic Comments by Subreddit')\n",
        "plt.show()\n"
      ],
      "metadata": {
        "id": "MyUb_gYKihvx",
        "outputId": "a13f29de-9920-4606-fa45-58532d7df590",
        "colab": {
          "base_uri": "https://localhost:8080/",
          "height": 564
        }
      },
      "execution_count": 17,
      "outputs": [
        {
          "output_type": "display_data",
          "data": {
            "text/plain": [
              "<Figure size 1000x600 with 1 Axes>"
            ],
            "image/png": "[encoded data removed]"
          },
          "metadata": {}
        }
      ]
    },
    {
      "cell_type": "code",
      "source": [
        "import nltk\n",
        "from nltk import word_tokenize, sent_tokenize\n",
        "from nltk.corpus import stopwords\n",
        "from nltk.stem.porter import *\n",
        "nltk.download('punkt')\n",
        "nltk.download('stopwords')\n",
        "\n",
        "import string\n",
        "\n",
        "import gensim\n",
        "from gensim.models.phrases import Phraser, Phrases\n",
        "from gensim.models.word2vec import Word2Vec\n",
        "\n",
        "import spacy # for a lemmatization example\n",
        "\n",
        "from sklearn.manifold import TSNE\n",
        "\n",
        "import pandas as pd\n",
        "from bokeh.io import output_notebook, output_file\n",
        "from bokeh.plotting import show, figure"
      ],
      "metadata": {
        "id": "0070DkpOns2u",
        "outputId": "d6bbe3ba-7aef-486c-d59a-238f4c3f8351",
        "colab": {
          "base_uri": "https://localhost:8080/"
        }
      },
      "execution_count": 18,
      "outputs": [
        {
          "output_type": "stream",
          "name": "stderr",
          "text": [
            "[nltk_data] Downloading package punkt to /root/nltk_data...\n",
            "[nltk_data]   Unzipping tokenizers/punkt.zip.\n",
            "[nltk_data] Downloading package stopwords to /root/nltk_data...\n",
            "[nltk_data]   Unzipping corpora/stopwords.zip.\n"
          ]
        }
      ]
    },
    {
      "cell_type": "code",
      "source": [
        "comments = train_bal['comment']"
      ],
      "metadata": {
        "id": "Z1115StdoiGI"
      },
      "execution_count": 19,
      "outputs": []
    },
    {
      "cell_type": "code",
      "source": [
        "comments.info()"
      ],
      "metadata": {
        "id": "EY3sfqD7s9UU",
        "outputId": "666de5e8-3c5f-4ee6-a70d-67d42944f489",
        "colab": {
          "base_uri": "https://localhost:8080/"
        }
      },
      "execution_count": 20,
      "outputs": [
        {
          "output_type": "stream",
          "name": "stdout",
          "text": [
            "<class 'pandas.core.series.Series'>\n",
            "Int64Index: 808618 entries, 522142 to 213871\n",
            "Series name: comment\n",
            "Non-Null Count   Dtype \n",
            "--------------   ----- \n",
            "808618 non-null  object\n",
            "dtypes: object(1)\n",
            "memory usage: 12.3+ MB\n"
          ]
        }
      ]
    },
    {
      "cell_type": "code",
      "source": [
        "comments.dropna(inplace=True)\n",
        "comments.info()"
      ],
      "metadata": {
        "id": "sbjzLRGTtbTO",
        "outputId": "77aed4c9-4025-4ac6-a3fa-4e2960ce24f6",
        "colab": {
          "base_uri": "https://localhost:8080/"
        }
      },
      "execution_count": 21,
      "outputs": [
        {
          "output_type": "stream",
          "name": "stdout",
          "text": [
            "<class 'pandas.core.series.Series'>\n",
            "Int64Index: 808618 entries, 522142 to 213871\n",
            "Series name: comment\n",
            "Non-Null Count   Dtype \n",
            "--------------   ----- \n",
            "808618 non-null  object\n",
            "dtypes: object(1)\n",
            "memory usage: 12.3+ MB\n"
          ]
        }
      ]
    },
    {
      "cell_type": "code",
      "source": [
        "!pip install dask[delayed]"
      ],
      "metadata": {
        "id": "FGDdd5DDtef4",
        "outputId": "50dd181e-c63f-4d36-b63b-6159bdf8a824",
        "colab": {
          "base_uri": "https://localhost:8080/"
        }
      },
      "execution_count": 22,
      "outputs": [
        {
          "output_type": "stream",
          "name": "stdout",
          "text": [
            "Requirement already satisfied: dask[delayed] in /usr/local/lib/python3.10/dist-packages (2023.8.1)\n",
            "Requirement already satisfied: click>=8.0 in /usr/local/lib/python3.10/dist-packages (from dask[delayed]) (8.1.7)\n",
            "Requirement already satisfied: cloudpickle>=1.5.0 in /usr/local/lib/python3.10/dist-packages (from dask[delayed]) (2.2.1)\n",
            "Requirement already satisfied: fsspec>=2021.09.0 in /usr/local/lib/python3.10/dist-packages (from dask[delayed]) (2023.6.0)\n",
            "Requirement already satisfied: packaging>=20.0 in /usr/local/lib/python3.10/dist-packages (from dask[delayed]) (23.2)\n",
            "Requirement already satisfied: partd>=1.2.0 in /usr/local/lib/python3.10/dist-packages (from dask[delayed]) (1.4.1)\n",
            "Requirement already satisfied: pyyaml>=5.3.1 in /usr/local/lib/python3.10/dist-packages (from dask[delayed]) (6.0.1)\n",
            "Requirement already satisfied: toolz>=0.10.0 in /usr/local/lib/python3.10/dist-packages (from dask[delayed]) (0.12.0)\n",
            "Requirement already satisfied: importlib-metadata>=4.13.0 in /usr/local/lib/python3.10/dist-packages (from dask[delayed]) (7.0.1)\n",
            "Requirement already satisfied: zipp>=0.5 in /usr/local/lib/python3.10/dist-packages (from importlib-metadata>=4.13.0->dask[delayed]) (3.17.0)\n",
            "Requirement already satisfied: locket in /usr/local/lib/python3.10/dist-packages (from partd>=1.2.0->dask[delayed]) (1.0.0)\n"
          ]
        }
      ]
    },
    {
      "cell_type": "code",
      "source": [
        "import dask.dataframe as dd\n",
        "from dask import delayed"
      ],
      "metadata": {
        "id": "KJuWYScVtzH6"
      },
      "execution_count": 23,
      "outputs": []
    },
    {
      "cell_type": "code",
      "source": [
        "comment_test = comments.head(10000)"
      ],
      "metadata": {
        "id": "3swTFty9uT5U"
      },
      "execution_count": 24,
      "outputs": []
    },
    {
      "cell_type": "markdown",
      "source": [
        "#Create large function that does this text preprocessing so that it can be used with X_train, also figure out how to split and keep track of data\n"
      ],
      "metadata": {
        "id": "e7PBx8sX9G7V"
      }
    },
    {
      "cell_type": "code",
      "source": [
        "from tensorflow.keras.preprocessing.text import Tokenizer\n",
        "def preprocess(text):\n",
        "  tokenized_comments = batch_tokenize(text.tolist())\n",
        "  phrases = Phrases(tokenized_comments)\n",
        "  bigram = Phraser(phrases)\n",
        "  bigram_comments = [bigram[comment] for comment in tokenized_comments]\n",
        "  tokenizer = Tokenizer(lower=False)\n",
        "  tokenizer.fit_on_texts(bigram_comments)\n",
        "  word_index = tokenizer.word_index\n",
        "  word_size = len(word_index) + 1\n",
        "\n",
        "  # uses tokenizer object with the created word index to make each comment a list of integers corresponding to their index\n",
        "  sequences = tokenizer.texts_to_sequences(bigram_comments)\n",
        "\n",
        "\n",
        "  return word_index, word_size, sequences\n",
        "\n"
      ],
      "metadata": {
        "id": "XU1JbHIV9SjY"
      },
      "execution_count": 63,
      "outputs": []
    },
    {
      "cell_type": "code",
      "source": [
        "#  Replace this?\n",
        "def batch_tokenize(texts, batch_size=50000):\n",
        "    tokenized_texts = []\n",
        "    for i in range(0, len(texts), batch_size):\n",
        "        batch = texts[i:i+batch_size]\n",
        "        tokenized_batch = [word_tokenize(text) for text in batch]\n",
        "        tokenized_texts.extend(tokenized_batch)\n",
        "    return tokenized_texts\n",
        "\n",
        "#tokenized_comments = batch_tokenize(comments.tolist())"
      ],
      "metadata": {
        "id": "PHejGAHduG3r"
      },
      "execution_count": 26,
      "outputs": []
    },
    {
      "cell_type": "code",
      "source": [
        "# len(tokenized_comments)"
      ],
      "metadata": {
        "id": "pRII2opwuchE"
      },
      "execution_count": 27,
      "outputs": []
    },
    {
      "cell_type": "code",
      "source": [
        "#phrases = Phrases(tokenized_comments)"
      ],
      "metadata": {
        "id": "RnAMUB1OvgPU"
      },
      "execution_count": 28,
      "outputs": []
    },
    {
      "cell_type": "code",
      "source": [
        "# bigram = Phraser(phrases)"
      ],
      "metadata": {
        "id": "E01b4TT1mhOi"
      },
      "execution_count": 29,
      "outputs": []
    },
    {
      "cell_type": "code",
      "source": [
        "# bigram.phrasegrams"
      ],
      "metadata": {
        "id": "N5h707SPnWa3"
      },
      "execution_count": 30,
      "outputs": []
    },
    {
      "cell_type": "code",
      "source": [
        "# bigram_comments = [bigram[comment] for comment in tokenized_comments]"
      ],
      "metadata": {
        "id": "ms4C3_EgqlGH"
      },
      "execution_count": 31,
      "outputs": []
    },
    {
      "cell_type": "code",
      "source": [
        "# from tensorflow.keras.preprocessing.text import Tokenizer\n",
        "\n",
        "# tokenizer = Tokenizer(lower=False)\n",
        "# tokenizer.fit_on_texts(bigram_comments)\n",
        "# word_index = tokenizer.word_index\n",
        "\n",
        "# word_index is a dictionary where keys are words and values are their corresponding indices"
      ],
      "metadata": {
        "id": "sT0NTxws3G6W"
      },
      "execution_count": 32,
      "outputs": []
    },
    {
      "cell_type": "code",
      "source": [
        "# len(word_index)"
      ],
      "metadata": {
        "id": "luWWCye73rGV"
      },
      "execution_count": 33,
      "outputs": []
    },
    {
      "cell_type": "code",
      "source": [
        "# word_size = len(word_index) + 1"
      ],
      "metadata": {
        "id": "lT7gO2I94LBb"
      },
      "execution_count": 34,
      "outputs": []
    },
    {
      "cell_type": "code",
      "source": [
        "# # Adjust parameters as needed\n",
        "# size = 150\n",
        "# window = 7\n",
        "# min_count = 15\n",
        "# workers = 4\n",
        "# sg = 1\n",
        "# negative = 5\n",
        "# epochs = 7\n",
        "\n",
        "\n",
        "# model = Word2Vec(bigram_comments, vector_size=size, window=window, min_count=min_count, workers=workers)\n",
        "\n",
        "# # model.save(\"/content/drive/Sarcasm_Data/model/word2vec.w2v\")\n"
      ],
      "metadata": {
        "id": "IN5JoLLGq_-J"
      },
      "execution_count": 39,
      "outputs": []
    },
    {
      "cell_type": "code",
      "source": [
        "# model.save(\"model_embedding.w2v\")"
      ],
      "metadata": {
        "id": "NcOVvoH9UAUZ"
      },
      "execution_count": 38,
      "outputs": []
    },
    {
      "cell_type": "code",
      "source": [
        "# skip re-training the model with the next line:\n",
        "model = gensim.models.Word2Vec.load('/content/drive/MyDrive/word2vec.model')"
      ],
      "metadata": {
        "id": "mDi59BCHTiqi"
      },
      "execution_count": 37,
      "outputs": []
    },
    {
      "cell_type": "code",
      "source": [
        "model.wv['dog']"
      ],
      "metadata": {
        "id": "KTxPfHCxrYEP",
        "outputId": "d7f80c2c-9e4e-4483-bbc4-582e46ecddff",
        "colab": {
          "base_uri": "https://localhost:8080/"
        }
      },
      "execution_count": 40,
      "outputs": [
        {
          "output_type": "execute_result",
          "data": {
            "text/plain": [
              "array([ 0.90451765,  1.7631044 ,  0.6231895 ,  0.777761  , -0.510725  ,\n",
              "        0.00946851,  0.17777872, -0.10099883, -0.5565152 , -0.7884845 ,\n",
              "        1.0144794 , -1.570673  , -0.8745102 , -0.4505395 , -0.8160293 ,\n",
              "        0.13125573, -0.5152664 , -0.22710656,  1.0006125 , -0.6409768 ,\n",
              "       -1.9435565 ,  1.6426133 , -0.12443724, -0.48832902,  0.6577657 ,\n",
              "       -0.43018162,  0.74570805, -0.84636575, -0.15677069, -0.789554  ,\n",
              "       -0.8159635 ,  0.5740654 ,  0.7666069 ,  1.0616834 , -0.3965836 ,\n",
              "       -0.60506284,  0.3834844 ,  0.34873432,  1.0772258 , -1.2930739 ,\n",
              "        0.04845177, -0.56659   ,  0.44698796,  1.2523938 , -1.1663436 ,\n",
              "        0.381793  , -0.8429205 , -1.2329977 , -1.84278   ,  1.4529505 ,\n",
              "        0.8372087 ,  0.33779916, -1.2361301 ,  1.4015558 ,  1.5104085 ,\n",
              "        1.559361  ,  1.278143  , -0.06229809,  0.8317676 , -0.65179724,\n",
              "        1.0235895 ,  0.48910755,  1.1788733 , -1.1857599 , -0.22784023,\n",
              "        0.41432002,  0.41276404, -0.01175862,  0.4518781 , -0.7300196 ,\n",
              "       -0.8374771 , -0.1387884 , -0.28642485, -0.94883156, -0.6871681 ,\n",
              "        0.3246033 , -0.33149964, -0.1323354 ,  0.8328783 , -1.1397504 ,\n",
              "        0.5808621 , -0.0990453 , -0.509313  ,  0.03035838, -0.20124315,\n",
              "       -0.02489554,  0.64359343,  0.38221067, -0.9810254 , -1.5566046 ,\n",
              "        0.67762977,  1.4499048 ,  0.30009812,  0.57162786, -1.4151525 ,\n",
              "       -1.0221449 ,  0.62477714, -0.48670632,  0.37881532,  1.2678858 ,\n",
              "        1.3101665 ,  0.3186315 ,  0.0356954 , -0.11342485, -0.81428903,\n",
              "       -1.0717608 ,  1.1441368 ,  0.95219266, -0.48588705, -1.5537081 ,\n",
              "        0.7204861 , -0.39527172, -0.60429484, -0.34870103,  0.2203365 ,\n",
              "       -0.22232334,  0.6444871 ,  0.6948056 , -1.8524384 ,  0.17593646,\n",
              "        0.3732253 , -0.18999423, -0.4942816 ,  0.76918936,  0.8966048 ,\n",
              "       -0.35444522, -0.66347706,  0.0872995 , -0.3551005 , -0.5085508 ,\n",
              "        1.4302262 , -0.38396415,  0.39964738, -0.44851458, -0.30252296,\n",
              "        0.28261462,  1.7253313 , -0.65551895, -0.8703985 ,  0.53717774,\n",
              "       -0.51919633, -0.8496332 , -1.3894501 , -0.8018658 ,  1.083469  ,\n",
              "        0.05043231,  0.32045293, -0.5489033 , -2.131886  , -0.628709  ],\n",
              "      dtype=float32)"
            ]
          },
          "metadata": {},
          "execution_count": 40
        }
      ]
    },
    {
      "cell_type": "code",
      "source": [
        "similar_words = model.wv.most_similar('ok')\n",
        "similar_words"
      ],
      "metadata": {
        "colab": {
          "base_uri": "https://localhost:8080/"
        },
        "id": "7GtgNUaAtcQD",
        "outputId": "e10e4fde-9fa0-4d3f-a13d-258d2da9ef10"
      },
      "execution_count": 41,
      "outputs": [
        {
          "output_type": "execute_result",
          "data": {
            "text/plain": [
              "[('okay', 0.9446449279785156),\n",
              " ('OK', 0.9253052473068237),\n",
              " ('alright', 0.7982171773910522),\n",
              " ('fine', 0.6672182083129883),\n",
              " ('perfectly_fine', 0.642020046710968),\n",
              " ('cool', 0.5878971815109253),\n",
              " ('justified', 0.5626591444015503),\n",
              " ('wrong', 0.5318138599395752),\n",
              " ('understandable', 0.5288909077644348),\n",
              " ('unacceptable', 0.4947114884853363)]"
            ]
          },
          "metadata": {},
          "execution_count": 41
        }
      ]
    },
    {
      "cell_type": "code",
      "source": [
        "model.wv.doesnt_match(\"mother father sister brother dog\".split())"
      ],
      "metadata": {
        "id": "LE74GomRJOWv",
        "outputId": "fe383f8e-ace7-4343-bd2d-d275e59d0609",
        "colab": {
          "base_uri": "https://localhost:8080/",
          "height": 36
        }
      },
      "execution_count": 42,
      "outputs": [
        {
          "output_type": "execute_result",
          "data": {
            "text/plain": [
              "'dog'"
            ],
            "application/vnd.google.colaboratory.intrinsic+json": {
              "type": "string"
            }
          },
          "metadata": {},
          "execution_count": 42
        }
      ]
    },
    {
      "cell_type": "code",
      "source": [
        "model.wv.similarity('father', 'dog')"
      ],
      "metadata": {
        "id": "eJcuoTz4JPoP",
        "outputId": "9be8c0bd-0de2-4830-a81b-306545049421",
        "colab": {
          "base_uri": "https://localhost:8080/"
        }
      },
      "execution_count": 43,
      "outputs": [
        {
          "output_type": "execute_result",
          "data": {
            "text/plain": [
              "0.66480863"
            ]
          },
          "metadata": {},
          "execution_count": 43
        }
      ]
    },
    {
      "cell_type": "code",
      "source": [
        "model.wv.most_similar(positive=['father', 'woman'], negative=['man'])   # Should expect mother"
      ],
      "metadata": {
        "id": "ZH0zJ9D0JTAH",
        "outputId": "30877af0-1205-47ab-84ee-d77a526e4fb4",
        "colab": {
          "base_uri": "https://localhost:8080/"
        }
      },
      "execution_count": 44,
      "outputs": [
        {
          "output_type": "execute_result",
          "data": {
            "text/plain": [
              "[('mother', 0.7413758039474487),\n",
              " ('child', 0.709227979183197),\n",
              " ('daughter', 0.6811947822570801),\n",
              " ('wife', 0.6779746413230896),\n",
              " ('husband', 0.6702209115028381),\n",
              " ('sister', 0.6224682927131653),\n",
              " ('girlfriend', 0.6099835634231567),\n",
              " ('family', 0.606359601020813),\n",
              " ('teacher', 0.5988774299621582),\n",
              " ('family_member', 0.5981861352920532)]"
            ]
          },
          "metadata": {},
          "execution_count": 44
        }
      ]
    },
    {
      "cell_type": "code",
      "source": [
        "model.wv.most_similar(positive=['husband', 'woman'], negative=['man'])  # Should expect wife"
      ],
      "metadata": {
        "id": "9OBRMbMrJZUa",
        "outputId": "70ea7d09-de86-46b6-9645-226cef1859bf",
        "colab": {
          "base_uri": "https://localhost:8080/"
        }
      },
      "execution_count": 45,
      "outputs": [
        {
          "output_type": "execute_result",
          "data": {
            "text/plain": [
              "[('daughter', 0.7059494853019714),\n",
              " ('mother', 0.6991272568702698),\n",
              " ('child', 0.6818873882293701),\n",
              " ('partner', 0.6637686491012573),\n",
              " ('wife', 0.6501094698905945),\n",
              " ('girlfriend', 0.6445956230163574),\n",
              " ('father', 0.6311219334602356),\n",
              " ('boyfriend', 0.6283386945724487),\n",
              " ('sister', 0.6098517775535583),\n",
              " ('penis', 0.609626293182373)]"
            ]
          },
          "metadata": {},
          "execution_count": 45
        }
      ]
    },
    {
      "cell_type": "markdown",
      "source": [
        "### t-SNE Word Embedding Visualization"
      ],
      "metadata": {
        "id": "eDUAEbPEYVax"
      }
    },
    {
      "cell_type": "code",
      "source": [
        "# tsne = TSNE(n_components=2, n_iter=1000)"
      ],
      "metadata": {
        "id": "r_PTRS5cJfJn"
      },
      "execution_count": 46,
      "outputs": []
    },
    {
      "cell_type": "code",
      "source": [
        "# X_2d = tsne.fit_transform(model.wv[model.wv.key_to_index])\n",
        "# coords_df = pd.DataFrame(X_2d, columns=['x','y'])\n",
        "# coords_df['token'] = model.wv.index_to_key\n",
        "# coords_df.head()\n"
      ],
      "metadata": {
        "id": "RsgHPNmMJqKg"
      },
      "execution_count": 47,
      "outputs": []
    },
    {
      "cell_type": "code",
      "source": [
        "# coords_df.to_csv(\"/content/drive/MyDrive/Sarcasm_Data/coords_df\", index=False)"
      ],
      "metadata": {
        "id": "A8pjccydtFfx"
      },
      "execution_count": 48,
      "outputs": []
    },
    {
      "cell_type": "code",
      "source": [
        "coords_df = pd.read_csv('/content/drive/MyDrive/Sarcasm_Data/coords_df')\n",
        "output_notebook()\n",
        "subset_df = coords_df.sample(n=5000)\n",
        "p = figure(min_width=800, min_height=800)\n",
        "_ = p.text(x=subset_df.x, y=subset_df.y, text=subset_df.token)\n",
        "show(p)"
      ],
      "metadata": {
        "id": "-ZMJHWBWJ0IA",
        "outputId": "11f2a1a7-9a8a-430e-82f8-3651c48ba64b",
        "colab": {
          "base_uri": "https://localhost:8080/",
          "height": 817
        }
      },
      "execution_count": 49,
      "outputs": [
        {
          "output_type": "display_data",
          "data": {
            "application/javascript": [
              "(function(root) {\n",
              "  function now() {\n",
              "    return new Date();\n",
              "  }\n",
              "\n",
              "  const force = true;\n",
              "\n",
              "  if (typeof root._bokeh_onload_callbacks === \"undefined\" || force === true) {\n",
              "    root._bokeh_onload_callbacks = [];\n",
              "    root._bokeh_is_loading = undefined;\n",
              "  }\n",
              "\n",
              "const JS_MIME_TYPE = 'application/javascript';\n",
              "  const HTML_MIME_TYPE = 'text/html';\n",
              "  const EXEC_MIME_TYPE = 'application/vnd.bokehjs_exec.v0+json';\n",
              "  const CLASS_NAME = 'output_bokeh rendered_html';\n",
              "\n",
              "  /**\n",
              "   * Render data to the DOM node\n",
              "   */\n",
              "  function render(props, node) {\n",
              "    const script = document.createElement(\"script\");\n",
              "    node.appendChild(script);\n",
              "  }\n",
              "\n",
              "  /**\n",
              "   * Handle when an output is cleared or removed\n",
              "   */\n",
              "  function handleClearOutput(event, handle) {\n",
              "    function drop(id) {\n",
              "      const view = Bokeh.index.get_by_id(id)\n",
              "      if (view != null) {\n",
              "        view.model.document.clear()\n",
              "        Bokeh.index.delete(view)\n",
              "      }\n",
              "    }\n",
              "\n",
              "    const cell = handle.cell;\n",
              "\n",
              "    const id = cell.output_area._bokeh_element_id;\n",
              "    const server_id = cell.output_area._bokeh_server_id;\n",
              "\n",
              "    // Clean up Bokeh references\n",
              "    if (id != null) {\n",
              "      drop(id)\n",
              "    }\n",
              "\n",
              "    if (server_id !== undefined) {\n",
              "      // Clean up Bokeh references\n",
              "      const cmd_clean = \"from bokeh.io.state import curstate; print(curstate().uuid_to_server['\" + server_id + \"'].get_sessions()[0].document.roots[0]._id)\";\n",
              "      cell.notebook.kernel.execute(cmd_clean, {\n",
              "        iopub: {\n",
              "          output: function(msg) {\n",
              "            const id = msg.content.text.trim()\n",
              "            drop(id)\n",
              "          }\n",
              "        }\n",
              "      });\n",
              "      // Destroy server and session\n",
              "      const cmd_destroy = \"import bokeh.io.notebook as ion; ion.destroy_server('\" + server_id + \"')\";\n",
              "      cell.notebook.kernel.execute(cmd_destroy);\n",
              "    }\n",
              "  }\n",
              "\n",
              "  /**\n",
              "   * Handle when a new output is added\n",
              "   */\n",
              "  function handleAddOutput(event, handle) {\n",
              "    const output_area = handle.output_area;\n",
              "    const output = handle.output;\n",
              "\n",
              "    // limit handleAddOutput to display_data with EXEC_MIME_TYPE content only\n",
              "    if ((output.output_type != \"display_data\") || (!Object.prototype.hasOwnProperty.call(output.data, EXEC_MIME_TYPE))) {\n",
              "      return\n",
              "    }\n",
              "\n",
              "    const toinsert = output_area.element.find(\".\" + CLASS_NAME.split(' ')[0]);\n",
              "\n",
              "    if (output.metadata[EXEC_MIME_TYPE][\"id\"] !== undefined) {\n",
              "      toinsert[toinsert.length - 1].firstChild.textContent = output.data[JS_MIME_TYPE];\n",
              "      // store reference to embed id on output_area\n",
              "      output_area._bokeh_element_id = output.metadata[EXEC_MIME_TYPE][\"id\"];\n",
              "    }\n",
              "    if (output.metadata[EXEC_MIME_TYPE][\"server_id\"] !== undefined) {\n",
              "      const bk_div = document.createElement(\"div\");\n",
              "      bk_div.innerHTML = output.data[HTML_MIME_TYPE];\n",
              "      const script_attrs = bk_div.children[0].attributes;\n",
              "      for (let i = 0; i < script_attrs.length; i++) {\n",
              "        toinsert[toinsert.length - 1].firstChild.setAttribute(script_attrs[i].name, script_attrs[i].value);\n",
              "        toinsert[toinsert.length - 1].firstChild.textContent = bk_div.children[0].textContent\n",
              "      }\n",
              "      // store reference to server id on output_area\n",
              "      output_area._bokeh_server_id = output.metadata[EXEC_MIME_TYPE][\"server_id\"];\n",
              "    }\n",
              "  }\n",
              "\n",
              "  function register_renderer(events, OutputArea) {\n",
              "\n",
              "    function append_mime(data, metadata, element) {\n",
              "      // create a DOM node to render to\n",
              "      const toinsert = this.create_output_subarea(\n",
              "        metadata,\n",
              "        CLASS_NAME,\n",
              "        EXEC_MIME_TYPE\n",
              "      );\n",
              "      this.keyboard_manager.register_events(toinsert);\n",
              "      // Render to node\n",
              "      const props = {data: data, metadata: metadata[EXEC_MIME_TYPE]};\n",
              "      render(props, toinsert[toinsert.length - 1]);\n",
              "      element.append(toinsert);\n",
              "      return toinsert\n",
              "    }\n",
              "\n",
              "    /* Handle when an output is cleared or removed */\n",
              "    events.on('clear_output.CodeCell', handleClearOutput);\n",
              "    events.on('delete.Cell', handleClearOutput);\n",
              "\n",
              "    /* Handle when a new output is added */\n",
              "    events.on('output_added.OutputArea', handleAddOutput);\n",
              "\n",
              "    /**\n",
              "     * Register the mime type and append_mime function with output_area\n",
              "     */\n",
              "    OutputArea.prototype.register_mime_type(EXEC_MIME_TYPE, append_mime, {\n",
              "      /* Is output safe? */\n",
              "      safe: true,\n",
              "      /* Index of renderer in `output_area.display_order` */\n",
              "      index: 0\n",
              "    });\n",
              "  }\n",
              "\n",
              "  // register the mime type if in Jupyter Notebook environment and previously unregistered\n",
              "  if (root.Jupyter !== undefined) {\n",
              "    const events = require('base/js/events');\n",
              "    const OutputArea = require('notebook/js/outputarea').OutputArea;\n",
              "\n",
              "    if (OutputArea.prototype.mime_types().indexOf(EXEC_MIME_TYPE) == -1) {\n",
              "      register_renderer(events, OutputArea);\n",
              "    }\n",
              "  }\n",
              "  if (typeof (root._bokeh_timeout) === \"undefined\" || force === true) {\n",
              "    root._bokeh_timeout = Date.now() + 5000;\n",
              "    root._bokeh_failed_load = false;\n",
              "  }\n",
              "\n",
              "  const NB_LOAD_WARNING = {'data': {'text/html':\n",
              "     \"<div style='background-color: #fdd'>\\n\"+\n",
              "     \"<p>\\n\"+\n",
              "     \"BokehJS does not appear to have successfully loaded. If loading BokehJS from CDN, this \\n\"+\n",
              "     \"may be due to a slow or bad network connection. Possible fixes:\\n\"+\n",
              "     \"</p>\\n\"+\n",
              "     \"<ul>\\n\"+\n",
              "     \"<li>re-rerun `output_notebook()` to attempt to load from CDN again, or</li>\\n\"+\n",
              "     \"<li>use INLINE resources instead, as so:</li>\\n\"+\n",
              "     \"</ul>\\n\"+\n",
              "     \"<code>\\n\"+\n",
              "     \"from bokeh.resources import INLINE\\n\"+\n",
              "     \"output_notebook(resources=INLINE)\\n\"+\n",
              "     \"</code>\\n\"+\n",
              "     \"</div>\"}};\n",
              "\n",
              "  function display_loaded() {\n",
              "    const el = document.getElementById(null);\n",
              "    if (el != null) {\n",
              "      el.textContent = \"BokehJS is loading...\";\n",
              "    }\n",
              "    if (root.Bokeh !== undefined) {\n",
              "      if (el != null) {\n",
              "        el.textContent = \"BokehJS \" + root.Bokeh.version + \" successfully loaded.\";\n",
              "      }\n",
              "    } else if (Date.now() < root._bokeh_timeout) {\n",
              "      setTimeout(display_loaded, 100)\n",
              "    }\n",
              "  }\n",
              "\n",
              "  function run_callbacks() {\n",
              "    try {\n",
              "      root._bokeh_onload_callbacks.forEach(function(callback) {\n",
              "        if (callback != null)\n",
              "          callback();\n",
              "      });\n",
              "    } finally {\n",
              "      delete root._bokeh_onload_callbacks\n",
              "    }\n",
              "    console.debug(\"Bokeh: all callbacks have finished\");\n",
              "  }\n",
              "\n",
              "  function load_libs(css_urls, js_urls, callback) {\n",
              "    if (css_urls == null) css_urls = [];\n",
              "    if (js_urls == null) js_urls = [];\n",
              "\n",
              "    root._bokeh_onload_callbacks.push(callback);\n",
              "    if (root._bokeh_is_loading > 0) {\n",
              "      console.debug(\"Bokeh: BokehJS is being loaded, scheduling callback at\", now());\n",
              "      return null;\n",
              "    }\n",
              "    if (js_urls == null || js_urls.length === 0) {\n",
              "      run_callbacks();\n",
              "      return null;\n",
              "    }\n",
              "    console.debug(\"Bokeh: BokehJS not loaded, scheduling load and callback at\", now());\n",
              "    root._bokeh_is_loading = css_urls.length + js_urls.length;\n",
              "\n",
              "    function on_load() {\n",
              "      root._bokeh_is_loading--;\n",
              "      if (root._bokeh_is_loading === 0) {\n",
              "        console.debug(\"Bokeh: all BokehJS libraries/stylesheets loaded\");\n",
              "        run_callbacks()\n",
              "      }\n",
              "    }\n",
              "\n",
              "    function on_error(url) {\n",
              "      console.error(\"failed to load \" + url);\n",
              "    }\n",
              "\n",
              "    for (let i = 0; i < css_urls.length; i++) {\n",
              "      const url = css_urls[i];\n",
              "      const element = document.createElement(\"link\");\n",
              "      element.onload = on_load;\n",
              "      element.onerror = on_error.bind(null, url);\n",
              "      element.rel = \"stylesheet\";\n",
              "      element.type = \"text/css\";\n",
              "      element.href = url;\n",
              "      console.debug(\"Bokeh: injecting link tag for BokehJS stylesheet: \", url);\n",
              "      document.body.appendChild(element);\n",
              "    }\n",
              "\n",
              "    for (let i = 0; i < js_urls.length; i++) {\n",
              "      const url = js_urls[i];\n",
              "      const element = document.createElement('script');\n",
              "      element.onload = on_load;\n",
              "      element.onerror = on_error.bind(null, url);\n",
              "      element.async = false;\n",
              "      element.src = url;\n",
              "      console.debug(\"Bokeh: injecting script tag for BokehJS library: \", url);\n",
              "      document.head.appendChild(element);\n",
              "    }\n",
              "  };\n",
              "\n",
              "  function inject_raw_css(css) {\n",
              "    const element = document.createElement(\"style\");\n",
              "    element.appendChild(document.createTextNode(css));\n",
              "    document.body.appendChild(element);\n",
              "  }\n",
              "\n",
              "  const js_urls = [\"https://cdn.bokeh.org/bokeh/release/bokeh-3.3.3.min.js\", \"https://cdn.bokeh.org/bokeh/release/bokeh-gl-3.3.3.min.js\", \"https://cdn.bokeh.org/bokeh/release/bokeh-widgets-3.3.3.min.js\", \"https://cdn.bokeh.org/bokeh/release/bokeh-tables-3.3.3.min.js\", \"https://cdn.bokeh.org/bokeh/release/bokeh-mathjax-3.3.3.min.js\"];\n",
              "  const css_urls = [];\n",
              "\n",
              "  const inline_js = [    function(Bokeh) {\n",
              "      Bokeh.set_log_level(\"info\");\n",
              "    },\n",
              "function(Bokeh) {\n",
              "    }\n",
              "  ];\n",
              "\n",
              "  function run_inline_js() {\n",
              "    if (root.Bokeh !== undefined || force === true) {\n",
              "          for (let i = 0; i < inline_js.length; i++) {\n",
              "      inline_js[i].call(root, root.Bokeh);\n",
              "    }\n",
              "} else if (Date.now() < root._bokeh_timeout) {\n",
              "      setTimeout(run_inline_js, 100);\n",
              "    } else if (!root._bokeh_failed_load) {\n",
              "      console.log(\"Bokeh: BokehJS failed to load within specified timeout.\");\n",
              "      root._bokeh_failed_load = true;\n",
              "    } else if (force !== true) {\n",
              "      const cell = $(document.getElementById(null)).parents('.cell').data().cell;\n",
              "      cell.output_area.append_execute_result(NB_LOAD_WARNING)\n",
              "    }\n",
              "  }\n",
              "\n",
              "  if (root._bokeh_is_loading === 0) {\n",
              "    console.debug(\"Bokeh: BokehJS loaded, going straight to plotting\");\n",
              "    run_inline_js();\n",
              "  } else {\n",
              "    load_libs(css_urls, js_urls, function() {\n",
              "      console.debug(\"Bokeh: BokehJS plotting callback run at\", now());\n",
              "      run_inline_js();\n",
              "    });\n",
              "  }\n",
              "}(window));"
            ],
            "application/vnd.bokehjs_load.v0+json": "(function(root) {\n  function now() {\n    return new Date();\n  }\n\n  const force = true;\n\n  if (typeof root._bokeh_onload_callbacks === \"undefined\" || force === true) {\n    root._bokeh_onload_callbacks = [];\n    root._bokeh_is_loading = undefined;\n  }\n\n\n  if (typeof (root._bokeh_timeout) === \"undefined\" || force === true) {\n    root._bokeh_timeout = Date.now() + 5000;\n    root._bokeh_failed_load = false;\n  }\n\n  const NB_LOAD_WARNING = {'data': {'text/html':\n     \"<div style='background-color: #fdd'>\\n\"+\n     \"<p>\\n\"+\n     \"BokehJS does not appear to have successfully loaded. If loading BokehJS from CDN, this \\n\"+\n     \"may be due to a slow or bad network connection. Possible fixes:\\n\"+\n     \"</p>\\n\"+\n     \"<ul>\\n\"+\n     \"<li>re-rerun `output_notebook()` to attempt to load from CDN again, or</li>\\n\"+\n     \"<li>use INLINE resources instead, as so:</li>\\n\"+\n     \"</ul>\\n\"+\n     \"<code>\\n\"+\n     \"from bokeh.resources import INLINE\\n\"+\n     \"output_notebook(resources=INLINE)\\n\"+\n     \"</code>\\n\"+\n     \"</div>\"}};\n\n  function display_loaded() {\n    const el = document.getElementById(null);\n    if (el != null) {\n      el.textContent = \"BokehJS is loading...\";\n    }\n    if (root.Bokeh !== undefined) {\n      if (el != null) {\n        el.textContent = \"BokehJS \" + root.Bokeh.version + \" successfully loaded.\";\n      }\n    } else if (Date.now() < root._bokeh_timeout) {\n      setTimeout(display_loaded, 100)\n    }\n  }\n\n  function run_callbacks() {\n    try {\n      root._bokeh_onload_callbacks.forEach(function(callback) {\n        if (callback != null)\n          callback();\n      });\n    } finally {\n      delete root._bokeh_onload_callbacks\n    }\n    console.debug(\"Bokeh: all callbacks have finished\");\n  }\n\n  function load_libs(css_urls, js_urls, callback) {\n    if (css_urls == null) css_urls = [];\n    if (js_urls == null) js_urls = [];\n\n    root._bokeh_onload_callbacks.push(callback);\n    if (root._bokeh_is_loading > 0) {\n      console.debug(\"Bokeh: BokehJS is being loaded, scheduling callback at\", now());\n      return null;\n    }\n    if (js_urls == null || js_urls.length === 0) {\n      run_callbacks();\n      return null;\n    }\n    console.debug(\"Bokeh: BokehJS not loaded, scheduling load and callback at\", now());\n    root._bokeh_is_loading = css_urls.length + js_urls.length;\n\n    function on_load() {\n      root._bokeh_is_loading--;\n      if (root._bokeh_is_loading === 0) {\n        console.debug(\"Bokeh: all BokehJS libraries/stylesheets loaded\");\n        run_callbacks()\n      }\n    }\n\n    function on_error(url) {\n      console.error(\"failed to load \" + url);\n    }\n\n    for (let i = 0; i < css_urls.length; i++) {\n      const url = css_urls[i];\n      const element = document.createElement(\"link\");\n      element.onload = on_load;\n      element.onerror = on_error.bind(null, url);\n      element.rel = \"stylesheet\";\n      element.type = \"text/css\";\n      element.href = url;\n      console.debug(\"Bokeh: injecting link tag for BokehJS stylesheet: \", url);\n      document.body.appendChild(element);\n    }\n\n    for (let i = 0; i < js_urls.length; i++) {\n      const url = js_urls[i];\n      const element = document.createElement('script');\n      element.onload = on_load;\n      element.onerror = on_error.bind(null, url);\n      element.async = false;\n      element.src = url;\n      console.debug(\"Bokeh: injecting script tag for BokehJS library: \", url);\n      document.head.appendChild(element);\n    }\n  };\n\n  function inject_raw_css(css) {\n    const element = document.createElement(\"style\");\n    element.appendChild(document.createTextNode(css));\n    document.body.appendChild(element);\n  }\n\n  const js_urls = [\"https://cdn.bokeh.org/bokeh/release/bokeh-3.3.3.min.js\", \"https://cdn.bokeh.org/bokeh/release/bokeh-gl-3.3.3.min.js\", \"https://cdn.bokeh.org/bokeh/release/bokeh-widgets-3.3.3.min.js\", \"https://cdn.bokeh.org/bokeh/release/bokeh-tables-3.3.3.min.js\", \"https://cdn.bokeh.org/bokeh/release/bokeh-mathjax-3.3.3.min.js\"];\n  const css_urls = [];\n\n  const inline_js = [    function(Bokeh) {\n      Bokeh.set_log_level(\"info\");\n    },\nfunction(Bokeh) {\n    }\n  ];\n\n  function run_inline_js() {\n    if (root.Bokeh !== undefined || force === true) {\n          for (let i = 0; i < inline_js.length; i++) {\n      inline_js[i].call(root, root.Bokeh);\n    }\n} else if (Date.now() < root._bokeh_timeout) {\n      setTimeout(run_inline_js, 100);\n    } else if (!root._bokeh_failed_load) {\n      console.log(\"Bokeh: BokehJS failed to load within specified timeout.\");\n      root._bokeh_failed_load = true;\n    } else if (force !== true) {\n      const cell = $(document.getElementById(null)).parents('.cell').data().cell;\n      cell.output_area.append_execute_result(NB_LOAD_WARNING)\n    }\n  }\n\n  if (root._bokeh_is_loading === 0) {\n    console.debug(\"Bokeh: BokehJS loaded, going straight to plotting\");\n    run_inline_js();\n  } else {\n    load_libs(css_urls, js_urls, function() {\n      console.debug(\"Bokeh: BokehJS plotting callback run at\", now());\n      run_inline_js();\n    });\n  }\n}(window));"
          },
          "metadata": {}
        },
        {
          "output_type": "display_data",
          "data": {
            "text/html": [
              "\n",
              "  <div id=\"ef49ea67-50ab-47d8-a97e-ef9b40735250\" data-root-id=\"p1001\" style=\"display: contents;\"></div>\n"
            ]
          },
          "metadata": {}
        },
        {
          "output_type": "display_data",
          "data": {
            "application/javascript": [
              "(function(root) {\n",
              "  function embed_document(root) {\n",
              "  const docs_json = {\"c7537ab7-20ef-4bbf-9e0d-640b980dd4de\":{\"version\":\"3.3.3\",\"title\":\"Bokeh Application\",\"roots\":[{\"type\":\"object\",\"name\":\"Figure\",\"id\":\"p1001\",\"attributes\":{\"min_width\":800,\"min_height\":800,\"x_range\":{\"type\":\"object\",\"name\":\"DataRange1d\",\"id\":\"p1002\"},\"y_range\":{\"type\":\"object\",\"name\":\"DataRange1d\",\"id\":\"p1003\"},\"x_scale\":{\"type\":\"object\",\"name\":\"LinearScale\",\"id\":\"p1010\"},\"y_scale\":{\"type\":\"object\",\"name\":\"LinearScale\",\"id\":\"p1011\"},\"title\":{\"type\":\"object\",\"name\":\"Title\",\"id\":\"p1008\"},\"renderers\":[{\"type\":\"object\",\"name\":\"GlyphRenderer\",\"id\":\"p1039\",\"attributes\":{\"data_source\":{\"type\":\"object\",\"name\":\"ColumnDataSource\",\"id\":\"p1033\",\"attributes\":{\"selected\":{\"type\":\"object\",\"name\":\"Selection\",\"id\":\"p1034\",\"attributes\":{\"indices\":[],\"line_indices\":[]}},\"selection_policy\":{\"type\":\"object\",\"name\":\"UnionRenderers\",\"id\":\"p1035\"},\"data\":{\"type\":\"map\",\"entries\":[[\"x\",{\"type\":\"ndarray\",\"array\":{\"type\":\"bytes\",\"data\":\"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\"},\"shape\":[5000],\"dtype\":\"float64\",\"order\":\"little\"}],[\"y\",{\"type\":\"ndarray\",\"array\":{\"type\":\"bytes\",\"data\":\"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\"},\"shape\":[5000],\"dtype\":\"float64\",\"order\":\"little\"}],[\"text\",{\"type\":\"ndarray\",\"array\":[\"limits\",\"societal\",\"Teach_me\",\"robe\",\"fucking_moron\",\"Fernando\",\"labour\",\"our_defense\",\"component\",\"EDC\",\"risk\",\"swastika\",\"dom\",\"euphemism\",\"rocket_launcher\",\"Arrow\",\"taken_advantage\",\"9gag\",\"Illuminati\",\"POV\",\"left-handed\",\"interns\",\"criticise\",\"#_#\",\"kneel\",\"simplest\",\"darkies\",\"balcony\",\"an_impact\",\"lube\",\"websites\",\"BJJ\",\"IS_A\",\"regime\",\"creates\",\"Team\",\"depth\",\"lich\",\"$_45\",\"silly_goose\",\"DNC\",\"offensively\",\"final_boss\",\"Woman\",\"5_star\",\"cheated\",\"canal\",\"flask\",\"more_complicated\",\"ford\",\"'it\",\"whistles\",\"underestimate\",\"Kaepernick\",\"breeze\",\":_v\",\"lasting\",\"came_back\",\"breakout\",\"post_office\",\"fallen\",\"ko\",\"raided\",\"completion\",\"Charter\",\"daylight\",\"Amber\",\"PETA\",\"camera\",\"PUT\",\"regards\",\"lv\",\"i\",\"Mouse\",\"PRC\",\"more_enjoyable\",\"afk\",\"an_unfortunate\",\"Slavic\",\"jacking_off\",\"Rousey\",\"4gb\",\"lag\",\"legal_advice\",\"information\",\"vacation\",\"phoenix\",\"Kitty\",\"door_open\",\"Ima\",\"lateral\",\"Redskins\",\"proper_response\",\"crusade\",\"plastic\",\"liter\",\"NOPE_NOPE\",\"arcade\",\"shutdown\",\"areas\",\"debt\",\"Jeep\",\"290\",\"Simulator\",\"unbanned\",\"knit\",\"CALLED\",\"friends\",\"Peppers\",\"ear\",\"lunch\",\"opponent\",\"im\",\"mac\",\"assert\",\"flowing\",\"prove\",\"Correct_me\",\"intervention\",\"nog\",\"Superman\",\"liberating\",\"stars\",\"_\",\"Bungie\",\"thank_mr\",\"branch\",\"injustice\",\"parasite\",\"anti-semetic\",\"Next_year\",\"seasoned\",\"fights\",\"Upvote_for\",\"North_Korean\",\"overlord\",\"meaningless\",\"presented\",\"Reno\",\"Typically\",\"medals\",\"visitors\",\"wich\",\"who_watches\",\"dismantled\",\"bra\",\"works\",\"mass_shooting\",\"APU\",\"an_object\",\"Ellen\",\"especially_when\",\"can\",\"WATCH\",\"Umm_...\",\"camper\",\"Murican\",\"schools\",\"router\",\"Panda\",\"PC_gamer\",\"Tannehill\",\"october\",\"whisper\",\"weird\",\"must_be\",\"Mike_Brown\",\"egg\",\"Religion\",\"switch_between\",\"Lane\",\"adequately\",\"suprise\",\"mounting\",\"montages\",\"Gold\",\"Mexican\",\"signings\",\"relaxed\",\"depends\",\"Such\",\"Holy_fuck\",\"Perez\",\"superstars\",\"were_born\",\"committee\",\"billion_dollars\",\"expansions\",\"gram\",\"SSW\",\"breaks_down\",\"Gandalf\",\"laughed_at\",\"expert\",\"bank\",\"style\",\"bootloader\",\"Wonder_why\",\"chuckled\",\"Y'know\",\"Username_checks\",\"FACT\",\"browsing\",\"fats\",\"Russian\",\"ITS_NOT\",\"fork\",\"pack\",\"Stafford\",\"thor\",\"Gundam\",\"256\",\"Hail\",\"dummies\",\"marching\",\"proven_innocent\",\"crops\",\"Depending_on\",\"F5_F5\",\"Nader\",\"williams\",\"oranges\",\"Gnome\",\"singlehandedly\",\"fact\",\"yolo\",\"white_men\",\"working\",\"prius\",\"Gawker\",\"generated\",\"adjustments\",\"relaxing\",\"critiques\",\"ADCs\",\"Hawks\",\"Filipinos\",\"tailgate\",\"cheque\",\"tenth\",\"prints\",\"waves\",\"IVE\",\"broker\",\"finest\",\"wood\",\"CUTE\",\"reformed\",\"wuz\",\"Tech\",\"Indeed\",\"druid\",\"field_goal\",\"prime\",\"late\",\"musical\",\"purposefully\",\"One_word\",\"prescription\",\"Floridian\",\"Tron\",\"Training\",\"exercising\",\"burns\",\"Fiat\",\"LOOKS_LIKE\",\"Greed\",\"Justice\",\"flows\",\"Pierce\",\"Coal\",\"endless\",\"which\",\"touchdown\",\"16\",\"Du\",\"e-mails\",\"nowhere\",\"their_ancestors\",\"cal\",\"sole_purpose\",\"check_your\",\"rep\",\"Wrong\",\"saying\",\"pyramid\",\"wide_open\",\"batter\",\"970\",\"temperature\",\"led_by\",\"scheduled\",\"electable\",\"Not\",\"...\",\"your_opponent\",\"rifle\",\"communication\",\"coloreds\",\"African_countries\",\"Cannabis\",\"playlists\",\"surroundings\",\"cleared_up\",\"Nice_job\",\"latte\",\"retcon\",\"competitive\",\"ascend\",\"imbecile\",\"AS_A\",\"spork\",\"logical\",\"girly\",\"occupying\",\"baseless\",\"crab\",\"mammals\",\"taxes\",\"Sin\",\"DR_:\",\"1GB\",\"mates\",\"robust\",\"other_words\",\"Pens\",\"christian\",\"polluted\",\"1v1\",\"Top\",\"cucks\",\"perfectly_healthy\",\"Patreon\",\"finnish\",\"Bass\",\"UAE\",\"'ve_lived\",\"Melbourne\",\"main\",\"shows\",\"destined\",\"boom\",\"Die\",\"window\",\"crushing\",\"most_qualified\",\"Math\",\"jacked_up\",\"#_3232\",\"gud\",\"polluting\",\"trusted\",\"'M_DAJUAN\",\"eyes\",\"dark_side\",\"bluff\",\"Read\",\"Dumb\",\"context\",\"opera\",\"organize\",\"major_cities\",\"tf2\",\"disingenuous\",\"force\",\"Carrier\",\"Serves\",\"selection\",\"1060\",\"swine\",\"execs\",\"decimal\",\"welcomed\",\"shovel\",\"his_dad\",\"dissapointed\",\"run\",\"og\",\"Universe\",\"patches\",\"intervene\",\"IO\",\"16GB\",\"copper\",\"Middle_Eastern\",\"processes\",\"requesting\",\"Terran\",\"Paige\",\"AL\",\"pepper\",\"champions\",\"who_thinks\",\"centre\",\"wandering\",\"epics\",\"find_myself\",\"538\",\"Axe\",\"Medium\",\"Tom\",\"Woah_woah\",\"decent_human\",\"guarantees\",\"Ale\",\"zealots\",\"VM\",\"Goldberg\",\"North_Korea\",\"main_characters\",\"geez\",\"publishing\",\"Barney\",\"Dale\",\"integrity\",\"Darkness\",\"vapes\",\"Keep\",\"pero\",\"debates\",\"Voice\",\"impress\",\"Ummm\",\"trillion\",\"25_minutes\",\"marital\",\"job_creation\",\"empathy\",\"khan\",\"Good_thing\",\"golf\",\"Jenkins\",\"high_noon\",\"pins\",\"B2\",\"BRB\",\"chefs\",\"intention\",\"Il\",\"Wendy\",\"opposing\",\"Susan\",\"t\",\"offending\",\"vim\",\"restart\",\"Score\",\"doomsday\",\"packing\",\"Piglet\",\"comply_with\",\"Complete\",\"frost\",\"brothers\",\"Hispanics\",\"victims\",\"jungles\",\"Queen\",\"libertarian\",\"Ignoring\",\"link\",\"restricting\",\"depths_of\",\"brexit\",\"appeal\",\"hunters\",\"calm\",\"Zimbabwe\",\"leg\",\"creation\",\"ruled\",\"scorer\",\"departments\",\"new\",\"Serie_A\",\"Man\",\"theres\",\"47\",\"Drive\",\"Hammond\",\"Mode\",\"protein\",\"THEY\",\"witch_hunt\",\"kills\",\"feud\",\"their_employees\",\"sinks\",\"outreach\",\"shitlords\",\"first_place\",\"division\",\"hipster\",\"dress\",\"meer\",\"MMO\",\"insanely\",\"arch\",\"smarter\",\"slack\",\"potions\",\"makes_me\",\"career_politician\",\"subjective\",\"LETS\",\"date\",\"npc\",\"albino\",\"awake\",\"define\",\"didnt_happen\",\"Hiko\",\"piece\",\"cocky\",\"ILL\",\"medically\",\"Shift\",\"Napoli\",\"Hinduism\",\"Tons\",\"remaster\",\"exhaust\",\"mids\",\"preferences\",\"comes_across\",\"Brazil\",\"challenged\",\"sitting_here\",\"lonely\",\"Aus\",\"treatment\",\"an_accident\",\"DayZ\",\"dire\",\"Walking\",\"deregulation\",\"Intelligence\",\"Agent\",\"consequences\",\"filmed\",\"converter\",\"detriment\",\"June\",\"spawns\",\"throw\",\"SHIELD\",\"second\",\"HOT\",\"in-depth\",\"/b/\",\"David_Duke\",\"ancestors\",\"revoke\",\"Croatia\",\"Ps4\",\"Pants\",\"requirement\",\"destination\",\"Toys_R\",\"latex\",\"improvements\",\"Centipede\",\"DIS\",\"shaft\",\"conference\",\"Taliban\",\"winds\",\"On_top\",\"THC\",\"tailor\",\"bishop\",\"cammer\",\"AND_HIS\",\"ability\",\"Uh\",\"steaming\",\"regulating\",\"Patriarchy\",\"bootleg\",\"tax_evasion\",\"joints\",\"Humor\",\"3/5ths\",\"Fukushima\",\"drop\",\"comes_out\",\"at_home\",\"accents\",\"instrumental\",\"nice_touch\",\"rotating\",\"youtuber\",\"middle_school\",\"cloud\",\"clarifying\",\"breh\",\"jim\",\"console_peasants\",\"Chromecast\",\"HIT\",\"truck_driver\",\"Meet\",\"monitors\",\"followers\",\"mother\",\"MJ\",\"pillows\",\"Remind_me\",\"marines\",\"eagles\",\"1st_place\",\"instructions\",\"skillshots\",\"Irrelevant\",\"public_school\",\"exactly_what\",\"acknowledged\",\"ult\",\"grumpy\",\"primetime\",\"strap\",\"WWIII\",\"tablet\",\"40s\",\"colorful\",\"sufficient\",\"Wolfenstein\",\"bankrupt\",\"unhappy\",\"haunted\",\"sustained\",\"essentially\",\"http_:\",\"supplier\",\"medicare\",\"supremacy\",\"sins\",\"chip\",\"Skill\",\"newspaper\",\"cage\",\"protection\",\"be_fair\",\"Boulder\",\"Who_wants\",\"mindset\",\"sedan\",\"Islanders\",\"treason\",\"ng\",\"fortunate\",\"input_lag\",\"repeats\",\"control_panel\",\"owls\",\"sexually_assault\",\"Load\",\"controlling\",\"HOPE\",\"Way\",\"attempt\",\"ungrateful\",\"Marxists\",\"P_E\",\"expects\",\"targeted\",\"Elon_Musk\",\"Hearthstone\",\"pad\",\"your_input\",\"rabid\",\"200_million\",\"aunt\",\"mixture_of\",\"Moreno\",\"Legend\",\"indian\",\"best_QB\",\"ghoul\",\"Laker\",\"cry\",\"branded\",\"peg\",\"R_E\",\"PED\",\"Half-Life_3\",\"perfect_solution\",\"creeper\",\"BROTHER\",\"patriot\",\"mentality\",{\"type\":\"number\",\"value\":\"nan\"},\"bedroom\",\"MO\",\"vaccines\",\"universe\",\"Fortunately\",\"second_half\",\"sweat\",\"goods\",\"Havent\",\"#_s\",\"Gary_Johnson\",\"Stan\",\"disproves\",\"tactical\",\"22nd\",\"remembered\",\"Added\",\"Signed\",\"mess_around\",\"arrive\",\"orange\",\"believers\",\"stabbing\",\"as_well\",\"bumper\",\"unlocks\",\"o_O\",\"pan_out\",\"jumped\",\"realms\",\"interest_rate\",\"demonstrates\",\"mild\",\"globals\",\"educating\",\"3_mana\",\"Trout\",\"eSports\",\"wing\",\"teleport\",\"Aside_from\",\"Quantum\",\"GO_BACK\",\"Miranda\",\"850\",\"Cthulhu\",\"super_fun\",\"tune\",\"an_ally\",\"Kevin_Love\",\"exploring\",\"ANOTHER\",\"annoyed\",\"basicly\",\"No_clue\",\"mouse\",\"bum\",\"ABOUT_THE\",\"distrust\",\"calling\",\"Horizon\",\"earned\",\"ive_never\",\"depending\",\"nazi\",\"DT\",\"EVERYTHING\",\"chapters\",\"reports\",\"'d_say\",\"clones\",\"wielding\",\"comfortable\",\"blessing\",\"Jerusalem\",\"FEAR\",\"same\",\"6+\",\"KP\",\"lobbied\",\"stomping\",\"itch\",\"ego\",\"tell_me\",\"Supreme_Court\",\"prosper\",\"coincidence\",\"Human\",\"Source_:\",\"SC\",\"fruit\",\"Everytime\",\"Directed_by\",\"very_difficult\",\"infamous\",\"st\",\"review\",\"nickname\",\"enabling\",\"effort_into\",\"booked\",\"WANT_TO\",\"Squad\",\"uncultured\",\"songs\",\"Nidalee\",\"wilderness\",\"Imagine\",\"game_modes\",\"murdering\",\"automod\",\"Stewie\",\"Olly\",\"State\",\"Thought\",\"Suit\",\"wii\",\"Demo\",\"reacted\",\"matches\",\"EU_LCS\",\"license\",\"swiss\",\"process\",\"company\",\"Portal\",\"tractor\",\"flexibility\",\"Open\",\"Shitpost\",\"MAX\",\"RBI\",\"Christian\",\"Cinnamon\",\"Fair_point\",\"nades\",\"speeds\",\"cheese\",\"olds\",\"down\",\"locking\",\"privatized\",\"Duke\",\"busts\",\"2010\",\"SHOULD_BE\",\"flamed\",\"Boom\",\"of_thrones\",\"plow\",\"un\",\"greater\",\"Gomez\",\"consideration\",\"Kentucky\",\"qualifies_as\",\"an_unbiased\",\"banned\",\"laughs_at\",\"dont_worry\",\"assuming\",\"hardly_ever\",\"hotfix\",\"alt-right\",\"aan\",\"tour\",\"50/50\",\"hooked_up\",\"pansexual\",\"matchups\",\"individually\",\"cliff\",\"Mad_Max\",\"tariffs\",\"whopping\",\"Shot\",\"guests\",\"OWS\",\"dickheads\",\"specifics\",\"Google_Chrome\",\"acquiring\",\"his_wife\",\"spectacular\",\"Derp\",\"much_higher\",\"stop_sign\",\"nou\",\"employed_by\",\"incorrectly\",\"My_god\",\"PA\",\"q\",\"an_animal\",\"Harley_Quinn\",\"faint\",\"Yoga\",\"intolerant\",\"period\",\"bourbon\",\"Running\",\"cocks\",\"tbf\",\"In_fairness\",\"Thats\",\"shitstorm\",\"officials\",\"Another_example\",\"casual_players\",\"Nate\",\"4_months\",\"hood\",\"trilogy\",\"aur\",\"european\",\"furthering\",\"MX\",\"busted\",\"hebben\",\"tower\",\"Sombra\",\"Raving_Raving\",\"sf\",\"camos\",\"celestial\",\"hack\",\"sunday\",\"Raise\",\"Hue\",\"Public\",\"Jays\",\"THE_FUCK\",\"Buddhist\",\"Meow\",\"hound\",\"movie\",\"application\",\"headed\",\"nuclear_war\",\"analysis\",\"stunned\",\"Labour\",\"repealing\",\"google\",\"more_believable\",\"peachy\",\"Chip\",\"Said\",\"Living\",\"pucks\",\"clg\",\"super_effective\",\"acted_like\",\"Buy\",\"distribute\",\"flap\",\"THREE\",\"TMZ\",\"pillars\",\"binder\",\"Indonesian\",\"phones\",\"fist\",\"racist\",\"trader\",\"flick\",\"STD\",\"school_system\",\"Woops\",\"traumatized\",\"normal_human\",\"probable\",\"Paul_Ryan\",\"staying\",\"techies\",\"pastors\",\"palestinians\",\"peaches\",\"Beauty\",\"squashed\",\"FOR_ME\",\"commentary\",\"bigots\",\"NM\",\"moderates\",\"Weeden\",\"blessed\",\"Slightly\",\"ergo\",\"processors\",\"una\",\"choking\",\"highest\",\"Buddhism\",\"RACIST\",\"subsidized\",\"clippers\",\"6_million\",\"Shocked\",\"drains\",\"missing\",\"Huni\",\"realm\",\"adult\",\"chi\",\"PC_version\",\"her_vagina\",\"newest\",\"perverted\",\"hiking\",\"tin_foil\",\"rewatch\",\"homebrew\",\"300\",\"been_able\",\"Alabama\",\"sheets\",\"66\",\"gator\",\"dispute\",\"an_injury\",\"six_years\",\"y_u\",\"capital\",\"Rogue_One\",\"grandson\",\"controversy\",\"dickish\",\"participants\",\"Rock\",\"Step_2\",\"self-defense\",\"professions\",\"journalistic_integrity\",\"overused\",\"whole_situation\",\"family\",\"redesign\",\"rights\",\"lord_knows\",\"Brazilians\",\"Orthodox\",\"their_faces\",\"fly\",\"basketball_players\",\"Happy_birthday\",\"ISS\",\"TOOK\",\"Too_bad\",\"Devils\",\"work_environment\",\"mourning\",\"Uncharted\",\"contracts\",\"ok\",\"McHale\",\"catching_up\",\"Monsters\",\"event\",\"Dawkins\",\"Nas\",\"nvidia\",\"48\",\"Snowden\",\"chili\",\"filth\",\"Just_wait\",\"FACE\",\"own_fault\",\"prompt\",\"utter_shit\",\"components\",\"Sticks\",\"sh_*\",\"Nike\",\"catered\",\"workouts\",\"deformed\",\"Lose\",\"younger_brother\",\"Ninja\",\"BOOM\",\"threatened\",\"trump_supporters\",\"tolerant\",\"booth\",\"an_AMA\",\"chops\",\"Gmail\",\"lime\",\"MUST_BE\",\"Spoilers\",\"cracks\",\"confidence\",\"Liar\",\"matter\",\"certainty\",\"electoral\",\"Asian_women\",\"unironically\",\"anywhere_near\",\"dnc\",\"could_possibly\",\"robbing\",\"jacks\",\"Interstellar\",\"Spurs\",\"alien\",\"defaults\",\"shrimp\",\"ANGRY\",\"Express\",\"discriminating\",\"unintelligent\",\"hellfire\",\"racer\",\"rap\",\"less_likely\",\"Islamic\",\"an_axe\",\"Joseph\",\"nuking\",\"leave\",\"Boogie\",\"hitreg\",\"Malibu\",\"ham\",\"iPhone_7\",\"an_outlet\",\"Challenge\",\"disc_golf\",\"YOU_WILL\",\"skype\",\"promise\",\"ponder\",\"Dexter\",\"echo\",\"favourite\",\"Proper\",\"Turkey\",\"succeeded\",\"Vince_Young\",\"shortcomings\",\"Trying\",\"availability\",\"tickets\",\"ipad\",\"Might_want\",\"same_exact\",\"deadpool\",\"deal_with\",\"Server\",\"pairing\",\"sims\",\"Tbh\",\"TBF\",\"upper_body\",\"collector\",\"unhealthy\",\"spins\",\"paul\",\"dear\",\"safer_than\",\"omg\",\"comics\",\"Trey\",\"drag\",\"travesty\",\"Judging\",\"Capcom\",\"googled\",\"honestly_surprised\",\"HL3\",\"210\",\"hamburger\",\"cheering\",\"cube\",\"fitted\",\"Armenian\",\"significant_other\",\"viewership\",\"group_stage\",\"Liberals\",\"Buried\",\"Downvoted\",\"Rabbit\",\"Tomato\",\"Pick\",\"anecdote\",\"consuming\",\"Torture\",\"decency\",\"mini\",\"customization\",\"Totally_agree\",\"sweaters\",\"cheek\",\"Tears\",\"false\",\"melt\",\"FN\",\"undoubtedly\",\"SAY\",\"Colbert\",\"Snow\",\"Usually\",\"Chess\",\"for-profit\",\"Huma\",\"pretty_cool\",\"motivated_by\",\"cars\",\"Turner\",\"goofy\",\"Np\",\"my_wallet\",\"MRW\",\"Very_cool\",\"fkn\",\"shortcut\",\"Who_cares\",\"Bruins\",\"fix_everything\",\"uncovered\",\"KO\",\"Hobbes\",\"Brendan\",\"7_billion\",\"artist\",\"Incest\",\"scrim\",\"Vladimir_Putin\",\"lining_up\",\"take\",\"theatre\",\"sassy\",\"Finally_someone\",\"resolve\",\"gate\",\"master\",\"recognizing\",\"Bring_back\",\"83\",\"an_artist\",\"Amanda\",\"stew\",\"parents\",\"ball\",\"ELI5_:\",\"Swedes\",\"Kerbal_Space\",\"trails\",\"donald\",\"sexualized\",\"WO_N'T\",\"gay_porn\",\"Misandry\",\"wondering\",\"partner\",\"jewel\",\"game_mode\",\"Kennedy\",\"voat\",\"WOMAN\",\"midterms\",\"hasnt_been\",\"The_Witcher\",\"graphics_card\",\"Pirates\",\"young_men\",\"helicopters\",\"bloggers\",\"inc\",\"stop_oppressing\",\"fatphobic\",\"shove\",\"OW\",\"ilvl\",\"mailman\",\"4Chan\",\"pay_rent\",\"SHITLORD\",\"fireball\",\"mushrooms\",\"Basically\",\"corn\",\"paying_taxes\",\"AT_LEAST\",\"ink\",\"shall\",\"goth\",\"david\",\"blades\",\"cya\",\"brush\",\"ATM\",\"pretty_damn\",\"4th_amendment\",\"favor\",\"enticing\",\"nutjobs\",\"playing_field\",\"hatch\",\"chokes\",\"Bar\",\"able_to\",\"hehe\",\"Jesus_christ\",\"Advice\",\"an_echo\",\"Penn_State\",\"Ward\",\"kilt\",\"prude\",\"Javascript\",\"exit\",\"PPV\",\"McMahon\",\"Kid\",\"seems_like\",\"accused_of\",\"Underrated_comment\",\"chasing\",\"5_million\",\"nor\",\"pubs\",\"suspicion\",\"18_year\",\"Paper\",\"semester\",\"surrounded_by\",\"casing\",\"came_along\",\"technology\",\"soooo_much\",\"Scorpion\",\"Because\",\"Lewis\",\"Jennifer_Lawrence\",\"Doing\",\"licked\",\"mindless\",\"compliment\",\"thin\",\"tonight\",\"Americans\",\"poetry\",\"'murica\",\"entire_family\",\"Bay_Area\",\"psycho\",\"OoT\",\"whitey\",\"West_Coast\",\"chicks\",\"Ivanka\",\"doh\",\"Aim\",\"Caucasian\",\"seasonal\",\"injury\",\"perfectly_okay\",\"fiction\",\"scrutiny\",\"Forbes\",\"Soooooo\",\"THINK\",\"Truly\",\"ex\",\"third_party\",\"found_guilty\",\"longer\",\"Rigged\",\"barring\",\"first_rounders\",\"XD\",\"'er\",\"Huge\",\"sized\",\"bravery\",\"cmd_cmd\",\"scaling\",\"Wentz\",\"anorexia\",\"creativity\",\"Anakin\",\"webcam\",\"Houston\",\"labels\",\"taller\",\"myself\",\"FIXED\",\"enrich\",\"Current\",\"taxi_drivers\",\"@_@\",\"an_AMD\",\"prisons\",\"success\",\"police\",\"Depression\",\"7.5\",\"exclusive\",\"hatched\",\"pedestrian\",\"current\",\"5.1\",\"gloves\",\"listens\",\"cues\",\"Nooo\",\"Genius\",\"decided\",\"ageist\",\"beards\",\"reps\",\"miracle\",\"counter_strike\",\"Step_3\",\"1v2\",\"presidential_election\",\"last_patch\",\"b4\",\"dilute\",\"workforce\",\"attribute\",\"ukraine\",\"affiliation\",\"ONLY_A\",\"it\",\"with\",\"Wenger\",\"DIE\",\"James\",\"while_driving\",\"commit_suicide\",\"throwing_away\",\"hiding_behind\",\"BASTARD\",\"mystical\",\"ur_mum\",\"participate_in\",\"observing\",\"podcasts\",\"person\",\"his_followers\",\"G4\",\"supermarkets\",\"Here\",\"$_100,000\",\"supreme\",\"pedophiles\",\"Ad\",\"Switch\",\"nets\",\"fundamentals\",\"karaoke\",\"hotter\",\"attach\",\"never_knew\",\"sex_offenders\",\"annie\",\"Breaking_Bad\",\"race\",\"zero\",\"heights\",\"sooooo_much\",\"listened_to\",\"balances_out\",\"balls\",\"HE_'S\",\"Turbo\",\"Okafor\",\"psychological\",\"CUCK_CUCK\",\"Wayne\",\"Gaza\",\"automated\",\"biologically\",\"geen\",\"batting\",\"minister\",\"college\",\"Ronnie\",\"any_problems\",\"douche\",\"STDs\",\"provocative\",\"rule_34\",\"Satanic\",\"servant\",\"war_crimes\",\"sus\",\"Scary\",\"organizations\",\"definitively\",\"fascist\",\"JJ_Watt\",\"hltv\",\"ERA\",\"chase\",\"Andrew\",\"picked_up\",\"MIGHT\",\"receiver\",\"Battlefield_4\",\"kill_themselves\",\"Goddamn\",\"biological\",\"sorts\",\"linked\",\"Parts\",\"personality\",\"Go_away\",\"Em\",\"happening\",\"(_aka\",\"blinded\",\"covering_up\",\"anorexic\",\"men\",\"raiders\",\"mounted\",\"portrayal_of\",\"anon\",\"weaker\",\"LIKE\",\"twisted\",\"Feels_like\",\"Parsons\",\"'ve_forgotten\",\"!\",\"GF\",\"A_LOT\",\"pressured\",\"cultural_appropriation\",\"WhatsApp\",\"technique\",\"Scotland\",\"poor_innocent\",\"sry\",\"wwe\",\"heels\",\"approval\",\"nude\",\"cutting\",\"opponents\",\"blue_eyes\",\"SvcHost.exe_`\",\"Hawkeye\",\"protective\",\"different_things\",\"hate_freedom\",\"doin\",\"gypsy\",\"work_ethic\",\"l2p\",\"Third\",\"Keemstar\",\"physical_violence\",\"Direct\",\"Valencia\",\"transition\",\"sideways\",\"kindle\",\"leans\",\"spineless\",\"Yale\",\"NEVER\",\"WW2\",\"thank_God\",\"eight_years\",\"her_body\",\"yay\",\"scandals\",\"Carry\",\"Tagged_as\",\"monies\",\"donut\",\"s\",\"getting_kicked\",\"Mexicans\",\"alternate\",\"Murder\",\"Rush_Limbaugh\",\"YEARS\",\"brand_name\",\"demo\",\"Ortiz\",\"measure\",\"3_months\",\"'ll\",\"compendium\",\"predators\",\"variations\",\"reaching\",\"Drink\",\"Palestinians\",\"populist\",\"lobster\",\"Baldwin\",\"f1\",\"non\",\"Movement\",\"santa\",\"speak_english\",\"Guinness\",\"stimulate\",\"who_likes\",\"Rangers\",\"Priest\",\"Bon\",\"entire_world\",\"HER\",\"occurring\",\"hallway\",\"grassroots\",\"discretion\",\"Shows\",\"Development\",\"7\",\"INTO_THE\",\"belongs\",\"Favorite\",\"SMG\",\"select_few\",\"acquisition\",\"spelt\",\"EPL\",\"Easier\",\"Btw\",\"2B\",\"Marino\",\"tyre\",\"omfg\",\"pyro\",\"projects\",\"Adele\",\"time\",\"dictionary\",\"1989\",\"potential\",\"failure\",\"scrolls\",\"Romans\",\"Dominion\",\"Titanic\",\"Shitty\",\"dealt_with\",\"Sunday\",\"Wild\",\"prosperity\",\"dex\",\"Hehe\",\"Humans\",\"complacent\",\"recommends\",\"being_thrown\",\"tastes\",\"carefully\",\"clogged\",\"rugby\",\"beasts\",\"homosexuals\",\"10_bucks\",\"stop_laughing\",\"K/D\",\"Sivir\",\"Make_America\",\"sink\",\"17th\",\"FAIR\",\"Trainer\",\"tits\",\"heroic\",\"IF_WE\",\"Bay\",\"widespread\",\"Production\",\"bike\",\"illusion\",\"healer\",\"korea\",\"lightsaber\",\"checks_out\",\"bu\",\"execute\",\"Brother\",\"Hire\",\"chemical\",\"subway\",\"turned_out\",\"Finally\",\"periods\",\"Cause\",\"MA\",\"apartheid\",\"play_CS\",\"toothbrush\",\"middle_aged\",\"blood\",\"Indian\",\"properly\",\"romantic\",\"far_less\",\"tier_2\",\"Goff\",\"Capitalism\",\"Subaru\",\"vehicle\",\"TRUMP_First\",\"drought\",\"nya\",\"Mao\",\"lore\",\"each_other\",\"discarded\",\"IDF\",\"gps\",\"confiscate\",\"III\",\"possession\",\"towns\",\"rainbow\",\"Adventure\",\"monsters\",\"lettuce\",\"'d_imagine\",\"bathe\",\"advisors\",\"Aunt\",\"hint_:\",\"case\",\"About_time\",\"aesthetics\",\"national\",\"Link\",\"pitiful\",\"old\",\"convicted\",\"Berkeley\",\"debacle\",\"intel\",\"ultra\",\"each_others\",\"Focus\",\"value\",\"recall_correctly\",\"graduation\",\"chew\",\"accumulated\",\"issues\",\"beacon_of\",\"deity\",\"pacing\",\":_P\",\"sped_up\",\"En\",\"nasty\",\"Record\",\"podcast\",\"feelings\",\"homework\",\"bummed\",\"didnt\",\"Those_darn\",\"reveal\",\"Martha\",\"HS\",\"Xpecial\",\"inexperienced\",\"never_noticed\",\"blowjob\",\"lamps\",\"raise\",\"equation\",\"Dodgers\",\"cartoons\",\"Corps\",\"Removed\",\"architects\",\"can_assure\",\"prosecute\",\"tiny_hands\",\"headsets\",\"tuned\",\"Fancy\",\"smells_like\",\"seeks\",\"honestly\",\"charging\",\"organized\",\"constituents\",\"alongside\",\"GC\",\"sponsored\",\"lul\",\"darkest\",\"issued\",\"economic_anxiety\",\"Mordekaiser\",\"'m_gon\",\"even_funnier\",\"wack\",\"garage\",\"Crap\",\"sli\",\"Effect\",\"IN_MY\",\"spotlight\",\"knowledgeable\",\"Yawn\",\"leak\",\"thousand_times\",\"Arabia\",\"boycott\",\"Done\",\"mains\",\"Commonwealth\",\"our_current\",\"solo_queue\",\"Southwest\",\"Hayes\",\"SAW\",\"lobbies\",\"rape_victim\",\"second_coming\",\"caps_lock\",\"Butler\",\"Hint\",\"PC_gaming\",\"argue\",\"hive_mind\",\"bumps\",\"put_together\",\"absolutely_terrible\",\"Important\",\"Poles\",\"portable\",\"functioning\",\"link_between\",\"congress\",\"Nikon\",\"third_world\",\"horrid\",\"white_folk\",\"BUT_BUT\",\"vampire\",\"leader\",\"poorer\",\"toss_up\",\"dudes\",\"Vox\",\"truly\",\"prince\",\"Hahaha\",\"looting\",\"Elise\",\"OS_X\",\"royal_family\",\"an_elaborate\",\"Viper\",\"equally\",\"i_havent\",\"Google_Fiber\",\"greater_good\",\"WORST\",\"Question\",\"catholic\",\"Arkansas\",\"lewd\",\"unwilling\",\"McDonald_'s\",\"60\",\"HE\",\"Draven\",\"trivial\",\"ripping_off\",\"Replace\",\"reach\",\"cheetos\",\"lynching\",\"disadvantage\",\"Bournemouth\",\"People_who\",\"shitlord\",\"scroll_down\",\"droid\",\"associates\",\"caves\",\"comprised\",\"sinful\",\"DDR4\",\"invasive\",\"THOUGH\",\"Madden\",\"Administration\",\"talked\",\"barber\",\"states_rights\",\"gosh_darn\",\"This_guy\",\"narcissism\",\"whole_lot\",\"Laughing\",\"sleeping\",\"No_offense\",\"an_ambulance\",\"naval\",\"emotional\",\"sizable\",\"Portuguese\",\"quad\",\"confirmation\",\"Players\",\"alcoholics\",\"wade\",\"For_science\",\"Australians\",\"mercs\",\"Mage\",\"LINK\",\"Patch\",\"outcomes\",\"alchemist\",\"deals\",\"SimCity\",\"wow_thats\",\"Bulls\",\"clueless\",\"stays\",\"militants\",\"miss\",\"cancer\",\"whack\",\"unmarked\",\"driver_......\",\"teeth\",\"internally\",\"self_control\",\"IT_REDDIT\",\"tipped\",\"entertained\",\"150\",\"no_clue\",\"Beyonce\",\"claim\",\"Son\",\"23\",\"death_penalty\",\"Navy\",\"VPN\",\"centres\",\"resulted_in\",\"paying_jobs\",\"thank_goodness\",\"'re_supposed\",\"plugged\",\"grab\",\"Corruption\",\"founder\",\"exact_moment\",\"zip\",\"Bitches\",\"PT\",\"Note\",\"declaring\",\"DID_YOU\",\"scarred\",\"below\",\"gentle\",\"wet_dream\",\"well-known\",\"linear\",\"Mercedes\",\"whoop\",\"consumption\",\"power_armor\",\"Akali\",\"Serbia\",\"Yogscast\",\"Online\",\"click_bait\",\"mutilated\",\"PBS\",\"720p\",\"Eagles\",\".22\",\"GREAT_AGAIN\",\"uphill\",\"taco_bell\",\"Boot\",\"ranch\",\"decision_making\",\"evade\",\"karate\",\"out\",\"cool\",\"All_hail\",\"misogynists\",\"Charleston\",\"plantation\",\"free_college\",\"Off_topic\",\"begs\",\"roast\",\"Mii\",\"distinct\",\"adulthood\",\"butchering\",\"Randall\",\"Prize\",\"wrote_:\",\"Jason\",\"creative\",\"Sansa\",\"Wonder_Woman\",\"oooh\",\"plagiarism\",\"Socialism\",\"surrounding\",\"pure_evil\",\"came_from\",\"cherry\",\"referees\",\"otherwise\",\"Huawei\",\"parts\",\"mist\",\"gamma\",\"goin\",\"disney\",\"Estonia\",\"Seal\",\"coverup\",\"bored\",\"Democratic_party\",\"forgotten_about\",\"Details\",\"Inflation\",\"implicit\",\"Ikr\",\"yo\",\"where\",\"rendering\",\"multiculturalism\",\"statues\",\"voter\",\"secs\",\"Cracked\",\"rip\",\"catch_fire\",\"owl\",\"sympathetic\",\"induction\",\"boosts\",\"shut_up\",\"overestimate\",\"someone_explain\",\"Cat\",\"Jerk\",\"Now\",\"uncertainty\",\"rambling\",\"chris\",\"1993\",\"Mew\",\"race_card\",\"recreation\",\"foreplay\",\"Hannity\",\"thong\",\"Dual\",\"tighten\",\"New_Zealand\",\"Draft\",\"federation\",\"gay_couple\",\"fundamentally\",\"Screenshot\",\"given\",\"Beckham\",\"Vaccines\",\"Citizen\",\"CPC\",\"gaming_industry\",\"complaints_about\",\"pornstar\",\"reaction\",\"your_wallet\",\"WHY_IS\",\"WONT\",\"Bledsoe\",\"weighed\",\"-\",\"flocking\",\"S_&\",\"DNA\",\"Jets\",\"Ah\",\"Frontier\",\"fallacy\",\"uplifting\",\"swings\",\"interview\",\"BURN\",\"foreign\",\"conditioning\",\"grape\",\"torrent\",\"focusing\",\"broken_leg\",\"feel_ashamed\",\"perfectly_fine\",\"rumour\",\"Spice\",\"defend_themselves\",\"price\",\"iPhone\",\"loneliness\",\"bands\",\"Baja\",\"C4\",\"Console\",\"shite\",\"sexually_assaulted\",\"overlap\",\"clinton\",\"invalid\",\"Morris\",\"illegal_immigration\",\"Didnt_know\",\"their_products\",\"Judas\",\"strawberry\",\"Cesaro\",\"science_fiction\",\"seals\",\"Lazy\",\"dismissed\",\"jailbroken\",\"white\",\"How_many\",\"an_atheist\",\"Especially_since\",\"inform\",\"duke\",\"goof\",\"lowering\",\"bug\",\"higher_taxes\",\"Pokemon\",\"woo_woo\",\"Monday\",\"protested\",\"optimism\",\"cringing\",\"bath_salts\",\"dubbed\",\"troopers\",\"affirmative_action\",\"equivalent\",\"Echo\",\"injuring\",\"Limited\",\"Nor\",\"hog\",\"Telling\",\"kurds\",\"days_ago\",\"discontinued\",\"Olympics\",\"redemption\",\"2_hours\",\"clog\",\"mines\",\"TIME\",\"Arkham_Knight\",\"next_update\",\"timers\",\"annoyed_by\",\"strokes\",\"Tiger\",\"shaky\",\"will\",\"Dunno\",\"As_opposed\",\"100k\",\"attacked_by\",\"VOTE\",\"income_tax\",\"cassette\",\"FCC\",\"TLDR\",\"Kindred\",\"2/2\",\"Omega\",\"as_intended\",\"many\",\"disagrees_with\",\"my_roommate\",\"suited\",\"culturally\",\"robotics\",\"toxicity\",\"Few\",\"childish\",\"clarify\",\"Juno\",\"menos\",\"step\",\"either\",\"5_bucks\",\"200\",\"toxins\",\"totally_justified\",\"uphold\",\"Cory\",\"bulk\",\"your_throat\",\"bald\",\"(\",\"Cocaine\",\"motherfucking\",\"Shitlord\",\"Alright\",\"jack_shit\",\"boss\",\"trusting\",\"classmates\",\"Rupert\",\"Catholicism\",\"Soviet_Union\",\"Prayer\",\"tissues\",\"high_schoolers\",\"optics\",\"rev\",\"dem\",\"iPod\",\"domestic_violence\",\"3_million\",\"Sherlock\",\"good_job\",\"feels\",\"redeem\",\"perma\",\"r/all\",\"prepares\",\"FPTP\",\"mentioning\",\"Bachmann\",\"UB\",\"festive\",\"BD\",\"Terraria\",\"Innocent\",\"progression\",\"Blake\",\"Africans\",\"inviting\",\"final_form\",\"Ronald_Reagan\",\"Nerf\",\"dumb_enough\",\"gathered\",\"announces\",\"AND\",\"Ayyy\",\"Ricky\",\"considering_how\",\"entirely_possible\",\"Flair\",\"nothing_special\",\"irons\",\"FUCK_YOU\",\"frequency\",\"Californians\",\"martyr\",\"ive_ever\",\"BJ\",\"grown\",\"year_old\",\"comments\",\"diamonds\",\"McDavid\",\"Lillard\",\"robin\",\"HES\",\"Fruit\",\"Pep\",\"playoff_game\",\"anywhere_else\",\"salsa\",\"ROCK\",\"curry\",\"skinny_jeans\",\"HURR\",\"Pit\",\"trademark\",\"Mass\",\"Macklemore\",\"affects\",\"trial\",\"hot_air\",\"DDR3\",\"March\",\"hindi\",\"blur\",\"Checks\",\"ten_year\",\"legends\",\"douchebags\",\"HRC\",\"throne\",\"pretend\",\"cigs\",\"trespassing\",\"resident\",\"Star_Wars\",\"chick\",\"crew\",\"most_famous\",\"grappling\",\"get_viruses\",\"Throne\",\"equal_amount\",\"seeker\",\"Hopsin\",\"hanging\",\"revenge\",\"copy_paste\",\"43\",\"infield\",\"Borderlands\",\"stash\",\"HR\",\"mining\",\"arson\",\"kitty\",\"c\",\"only_logical\",\"knowingly\",\"Biggest\",\"worry\",\"white_supremacy\",\"SUPER\",\"tied\",\"Fox_news\",\"Fizz\",\"proper\",\"cm\",\"Controller\",\"klay\",\"Ivy\",\"strange\",\"clearly_superior\",\"gay\",\"0/10\",\"Diamond\",\"uploads\",\"steady\",\"bringing_up\",\"elections\",\"majestic\",\"include\",\"butcher\",\"anxiety\",\"yourselves\",\"nature\",\"free_throws\",\"RIOT\",\"eviction\",\"resell\",\"Short\",\"ANYTHING\",\"dumpster\",\"neckbeard\",\"Chase\",\"nag\",\"DAE_hate\",\"inherently_evil\",\"'_e\",\"scaring\",\"Spaghetti\",\"walk\",\"kind_of\",\"agencies\",\"Physics\",\"Afghan\",\"Wait_until\",\"race_war\",\"timed\",\"Elaborate\",\"planetary\",\"notepad\",\"our_society\",\"spyware\",\"astroturfing\",\"O_o\",\"deciding\",\"beneath\",\"chug\",\"deflate\",\"AMC\",\"Laine\",\"Mark\",\"most_powerful\",\"mi\",\"sling\",\"Hindu\",\"brigades\",\"forbid\",\"Expert\",\"Brisbane\",\"as_long\",\"conception\",\"dads\",\"RNG\",\"south_park\",\"giggle\",\"don\",\"self_respect\",\"slowly\",\"sick\",\"racial_slurs\",\"feet_away\",\"umbrella\",\"$_10\",\"NAT\",\"giraffe\",\"announcer\",\"Mike_Tyson\",\"Zyra\",\"buck\",\"bigotry\",\"everytime\",\"Oreos\",\"front_row\",\"child_molesters\",\"enough\",\"Finnish\",\"hidden\",\"Valentine\",\"THAT\",\"pillage\",\"vomit\",\"condemned\",\"spandex\",\"slower\",\"mineral\",\"Dana\",\"cupcakes\",\"NASA\",\"fickle\",\"Ottoman\",\"wasting_money\",\"assumes\",\"billion_dollar\",\"pretty_much\",\"Kanye_West\",\"breast_cancer\",\"Psycho\",\"Steph_Curry\",\"lotto\",\"TOO\",\"Neo\",\"liberal_arts\",\"10th\",\"applied\",\"publish\",\"Careful\",\"Gray\",\"blast\",\"philosopher\",\"floats\",\"reg\",\"next_year\",\"Jennings\",\"sonic\",\"prayed\",\"powerhouse\",\"Woosh\",\"indicative_of\",\"cleanup\",\"Domestic\",\"shh\",\"congratulations\",\"Kingdom\",\"END\",\"switch\",\"Revis\",\"dew\",\"hordes\",\"impeachment\",\"completely_unrelated\",\"cherry_picking\",\"founding\",\"pcmasterrace\",\"john\",\"big_boned\",\"NK\",\"mouthpiece\",\"transformation\",\"those_damned\",\"oh_yes\",\"gap_between\",\"Mitt_Romney\",\"Crooked_Hillary\",\"hotdog\",\"Hull\",\"Shop\",\"Xbox_Live\",\"whoring\",\"Salt\",\"left-wing\",\"committing\",\"false_rape\",\"PRO\",\"equipment\",\"rape_apologist\",\"nobody_cares\",\"bicycle\",\"rejecting\",\"buried\",\"Along_with\",\"url\",\"sides\",\"stabbed\",\"Courtney\",\"xenophobic\",\"programming\",\"DW\",\"$_10,000\",\"As_usual\",\"junk\",\"sweep\",\"position\",\"THOUGHT\",\"toilet_paper\",\"Einstein\",\"joined\",\"PTSD_from\",\"Total\",\"crouch\",\"Rocks\",\"motherboard\",\"stick_around\",\"Johnny_Depp\",\"getting_married\",\"verbal\",\"outrageous\",\"Martin_Luther\",\"payback\",\"Likely\",\"GMT\",\"crazy_conspiracy\",\"mmo\",\"D_E\",\"unto\",\"talking\",\"bloodthirsty\",\"j\",\"seconds\",\"election\",\"fluffy\",\"Ace\",\"sponge\",\"dystopian\",\"attached\",\"saturated\",\"buildup\",\"medical_condition\",\"^^^\",\"them\",\"3+\",\"Julian\",\"rabies\",\"pointed\",\"Can_confirm\",\"AR-15\",\"respectively\",\"HOUSE\",\"angst\",\"Bolton\",\"Eli\",\"agony\",\"....\",\"vendors\",\"breweries\",\"Symmetra\",\"Umm\",\"Don\",\"lo\",\"Preach\",\"pikachu\",\"New_Yorkers\",\"desire\",\"TAKING\",\"Sign_me\",\"Spirit\",\"solitary\",\"admitting\",\"6th_grade\",\"please_nerf\",\"1970\",\"Aye\",\"Stop_using\",\"WITH_YOUR\",\"tray\",\"Spider\",\"naw\",\"becomes_president\",\"stoned\",\"Grove\",\"Pau\",\"tragedy\",\"invasion\",\"In_b4\",\"calendar\",\"Print\",\"inferior\",\"anarchists\",\"The\",\"MDMA\",\"Elizabeth\",\"free_range\",\"spices\",\"Hero\",\"believes\",\"Sakurai\",\"sweaty\",\"Gandhi\",\"troll\",\"residue\",\"exception\",\"meeting\",\"'cause\",\"stylish\",\"dislikes\",\"airflow\",\"figures\",\"monologue\",\"cock\",\"Hispanic\",\"nah_dude\",\"ON_A\",\"legislation\",\"protect_yourself\",\"25,000\",\"wouldve\",\"Edgy\",\"leet\",\"squirrel\",\"Bard\",\"cartel\",\"inside\",\"assassin\",\"Richards\",\"spill\",\"further\",\"down_voted\",\"deserve\",\"Internet_points\",\"classics\",\"website\",\"preseason\",\"hop\",\"taunt\",\"permanent\",\"shadowbanned\",\"Amen\",\"gli\",\"liberate\",\"psych\",\"memories\",\"fundies\",\"01111001\",\"slice\",\"volunteer\",\"try_turning\",\"immediately_after\",\"dangerous\",\"Beer\",\"puberty\",\"was_hoping\",\"triggering_me\",\"freight\",\"Dungeon\",\"races\",\"operated\",\"prototype\",\"Zac\",\"Sean\",\"impatient\",\"y'all\",\"homeopathic\",\"competent\",\"wiping\",\"sorted_out\",\"crazed\",\"tier_1\",\"military_grade\",\"LG\",\"10+\",\"rekt\",\"dyslexic\",\"somewhere\",\"roots\",\"Banks\",\"pod\",\"guys\",\"bush\",\"sucking\",\"killers\",\"noises\",\"Bros\",\"trim\",\"imagined\",\"dvd\",\"qualifier\",\"y\",\"Corvette\",\"terrorists\",\"beaches\",\"greed\",\"interracial\",\"Any_news\",\"Cant\",\"gender_stereotypes\",\"someone_who\",\"Ray_Rice\",\"lbs\",\"scenario\",\"asians\",\"mantra\",\"punishing\",\"rulers\",\"+15\",\"questioning\",\"Freeze\",\"most_successful\",\"moving_forward\",\"8.1\",\"harmless\",\"relics\",\"Warriors\",\"POTG\",\"terrorists_win\",\"R.\",\"even\",\"dominance\",\"insinuating\",\"Write\",\"Etho\",\"horribly\",\"midnight\",\"generation\",\"for_clearing\",\"logic\",\"real_racists\",\"finals\",\"rednecks\",\"recieved\",\"Seems_legit\",\"Brock\",\"Vincent\",\"corsair\",\"upside\",\"lovable\",\"indication\",\"dos\",\"Ultra\",\"Might_as\",\"2d\",\"ranking_system\",\"floor\",\"deem\",\"both_teams\",\"conversation\",\"thanking\",\"Ave\",\"butterflies\",\"mans\",\"painful\",\"TRIGGER\",\"Baltimore\",\"S1mple\",\"quest\",\"alright\",\"instincts\",\"osu\",\"lagging\",\"pc_gaming\",\"our_brains\",\"fertility\",\"HM\",\"drastically\",\"whiny\",\"Before\",\"Brett\",\"yellow\",\"rom\",\"experience\",\"KEK_KEK\",\"Standing\",\"devils\",\"Vinny\",\"bends\",\"stoners\",\"Now_kiss\",\"compare\",\"usa\",\"charges\",\"defy\",\"tossing\",\"lists\",\"directly_into\",\"manages\",\"Maar\",\"Bomb\",\"freighter\",\"mysteriously\",\"Big_surprise\",\"your_flair\",\"Who_says\",\"walmart\",\"ASU\",\"Wales\",\"multiple_accounts\",\"NFC\",\"spaceships\",\"gifts\",\"rocks\",\"protect_us\",\"Google+\",\"Mourinho\",\"saint\",\"Nah_mate\",\"top_tier\",\"sway\",\"tons\",\"tinfoil\",\"red_lights\",\"excess\",\"blasphemous\",\"england\",\"outlawed\",\"under_attack\",\"SUCK\",\"icing_on\",\"daily\",\"disavow\",\"enforced\",\"attitude\",\"honored\",\"Kotaku\",\"literally_Satan\",\"Ridge\",\"scout\",\"Hockey\",\"three_weeks\",\"scummy\",\"delegates\",\"lend\",\"South_Carolina\",\"ridiculous\",\"poly\",\"bitcoin\",\"tomb\",\"possibly\",\"Tavares\",\"construction\",\"claw\",\"Syrians\",\"drills\",\"Wilshere\",\"FED\",\"parking_spaces\",\"Cloud\",\"SMITE\",\"sniped\",\"reconcile\",\"fades\",\"turnovers\",\"minds\",\"Be\",\"protest\",\"Finish\",\"indulge\",\"sugary\",\"Legendary\",\"cos\",\"match\",\"wonder_if\",\"Rich\",\"couch\",\"Rayman\",\"will_fix\",\"inb4\",\"MK\",\"2003\",\"Carey\",\"assignment\",\"dominates\",\"alpha\",\"cycling\",\"Jinx\",\"rs\",\"nerdy\",\"YOU_GOT\",\"Fraser\",\"crucified\",\"paints\",\"discrimination_against\",\"Want\",\"belief_system\",\"earliest\",\"Elizabeth_Warren\",\"clarified\",\"Pm_me\",\"Sega\",\"eager\",\"any_chance\",\"ios\",\"alarms\",\"Mayo\",\"dreads\",\"confession\",\"Rivers\",\"Give\",\"freaks\",\"Berserk\",\"Hillary_Clinton\",\"Arnold\",\"Broncos\",\"several\",\"JEWS\",\"Tea_Party\",\"Cry\",\"conventions\",\"CONTENT\",\"super_cheap\",\"delivered\",\"generalizing\",\"contain\",\"rookies\",\"Targaryen\",\"apprentice\",\"blizzard\",\"flipping\",\"left_click\",\"hm\",\"EYES\",\"opposite_sex\",\"hearing\",\"Molly\",\"se\",\"lives\",\"MPAA\",\"GL\",\"folks\",\"abundant\",\"heart_attacks\",\"important_than\",\"soviet\",\"lolol\",\"her_daughter\",\"ako\",\"Katrina\",\"Deer\",\"year_olds\",\"ech_ech\",\"comparing\",\"33\",\"defiantly\",\"Award\",\"plumber\",\"Nazis\",\"therefore\",\"reflex\",\"overwatch\",\"99.9_%\",\"sounds_reasonable\",\"commute\",\"practice\",\"riled_up\",\"unsubscribe\",\"Lords\",\"Get\",\"dole\",\"Crosby\",\"Noone\",\"rehabilitation\",\"mic\",\"cyanide\",\"territorial\",\"my_go-to\",\"export\",\"SHUT_UP\",\"sacrificing\",\"amirite\",\"GE\",\"vicinity\",\"Delete\",\"brew\",\"NBN\",\"carriers\",\"feet_tall\",\"get_matched\",\"last_sentence\",\"impressions\",\"making_fun\",\"Generation\",\"leap\",\"drones\",\"kisses\",\"triple\",\"stuff\",\"breeding\",\"obscure\",\"faggots\",\"wheel\",\"5_months\",\"burrito\",\"Alexander\",\"orange_juice\",\"SHOW\",\"Waiting_for\",\"generous\",\"followed_by\",\"/\",\"difference\",\"What\",\"Fallen\",\"manifest\",\"respawn\",\"STL\",\"feminazis\",\"LGBT\",\"pregnant_woman\",\"smartass\",\"oppresses\",\"Bergeron\",\"WILL_BE\",\"Stop\",\"Free_market\",\"Lil\",\"ist\",\"insult\",\"western\",\"WON\",\"woah_woah\",\"inspired\",\"scripture\",\"tea_party\",\"relatives\",\"history_class\",\"lever\",\"OSRS\",\"super_serious\",\"stare\",\"Side\",\"bought\",\"Flying\",\"sneaking\",\"nobody_ever\",\"targeting\",\"Me_neither\",\"thin_air\",\"overdose\",\"brand_new\",\"reddits\",\"123\",\"established\",\"commenters\",\"doar\",\"squats\",\"Obi-Wan\",\"commie\",\"terrorist_groups\",\"username\",\"Ai_n't\",\"Increase\",\"6S\",\"flashback\",\"none_of\",\"Gamers\",\"full_speed\",\"II\",\"Astralis\",\"DB\",\"Gotcha\",\"Cap\",\"Audio\",\"WTC\",\"Think_about\",\"FeelsBadMan\",\"rigging\",\"within_5\",\"hatred\",\"differ\",\"Shut_up\",\"Woods\",\"Huffington_Post\",\"deplorables\",\"compromised\",\"undermine\",\"Rodgers\",\"Trump_supporter\",\"momentum\",\"nationalize\",\"API\",\"JL\",\"always_wondered\",\"Aaaaand\",\"young\",\"heap\",\"consensus\",\"menace\",\"toe\",\"peacefully\",\"Caught\",\"settle\",\"juggernaut\",\"after_reading\",\"68\",\"Teddy\",\"elo_hell\",\"pressure\",\"hahahaha\",\"Spending\",\"Rays\",\"most_popular\",\"FDA\",\"Giroud\",\"stereotyping\",\"'ve_gone\",\"pencils\",\"pumping\",\"mood\",\"unethical\",\"anal_sex\",\"islands\",\"million_dollars\",\"converts\",\"galactic\",\"Cartman\",\"in_terms\",\"husbands\",\"comrades\",\"PM_me\",\"cpu\",\"YOURE\",\"Cardinals\",\"journalistic\",\"NO_IT\",\"Very_interesting\",\"fodder\",\"BLOW\",\"mind\",\"off_guard\",\"sufficiently\",\"specially\",\"Damn\",\"paste\",\"big_bucks\",\"Fuel\",\"Quite\",\"my_girlfriend\",\"rito\",\"2-4\",\"actual\",\"Scout\",\"great_deal\",\"netcode\",\"complement\",\"Technology\",\"rgb\",\"Started\",\"acknowledging\",\"jay\",\";_3\",\"attractive_women\",\"Coutinho\",\"Alt\",\"peanuts\",\"Shes\",\"Spy\",\"japan\",\"Patrick\",\"botters\",\"bid\",\"right-wing\",\"Austin\",\"storm\",\"14_year\",\"attending\",\"artists\",\"someone_else\",\"Welsh\",\"twist\",\"Pussy\",\"techniques\",\"Bam\",\"got_rekt\",\"Quran\",\"To_each\",\"very_large\",\"Bayonetta\",\"phrased\",\"RG3\",\"revolutionary\",\"Wrestling\",\"negros\",\"helium\",\"Gift\",\"vegans\",\"DCEU\",\"disabilities\",\"durr\",\"search_function\",\"cap_space\",\"merit\",\"Rossi\",\"PTS\",\"touch\",\"special\",\"Jeeze\",\"attacks\",\"volunteers\",\"benefit_from\",\"installs\",\"unconscious\",\"axes\",\"thicker\",\"stoop\",\"Twins\",\"Used\",\"SAVE\",\"prevents\",\"upwards\",\"no_idea\",\"id_rather\",\"WAR\",\"echt\",\"n_'\",\"coded\",\"by_extension\",\"Suite\",\"Bones\",\"regulation\",\"70s\",\"neighboring\",\"dev\",\"Springfield\",\"stool\",\"Castle\",\"positioning\",\"general_election\",\"EDH\",\"Es\",\"Flag\",\"place\",\"meth\",\"Barry\",\"lewis\",\"catcher\",\"88\",\"Psst\",\"best\",\"Cold_War\",\"charitable\",\"swearing\",\"useful_information\",\"commonplace\",\"can_verify\",\"capacity\",\"stain\",\"wells\",\"SEC_team\",\"funds\",\"trashing\",\"Cal\",\"royalties\",\"Fusion\",\"Honestly\",\"reckless\",\"specified\",\"INT\",\"Throwing\",\"approves\",\"Kek\",\"Enjoy\",\"regarded_as\",\"murder\",\"hate_train\",\"qq\",\"Terrorists\",\"PERSON\",\"pinnacle_of\",\"nos\",\"Happy\",\"SJW\",\"Sound_like\",\"funeral\",\"winters\",\"account\",\"meaningful\",\"X1\",\"qualities\",\"STRONG\",\"fanbase\",\"hdd\",\"location\",\"quoted\",\"Beware\",\"Bettman\",\"stop_being\",\"coach\",\"boop\",\"stop_playing\",\"important_things\",\"GTR\",\"salvage\",\"basics\",\"wine\",\"economies\",\"young_age\",\"Majority\",\"referee\",\"prosperous\",\"shady\",\"our_culture\",\"every_other\",\"bison\",\"Fake_news\",\"authority\",\"step_away\",\"Bitch9ers\",\"impressed\",\"declare\",\"hello\",\"Pakistan\",\"chosen\",\"long_hair\",\"felt\",\"agressive\",\"Fascist\",\"hamburgers\",\"tomatoes\",\"into_account\",\"Chloe\",\"Comcast\",\"eyebrow\",\"Care\",\"Bluetooth\",\"'the\",\"Sup\",\"internet_explorer\",\"Peterson\",\"creatine\",\"Atlantic\",\"bind\",\"Un\",\"an_issue\",\"including\",\"countryside\",\"fought\",\"medication\",\"Awakens\",\"M2K\",\"impose\",\"cosmic\",\"second_amendment\",\"stumble\",\"Dig\",\"doin_'\",\"Nah_man\",\"O\",\"in_advance\",\"sit_through\",\"bby\",\"get_pregnant\",\"Pact\",\"downvote_button\",\"rapes\",\"Royce\",\"steal\",\"65_%\",\"Lollipop\",\"tbh\",\"ask_questions\",\"brighter\",\"get_knocked\",\"HUGE\",\"thank_god\",\"every_year\",\"mansions\",\"intimidation\",\"Lexus\",\"50s\",\"reasonable_doubt\",\"Guessing\",\"tug\",\"York\",\"performances\",\"Destruction\",\"Hornets\",\"pistol_round\",\"ewww\",\"Finding\",\"Jeb_Bush\",\"voicing\",\"sticker\",\"LEAVE\",\"alt_account\",\"need_feminism\",\"Pikachu\",\"lets\",\"Miami\",\"civil_rights\",\"haram\",\"notch\",\"senseless\",\"threesome\",\"fap\",\"distress\",\"relationships\",\"supporter\",\"so_many\",\"session\",\"Perth\",\"Poe\",\"unity\",\"goggles\",\"Egypt\",\"specialist\",\"build\",\"shocker\",\"winner\",\"moon_landings\",\"Rachel\",\"Kenya\",\"write\",\"sent\",\"Jon\",\"prioritize\",\";_/3\",\"spends\",\"Goldman_Sachs\",\"imho\",\"INTENSIFIES\",\"almost\",\"President\",\"Steve\",\"Sports\",\"power_fantasy\",\"Oh_dear\",\"Youre\",\"i_dont\",\"incarnate\",\"perpetuating\",\"sound_like\",\"concussions\",\"twat\",\"Fireball\",\"abused_by\",\"spectacle\",\"progressing\",\"execution\",\"april\",\"farm\",\"worship\",\"complaints\",\"15_year\",\"sourced\",\"motivating\",\"poking\",\"In\",\"Quote\",\"spotless\",\"an_erection\",\"brotherhood\",\"impressed_by\",\"bakery\",\"House\",\"neo\",\"MLB\",\"Political\",\"banged\",\"January\",\"his_arm\",\"Hmm_..\",\"little_sister\",\"affection\",\"touches\",\"immortality\",\"Atlantis\",\"someone\",\"poke\",\"look_alike\",\"bible_says\",\"dumbass\",\"seeing\",\"UH\",\"Broken\",\"privileged_white\",\"noticeable\",\"mmmm\",\"fined\",\"resisting_arrest\",\"doesnt_exist\",\"ID\",\"maaaan\",\"cuisine\",\"fastest\",\"cookies\",\"WVU\",\"of_Duty\",\"Institute\",\"Race\",\"Ask\",\"Splatoon\",\"living_wage\",\"HTC\",\"RAPE\",\"assist\",\"pirates\",\"very_clear\",\"convert\",\"amazed_at\",\"answer\",\"alienate\",\"Falls\",\"homeopathy\",\"tables\",\"mile\",\"image\",\"platoon\",\"molested\",\"minimum\",\"bt\",\"fog\",\"Edge\",\"brood\",\"dank_memes\",\"Brothers\",\"airs\",\"sniper_rifle\",\"babby\",\"pulse\",\"feel_like\",\"Mississippi\",\"gun_rights\",\"regulators\",\"century\",\"risks\",\"suffer\",\"beautifully\",\"Yesterday\",\"New_Year\",\"Dubai\",\"glove\",\"Cmon_man\",\"wil\",\"reinforced\",\"who_wants\",\"devalue\",\"relevant_username\",\"sophomore\",\"managed\",\"hoax\",\"launcher\",\"remakes\",\"satisfaction\",\"drug_war\",\"sooo\",\"my_laptop\",\"thay\",\"Chipotle\",\"contribution\",\"get_married\",\"trickle\",\"traveled\",\"Clean\",\"Eww\",\"Cuban\",\"already_exists\",\"ethics\",\"r8\",\"subtle\",\"Schultz\",\"Player\",\"pronouns\",\"Worst\",\"name_calling\",\"bones\",\"'ve_ever\",\"GT3\",\"weak\",\"personal_opinion\",\"Sarcasm\",\"R8\",\"dared\",\"rapper\",\"orchestrated\",\"guardian\",\"deployment\",\"bunnies\",\"stance\",\"cellphone\",\"Ho\",\"poe\",\"Some_people\",\"surge\",\"Ms\",\"cucked\",\"an_infant\",\"edgy\",\"admit\",\"SINCE\",\"respective\",\"hipsters\",\"young_girls\",\"embarrassment\",\"MASTER_RACE\",\"T-shirt\",\"placement\",\"bytes\",\"our_lord\",\"lvl\",\"Kaine\",\"Alien\",\"daca\",\"machinery\",\"hmm\",\"special_kind\",\"violations\",\"get_paid\",\"cream\",\"beheading\",\"persecuting\",\"Ingram\",\"angry\",\"Often\",\"high_five\",\"age\",\"an_amateur\",\"found\",\"advantages\",\"RED\",\"steel\",\"ruled_by\",\"brought_back\",\"debit_card\",\"dungeons\",\"DNS\",\"$_300\",\"acquired\",\"4s\",\"OOC_:\",\"communicate\",\"humility\",\"consoles\",\"booted\",\"TEH\",\"{_{\",\"NSFW_tag\",\"Cheating\",\"toilets\",\"jerk_off\",\"stay_away\",\"C9\",\"mirrors\",\"OFF\",\"PEACE\",\"dodgy\",\"earnings\",\"very_important\",\"Modi\",\"fall_apart\",\"vibrations\",\"psychologically\",\"open_mind\",\"infuriating\",\"ct\",\"nsfw\",\"wildcard\",\"Noob\",\"defines\",\"unimportant\",\"Trevor\",\"being_sarcastic\",\"Same_here\",\"our_Lord\",\"staple\",\"fully_support\",\"remember_hearing\",\"ludicrous\",\"ELSE\",\"Q\",\"LeBron_James\",\"Maori\",\"MANY\",\"Manziel\",\"140\",\"power_creep\",\"lap\",\"Philly\",\"phallic\",\"their_hearts\",\"Close\",\"gay_men\",\"addictive\",\"fares\",\"unqualified\",\"Maker\",\"essential\",\"Bounty\",\"worked_harder\",\"hears\",\"Bundesliga\",\"afterlife\",\"Plot_twist\",\"typed\",\"fear\",\"She\",\"Ben_Affleck\",\"tortilla\",\"Cleary\",\"OpTic\",\"Scump\",\"an_elevator\",\"ver\",\"sparks\",\"Philip\",\"product_placement\",\"provides\",\"Standard\",\"cheeto\",\"vigilante\",\"Excellent\",\"laces\",\"an_attempt\",\"sensationalized\",\"Football\",\"hairline\",\"tin\",\"europe\",\"snap\",\"Hes\",\"suspense\",\"super_smart\",\"incorrect\",\"invoke\",\"london\",\"versions\",\"Superbowl\",\"grown_up\",\"Minions\",\"THEY_DO\",\"worrying\",\"Lo\",\"birthday_party\",\"too_busy\",\"transcript\",\"citing\",\"agility\",\"pretty\",\"drowning\",\"Matt_Damon\",\"replying\",\"camping\",\"worn\",\"Witcher_3\",\"moet\",\"for\",\"800\",\"cuddling\",\"arguably\",\"side_note\",\"tasted\",\"Bryant\",\"marched\",\"enslaved\",\"methinks\",\"heavily\",\"object\",\"last_few\",\"Liverpool\",\"C'est\",\"meetings\",\"gathering\",\"Pick_up\",\"hand\",\"decentralized\",\"Alchemist\",\"ikr\",\"n't\",\"removable\",\"Chocolate\",\"Chrome\",\"LEDs\",\"fellas\",\"PEASANT\",\"13_years\",\"fully_understand\",\"LIKE_THE\",\"publisher\",\"commence\",\"ridiculed\",\"prescribed\",\"rivalry\",\"controversial\",\"their_genitals\",\"super_cool\",\"Bundy\",\"Mayor\",\"ownership\",\"FAST\",\"Orb\",\"ruin_everything\",\"neighborhoods\",\"whomever\",\"silver\",\"cracks_me\",\"ins\",\"rejoice\",\"did\",\"banner\",\"sphere\",\"Cool_thanks\",\"license_plates\",\"carried_by\",\"pronoun\",\"RAW\",\"Edition\",\"strong_independent\",\"tutorial\",\"backing\",\"tacky\",\"lawyers\",\"beanie\",\"fired\",\"daytime\",\"district\",\"UT\",\"drastic\",\"trendy\",\"blender\",\"Idiots\",\"against\",\"devoted\",\"Stock\",\"missile\",\"counts\",\"printer\",\"northern\",\"aesthetic\",\"iraq\",\"tasteless\",\"charter\",\"rivals\",\"fandom\",\"Nickleback\",\"Seems\",\"15\",\"midlaner\",\"Millions\",\"DARK\",\"servants\",\"Adidas\",\"rappers\",\"inadequate\",\"UA\",\":_/\",\"liner\",\"Emirates\",\"chaps\",\"cu\",\"ezreal\",\"forwards\",\"ARE_YOU\",\"ape\",\"more_convenient\",\"shoe\",\"Broadway\",\"audible\",\"courage\",\"projectiles\",\"proofs\",\"positive\",\"cam\",\"ESL\",\"wards\",\"sir\",\"prohibited\",\"karma_whoring\",\"acknowledge\",\"Yasuo\",\"iBP\",\"50_shades\",\"starters\",\"antibiotics\",\"11th\",\"[_insert\",\"BBQ\",\"IG\",\"indoor\",\"drafted\",\"WSGY_WSGY\",\"commentators\",\"CIA\",\"comedies\",\"noodles\",\"web_browser\",\"'m_sorry\",\"expenses\",\"tampons\",\"headlights\",\"bass\",\"tranny\",\"HAVE_A\",\"Everyone_knows\",\"tracker\",\"brilliance\",\"morals\",\"Rising\",\"Remote\",\"Walker\",\"V8\",\"Irish\",\"bonus\",\"EVERYONE\",\"stairs\",\"Yay\",\"routing\",\"hearsay\",\"completely_useless\",\"deleted\",\"passport\",\"preference\",\"plane\",\"shirt\",\"mistakes\",\"beautiful_woman\",\"Awesome\",\"Wave\",\"stretch\",\"Fund\",\"exchange_rate\",\"finds_out\",\"becoming\",\"upscale\",\"Engine\",\"properties\",\"religious_freedom\",\"Steph\",\"riff\",\"noticing\",\"ACL\",\"Private\",\"taxing\",\"slot\",\"embraced\",\"freeman\",\"Doubt\",\"metropolitan\",\"skilled\",\"theft\",\"whoa\",\"management\",\"letters\",\"Stanley_Cup\",\"misused\",\"ak\",\"corruption\",\"MARK\",\"operate\",\"lcs\",\"right_now\",\"Bishop\",\"fans\",\"Samus\",\"cant\",\"LINE\",\"screwing_up\",\"Na_man\",\"coolest\",\"an_extremely\",\"picker\",\"River\",\"written_by\",\"lamp\",\"unintelligible\",\"manufacturers\",\"RES\",\"saving\",\"sickness\",\"Dawn\",\"20_minutes\",\"tigers\",\"slaughtered\",\"raptors\",\"reached\",\"expose\",\"plugging\",\"Taken\",\"macro\",\"Ty\",\"roman\",\"Totally_worth\",\"prohibition\",\"greatest_country\",\"amp_;\",\"his_father\",\"Yea\",\"ms\",\"what_happens\",\"an_award\",\"Jordan\",\"Heroes\",\"disagreed_with\",\"bailout\",\"2001\",\"TV_show\",\"brave_enough\",\"whore_mouth\",\"influences\",\"IMDB\",\"sexist_against\",\"masks\",\"redditors\",\"technicality\",\"Toxic\",\"organic\",\"5_times\",\"technically\",\"will_eventually\",\"molestation\",\"ds\",\"wireless\",\"circles\",\"misspelled\",\"mijn\",\"Notice\",\"million\",\"bees\",\"Tell_me\",\"reflection\",\"mucho\",\"Common_sense\",\"warhammer\",\"our_hearts\",\"CHOO_CHOO\",\"Graphics\",\"newbies\",\"summoner\",\"Ugh\",\"Other\",\"foreigner\",\"peon\",\"right_direction\",\"At\",\"Jags\",\"boiling\",\"relating\",\"-_Favorable\",\"Cheese\",\"dominate\",\"vaccinate\",\"combo\",\"`_`\",\"are\",\"eyeball\",\"View\",\"wall\",\"Psh\",\"conflicts\",\"independents\",\"Control\",\"hangar\",\"researchers\",\"rage\",\"trashy\",\"Drill\",\"counters\",\"immortal\",\"Reported\",\"technically_correct\",\"Losing\",\"refill\",\"nuns\",\"week_ago\",\"kettle\",\"retort\",\"disappoint\",\"align_with\",\"30FPS\",\"cell_phone\",\"common_knowledge\",\"Nobody\",\"trafficking\",\"colours\",\"compliance\",\"directly\",\"approach\",\"Oddly_enough\",\"Delhi\",\"IBM\",\"child_porn\",\"FEEL\",\"randy\",\"offs\",\"elemental\",\"blockchain\",\"Spent\",\"net\",\"fabrication\",\"Kurt\",\"year_anniversary\",\"automotive\",\"utopia\",\"Yh\",\"60s\",\"doggy\",\"fatass\",\"unlikely\",\"lip\",\"his_teammates\",\"prowess\",\"SSDs\",\"got_outplayed\",\"MAN\",\"canadian\",\"As_far\",\"bachelor\",\"novel\",\"importing\",\"perfect\",\"lowly\",\"soulless\",\"praise\",\"economic_growth\",\"factual\",\"populated\",\"My_favorite\",\"+2\",\"every_time\",\"butterfly\",\"NT\",\"95\",\"(_ie\",\"neutral\",\"hicks\",\"hopes\",\"Welfare\",\"inner\",\"perfectly_reasonable\",\"Downvoting\",\"important_thing\",\"'ve_gotten\",\"Welp\",\"Rochester\",\"cast\",\"Letting\",\"played\",\"preventing\",\"transformers\",\"advertisers\",\"metaphors\",\"UP_THE\",\"Swede\",\"JB\",\"differential\",\"my_favourite\",\"morning\",\"hut\",\"young_children\",\"your_spouse\",\"Forces\",\"Charlie\",\"their_beliefs\",\"broadcasts\",\"Amazing\",\"Subtle\",\"hotdogs\",\"Wall_Street\",\"long_time\",\"forgive_me\",\"icy\",\"OBJ\",\"ditched\",\"lunches\",\"personality_disorder\",\"bubble\",\"world_burn\",\"his_own\",\"bikini\",\"sync\",\"Laser\",\"CHANGE\",\"tether\",\"giveaway\",\"abs\",\"appear\",\"poster\",\"adcs\",\"Psshh\",\"dupe\",\"OH_NO\",\"ski\",\"christmas\",\"amazon\",\"natural_disasters\",\"GTA\",\"TRIGGERED\",\"totally_comparable\",\"profiles\",\"queen\",\"Big_12\",\"internet_access\",\"pond\",\"NAZI\",\"gb\",\"an_anarchist\",\"tyrant\",\"multitude_of\",\"anger\",\"Asylum\",\"In_America\",\"pro\",\"Expected\",\"absolute_worst\",\"august\",\"custody\",\"Freedom\",\"imitate\",\"Cincinnati\",\"graphics_cards\",\"META\",\"child_labor\",\"donald_trump\",\"frame_rate\",\"cd\",\"loki\",\"discipline\",\"flags\",\"per\",\"crushed\",\"referral\",\"Chi\",\"DELETE\",\"TRUMPS_HATE\",\"consists_of\",\"updates\",\"After\",\"fiddle\",\"vanguard\",\"soil\",\"segment\",\"ladder\",\"bug_fixes\",\"isnt\",\"100\",\"straightforward\",\"Though\",\"stahp\",\"cocktail\",\"Belichick\",\"roaming\",\"Wat\",\"$\",\"opener\",\"settle_down\",\"my_backyard\",\"enterprise\",\"delta\",\"let_alone\",\"dress_up\",\"Whoever\",\"coz\",\"pubes\",\"monolithic\",\"minion\",\"SOURCE\",\"invade\",\"Guard\",\"3.8\",\"7-11\",\"Main\",\"Bible_Belt\",\"Wonder\",\"Automatic\",\"deploy\",\"corrupt\",\"Fighters\",\"Reddit_hates\",\"fins\",\"sweet_karma\",\"lack_of\",\"bestiality\",\"handed\",\"toned\",\"FL\",\"Reddit_Gold\",\"extend\",\"abusers\",\"archaic\",\"some_slack\",\"CCP\",\"ridiculously\",\"Character\",\"botched\",\"momentarily\",\"parade\",\"plugins\",\"contributes\",\"everyone\",\"wears\",\"HoF\",\"Alonso\",\"wound\",\"20-30\",\"Vector\",\"insist\",\"Mirror\",\"rag\",\"thus_far\",\"flock\",\"thx\",\"vote_republican\",\"Neon\",\"stores\",\"QUICK\",\"--\",\"Larry\",\"Randle\",\"Quickly\",\"writer\",\"achieve\",\"says\",\"Vegan\",\"loaf\",\"jet_fuel\",\"#_1\",\"al\",\"Void\",\"Philippines\",\"Piss\",\"NOT_THE\",\"gal\",\"vetting\",\"wank\",\"C_#\",\"cycle\",\"Portal_2\",\"motherfuckers\",\"promoting\",\"merging\",\"bracelet\",\"mage\",\"quieter\",\"controllers\",\"spanish\",\"stationary\",\"unemployment_rate\",\"+\",\"Nico\",\"Donnie\",\"R_&\",\"Cop\",\"fever\",\"FAT\",\"shining_beacon\",\"apologizing\",\"discuss\",\"gift_card\",\"explain_why\",\"topic\",\"online_dating\",\"ILLEGAL\",\"madden\",\"fair_comparison\",\"projected\",\"blessings\",\"harmony\",\"SHOT\",\"all-in\",\"sort\",\"flank\",\"Wind\",\"resolutions\",\"cats\",\"ALWAYS\",\"narratives\",\"nur\",\"falls\",\"1.3\",\"cakes\",\"Nats\",\"misogyny\",\"AMERICA\",\"TOGETHER\",\"coaching_staff\",\"skepticism\",\"Paulie\",\"interpreted\",\"diagnosis\",\"later_today\",\"lockout\",\"level-headed\",\"bastards\",\"slab\",\"passing\",\"Lampard\",\"directed_by\",\"reigns\",\"Talib\",\"Hammer\",\"attire\",\"cringed\",\"stump\",\"gamers\",\"serial_killer\",\"latency\",\"hz\",\"laning\",\"Jensen\",\"hugely\",\"sake\",\"counselor\",\"IKR\",\"Big_Ben\",\"routes\",\"Eight\",\"shaped\",\"guarantee\",\"transplant\",\"nutrients\",\"M_$\",\"good_luck\",\"bo3\",\"changes\",\"risky\",\"global_warming\",\"Sig\",\"Eichel\",\"drug\",\"noooo\",\"LS\",\"Rare\",\"d.\",\"draws\",\"Mad\",\"Bharat\",\"injury_prone\",\"down_voting\",\"Dark_Souls\",\"aid\",\"Hart\",\"LONG\",\"Health\",\"low_tier\",\"sang\",\"disadvantaged\",\"dog_whistle\",\"Canadian\",\"seen\",\"crimes\",\"firms\",\"delete\",\"pricing\",\"discussed\",\"Ethan\",\"Hunter\",\"purchase\",\"valve\",\"mid\",\"Seeing_as\",\"photoshop\",\"turbo\",\"cooperation\",\"stance_on\",\"compulsory\",\"newly\",\"derail\",\"uhhhh\",\"most\",\"pep\",\"GUISE\",\"olympics\",\"tried\",\"absolutely_no\",\"GOD_DAMN\",\"Spray\",\"Blah_blah\",\"addon\",\"compatible_with\",\"Mizzou\",\"pcmr\",\"Europeans\",\"10_min\",\"cane\",\"wet\",\"junglers\",\"abuse\",\"rollercoaster\",\"Played\",\"implementing\",\"exist_anymore\",\"'not\",\"tool\",\"Every_day\",\"T\",\"Star\",\"Poor_guy\",\"videogame\",\"Nah_bruh\",\"meets\",\"method\",\"Grats\",\"ca_n't\",\"unlocking\",\"raising\",\"list\",\"human_being\",\"pledge\",\"YEAH\",\"defend_against\",\"confuse\",\"ill\",\"killing_myself\",\"pound\",\"paint\",\"hoard\",\"IMPOSSIBLE\",\"discredit\",\"worry_about\",\"Constitution\",\"Cut_him\",\"Sexism\",\"occasional\",\"Ventura\",\"CAD\",\"possess\",\"dont_know\",\"climb\",\"nomination\",\"TI\",\"MAH\",\"except\",\"service\",\"Inb4\",\"Source_2\",\"salmon\",\"$_200\",\"problem\",\"grills\",\"unwanted\",\"NONE\",\"Voat\",\"pile_of\",\"BOX\",\"Dallas\",\"bikers\",\"darts\",\"Jenna\",\"subscribed\",\"Rubber\",\"hashtags\",\"ART\",\"false_accusations\",\"good_chunk\",\"blog_post\",\"eco\",\"your_sister\",\"planned_parenthood\",\"WHO_IS\",\"billionaires\",\"IP\",\"off\",\"time_traveler\",\"valid_point\",\"pavement\",\"metaphorical\",\"au\",\"Packer\",\"ADHD\",\"shorter\",\"kek\",\"awaiting\",\"all-time\",\"lick\",\"inception\",\"Sam\",\"detrimental\",\"Ever_since\",\"ivory\",\"pitches\",\"libraries\",\"amendment\",\"best_option\",\"very_smart\",\"vest\",\"faster_than\",\"Citizens_United\",\"political_correctness\",\"bayonet\",\"good\",\"determine\",\"prick\",\"depressed\",\"Disable\",\"AFL\",\"old_girl\",\"Tough\",\"Pluto\",\"theater\",\"near_future\",\"sneakers\",\"mal\",\"gin\",\"tit\",\"soooooo_much\",\"Dropbox\",\"ingredients\",\"credited\",\"awper\",\"passionate\",\"crippled\",\"holder\",\"Fantastic\",\"wolf\",\"owed\",\"peasant\",\"capture\",\"Richardson\",\"judging_by\",\"Im_glad\",\"extraordinary\",\"scrapped\",\"last_season\",\"P2P\",\"Knuckles\",\"crotch\",\"harbor\",\"onboard\",\"homemade\",\"couple\",\"slash\",\"Brent\",\"E_S\",\"Jamie\",\"positive_light\",\"ISIS\",\"EA\",\"The_author\",\"lanes\",\"as_opposed\",\"charcoal\",\"Balor\",\"Scalia\",\"dinosaur\",\"seattle\",\"alignment\",\"forums\",\"abortion\",\"kayfabe\",\"Madonna\",\"why\",\"concentration_camp\",\"white_supremacists\",\"obsessed\",\"scammed\",\"cab\",\"58\",\"Tobias\",\"sellout\",\"software_update\",\"expresses\",\"totaled\",\"30k\",\"Battlefield\",\"dinner\",\"Bengals\",\"dispel\",\"schedules\",\"Evil\",\"officer\",\"hurray\",\"seating\",\"real_question\",\":_-P\",\"express\",\"advertise\",\"World_Series\",\"conquering\",\"PhD\",\"others\",\"revert\",\"socially_acceptable\",\"lil\",\"blinded_by\",\"haha\",\"3x\",\"known\",\"wealth\",\"sequence\",\"Nazism\",\"Nice_username\",\"wins\",\"Starks\",\"fantastic\",\"music\",\"eating_meat\",\"trippy\",\"Vladimir\",\"Yu\",\"irresponsible\",\"guitar\",\"saw\",\"YELLING\",\"Pawn\",\"past_24\",\"remember\",\"20k\",\"30s\",\"Bigfoot\",\"whale\",\"worth_noting\",\"loosing\",\"uno\",\"bullets\",\"dicks\",\"lolz\",\"pesky\",\"M8\",\"IRS\",\"modular\",\"splitting\",\"overhaul\",\"psh\",\"RTS\",\"parole\",\"decals\",\"tempted\",\"diversity\",\"lake\",\"smoker\",\"Flat\",\"onions\",\"Typical\",\"Rome\",\"impressionable\",\"citizenship\",\"taxi\",\"turn\",\"season\",\"endgame\",\"26\",\"Motorola\",\"jets\",\"Diana\",\"compassion\",\"lmao\",\"best_part\",\"shit_load\",\"Keanu\",\"Dem\",\"Cyborg\",\"Core\",\"WiiU\",\"derailing\",\"synonymous_with\",\"80k\",\"HRT\",\"cutting_edge\",\"tennis\",\"fast_food\",\"launches\",\"public_transit\",\"NUMBER\",\"two_months\",\"MEDIA\",\"next_season\",\"Iranian\",\"cowboy\",\"tanked\",\"unfair\",\"paintings\",\"Russ\",\"glitches\",\"footprint\",\"pretty_dope\",\"progressive\",\"Bah\",\"$_5000\",\"m8\",\"respects\",\"Club\",\"melee\",\"Whew\",\"unpatriotic\",\"aimbot\",\"Stewart\",\"deport\",\"performed\",\"Noooo\",\"internalized_racism\",\"hair\",\"voting\",\"sympathizer\",\"30\",\"look_forward\",\"xbone\",\"intense\",\"undecided\",\"basic\",\"producing\",\"steep\",\"retroactively\",\"ugly\",\"breakers\",\"music_videos\",\"arguments\",\"mathematics\",\"NPC\",\"subways\",\"little_bitch\",\"Halo_5\",\"Christie\",\"Higher\",\"pandas\",\"Outside\",\"portion\",\"automatically_means\",\";_}\",\"ideally\",\"CTR_shill\",\"$_800\",\"detention\",\"gun_nuts\",\"second_round\",\"friggin\",\"Dis\",\"paws\",\"spending_money\",\"Karma\",\"freezing\",\"Lotus\",\"an_extra\",\"Indians\",\"Billion\",\"excellent\",\"hanger\",\"fabulous\",\"painter\",\"mid_laner\",\"ours\",\"Skynet\",\"Resident_Evil\",\"Let_'s\",\"god_tier\",\"Suarez\",\"harassment\",\"Gina\",\"NASCAR\",\"Palin\",\"Sharia\",\"accidently\",\"fed_up\",\"economists\",\"those_darn\",\"nfl\",\"glasses\",\"declaration\",\"naar\",\"Hugo\",\"buffet\",\"ESEA\",\"CS\",\"remind_me\",\"respectful\",\"sum\",\"CDs\",\"tweet\",\"app\",\"Greatest\",\"freeways\",\"Chiefs\",\"LMA\",\"Malaysian\",\"2014\",\"Through\",\"GSP\",\"catholics\",\"kobe\",\"rounds\",\"'d_love\",\"Valve\",\"starting\",\"todo\",\"Boris\",\"legitimate\",\"benevolent\",\"Near\",\"Central\",\"doing\",\"inputs\",\"defective\",\"prop_up\",\"blames\",\"nuanced\",\"smiles\",\"copypasta\",\"more_comfortable\",\"dealings\",\"happiness\",\"win_worlds\",\"Above\",\"porting\",\"NOPE\",\"munchies\",\"125\",\"hardest_part\",\"deep_fried\",\"16_year\",\"wonder_how\",\"restarting\",\"parent\",\"dressed\",\"new_album\",\"splinter\",\"QBR\",\"Like\",\"an_elite\",\"destroyed\",\"Add\",\"vaccine\",\"powerless\",\"polled\",\"ce\",\"Che\",\"Country\",\"institutional\",\"Carlton\",\"referenced\",\"ironic\",\"couple_days\",\"eater\",\"director\",\"Matthews\",\"an_entire\",\"DROP\",\"wondered\",\"hid\",\"were\",\"HILARIOUS\",\"try_harder\",\"protected\",\"silk\",\"porn_stars\",\"abnormal\",\"Tank\",\"Judge\",\"hang_out\",\"bitchy\",\"CAPS\",\"cyber\",\"christ\",\"obese\",\"wager\",\"public_education\",\"come\",\"MRA\",\"Dope\",\"advocates\",\"PI\",\"weirdest\",\"coding\",\"Stoke\",\"Clan\",\"a\",\"mall\",\"mythology\",\"bonkers\",\"watching\",\"Smells_like\",\"an_Aussie\",\"call_center\",\"WOT\",\"heads_up\",\"search_bar\",\"anti-white\",\"tot\",\"linux\",\"farted\",\"ITT\",\"these_idiots\",\"proceeds\",\"hungover\",\"FUCK_THE\",\"Clown\",\"skimpy\",\"OEM\",\"Sears\"],\"shape\":[5000],\"dtype\":\"object\",\"order\":\"little\"}]]}}},\"view\":{\"type\":\"object\",\"name\":\"CDSView\",\"id\":\"p1040\",\"attributes\":{\"filter\":{\"type\":\"object\",\"name\":\"AllIndices\",\"id\":\"p1041\"}}},\"glyph\":{\"type\":\"object\",\"name\":\"Text\",\"id\":\"p1036\",\"attributes\":{\"x\":{\"type\":\"field\",\"field\":\"x\"},\"y\":{\"type\":\"field\",\"field\":\"y\"},\"text\":{\"type\":\"field\",\"field\":\"text\"},\"text_color\":{\"type\":\"value\",\"value\":\"black\"}}},\"nonselection_glyph\":{\"type\":\"object\",\"name\":\"Text\",\"id\":\"p1037\",\"attributes\":{\"x\":{\"type\":\"field\",\"field\":\"x\"},\"y\":{\"type\":\"field\",\"field\":\"y\"},\"text\":{\"type\":\"field\",\"field\":\"text\"},\"text_color\":{\"type\":\"value\",\"value\":\"black\"},\"text_alpha\":{\"type\":\"value\",\"value\":0.1}}},\"muted_glyph\":{\"type\":\"object\",\"name\":\"Text\",\"id\":\"p1038\",\"attributes\":{\"x\":{\"type\":\"field\",\"field\":\"x\"},\"y\":{\"type\":\"field\",\"field\":\"y\"},\"text\":{\"type\":\"field\",\"field\":\"text\"},\"text_color\":{\"type\":\"value\",\"value\":\"black\"},\"text_alpha\":{\"type\":\"value\",\"value\":0.2}}}}}],\"toolbar\":{\"type\":\"object\",\"name\":\"Toolbar\",\"id\":\"p1009\",\"attributes\":{\"tools\":[{\"type\":\"object\",\"name\":\"PanTool\",\"id\":\"p1022\"},{\"type\":\"object\",\"name\":\"WheelZoomTool\",\"id\":\"p1023\",\"attributes\":{\"renderers\":\"auto\"}},{\"type\":\"object\",\"name\":\"BoxZoomTool\",\"id\":\"p1024\",\"attributes\":{\"overlay\":{\"type\":\"object\",\"name\":\"BoxAnnotation\",\"id\":\"p1025\",\"attributes\":{\"syncable\":false,\"level\":\"overlay\",\"visible\":false,\"left\":{\"type\":\"number\",\"value\":\"nan\"},\"right\":{\"type\":\"number\",\"value\":\"nan\"},\"top\":{\"type\":\"number\",\"value\":\"nan\"},\"bottom\":{\"type\":\"number\",\"value\":\"nan\"},\"left_units\":\"canvas\",\"right_units\":\"canvas\",\"top_units\":\"canvas\",\"bottom_units\":\"canvas\",\"line_color\":\"black\",\"line_alpha\":1.0,\"line_width\":2,\"line_dash\":[4,4],\"fill_color\":\"lightgrey\",\"fill_alpha\":0.5}}}},{\"type\":\"object\",\"name\":\"SaveTool\",\"id\":\"p1030\"},{\"type\":\"object\",\"name\":\"ResetTool\",\"id\":\"p1031\"},{\"type\":\"object\",\"name\":\"HelpTool\",\"id\":\"p1032\"}]}},\"left\":[{\"type\":\"object\",\"name\":\"LinearAxis\",\"id\":\"p1017\",\"attributes\":{\"ticker\":{\"type\":\"object\",\"name\":\"BasicTicker\",\"id\":\"p1018\",\"attributes\":{\"mantissas\":[1,2,5]}},\"formatter\":{\"type\":\"object\",\"name\":\"BasicTickFormatter\",\"id\":\"p1019\"},\"major_label_policy\":{\"type\":\"object\",\"name\":\"AllLabels\",\"id\":\"p1020\"}}}],\"below\":[{\"type\":\"object\",\"name\":\"LinearAxis\",\"id\":\"p1012\",\"attributes\":{\"ticker\":{\"type\":\"object\",\"name\":\"BasicTicker\",\"id\":\"p1013\",\"attributes\":{\"mantissas\":[1,2,5]}},\"formatter\":{\"type\":\"object\",\"name\":\"BasicTickFormatter\",\"id\":\"p1014\"},\"major_label_policy\":{\"type\":\"object\",\"name\":\"AllLabels\",\"id\":\"p1015\"}}}],\"center\":[{\"type\":\"object\",\"name\":\"Grid\",\"id\":\"p1016\",\"attributes\":{\"axis\":{\"id\":\"p1012\"}}},{\"type\":\"object\",\"name\":\"Grid\",\"id\":\"p1021\",\"attributes\":{\"dimension\":1,\"axis\":{\"id\":\"p1017\"}}}]}}]}};\n",
              "  const render_items = [{\"docid\":\"c7537ab7-20ef-4bbf-9e0d-640b980dd4de\",\"roots\":{\"p1001\":\"ef49ea67-50ab-47d8-a97e-ef9b40735250\"},\"root_ids\":[\"p1001\"]}];\n",
              "  root.Bokeh.embed.embed_items_notebook(docs_json, render_items);\n",
              "  }\n",
              "  if (root.Bokeh !== undefined) {\n",
              "    embed_document(root);\n",
              "  } else {\n",
              "    let attempts = 0;\n",
              "    const timer = setInterval(function(root) {\n",
              "      if (root.Bokeh !== undefined) {\n",
              "        clearInterval(timer);\n",
              "        embed_document(root);\n",
              "      } else {\n",
              "        attempts++;\n",
              "        if (attempts > 100) {\n",
              "          clearInterval(timer);\n",
              "          console.log(\"Bokeh: ERROR: Unable to run BokehJS code because BokehJS library is missing\");\n",
              "        }\n",
              "      }\n",
              "    }, 10, root)\n",
              "  }\n",
              "})(window);"
            ],
            "application/vnd.bokehjs_exec.v0+json": ""
          },
          "metadata": {
            "application/vnd.bokehjs_exec.v0+json": {
              "id": "p1001"
            }
          }
        }
      ]
    },
    {
      "cell_type": "markdown",
      "source": [
        "# Start LSTM architecture with these initial embeddings before BERT\n"
      ],
      "metadata": {
        "id": "fIbme868woHt"
      }
    },
    {
      "cell_type": "markdown",
      "source": [
        "# Need to create embeddings matrix for LSTM\n"
      ],
      "metadata": {
        "id": "5AfbFAoaz39X"
      }
    },
    {
      "cell_type": "code",
      "source": [
        "train_bal.dropna(inplace=True)"
      ],
      "metadata": {
        "id": "iqVkwcnsv8pV"
      },
      "execution_count": 50,
      "outputs": []
    },
    {
      "cell_type": "code",
      "source": [
        "train_bal.shape[0]"
      ],
      "metadata": {
        "id": "nwXq1Lorv_5m",
        "outputId": "823170ab-c7a3-4064-c069-ef63115faadd",
        "colab": {
          "base_uri": "https://localhost:8080/"
        }
      },
      "execution_count": 51,
      "outputs": [
        {
          "output_type": "execute_result",
          "data": {
            "text/plain": [
              "808618"
            ]
          },
          "metadata": {},
          "execution_count": 51
        }
      ]
    },
    {
      "cell_type": "code",
      "source": [
        "train_bal.tail(5)"
      ],
      "metadata": {
        "id": "rayjb8TvwG8R",
        "outputId": "326071f9-87f7-42d6-e19d-5280f7235cf4",
        "colab": {
          "base_uri": "https://localhost:8080/",
          "height": 206
        }
      },
      "execution_count": 52,
      "outputs": [
        {
          "output_type": "execute_result",
          "data": {
            "text/plain": [
              "        label                                            comment  \\\n",
              "368312      1                 Yeah, all asians are smart, right?   \n",
              "541588      1                                  Nah I was serious   \n",
              "833824      0  you are assuming way too much there is no liab...   \n",
              "55102       1  But Planned Parenthood is the devil and must b...   \n",
              "213871      0     Some people have more than 1 TB of data though   \n",
              "\n",
              "                author  subreddit  score  ups  downs     date  \\\n",
              "368312        est1roth     europe      2    2      0  2016-04   \n",
              "541588       SrrBrrGrr      funny     -5   -5      0  2015-08   \n",
              "833824             cqm       blog      1    1      0  2014-09   \n",
              "55102   DrScientist812  worldnews      3    3      0  2016-09   \n",
              "213871      maliciousa        mac      1    1      0  2016-05   \n",
              "\n",
              "                created_utc                                     parent_comment  \n",
              "368312  2016-04-17 00:05:51   Well if an asian woman says it, it must be true.  \n",
              "541588  2015-08-11 23:15:11  I don't think people understand you were jokin...  \n",
              "833824  2014-09-30 21:44:06  They're not saying it is easy. In fact they we...  \n",
              "55102   2016-09-06 12:40:25  Fall in ovarian cancer deaths worldwide linked...  \n",
              "213871  2016-05-23 03:23:59  I didn't watch the youtube video, but judging ...  "
            ],
            "text/html": [
              "\n",
              "  <div id=\"df-451a54ca-69db-4774-8308-4cf5c8315f45\" class=\"colab-df-container\">\n",
              "    <div>\n",
              "<style scoped>\n",
              "    .dataframe tbody tr th:only-of-type {\n",
              "        vertical-align: middle;\n",
              "    }\n",
              "\n",
              "    .dataframe tbody tr th {\n",
              "        vertical-align: top;\n",
              "    }\n",
              "\n",
              "    .dataframe thead th {\n",
              "        text-align: right;\n",
              "    }\n",
              "</style>\n",
              "<table border=\"1\" class=\"dataframe\">\n",
              "  <thead>\n",
              "    <tr style=\"text-align: right;\">\n",
              "      <th></th>\n",
              "      <th>label</th>\n",
              "      <th>comment</th>\n",
              "      <th>author</th>\n",
              "      <th>subreddit</th>\n",
              "      <th>score</th>\n",
              "      <th>ups</th>\n",
              "      <th>downs</th>\n",
              "      <th>date</th>\n",
              "      <th>created_utc</th>\n",
              "      <th>parent_comment</th>\n",
              "    </tr>\n",
              "  </thead>\n",
              "  <tbody>\n",
              "    <tr>\n",
              "      <th>368312</th>\n",
              "      <td>1</td>\n",
              "      <td>Yeah, all asians are smart, right?</td>\n",
              "      <td>est1roth</td>\n",
              "      <td>europe</td>\n",
              "      <td>2</td>\n",
              "      <td>2</td>\n",
              "      <td>0</td>\n",
              "      <td>2016-04</td>\n",
              "      <td>2016-04-17 00:05:51</td>\n",
              "      <td>Well if an asian woman says it, it must be true.</td>\n",
              "    </tr>\n",
              "    <tr>\n",
              "      <th>541588</th>\n",
              "      <td>1</td>\n",
              "      <td>Nah I was serious</td>\n",
              "      <td>SrrBrrGrr</td>\n",
              "      <td>funny</td>\n",
              "      <td>-5</td>\n",
              "      <td>-5</td>\n",
              "      <td>0</td>\n",
              "      <td>2015-08</td>\n",
              "      <td>2015-08-11 23:15:11</td>\n",
              "      <td>I don't think people understand you were jokin...</td>\n",
              "    </tr>\n",
              "    <tr>\n",
              "      <th>833824</th>\n",
              "      <td>0</td>\n",
              "      <td>you are assuming way too much there is no liab...</td>\n",
              "      <td>cqm</td>\n",
              "      <td>blog</td>\n",
              "      <td>1</td>\n",
              "      <td>1</td>\n",
              "      <td>0</td>\n",
              "      <td>2014-09</td>\n",
              "      <td>2014-09-30 21:44:06</td>\n",
              "      <td>They're not saying it is easy. In fact they we...</td>\n",
              "    </tr>\n",
              "    <tr>\n",
              "      <th>55102</th>\n",
              "      <td>1</td>\n",
              "      <td>But Planned Parenthood is the devil and must b...</td>\n",
              "      <td>DrScientist812</td>\n",
              "      <td>worldnews</td>\n",
              "      <td>3</td>\n",
              "      <td>3</td>\n",
              "      <td>0</td>\n",
              "      <td>2016-09</td>\n",
              "      <td>2016-09-06 12:40:25</td>\n",
              "      <td>Fall in ovarian cancer deaths worldwide linked...</td>\n",
              "    </tr>\n",
              "    <tr>\n",
              "      <th>213871</th>\n",
              "      <td>0</td>\n",
              "      <td>Some people have more than 1 TB of data though</td>\n",
              "      <td>maliciousa</td>\n",
              "      <td>mac</td>\n",
              "      <td>1</td>\n",
              "      <td>1</td>\n",
              "      <td>0</td>\n",
              "      <td>2016-05</td>\n",
              "      <td>2016-05-23 03:23:59</td>\n",
              "      <td>I didn't watch the youtube video, but judging ...</td>\n",
              "    </tr>\n",
              "  </tbody>\n",
              "</table>\n",
              "</div>\n",
              "    <div class=\"colab-df-buttons\">\n",
              "\n",
              "  <div class=\"colab-df-container\">\n",
              "    <button class=\"colab-df-convert\" onclick=\"convertToInteractive('df-451a54ca-69db-4774-8308-4cf5c8315f45')\"\n",
              "            title=\"Convert this dataframe to an interactive table.\"\n",
              "            style=\"display:none;\">\n",
              "\n",
              "  <svg xmlns=\"http://www.w3.org/2000/svg\" height=\"24px\" viewBox=\"0 -960 960 960\">\n",
              "    <path d=\"M120-120v-720h720v720H120Zm60-500h600v-160H180v160Zm220 220h160v-160H400v160Zm0 220h160v-160H400v160ZM180-400h160v-160H180v160Zm440 0h160v-160H620v160ZM180-180h160v-160H180v160Zm440 0h160v-160H620v160Z\"/>\n",
              "  </svg>\n",
              "    </button>\n",
              "\n",
              "  <style>\n",
              "    .colab-df-container {\n",
              "      display:flex;\n",
              "      gap: 12px;\n",
              "    }\n",
              "\n",
              "    .colab-df-convert {\n",
              "      background-color: #E8F0FE;\n",
              "      border: none;\n",
              "      border-radius: 50%;\n",
              "      cursor: pointer;\n",
              "      display: none;\n",
              "      fill: #1967D2;\n",
              "      height: 32px;\n",
              "      padding: 0 0 0 0;\n",
              "      width: 32px;\n",
              "    }\n",
              "\n",
              "    .colab-df-convert:hover {\n",
              "      background-color: #E2EBFA;\n",
              "      box-shadow: 0px 1px 2px rgba(60, 64, 67, 0.3), 0px 1px 3px 1px rgba(60, 64, 67, 0.15);\n",
              "      fill: #174EA6;\n",
              "    }\n",
              "\n",
              "    .colab-df-buttons div {\n",
              "      margin-bottom: 4px;\n",
              "    }\n",
              "\n",
              "    [theme=dark] .colab-df-convert {\n",
              "      background-color: #3B4455;\n",
              "      fill: #D2E3FC;\n",
              "    }\n",
              "\n",
              "    [theme=dark] .colab-df-convert:hover {\n",
              "      background-color: #434B5C;\n",
              "      box-shadow: 0px 1px 3px 1px rgba(0, 0, 0, 0.15);\n",
              "      filter: drop-shadow(0px 1px 2px rgba(0, 0, 0, 0.3));\n",
              "      fill: #FFFFFF;\n",
              "    }\n",
              "  </style>\n",
              "\n",
              "    <script>\n",
              "      const buttonEl =\n",
              "        document.querySelector('#df-451a54ca-69db-4774-8308-4cf5c8315f45 button.colab-df-convert');\n",
              "      buttonEl.style.display =\n",
              "        google.colab.kernel.accessAllowed ? 'block' : 'none';\n",
              "\n",
              "      async function convertToInteractive(key) {\n",
              "        const element = document.querySelector('#df-451a54ca-69db-4774-8308-4cf5c8315f45');\n",
              "        const dataTable =\n",
              "          await google.colab.kernel.invokeFunction('convertToInteractive',\n",
              "                                                    [key], {});\n",
              "        if (!dataTable) return;\n",
              "\n",
              "        const docLinkHtml = 'Like what you see? Visit the ' +\n",
              "          '<a target=\"_blank\" href=https://colab.research.google.com/notebooks/data_table.ipynb>data table notebook</a>'\n",
              "          + ' to learn more about interactive tables.';\n",
              "        element.innerHTML = '';\n",
              "        dataTable['output_type'] = 'display_data';\n",
              "        await google.colab.output.renderOutput(dataTable, element);\n",
              "        const docLink = document.createElement('div');\n",
              "        docLink.innerHTML = docLinkHtml;\n",
              "        element.appendChild(docLink);\n",
              "      }\n",
              "    </script>\n",
              "  </div>\n",
              "\n",
              "\n",
              "<div id=\"df-b17d7a72-ea01-4e12-a4b8-8e52f1a1f388\">\n",
              "  <button class=\"colab-df-quickchart\" onclick=\"quickchart('df-b17d7a72-ea01-4e12-a4b8-8e52f1a1f388')\"\n",
              "            title=\"Suggest charts\"\n",
              "            style=\"display:none;\">\n",
              "\n",
              "<svg xmlns=\"http://www.w3.org/2000/svg\" height=\"24px\"viewBox=\"0 0 24 24\"\n",
              "     width=\"24px\">\n",
              "    <g>\n",
              "        <path d=\"M19 3H5c-1.1 0-2 .9-2 2v14c0 1.1.9 2 2 2h14c1.1 0 2-.9 2-2V5c0-1.1-.9-2-2-2zM9 17H7v-7h2v7zm4 0h-2V7h2v10zm4 0h-2v-4h2v4z\"/>\n",
              "    </g>\n",
              "</svg>\n",
              "  </button>\n",
              "\n",
              "<style>\n",
              "  .colab-df-quickchart {\n",
              "      --bg-color: #E8F0FE;\n",
              "      --fill-color: #1967D2;\n",
              "      --hover-bg-color: #E2EBFA;\n",
              "      --hover-fill-color: #174EA6;\n",
              "      --disabled-fill-color: #AAA;\n",
              "      --disabled-bg-color: #DDD;\n",
              "  }\n",
              "\n",
              "  [theme=dark] .colab-df-quickchart {\n",
              "      --bg-color: #3B4455;\n",
              "      --fill-color: #D2E3FC;\n",
              "      --hover-bg-color: #434B5C;\n",
              "      --hover-fill-color: #FFFFFF;\n",
              "      --disabled-bg-color: #3B4455;\n",
              "      --disabled-fill-color: #666;\n",
              "  }\n",
              "\n",
              "  .colab-df-quickchart {\n",
              "    background-color: var(--bg-color);\n",
              "    border: none;\n",
              "    border-radius: 50%;\n",
              "    cursor: pointer;\n",
              "    display: none;\n",
              "    fill: var(--fill-color);\n",
              "    height: 32px;\n",
              "    padding: 0;\n",
              "    width: 32px;\n",
              "  }\n",
              "\n",
              "  .colab-df-quickchart:hover {\n",
              "    background-color: var(--hover-bg-color);\n",
              "    box-shadow: 0 1px 2px rgba(60, 64, 67, 0.3), 0 1px 3px 1px rgba(60, 64, 67, 0.15);\n",
              "    fill: var(--button-hover-fill-color);\n",
              "  }\n",
              "\n",
              "  .colab-df-quickchart-complete:disabled,\n",
              "  .colab-df-quickchart-complete:disabled:hover {\n",
              "    background-color: var(--disabled-bg-color);\n",
              "    fill: var(--disabled-fill-color);\n",
              "    box-shadow: none;\n",
              "  }\n",
              "\n",
              "  .colab-df-spinner {\n",
              "    border: 2px solid var(--fill-color);\n",
              "    border-color: transparent;\n",
              "    border-bottom-color: var(--fill-color);\n",
              "    animation:\n",
              "      spin 1s steps(1) infinite;\n",
              "  }\n",
              "\n",
              "  @keyframes spin {\n",
              "    0% {\n",
              "      border-color: transparent;\n",
              "      border-bottom-color: var(--fill-color);\n",
              "      border-left-color: var(--fill-color);\n",
              "    }\n",
              "    20% {\n",
              "      border-color: transparent;\n",
              "      border-left-color: var(--fill-color);\n",
              "      border-top-color: var(--fill-color);\n",
              "    }\n",
              "    30% {\n",
              "      border-color: transparent;\n",
              "      border-left-color: var(--fill-color);\n",
              "      border-top-color: var(--fill-color);\n",
              "      border-right-color: var(--fill-color);\n",
              "    }\n",
              "    40% {\n",
              "      border-color: transparent;\n",
              "      border-right-color: var(--fill-color);\n",
              "      border-top-color: var(--fill-color);\n",
              "    }\n",
              "    60% {\n",
              "      border-color: transparent;\n",
              "      border-right-color: var(--fill-color);\n",
              "    }\n",
              "    80% {\n",
              "      border-color: transparent;\n",
              "      border-right-color: var(--fill-color);\n",
              "      border-bottom-color: var(--fill-color);\n",
              "    }\n",
              "    90% {\n",
              "      border-color: transparent;\n",
              "      border-bottom-color: var(--fill-color);\n",
              "    }\n",
              "  }\n",
              "</style>\n",
              "\n",
              "  <script>\n",
              "    async function quickchart(key) {\n",
              "      const quickchartButtonEl =\n",
              "        document.querySelector('#' + key + ' button');\n",
              "      quickchartButtonEl.disabled = true;  // To prevent multiple clicks.\n",
              "      quickchartButtonEl.classList.add('colab-df-spinner');\n",
              "      try {\n",
              "        const charts = await google.colab.kernel.invokeFunction(\n",
              "            'suggestCharts', [key], {});\n",
              "      } catch (error) {\n",
              "        console.error('Error during call to suggestCharts:', error);\n",
              "      }\n",
              "      quickchartButtonEl.classList.remove('colab-df-spinner');\n",
              "      quickchartButtonEl.classList.add('colab-df-quickchart-complete');\n",
              "    }\n",
              "    (() => {\n",
              "      let quickchartButtonEl =\n",
              "        document.querySelector('#df-b17d7a72-ea01-4e12-a4b8-8e52f1a1f388 button');\n",
              "      quickchartButtonEl.style.display =\n",
              "        google.colab.kernel.accessAllowed ? 'block' : 'none';\n",
              "    })();\n",
              "  </script>\n",
              "</div>\n",
              "\n",
              "    </div>\n",
              "  </div>\n"
            ]
          },
          "metadata": {},
          "execution_count": 52
        }
      ]
    },
    {
      "cell_type": "code",
      "source": [
        "from sklearn.model_selection import train_test_split\n",
        "# split the dataset into 60% training and 40% validation and test sets\n",
        "train_df, val_df = train_test_split(train_bal, test_size=0.2, random_state=42)\n",
        "\n",
        "# split the 40% into half validation and half test sets\n",
        "# val_df, test_df = train_test_split(val_test_df, test_size=0.5, random_state=42)"
      ],
      "metadata": {
        "id": "yqMoDkrHvk28"
      },
      "execution_count": 53,
      "outputs": []
    },
    {
      "cell_type": "code",
      "source": [
        "train_df.shape"
      ],
      "metadata": {
        "id": "MljbDngGkBSX",
        "outputId": "810d5635-fc51-40c4-a89b-0d6f9a1cefbf",
        "colab": {
          "base_uri": "https://localhost:8080/"
        }
      },
      "execution_count": 54,
      "outputs": [
        {
          "output_type": "execute_result",
          "data": {
            "text/plain": [
              "(646894, 10)"
            ]
          },
          "metadata": {},
          "execution_count": 54
        }
      ]
    },
    {
      "cell_type": "code",
      "source": [
        "val_df.shape"
      ],
      "metadata": {
        "id": "POxeJpYGkDMz",
        "outputId": "862d5e8d-7d2f-4d60-c22f-6dcea7be294a",
        "colab": {
          "base_uri": "https://localhost:8080/"
        }
      },
      "execution_count": 56,
      "outputs": [
        {
          "output_type": "execute_result",
          "data": {
            "text/plain": [
              "(161724, 10)"
            ]
          },
          "metadata": {},
          "execution_count": 56
        }
      ]
    },
    {
      "cell_type": "code",
      "source": [
        "X_train = train_df['comment']\n",
        "y_train = train_df['label']"
      ],
      "metadata": {
        "id": "ukeBZF6V6O5z"
      },
      "execution_count": 57,
      "outputs": []
    },
    {
      "cell_type": "code",
      "source": [
        "word2vec = Word2Vec.load(\"/content/drive/MyDrive/word2vec.model\")\n"
      ],
      "metadata": {
        "id": "nVAx8QTXwt9Q"
      },
      "execution_count": 58,
      "outputs": []
    },
    {
      "cell_type": "code",
      "source": [
        "#extracting pretrained weights for embedding layer using word2vec model\n",
        "word_vectors = word2vec.wv\n"
      ],
      "metadata": {
        "id": "gQS9mBFjxtCe"
      },
      "execution_count": 60,
      "outputs": []
    },
    {
      "cell_type": "code",
      "source": [
        "vector_size = model.vector_size\n",
        "vector_size"
      ],
      "metadata": {
        "id": "tSbgAa1t0g42",
        "outputId": "06a96160-9664-47a5-8b93-0dd4c57caa1f",
        "colab": {
          "base_uri": "https://localhost:8080/"
        }
      },
      "execution_count": 61,
      "outputs": [
        {
          "output_type": "execute_result",
          "data": {
            "text/plain": [
              "150"
            ]
          },
          "metadata": {},
          "execution_count": 61
        }
      ]
    },
    {
      "cell_type": "code",
      "source": [
        "word_index, word_size, _ = preprocess(comments)"
      ],
      "metadata": {
        "id": "WJu0sRAW8bIU"
      },
      "execution_count": 65,
      "outputs": []
    },
    {
      "cell_type": "code",
      "source": [
        "#inititlze embeddings matrix\n",
        "import numpy as np\n",
        "embedding_matrix = np.zeros((word_size, vector_size))"
      ],
      "metadata": {
        "id": "8U6XoI0q0wT3"
      },
      "execution_count": 66,
      "outputs": []
    },
    {
      "cell_type": "code",
      "source": [
        "#fill embeddings matrix for LSTM with tensor flow : each row should correspond to a word\n",
        "for word, i in word_index.items():\n",
        "    if word in word_vectors:\n",
        "        embedding_matrix[i] = word_vectors[word]\n"
      ],
      "metadata": {
        "id": "55tO0Z86yCap"
      },
      "execution_count": 67,
      "outputs": []
    },
    {
      "cell_type": "code",
      "source": [
        "embedding_df = pd.DataFrame(embedding_matrix)"
      ],
      "metadata": {
        "id": "0I_RICV31eSm"
      },
      "execution_count": 68,
      "outputs": []
    },
    {
      "cell_type": "code",
      "source": [
        "embedding_df.head(5)"
      ],
      "metadata": {
        "id": "ABBkxiZf1zZg",
        "outputId": "a4ba4635-e1fd-4cbc-b247-cf9da269d2c7",
        "colab": {
          "base_uri": "https://localhost:8080/",
          "height": 255
        }
      },
      "execution_count": 69,
      "outputs": [
        {
          "output_type": "execute_result",
          "data": {
            "text/plain": [
              "        0         1         2         3         4         5         6    \\\n",
              "0  0.000000  0.000000  0.000000  0.000000  0.000000  0.000000  0.000000   \n",
              "1 -0.664518 -0.086922  0.283365  0.902932  0.070024 -0.421360  0.600063   \n",
              "2  0.325742 -0.473029  0.729136  0.812504 -1.205325  0.127234  0.083067   \n",
              "3 -0.707989  1.566842  1.210992  2.036757  0.864193 -1.366605  2.543164   \n",
              "4  0.147720  1.951131  2.720746  0.825240  0.188283 -0.662247 -0.178244   \n",
              "\n",
              "        7         8         9    ...       140       141       142       143  \\\n",
              "0  0.000000  0.000000  0.000000  ...  0.000000  0.000000  0.000000  0.000000   \n",
              "1  1.695763  0.727469 -0.283117  ... -0.405994 -0.586456 -0.430985  0.510138   \n",
              "2  1.239108  0.321420  1.252292  ...  0.065309 -0.505013  0.334321  0.154655   \n",
              "3  1.671720  1.539983 -1.236842  ... -1.426946 -0.876561 -0.195377  1.266137   \n",
              "4  0.552779  1.265213 -1.657513  ... -0.672240  2.250735  0.572337 -1.130341   \n",
              "\n",
              "        144       145       146       147       148       149  \n",
              "0  0.000000  0.000000  0.000000  0.000000  0.000000  0.000000  \n",
              "1  0.484568 -0.550256  1.437720 -0.217590  0.259132  1.212474  \n",
              "2  0.633848  0.997518  0.537003 -0.333254 -0.611590  0.209429  \n",
              "3 -0.769589 -1.188386  1.366831 -1.450624  1.433921 -0.457654  \n",
              "4  0.363177  1.574580  0.302234 -0.871057  0.444568 -0.454546  \n",
              "\n",
              "[5 rows x 150 columns]"
            ],
            "text/html": [
              "\n",
              "  <div id=\"df-7b809903-be97-49ae-b3db-baf61208a70e\" class=\"colab-df-container\">\n",
              "    <div>\n",
              "<style scoped>\n",
              "    .dataframe tbody tr th:only-of-type {\n",
              "        vertical-align: middle;\n",
              "    }\n",
              "\n",
              "    .dataframe tbody tr th {\n",
              "        vertical-align: top;\n",
              "    }\n",
              "\n",
              "    .dataframe thead th {\n",
              "        text-align: right;\n",
              "    }\n",
              "</style>\n",
              "<table border=\"1\" class=\"dataframe\">\n",
              "  <thead>\n",
              "    <tr style=\"text-align: right;\">\n",
              "      <th></th>\n",
              "      <th>0</th>\n",
              "      <th>1</th>\n",
              "      <th>2</th>\n",
              "      <th>3</th>\n",
              "      <th>4</th>\n",
              "      <th>5</th>\n",
              "      <th>6</th>\n",
              "      <th>7</th>\n",
              "      <th>8</th>\n",
              "      <th>9</th>\n",
              "      <th>...</th>\n",
              "      <th>140</th>\n",
              "      <th>141</th>\n",
              "      <th>142</th>\n",
              "      <th>143</th>\n",
              "      <th>144</th>\n",
              "      <th>145</th>\n",
              "      <th>146</th>\n",
              "      <th>147</th>\n",
              "      <th>148</th>\n",
              "      <th>149</th>\n",
              "    </tr>\n",
              "  </thead>\n",
              "  <tbody>\n",
              "    <tr>\n",
              "      <th>0</th>\n",
              "      <td>0.000000</td>\n",
              "      <td>0.000000</td>\n",
              "      <td>0.000000</td>\n",
              "      <td>0.000000</td>\n",
              "      <td>0.000000</td>\n",
              "      <td>0.000000</td>\n",
              "      <td>0.000000</td>\n",
              "      <td>0.000000</td>\n",
              "      <td>0.000000</td>\n",
              "      <td>0.000000</td>\n",
              "      <td>...</td>\n",
              "      <td>0.000000</td>\n",
              "      <td>0.000000</td>\n",
              "      <td>0.000000</td>\n",
              "      <td>0.000000</td>\n",
              "      <td>0.000000</td>\n",
              "      <td>0.000000</td>\n",
              "      <td>0.000000</td>\n",
              "      <td>0.000000</td>\n",
              "      <td>0.000000</td>\n",
              "      <td>0.000000</td>\n",
              "    </tr>\n",
              "    <tr>\n",
              "      <th>1</th>\n",
              "      <td>-0.664518</td>\n",
              "      <td>-0.086922</td>\n",
              "      <td>0.283365</td>\n",
              "      <td>0.902932</td>\n",
              "      <td>0.070024</td>\n",
              "      <td>-0.421360</td>\n",
              "      <td>0.600063</td>\n",
              "      <td>1.695763</td>\n",
              "      <td>0.727469</td>\n",
              "      <td>-0.283117</td>\n",
              "      <td>...</td>\n",
              "      <td>-0.405994</td>\n",
              "      <td>-0.586456</td>\n",
              "      <td>-0.430985</td>\n",
              "      <td>0.510138</td>\n",
              "      <td>0.484568</td>\n",
              "      <td>-0.550256</td>\n",
              "      <td>1.437720</td>\n",
              "      <td>-0.217590</td>\n",
              "      <td>0.259132</td>\n",
              "      <td>1.212474</td>\n",
              "    </tr>\n",
              "    <tr>\n",
              "      <th>2</th>\n",
              "      <td>0.325742</td>\n",
              "      <td>-0.473029</td>\n",
              "      <td>0.729136</td>\n",
              "      <td>0.812504</td>\n",
              "      <td>-1.205325</td>\n",
              "      <td>0.127234</td>\n",
              "      <td>0.083067</td>\n",
              "      <td>1.239108</td>\n",
              "      <td>0.321420</td>\n",
              "      <td>1.252292</td>\n",
              "      <td>...</td>\n",
              "      <td>0.065309</td>\n",
              "      <td>-0.505013</td>\n",
              "      <td>0.334321</td>\n",
              "      <td>0.154655</td>\n",
              "      <td>0.633848</td>\n",
              "      <td>0.997518</td>\n",
              "      <td>0.537003</td>\n",
              "      <td>-0.333254</td>\n",
              "      <td>-0.611590</td>\n",
              "      <td>0.209429</td>\n",
              "    </tr>\n",
              "    <tr>\n",
              "      <th>3</th>\n",
              "      <td>-0.707989</td>\n",
              "      <td>1.566842</td>\n",
              "      <td>1.210992</td>\n",
              "      <td>2.036757</td>\n",
              "      <td>0.864193</td>\n",
              "      <td>-1.366605</td>\n",
              "      <td>2.543164</td>\n",
              "      <td>1.671720</td>\n",
              "      <td>1.539983</td>\n",
              "      <td>-1.236842</td>\n",
              "      <td>...</td>\n",
              "      <td>-1.426946</td>\n",
              "      <td>-0.876561</td>\n",
              "      <td>-0.195377</td>\n",
              "      <td>1.266137</td>\n",
              "      <td>-0.769589</td>\n",
              "      <td>-1.188386</td>\n",
              "      <td>1.366831</td>\n",
              "      <td>-1.450624</td>\n",
              "      <td>1.433921</td>\n",
              "      <td>-0.457654</td>\n",
              "    </tr>\n",
              "    <tr>\n",
              "      <th>4</th>\n",
              "      <td>0.147720</td>\n",
              "      <td>1.951131</td>\n",
              "      <td>2.720746</td>\n",
              "      <td>0.825240</td>\n",
              "      <td>0.188283</td>\n",
              "      <td>-0.662247</td>\n",
              "      <td>-0.178244</td>\n",
              "      <td>0.552779</td>\n",
              "      <td>1.265213</td>\n",
              "      <td>-1.657513</td>\n",
              "      <td>...</td>\n",
              "      <td>-0.672240</td>\n",
              "      <td>2.250735</td>\n",
              "      <td>0.572337</td>\n",
              "      <td>-1.130341</td>\n",
              "      <td>0.363177</td>\n",
              "      <td>1.574580</td>\n",
              "      <td>0.302234</td>\n",
              "      <td>-0.871057</td>\n",
              "      <td>0.444568</td>\n",
              "      <td>-0.454546</td>\n",
              "    </tr>\n",
              "  </tbody>\n",
              "</table>\n",
              "<p>5 rows × 150 columns</p>\n",
              "</div>\n",
              "    <div class=\"colab-df-buttons\">\n",
              "\n",
              "  <div class=\"colab-df-container\">\n",
              "    <button class=\"colab-df-convert\" onclick=\"convertToInteractive('df-7b809903-be97-49ae-b3db-baf61208a70e')\"\n",
              "            title=\"Convert this dataframe to an interactive table.\"\n",
              "            style=\"display:none;\">\n",
              "\n",
              "  <svg xmlns=\"http://www.w3.org/2000/svg\" height=\"24px\" viewBox=\"0 -960 960 960\">\n",
              "    <path d=\"M120-120v-720h720v720H120Zm60-500h600v-160H180v160Zm220 220h160v-160H400v160Zm0 220h160v-160H400v160ZM180-400h160v-160H180v160Zm440 0h160v-160H620v160ZM180-180h160v-160H180v160Zm440 0h160v-160H620v160Z\"/>\n",
              "  </svg>\n",
              "    </button>\n",
              "\n",
              "  <style>\n",
              "    .colab-df-container {\n",
              "      display:flex;\n",
              "      gap: 12px;\n",
              "    }\n",
              "\n",
              "    .colab-df-convert {\n",
              "      background-color: #E8F0FE;\n",
              "      border: none;\n",
              "      border-radius: 50%;\n",
              "      cursor: pointer;\n",
              "      display: none;\n",
              "      fill: #1967D2;\n",
              "      height: 32px;\n",
              "      padding: 0 0 0 0;\n",
              "      width: 32px;\n",
              "    }\n",
              "\n",
              "    .colab-df-convert:hover {\n",
              "      background-color: #E2EBFA;\n",
              "      box-shadow: 0px 1px 2px rgba(60, 64, 67, 0.3), 0px 1px 3px 1px rgba(60, 64, 67, 0.15);\n",
              "      fill: #174EA6;\n",
              "    }\n",
              "\n",
              "    .colab-df-buttons div {\n",
              "      margin-bottom: 4px;\n",
              "    }\n",
              "\n",
              "    [theme=dark] .colab-df-convert {\n",
              "      background-color: #3B4455;\n",
              "      fill: #D2E3FC;\n",
              "    }\n",
              "\n",
              "    [theme=dark] .colab-df-convert:hover {\n",
              "      background-color: #434B5C;\n",
              "      box-shadow: 0px 1px 3px 1px rgba(0, 0, 0, 0.15);\n",
              "      filter: drop-shadow(0px 1px 2px rgba(0, 0, 0, 0.3));\n",
              "      fill: #FFFFFF;\n",
              "    }\n",
              "  </style>\n",
              "\n",
              "    <script>\n",
              "      const buttonEl =\n",
              "        document.querySelector('#df-7b809903-be97-49ae-b3db-baf61208a70e button.colab-df-convert');\n",
              "      buttonEl.style.display =\n",
              "        google.colab.kernel.accessAllowed ? 'block' : 'none';\n",
              "\n",
              "      async function convertToInteractive(key) {\n",
              "        const element = document.querySelector('#df-7b809903-be97-49ae-b3db-baf61208a70e');\n",
              "        const dataTable =\n",
              "          await google.colab.kernel.invokeFunction('convertToInteractive',\n",
              "                                                    [key], {});\n",
              "        if (!dataTable) return;\n",
              "\n",
              "        const docLinkHtml = 'Like what you see? Visit the ' +\n",
              "          '<a target=\"_blank\" href=https://colab.research.google.com/notebooks/data_table.ipynb>data table notebook</a>'\n",
              "          + ' to learn more about interactive tables.';\n",
              "        element.innerHTML = '';\n",
              "        dataTable['output_type'] = 'display_data';\n",
              "        await google.colab.output.renderOutput(dataTable, element);\n",
              "        const docLink = document.createElement('div');\n",
              "        docLink.innerHTML = docLinkHtml;\n",
              "        element.appendChild(docLink);\n",
              "      }\n",
              "    </script>\n",
              "  </div>\n",
              "\n",
              "\n",
              "<div id=\"df-8be4babc-4d39-49ff-ba9b-4588affbfa34\">\n",
              "  <button class=\"colab-df-quickchart\" onclick=\"quickchart('df-8be4babc-4d39-49ff-ba9b-4588affbfa34')\"\n",
              "            title=\"Suggest charts\"\n",
              "            style=\"display:none;\">\n",
              "\n",
              "<svg xmlns=\"http://www.w3.org/2000/svg\" height=\"24px\"viewBox=\"0 0 24 24\"\n",
              "     width=\"24px\">\n",
              "    <g>\n",
              "        <path d=\"M19 3H5c-1.1 0-2 .9-2 2v14c0 1.1.9 2 2 2h14c1.1 0 2-.9 2-2V5c0-1.1-.9-2-2-2zM9 17H7v-7h2v7zm4 0h-2V7h2v10zm4 0h-2v-4h2v4z\"/>\n",
              "    </g>\n",
              "</svg>\n",
              "  </button>\n",
              "\n",
              "<style>\n",
              "  .colab-df-quickchart {\n",
              "      --bg-color: #E8F0FE;\n",
              "      --fill-color: #1967D2;\n",
              "      --hover-bg-color: #E2EBFA;\n",
              "      --hover-fill-color: #174EA6;\n",
              "      --disabled-fill-color: #AAA;\n",
              "      --disabled-bg-color: #DDD;\n",
              "  }\n",
              "\n",
              "  [theme=dark] .colab-df-quickchart {\n",
              "      --bg-color: #3B4455;\n",
              "      --fill-color: #D2E3FC;\n",
              "      --hover-bg-color: #434B5C;\n",
              "      --hover-fill-color: #FFFFFF;\n",
              "      --disabled-bg-color: #3B4455;\n",
              "      --disabled-fill-color: #666;\n",
              "  }\n",
              "\n",
              "  .colab-df-quickchart {\n",
              "    background-color: var(--bg-color);\n",
              "    border: none;\n",
              "    border-radius: 50%;\n",
              "    cursor: pointer;\n",
              "    display: none;\n",
              "    fill: var(--fill-color);\n",
              "    height: 32px;\n",
              "    padding: 0;\n",
              "    width: 32px;\n",
              "  }\n",
              "\n",
              "  .colab-df-quickchart:hover {\n",
              "    background-color: var(--hover-bg-color);\n",
              "    box-shadow: 0 1px 2px rgba(60, 64, 67, 0.3), 0 1px 3px 1px rgba(60, 64, 67, 0.15);\n",
              "    fill: var(--button-hover-fill-color);\n",
              "  }\n",
              "\n",
              "  .colab-df-quickchart-complete:disabled,\n",
              "  .colab-df-quickchart-complete:disabled:hover {\n",
              "    background-color: var(--disabled-bg-color);\n",
              "    fill: var(--disabled-fill-color);\n",
              "    box-shadow: none;\n",
              "  }\n",
              "\n",
              "  .colab-df-spinner {\n",
              "    border: 2px solid var(--fill-color);\n",
              "    border-color: transparent;\n",
              "    border-bottom-color: var(--fill-color);\n",
              "    animation:\n",
              "      spin 1s steps(1) infinite;\n",
              "  }\n",
              "\n",
              "  @keyframes spin {\n",
              "    0% {\n",
              "      border-color: transparent;\n",
              "      border-bottom-color: var(--fill-color);\n",
              "      border-left-color: var(--fill-color);\n",
              "    }\n",
              "    20% {\n",
              "      border-color: transparent;\n",
              "      border-left-color: var(--fill-color);\n",
              "      border-top-color: var(--fill-color);\n",
              "    }\n",
              "    30% {\n",
              "      border-color: transparent;\n",
              "      border-left-color: var(--fill-color);\n",
              "      border-top-color: var(--fill-color);\n",
              "      border-right-color: var(--fill-color);\n",
              "    }\n",
              "    40% {\n",
              "      border-color: transparent;\n",
              "      border-right-color: var(--fill-color);\n",
              "      border-top-color: var(--fill-color);\n",
              "    }\n",
              "    60% {\n",
              "      border-color: transparent;\n",
              "      border-right-color: var(--fill-color);\n",
              "    }\n",
              "    80% {\n",
              "      border-color: transparent;\n",
              "      border-right-color: var(--fill-color);\n",
              "      border-bottom-color: var(--fill-color);\n",
              "    }\n",
              "    90% {\n",
              "      border-color: transparent;\n",
              "      border-bottom-color: var(--fill-color);\n",
              "    }\n",
              "  }\n",
              "</style>\n",
              "\n",
              "  <script>\n",
              "    async function quickchart(key) {\n",
              "      const quickchartButtonEl =\n",
              "        document.querySelector('#' + key + ' button');\n",
              "      quickchartButtonEl.disabled = true;  // To prevent multiple clicks.\n",
              "      quickchartButtonEl.classList.add('colab-df-spinner');\n",
              "      try {\n",
              "        const charts = await google.colab.kernel.invokeFunction(\n",
              "            'suggestCharts', [key], {});\n",
              "      } catch (error) {\n",
              "        console.error('Error during call to suggestCharts:', error);\n",
              "      }\n",
              "      quickchartButtonEl.classList.remove('colab-df-spinner');\n",
              "      quickchartButtonEl.classList.add('colab-df-quickchart-complete');\n",
              "    }\n",
              "    (() => {\n",
              "      let quickchartButtonEl =\n",
              "        document.querySelector('#df-8be4babc-4d39-49ff-ba9b-4588affbfa34 button');\n",
              "      quickchartButtonEl.style.display =\n",
              "        google.colab.kernel.accessAllowed ? 'block' : 'none';\n",
              "    })();\n",
              "  </script>\n",
              "</div>\n",
              "\n",
              "    </div>\n",
              "  </div>\n"
            ]
          },
          "metadata": {},
          "execution_count": 69
        }
      ]
    },
    {
      "cell_type": "code",
      "source": [
        "train_index,_, X_train = preprocess(X_train)"
      ],
      "metadata": {
        "id": "5r7ZuIZJ8wSb"
      },
      "execution_count": 70,
      "outputs": []
    },
    {
      "cell_type": "code",
      "source": [
        "from tensorflow.keras.preprocessing.sequence import pad_sequences\n",
        "\n",
        "X_train_padded = pad_sequences(X_train, maxlen=500, padding='post')\n"
      ],
      "metadata": {
        "id": "PNZ4b7piBeJG"
      },
      "execution_count": 72,
      "outputs": []
    },
    {
      "cell_type": "code",
      "source": [
        "df = pd.DataFrame(X_train_padded)\n",
        "df.head(5)"
      ],
      "metadata": {
        "colab": {
          "base_uri": "https://localhost:8080/",
          "height": 235
        },
        "id": "vyzYRp2iBpcY",
        "outputId": "541a860a-987e-4bb5-bbeb-ce6718ead702"
      },
      "execution_count": 73,
      "outputs": [
        {
          "output_type": "execute_result",
          "data": {
            "text/plain": [
              "     0      1    2     3     4      5     6      7    8    9    ...  490  491  \\\n",
              "0    493     37  520    39    10     14  8909  34376   56   35  ...    0    0   \n",
              "1  13192      6  278     5    23    623     0      0    0    0  ...    0    0   \n",
              "2     97      2   58    14  1828  94152   539    107   18  514  ...    0    0   \n",
              "3    404  23136   16     0     0      0     0      0    0    0  ...    0    0   \n",
              "4    113      2  236  3783     3     55    30    760    1    0  ...    0    0   \n",
              "\n",
              "   492  493  494  495  496  497  498  499  \n",
              "0    0    0    0    0    0    0    0    0  \n",
              "1    0    0    0    0    0    0    0    0  \n",
              "2    0    0    0    0    0    0    0    0  \n",
              "3    0    0    0    0    0    0    0    0  \n",
              "4    0    0    0    0    0    0    0    0  \n",
              "\n",
              "[5 rows x 500 columns]"
            ],
            "text/html": [
              "\n",
              "  <div id=\"df-d563c32e-9018-4130-a978-69d036b03004\" class=\"colab-df-container\">\n",
              "    <div>\n",
              "<style scoped>\n",
              "    .dataframe tbody tr th:only-of-type {\n",
              "        vertical-align: middle;\n",
              "    }\n",
              "\n",
              "    .dataframe tbody tr th {\n",
              "        vertical-align: top;\n",
              "    }\n",
              "\n",
              "    .dataframe thead th {\n",
              "        text-align: right;\n",
              "    }\n",
              "</style>\n",
              "<table border=\"1\" class=\"dataframe\">\n",
              "  <thead>\n",
              "    <tr style=\"text-align: right;\">\n",
              "      <th></th>\n",
              "      <th>0</th>\n",
              "      <th>1</th>\n",
              "      <th>2</th>\n",
              "      <th>3</th>\n",
              "      <th>4</th>\n",
              "      <th>5</th>\n",
              "      <th>6</th>\n",
              "      <th>7</th>\n",
              "      <th>8</th>\n",
              "      <th>9</th>\n",
              "      <th>...</th>\n",
              "      <th>490</th>\n",
              "      <th>491</th>\n",
              "      <th>492</th>\n",
              "      <th>493</th>\n",
              "      <th>494</th>\n",
              "      <th>495</th>\n",
              "      <th>496</th>\n",
              "      <th>497</th>\n",
              "      <th>498</th>\n",
              "      <th>499</th>\n",
              "    </tr>\n",
              "  </thead>\n",
              "  <tbody>\n",
              "    <tr>\n",
              "      <th>0</th>\n",
              "      <td>493</td>\n",
              "      <td>37</td>\n",
              "      <td>520</td>\n",
              "      <td>39</td>\n",
              "      <td>10</td>\n",
              "      <td>14</td>\n",
              "      <td>8909</td>\n",
              "      <td>34376</td>\n",
              "      <td>56</td>\n",
              "      <td>35</td>\n",
              "      <td>...</td>\n",
              "      <td>0</td>\n",
              "      <td>0</td>\n",
              "      <td>0</td>\n",
              "      <td>0</td>\n",
              "      <td>0</td>\n",
              "      <td>0</td>\n",
              "      <td>0</td>\n",
              "      <td>0</td>\n",
              "      <td>0</td>\n",
              "      <td>0</td>\n",
              "    </tr>\n",
              "    <tr>\n",
              "      <th>1</th>\n",
              "      <td>13192</td>\n",
              "      <td>6</td>\n",
              "      <td>278</td>\n",
              "      <td>5</td>\n",
              "      <td>23</td>\n",
              "      <td>623</td>\n",
              "      <td>0</td>\n",
              "      <td>0</td>\n",
              "      <td>0</td>\n",
              "      <td>0</td>\n",
              "      <td>...</td>\n",
              "      <td>0</td>\n",
              "      <td>0</td>\n",
              "      <td>0</td>\n",
              "      <td>0</td>\n",
              "      <td>0</td>\n",
              "      <td>0</td>\n",
              "      <td>0</td>\n",
              "      <td>0</td>\n",
              "      <td>0</td>\n",
              "      <td>0</td>\n",
              "    </tr>\n",
              "    <tr>\n",
              "      <th>2</th>\n",
              "      <td>97</td>\n",
              "      <td>2</td>\n",
              "      <td>58</td>\n",
              "      <td>14</td>\n",
              "      <td>1828</td>\n",
              "      <td>94152</td>\n",
              "      <td>539</td>\n",
              "      <td>107</td>\n",
              "      <td>18</td>\n",
              "      <td>514</td>\n",
              "      <td>...</td>\n",
              "      <td>0</td>\n",
              "      <td>0</td>\n",
              "      <td>0</td>\n",
              "      <td>0</td>\n",
              "      <td>0</td>\n",
              "      <td>0</td>\n",
              "      <td>0</td>\n",
              "      <td>0</td>\n",
              "      <td>0</td>\n",
              "      <td>0</td>\n",
              "    </tr>\n",
              "    <tr>\n",
              "      <th>3</th>\n",
              "      <td>404</td>\n",
              "      <td>23136</td>\n",
              "      <td>16</td>\n",
              "      <td>0</td>\n",
              "      <td>0</td>\n",
              "      <td>0</td>\n",
              "      <td>0</td>\n",
              "      <td>0</td>\n",
              "      <td>0</td>\n",
              "      <td>0</td>\n",
              "      <td>...</td>\n",
              "      <td>0</td>\n",
              "      <td>0</td>\n",
              "      <td>0</td>\n",
              "      <td>0</td>\n",
              "      <td>0</td>\n",
              "      <td>0</td>\n",
              "      <td>0</td>\n",
              "      <td>0</td>\n",
              "      <td>0</td>\n",
              "      <td>0</td>\n",
              "    </tr>\n",
              "    <tr>\n",
              "      <th>4</th>\n",
              "      <td>113</td>\n",
              "      <td>2</td>\n",
              "      <td>236</td>\n",
              "      <td>3783</td>\n",
              "      <td>3</td>\n",
              "      <td>55</td>\n",
              "      <td>30</td>\n",
              "      <td>760</td>\n",
              "      <td>1</td>\n",
              "      <td>0</td>\n",
              "      <td>...</td>\n",
              "      <td>0</td>\n",
              "      <td>0</td>\n",
              "      <td>0</td>\n",
              "      <td>0</td>\n",
              "      <td>0</td>\n",
              "      <td>0</td>\n",
              "      <td>0</td>\n",
              "      <td>0</td>\n",
              "      <td>0</td>\n",
              "      <td>0</td>\n",
              "    </tr>\n",
              "  </tbody>\n",
              "</table>\n",
              "<p>5 rows × 500 columns</p>\n",
              "</div>\n",
              "    <div class=\"colab-df-buttons\">\n",
              "\n",
              "  <div class=\"colab-df-container\">\n",
              "    <button class=\"colab-df-convert\" onclick=\"convertToInteractive('df-d563c32e-9018-4130-a978-69d036b03004')\"\n",
              "            title=\"Convert this dataframe to an interactive table.\"\n",
              "            style=\"display:none;\">\n",
              "\n",
              "  <svg xmlns=\"http://www.w3.org/2000/svg\" height=\"24px\" viewBox=\"0 -960 960 960\">\n",
              "    <path d=\"M120-120v-720h720v720H120Zm60-500h600v-160H180v160Zm220 220h160v-160H400v160Zm0 220h160v-160H400v160ZM180-400h160v-160H180v160Zm440 0h160v-160H620v160ZM180-180h160v-160H180v160Zm440 0h160v-160H620v160Z\"/>\n",
              "  </svg>\n",
              "    </button>\n",
              "\n",
              "  <style>\n",
              "    .colab-df-container {\n",
              "      display:flex;\n",
              "      gap: 12px;\n",
              "    }\n",
              "\n",
              "    .colab-df-convert {\n",
              "      background-color: #E8F0FE;\n",
              "      border: none;\n",
              "      border-radius: 50%;\n",
              "      cursor: pointer;\n",
              "      display: none;\n",
              "      fill: #1967D2;\n",
              "      height: 32px;\n",
              "      padding: 0 0 0 0;\n",
              "      width: 32px;\n",
              "    }\n",
              "\n",
              "    .colab-df-convert:hover {\n",
              "      background-color: #E2EBFA;\n",
              "      box-shadow: 0px 1px 2px rgba(60, 64, 67, 0.3), 0px 1px 3px 1px rgba(60, 64, 67, 0.15);\n",
              "      fill: #174EA6;\n",
              "    }\n",
              "\n",
              "    .colab-df-buttons div {\n",
              "      margin-bottom: 4px;\n",
              "    }\n",
              "\n",
              "    [theme=dark] .colab-df-convert {\n",
              "      background-color: #3B4455;\n",
              "      fill: #D2E3FC;\n",
              "    }\n",
              "\n",
              "    [theme=dark] .colab-df-convert:hover {\n",
              "      background-color: #434B5C;\n",
              "      box-shadow: 0px 1px 3px 1px rgba(0, 0, 0, 0.15);\n",
              "      filter: drop-shadow(0px 1px 2px rgba(0, 0, 0, 0.3));\n",
              "      fill: #FFFFFF;\n",
              "    }\n",
              "  </style>\n",
              "\n",
              "    <script>\n",
              "      const buttonEl =\n",
              "        document.querySelector('#df-d563c32e-9018-4130-a978-69d036b03004 button.colab-df-convert');\n",
              "      buttonEl.style.display =\n",
              "        google.colab.kernel.accessAllowed ? 'block' : 'none';\n",
              "\n",
              "      async function convertToInteractive(key) {\n",
              "        const element = document.querySelector('#df-d563c32e-9018-4130-a978-69d036b03004');\n",
              "        const dataTable =\n",
              "          await google.colab.kernel.invokeFunction('convertToInteractive',\n",
              "                                                    [key], {});\n",
              "        if (!dataTable) return;\n",
              "\n",
              "        const docLinkHtml = 'Like what you see? Visit the ' +\n",
              "          '<a target=\"_blank\" href=https://colab.research.google.com/notebooks/data_table.ipynb>data table notebook</a>'\n",
              "          + ' to learn more about interactive tables.';\n",
              "        element.innerHTML = '';\n",
              "        dataTable['output_type'] = 'display_data';\n",
              "        await google.colab.output.renderOutput(dataTable, element);\n",
              "        const docLink = document.createElement('div');\n",
              "        docLink.innerHTML = docLinkHtml;\n",
              "        element.appendChild(docLink);\n",
              "      }\n",
              "    </script>\n",
              "  </div>\n",
              "\n",
              "\n",
              "<div id=\"df-232da26b-f696-475b-ac96-25be6ce54177\">\n",
              "  <button class=\"colab-df-quickchart\" onclick=\"quickchart('df-232da26b-f696-475b-ac96-25be6ce54177')\"\n",
              "            title=\"Suggest charts\"\n",
              "            style=\"display:none;\">\n",
              "\n",
              "<svg xmlns=\"http://www.w3.org/2000/svg\" height=\"24px\"viewBox=\"0 0 24 24\"\n",
              "     width=\"24px\">\n",
              "    <g>\n",
              "        <path d=\"M19 3H5c-1.1 0-2 .9-2 2v14c0 1.1.9 2 2 2h14c1.1 0 2-.9 2-2V5c0-1.1-.9-2-2-2zM9 17H7v-7h2v7zm4 0h-2V7h2v10zm4 0h-2v-4h2v4z\"/>\n",
              "    </g>\n",
              "</svg>\n",
              "  </button>\n",
              "\n",
              "<style>\n",
              "  .colab-df-quickchart {\n",
              "      --bg-color: #E8F0FE;\n",
              "      --fill-color: #1967D2;\n",
              "      --hover-bg-color: #E2EBFA;\n",
              "      --hover-fill-color: #174EA6;\n",
              "      --disabled-fill-color: #AAA;\n",
              "      --disabled-bg-color: #DDD;\n",
              "  }\n",
              "\n",
              "  [theme=dark] .colab-df-quickchart {\n",
              "      --bg-color: #3B4455;\n",
              "      --fill-color: #D2E3FC;\n",
              "      --hover-bg-color: #434B5C;\n",
              "      --hover-fill-color: #FFFFFF;\n",
              "      --disabled-bg-color: #3B4455;\n",
              "      --disabled-fill-color: #666;\n",
              "  }\n",
              "\n",
              "  .colab-df-quickchart {\n",
              "    background-color: var(--bg-color);\n",
              "    border: none;\n",
              "    border-radius: 50%;\n",
              "    cursor: pointer;\n",
              "    display: none;\n",
              "    fill: var(--fill-color);\n",
              "    height: 32px;\n",
              "    padding: 0;\n",
              "    width: 32px;\n",
              "  }\n",
              "\n",
              "  .colab-df-quickchart:hover {\n",
              "    background-color: var(--hover-bg-color);\n",
              "    box-shadow: 0 1px 2px rgba(60, 64, 67, 0.3), 0 1px 3px 1px rgba(60, 64, 67, 0.15);\n",
              "    fill: var(--button-hover-fill-color);\n",
              "  }\n",
              "\n",
              "  .colab-df-quickchart-complete:disabled,\n",
              "  .colab-df-quickchart-complete:disabled:hover {\n",
              "    background-color: var(--disabled-bg-color);\n",
              "    fill: var(--disabled-fill-color);\n",
              "    box-shadow: none;\n",
              "  }\n",
              "\n",
              "  .colab-df-spinner {\n",
              "    border: 2px solid var(--fill-color);\n",
              "    border-color: transparent;\n",
              "    border-bottom-color: var(--fill-color);\n",
              "    animation:\n",
              "      spin 1s steps(1) infinite;\n",
              "  }\n",
              "\n",
              "  @keyframes spin {\n",
              "    0% {\n",
              "      border-color: transparent;\n",
              "      border-bottom-color: var(--fill-color);\n",
              "      border-left-color: var(--fill-color);\n",
              "    }\n",
              "    20% {\n",
              "      border-color: transparent;\n",
              "      border-left-color: var(--fill-color);\n",
              "      border-top-color: var(--fill-color);\n",
              "    }\n",
              "    30% {\n",
              "      border-color: transparent;\n",
              "      border-left-color: var(--fill-color);\n",
              "      border-top-color: var(--fill-color);\n",
              "      border-right-color: var(--fill-color);\n",
              "    }\n",
              "    40% {\n",
              "      border-color: transparent;\n",
              "      border-right-color: var(--fill-color);\n",
              "      border-top-color: var(--fill-color);\n",
              "    }\n",
              "    60% {\n",
              "      border-color: transparent;\n",
              "      border-right-color: var(--fill-color);\n",
              "    }\n",
              "    80% {\n",
              "      border-color: transparent;\n",
              "      border-right-color: var(--fill-color);\n",
              "      border-bottom-color: var(--fill-color);\n",
              "    }\n",
              "    90% {\n",
              "      border-color: transparent;\n",
              "      border-bottom-color: var(--fill-color);\n",
              "    }\n",
              "  }\n",
              "</style>\n",
              "\n",
              "  <script>\n",
              "    async function quickchart(key) {\n",
              "      const quickchartButtonEl =\n",
              "        document.querySelector('#' + key + ' button');\n",
              "      quickchartButtonEl.disabled = true;  // To prevent multiple clicks.\n",
              "      quickchartButtonEl.classList.add('colab-df-spinner');\n",
              "      try {\n",
              "        const charts = await google.colab.kernel.invokeFunction(\n",
              "            'suggestCharts', [key], {});\n",
              "      } catch (error) {\n",
              "        console.error('Error during call to suggestCharts:', error);\n",
              "      }\n",
              "      quickchartButtonEl.classList.remove('colab-df-spinner');\n",
              "      quickchartButtonEl.classList.add('colab-df-quickchart-complete');\n",
              "    }\n",
              "    (() => {\n",
              "      let quickchartButtonEl =\n",
              "        document.querySelector('#df-232da26b-f696-475b-ac96-25be6ce54177 button');\n",
              "      quickchartButtonEl.style.display =\n",
              "        google.colab.kernel.accessAllowed ? 'block' : 'none';\n",
              "    })();\n",
              "  </script>\n",
              "</div>\n",
              "\n",
              "    </div>\n",
              "  </div>\n"
            ]
          },
          "metadata": {},
          "execution_count": 73
        }
      ]
    },
    {
      "cell_type": "code",
      "source": [
        "# import tensorflow as tf\n",
        "# from tensorflow.keras.models import Sequential\n",
        "# from tensorflow.keras.layers import LSTM, Dense, Embedding\n",
        "# from tensorflow.keras.preprocessing.sequence import pad_sequences\n",
        "\n",
        "# model = Sequential()\n",
        "# model.add(Embedding(input_dim=word_size, output_dim=word2vec.vector_size, weights=[embedding_matrix], trainable=False))\n",
        "# model.add(LSTM(128))\n",
        "# model.add(Dense(1, activation='sigmoid'))\n",
        "\n",
        "\n",
        "# model.compile(optimizer='adam', loss='binary_crossentropy', metrics=['accuracy'])\n",
        "\n",
        "\n",
        "# model.fit(X_train_padded, y_train, epochs=10, validation_split=0.2)\n",
        "\n",
        "# # get X_train data into format where the embeddings layer can look up its corresposnding vector, add padding so that all input is the same length\n",
        "# # model.evaluate(X_test, y_test)\n"
      ],
      "metadata": {
        "id": "1U3uKTHouftj"
      },
      "execution_count": 74,
      "outputs": []
    },
    {
      "cell_type": "markdown",
      "source": [
        "# New Try"
      ],
      "metadata": {
        "id": "o9Lcf0OoI_0y"
      }
    },
    {
      "cell_type": "code",
      "source": [
        "import tensorflow\n",
        "from tensorflow.keras.datasets import imdb\n",
        "from tensorflow.keras.preprocessing.sequence import pad_sequences\n",
        "from tensorflow.keras.models import Sequential\n",
        "from tensorflow.keras.layers import Dense, Dropout, Embedding, SpatialDropout1D, LSTM\n",
        "from tensorflow.keras.layers import Bidirectional\n",
        "from tensorflow.keras.callbacks import ModelCheckpoint\n",
        "import os\n",
        "from sklearn.metrics import roc_auc_score\n",
        "import matplotlib.pyplot as plt"
      ],
      "metadata": {
        "id": "Akjt9DN-H75J"
      },
      "execution_count": 75,
      "outputs": []
    },
    {
      "cell_type": "code",
      "source": [
        "word_size = embedding_matrix.shape[0]\n",
        "embedding_size = embedding_matrix.shape[1]\n",
        "max_comment_length = X_train_padded.shape[1]"
      ],
      "metadata": {
        "id": "SvIz8utII9r8"
      },
      "execution_count": 76,
      "outputs": []
    },
    {
      "cell_type": "code",
      "source": [
        "model = Sequential()\n",
        "\n",
        "\n",
        "model.add(Embedding(input_dim=word_size,\n",
        "                    output_dim=embedding_size,\n",
        "                    weights=[embedding_matrix],\n",
        "                    input_length=max_comment_length,\n",
        "                    trainable=False))\n",
        "\n",
        "model.add(Bidirectional(LSTM(128)))\n",
        "\n",
        "model.add(Dense(1, activation='sigmoid'))\n",
        "\n",
        "model.compile(optimizer='adam', loss='binary_crossentropy', metrics=['accuracy'])\n",
        "\n",
        "# default learning rate .001\n",
        "# add attention / dropout regularization\n",
        "\n",
        "\n",
        "model.fit(X_train_padded, y_train, epochs=6, batch_size=128, validation_split=0.2)\n",
        "\n",
        "\n",
        "\n"
      ],
      "metadata": {
        "colab": {
          "base_uri": "https://localhost:8080/"
        },
        "id": "hpEW6Gz1JmLP",
        "outputId": "f76a9cad-7e3a-47db-f686-005a997ca083"
      },
      "execution_count": 77,
      "outputs": [
        {
          "output_type": "stream",
          "name": "stdout",
          "text": [
            "Epoch 1/6\n",
            "4044/4044 [==============================] - 290s 70ms/step - loss: 0.5845 - accuracy: 0.6846 - val_loss: 0.5650 - val_accuracy: 0.7041\n",
            "Epoch 2/6\n",
            "4044/4044 [==============================] - 286s 71ms/step - loss: 0.5520 - accuracy: 0.7122 - val_loss: 0.5572 - val_accuracy: 0.7113\n",
            "Epoch 3/6\n",
            "4044/4044 [==============================] - 300s 74ms/step - loss: 0.5354 - accuracy: 0.7258 - val_loss: 0.5507 - val_accuracy: 0.7152\n",
            "Epoch 4/6\n",
            "4044/4044 [==============================] - 304s 75ms/step - loss: 0.5208 - accuracy: 0.7362 - val_loss: 0.5515 - val_accuracy: 0.7139\n",
            "Epoch 5/6\n",
            "4044/4044 [==============================] - 301s 74ms/step - loss: 0.5092 - accuracy: 0.7440 - val_loss: 0.5535 - val_accuracy: 0.7154\n",
            "Epoch 6/6\n",
            "4044/4044 [==============================] - 300s 74ms/step - loss: 0.4965 - accuracy: 0.7541 - val_loss: 0.5593 - val_accuracy: 0.7134\n"
          ]
        },
        {
          "output_type": "execute_result",
          "data": {
            "text/plain": [
              "<keras.src.callbacks.History at 0x79dbdbfcb820>"
            ]
          },
          "metadata": {},
          "execution_count": 77
        }
      ]
    },
    {
      "cell_type": "code",
      "source": [
        "model.save('/content/drive/MyDrive/model.h5')"
      ],
      "metadata": {
        "id": "nHl7MWy5aYjM",
        "outputId": "6b9b9cfc-1bf6-4d34-e44e-8db421a39b95",
        "colab": {
          "base_uri": "https://localhost:8080/"
        }
      },
      "execution_count": 78,
      "outputs": [
        {
          "output_type": "stream",
          "name": "stderr",
          "text": [
            "/usr/local/lib/python3.10/dist-packages/keras/src/engine/training.py:3103: UserWarning: You are saving your model as an HDF5 file via `model.save()`. This file format is considered legacy. We recommend using instead the native Keras format, e.g. `model.save('my_model.keras')`.\n",
            "  saving_api.save_model(\n"
          ]
        }
      ]
    },
    {
      "cell_type": "code",
      "source": [
        "# from tensorflow.keras.models import load_model\n",
        "# import os\n",
        "# first_model = load_model('/content/drive/MyDrive/model.h5')"
      ],
      "metadata": {
        "id": "-fNFmBfuaGxU"
      },
      "execution_count": 79,
      "outputs": []
    },
    {
      "cell_type": "code",
      "source": [],
      "metadata": {
        "id": "yTq-SBO5jR9m"
      },
      "execution_count": 79,
      "outputs": []
    }
  ]
}