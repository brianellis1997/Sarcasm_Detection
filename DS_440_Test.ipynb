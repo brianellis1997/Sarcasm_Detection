{
  "nbformat": 4,
  "nbformat_minor": 0,
  "metadata": {
    "colab": {
      "provenance": [],
      "gpuType": "T4",
      "include_colab_link": true
    },
    "kernelspec": {
      "name": "python3",
      "display_name": "Python 3"
    },
    "language_info": {
      "name": "python"
    },
    "accelerator": "GPU"
  },
  "cells": [
    {
      "cell_type": "markdown",
      "metadata": {
        "id": "view-in-github",
        "colab_type": "text"
      },
      "source": [
        "<a href=\"https://colab.research.google.com/github/brianellis1997/Sarcasm_Detection/blob/main/DS_440_Test.ipynb\" target=\"_parent\"><img src=\"https://colab.research.google.com/assets/colab-badge.svg\" alt=\"Open In Colab\"/></a>"
      ]
    },
    {
      "cell_type": "markdown",
      "source": [
        "# Sarcasm Detection using NLP Techniques\n",
        "### Team 2: Brian Ellis, Lindsey Rich, Elena Kern"
      ],
      "metadata": {
        "id": "83CHGfhCqBUr"
      }
    },
    {
      "cell_type": "markdown",
      "source": [
        "## Load Libraries and Dataset"
      ],
      "metadata": {
        "id": "Mf7bmmcfetuI"
      }
    },
    {
      "cell_type": "code",
      "execution_count": 1,
      "metadata": {
        "id": "gB0K8GssUbrq"
      },
      "outputs": [],
      "source": [
        "import pandas as pd\n",
        "import torch\n",
        "from wordcloud import WordCloud\n",
        "import matplotlib.pyplot as plt\n",
        "\n",
        "#test comment"
      ]
    },
    {
      "cell_type": "code",
      "source": [
        "import torch.nn as nn\n",
        "from torch.nn.utils.rnn import pack_padded_sequence, pad_packed_sequence\n",
        "import torch.optim as optim\n",
        "from sklearn.metrics import accuracy_score, classification_report, confusion_matrix\n",
        "import seaborn as sns"
      ],
      "metadata": {
        "id": "VvT3qX6GYCVV"
      },
      "execution_count": 2,
      "outputs": []
    },
    {
      "cell_type": "code",
      "source": [
        "!git clone https://github.com/brianellis1997/Sarcasm_Detection.git"
      ],
      "metadata": {
        "colab": {
          "base_uri": "https://localhost:8080/"
        },
        "id": "Xqvo69MVYiV-",
        "outputId": "24e63ef3-f502-4e05-8bda-f072340c6ec3"
      },
      "execution_count": 3,
      "outputs": [
        {
          "output_type": "stream",
          "name": "stdout",
          "text": [
            "Cloning into 'Sarcasm_Detection'...\n",
            "remote: Enumerating objects: 80, done.\u001b[K\n",
            "remote: Counting objects: 100% (80/80), done.\u001b[K\n",
            "remote: Compressing objects: 100% (80/80), done.\u001b[K\n",
            "remote: Total 80 (delta 39), reused 3 (delta 0), pack-reused 0\u001b[K\n",
            "Receiving objects: 100% (80/80), 2.10 MiB | 8.72 MiB/s, done.\n",
            "Resolving deltas: 100% (39/39), done.\n"
          ]
        }
      ]
    },
    {
      "cell_type": "code",
      "source": [
        "from google.colab import drive\n",
        "drive.mount('/content/drive')"
      ],
      "metadata": {
        "id": "kFqAxbBlhxGs",
        "outputId": "ef138804-5e69-40a2-d717-0a2fe26aa95b",
        "colab": {
          "base_uri": "https://localhost:8080/"
        }
      },
      "execution_count": 4,
      "outputs": [
        {
          "output_type": "stream",
          "name": "stdout",
          "text": [
            "Mounted at /content/drive\n"
          ]
        }
      ]
    },
    {
      "cell_type": "code",
      "source": [
        "train_bal = pd.read_csv('/content/drive/MyDrive/Sarcasm_Data/train-balanced-sarcasm.csv')   # Make sure path is correct in your google drive\n",
        "train_bal.head()"
      ],
      "metadata": {
        "colab": {
          "base_uri": "https://localhost:8080/",
          "height": 206
        },
        "id": "qQbpFOgeViuu",
        "outputId": "88f6fd3a-c251-4ecd-fc6c-2e4cb6fe09c1"
      },
      "execution_count": 5,
      "outputs": [
        {
          "output_type": "execute_result",
          "data": {
            "text/plain": [
              "   label                                            comment     author  \\\n",
              "0      0                                         NC and NH.  Trumpbart   \n",
              "1      0  You do know west teams play against west teams...  Shbshb906   \n",
              "2      0  They were underdogs earlier today, but since G...   Creepeth   \n",
              "3      0  This meme isn't funny none of the \"new york ni...  icebrotha   \n",
              "4      0                    I could use one of those tools.  cush2push   \n",
              "\n",
              "            subreddit  score  ups  downs     date          created_utc  \\\n",
              "0            politics      2   -1     -1  2016-10  2016-10-16 23:55:23   \n",
              "1                 nba     -4   -1     -1  2016-11  2016-11-01 00:24:10   \n",
              "2                 nfl      3    3      0  2016-09  2016-09-22 21:45:37   \n",
              "3  BlackPeopleTwitter     -8   -1     -1  2016-10  2016-10-18 21:03:47   \n",
              "4  MaddenUltimateTeam      6   -1     -1  2016-12  2016-12-30 17:00:13   \n",
              "\n",
              "                                      parent_comment  \n",
              "0  Yeah, I get that argument. At this point, I'd ...  \n",
              "1  The blazers and Mavericks (The wests 5 and 6 s...  \n",
              "2                            They're favored to win.  \n",
              "3                         deadass don't kill my buzz  \n",
              "4  Yep can confirm I saw the tool they use for th...  "
            ],
            "text/html": [
              "\n",
              "  <div id=\"df-37570d5e-c171-42ca-a1a0-1f5afc6f752c\" class=\"colab-df-container\">\n",
              "    <div>\n",
              "<style scoped>\n",
              "    .dataframe tbody tr th:only-of-type {\n",
              "        vertical-align: middle;\n",
              "    }\n",
              "\n",
              "    .dataframe tbody tr th {\n",
              "        vertical-align: top;\n",
              "    }\n",
              "\n",
              "    .dataframe thead th {\n",
              "        text-align: right;\n",
              "    }\n",
              "</style>\n",
              "<table border=\"1\" class=\"dataframe\">\n",
              "  <thead>\n",
              "    <tr style=\"text-align: right;\">\n",
              "      <th></th>\n",
              "      <th>label</th>\n",
              "      <th>comment</th>\n",
              "      <th>author</th>\n",
              "      <th>subreddit</th>\n",
              "      <th>score</th>\n",
              "      <th>ups</th>\n",
              "      <th>downs</th>\n",
              "      <th>date</th>\n",
              "      <th>created_utc</th>\n",
              "      <th>parent_comment</th>\n",
              "    </tr>\n",
              "  </thead>\n",
              "  <tbody>\n",
              "    <tr>\n",
              "      <th>0</th>\n",
              "      <td>0</td>\n",
              "      <td>NC and NH.</td>\n",
              "      <td>Trumpbart</td>\n",
              "      <td>politics</td>\n",
              "      <td>2</td>\n",
              "      <td>-1</td>\n",
              "      <td>-1</td>\n",
              "      <td>2016-10</td>\n",
              "      <td>2016-10-16 23:55:23</td>\n",
              "      <td>Yeah, I get that argument. At this point, I'd ...</td>\n",
              "    </tr>\n",
              "    <tr>\n",
              "      <th>1</th>\n",
              "      <td>0</td>\n",
              "      <td>You do know west teams play against west teams...</td>\n",
              "      <td>Shbshb906</td>\n",
              "      <td>nba</td>\n",
              "      <td>-4</td>\n",
              "      <td>-1</td>\n",
              "      <td>-1</td>\n",
              "      <td>2016-11</td>\n",
              "      <td>2016-11-01 00:24:10</td>\n",
              "      <td>The blazers and Mavericks (The wests 5 and 6 s...</td>\n",
              "    </tr>\n",
              "    <tr>\n",
              "      <th>2</th>\n",
              "      <td>0</td>\n",
              "      <td>They were underdogs earlier today, but since G...</td>\n",
              "      <td>Creepeth</td>\n",
              "      <td>nfl</td>\n",
              "      <td>3</td>\n",
              "      <td>3</td>\n",
              "      <td>0</td>\n",
              "      <td>2016-09</td>\n",
              "      <td>2016-09-22 21:45:37</td>\n",
              "      <td>They're favored to win.</td>\n",
              "    </tr>\n",
              "    <tr>\n",
              "      <th>3</th>\n",
              "      <td>0</td>\n",
              "      <td>This meme isn't funny none of the \"new york ni...</td>\n",
              "      <td>icebrotha</td>\n",
              "      <td>BlackPeopleTwitter</td>\n",
              "      <td>-8</td>\n",
              "      <td>-1</td>\n",
              "      <td>-1</td>\n",
              "      <td>2016-10</td>\n",
              "      <td>2016-10-18 21:03:47</td>\n",
              "      <td>deadass don't kill my buzz</td>\n",
              "    </tr>\n",
              "    <tr>\n",
              "      <th>4</th>\n",
              "      <td>0</td>\n",
              "      <td>I could use one of those tools.</td>\n",
              "      <td>cush2push</td>\n",
              "      <td>MaddenUltimateTeam</td>\n",
              "      <td>6</td>\n",
              "      <td>-1</td>\n",
              "      <td>-1</td>\n",
              "      <td>2016-12</td>\n",
              "      <td>2016-12-30 17:00:13</td>\n",
              "      <td>Yep can confirm I saw the tool they use for th...</td>\n",
              "    </tr>\n",
              "  </tbody>\n",
              "</table>\n",
              "</div>\n",
              "    <div class=\"colab-df-buttons\">\n",
              "\n",
              "  <div class=\"colab-df-container\">\n",
              "    <button class=\"colab-df-convert\" onclick=\"convertToInteractive('df-37570d5e-c171-42ca-a1a0-1f5afc6f752c')\"\n",
              "            title=\"Convert this dataframe to an interactive table.\"\n",
              "            style=\"display:none;\">\n",
              "\n",
              "  <svg xmlns=\"http://www.w3.org/2000/svg\" height=\"24px\" viewBox=\"0 -960 960 960\">\n",
              "    <path d=\"M120-120v-720h720v720H120Zm60-500h600v-160H180v160Zm220 220h160v-160H400v160Zm0 220h160v-160H400v160ZM180-400h160v-160H180v160Zm440 0h160v-160H620v160ZM180-180h160v-160H180v160Zm440 0h160v-160H620v160Z\"/>\n",
              "  </svg>\n",
              "    </button>\n",
              "\n",
              "  <style>\n",
              "    .colab-df-container {\n",
              "      display:flex;\n",
              "      gap: 12px;\n",
              "    }\n",
              "\n",
              "    .colab-df-convert {\n",
              "      background-color: #E8F0FE;\n",
              "      border: none;\n",
              "      border-radius: 50%;\n",
              "      cursor: pointer;\n",
              "      display: none;\n",
              "      fill: #1967D2;\n",
              "      height: 32px;\n",
              "      padding: 0 0 0 0;\n",
              "      width: 32px;\n",
              "    }\n",
              "\n",
              "    .colab-df-convert:hover {\n",
              "      background-color: #E2EBFA;\n",
              "      box-shadow: 0px 1px 2px rgba(60, 64, 67, 0.3), 0px 1px 3px 1px rgba(60, 64, 67, 0.15);\n",
              "      fill: #174EA6;\n",
              "    }\n",
              "\n",
              "    .colab-df-buttons div {\n",
              "      margin-bottom: 4px;\n",
              "    }\n",
              "\n",
              "    [theme=dark] .colab-df-convert {\n",
              "      background-color: #3B4455;\n",
              "      fill: #D2E3FC;\n",
              "    }\n",
              "\n",
              "    [theme=dark] .colab-df-convert:hover {\n",
              "      background-color: #434B5C;\n",
              "      box-shadow: 0px 1px 3px 1px rgba(0, 0, 0, 0.15);\n",
              "      filter: drop-shadow(0px 1px 2px rgba(0, 0, 0, 0.3));\n",
              "      fill: #FFFFFF;\n",
              "    }\n",
              "  </style>\n",
              "\n",
              "    <script>\n",
              "      const buttonEl =\n",
              "        document.querySelector('#df-37570d5e-c171-42ca-a1a0-1f5afc6f752c button.colab-df-convert');\n",
              "      buttonEl.style.display =\n",
              "        google.colab.kernel.accessAllowed ? 'block' : 'none';\n",
              "\n",
              "      async function convertToInteractive(key) {\n",
              "        const element = document.querySelector('#df-37570d5e-c171-42ca-a1a0-1f5afc6f752c');\n",
              "        const dataTable =\n",
              "          await google.colab.kernel.invokeFunction('convertToInteractive',\n",
              "                                                    [key], {});\n",
              "        if (!dataTable) return;\n",
              "\n",
              "        const docLinkHtml = 'Like what you see? Visit the ' +\n",
              "          '<a target=\"_blank\" href=https://colab.research.google.com/notebooks/data_table.ipynb>data table notebook</a>'\n",
              "          + ' to learn more about interactive tables.';\n",
              "        element.innerHTML = '';\n",
              "        dataTable['output_type'] = 'display_data';\n",
              "        await google.colab.output.renderOutput(dataTable, element);\n",
              "        const docLink = document.createElement('div');\n",
              "        docLink.innerHTML = docLinkHtml;\n",
              "        element.appendChild(docLink);\n",
              "      }\n",
              "    </script>\n",
              "  </div>\n",
              "\n",
              "\n",
              "<div id=\"df-bf0d647c-67e9-48ef-a4ea-51621ab9a61e\">\n",
              "  <button class=\"colab-df-quickchart\" onclick=\"quickchart('df-bf0d647c-67e9-48ef-a4ea-51621ab9a61e')\"\n",
              "            title=\"Suggest charts\"\n",
              "            style=\"display:none;\">\n",
              "\n",
              "<svg xmlns=\"http://www.w3.org/2000/svg\" height=\"24px\"viewBox=\"0 0 24 24\"\n",
              "     width=\"24px\">\n",
              "    <g>\n",
              "        <path d=\"M19 3H5c-1.1 0-2 .9-2 2v14c0 1.1.9 2 2 2h14c1.1 0 2-.9 2-2V5c0-1.1-.9-2-2-2zM9 17H7v-7h2v7zm4 0h-2V7h2v10zm4 0h-2v-4h2v4z\"/>\n",
              "    </g>\n",
              "</svg>\n",
              "  </button>\n",
              "\n",
              "<style>\n",
              "  .colab-df-quickchart {\n",
              "      --bg-color: #E8F0FE;\n",
              "      --fill-color: #1967D2;\n",
              "      --hover-bg-color: #E2EBFA;\n",
              "      --hover-fill-color: #174EA6;\n",
              "      --disabled-fill-color: #AAA;\n",
              "      --disabled-bg-color: #DDD;\n",
              "  }\n",
              "\n",
              "  [theme=dark] .colab-df-quickchart {\n",
              "      --bg-color: #3B4455;\n",
              "      --fill-color: #D2E3FC;\n",
              "      --hover-bg-color: #434B5C;\n",
              "      --hover-fill-color: #FFFFFF;\n",
              "      --disabled-bg-color: #3B4455;\n",
              "      --disabled-fill-color: #666;\n",
              "  }\n",
              "\n",
              "  .colab-df-quickchart {\n",
              "    background-color: var(--bg-color);\n",
              "    border: none;\n",
              "    border-radius: 50%;\n",
              "    cursor: pointer;\n",
              "    display: none;\n",
              "    fill: var(--fill-color);\n",
              "    height: 32px;\n",
              "    padding: 0;\n",
              "    width: 32px;\n",
              "  }\n",
              "\n",
              "  .colab-df-quickchart:hover {\n",
              "    background-color: var(--hover-bg-color);\n",
              "    box-shadow: 0 1px 2px rgba(60, 64, 67, 0.3), 0 1px 3px 1px rgba(60, 64, 67, 0.15);\n",
              "    fill: var(--button-hover-fill-color);\n",
              "  }\n",
              "\n",
              "  .colab-df-quickchart-complete:disabled,\n",
              "  .colab-df-quickchart-complete:disabled:hover {\n",
              "    background-color: var(--disabled-bg-color);\n",
              "    fill: var(--disabled-fill-color);\n",
              "    box-shadow: none;\n",
              "  }\n",
              "\n",
              "  .colab-df-spinner {\n",
              "    border: 2px solid var(--fill-color);\n",
              "    border-color: transparent;\n",
              "    border-bottom-color: var(--fill-color);\n",
              "    animation:\n",
              "      spin 1s steps(1) infinite;\n",
              "  }\n",
              "\n",
              "  @keyframes spin {\n",
              "    0% {\n",
              "      border-color: transparent;\n",
              "      border-bottom-color: var(--fill-color);\n",
              "      border-left-color: var(--fill-color);\n",
              "    }\n",
              "    20% {\n",
              "      border-color: transparent;\n",
              "      border-left-color: var(--fill-color);\n",
              "      border-top-color: var(--fill-color);\n",
              "    }\n",
              "    30% {\n",
              "      border-color: transparent;\n",
              "      border-left-color: var(--fill-color);\n",
              "      border-top-color: var(--fill-color);\n",
              "      border-right-color: var(--fill-color);\n",
              "    }\n",
              "    40% {\n",
              "      border-color: transparent;\n",
              "      border-right-color: var(--fill-color);\n",
              "      border-top-color: var(--fill-color);\n",
              "    }\n",
              "    60% {\n",
              "      border-color: transparent;\n",
              "      border-right-color: var(--fill-color);\n",
              "    }\n",
              "    80% {\n",
              "      border-color: transparent;\n",
              "      border-right-color: var(--fill-color);\n",
              "      border-bottom-color: var(--fill-color);\n",
              "    }\n",
              "    90% {\n",
              "      border-color: transparent;\n",
              "      border-bottom-color: var(--fill-color);\n",
              "    }\n",
              "  }\n",
              "</style>\n",
              "\n",
              "  <script>\n",
              "    async function quickchart(key) {\n",
              "      const quickchartButtonEl =\n",
              "        document.querySelector('#' + key + ' button');\n",
              "      quickchartButtonEl.disabled = true;  // To prevent multiple clicks.\n",
              "      quickchartButtonEl.classList.add('colab-df-spinner');\n",
              "      try {\n",
              "        const charts = await google.colab.kernel.invokeFunction(\n",
              "            'suggestCharts', [key], {});\n",
              "      } catch (error) {\n",
              "        console.error('Error during call to suggestCharts:', error);\n",
              "      }\n",
              "      quickchartButtonEl.classList.remove('colab-df-spinner');\n",
              "      quickchartButtonEl.classList.add('colab-df-quickchart-complete');\n",
              "    }\n",
              "    (() => {\n",
              "      let quickchartButtonEl =\n",
              "        document.querySelector('#df-bf0d647c-67e9-48ef-a4ea-51621ab9a61e button');\n",
              "      quickchartButtonEl.style.display =\n",
              "        google.colab.kernel.accessAllowed ? 'block' : 'none';\n",
              "    })();\n",
              "  </script>\n",
              "</div>\n",
              "\n",
              "    </div>\n",
              "  </div>\n"
            ]
          },
          "metadata": {},
          "execution_count": 5
        }
      ]
    },
    {
      "cell_type": "code",
      "source": [
        "train_bal.info()"
      ],
      "metadata": {
        "id": "buRDCOARVtib",
        "outputId": "0d8502cb-7ba7-4e16-93c5-53b4f97e341a",
        "colab": {
          "base_uri": "https://localhost:8080/"
        }
      },
      "execution_count": 6,
      "outputs": [
        {
          "output_type": "stream",
          "name": "stdout",
          "text": [
            "<class 'pandas.core.frame.DataFrame'>\n",
            "RangeIndex: 1010826 entries, 0 to 1010825\n",
            "Data columns (total 10 columns):\n",
            " #   Column          Non-Null Count    Dtype \n",
            "---  ------          --------------    ----- \n",
            " 0   label           1010826 non-null  int64 \n",
            " 1   comment         1010773 non-null  object\n",
            " 2   author          1010826 non-null  object\n",
            " 3   subreddit       1010826 non-null  object\n",
            " 4   score           1010826 non-null  int64 \n",
            " 5   ups             1010826 non-null  int64 \n",
            " 6   downs           1010826 non-null  int64 \n",
            " 7   date            1010826 non-null  object\n",
            " 8   created_utc     1010826 non-null  object\n",
            " 9   parent_comment  1010826 non-null  object\n",
            "dtypes: int64(4), object(6)\n",
            "memory usage: 77.1+ MB\n"
          ]
        }
      ]
    },
    {
      "cell_type": "code",
      "source": [
        "train_bal['label'].value_counts()"
      ],
      "metadata": {
        "id": "8ZmNESsSV-QP",
        "outputId": "53ff702c-49f4-436f-f7e5-d45448ec78eb",
        "colab": {
          "base_uri": "https://localhost:8080/"
        }
      },
      "execution_count": 7,
      "outputs": [
        {
          "output_type": "execute_result",
          "data": {
            "text/plain": [
              "0    505413\n",
              "1    505413\n",
              "Name: label, dtype: int64"
            ]
          },
          "metadata": {},
          "execution_count": 7
        }
      ]
    },
    {
      "cell_type": "markdown",
      "source": [
        "We can see our dataset is balanced."
      ],
      "metadata": {
        "id": "BGEjPFEaXQ-0"
      }
    },
    {
      "cell_type": "code",
      "source": [
        "train_bal['comment'] = train_bal['comment'].astype('str')\n",
        "train_bal.info()"
      ],
      "metadata": {
        "id": "WgAbanW9XSkN",
        "outputId": "cbedbe84-6bbc-44ff-ef47-45db84989b18",
        "colab": {
          "base_uri": "https://localhost:8080/"
        }
      },
      "execution_count": 8,
      "outputs": [
        {
          "output_type": "stream",
          "name": "stdout",
          "text": [
            "<class 'pandas.core.frame.DataFrame'>\n",
            "RangeIndex: 1010826 entries, 0 to 1010825\n",
            "Data columns (total 10 columns):\n",
            " #   Column          Non-Null Count    Dtype \n",
            "---  ------          --------------    ----- \n",
            " 0   label           1010826 non-null  int64 \n",
            " 1   comment         1010826 non-null  object\n",
            " 2   author          1010826 non-null  object\n",
            " 3   subreddit       1010826 non-null  object\n",
            " 4   score           1010826 non-null  int64 \n",
            " 5   ups             1010826 non-null  int64 \n",
            " 6   downs           1010826 non-null  int64 \n",
            " 7   date            1010826 non-null  object\n",
            " 8   created_utc     1010826 non-null  object\n",
            " 9   parent_comment  1010826 non-null  object\n",
            "dtypes: int64(4), object(6)\n",
            "memory usage: 77.1+ MB\n"
          ]
        }
      ]
    },
    {
      "cell_type": "code",
      "source": [
        "train_bal[:20]['comment']"
      ],
      "metadata": {
        "id": "l80XOo3PoGVK",
        "outputId": "1e3cb839-1408-4fd8-9101-4665598faac7",
        "colab": {
          "base_uri": "https://localhost:8080/"
        }
      },
      "execution_count": 9,
      "outputs": [
        {
          "output_type": "execute_result",
          "data": {
            "text/plain": [
              "0                                            NC and NH.\n",
              "1     You do know west teams play against west teams...\n",
              "2     They were underdogs earlier today, but since G...\n",
              "3     This meme isn't funny none of the \"new york ni...\n",
              "4                       I could use one of those tools.\n",
              "5     I don't pay attention to her, but as long as s...\n",
              "6         Trick or treating in general is just weird...\n",
              "7                       Blade Mastery+Masamune or GTFO!\n",
              "8     You don't have to, you have a good build, buy ...\n",
              "9                     I would love to see him at lolla.\n",
              "10    I think a significant amount would be against ...\n",
              "11                       Damn I was hoping God was real\n",
              "12                                 They have an agenda.\n",
              "13                                          Great idea!\n",
              "14    Ayy bb wassup, it makes a bit more sense in co...\n",
              "15                                        what the fuck\n",
              "16                                               noted.\n",
              "17    because it's what really bothers him... and it...\n",
              "18                        why you fail me, my precious?\n",
              "19                       Pre-Flashpoint Clark and Lois.\n",
              "Name: comment, dtype: object"
            ]
          },
          "metadata": {},
          "execution_count": 9
        }
      ]
    },
    {
      "cell_type": "markdown",
      "source": [
        "## EDA"
      ],
      "metadata": {
        "id": "bxRfLcEQerOA"
      }
    },
    {
      "cell_type": "code",
      "source": [
        "# Separating sarcastic vs non sarcastic comments\n",
        "sarcastic_com = train_bal[train_bal['label'] == 1]\n",
        "non_sarcastic_com = train_bal[train_bal['label'] == 0]"
      ],
      "metadata": {
        "id": "5QAY7ml_oq-h"
      },
      "execution_count": 10,
      "outputs": []
    },
    {
      "cell_type": "code",
      "source": [
        "# # WordCloud for sarcastic comments\n",
        "# wordcloud = WordCloud(width=800, height=400, background_color='white').generate(' '.join(sarcastic_com['comment'].values.ravel()))\n",
        "\n",
        "# # Display the generated word cloud using matplotlib\n",
        "# plt.figure(figsize=(10, 5))\n",
        "# plt.imshow(wordcloud, interpolation='bilinear')\n",
        "# plt.axis('off')\n",
        "# plt.show()"
      ],
      "metadata": {
        "id": "eA_0ybLxesig"
      },
      "execution_count": 11,
      "outputs": []
    },
    {
      "cell_type": "code",
      "source": [
        "# # WordCloud for non-sarcastic comments\n",
        "# wordcloud = WordCloud(width=800, height=400, background_color='white').generate(' '.join(non_sarcastic_com['comment'].values.ravel()))\n",
        "\n",
        "# # Display the generated word cloud using matplotlib\n",
        "# plt.figure(figsize=(10, 5))\n",
        "# plt.imshow(wordcloud, interpolation='bilinear')\n",
        "# plt.axis('off')\n",
        "# plt.show()"
      ],
      "metadata": {
        "id": "NAr7sC4lpEs2"
      },
      "execution_count": 12,
      "outputs": []
    },
    {
      "cell_type": "code",
      "source": [],
      "metadata": {
        "id": "Fn4l2KLpnRkJ"
      },
      "execution_count": 12,
      "outputs": []
    },
    {
      "cell_type": "markdown",
      "source": [
        "# Visualizing Sarcastic Comments by Subreddit"
      ],
      "metadata": {
        "id": "a51uPrvhfN97"
      }
    },
    {
      "cell_type": "code",
      "source": [
        "subreddit_count = sarcastic_com['subreddit'].value_counts()"
      ],
      "metadata": {
        "id": "vH4eEHBohhOY"
      },
      "execution_count": 13,
      "outputs": []
    },
    {
      "cell_type": "code",
      "source": [
        "import matplotlib.pyplot as plt\n",
        "import seaborn as sns\n",
        "top = subreddit_count.head(20)\n",
        "plt.figure(figsize=(10, 6))\n",
        "sns.barplot(x=top.values, y=top.index)\n",
        "plt.xlabel('Number of Sarcastic Comments')\n",
        "plt.ylabel('Subreddit')\n",
        "plt.title('Frequency of Sarcastic Comments by Subreddit')\n",
        "plt.show()\n"
      ],
      "metadata": {
        "id": "MyUb_gYKihvx",
        "outputId": "d9523157-27f0-40ba-b2ba-b73acee79d3a",
        "colab": {
          "base_uri": "https://localhost:8080/",
          "height": 564
        }
      },
      "execution_count": 14,
      "outputs": [
        {
          "output_type": "display_data",
          "data": {
            "text/plain": [
              "<Figure size 1000x600 with 1 Axes>"
            ],
            "image/png": "[encoded data removed]"
          },
          "metadata": {}
        }
      ]
    },
    {
      "cell_type": "code",
      "source": [
        "import nltk\n",
        "from nltk import word_tokenize, sent_tokenize\n",
        "from nltk.corpus import stopwords\n",
        "from nltk.stem.porter import *\n",
        "nltk.download('punkt')\n",
        "nltk.download('stopwords')\n",
        "\n",
        "import string\n",
        "\n",
        "import gensim\n",
        "from gensim.models.phrases import Phraser, Phrases\n",
        "from gensim.models.word2vec import Word2Vec\n",
        "\n",
        "import spacy # for a lemmatization example\n",
        "\n",
        "from sklearn.manifold import TSNE\n",
        "\n",
        "import pandas as pd\n",
        "from bokeh.io import output_notebook, output_file\n",
        "from bokeh.plotting import show, figure"
      ],
      "metadata": {
        "id": "0070DkpOns2u",
        "outputId": "5d105140-8701-497d-fcfb-606ad6c739fc",
        "colab": {
          "base_uri": "https://localhost:8080/"
        }
      },
      "execution_count": 15,
      "outputs": [
        {
          "output_type": "stream",
          "name": "stderr",
          "text": [
            "[nltk_data] Downloading package punkt to /root/nltk_data...\n",
            "[nltk_data]   Unzipping tokenizers/punkt.zip.\n",
            "[nltk_data] Downloading package stopwords to /root/nltk_data...\n",
            "[nltk_data]   Unzipping corpora/stopwords.zip.\n"
          ]
        }
      ]
    },
    {
      "cell_type": "code",
      "source": [
        "comments = train_bal['comment']"
      ],
      "metadata": {
        "id": "Z1115StdoiGI"
      },
      "execution_count": 16,
      "outputs": []
    },
    {
      "cell_type": "code",
      "source": [
        "comments.info()"
      ],
      "metadata": {
        "id": "EY3sfqD7s9UU",
        "outputId": "bdd58018-a299-4e3c-f1ee-4843e2e14eb4",
        "colab": {
          "base_uri": "https://localhost:8080/"
        }
      },
      "execution_count": 17,
      "outputs": [
        {
          "output_type": "stream",
          "name": "stdout",
          "text": [
            "<class 'pandas.core.series.Series'>\n",
            "RangeIndex: 1010826 entries, 0 to 1010825\n",
            "Series name: comment\n",
            "Non-Null Count    Dtype \n",
            "--------------    ----- \n",
            "1010826 non-null  object\n",
            "dtypes: object(1)\n",
            "memory usage: 7.7+ MB\n"
          ]
        }
      ]
    },
    {
      "cell_type": "code",
      "source": [
        "comments.dropna(inplace=True)\n",
        "comments.info()"
      ],
      "metadata": {
        "id": "sbjzLRGTtbTO",
        "outputId": "4486daab-ac5e-4e10-c8de-23fe54fc718f",
        "colab": {
          "base_uri": "https://localhost:8080/"
        }
      },
      "execution_count": 18,
      "outputs": [
        {
          "output_type": "stream",
          "name": "stdout",
          "text": [
            "<class 'pandas.core.series.Series'>\n",
            "Int64Index: 1010826 entries, 0 to 1010825\n",
            "Series name: comment\n",
            "Non-Null Count    Dtype \n",
            "--------------    ----- \n",
            "1010826 non-null  object\n",
            "dtypes: object(1)\n",
            "memory usage: 15.4+ MB\n"
          ]
        }
      ]
    },
    {
      "cell_type": "code",
      "source": [
        "!pip install dask[delayed]"
      ],
      "metadata": {
        "id": "FGDdd5DDtef4",
        "outputId": "5f70009a-c9a3-4409-c5d4-7d19fb1b2790",
        "colab": {
          "base_uri": "https://localhost:8080/"
        }
      },
      "execution_count": 19,
      "outputs": [
        {
          "output_type": "stream",
          "name": "stdout",
          "text": [
            "Requirement already satisfied: dask[delayed] in /usr/local/lib/python3.10/dist-packages (2023.8.1)\n",
            "Requirement already satisfied: click>=8.0 in /usr/local/lib/python3.10/dist-packages (from dask[delayed]) (8.1.7)\n",
            "Requirement already satisfied: cloudpickle>=1.5.0 in /usr/local/lib/python3.10/dist-packages (from dask[delayed]) (2.2.1)\n",
            "Requirement already satisfied: fsspec>=2021.09.0 in /usr/local/lib/python3.10/dist-packages (from dask[delayed]) (2023.6.0)\n",
            "Requirement already satisfied: packaging>=20.0 in /usr/local/lib/python3.10/dist-packages (from dask[delayed]) (23.2)\n",
            "Requirement already satisfied: partd>=1.2.0 in /usr/local/lib/python3.10/dist-packages (from dask[delayed]) (1.4.1)\n",
            "Requirement already satisfied: pyyaml>=5.3.1 in /usr/local/lib/python3.10/dist-packages (from dask[delayed]) (6.0.1)\n",
            "Requirement already satisfied: toolz>=0.10.0 in /usr/local/lib/python3.10/dist-packages (from dask[delayed]) (0.12.0)\n",
            "Requirement already satisfied: importlib-metadata>=4.13.0 in /usr/local/lib/python3.10/dist-packages (from dask[delayed]) (7.0.1)\n",
            "Requirement already satisfied: zipp>=0.5 in /usr/local/lib/python3.10/dist-packages (from importlib-metadata>=4.13.0->dask[delayed]) (3.17.0)\n",
            "Requirement already satisfied: locket in /usr/local/lib/python3.10/dist-packages (from partd>=1.2.0->dask[delayed]) (1.0.0)\n"
          ]
        }
      ]
    },
    {
      "cell_type": "code",
      "source": [
        "import dask.dataframe as dd\n",
        "from dask import delayed"
      ],
      "metadata": {
        "id": "KJuWYScVtzH6"
      },
      "execution_count": 20,
      "outputs": []
    },
    {
      "cell_type": "code",
      "source": [
        "comment_test = comments.head(10000)"
      ],
      "metadata": {
        "id": "3swTFty9uT5U"
      },
      "execution_count": 21,
      "outputs": []
    },
    {
      "cell_type": "markdown",
      "source": [
        "#Create large function that does this text preprocessing so that it can be used with X_train, also figure out how to split and keep track of data\n"
      ],
      "metadata": {
        "id": "e7PBx8sX9G7V"
      }
    },
    {
      "cell_type": "code",
      "source": [
        "from tensorflow.keras.preprocessing.text import Tokenizer\n",
        "def preprocess(text):\n",
        "  tokenized_comments = batch_tokenize(text.tolist())\n",
        "  phrases = Phrases(tokenized_comments)\n",
        "  bigram = Phraser(phrases)\n",
        "  bigram_comments = [bigram[comment] for comment in tokenized_comments]\n",
        "  tokenizer = Tokenizer(lower=False)\n",
        "  tokenizer.fit_on_texts(bigram_comments)\n",
        "  word_index = tokenizer.word_index\n",
        "  word_size = len(word_index) + 1\n",
        "\n",
        "  # uses tokenizer object with the created word index to make each comment a list of integers corresponding to their index\n",
        "  sequences = tokenizer.texts_to_sequences(bigram_comments)\n",
        "\n",
        "\n",
        "  return word_index, word_size, sequences\n",
        "\n"
      ],
      "metadata": {
        "id": "XU1JbHIV9SjY"
      },
      "execution_count": 61,
      "outputs": []
    },
    {
      "cell_type": "code",
      "source": [
        "#  Replace this?\n",
        "def batch_tokenize(texts, batch_size=50000):\n",
        "    tokenized_texts = []\n",
        "    for i in range(0, len(texts), batch_size):\n",
        "        batch = texts[i:i+batch_size]\n",
        "        tokenized_batch = [word_tokenize(text) for text in batch]\n",
        "        tokenized_texts.extend(tokenized_batch)\n",
        "    return tokenized_texts\n",
        "\n",
        "#tokenized_comments = batch_tokenize(comments.tolist())"
      ],
      "metadata": {
        "id": "PHejGAHduG3r"
      },
      "execution_count": 22,
      "outputs": []
    },
    {
      "cell_type": "code",
      "source": [
        "# len(tokenized_comments)"
      ],
      "metadata": {
        "id": "pRII2opwuchE",
        "outputId": "14c17ca4-6856-4570-93b1-0620cac31531",
        "colab": {
          "base_uri": "https://localhost:8080/"
        }
      },
      "execution_count": 23,
      "outputs": [
        {
          "output_type": "execute_result",
          "data": {
            "text/plain": [
              "1010826"
            ]
          },
          "metadata": {},
          "execution_count": 23
        }
      ]
    },
    {
      "cell_type": "code",
      "source": [
        "#phrases = Phrases(tokenized_comments)"
      ],
      "metadata": {
        "id": "RnAMUB1OvgPU"
      },
      "execution_count": 24,
      "outputs": []
    },
    {
      "cell_type": "code",
      "source": [
        "# bigram = Phraser(phrases)"
      ],
      "metadata": {
        "id": "E01b4TT1mhOi"
      },
      "execution_count": 25,
      "outputs": []
    },
    {
      "cell_type": "code",
      "source": [
        "# bigram.phrasegrams"
      ],
      "metadata": {
        "id": "N5h707SPnWa3"
      },
      "execution_count": 26,
      "outputs": []
    },
    {
      "cell_type": "code",
      "source": [
        "# bigram_comments = [bigram[comment] for comment in tokenized_comments]"
      ],
      "metadata": {
        "id": "ms4C3_EgqlGH"
      },
      "execution_count": 27,
      "outputs": []
    },
    {
      "cell_type": "code",
      "source": [
        "# from tensorflow.keras.preprocessing.text import Tokenizer\n",
        "\n",
        "# tokenizer = Tokenizer(lower=False)\n",
        "# tokenizer.fit_on_texts(bigram_comments)\n",
        "# word_index = tokenizer.word_index\n",
        "\n",
        "# word_index is a dictionary where keys are words and values are their corresponding indices"
      ],
      "metadata": {
        "id": "sT0NTxws3G6W"
      },
      "execution_count": 28,
      "outputs": []
    },
    {
      "cell_type": "code",
      "source": [
        "# len(word_index)"
      ],
      "metadata": {
        "id": "luWWCye73rGV",
        "outputId": "cf3ba0e4-0349-43e3-96c0-66dcd7c06783",
        "colab": {
          "base_uri": "https://localhost:8080/"
        }
      },
      "execution_count": 29,
      "outputs": [
        {
          "output_type": "execute_result",
          "data": {
            "text/plain": [
              "284489"
            ]
          },
          "metadata": {},
          "execution_count": 29
        }
      ]
    },
    {
      "cell_type": "code",
      "source": [
        "# word_size = len(word_index) + 1"
      ],
      "metadata": {
        "id": "lT7gO2I94LBb"
      },
      "execution_count": 30,
      "outputs": []
    },
    {
      "cell_type": "code",
      "source": [
        "# Adjust parameters as needed\n",
        "size = 150\n",
        "window = 7\n",
        "min_count = 15\n",
        "workers = 4\n",
        "sg = 1\n",
        "negative = 5\n",
        "epochs = 7\n",
        "\n",
        "\n",
        "model = Word2Vec(bigram_comments, vector_size=size, window=window, min_count=min_count, workers=workers)\n",
        "\n",
        "# model.save(\"/content/drive/Sarcasm_Data/model/word2vec.w2v\")\n"
      ],
      "metadata": {
        "id": "IN5JoLLGq_-J"
      },
      "execution_count": 31,
      "outputs": []
    },
    {
      "cell_type": "code",
      "source": [
        "# model.save(\"model_embedding.w2v\")"
      ],
      "metadata": {
        "id": "NcOVvoH9UAUZ"
      },
      "execution_count": 32,
      "outputs": []
    },
    {
      "cell_type": "code",
      "source": [
        "# skip re-training the model with the next line:\n",
        "model = gensim.models.Word2Vec.load('/content/drive/MyDrive/word2vec.model')"
      ],
      "metadata": {
        "id": "mDi59BCHTiqi"
      },
      "execution_count": 92,
      "outputs": []
    },
    {
      "cell_type": "code",
      "source": [
        "model.wv['dog']"
      ],
      "metadata": {
        "id": "KTxPfHCxrYEP",
        "outputId": "fb81694d-1e76-4d62-91f3-a784897bbe2c",
        "colab": {
          "base_uri": "https://localhost:8080/"
        }
      },
      "execution_count": 34,
      "outputs": [
        {
          "output_type": "execute_result",
          "data": {
            "text/plain": [
              "array([ 0.90451765,  1.7631044 ,  0.6231895 ,  0.777761  , -0.510725  ,\n",
              "        0.00946851,  0.17777872, -0.10099883, -0.5565152 , -0.7884845 ,\n",
              "        1.0144794 , -1.570673  , -0.8745102 , -0.4505395 , -0.8160293 ,\n",
              "        0.13125573, -0.5152664 , -0.22710656,  1.0006125 , -0.6409768 ,\n",
              "       -1.9435565 ,  1.6426133 , -0.12443724, -0.48832902,  0.6577657 ,\n",
              "       -0.43018162,  0.74570805, -0.84636575, -0.15677069, -0.789554  ,\n",
              "       -0.8159635 ,  0.5740654 ,  0.7666069 ,  1.0616834 , -0.3965836 ,\n",
              "       -0.60506284,  0.3834844 ,  0.34873432,  1.0772258 , -1.2930739 ,\n",
              "        0.04845177, -0.56659   ,  0.44698796,  1.2523938 , -1.1663436 ,\n",
              "        0.381793  , -0.8429205 , -1.2329977 , -1.84278   ,  1.4529505 ,\n",
              "        0.8372087 ,  0.33779916, -1.2361301 ,  1.4015558 ,  1.5104085 ,\n",
              "        1.559361  ,  1.278143  , -0.06229809,  0.8317676 , -0.65179724,\n",
              "        1.0235895 ,  0.48910755,  1.1788733 , -1.1857599 , -0.22784023,\n",
              "        0.41432002,  0.41276404, -0.01175862,  0.4518781 , -0.7300196 ,\n",
              "       -0.8374771 , -0.1387884 , -0.28642485, -0.94883156, -0.6871681 ,\n",
              "        0.3246033 , -0.33149964, -0.1323354 ,  0.8328783 , -1.1397504 ,\n",
              "        0.5808621 , -0.0990453 , -0.509313  ,  0.03035838, -0.20124315,\n",
              "       -0.02489554,  0.64359343,  0.38221067, -0.9810254 , -1.5566046 ,\n",
              "        0.67762977,  1.4499048 ,  0.30009812,  0.57162786, -1.4151525 ,\n",
              "       -1.0221449 ,  0.62477714, -0.48670632,  0.37881532,  1.2678858 ,\n",
              "        1.3101665 ,  0.3186315 ,  0.0356954 , -0.11342485, -0.81428903,\n",
              "       -1.0717608 ,  1.1441368 ,  0.95219266, -0.48588705, -1.5537081 ,\n",
              "        0.7204861 , -0.39527172, -0.60429484, -0.34870103,  0.2203365 ,\n",
              "       -0.22232334,  0.6444871 ,  0.6948056 , -1.8524384 ,  0.17593646,\n",
              "        0.3732253 , -0.18999423, -0.4942816 ,  0.76918936,  0.8966048 ,\n",
              "       -0.35444522, -0.66347706,  0.0872995 , -0.3551005 , -0.5085508 ,\n",
              "        1.4302262 , -0.38396415,  0.39964738, -0.44851458, -0.30252296,\n",
              "        0.28261462,  1.7253313 , -0.65551895, -0.8703985 ,  0.53717774,\n",
              "       -0.51919633, -0.8496332 , -1.3894501 , -0.8018658 ,  1.083469  ,\n",
              "        0.05043231,  0.32045293, -0.5489033 , -2.131886  , -0.628709  ],\n",
              "      dtype=float32)"
            ]
          },
          "metadata": {},
          "execution_count": 34
        }
      ]
    },
    {
      "cell_type": "code",
      "source": [
        "similar_words = model.wv.most_similar('ok')\n",
        "similar_words"
      ],
      "metadata": {
        "colab": {
          "base_uri": "https://localhost:8080/"
        },
        "id": "7GtgNUaAtcQD",
        "outputId": "dd8a35f1-b197-4dbf-fabc-f2645ab9c411"
      },
      "execution_count": 35,
      "outputs": [
        {
          "output_type": "execute_result",
          "data": {
            "text/plain": [
              "[('okay', 0.9446449279785156),\n",
              " ('OK', 0.9253052473068237),\n",
              " ('alright', 0.7982171773910522),\n",
              " ('fine', 0.6672182083129883),\n",
              " ('perfectly_fine', 0.642020046710968),\n",
              " ('cool', 0.5878971815109253),\n",
              " ('justified', 0.5626591444015503),\n",
              " ('wrong', 0.5318138599395752),\n",
              " ('understandable', 0.5288909077644348),\n",
              " ('unacceptable', 0.4947114884853363)]"
            ]
          },
          "metadata": {},
          "execution_count": 35
        }
      ]
    },
    {
      "cell_type": "code",
      "source": [
        "model.wv.doesnt_match(\"mother father sister brother dog\".split())"
      ],
      "metadata": {
        "id": "LE74GomRJOWv",
        "outputId": "51da95ea-a9a0-4585-9fdc-9be84b9ace71",
        "colab": {
          "base_uri": "https://localhost:8080/",
          "height": 36
        }
      },
      "execution_count": 36,
      "outputs": [
        {
          "output_type": "execute_result",
          "data": {
            "text/plain": [
              "'dog'"
            ],
            "application/vnd.google.colaboratory.intrinsic+json": {
              "type": "string"
            }
          },
          "metadata": {},
          "execution_count": 36
        }
      ]
    },
    {
      "cell_type": "code",
      "source": [
        "model.wv.similarity('father', 'dog')"
      ],
      "metadata": {
        "id": "eJcuoTz4JPoP",
        "outputId": "7d165012-17b7-48a4-af80-e922a95f77d6",
        "colab": {
          "base_uri": "https://localhost:8080/"
        }
      },
      "execution_count": 37,
      "outputs": [
        {
          "output_type": "execute_result",
          "data": {
            "text/plain": [
              "0.66480863"
            ]
          },
          "metadata": {},
          "execution_count": 37
        }
      ]
    },
    {
      "cell_type": "code",
      "source": [
        "model.wv.most_similar(positive=['father', 'woman'], negative=['man'])   # Should expect mother"
      ],
      "metadata": {
        "id": "ZH0zJ9D0JTAH",
        "outputId": "8793475a-50bc-4fc9-fda2-e10ed8ce424e",
        "colab": {
          "base_uri": "https://localhost:8080/"
        }
      },
      "execution_count": 38,
      "outputs": [
        {
          "output_type": "execute_result",
          "data": {
            "text/plain": [
              "[('mother', 0.7413758039474487),\n",
              " ('child', 0.709227979183197),\n",
              " ('daughter', 0.6811947822570801),\n",
              " ('wife', 0.6779746413230896),\n",
              " ('husband', 0.6702209115028381),\n",
              " ('sister', 0.6224682927131653),\n",
              " ('girlfriend', 0.6099835634231567),\n",
              " ('family', 0.606359601020813),\n",
              " ('teacher', 0.5988774299621582),\n",
              " ('family_member', 0.5981861352920532)]"
            ]
          },
          "metadata": {},
          "execution_count": 38
        }
      ]
    },
    {
      "cell_type": "code",
      "source": [
        "model.wv.most_similar(positive=['husband', 'woman'], negative=['man'])  # Should expect wife"
      ],
      "metadata": {
        "id": "9OBRMbMrJZUa",
        "outputId": "eb15c320-1132-47a6-808f-a1ecf025c602",
        "colab": {
          "base_uri": "https://localhost:8080/"
        }
      },
      "execution_count": 39,
      "outputs": [
        {
          "output_type": "execute_result",
          "data": {
            "text/plain": [
              "[('daughter', 0.7059494853019714),\n",
              " ('mother', 0.6991272568702698),\n",
              " ('child', 0.6818873882293701),\n",
              " ('partner', 0.6637686491012573),\n",
              " ('wife', 0.6501094698905945),\n",
              " ('girlfriend', 0.6445956230163574),\n",
              " ('father', 0.6311219334602356),\n",
              " ('boyfriend', 0.6283386945724487),\n",
              " ('sister', 0.6098517775535583),\n",
              " ('penis', 0.609626293182373)]"
            ]
          },
          "metadata": {},
          "execution_count": 39
        }
      ]
    },
    {
      "cell_type": "markdown",
      "source": [
        "### t-SNE Word Embedding Visualization"
      ],
      "metadata": {
        "id": "eDUAEbPEYVax"
      }
    },
    {
      "cell_type": "code",
      "source": [
        "# tsne = TSNE(n_components=2, n_iter=1000)"
      ],
      "metadata": {
        "id": "r_PTRS5cJfJn"
      },
      "execution_count": 40,
      "outputs": []
    },
    {
      "cell_type": "code",
      "source": [
        "# X_2d = tsne.fit_transform(model.wv[model.wv.key_to_index])\n",
        "# coords_df = pd.DataFrame(X_2d, columns=['x','y'])\n",
        "# coords_df['token'] = model.wv.index_to_key\n",
        "# coords_df.head()\n"
      ],
      "metadata": {
        "id": "RsgHPNmMJqKg",
        "outputId": "776ac0fa-2543-45b8-edda-7bdd9c1163b4",
        "colab": {
          "base_uri": "https://localhost:8080/",
          "height": 387
        }
      },
      "execution_count": 93,
      "outputs": [
        {
          "output_type": "error",
          "ename": "KeyboardInterrupt",
          "evalue": "",
          "traceback": [
            "\u001b[0;31m---------------------------------------------------------------------------\u001b[0m",
            "\u001b[0;31mKeyboardInterrupt\u001b[0m                         Traceback (most recent call last)",
            "\u001b[0;32m<ipython-input-93-8b2de52bbb2c>\u001b[0m in \u001b[0;36m<cell line: 1>\u001b[0;34m()\u001b[0m\n\u001b[0;32m----> 1\u001b[0;31m \u001b[0mX_2d\u001b[0m \u001b[0;34m=\u001b[0m \u001b[0mtsne\u001b[0m\u001b[0;34m.\u001b[0m\u001b[0mfit_transform\u001b[0m\u001b[0;34m(\u001b[0m\u001b[0mmodel\u001b[0m\u001b[0;34m.\u001b[0m\u001b[0mwv\u001b[0m\u001b[0;34m[\u001b[0m\u001b[0mmodel\u001b[0m\u001b[0;34m.\u001b[0m\u001b[0mwv\u001b[0m\u001b[0;34m.\u001b[0m\u001b[0mkey_to_index\u001b[0m\u001b[0;34m]\u001b[0m\u001b[0;34m)\u001b[0m\u001b[0;34m\u001b[0m\u001b[0;34m\u001b[0m\u001b[0m\n\u001b[0m\u001b[1;32m      2\u001b[0m \u001b[0mcoords_df\u001b[0m \u001b[0;34m=\u001b[0m \u001b[0mpd\u001b[0m\u001b[0;34m.\u001b[0m\u001b[0mDataFrame\u001b[0m\u001b[0;34m(\u001b[0m\u001b[0mX_2d\u001b[0m\u001b[0;34m,\u001b[0m \u001b[0mcolumns\u001b[0m\u001b[0;34m=\u001b[0m\u001b[0;34m[\u001b[0m\u001b[0;34m'x'\u001b[0m\u001b[0;34m,\u001b[0m\u001b[0;34m'y'\u001b[0m\u001b[0;34m]\u001b[0m\u001b[0;34m)\u001b[0m\u001b[0;34m\u001b[0m\u001b[0;34m\u001b[0m\u001b[0m\n\u001b[1;32m      3\u001b[0m \u001b[0mcoords_df\u001b[0m\u001b[0;34m[\u001b[0m\u001b[0;34m'token'\u001b[0m\u001b[0;34m]\u001b[0m \u001b[0;34m=\u001b[0m \u001b[0mmodel\u001b[0m\u001b[0;34m.\u001b[0m\u001b[0mwv\u001b[0m\u001b[0;34m.\u001b[0m\u001b[0mindex_to_key\u001b[0m\u001b[0;34m\u001b[0m\u001b[0;34m\u001b[0m\u001b[0m\n\u001b[1;32m      4\u001b[0m \u001b[0mcoords_df\u001b[0m\u001b[0;34m.\u001b[0m\u001b[0mhead\u001b[0m\u001b[0;34m(\u001b[0m\u001b[0;34m)\u001b[0m\u001b[0;34m\u001b[0m\u001b[0;34m\u001b[0m\u001b[0m\n",
            "\u001b[0;32m/usr/local/lib/python3.10/dist-packages/sklearn/manifold/_t_sne.py\u001b[0m in \u001b[0;36mfit_transform\u001b[0;34m(self, X, y)\u001b[0m\n\u001b[1;32m   1117\u001b[0m         \u001b[0mself\u001b[0m\u001b[0;34m.\u001b[0m\u001b[0m_validate_params\u001b[0m\u001b[0;34m(\u001b[0m\u001b[0;34m)\u001b[0m\u001b[0;34m\u001b[0m\u001b[0;34m\u001b[0m\u001b[0m\n\u001b[1;32m   1118\u001b[0m         \u001b[0mself\u001b[0m\u001b[0;34m.\u001b[0m\u001b[0m_check_params_vs_input\u001b[0m\u001b[0;34m(\u001b[0m\u001b[0mX\u001b[0m\u001b[0;34m)\u001b[0m\u001b[0;34m\u001b[0m\u001b[0;34m\u001b[0m\u001b[0m\n\u001b[0;32m-> 1119\u001b[0;31m         \u001b[0membedding\u001b[0m \u001b[0;34m=\u001b[0m \u001b[0mself\u001b[0m\u001b[0;34m.\u001b[0m\u001b[0m_fit\u001b[0m\u001b[0;34m(\u001b[0m\u001b[0mX\u001b[0m\u001b[0;34m)\u001b[0m\u001b[0;34m\u001b[0m\u001b[0;34m\u001b[0m\u001b[0m\n\u001b[0m\u001b[1;32m   1120\u001b[0m         \u001b[0mself\u001b[0m\u001b[0;34m.\u001b[0m\u001b[0membedding_\u001b[0m \u001b[0;34m=\u001b[0m \u001b[0membedding\u001b[0m\u001b[0;34m\u001b[0m\u001b[0;34m\u001b[0m\u001b[0m\n\u001b[1;32m   1121\u001b[0m         \u001b[0;32mreturn\u001b[0m \u001b[0mself\u001b[0m\u001b[0;34m.\u001b[0m\u001b[0membedding_\u001b[0m\u001b[0;34m\u001b[0m\u001b[0;34m\u001b[0m\u001b[0m\n",
            "\u001b[0;32m/usr/local/lib/python3.10/dist-packages/sklearn/manifold/_t_sne.py\u001b[0m in \u001b[0;36m_fit\u001b[0;34m(self, X, skip_num_points)\u001b[0m\n\u001b[1;32m   1010\u001b[0m         \u001b[0mdegrees_of_freedom\u001b[0m \u001b[0;34m=\u001b[0m \u001b[0mmax\u001b[0m\u001b[0;34m(\u001b[0m\u001b[0mself\u001b[0m\u001b[0;34m.\u001b[0m\u001b[0mn_components\u001b[0m \u001b[0;34m-\u001b[0m \u001b[0;36m1\u001b[0m\u001b[0;34m,\u001b[0m \u001b[0;36m1\u001b[0m\u001b[0;34m)\u001b[0m\u001b[0;34m\u001b[0m\u001b[0;34m\u001b[0m\u001b[0m\n\u001b[1;32m   1011\u001b[0m \u001b[0;34m\u001b[0m\u001b[0m\n\u001b[0;32m-> 1012\u001b[0;31m         return self._tsne(\n\u001b[0m\u001b[1;32m   1013\u001b[0m             \u001b[0mP\u001b[0m\u001b[0;34m,\u001b[0m\u001b[0;34m\u001b[0m\u001b[0;34m\u001b[0m\u001b[0m\n\u001b[1;32m   1014\u001b[0m             \u001b[0mdegrees_of_freedom\u001b[0m\u001b[0;34m,\u001b[0m\u001b[0;34m\u001b[0m\u001b[0;34m\u001b[0m\u001b[0m\n",
            "\u001b[0;32m/usr/local/lib/python3.10/dist-packages/sklearn/manifold/_t_sne.py\u001b[0m in \u001b[0;36m_tsne\u001b[0;34m(self, P, degrees_of_freedom, n_samples, X_embedded, neighbors, skip_num_points)\u001b[0m\n\u001b[1;32m   1062\u001b[0m         \u001b[0;31m# higher learning rate controlled via the early exaggeration parameter\u001b[0m\u001b[0;34m\u001b[0m\u001b[0;34m\u001b[0m\u001b[0m\n\u001b[1;32m   1063\u001b[0m         \u001b[0mP\u001b[0m \u001b[0;34m*=\u001b[0m \u001b[0mself\u001b[0m\u001b[0;34m.\u001b[0m\u001b[0mearly_exaggeration\u001b[0m\u001b[0;34m\u001b[0m\u001b[0;34m\u001b[0m\u001b[0m\n\u001b[0;32m-> 1064\u001b[0;31m         \u001b[0mparams\u001b[0m\u001b[0;34m,\u001b[0m \u001b[0mkl_divergence\u001b[0m\u001b[0;34m,\u001b[0m \u001b[0mit\u001b[0m \u001b[0;34m=\u001b[0m \u001b[0m_gradient_descent\u001b[0m\u001b[0;34m(\u001b[0m\u001b[0mobj_func\u001b[0m\u001b[0;34m,\u001b[0m \u001b[0mparams\u001b[0m\u001b[0;34m,\u001b[0m \u001b[0;34m**\u001b[0m\u001b[0mopt_args\u001b[0m\u001b[0;34m)\u001b[0m\u001b[0;34m\u001b[0m\u001b[0;34m\u001b[0m\u001b[0m\n\u001b[0m\u001b[1;32m   1065\u001b[0m         \u001b[0;32mif\u001b[0m \u001b[0mself\u001b[0m\u001b[0;34m.\u001b[0m\u001b[0mverbose\u001b[0m\u001b[0;34m:\u001b[0m\u001b[0;34m\u001b[0m\u001b[0;34m\u001b[0m\u001b[0m\n\u001b[1;32m   1066\u001b[0m             print(\n",
            "\u001b[0;32m/usr/local/lib/python3.10/dist-packages/sklearn/manifold/_t_sne.py\u001b[0m in \u001b[0;36m_gradient_descent\u001b[0;34m(objective, p0, it, n_iter, n_iter_check, n_iter_without_progress, momentum, learning_rate, min_gain, min_grad_norm, verbose, args, kwargs)\u001b[0m\n\u001b[1;32m    397\u001b[0m         \u001b[0mkwargs\u001b[0m\u001b[0;34m[\u001b[0m\u001b[0;34m\"compute_error\"\u001b[0m\u001b[0;34m]\u001b[0m \u001b[0;34m=\u001b[0m \u001b[0mcheck_convergence\u001b[0m \u001b[0;32mor\u001b[0m \u001b[0mi\u001b[0m \u001b[0;34m==\u001b[0m \u001b[0mn_iter\u001b[0m \u001b[0;34m-\u001b[0m \u001b[0;36m1\u001b[0m\u001b[0;34m\u001b[0m\u001b[0;34m\u001b[0m\u001b[0m\n\u001b[1;32m    398\u001b[0m \u001b[0;34m\u001b[0m\u001b[0m\n\u001b[0;32m--> 399\u001b[0;31m         \u001b[0merror\u001b[0m\u001b[0;34m,\u001b[0m \u001b[0mgrad\u001b[0m \u001b[0;34m=\u001b[0m \u001b[0mobjective\u001b[0m\u001b[0;34m(\u001b[0m\u001b[0mp\u001b[0m\u001b[0;34m,\u001b[0m \u001b[0;34m*\u001b[0m\u001b[0margs\u001b[0m\u001b[0;34m,\u001b[0m \u001b[0;34m**\u001b[0m\u001b[0mkwargs\u001b[0m\u001b[0;34m)\u001b[0m\u001b[0;34m\u001b[0m\u001b[0;34m\u001b[0m\u001b[0m\n\u001b[0m\u001b[1;32m    400\u001b[0m \u001b[0;34m\u001b[0m\u001b[0m\n\u001b[1;32m    401\u001b[0m         \u001b[0minc\u001b[0m \u001b[0;34m=\u001b[0m \u001b[0mupdate\u001b[0m \u001b[0;34m*\u001b[0m \u001b[0mgrad\u001b[0m \u001b[0;34m<\u001b[0m \u001b[0;36m0.0\u001b[0m\u001b[0;34m\u001b[0m\u001b[0;34m\u001b[0m\u001b[0m\n",
            "\u001b[0;32m/usr/local/lib/python3.10/dist-packages/sklearn/manifold/_t_sne.py\u001b[0m in \u001b[0;36m_kl_divergence_bh\u001b[0;34m(params, P, degrees_of_freedom, n_samples, n_components, angle, skip_num_points, verbose, compute_error, num_threads)\u001b[0m\n\u001b[1;32m    278\u001b[0m \u001b[0;34m\u001b[0m\u001b[0m\n\u001b[1;32m    279\u001b[0m     \u001b[0mgrad\u001b[0m \u001b[0;34m=\u001b[0m \u001b[0mnp\u001b[0m\u001b[0;34m.\u001b[0m\u001b[0mzeros\u001b[0m\u001b[0;34m(\u001b[0m\u001b[0mX_embedded\u001b[0m\u001b[0;34m.\u001b[0m\u001b[0mshape\u001b[0m\u001b[0;34m,\u001b[0m \u001b[0mdtype\u001b[0m\u001b[0;34m=\u001b[0m\u001b[0mnp\u001b[0m\u001b[0;34m.\u001b[0m\u001b[0mfloat32\u001b[0m\u001b[0;34m)\u001b[0m\u001b[0;34m\u001b[0m\u001b[0;34m\u001b[0m\u001b[0m\n\u001b[0;32m--> 280\u001b[0;31m     error = _barnes_hut_tsne.gradient(\n\u001b[0m\u001b[1;32m    281\u001b[0m         \u001b[0mval_P\u001b[0m\u001b[0;34m,\u001b[0m\u001b[0;34m\u001b[0m\u001b[0;34m\u001b[0m\u001b[0m\n\u001b[1;32m    282\u001b[0m         \u001b[0mX_embedded\u001b[0m\u001b[0;34m,\u001b[0m\u001b[0;34m\u001b[0m\u001b[0;34m\u001b[0m\u001b[0m\n",
            "\u001b[0;31mKeyboardInterrupt\u001b[0m: "
          ]
        }
      ]
    },
    {
      "cell_type": "code",
      "source": [
        "# coords_df.to_csv(\"/content/drive/MyDrive/Sarcasm_Data/coords_df\", index=False)"
      ],
      "metadata": {
        "id": "A8pjccydtFfx",
        "colab": {
          "base_uri": "https://localhost:8080/",
          "height": 181
        },
        "outputId": "f4407542-0fe0-4b2f-86c4-2c14334745b0"
      },
      "execution_count": 94,
      "outputs": [
        {
          "output_type": "error",
          "ename": "NameError",
          "evalue": "name 'coords_df' is not defined",
          "traceback": [
            "\u001b[0;31m---------------------------------------------------------------------------\u001b[0m",
            "\u001b[0;31mNameError\u001b[0m                                 Traceback (most recent call last)",
            "\u001b[0;32m<ipython-input-94-ad3e872b9276>\u001b[0m in \u001b[0;36m<cell line: 1>\u001b[0;34m()\u001b[0m\n\u001b[0;32m----> 1\u001b[0;31m \u001b[0mcoords_df\u001b[0m\u001b[0;34m.\u001b[0m\u001b[0mto_csv\u001b[0m\u001b[0;34m(\u001b[0m\u001b[0;34m\"/content/drive/MyDrive/Sarcasm_Data/coords_df\"\u001b[0m\u001b[0;34m,\u001b[0m \u001b[0mindex\u001b[0m\u001b[0;34m=\u001b[0m\u001b[0;32mFalse\u001b[0m\u001b[0;34m)\u001b[0m\u001b[0;34m\u001b[0m\u001b[0;34m\u001b[0m\u001b[0m\n\u001b[0m",
            "\u001b[0;31mNameError\u001b[0m: name 'coords_df' is not defined"
          ]
        }
      ]
    },
    {
      "cell_type": "code",
      "source": [
        "coords_df = pd.read_csv('/content/drive/MyDrive/Sarcasm_Data/coords_df')\n",
        "output_notebook()\n",
        "subset_df = coords_df.sample(n=5000)\n",
        "p = figure(min_width=800, min_height=800)\n",
        "_ = p.text(x=subset_df.x, y=subset_df.y, text=subset_df.token)\n",
        "show(p)"
      ],
      "metadata": {
        "id": "-ZMJHWBWJ0IA",
        "outputId": "2f212f3a-9c81-445a-b167-0ae756cfa0c4",
        "colab": {
          "base_uri": "https://localhost:8080/",
          "height": 817
        }
      },
      "execution_count": 95,
      "outputs": [
        {
          "output_type": "display_data",
          "data": {
            "application/javascript": [
              "(function(root) {\n",
              "  function now() {\n",
              "    return new Date();\n",
              "  }\n",
              "\n",
              "  const force = true;\n",
              "\n",
              "  if (typeof root._bokeh_onload_callbacks === \"undefined\" || force === true) {\n",
              "    root._bokeh_onload_callbacks = [];\n",
              "    root._bokeh_is_loading = undefined;\n",
              "  }\n",
              "\n",
              "const JS_MIME_TYPE = 'application/javascript';\n",
              "  const HTML_MIME_TYPE = 'text/html';\n",
              "  const EXEC_MIME_TYPE = 'application/vnd.bokehjs_exec.v0+json';\n",
              "  const CLASS_NAME = 'output_bokeh rendered_html';\n",
              "\n",
              "  /**\n",
              "   * Render data to the DOM node\n",
              "   */\n",
              "  function render(props, node) {\n",
              "    const script = document.createElement(\"script\");\n",
              "    node.appendChild(script);\n",
              "  }\n",
              "\n",
              "  /**\n",
              "   * Handle when an output is cleared or removed\n",
              "   */\n",
              "  function handleClearOutput(event, handle) {\n",
              "    function drop(id) {\n",
              "      const view = Bokeh.index.get_by_id(id)\n",
              "      if (view != null) {\n",
              "        view.model.document.clear()\n",
              "        Bokeh.index.delete(view)\n",
              "      }\n",
              "    }\n",
              "\n",
              "    const cell = handle.cell;\n",
              "\n",
              "    const id = cell.output_area._bokeh_element_id;\n",
              "    const server_id = cell.output_area._bokeh_server_id;\n",
              "\n",
              "    // Clean up Bokeh references\n",
              "    if (id != null) {\n",
              "      drop(id)\n",
              "    }\n",
              "\n",
              "    if (server_id !== undefined) {\n",
              "      // Clean up Bokeh references\n",
              "      const cmd_clean = \"from bokeh.io.state import curstate; print(curstate().uuid_to_server['\" + server_id + \"'].get_sessions()[0].document.roots[0]._id)\";\n",
              "      cell.notebook.kernel.execute(cmd_clean, {\n",
              "        iopub: {\n",
              "          output: function(msg) {\n",
              "            const id = msg.content.text.trim()\n",
              "            drop(id)\n",
              "          }\n",
              "        }\n",
              "      });\n",
              "      // Destroy server and session\n",
              "      const cmd_destroy = \"import bokeh.io.notebook as ion; ion.destroy_server('\" + server_id + \"')\";\n",
              "      cell.notebook.kernel.execute(cmd_destroy);\n",
              "    }\n",
              "  }\n",
              "\n",
              "  /**\n",
              "   * Handle when a new output is added\n",
              "   */\n",
              "  function handleAddOutput(event, handle) {\n",
              "    const output_area = handle.output_area;\n",
              "    const output = handle.output;\n",
              "\n",
              "    // limit handleAddOutput to display_data with EXEC_MIME_TYPE content only\n",
              "    if ((output.output_type != \"display_data\") || (!Object.prototype.hasOwnProperty.call(output.data, EXEC_MIME_TYPE))) {\n",
              "      return\n",
              "    }\n",
              "\n",
              "    const toinsert = output_area.element.find(\".\" + CLASS_NAME.split(' ')[0]);\n",
              "\n",
              "    if (output.metadata[EXEC_MIME_TYPE][\"id\"] !== undefined) {\n",
              "      toinsert[toinsert.length - 1].firstChild.textContent = output.data[JS_MIME_TYPE];\n",
              "      // store reference to embed id on output_area\n",
              "      output_area._bokeh_element_id = output.metadata[EXEC_MIME_TYPE][\"id\"];\n",
              "    }\n",
              "    if (output.metadata[EXEC_MIME_TYPE][\"server_id\"] !== undefined) {\n",
              "      const bk_div = document.createElement(\"div\");\n",
              "      bk_div.innerHTML = output.data[HTML_MIME_TYPE];\n",
              "      const script_attrs = bk_div.children[0].attributes;\n",
              "      for (let i = 0; i < script_attrs.length; i++) {\n",
              "        toinsert[toinsert.length - 1].firstChild.setAttribute(script_attrs[i].name, script_attrs[i].value);\n",
              "        toinsert[toinsert.length - 1].firstChild.textContent = bk_div.children[0].textContent\n",
              "      }\n",
              "      // store reference to server id on output_area\n",
              "      output_area._bokeh_server_id = output.metadata[EXEC_MIME_TYPE][\"server_id\"];\n",
              "    }\n",
              "  }\n",
              "\n",
              "  function register_renderer(events, OutputArea) {\n",
              "\n",
              "    function append_mime(data, metadata, element) {\n",
              "      // create a DOM node to render to\n",
              "      const toinsert = this.create_output_subarea(\n",
              "        metadata,\n",
              "        CLASS_NAME,\n",
              "        EXEC_MIME_TYPE\n",
              "      );\n",
              "      this.keyboard_manager.register_events(toinsert);\n",
              "      // Render to node\n",
              "      const props = {data: data, metadata: metadata[EXEC_MIME_TYPE]};\n",
              "      render(props, toinsert[toinsert.length - 1]);\n",
              "      element.append(toinsert);\n",
              "      return toinsert\n",
              "    }\n",
              "\n",
              "    /* Handle when an output is cleared or removed */\n",
              "    events.on('clear_output.CodeCell', handleClearOutput);\n",
              "    events.on('delete.Cell', handleClearOutput);\n",
              "\n",
              "    /* Handle when a new output is added */\n",
              "    events.on('output_added.OutputArea', handleAddOutput);\n",
              "\n",
              "    /**\n",
              "     * Register the mime type and append_mime function with output_area\n",
              "     */\n",
              "    OutputArea.prototype.register_mime_type(EXEC_MIME_TYPE, append_mime, {\n",
              "      /* Is output safe? */\n",
              "      safe: true,\n",
              "      /* Index of renderer in `output_area.display_order` */\n",
              "      index: 0\n",
              "    });\n",
              "  }\n",
              "\n",
              "  // register the mime type if in Jupyter Notebook environment and previously unregistered\n",
              "  if (root.Jupyter !== undefined) {\n",
              "    const events = require('base/js/events');\n",
              "    const OutputArea = require('notebook/js/outputarea').OutputArea;\n",
              "\n",
              "    if (OutputArea.prototype.mime_types().indexOf(EXEC_MIME_TYPE) == -1) {\n",
              "      register_renderer(events, OutputArea);\n",
              "    }\n",
              "  }\n",
              "  if (typeof (root._bokeh_timeout) === \"undefined\" || force === true) {\n",
              "    root._bokeh_timeout = Date.now() + 5000;\n",
              "    root._bokeh_failed_load = false;\n",
              "  }\n",
              "\n",
              "  const NB_LOAD_WARNING = {'data': {'text/html':\n",
              "     \"<div style='background-color: #fdd'>\\n\"+\n",
              "     \"<p>\\n\"+\n",
              "     \"BokehJS does not appear to have successfully loaded. If loading BokehJS from CDN, this \\n\"+\n",
              "     \"may be due to a slow or bad network connection. Possible fixes:\\n\"+\n",
              "     \"</p>\\n\"+\n",
              "     \"<ul>\\n\"+\n",
              "     \"<li>re-rerun `output_notebook()` to attempt to load from CDN again, or</li>\\n\"+\n",
              "     \"<li>use INLINE resources instead, as so:</li>\\n\"+\n",
              "     \"</ul>\\n\"+\n",
              "     \"<code>\\n\"+\n",
              "     \"from bokeh.resources import INLINE\\n\"+\n",
              "     \"output_notebook(resources=INLINE)\\n\"+\n",
              "     \"</code>\\n\"+\n",
              "     \"</div>\"}};\n",
              "\n",
              "  function display_loaded() {\n",
              "    const el = document.getElementById(null);\n",
              "    if (el != null) {\n",
              "      el.textContent = \"BokehJS is loading...\";\n",
              "    }\n",
              "    if (root.Bokeh !== undefined) {\n",
              "      if (el != null) {\n",
              "        el.textContent = \"BokehJS \" + root.Bokeh.version + \" successfully loaded.\";\n",
              "      }\n",
              "    } else if (Date.now() < root._bokeh_timeout) {\n",
              "      setTimeout(display_loaded, 100)\n",
              "    }\n",
              "  }\n",
              "\n",
              "  function run_callbacks() {\n",
              "    try {\n",
              "      root._bokeh_onload_callbacks.forEach(function(callback) {\n",
              "        if (callback != null)\n",
              "          callback();\n",
              "      });\n",
              "    } finally {\n",
              "      delete root._bokeh_onload_callbacks\n",
              "    }\n",
              "    console.debug(\"Bokeh: all callbacks have finished\");\n",
              "  }\n",
              "\n",
              "  function load_libs(css_urls, js_urls, callback) {\n",
              "    if (css_urls == null) css_urls = [];\n",
              "    if (js_urls == null) js_urls = [];\n",
              "\n",
              "    root._bokeh_onload_callbacks.push(callback);\n",
              "    if (root._bokeh_is_loading > 0) {\n",
              "      console.debug(\"Bokeh: BokehJS is being loaded, scheduling callback at\", now());\n",
              "      return null;\n",
              "    }\n",
              "    if (js_urls == null || js_urls.length === 0) {\n",
              "      run_callbacks();\n",
              "      return null;\n",
              "    }\n",
              "    console.debug(\"Bokeh: BokehJS not loaded, scheduling load and callback at\", now());\n",
              "    root._bokeh_is_loading = css_urls.length + js_urls.length;\n",
              "\n",
              "    function on_load() {\n",
              "      root._bokeh_is_loading--;\n",
              "      if (root._bokeh_is_loading === 0) {\n",
              "        console.debug(\"Bokeh: all BokehJS libraries/stylesheets loaded\");\n",
              "        run_callbacks()\n",
              "      }\n",
              "    }\n",
              "\n",
              "    function on_error(url) {\n",
              "      console.error(\"failed to load \" + url);\n",
              "    }\n",
              "\n",
              "    for (let i = 0; i < css_urls.length; i++) {\n",
              "      const url = css_urls[i];\n",
              "      const element = document.createElement(\"link\");\n",
              "      element.onload = on_load;\n",
              "      element.onerror = on_error.bind(null, url);\n",
              "      element.rel = \"stylesheet\";\n",
              "      element.type = \"text/css\";\n",
              "      element.href = url;\n",
              "      console.debug(\"Bokeh: injecting link tag for BokehJS stylesheet: \", url);\n",
              "      document.body.appendChild(element);\n",
              "    }\n",
              "\n",
              "    for (let i = 0; i < js_urls.length; i++) {\n",
              "      const url = js_urls[i];\n",
              "      const element = document.createElement('script');\n",
              "      element.onload = on_load;\n",
              "      element.onerror = on_error.bind(null, url);\n",
              "      element.async = false;\n",
              "      element.src = url;\n",
              "      console.debug(\"Bokeh: injecting script tag for BokehJS library: \", url);\n",
              "      document.head.appendChild(element);\n",
              "    }\n",
              "  };\n",
              "\n",
              "  function inject_raw_css(css) {\n",
              "    const element = document.createElement(\"style\");\n",
              "    element.appendChild(document.createTextNode(css));\n",
              "    document.body.appendChild(element);\n",
              "  }\n",
              "\n",
              "  const js_urls = [\"https://cdn.bokeh.org/bokeh/release/bokeh-3.3.3.min.js\", \"https://cdn.bokeh.org/bokeh/release/bokeh-gl-3.3.3.min.js\", \"https://cdn.bokeh.org/bokeh/release/bokeh-widgets-3.3.3.min.js\", \"https://cdn.bokeh.org/bokeh/release/bokeh-tables-3.3.3.min.js\", \"https://cdn.bokeh.org/bokeh/release/bokeh-mathjax-3.3.3.min.js\"];\n",
              "  const css_urls = [];\n",
              "\n",
              "  const inline_js = [    function(Bokeh) {\n",
              "      Bokeh.set_log_level(\"info\");\n",
              "    },\n",
              "function(Bokeh) {\n",
              "    }\n",
              "  ];\n",
              "\n",
              "  function run_inline_js() {\n",
              "    if (root.Bokeh !== undefined || force === true) {\n",
              "          for (let i = 0; i < inline_js.length; i++) {\n",
              "      inline_js[i].call(root, root.Bokeh);\n",
              "    }\n",
              "} else if (Date.now() < root._bokeh_timeout) {\n",
              "      setTimeout(run_inline_js, 100);\n",
              "    } else if (!root._bokeh_failed_load) {\n",
              "      console.log(\"Bokeh: BokehJS failed to load within specified timeout.\");\n",
              "      root._bokeh_failed_load = true;\n",
              "    } else if (force !== true) {\n",
              "      const cell = $(document.getElementById(null)).parents('.cell').data().cell;\n",
              "      cell.output_area.append_execute_result(NB_LOAD_WARNING)\n",
              "    }\n",
              "  }\n",
              "\n",
              "  if (root._bokeh_is_loading === 0) {\n",
              "    console.debug(\"Bokeh: BokehJS loaded, going straight to plotting\");\n",
              "    run_inline_js();\n",
              "  } else {\n",
              "    load_libs(css_urls, js_urls, function() {\n",
              "      console.debug(\"Bokeh: BokehJS plotting callback run at\", now());\n",
              "      run_inline_js();\n",
              "    });\n",
              "  }\n",
              "}(window));"
            ],
            "application/vnd.bokehjs_load.v0+json": "(function(root) {\n  function now() {\n    return new Date();\n  }\n\n  const force = true;\n\n  if (typeof root._bokeh_onload_callbacks === \"undefined\" || force === true) {\n    root._bokeh_onload_callbacks = [];\n    root._bokeh_is_loading = undefined;\n  }\n\n\n  if (typeof (root._bokeh_timeout) === \"undefined\" || force === true) {\n    root._bokeh_timeout = Date.now() + 5000;\n    root._bokeh_failed_load = false;\n  }\n\n  const NB_LOAD_WARNING = {'data': {'text/html':\n     \"<div style='background-color: #fdd'>\\n\"+\n     \"<p>\\n\"+\n     \"BokehJS does not appear to have successfully loaded. If loading BokehJS from CDN, this \\n\"+\n     \"may be due to a slow or bad network connection. Possible fixes:\\n\"+\n     \"</p>\\n\"+\n     \"<ul>\\n\"+\n     \"<li>re-rerun `output_notebook()` to attempt to load from CDN again, or</li>\\n\"+\n     \"<li>use INLINE resources instead, as so:</li>\\n\"+\n     \"</ul>\\n\"+\n     \"<code>\\n\"+\n     \"from bokeh.resources import INLINE\\n\"+\n     \"output_notebook(resources=INLINE)\\n\"+\n     \"</code>\\n\"+\n     \"</div>\"}};\n\n  function display_loaded() {\n    const el = document.getElementById(null);\n    if (el != null) {\n      el.textContent = \"BokehJS is loading...\";\n    }\n    if (root.Bokeh !== undefined) {\n      if (el != null) {\n        el.textContent = \"BokehJS \" + root.Bokeh.version + \" successfully loaded.\";\n      }\n    } else if (Date.now() < root._bokeh_timeout) {\n      setTimeout(display_loaded, 100)\n    }\n  }\n\n  function run_callbacks() {\n    try {\n      root._bokeh_onload_callbacks.forEach(function(callback) {\n        if (callback != null)\n          callback();\n      });\n    } finally {\n      delete root._bokeh_onload_callbacks\n    }\n    console.debug(\"Bokeh: all callbacks have finished\");\n  }\n\n  function load_libs(css_urls, js_urls, callback) {\n    if (css_urls == null) css_urls = [];\n    if (js_urls == null) js_urls = [];\n\n    root._bokeh_onload_callbacks.push(callback);\n    if (root._bokeh_is_loading > 0) {\n      console.debug(\"Bokeh: BokehJS is being loaded, scheduling callback at\", now());\n      return null;\n    }\n    if (js_urls == null || js_urls.length === 0) {\n      run_callbacks();\n      return null;\n    }\n    console.debug(\"Bokeh: BokehJS not loaded, scheduling load and callback at\", now());\n    root._bokeh_is_loading = css_urls.length + js_urls.length;\n\n    function on_load() {\n      root._bokeh_is_loading--;\n      if (root._bokeh_is_loading === 0) {\n        console.debug(\"Bokeh: all BokehJS libraries/stylesheets loaded\");\n        run_callbacks()\n      }\n    }\n\n    function on_error(url) {\n      console.error(\"failed to load \" + url);\n    }\n\n    for (let i = 0; i < css_urls.length; i++) {\n      const url = css_urls[i];\n      const element = document.createElement(\"link\");\n      element.onload = on_load;\n      element.onerror = on_error.bind(null, url);\n      element.rel = \"stylesheet\";\n      element.type = \"text/css\";\n      element.href = url;\n      console.debug(\"Bokeh: injecting link tag for BokehJS stylesheet: \", url);\n      document.body.appendChild(element);\n    }\n\n    for (let i = 0; i < js_urls.length; i++) {\n      const url = js_urls[i];\n      const element = document.createElement('script');\n      element.onload = on_load;\n      element.onerror = on_error.bind(null, url);\n      element.async = false;\n      element.src = url;\n      console.debug(\"Bokeh: injecting script tag for BokehJS library: \", url);\n      document.head.appendChild(element);\n    }\n  };\n\n  function inject_raw_css(css) {\n    const element = document.createElement(\"style\");\n    element.appendChild(document.createTextNode(css));\n    document.body.appendChild(element);\n  }\n\n  const js_urls = [\"https://cdn.bokeh.org/bokeh/release/bokeh-3.3.3.min.js\", \"https://cdn.bokeh.org/bokeh/release/bokeh-gl-3.3.3.min.js\", \"https://cdn.bokeh.org/bokeh/release/bokeh-widgets-3.3.3.min.js\", \"https://cdn.bokeh.org/bokeh/release/bokeh-tables-3.3.3.min.js\", \"https://cdn.bokeh.org/bokeh/release/bokeh-mathjax-3.3.3.min.js\"];\n  const css_urls = [];\n\n  const inline_js = [    function(Bokeh) {\n      Bokeh.set_log_level(\"info\");\n    },\nfunction(Bokeh) {\n    }\n  ];\n\n  function run_inline_js() {\n    if (root.Bokeh !== undefined || force === true) {\n          for (let i = 0; i < inline_js.length; i++) {\n      inline_js[i].call(root, root.Bokeh);\n    }\n} else if (Date.now() < root._bokeh_timeout) {\n      setTimeout(run_inline_js, 100);\n    } else if (!root._bokeh_failed_load) {\n      console.log(\"Bokeh: BokehJS failed to load within specified timeout.\");\n      root._bokeh_failed_load = true;\n    } else if (force !== true) {\n      const cell = $(document.getElementById(null)).parents('.cell').data().cell;\n      cell.output_area.append_execute_result(NB_LOAD_WARNING)\n    }\n  }\n\n  if (root._bokeh_is_loading === 0) {\n    console.debug(\"Bokeh: BokehJS loaded, going straight to plotting\");\n    run_inline_js();\n  } else {\n    load_libs(css_urls, js_urls, function() {\n      console.debug(\"Bokeh: BokehJS plotting callback run at\", now());\n      run_inline_js();\n    });\n  }\n}(window));"
          },
          "metadata": {}
        },
        {
          "output_type": "display_data",
          "data": {
            "text/html": [
              "\n",
              "  <div id=\"bcd445a7-c5fe-42e2-809b-1383196602e6\" data-root-id=\"p1001\" style=\"display: contents;\"></div>\n"
            ]
          },
          "metadata": {}
        },
        {
          "output_type": "display_data",
          "data": {
            "application/javascript": [
              "(function(root) {\n",
              "  function embed_document(root) {\n",
              "  const docs_json = {\"13d12f4d-df49-429e-aec8-e8edf4f3ea48\":{\"version\":\"3.3.3\",\"title\":\"Bokeh Application\",\"roots\":[{\"type\":\"object\",\"name\":\"Figure\",\"id\":\"p1001\",\"attributes\":{\"min_width\":800,\"min_height\":800,\"x_range\":{\"type\":\"object\",\"name\":\"DataRange1d\",\"id\":\"p1002\"},\"y_range\":{\"type\":\"object\",\"name\":\"DataRange1d\",\"id\":\"p1003\"},\"x_scale\":{\"type\":\"object\",\"name\":\"LinearScale\",\"id\":\"p1010\"},\"y_scale\":{\"type\":\"object\",\"name\":\"LinearScale\",\"id\":\"p1011\"},\"title\":{\"type\":\"object\",\"name\":\"Title\",\"id\":\"p1008\"},\"renderers\":[{\"type\":\"object\",\"name\":\"GlyphRenderer\",\"id\":\"p1039\",\"attributes\":{\"data_source\":{\"type\":\"object\",\"name\":\"ColumnDataSource\",\"id\":\"p1033\",\"attributes\":{\"selected\":{\"type\":\"object\",\"name\":\"Selection\",\"id\":\"p1034\",\"attributes\":{\"indices\":[],\"line_indices\":[]}},\"selection_policy\":{\"type\":\"object\",\"name\":\"UnionRenderers\",\"id\":\"p1035\"},\"data\":{\"type\":\"map\",\"entries\":[[\"x\",{\"type\":\"ndarray\",\"array\":{\"type\":\"bytes\",\"data\":\"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\"},\"shape\":[5000],\"dtype\":\"float64\",\"order\":\"little\"}],[\"y\",{\"type\":\"ndarray\",\"array\":{\"type\":\"bytes\",\"data\":\"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\"},\"shape\":[5000],\"dtype\":\"float64\",\"order\":\"little\"}],[\"text\",{\"type\":\"ndarray\",\"array\":[\"roofs\",\"WAS_A\",\"Pics\",\"award\",\"factory\",\"generates\",\"Expensive\",\"mags\",\"Noel\",\"high_elo\",\"Smash_Bros\",\"basing\",\"storm\",\"Guilty\",\"projecting\",\"Group\",\"Donald_Trump\",\"strength\",\"frugal\",\"inside_job\",\"together\",\"Street_Fighter\",\"Ham\",\"slapping\",\"kernel\",\"intersection\",\"karate\",\"Crysis\",\"Islamophobic\",\"montage\",\"politifact\",\"3-0\",\"English\",\"keys\",\"ai\",\"shouldnt\",\"originated\",\"turn_around\",\"Burger_King\",\"ART\",\"Trump_wins\",\"tropical\",\":0\",\"Natalie\",\"tweaks\",\"voting_rights\",\"sweaty\",\"DPOY\",\"character_development\",\"breast\",\"Question_:\",\"maaaan\",\"varying\",\"fall\",\"Increase\",\"lend\",\"inspirational\",\"Seriously\",\"kya\",\"Gamer\",\"visiting\",\"Nasty\",\"Shhhhhh\",\"fluid\",\"larger\",\"full\",\"Canucks\",\"770\",\"CONFIRMED\",\"instantly\",\"LeBlanc\",\"Sony\",\"Nu\",\"plat\",\"standings\",\"simpleton\",\"cuck\",\"First_Lady\",\"inning\",\"Android_phone\",\"phones\",\"lean\",\"mildly\",\"larger_than\",\"E_D\",\"move\",\"native_language\",\"upper_body\",\"appalling\",\"Went\",\"Janet\",\"general_public\",\"penetrating\",\"anytime\",\"crescent\",\"welcomed\",\"invalidate\",\"explain_why\",\"winners\",\"pupper\",\"conversion\",\"sling\",\"symbol\",\"shortest\",\"Lake\",\"insight_into\",\"listed\",\"rode\",\"tell_us\",\"bolts\",\"eviction\",\"Tucker\",\"Tech\",\"myself\",\"Saudi_Arabia\",\"Huni\",\"lawn\",\"cheaply\",\"defender\",\"jets\",\"dorms\",\"red_lights\",\"blizz\",\"Sheldon\",\"smart\",\"shipment\",\"publisher\",\"keep\",\"YEAH\",\"gameplay\",\"whisper\",\"gun_nuts\",\"unneeded\",\"vowels\",\"IS_A\",\"filing\",\"jetpack\",\"Funnily_enough\",\"unfunny\",\"'ll_take\",\"Most_likely\",\"Soooooo\",\"toilet\",\"titan\",\"noses\",\"luck\",\"copy\",\"lowest\",\"Username_checks\",\"Indianapolis\",\"np\",\"sound_effects\",\"8-10\",\"fix_everything\",\"grown_up\",\"uproar\",\"bloggers\",\"ing\",\"Hangouts\",\"lifted\",\"laptops\",\"wiener\",\"lemon\",\"because\",\"Sorry_forgot\",\"italian\",\"shaman\",\"basicly\",\"jay\",\"weirdo\",\"Humor\",\"MN\",\"frightening\",\"Watch\",\"incarnate\",\"950\",\"ROLL\",\"calories\",\"truck_driver\",\"doo\",\"migrant\",\"Snowden\",\"--_--\",\"dumb\",\"every_episode\",\"Dutch\",\"charts\",\"THOUGHT\",\"AM_THE\",\"Peasants\",\"sudoku\",\"embarrassing\",\"turkey\",\"applicable\",\"psychologically\",\"fetch\",\"kickstarter\",\"noticing\",\"twisted\",\"Paris\",\"virtuous\",\"headshot\",\"print\",\"Shh\",\"har_har\",\"humanities\",\"challenging\",\"freshmen\",\"temporary\",\"legacy\",\"prettier\",\"hardware\",\"NA_teams\",\"afterward\",\"assholes\",\"na\",\"8gb\",\"SELL\",\"arcane\",\"bomb\",\"Skull\",\"Phillips\",\"Epic\",\"chief\",\"terrorist_attack\",\"&_amp\",\"racist_towards\",\"elegant\",\"Hansen\",\"Faith\",\"browse_reddit\",\"Macs\",\"THE_FUCKING\",\"resort\",\"characters\",\"Fiji\",\"MP\",\"aha\",\"assumed\",\"rural_areas\",\"officer\",\"final_form\",\"chop\",\"pre\",\"beanie\",\"detain\",\"mainstream\",\"stocks\",\"Big_Brother\",\"borderlands\",\"Bennett\",\"SMART\",\"Martin_Luther\",\"Bama\",\"tractor\",\"loophole\",\"Instead\",\"powered_by\",\"MAC\",\"told_him\",\"allowed\",\"Random\",\"John_Madden\",\"lottery\",\"peanuts\",\"Jeb_Bush\",\"relationship_between\",\"toxins\",\"Bullet\",\"exploding\",\"WATER\",\"responding\",\"specify\",\"goldfish\",\"cleaning_up\",\"Dean\",\"no_brainer\",\"had_forgotten\",\"God_dammit\",\"exclusion\",\"woke\",\"unfortunately\",\"memorable\",\"Anna\",\"identical\",\"boos\",\"spineless\",\"crowd\",\"aw\",\"citizenship\",\"WaPo\",\"Roof\",\"thermodynamics\",\"B_&\",\"regrets\",\"Clinton_campaign\",\"an_essay\",\"Dust\",\"wild_animals\",\"Buddhist\",\"excuse_me\",\"QBR\",\"couple_hundred\",\"bother\",\"an_expert\",\"nooooooo\",\"generalizing\",\"Youth\",\"fan\",\"topless\",\"empires\",\"corny\",\"mens\",\"commuting\",\"plugins\",\"7_billion\",\"underpowered\",\"burner\",\"Nemesis\",\"an_extent\",\"1060\",\"USA\",\"liberate\",\"V8\",\"Funny_how\",\"harmed\",\"Few\",\"Being_able\",\"NOT_A\",\"crocs\",\"donald_trump\",\"Sheamus\",\"nude\",\"sexually\",\"skimpy\",\"electricity\",\"sensors\",\"reverse_racism\",\"salsa\",\"Thanksgiving\",\"sunset\",\"Vault\",\"Fade\",\"Elite\",\"rid\",\"stool\",\"breed\",\"dae\",\"Committee\",\"hence\",\"worldwide\",\"16:9\",\"drug_cartels\",\"gods\",\"kicked\",\"channels\",\"You_dropped\",\"Planned_Parenthood\",\"correct_term\",\"Keep\",\"pizzagate\",\"warmth\",\"hmmm\",\"douchhawls_Bitch9ers\",\"President_Trump\",\"limitless\",\"simultaneously\",\"T-Rex\",\"crust\",\"thoroughly\",\"grown\",\"communal\",\"Age\",\"Cyborg\",\"body_armor\",\"Corp\",\"vocal_minority\",\"unless\",\"EDG\",\"Saskatoon\",\"liars\",\"kept\",\"200_million\",\"not_mistaken\",\"casualties\",\"employee\",\"subset_of\",\"custody\",\"sniff\",\"logically\",\"golly\",\"auch\",\"punch_line\",\"1_minute\",\"tsunami\",\"NDA\",\"murder_rate\",\"`_SvcHost.exe\",\"GOD_DAMN\",\"engagement\",\"intern\",\"Idk\",\"signs\",\"gmail\",\"theyve\",\"HP\",\"realization\",\"Indiana\",\"Woodhead\",\"Hercules\",\"Jon\",\"generations\",\"relegation\",\"learned_anything\",\"phony\",\"Keystone\",\"might_be\",\"explained\",\"killstreaks\",\"fuels\",\"granted\",\"THROUGH\",\"Similar\",\"appointed\",\"Judge\",\"circle_jerking\",\"revenue\",\"anywhere_near\",\"$_40\",\"Your_comment\",\"youtube_video\",\"TL\",\"lining\",\"choir\",\"validated\",\"sins\",\"Nebraska\",\"hoops\",\"Totem\",\"small_children\",\"Sunny\",\"biting\",\"vanish\",\"storylines\",\"cause\",\"viewers\",\"noticed\",\"in_general\",\"PSN\",\"SKT\",\"developed_countries\",\"Check_out\",\"MOBA\",\"REPORT\",\"dice\",\"circlejerks\",\"nono\",\"feel_superior\",\"MO\",\"economics\",\"pls_nerf\",\"upgrades\",\"cynicism\",\"fearful\",\"Living\",\"disappearing\",\"whom\",\"oh_god\",\"jump\",\"retained\",\"forehead\",\"despicable\",\"Assuming\",\"hotness\",\"iPhones\",\"TLC\",\"i_havent\",\"reincarnated\",\"Pluto\",\"extreme\",\"hot_air\",\"unqualified\",\"explosion\",\"misogyny\",\"hah\",\"made\",\"picky\",\"minimap\",\"Haiti\",\"soooooooo\",\"Voting\",\"an_ounce\",\"chemtrails\",\"doctors\",\"INTERNET\",\"tag\",\"natural\",\"onions\",\"KEK\",\"K/D\",\"family_member\",\"marched\",\"an_agenda\",\"academia\",\"advisors\",\"molested\",\"potato\",\"inch\",\"animes\",\"replicate\",\"Mafia\",\"silenced\",\"caveman\",\"GoT\",\"kings\",\"deleting\",\"notch\",\"3ds\",\"Baltimore\",\"swift\",\"several_hundred\",\"Looks_like\",\"lowers\",\"important_part\",\"drivers\",\"fast_enough\",\"rather_than\",\"segment\",\"built-in\",\"Russel\",\"conclusions\",\"Higher\",\"eyebrows\",\"Saw\",\"censored\",\"khan\",\"osrs\",\"coded_as\",\"draws\",\"Oxford\",\"`_`\",\"greatly\",\"Doing\",\"semis\",\"Zlatan\",\"saliva\",\"Saga\",\"age_group\",\"BUT_BUT\",\"although\",\"sided\",\"charcoal\",\"being_held\",\"triple\",\"Hole\",\"figured\",\"in_mysterious\",\"checked\",\"Fireball\",\"Mind\",\"Commander\",\"alliance\",\"ordered\",\"proc\",\"mask\",\"sew\",\"Meanwhile\",\"concentration_camps\",\"appreciate\",\"'s\",\"impeached\",\"gilded\",\"african\",\"Rafael\",\"determine\",\"commerce\",\"into_office\",\"lion\",\"sandbox_mode\",\"much_harder\",\"analytics\",\"10k\",\"Tony_Abbott\",\"hiatus\",\"Pulse\",\"AS\",\"cure\",\"worthless\",\"Either_way\",\"born\",\"caution\",\"more_entertaining\",\"Peppers\",\"Druid\",\"percentages\",\"terminology\",\"bloodborne\",\"googled\",\"NOPE_NOPE\",\"Odyssey\",\"virginity\",\"flushed\",\"Twitter_account\",\"giving_away\",\"korea\",\"specialists\",\"places\",\"tougher\",\"deeper_than\",\"decreased\",\"MALE\",\"MOAR\",\"Prestige\",\"chops\",\"Cavs\",\"Toy\",\"fellow\",\"an_ambulance\",\"surrounding\",\"away_from\",\"fired\",\"endorsements\",\"30s\",\"FIGHT\",\"earning\",\"Skylake\",\"sweetheart\",\"gif\",\"sucked\",\"lifts\",\"colts\",\"of_thrones\",\"61\",\"family_members\",\"Cutler\",\"Hussein\",\"kryptonite\",\"gateway_drug\",\"legal_fees\",\"naive\",\"poisoned\",\"cart\",\"Oh_c'mon\",\"rampage\",\"Millions\",\"Monk\",\"similarly\",\"grant\",\"pushed\",\"Prepare\",\"compendium\",\"Frankly\",\"reproduction\",\"sued\",\"moms\",\"carts\",\"years\",\"agree\",\"Looks\",\"long_time\",\"Only_90s\",\"Radeon\",\"GRRM\",\"^_(\",\"plantation\",\"slip\",\"DOESNT\",\"opposite\",\"bs\",\"guesses\",\"irl\",\"Roar\",\"Totally_legit\",\"Heath\",\"trusts\",\"Flair_checks\",\"documentaries\",\"farce\",\"RAPIST\",\"backstage\",\"illegals\",\"areas\",\"children\",\"EA\",\"stripped\",\"pleased\",\"hooks\",\"damned\",\"rescued\",\"western_world\",\"straight_face\",\"leaderboards\",\"Colonel\",\"Hermione\",\"Ronaldo\",\"crispy\",\"strats\",\"user\",\"housing_market\",\"Mah\",\"ink\",\"down_voted\",\"pumping\",\"our_generation\",\"Goff\",\"playthrough\",\"Titan\",\"Murdoch\",\"Better_than\",\"1st_amendment\",\"nothing_else\",\"iedereen\",\"and_Morty\",\"dear\",\"principles\",\"maar\",\"labor\",\"ribbon\",\"Breathe\",\"Keeping\",\"nice_guy\",\"my_lawn\",\"subliminal\",\"pace\",\"Asshole\",\"initiative\",\"r8\",\"silently\",\"receive\",\"cooks\",\"tiny\",\"Real_men\",\"cammers_fault\",\"depression\",\"preorders\",\"Gulf\",\"folks\",\"poetic\",\"Brad\",\"fuckton\",\"flair_checks\",\"committed_suicide\",\"politicians\",\"[\",\"wasted\",\"smog\",\"enhanced\",\"Slavic\",\"lobbied\",\"displays\",\"Beth\",\"SUB\",\"Thug\",\"b_&\",\"innovate\",\"dispenser\",\"You_spelled\",\"landslide\",\"Deadpool\",\"Blizz\",\"LOVES\",\"sudden\",\"pallet\",\"catered\",\"smash\",\"Director\",\"goo\",\"Chance\",\"his_buddies\",\"Mystic\",\"60_years\",\"USB\",\"racial\",\"classified_information\",\"pinch\",\"Rise\",\"SSW\",\"boiling\",\"search_engine\",\"pressure\",\"FUCKER\",\"peep\",\"airplane_mode\",\"fossils\",\"uber\",\"Welfare\",\"second_half\",\"Takumi\",\"convict\",\"tombstone\",\"teleports\",\"Ethics\",\"his_dad\",\"janitor\",\"footsteps\",\"maintaining\",\"Horford\",\"minors\",\"brag\",\"Joseph_Smith\",\"greater\",\"ta\",\"warcraft\",\"simplify\",\"passionate_about\",\"themselves\",\"two_years\",\"Gateway\",\"marshmallow\",\"Babcock\",\"divide\",\"Tap\",\"denominator\",\"uprising\",\"unlike\",\"Binks\",\"Poseidon\",\"dubstep\",\"multiplier\",\"kys\",\"military\",\"expressing\",\"interpretation\",\"RIGHT_TO\",\"graphs\",\"liberating\",\"testers\",\"sexual_orientation\",\"throttle\",\"talon\",\"accessories\",\"healing\",\"introduce\",\"colorful\",\"Im_guessing\",\"faithful\",\"cavity\",\"Stanley_Cup\",\"COMCAST_COMCAST\",\"creeping\",\"hive\",\"damn\",\"Optic\",\"meanings\",\"MAH\",\"Awkward\",\"wack\",\"foot\",\"binge\",\"Guts\",\"lasts\",\"down_voting\",\"pen\",\"normals\",\"bureaucrats\",\"vigilantes\",\"Control\",\"belly_button\",\"original_joke\",\"Metroid\",\"million_dollars\",\"our_eyes\",\"kidding_me\",\"matchup\",\"boss\",\"fifteen\",\"conveniently\",\"Kid\",\"average_age\",\"gobble\",\"Kadri\",\"sterling\",\"Mei\",\"lumped\",\"raided\",\"concentrated\",\"E\",\"minimalist\",\"god_bless\",\"bison\",\"compromised\",\"history_books\",\"eggs\",\"mitigate\",\"290\",\"settings\",\"cocks\",\"convoluted\",\"casually\",\"GOING_TO\",\"draven\",\"Hitting\",\"Debian\",\"distract\",\"HOH\",\"bike_lane\",\"treason\",\"C\",\"5_months\",\"Harlem\",\"bachelor\",\"hard_working\",\"Oz\",\"wholesale\",\"burritos\",\"Pope_Francis\",\"self_aware\",\"merge\",\"next_month\",\"gp\",\"adam\",\"canvas\",\"George_W\",\"cut_myself\",\"reacted\",\"Twist_:\",\"macro\",\"invade\",\"h\",\"medical_condition\",\"Rumble\",\"homeless\",\"belly\",\"Companies\",\"contributes\",\"matured\",\"certainly\",\"1st_round\",\"charity\",\"150\",\"LMA\",\"photographs\",\"court_system\",\"Same_goes\",\"sugary\",\"conflicts\",\"individuals\",\"Price\",\"before_deciding\",\"VII\",\"ambiguous\",\"operated\",\"Middle_East\",\"blueprints\",\"pursuit\",\"scroll_down\",\"thought_process\",\"London\",\"r/funny\",\"lucky_enough\",\"nukes\",\"Same_here\",\"lab\",\"Wut\",\"was_referring\",\"chewing\",\"in_order\",\"perfectly\",\"surreal\",\"ongoing\",\"infrastructure\",\"remark\",\"conquering\",\"malware\",\"Disco\",\"Such\",\"planted\",\"enact\",\"Amazing\",\"Dubai\",\"for_daring\",\"Return\",\"F.\",\"police_officers\",\"pushed_back\",\"curb\",\"nub\",\"Bharat\",\"stances\",\"canned\",\"their_own\",\"co-worker\",\"EXTREMELY\",\"Rocky\",\"EPA\",\"vengeance\",\"Nobel_Peace\",\"Ponder\",\"charmer\",\"Brand\",\"Made_me\",\"coffee_shop\",\"Dwight\",\"worldnews\",\"Silence\",\"Arizona\",\"conditioned\",\"parking_lot\",\"indicted\",\"went_down\",\"Talking\",\"solo\",\"suspensions\",\"lived\",\"Ekko\",\"were_born\",\"forgot\",\"trump\",\"Kap\",\"elder\",\"prize_pool\",\"Played\",\"whole_point\",\"driveway\",\"Vayne\",\"GamerGate\",\"THEM\",\"thrust\",\"turns_into\",\"giants\",\"stay\",\"One\",\"open_beta\",\"compilation\",\"WBC\",\"therefor\",\"Ricky\",\"hypothetical\",\"Milk\",\"extensive\",\"9\",\"lies\",\"Windows_Phone\",\"Was\",\"vent\",\"Chargers\",\"Nickelback\",\"isolated\",\"truths\",\"CAM\",\"tuck\",\"seized\",\"gender_roles\",\"1.2\",\"steelers\",\"minimal\",\"moderator\",\"Less\",\"stats\",\"puberty\",\"mac\",\"first_glance\",\"'VE\",\"Laine\",\"biases\",\"shipped\",\"admins\",\"unrestricted\",\"scrims\",\"worry_guys\",\"hebben\",\"Senior\",\"Nordic\",\"cup\",\"whoever\",\"Arsenal\",\"rationalize\",\"pronouncing\",\"an_independent\",\"warrior\",\"hots\",\"ironman\",\"mythology\",\"Another_reason\",\"attracts\",\"Omega\",\"nutty\",\"dank\",\"Duncan\",\"cp\",\"b4\",\"Gawker\",\"prematurely\",\"ps3\",\"less\",\"invite\",\"Speech\",\"landing\",\"Playing\",\"playboy\",\"Further_proof\",\"desu_desu\",\"Removed\",\"hairs\",\"recognizes\",\"hunter\",\"Coyotes\",\"Border\",\"indies\",\"florida\",\"barbaric\",\"Ohhhh\",\"repulsive\",\"theft\",\"obscure\",\"coral\",\"Craigslist\",\"readable\",\"New_Day\",\"falling\",\"spotless\",\"1/2\",\"addictive\",\"chess\",\"51\",\"bezel\",\"measuring\",\"plain\",\"creating\",\"censorship\",\"9-5\",\"elimination\",\"Gerald\",\"subscribe\",\"trend\",\"Isis\",\"M_E\",\"Mario_Kart\",\"Maple\",\"Amber\",\"audiences\",\"Disney\",\"vagina\",\"quotes\",\"gaming_PC\",\"tentacle\",\"Added\",\"None_of\",\"Saying\",\"CZ\",\"AND\",\"cures\",\"Feds\",\"cash_shop\",\"expelled\",\"slower_than\",\"juicy\",\"beauty\",\"US_soil\",\"culture\",\"transgender\",\"mattress\",\"efforts\",\"GTX_980\",\"stunt\",\"historically_accurate\",\"Turn_off\",\"'T\",\"polled\",\"ACTUAL\",\"remember_hearing\",\"Fiora\",\"remain\",\"1900\",\"expansion\",\"rolled\",\"Lucian\",\"Unicorn\",\"Score\",\"along\",\"Killer\",\"Appreciate\",\"Someone\",\"body_shaming\",\"Latvia\",\"Australian\",\"assigned\",\"largest\",\"switch\",\"lantern\",\"heists\",\"Paladins\",\"Cutting\",\"final\",\"TANK\",\"Yessir\",\"more_deserving\",\"riot\",\"realities\",\"wikileaks\",\"jolly\",\"rephrase\",\"baseline\",\"full_retard\",\"warned\",\"champ\",\"meteor\",\"pregnant_women\",\"depends\",\"salaries\",\"Geno\",\"BILLION\",\"hockey_player\",\"exploit\",\"sports_car\",\"[_x\",\"My_dad\",\"stood\",\"2d\",\"Gloves\",\"bureaucratic\",\"sabotaging\",\"cams\",\"sidewalk\",\"people\",\"Tips\",\"plan\",\"minute\",\"their_brains\",\"pornstar\",\"engage\",\"proud\",\"Bears\",\"bisexual\",\"assists\",\"superstars\",\"prop_up\",\"firearms\",\"bottled_water\",\"self_post\",\"anymore\",\"democracy\",\"envy\",\"finest\",\"pretty_clear\",\"child_labor\",\"outbreak\",\"step\",\"gray\",\"dessert\",\"Oooooh\",\"Brutal\",\"bursting\",\"tub\",\"sex_offenders\",\"R9_390\",\";_nbsp\",\"Something\",\"Would\",\"BRING\",\"replaceable\",\"portals\",\"absolutely_zero\",\"Flanders\",\"Samsung_Galaxy\",\"Please_explain\",\"1/10\",\"Mad_Men\",\"second_coming\",\"goes_down\",\"few_weeks\",\"all_sorts\",\"borders\",\"trades\",\"pro-life\",\"fool\",\"get_paid\",\"2004\",\"Corvette\",\"Model\",\"Character\",\"Wine\",\"Hilary_Clinton\",\"shh\",\"talks\",\"swing_state\",\"$_100\",\"wormhole\",\"problem\",\"THERE_IS\",\"entire_planet\",\"It_'s\",\"holy_shit\",\"Sold\",\"Devs\",\"ayyy\",\"ban_guns\",\"cartridge\",\"2nd_Amendment\",\"shampoo\",\"surrounded_by\",\"very_helpful\",\"9000\",\"always_leads\",\"Drumpf\",\"high_level\",\"heroes\",\"fat_ass\",\"MDMA\",\"council\",\"NAT\",\"log\",\"equip\",\"recount\",\"heating\",\"New_Yorkers\",\"borrow\",\"laughs_at\",\"Missouri\",\"Gentoo\",\"suffers\",\"horrid\",\"*_sniff\",\"99.9_%\",\"jargon\",\"Must\",\"growing_up\",\"british\",\"Dont_forget\",\"Rocks\",\"highest\",\"gets_elected\",\"millions_of\",\"cone\",\"smith\",\"anal\",\"closer\",\"Upon\",\"Minnesota\",\"definitly\",\"Accurate\",\"contemplate\",\"definition\",\"cutting_edge\",\"basically\",\"wanker\",\"(\",\"roof\",\"enforced\",\"rob\",\"small_indie\",\"machine_guns\",\"promised\",\"can_verify\",\"TF2\",\"demands\",\"my_friend\",\"Warren\",\"adhere\",\"Personal\",\"To_add\",\"LPL\",\"Netanyahu\",\"Ahri\",\"backfiring\",\"stiff\",\"Money\",\"fully_automatic\",\"verge_of\",\"salvation\",\"rookie\",\"Push\",\"east\",\"pr\",\"remake\",\"Obummer\",\"AND_YOU\",\"sake\",\"reloading\",\"7.5\",\"last_season\",\"lunch_break\",\"handheld\",\"IT_TO\",\"fiction\",\"spraying\",\"other_nations\",\"stakes\",\"step_further\",\"great_again\",\"outdoors\",\"champions\",\"by_definition\",\"burdens\",\"Daniels\",\"RC\",\"homie\",\"rim\",\"Roy\",\"tvs\",\"arcade\",\"tinted\",\"entire_country\",\"significant_other\",\"Mother_3\",\"'d_prefer\",\"desi\",\"drug_addicts\",\"VAT\",\"MEMES\",\"perception\",\"RF\",\"sarcastically\",\"headers\",\"nostalgia\",\"whole_world\",\"Duterte\",\"Making\",\"EVE\",\"big_difference\",\"moto\",\"subscribed\",\"My_guess\",\"START\",\"two\",\"Bones\",\"grassroots\",\"an_aimbot\",\"walking_around\",\"white_cis\",\"LoL\",\"Always\",\"memorial\",\"forces\",\"bane\",\"Slayer\",\"Melbourne\",\"mild\",\"Elsa\",\"optical\",\"slant\",\"Had\",\"enjoys\",\"an_iPad\",\"white_guilt\",\"NO_YOU\",\"Warden\",\"Yoda\",\"Donald\",\"resembles\",\"approve\",\"EU_LCS\",\"pants\",\"S1\",\"Aww\",\"Bayern\",\"Perry\",\"tasty\",\"Biden\",\"funnier\",\"JUST\",\"cold_war\",\"side_note\",\"overheating\",\"revelation\",\"XBone\",\"Garrett\",\"never\",\"Comes\",\"monetary\",\"credit\",\"PLAYER\",\"important_things\",\"still_waiting\",\"ejected\",\"engaged_in\",\"surgeon\",\"Shush\",\"pays\",\"consumed\",\"A_R\",\"jumper_cables\",\"sphere\",\"good_thing\",\"see_above\",\"Nuke\",\"100_percent\",\"drinking_water\",\"SCIENCE\",\"notorious_for\",\"stuff\",\"minimum_wage\",\"Watson\",\"Ehhh\",\"Protestant\",\"KZ\",\"Scandinavia\",\"FILTHY\",\"Porter\",\"bad_apples\",\"HOCKEY\",\"trans_people\",\"Unity\",\"safer\",\"jumper\",\"senior\",\"childrens\",\"allegiance\",\"Zelda\",\"disks\",\"present\",\"predicting\",\"variety\",\"overflowing\",\"cropping\",\"opens\",\"descent\",\"dev_team\",\"My_girlfriend\",\"operates\",\"CoD\",\"'m_sure\",\"saudi\",\"George_Lucas\",\"exposed\",\"united\",\"Goodbye\",\"fallacy\",\"brink\",\"meant\",\"staying\",\"crumbling\",\"discrete\",\"Scots\",\"waited_until\",\"Plant\",\"average_American\",\"dit\",\"influenced_by\",\"ARG\",\"upwards\",\"AAP\",\"Lance\",\"anatomy\",\"deadlifts\",\"Da\",\"Seconded\",\"nickel\",\"16th\",\"other_cultures\",\"looting\",\"Morgana\",\"notices\",\"perv\",\"appreciation\",\"unprofessional\",\"3/10\",\"Turkey\",\"Alive\",\"width\",\"she\",\"humping\",\"Ritual\",\"Firefox\",\"single_target\",\"periods\",\"abroad\",\"ilvl\",\"BOLD\",\"body_fat\",\"Denial\",\"sports_fan\",\"Sasha\",\"shits\",\"mass_murder\",\"beefy\",\"eastern\",\"courier\",\"backlash\",\"Assault\",\"gave_birth\",\"condemned\",\"universes\",\"retailers\",\"short\",\"ogre\",\"ps2\",\"Morrowind\",\"spices\",\"hunter2\",\"nonstop\",\"DE\",\"twins\",\"Alienware\",\"most_efficient\",\"dry\",\"lower_taxes\",\"proper\",\"copyright_infringement\",\"10\",\"DR_:\",\"am\",\"Hang\",\"immunity\",\"smirk\",\"TPP\",\"lax\",\"Buzzfeed\",\"sorry\",\"sanctioned\",\"MOTHER\",\"RIGHT_NOW\",\"tabs\",\"ummm\",\"bleach\",\"handled\",\"goggles\",\"debts\",\"TALKING\",\"falling_down\",\"anti-national\",\"intervening\",\"Theory\",\"dwellers\",\"Gavin\",\"RAW\",\"last_summer\",\"Harry_Potter\",\"anti-semitism\",\"hay\",\"massacre\",\"rulings\",\"BLAME\",\"Opinions\",\"an_argument\",\"settlers\",\"briefcase\",\"0_%\",\"Saving\",\"7/10\",\"DX12\",\"wool\",\"SENSE\",\"anybody_else\",\"Guys\",\"trigger\",\"their_respective\",\"broken_leg\",\"de_la\",\"coverup\",\"commodities\",\"housewife\",\"administrators\",\"air\",\"Protect\",\"entire\",\"Every_day\",\"time_frame\",\"gender_equality\",\"Buddha\",\"Mexicans\",\"deer\",\"injury\",\"trivial\",\"include\",\"silencing\",\"Worse_than\",\"movie\",\"Tbh\",\"complain\",\"feminazi\",\"rains\",\"hive_mind\",\"passer\",\"integration\",\"RIGGED\",\"Andrew_Jackson\",\"necessarily\",\"DW\",\"pregnancies\",\"Wouldnt\",\"loss\",\"CLG\",\"plead\",\"Remember_kids\",\"Sammy\",\"breakout\",\"Shaun\",\"WHY_ARE\",\"scrim\",\"altruism\",\"fatter\",\"bows\",\"uncontrollably\",\"disguised_as\",\"playstyle\",\"mistaking\",\"more\",\"YouTube_comments\",\"hate_train\",\"limbs\",\"Draft\",\"WiFi\",\"Bortles\",\"queer\",\"Headline\",\"orthodox\",\"Lord\",\"PSA\",\"sila\",\"cinema\",\"most_expensive\",\"coming_from\",\"LNP\",\"revealing\",\"prequel\",\"application\",\"Should\",\"rental\",\"flown\",\"Noo\",\"9_months\",\"defend_himself\",\"'_e\",\"whos\",\"keep_posting\",\"illuminati\",\"Pass\",\"directory\",\"his_rookie\",\"weighs\",\"threaten\",\"2_seconds\",\"Competition\",\"Dollar\",\"NO_NO\",\"an_AR-15\",\"something_along\",\"most_accurate\",\"star_citizen\",\"documentary\",\"bot\",\"shaved\",\"Survival\",\"Allen\",\"hobo\",\"fucking_disgusting\",\"FM\",\"paint_job\",\"discomfort\",\"first_sentence\",\"world_champion\",\"Rock\",\"dare\",\"Omg\",\"adultery\",\"NFL\",\"Heroes\",\"Rambo\",\"cheerleader\",\"destructive\",\"BRAIN\",\"graceful\",\"84\",\"These_guys\",\"Eyes\",\"DOLLARS\",\"RUSSIAN\",\"ss\",\"Vegas\",\"inherently\",\"calling\",\"RPGs\",\"rumour\",\"shutting_down\",\"doubly\",\"luxurious\",\"takes_away\",\"smoker\",\"diminish\",\"Spoiler\",\"rockets\",\"Thank\",\"iPod\",\"whitest\",\"my_friends\",\"patience\",\"message\",\"north\",\"AoE\",\"oppress_women\",\"survivor\",\"effort_into\",\"Google_Fiber\",\"Broken\",\"hivemind\",\"Rochester\",\"Grand_Theft\",\"switches\",\"draining\",\"vanity\",\"athleticism\",\"an_indication\",\"Reus\",\"tackled\",\"superiority\",\"Spider-Man\",\"jumps\",\"145\",\"Emerald\",\"overrun\",\"Raid\",\"Context\",\"Ive_seen\",\"israeli\",\"beads\",\"halal\",\"blurred\",\"stage\",\"configuration\",\"24_fps\",\"uphold\",\"soooo\",\"gay_rights\",\"liverpool\",\"pre-existing\",\"Phillies\",\"pill\",\"veteran\",\"Suddenly\",\"womyn\",\"aggressively\",\"pitcher\",\"toilets\",\"promote\",\"loneliness\",\"those_darn\",\"theres\",\"r9\",\"communism\",\"helped_him\",\"omitted\",\"7-11\",\"ponies\",\"Meaning\",\"late_night\",\"SA\",\"NYPD\",\"KEEP\",\"swept\",\"bans\",\"wear\",\"schemes\",\"titans\",\"too_complicated\",\"homebrew\",\"reminiscent_of\",\"slope\",\"Wells\",\"fatigue\",\"recovered\",\"Use\",\"Consider\",\"Li\",\"entry_level\",\"Bravo\",\"Owens\",\"most_popular\",\"Beethoven\",\"woman_president\",\"Technology\",\"grab\",\"critical_thinking\",\"hurtful\",\"wot\",\"decision_making\",\"Been\",\"Mignolet\",\"professionalism\",\"eliminate\",\"managed\",\"toxic\",\"centre\",\"bashed\",\"factor\",\"nobody\",\"lesson\",\"keyboard\",\"focusing_on\",\"discussion\",\"4.0\",\"easiest\",\"quiz\",\"Modiji\",\"PRO\",\"Phaneuf\",\"printing\",\"expressions\",\"older_brother\",\"conquer\",\"abortions\",\"douches\",\"Wind\",\"6.5\",\"ambient\",\"believer\",\"super_excited\",\"gossip\",\"mastered\",\"automatically_makes\",\"dilemma\",\"fanart\",\"yield\",\"sausage\",\"human_being\",\"Reno\",\"remade\",\"entertain\",\"swallowed\",\"Started\",\"smoothly\",\"looser\",\"territory\",\"IWC\",\"Ontario\",\"mention\",\"view\",\"far_away\",\"huge_fan\",\"cpus\",\"clicks\",\"parole\",\"trafficking\",\"rest\",\"crown\",\"financial_crisis\",\"Patton\",\"upgrade\",\"Douche\",\"penguin\",\"fort\",\"Research\",\"critics\",\"pops\",\"restriction\",\"urinal\",\"awkward_moment\",\"kulcha\",\"wrong\",\"payment\",\"emotions\",\"poison\",\"laying_around\",\"dominates\",\"bananas\",\"defamation\",\"manually\",\"cyber\",\"Desert\",\"interrupting\",\"ethernet\",\"faggot\",\"1.8\",\"indian\",\"Toon\",\"betray\",\"his_wife\",\"an_infinite\",\"Vodka\",\"Trump_presidency\",\"professions\",\"FOR_YOU\",\"unlikely\",\"fortunate\",\"grown_man\",\"holy_fuck\",\"prude\",\"criticizing\",\"2_weeks\",\"Written\",\"POLICE\",\"creations\",\"Skinny\",\"Steve\",\"free_throws\",\"debris\",\"sharpie\",\"bombing\",\"tags\",\"Agreed\",\"Hammer\",\"inc\",\"banners\",\"flashed\",\"Stealth\",\"Catholic\",\"relating\",\"GPU\",\"fraction_of\",\"Wrestlemania\",\"part_where\",\"dark_souls\",\"upsets\",\"passive-aggressive\",\"supernatural\",\"Clock\",\"order\",\"hugs\",\"chocolate_milk\",\"silk\",\"storms\",\"Defense\",\"White_House\",\"opened\",\"Satan\",\"referred_to\",\"spandex\",\"crank\",\"legitimate\",\"CS_GO\",\"Yea_cause\",\"freely\",\"Robbie\",\"very_intelligent\",\"affected\",\"midst_of\",\"replying\",\"Islands\",\"LBJ\",\"credentials\",\"rate\",\"stereotyping\",\"falling_asleep\",\"ejaculate\",\"Mayweather\",\"Sticks\",\"Python\",\"romo\",\"13_years\",\"punctuation\",\"boom\",\"Regi\",\"gender_neutral\",\"dongle\",\"suburb\",\"clips\",\"Radical\",\"Color\",\"Sub\",\"USE\",\"exo\",\"YOURE\",\"Macklemore\",\"nooooo\",\"subscriptions\",\"annex\",\"EC\",\"Pft\",\"disagreement\",\"foreign_policy\",\"darker_than\",\"hashtag\",\"spree\",\"Bunny\",\"music_videos\",\"all_seriousness\",\"Exxon\",\"please_remove\",\"Nitro\",\"Children\",\"RUN\",\"nips\",\"objectives\",\"management\",\"treats\",\"relieve\",\"Land\",\"steaming\",\"SATA\",\"LETS\",\"minimum\",\"lose_weight\",\"repeats\",\"That\",\"sli\",\".500\",\"oppressive\",\"fracture\",\"Samus\",\"thumbs\",\"Hawaiian\",\"other_news\",\"brought_up\",\"ON_MY\",\"dumps\",\"Jayce\",\"protagonists\",\"MIB\",\"much_better\",\"Juve\",\"bottom_left\",\"rebuttal\",\"tax_payer\",\"Ow\",\"meer\",\";_}\",\"ALREADY\",\"run_away\",\"Tip\",\"Penis\",\"Aquaman\",\"stain\",\"mountain\",\"lolol\",\"our_culture\",\"daddy\",\"First\",\"painting\",\"pro-choice\",\"OFFENDED\",\"blows_up\",\"Beyond\",\"discriminated_against\",\"karma_train\",\"superpowers\",\"smelled\",\"gearbox\",\"figurines\",\"Bar\",\"gestures\",\"thor\",\"Friday\",\"bare\",\"never_lied\",\"without_any\",\"drill\",\"LIKE\",\"Stanford\",\"Dome\",\"feedback\",\"our_roads\",\"Spoiler_:\",\"from_scratch\",\"chained\",\"bends\",\"furthering\",\"murdering\",\"collecting\",\"Kind\",\"vaginas\",\"UEFA\",\"NEWS\",\"their_heads\",\"Automatic\",\"K\",\"reel\",\"magnet\",\"porn_stars\",\"EYES\",\"stopped_using\",\"SICK\",\"Pakistan\",\"Juventus\",\"invulnerable\",\"sneaks\",\"education_system\",\"tropes\",\"tries\",\"$_300\",\"lagging\",\"Nooooo\",\"Wolverine\",\"leak\",\"2012\",\"Vandy\",\"South\",\"ask_questions\",\"hanger\",\"every_aspect\",\"sits\",\"4v5\",\"chairman\",\"hyperbole\",\"trendy\",\"tear\",\"Ikr\",\"worded\",\"fatshaming\",\"Terraria\",\"Irishman\",\"heinous\",\"Pulisic\",\"treble\",\"long-term\",\"dickheads\",\"racism\",\"BAZINGA_BAZINGA\",\"gee\",\"absorbing\",\"shade\",\"spouting\",\"foxy\",\"animation\",\"historic\",\"gave_him\",\"XD_XD\",\"address\",\"cycle\",\"SAID\",\"THEN\",\"mercury\",\"Rubio\",\"islamophobic\",\"Jimbo\",\"younger_than\",\"pillar_of\",\"felt\",\"their_customers\",\"prize\",\"scouts\",\"responsible_for\",\"urf\",\"blew_up\",\"Snyder\",\"YOU_'RE\",\"raising\",\"katana\",\"bkb\",\"Montreal\",\"quality_content\",\"dope\",\"Commonwealth\",\"electrons\",\"slaughter\",\"terran\",\"situational\",\"spit\",\"NY\",\"tried_turning\",\"Tuesday\",\"Quantum\",\"dripping\",\"envelope\",\"gigantic\",\"scratched\",\"guest\",\"Rick\",\"tryin\",\"handing_out\",\"WORK\",\"fancy\",\"Sudan\",\"sticking_out\",\"sry\",\"initially\",\"UR\",\"Jeeze\",\"Since_when\",\"browsers\",\"Information\",\"report_back\",\"releasing\",\"certified\",\"sauce\",\"local_news\",\"Realistically\",\"prisons\",\"cockpit\",\"Reasons\",\"Wade\",\"worry\",\"far_worse\",\"wii\",\"Map\",\"originals\",\"want\",\"asthma\",\"wolf\",\"assessment\",\"Lin\",\"freeways\",\"scarce\",\"resemble\",\"tactics\",\"level\",\"FBI\",\"squirt\",\"Kawhi\",\"reporters\",\"which_means\",\"punishable_by\",\"create_jobs\",\"Citizen\",\"Whats\",\"enhance\",\"15_minute\",\"Commenting\",\"END\",\"numerous\",\"60\",\"Brother\",\"HOPE\",\"Step_3\",\"can_easily\",\"worry_about\",\"oppresses\",\"sporting\",\"adventures\",\"commenting\",\"DayZ\",\"Hawkeye\",\"lube\",\"prototype\",\"high_quality\",\"skills\",\"unstoppable\",\"downgraded\",\"f_*\",\"got_fired\",\"DEFINITELY\",\"Stannis\",\"solves\",\"humanity\",\"THE\",\"crit\",\"addressing\",\"Metallica\",\"gram\",\"7k\",\"dedicated\",\"Away\",\"coup\",\"Bully\",\"Chris\",\"ported\",\"fossil\",\"an_extremely\",\"Dublin\",\"'Murican\",\"multiple_accounts\",\"wake\",\"bailout\",\"spectacular\",\"russians\",\"strict\",\"stopping\",\"taken_advantage\",\"distress\",\"haunted\",\"Scarra\",\"28th\",\"shows\",\"weer\",\"WP\",\"Mazda\",\"on_Drugs\",\"purchased\",\"Let\",\"next_generation\",\"hole\",\"thank_goodness\",\"realised\",\"properly\",\"god_damn\",\"dialogue\",\"shoving\",\"Hitman\",\"cargo_shorts\",\"knockout\",\"extraordinary\",\"embrace\",\"1v5\",\"reread\",\"Cell\",\"fed_up\",\"mas\",\"richer\",\"antivirus\",\"upvotes\",\"feds\",\"formation\",\"10_seconds\",\"an_announcement\",\"thrown_into\",\"faked\",\"nazis\",\"title\",\"Bigot\",\"anyways\",\"heroic\",\"3-1\",\"unemployment\",\"lover\",\"Cal\",\"retiring\",\"Carbon\",\"BEEN\",\"Contact\",\"Card\",\"wrecks\",\"booking\",\"satisfied_with\",\"Cafe\",\"gone_through\",\"feeding\",\"reminds\",\"veganism\",\"backed_by\",\"ramen\",\"Torture\",\"Colby\",\"misses\",\"r/politics\",\"15_years\",\"an_apology\",\"bc\",\"mobs\",\"Surprise\",\"then_proceed\",\"druids\",\"elevator\",\"viewership\",\"stealth\",\"gtfo\",\"mutilated\",\"did_n't\",\"pissy\",\"Christ\",\"subreddit\",\"tolls\",\"unhelpful\",\"sole_reason\",\"challenge\",\"sooner\",\"cognitive\",\"flick\",\"Liam\",\"tree_fiddy\",\"weet\",\"sluts\",\"expand\",\"eaten_by\",\"Very\",\"purpose\",\"despair\",\"fatass\",\"fuckwit\",\"perform\",\"job\",\"cigars\",\"subject\",\"46\",\"donations\",\"BALANCED\",\"CPUs\",\"yu\",\"hate_freedom\",\"RIGHTS\",\"cracking\",\"grappling\",\"distribute\",\"lmao\",\"mineral\",\"underestimating\",\"national_security\",\"orgasm\",\"castles\",\"bloatware\",\"Atheists\",\"Meth\",\"TIME_TO\",\"vector\",\"rengar\",\"pope\",\"x2\",\"payday\",\"Lying\",\"Greece\",\"medical_marijuana\",\"antibiotics\",\"booted\",\"lamp\",\"prohibited\",\"available\",\"craigslist\",\"My\",\"DO_IT\",\"tolerance\",\"narcissist\",\"Chandler\",\"force\",\"ethics\",\"mad\",\"bullies\",\"been_proven\",\"evaluate\",\"GGG\",\"Happiness\",\"Disable\",\"confusion\",\"no_reason\",\"Volkswagen\",\"balances_out\",\"bmw\",\"strategies\",\"Listening\",\"proportion\",\"prof\",\"indie_game\",\"republicans\",\"racist_against\",\"8th\",\"Bass\",\"scissors\",\"patron\",\"vegetable\",\"11/10\",\":_\\\\^\",\"PAX\",\"blaze\",\"marking\",\"Anniversary\",\"estimation\",\"non_existent\",\"Spray\",\"birds\",\"citations\",\"IS_BETTER\",\"2030\",\"Moon\",\"Daily_Show\",\"degrading\",\"queue_times\",\"bottleneck\",\"certain\",\"j\",\"manpower\",\"smiling\",\"owl\",\"difference\",\"libruls\",\"nerfing\",\"democratically_elected\",\"Emily\",\"thrown\",\"prick\",\"soldier\",\"perfect_solution\",\"persecuted\",\"single-handedly\",\"At_least\",\"Ironman\",\"any_chance\",\"trilogy\",\"executed\",\"podcasts\",\"Dream\",\"vice\",\"routine\",\"PTS\",\"choose_between\",\"argument\",\"enjoyment\",\"i_swear\",\"Where\",\"favoring\",\"JB\",\"grown_ass\",\"massive_amounts\",\"refrigerator\",\"1930\",\"3.6\",\"WW1\",\"Em\",\"vessels\",\"Mail\",\"dibs\",\"scenario_where\",\"Simulator\",\"Rutgers\",\"Half\",\"linked\",\"clue_what\",\"Emirates\",\"knight\",\"registration\",\"rollercoaster\",\"Meme\",\"Movement\",\"Kylo\",\"s7\",\"Lazy\",\"trademarked\",\"might\",\"Oh\",\"elites\",\"sicko\",\"BASED\",\"one-sided\",\"Olaf\",\"runway\",\"Helen\",\"Nevermind\",\"maple_syrup\",\"b-b-but\",\"log_into\",\"non-whites\",\"West\",\"Forge\",\"integrated\",\"makers\",\"A_lot\",\"bail\",\"implies\",\"opponents\",\"Serbia\",\"Also\",\"Mormonism\",\"speed_limit\",\"imagine_why\",\"And_yet\",\"FSA\",\"Mango\",\"Spring\",\"battery\",\"BUT_HE\",\"charities\",\"tie\",\"fucking_brilliant\",\"tin_foil\",\"Nah_bro\",\"strike\",\"Valve\",\"conference\",\"begging_for\",\"Mandatory\",\"ftw\",\"reached\",\"retires\",\"Happy_Holidays\",\"tying\",\"league\",\"chump\",\"good_idea\",\"August\",\"thermite\",\"Barry\",\"berry\",\"statue\",\"vlog\",\"gamergate\",\"Wonderful\",\"compliments\",\"reach\",\"Madden\",\"Great_Britain\",\"poet\",\"HAS_TO\",\"weak\",\"participated_in\",\"high_powered\",\"films\",\"Juno\",\"left_behind\",\"ape\",\"LAND\",\"Whore\",\"atleast\",\"briefly\",\"Dangerous\",\"Symmetra\",\"onto\",\"Patreon\",\"country\",\"hospital\",\"Its_okay\",\"depressing\",\"2.4\",\"escalated_quickly\",\"HERO\",\"thereby\",\"despite\",\"never_met\",\"MAKES\",\"750\",\"IT_'S\",\"gun_laws\",\"lookin_'\",\"seeks\",\"nitpicking\",\"sacred\",\"introduction\",\"Bull\",\"asexual\",\"PLS\",\"Dank\",\"mousepad\",\"particle\",\"meth\",\"Draw\",\"masturbate\",\"gained\",\"vast_majority\",\"negativity\",\"Progressive\",\"Rondo\",\"voted_for\",\"birth_certificate\",\"optics\",\"Capcom\",\"wrench\",\"cooldowns\",\"membrane\",\"bigger\",\"raiders\",\"Un\",\"Mata\",\"Hungary\",\"Derek\",\"Food\",\"greats\",\"referenced\",\"well_spent\",\"+100\",\"//redditenhancementsuite.com_)\",\"ranked\",\"treat\",\"700\",\"celebrate\",\"wonder_why\",\"Invasion\",\"Arctic\",\"Venus\",\"dawg\",\"mainstream_media\",\"reuse\",\"casting\",\"killing\",\"frame_rate\",\"sunt\",\"fully_understand\",\"inviting\",\"HOUSE\",\"fantasy_team\",\"southerners\",\"odd\",\"stressed\",\"typo\",\"entire_family\",\"Buffy\",\"ignored\",\"suggested\",\"rappers\",\"a_bunch\",\"M_A\",\"u_mad\",\"VW\",\"One_day\",\"guy_named\",\"stuck\",\"by_default\",\"resent\",\"dex\",\"cares_about\",\"dimensional\",\"west\",\"discounted\",\"guardians\",\"adjustment\",\"Joey\",\"LSU\",\"Ali\",\"software\",\"recon\",\"Yer\",\"They_'re\",\"dirt_cheap\",\"Binding_of\",\"loadout\",\"shhh\",\"lying_about\",\"Woo\",\"woke_up\",\"mindset\",\"CCP\",\"discussed\",\"Count_me\",\"sharper\",\"Kyrie\",\"politically\",\"2025\",\"exclusives\",\"soooooo\",\"Arsene\",\"Sharia\",\"almost_exclusively\",\"usual\",\"tomb\",\"appeared\",\"Cunt\",\"ins\",\"pothead\",\"suing\",\"intentional\",\"Pretty_sure\",\"an_engineer\",\"A_MAN\",\"Josh\",\"dying\",\"OF_MY\",\"dick_pic\",\"down_vote\",\"sequels\",\"dishwasher\",\"GS\",\"heaven_forbid\",\"restoring\",\"o.O\",\"fit\",\"Similarly\",\"comrades\",\"ABC\",\"Never_knew\",\"below_average\",\"500+\",\"Name\",\"shortcut\",\"smack\",\"driver\",\"wrapped_up\",\"Chronicles\",\"whichever\",\"flare\",\"whistles\",\"Student\",\"lol\",\"second_class\",\"$_350\",\"YouTube_channel\",\"24fps\",\"Lowry\",\"Chapter\",\"FOUND\",\"judged\",\"Viktor\",\"soggy\",\".gif\",\"Fill\",\"championships\",\"hotline\",\"legitimacy\",\"heart_attack\",\"Green_Party\",\"hangover\",\"receiving\",\"nay\",\"cafeteria\",\"jeez\",\"Granny\",\"until\",\"alone\",\"Nuts\",\"internet_connection\",\"tells\",\"arabic\",\"Fuel\",\"laughed\",\"phone_call\",\"miscarriage\",\"slang\",\"vehicles\",\"lighten_up\",\"goddamn_antisemitic\",\"spinoff\",\"seems_reasonable\",\"Norm\",\"indie\",\"flopped\",\"her_ult\",\"year_ago\",\"GMOs\",\"McAfee\",\"toned\",\"managers\",\"lul\",\"pm\",\"refs\",\"burn\",\"CARD\",\"manner\",\"rant_about\",\"Reminds_me\",\"into_starvation\",\"messy\",\"turned\",\"string\",\"satire\",\"SOCIALIST\",\"lineups\",\"protoss\",\"an_i5\",\"Culture\",\"cheaper\",\"weaker_than\",\"our_lives\",\"Bishop\",\"cheesing\",\"Danish\",\"facing\",\"300_%\",\"ill_try\",\"Angels\",\"breastfeeding\",\"certs\",\"divorced\",\"BABY\",\"Books\",\"admission\",\"zoo\",\"fade\",\"main_character\",\"She_looks\",\"/\",\"Peter_Parker\",\"mess_around\",\"subsidize\",\"Venice\",\"spying\",\"dumbest\",\"distracted_by\",\"KSP\",\"Collins\",\"Mormon\",\"vindictive\",\"fresh_water\",\"Shhh\",\"Audio\",\"Dude\",\"overclocking\",\"12_months\",\"spiders\",\"phrase_``\",\"Seinfeld\",\"Bucks\",\"robbed\",\"rock\",\"und\",\"revealed\",\"fair_amount\",\"Bangalore\",\"closes\",\"an_appropriate\",\"eh_?\",\"Patrol\",\"hard\",\"cu\",\"ally\",\"playtime\",\"clueless\",\"BETTER_THAN\",\"deprived\",\"delegate\",\"undergrad\",\"demonstrating\",\"Cooler\",\"gun_control\",\"spend_money\",\"Ellen\",\"reset\",\"AFTER\",\"akin_to\",\"Speak\",\"vaping\",\"Hinkie\",\"Blackberry\",\"heartless\",\"proves\",\"Suns\",\"Israel\",\"torpedo\",\"become\",\"stall\",\"resources\",\"waterboarding\",\"banking\",\"FPS\",\"after_reading\",\"conscious\",\"Sharks\",\"cheddar\",\"Through\",\"definitions\",\"hosted\",\"10/10_would\",\"Oh_yay\",\"damning\",\"Cold\",\"anecdotal_evidence\",\"freezes\",\"Last\",\"elaborate\",\"McConnell\",\"sacked\",\"pistol\",\"comment_karma\",\"Kate\",\"canceled\",\"TF\",\"portion_of\",\"low_cost\",\"chad\",\"similar_situation\",\"xp\",\"Odell\",\"suggests\",\"sovereign\",\"condition\",\"casinos\",\"publicity\",\"FUCK\",\"boot\",\"1960\",\"picked_up\",\"bonkers\",\"google_maps\",\"generosity\",\"App\",\"r/atheism\",\"manned\",\"Gragas\",\"kits\",\"adjustments\",\"WWI\",\"propeller\",\"self-esteem\",\"established\",\"turf\",\"Napoli\",\"visual_glitch\",\"strongly\",\"PERFECT\",\"mons\",\"mobo\",\"lettuce\",\"follows\",\"wheres\",\"NRA\",\"deserve\",\"Counter_Strike\",\"planets\",\"cyanide\",\"submerged\",\"career\",\"Elo\",\"destroying\",\"shame\",\"instruction\",\"announced\",\"Stop_victim\",\"ga\",\"Leaving\",\"cash\",\"efficiency\",\"Seahawks_fans\",\"adorable\",\"negatives\",\"Melee\",\"SoCal\",\"refuse\",\"DJ\",\"remind_me\",\"exempt\",\"batch\",\"Ravens\",\"skeptical\",\"0-2\",\"playoff_game\",\"confess\",\"winged\",\"an_elitist\",\"Dungeons\",\"micro\",\"big_deal\",\"lumberjack\",\"McCown\",\"cos\",\"Te\",\"root\",\"be_thanking\",\"$_50\",\"kicked_out\",\"tasteless\",\"qb\",\"c\",\"Jean\",\"men\",\"euphemism\",\"theirs\",\"OUT_OF\",\"demoted\",\"ORDER\",\"Gmail\",\"Belgium\",\"anonymous\",\"an_accident\",\"bonuses\",\"Lisa\",\"kiss\",\"fite_me\",\"turmoil\",\"tweet\",\"NX\",\"rulers\",\"absorbs\",\"*_woosh\",\"horrified\",\"Whole_Foods\",\"missionary\",\"paragon\",\"massage\",\"card_draw\",\"sitting_next\",\"determining\",\"casual_players\",\"shirt\",\"aiming\",\"Astros\",\"Twin\",\"cuddly\",\"comes\",\"babies\",\"gutter\",\"BURN\",\"Pffft\",\"must_be\",\"go_anywhere\",\"Hahahahaha\",\"much_nicer\",\"o\",\"European_countries\",\"xbone\",\"two_different\",\"moon\",\"RFID\",\"contested\",\"reads\",\"betrayed\",\"Dick\",\"Monsters\",\"solar\",\"Neither_did\",\"widows\",\"dashboard\",\"Range\",\"Save\",\"Sheep\",\"bargain\",\"Reaper\",\"LEAGUE\",\"Mountain\",\"people_who\",\"Snoop\",\"cred\",\"nowhere_near\",\"off\",\"Wayne\",\"furiously\",\"scorer\",\"mainly\",\"deadlines\",\"Molly\",\"F-35\",\"executing\",\"hiking\",\"pins\",\"planning_on\",\"patriots\",\"H\",\"miners\",\"Madison\",\"Terrorism\",\"nothin\",\"Korean\",\"sorted\",\"polygamy\",\"polar_bears\",\"SHITLORD\",\"methods\",\"inside\",\"morally\",\"compassionate\",\"thigh\",\"armpits\",\"eagles\",\"TDM\",\"pits\",\"Fellow\",\"sustainable\",\"godly\",\"is\",\"becomes_president\",\"appalled\",\"chargers\",\"Breaking_Bad\",\"Lebron\",\"Laptop\",\"enjoyable\",\"means\",\"popped_up\",\"Terra\",\"an_advantage\",\"Raw\",\"EE\",\"vampires\",\"Jerusalem\",\"on_eBay\",\"liberated\",\"settle_for\",\"economy\",\"Castle\",\"01101001\",\"Afaik\",\"polio\",\"playful\",\"ginger\",\"Connor\",\"liked\",\"View\",\"non-white_people\",\"Riiiight\",\"white_house\",\"generating\",\"meantime\",\"EXACTLY_what\",\"surprisingly\",\"selfies\",\"regretting\",\"Crown\",\"sensibilities\",\"switched\",\"NUMBER\",\"inform\",\"steel_beams\",\"Ps4\",\"has_taught\",\"forwards\",\"heavens\",\"painless\",\"astounding\",\"forgetting\",\"must\",\"Bill_Clinton\",\"instruments\",\"ask\",\"lever\",\"Bugs\",\"next_year\",\"king\",\"11_years\",\"regard\",\"Gujarat\",\"owners\",\"Remote\",\"talking_about\",\"Venezuelan\",\"disagree\",\"voluntarily\",\"OCD\",\"friggin\",\"potential\",\"packaged\",\"avengers\",\"acted\",\"torrent\",\"checking\",\"WE_SHOULD\",\"hardworking\",\"Positive\",\"hot_dogs\",\"Become\",\"finisher\",\"Eh\",\"second_language\",\"mice\",\"Neymar\",\"feeder\",\"beheaded\",\"explicitly\",\"agony\",\"young\",\"da_real\",\"Cheese\",\"Julio\",\"perjury\",\"palm\",\"renamed\",\"hassle\",\"ravens\",\"christ\",\"counts_as\",\"China\",\"Dumb\",\"Atlanta\",\"fighter_jet\",\"wording\",\"ENTIRE\",\"menu\",\"Trigger\",\"subtract\",\"fire_department\",\"texas\",\"how_badly\",\"wo\",\"spacebar\",\"box_office\",\"m9\",\"appeals\",\"snek\",\"fence\",\"siding_with\",\"impacts\",\"brake\",\"Norwegian\",\"laws\",\"invites\",\"Train\",\"Ima\",\"Saint\",\"caused_by\",\"Try\",\"gets_posted\",\"alpha\",\"Professional\",\"anomaly\",\"his_followers\",\"planned\",\"kite\",\"expectation\",\"Presidency\",\"THE_CHILDREN\",\"portions\",\"conspiracies\",\"Deathstroke\",\"Cisco\",\"liking\",\"peddling\",\"matchmaking\",\"boxed\",\"illiterate\",\"huh_?\",\"deck\",\"raise\",\"society\",\"tires\",\"STEALING\",\"albeit\",\"wayyyy\",\"Phone\",\"jest\",\"Good\",\"around\",\"coordinate\",\"protestors\",\"gracious\",\"paying\",\"Dawkins\",\"particular\",\"tax_evasion\",\"irrationally\",\"illegal_immigrant\",\"ITS\",\"netcode\",\"button\",\"closure\",\"blessing\",\"pacific\",\"glimmer\",\"Oh_dear\",\"alot\",\"kno\",\"nodes\",\"Kinect\",\"journalistic\",\"Alone\",\"manchild\",\"3_mana\",\"important_questions\",\"concentrate\",\"commenting_on\",\"McD\",\"those_dirty\",\"fist\",\"woah\",\"snark\",\"Creep\",\"R1\",\"early_access\",\"Italians\",\"affordable\",\"r/hailcorporate\",\"platform\",\"admirable\",\"emergency\",\"LOOK_AT\",\"recession\",\"SUCK\",\"mascot\",\"Now_kiss\",\"Brazzers\",\"perfection\",\"pleasing\",\"WB\",\"an_iphone\",\"50_million\",\"unreadable\",\"stop\",\"Low\",\"scott\",\"friendo\",\"San_Antonio\",\"cute_little\",\"pressures\",\"THOUGH\",\"^^^\",\"whoring\",\"PART_OF\",\"push-ups\",\"public_health\",\"parkour\",\"Febiven\",\"Your_logic\",\"terrorist_groups\",\"couple_minutes\",\"WOAH\",\"KIDS\",\"Holy_shit\",\"anthem\",\"maxed\",\"manage\",\"Whelp\",\"Ha\",\"household\",\"arrest\",\"noble\",\"nuking\",\"locker_room\",\"proposing\",\"Shadow\",\"dear_leader\",\"computing\",\"hip_hop\",\"redemption\",\"GETTING\",\"RNG\",\"intentionally\",\"been_waiting\",\"Jackie\",\"reception\",\"strive\",\"disk\",\"ITS_ALL\",\"Newman\",\"centuries\",\"lingo\",\"the\",\"lefties\",\"apartheid_state\",\"DARE\",\"engineered\",\"Kevin_Durant\",\"task_manager\",\"HITLER\",\"major_city\",\"at_home\",\"tore\",\"Reich\",\"Pls\",\"ladder\",\"splash\",\"Oct\",\"Java\",\"tiene\",\"attitudes\",\"fanboy\",\"mindless\",\"my_childhood\",\"ideas\",\"article\",\"five\",\"iconic\",\"New_York\",\"pros_use\",\"smells_like\",\"army\",\"shut_up\",\"Test\",\"77\",\"humane\",\"whats_going\",\"JUST_LIKE\",\"Habs\",\"national_team\",\"videos\",\"death_threats\",\"outfits\",\"dress_up\",\"named_after\",\"an_infant\",\"background\",\"motivated\",\"cruiser\",\"'re_supposed\",\"knuckles\",\"bounced\",\"raping\",\"brave\",\"jacked\",\"soon\",\"M9\",\"Apex\",\"hate_speech\",\"awww\",\"dummies\",\"CLASS\",\"embodiment_of\",\"shortly_after\",\"Arthur\",\"butcher\",\"civil_war\",\"misogynists\",\"region\",\"glitter\",\"presumably\",\"appealing\",\"stated\",\"suicide_bombers\",\"fucking\",\"mics\",\"herpes\",\"hopeful\",\"Unidan\",\"geese\",\"SEA\",\"IPs\",\"WhatsApp\",\"Nazi_Germany\",\"keyword\",\"loving\",\"Justin_Bieber\",\"tempting\",\"carefully\",\"my_uncle\",\"waited\",\"Yikes\",\"enforcing\",\"came_out\",\"structure\",\"M8\",\"wikipedia\",\"occurring\",\"ashamed\",\"get_banned\",\"gaping\",\"trek\",\"eachother\",\"%\",\"DB\",\"Gospel\",\"Louisiana\",\"cuts\",\"WWIII\",\"hard_drives\",\"4_months\",\"Casual\",\"super_smart\",\"decide\",\"redeeming\",\"+1\",\"TRUE\",\"be_grateful\",\"commit\",\"Common_Core\",\"Wings\",\"28\",\"Asylum\",\"its_finest\",\"Corrin\",\"demonize\",\"bras\",\"waaaay\",\"Tomato\",\"printers\",\"table\",\"da\",\"Sharon\",\"contractors\",\"Source\",\"rip-off\",\"Evidence\",\"soy\",\"Hashtag\",\"fear_mongering\",\"prep\",\"first\",\"Exactly\",\"Uncle\",\"mono\",\"objectively_better\",\"BUT_ITS\",\"spork_*\",\"Rama\",\"abandon\",\"Repost\",\"Baka\",\"Planet\",\"IN_A\",\"stalked\",\"lifetime\",\"free_college\",\"survey\",\"pretty_dope\",\"Innocent\",\"._\",\"inducing\",\"pendulum\",\"Back\",\"Hyper\",\"New_Zealand\",\"neoliberal\",\"tell_ya\",\"probable\",\"Ares\",\"ticket\",\"Titanic\",\"subjective\",\"catholics\",\"our_society\",\"handcuffs\",\"Time\",\"hipster\",\"engine\",\"heck\",\"dumpster_fire\",\"Marcos\",\"talaga\",\"her_mouth\",\"vastly\",\"Kindred\",\"green_light\",\"Albert_Einstein\",\"burgers\",\"SQL\",\"shopping\",\"rebel\",\"Berlin\",\"all-star\",\"problems\",\"testimony\",\"guided\",\"actor\",\"mane\",\"Rule\",\"silver\",\"1:1\",\"DO_YOU\",\"spectators\",\"buckle\",\"University\",\"blend\",\"chins\",\"Waiting_for\",\"availability\",\"aggressive\",\"Luis\",\"Ye\",\"Screw\",\"fire\",\"Gaiden\",\"Marxists\",\"Huffington_Post\",\"3_times\",\"May\",\"puzzle\",\"suggestion\",\"parents\",\"hog\",\"upgrading\",\"ear\",\"skipped\",\"presidents\",\"link_between\",\"bub\",\"paranoid\",\"costed\",\"dollars\",\"vids\",\"belongs\",\"grasp\",\"frontrunner\",\"cheesy\",\"mods_ruin\",\"free_agency\",\"shekels\",\"Warframe\",\"patrol\",\"PC_culture\",\"overtake\",\"cashing\",\"herd\",\"Girlfriend\",\"fields\",\"Huawei\",\"MAKE_AMERICA\",\"Lose\",\"DEA\",\"duplicate\",\"Kaep\",\"deporting\",\"yards\",\"grad\",\"youtube_channel\",\"self_driving\",\"flamed\",\"expanded\",\"clarity\",\"senior_year\",\"leeches\",\"mantra\",\"Asian_women\",\"maid\",\"nail_polish\",\"8GB\",\"DEVIL\",\"Egg\",\"fundie\",\"GST\",\"conferences\",\"temptation\",\"combos\",\"STARTED\",\"displaying\",\"newly\",\"Valley\",\"ill_take\",\"C_&\",\"Chroma\",\"provoked\",\"cardinals\",\"slow_motion\",\"control_over\",\"euphoria\",\"asked\",\"Nah_bruh\",\".22\",\"establishment\",\"foreplay\",\"window\",\"jobs\",\"Heil\",\"exactly\",\"CEO\",\"Tons\",\"Wikipedia\",\"sheet\",\"amusement\",\"NSFW_tag\",\"Jill\",\"Sleep\",\"data_cap\",\"Good_luck\",\"B-b-but\",\"slowing\",\"Language\",\"biblical\",\"benevolent\",\"Es\",\"islamophobe\",\"Punk\",\"resentment\",\"CALLED\",\"Sunni\",\"Combo\",\"pubes\",\"f\",\"abuse\",\"bankrupt\",\"Strange\",\"detailed\",\"Onion\",\"e-sports\",\"smashed\",\"Morrison\",\"tense\",\"consistent\",\"shakes\",\"Think\",\"fails\",\"intervals\",\"suns\",\"Zoro\",\"seems_perfectly\",\"BIG\",\"Spotify\",\"SSDs\",\"declining\",\"45\",\"ha_ha\",\"carrying\",\"None\",\"altitude\",\"newsletter\",\"directly_into\",\"brick\",\"measles\",\"guides\",\"advancement\",\"edge\",\"von\",\"Hakeem\",\"desirable\",\"snip\",\"checks\",\"drilling\",\"Nukes\",\"child_rape\",\"encountered\",\"by\",\"outplay\",\"noodles\",\"WCW\",\"tsm\",\"total\",\"ETC\",\"glimpse\",\"gnomes\",\"partnership\",\"facial\",\"Doubt\",\"readers\",\"3+\",\"2016\",\"Practice\",\"Go_home\",\"defeats\",\"lineman\",\"Harvin\",\"comms\",\"who_wants\",\"slit\",\"polls\",\"gtx\",\"surfer\",\"mil\",\"spotting\",\"never_lie\",\"vac\",\"BEING\",\"Direct\",\"rust\",\"Polish\",\"historically\",\"hype\",\"absolutely_correct\",\"1-3\",\"Tide\",\"food\",\"trial\",\"kk\",\"Ich\",\"750ti\",\"armed\",\"patterns\",\"an_improvement\",\"vibe\",\"cnn\",\"rewind\",\"15_seconds\",\"Totally_worth\",\"ayy\",\"minor\",\"Otherwise\",\"ATT\",\"teenage_girls\",\"goods\",\"yeast\",\"connecting\",\"vigilante_justice\",\"Vietnamese\",\"snapchat\",\"grenade\",\"JS\",\"street\",\"111\",\"within\",\"worship\",\"altogether\",\"strip_club\",\"mothership\",\"Thanks_mate\",\"N'T\",\"easier_than\",\"TL_:\",\"nostalgic\",\"womens\",\"Impossible\",\"Doctor_Who\",\"researching\",\"ones\",\"provincial\",\"directors\",\"feeds\",\"crime_against\",\"collaboration\",\"girlfriends\",\"=_0\",\"hellhole\",\"entertaining\",\"airspace\",\"FUCK_UP\",\"delusional\",\"judgment\",\"released\",\"template\",\"drains\",\"invincible\",\"insta\",\"nobody_ever\",\"invention\",\"ben\",\"Delta\",\"Princess\",\"sponsor\",\"modular\",\"Viking\",\"magazines\",\"haired\",\"Tryndamere\",\"drank\",\"WONDER\",\"get_rid\",\"gearing\",\"unbeatable\",\"Libertarianism\",\"invasion\",\"an_insightful\",\"empathy\",\"manslaughter\",\"EST\",\"paranoia\",\"taxi\",\"stove\",\"FTW_!\",\"internet_access\",\"stands\",\"Ricciardo\",\"navigation\",\"saints\",\"2000_years\",\"midfielders\",\"donated\",\"Germans\",\"will_rise\",\"Color_me\",\"set_foot\",\"impact\",\"father\",\"brackets\",\"DICE\",\"yawn\",\"dreaded\",\"scratches\",\"cons\",\"sexist\",\"experience\",\"frat\",\"Freak\",\"motherland\",\"landlord\",\"suburban\",\"Go_away\",\"Non\",\"political_party\",\"complex\",\"COMMIE\",\"adding\",\"pots\",\"canada\",\"Cotton\",\"disbelief\",\"especially_when\",\"drink\",\"honored\",\"satisfaction\",\"everyone_wants\",\"intensifies\",\"Betty\",\"curve\",\"societal\",\"each_month\",\"BUT\",\"corrected\",\"Packs\",\"bums\",\"SEXIST\",\"Anet\",\"neighbourhood\",\"Naga\",\"Nikki\",\"likeable\",\"Omfg\",\"liability\",\"policies\",\"these\",\"happy\",\"themed\",\"Albert\",\"panties\",\"~_$\",\"curse\",\"PS2\",\"container\",\"reserved_for\",\"Purple\",\"6_months\",\"super_hero\",\"MIGHT\",\"myths\",\"genitals\",\"giving_us\",\"2,000\",\"person_who\",\"97\",\"teachers\",\"Troy\",\"reservation\",\"Surely\",\"Did\",\"ounces\",\"UT\",\"Blizzcon\",\"objectifying\",\"BEHIND\",\"soaking\",\"WSGY_WSGY\",\"overpriced\",\"souls\",\"Switch\",\"Candy\",\"drug_dealer\",\"San\",\"stock\",\"my_teammates\",\"refresh_rate\",\"hike\",\"Barack_Obama\",\"praised\",\"costs\",\"mania\",\"thirteen\",\"rebuilt\",\"beloved\",\"incorrect\",\"coats\",\"super_rare\",\"By\",\"unfun\",\"own_fault\",\"classical\",\"moves\",\"months_ago\",\"Alas\",\"MMORPG\",\"Plot_Twist\",\"Comrade\",\"Vice\",\"save\",\"BBQ\",\"setups\",\"pit\",\"2/10\",\"comes_across\",\"red_light\",\"Moffat\",\"Lucio\",\"srsly\",\"legislators\",\"when\",\"Hail\",\".5\",\"My_favourite\",\"cancels_out\",\"swords\",\"Knights\",\"65_%\",\"patching\",\"combining\",\"Forcing\",\"expectations\",\"cheating\",\"cheer\",\"Pakistani\",\"both\",\"homemade\",\"Feel_free\",\"intensity\",\"ignition\",\"Nooo\",\"ripping\",\"pep\",\"entering\",\"matte\",\"techno\",\"Hope\",\"daft\",\"bumping\",\"960\",\"happened_before\",\"no_matter\",\"critiques\",\"2.0\",\"bu\",\"Pictures\",\"Super_Bowl\",\"dates\",\"buff\",\"R\",\"repay\",\"moose\",\"WAS\",\"Sue\",\"cost_$\",\"reminding\",\"For_some\",\"Hillary_supporters\",\"Western_Europe\",\"writing\",\"regular_season\",\"Toyota\",\"meanwhile\",\"pandering\",\"Has_anyone\",\"labelled\",\"Elder\",\"Thompson\",\"Reading\",\"cannons\",\"cringy\",\"JEWS\",\"livestream\",\"Possible\",\"celestial\",\"$_9.99\",\"chopping\",\"predator\",\"LGBT\",\"1994\",\"tampons\",\"explodes\",\"bikers\",\"fanboys\",\"afaik\",\"consider_myself\",\"Props\",\"USS\",\"negates\",\"organise\",\"s1mple\",\"SRD\",\"MIND\",\"his_name\",\"stood_up\",\"grow_up\",\"god_fearing\",\"1990\",\"Civilization\",\"SEC\",\"retain\",\"which_leads\",\"grips\",\"matches\",\"anyone_else\",\"leave\",\"boo\",\"geopolitical\",\"sparrow\",\"amirite_?\",\"pliers\",\"cyka_blyat\",\"charitable\",\"conform\",\"cell_phone\",\"angrily\",\"bulking\",\"shy\",\"hookers\",\"perfectly_normal\",\"modest\",\"nel\",\"pry\",\"40\",\"DC\",\"HI\",\"HR\",\"Switzerland\",\"gasoline\",\"colder\",\"Vanilla\",\"EDIT\",\"Harry\",\"300_million\",\"24\",\"repost\",\"lolwut\",\"informed\",\"Malkin\",\"traumatized\",\"blaster\",\"dabs\",\"Lebron_James\",\"blown_out\",\"best_friend\",\"cool\",\"projected\",\"ap\",\"smokers\",\"Trump_campaign\",\"310\",\"circus\",\"dream\",\"Wise\",\"acquisition\",\"brotherhood\",\"unintelligent\",\"gib\",\"Lot\",\"telephone\",\"Drivers\",\"Stevie\",\"Led_Zeppelin\",\"$_250\",\"tons_of\",\"origin_story\",\"violence\",\"assist\",\"vital\",\"public_transport\",\"Sakura\",\"Tbf\",\"las\",\"aimbot\",\"frontal\",\"BIAS\",\"ur_mom\",\"submissive\",\"war_against\",\"temperatures\",\"Anyone_who\",\"lit_up\",\"psychedelic\",\"Stop_making\",\"valued\",\"medical_advice\",\"announcements\",\"saturday\",\")_{\",\"relationships\",\"Answer\",\"GOT_A\",\"pictured\",\"Entering\",\"statistical\",\"Baron\",\"monitoring\",\"function\",\"thinks\",\"out\",\"drink_alcohol\",\"fullscreen\",\"puppies\",\"Somebody\",\"cancel_out\",\"battles\",\"tv_shows\",\"APU\",\"corpse\",\"Zimmerman\",\"polluted\",\"COMPLETELY\",\"protesting\",\"few_seasons\",\"witches\",\"weight\",\"YouTube_video\",\"unbiased_news\",\"Gandhi\",\"Little\",\"Touch\",\"Ive\",\"That_sounds\",\"Demo\",\"Paypal\",\"s.\",\"firm\",\"brim\",\"martial_arts\",\"non-violent\",\"plot\",\"Like\",\"testify\",\"turtles\",\"BC\",\"trailers\",\"zero_tolerance\",\"uninstalled\",\"public_service\",\"Lesbians\",\"under_oath\",\"retail\",\"You_sound\",\"cyclists\",\"Windows_8\",\"field\",\"oppressed_by\",\"dlc\",\"absolutely_nothing\",\"donating\",\"pro\",\"defined\",\"Arabic\",\"gains\",\"denial\",\"Be_careful\",\"nether\",\"155\",\"institutions\",\"stacking\",\"residential\",\"winning_team\",\"6_years\",\"stop_spreading\",\"continental\",\"hearing_about\",\"Neal\",\"banned_from\",\"DICK\",\"criticizes\",\"ballot\",\"agencies\",\"Hopsin\",\"jet\",\"crippling\",\"Liberal\",\"brony\",\"owe_me\",\"cupcakes\",\"Sour\",\"owns\",\"America\",\"fukin\",\"proportional\",\"gpu\",\"gate\",\"no_bearing\",\"camps\",\"ka\",\"understand_why\",\"In_case\",\"Arabia\",\"few_minutes\",\"gamer\",\"Friday_night\",\"shamed\",\"Aaron\",\"complicated\",\"JV\",\"complained\",\"hetero\",\"stereotypes\",\"drowned\",\"closely\",\"shaking\",\"Tiffany\",\"rustled\",\"Confederate\",\"Morty\",\"history\",\"san\",\"Civic\",\"superior\",\"Lopez\",\"Wake\",\"sharks\",\"caught\",\"fc\",\"console\",\"Ranger\",\"workforce\",\"Remastered\",\"movie_theater\",\"wrapped\",\"an_i7\",\"RNC\",\"grouping\",\"Drew\",\"[_deleted\",\"should\",\"Russell_Wilson\",\"Independence\",\"Bump\",\"cover_up\",\"RS3\",\"Udyr\",\"Honest\",\"winnings\",\"BE\",\"communications\",\"selfie\",\"yesterday\",\"biased_towards\",\"puked\",\"wisely\",\"Judging\",\"Details\",\"left_click\",\"chefs\",\"peek\",\"taxed\",\"purposely\",\"TRIGGERED\",\"learning\",\"brutal\",\"natuurlijk\",\"random_stranger\",\"hippie\",\"Sears\",\"crosshair\",\"FPH\",\"SJWs\",\"occur\",\"WORSE\",\"intended\",\"overlap\",\"FW\",\"Human\",\"Awesome\",\"how_much\",\"skinned\",\"invasive\",\"insist_on\",\"wood\",\"their_families\",\"harassing\",\"torches\",\"ten_year\",\"Pfft\",\"Fable\",\"sponsors\",\"Females\",\"wel\",\"Command\",\"Made\",\"robust\",\"point_guard\",\"25_%\",\"meetings\",\"revoke\",\"medal\",\"assigning\",\"well_informed\",\"twice\",\"better_than\",\"poland\",\"climate_change\",\"temps\",\"teens\",\"kayfabe\",\"an_assassin\",\"Pre\",\"processes\",\"missions\",\"intolerance\",\"bourgeoisie\",\"Alaska\",\"PST\",\"feminist\",\"Everywhere\",\"trips\",\"monk\",\"Marin\",\"Suck\",\"worn\",\"Inb4\",\"Wild\",\"ein\",\"must_admit\",\"Terrorists\",\"basketball_players\",\"say_hi\",\"required\",\"amenities\",\"resigned\",\"fall_under\",\"Frankie\",\"por\",\"im_sure\",\"dank_memes\",\"playoffs\",\"Launcher\",\"tubes\",\"camber\",\"emerald\",\"Increased\",\"crazed\",\"Freya\",\"wins\",\"take_away\",\"Travis\",\"charter\",\"regain\",\"reliable\",\"piercing\",\"beware\",\"Average\",\"20s\",\"races\",\"internet_points\",\"iPhone\",\"salad\",\"on_Sundays\",\"bombs\",\"point\",\"Huge\",\"redditors\",\"even\",\"discourage\",\"pin\",\"anonymously\",\"Frankenstein\",\"la\",\"highly_doubt\",\"gr8\",\"rage\",\"best_option\",\"shotguns\",\"Spell\",\"hardly_ever\",\"built\",\"corporate\",\"Didnt_know\",\"spider\",\"Embrace\",\"shells\",\"heavies\",\"throw_away\",\"wise\",\"O.o\",\"pudding\",\"worth_watching\",\"Monkey\",\"exhibit\",\"offered\",\"SUV\",\"shareholders\",\"AMIRITE\",\"Dalton\",\"prius\",\"Gabriel\",\"humanitarian\",\"Colorado\",\"dent_in\",\"logistics\",\"Aha\",\"bullets\",\"Mandarin\",\"promotional\",\"engines\",\"consumers\",\"symbols\",\"recordings\",\"*\",\"CG\",\"screens\",\"hoot\",\"outlets\",\"sliced\",\"Everything\",\"imagined\",\"Jake\",\"capping\",\"Glory\",\"COME_ON\",\"DRINK\",\"scams\",\"barbarians\",\"darling\",\"six_months\",\"24FPS\",\"navy\",\"Jonathan\",\"MK\",\"banged\",\"fitting\",\"grabbing\",\"bit_longer\",\"4th_quarter\",\"cursed\",\"progression\",\"Warcraft\",\"allah\",\"Spotted\",\";_M\",\"SO_MANY\",\"Mitch\",\"Error\",\"obvious\",\"got\",\"hold_onto\",\"moron\",\"charisma\",\"penetration\",\"repeatedly\",\"Spawn\",\"Bacon\",\"rebuild\",\"picture\",\"rising\",\"So\",\"full-time\",\"millenial\",\"Your_mother\",\"requiring\",\"Che\",\"erotic\",\"FOR_THE\",\"completing\",\"treat_women\",\"Wanting\",\"striker\",\"santa\",\"child_molester\",\"subscription\",\"aside\",\"an_excuse\",\"pick-up\",\"among\",\"viral\",\"compares\",\"WHAT_THE\",\"HOF\",\"voting\",\"Vic\",\"bypass\",\"Above\",\"console_version\",\"rn\",\"interception\",\"Get_outta\",\"Wrong\",\"fucking_casual\",\"economic\",\"Ravana\",\"wait_until\",\"Naw\",\"heel\",\"mal\",\"mood\",\"so_quirky\",\"Currently\",\"ZIGGO_ZIGGO\",\"GPS\",\"tire\",\"bug\",\"Eldrazi\",\"Sam\",\"deployed\",\"super_serious\",\"Russian_hackers\",\"Stop_mansplaining\",\"lobster\",\"BMI\",\"CL\",\"shave\",\"Kek\",\"whole_lot\",\"Nah_m8\",\"Von\",\"an_apple\",\"vending_machine\",\"mandated\",\"middle_aged\",\"on_campus\",\"Never_heard\",\"figured_out\",\"DAY\",\"borrowing\",\"freaking\",\"imposing\",\"scan\",\"platforms\",\"unworthy\",\"IT_UP\",\"Of_course\",\"Dreams\",\"cushy\",\"4/10\",\"erased\",\"2500\",\"balanced\",\"measured\",\"MUSIC\",\"starts\",\"disappoint\",\"cable_management\",\"WWII\",\"self-righteous\",\"sig\",\"Below\",\"Denny\",\"deal\",\"chemical\",\"Hispanic\",\"prizes\",\"unarmed\",\"stay_away\",\"hip\",\"My_friend\",\"pepper_spray\",\"Rekt\",\"complaining\",\"Triple_H\",\"Diversity\",\"100_%\",\"Load\",\"haters\",\"buildup\",\"carnage\",\"citation_needed\",\"Gore\",\"bronze\",\"booked\",\"cucumber\",\"Brad_Pitt\",\"Replace\",\"image\",\"section\",\"108\",\"twitch_chat\",\"Pan\",\"TRYING_TO\",\"cancels\",\"r/trees\",\"Proud\",\"'ve\",\"just_jealous\",\"ty\",\"Bus\",\"Smoke\",\"ITS_JUST\",\"probe\",\"QUALITY\",\"usefulness\",\"independents\",\"messed_up\",\"disproved\",\"Day_1\",\"chaotic\",\"whales\",\"an_explosion\",\"downvotes\",\"Better_yet\",\"higher_taxes\",\"resemblance\",\"centered\",\"4K\",\"cm\",\"minigame\",\"Mewtwo\",\"writer\",\"somewhere_else\",\"Nick\",\"gently\",\"Stop\",\"car_accident\",\"tanky\",\"NYT\",\"123\",\"chemical_weapons\",\"older\",\"reduction\",\"+10\",\"Generation\",\"Obligatory_``\",\"clicking\",\"phallic\",\"got_downvoted\",\"alimony\",\"dividing\",\"wavy\",\"Wait_till\",\"Hence_why\",\"desk\",\"Internet\",\"sweat\",\"split_second\",\"punk_rock\",\"garen\",\"win10\",\"addressed\",\"+3\",\"post_pics\",\"processors\",\"Devil\",\"wrestler\",\"advertisement\",\"common\",\"Upvoted\",\"O-line\",\"masses\",\"as_long\",\"Really\",\"suprise\",\"CANADA\",\"Ivy\",\"never_noticed\",\"Elemental\",\"adblock\",\"CD\",\"los\",\"chemo\",\"super_easy\",\"disturbing\",\"angels\",\"pet\",\"63\",\"pervert\",\"island\",\"tickle\",\"income\",\"Player\",\"Kayle\",\"For_science\",\"Corporation\",\"republic\",\"However\",\"Cory\",\"pragmatic\",\"Solomon\",\"Post\",\"NVIDIA\",\"white_knight\",\"oder\",\"submarine\",\"hug\",\"Guantanamo\",\"poe\",\"screen_shot\",\"'S_NOT\",\"chemistry\",\"CP\",\"western\",\"Tell_him\",\"infiltrate\",\"niet\",\"pearls\",\"Yes\",\"fixed\",\"bricks\",\"lie\",\"fashion\",\"Karen\",\"interests\",\"war_zone\",\"tree\",\"Tears\",\"DO_N'T\",\"flat\",\"le\",\"autograph\",\"Totally_agree\",\"Alternatively\",\"blue_line\",\"macros\",\"shallow\",\"breaking_news\",\"Bernie_supporters\",\"public_sector\",\"batter\",\"Service\",\"Bonnie\",\"Corbin\",\"E.\",\"Damage\",\"GIRL\",\"Watched\",\"be_punished\",\"ruby\",\"pristine\",\"Bad_Rats\",\"CO2\",\"lovers\",\"TJ\",\"Steam\",\"JUSTICE\",\"Up\",\"beard\",\"drool\",\"anal_sex\",\"functions\",\"Firefly\",\"cuisine\",\"Dope\",\"determination\",\"folders\",\"statists\",\"letting_us\",\"sincerely_hope\",\"derby\",\"420_blaze\",\"Without\",\"reasons\",\"teleporting\",\"Factory\",\"messed\",\"individual\",\"Lore\",\"researched\",\"Baylor\",\"cope\",\"Beijing\",\"Moore\",\"interesting\",\"Clean\",\"decisions\",\"full_blown\",\"ACL\",\"heard\",\"removed_from\",\"scoreboard\",\"this_weekend\",\"categories\",\"11th\",\"cs\",\"almost_impossible\",\"worse_than\",\"sound\",\"Dicks\",\"Enjoy\",\"Learn\",\"capable_of\",\"disgusted\",\"system_works\",\"private_prisons\",\"Dion\",\"THE_WAY\",\"DCEU\",\"Pence\",\"100s\",\"f2p\",\"Worked_for\",\"Valencia\",\"Lamar\",\"Noah\",\"engaging\",\"Wes\",\"rooms\",\"AC/DC\",\"roman\",\"peer_reviewed\",\"clinton\",\"found_out\",\"egregious\",\"Ale\",\"supervisor\",\"cooler\",\"agenda\",\"Hmmmm\",\"5-7\",\"5_seconds\",\"constitutional\",\"cabinet\",\"Orlando\",\"appointment\",\"guru\",\"biking\",\"drug_war\",\"islamophobia\",\"AD\",\"UC\",\"Hearts\",\"unimportant\",\"long_term\",\"zone\",\"flak\",\"insulin\",\"HARD\",\"sociopath\",\"peacefully\",\"bunch\",\"staff\",\"finances\",\"removing\",\"clearly\",\"tasting\",\"premiums\",\"Stop_trying\",\"extremism\",\"2K\",\"self_hating\",\"drag\",\"Giants\"],\"shape\":[5000],\"dtype\":\"object\",\"order\":\"little\"}]]}}},\"view\":{\"type\":\"object\",\"name\":\"CDSView\",\"id\":\"p1040\",\"attributes\":{\"filter\":{\"type\":\"object\",\"name\":\"AllIndices\",\"id\":\"p1041\"}}},\"glyph\":{\"type\":\"object\",\"name\":\"Text\",\"id\":\"p1036\",\"attributes\":{\"x\":{\"type\":\"field\",\"field\":\"x\"},\"y\":{\"type\":\"field\",\"field\":\"y\"},\"text\":{\"type\":\"field\",\"field\":\"text\"},\"text_color\":{\"type\":\"value\",\"value\":\"black\"}}},\"nonselection_glyph\":{\"type\":\"object\",\"name\":\"Text\",\"id\":\"p1037\",\"attributes\":{\"x\":{\"type\":\"field\",\"field\":\"x\"},\"y\":{\"type\":\"field\",\"field\":\"y\"},\"text\":{\"type\":\"field\",\"field\":\"text\"},\"text_color\":{\"type\":\"value\",\"value\":\"black\"},\"text_alpha\":{\"type\":\"value\",\"value\":0.1}}},\"muted_glyph\":{\"type\":\"object\",\"name\":\"Text\",\"id\":\"p1038\",\"attributes\":{\"x\":{\"type\":\"field\",\"field\":\"x\"},\"y\":{\"type\":\"field\",\"field\":\"y\"},\"text\":{\"type\":\"field\",\"field\":\"text\"},\"text_color\":{\"type\":\"value\",\"value\":\"black\"},\"text_alpha\":{\"type\":\"value\",\"value\":0.2}}}}}],\"toolbar\":{\"type\":\"object\",\"name\":\"Toolbar\",\"id\":\"p1009\",\"attributes\":{\"tools\":[{\"type\":\"object\",\"name\":\"PanTool\",\"id\":\"p1022\"},{\"type\":\"object\",\"name\":\"WheelZoomTool\",\"id\":\"p1023\",\"attributes\":{\"renderers\":\"auto\"}},{\"type\":\"object\",\"name\":\"BoxZoomTool\",\"id\":\"p1024\",\"attributes\":{\"overlay\":{\"type\":\"object\",\"name\":\"BoxAnnotation\",\"id\":\"p1025\",\"attributes\":{\"syncable\":false,\"level\":\"overlay\",\"visible\":false,\"left\":{\"type\":\"number\",\"value\":\"nan\"},\"right\":{\"type\":\"number\",\"value\":\"nan\"},\"top\":{\"type\":\"number\",\"value\":\"nan\"},\"bottom\":{\"type\":\"number\",\"value\":\"nan\"},\"left_units\":\"canvas\",\"right_units\":\"canvas\",\"top_units\":\"canvas\",\"bottom_units\":\"canvas\",\"line_color\":\"black\",\"line_alpha\":1.0,\"line_width\":2,\"line_dash\":[4,4],\"fill_color\":\"lightgrey\",\"fill_alpha\":0.5}}}},{\"type\":\"object\",\"name\":\"SaveTool\",\"id\":\"p1030\"},{\"type\":\"object\",\"name\":\"ResetTool\",\"id\":\"p1031\"},{\"type\":\"object\",\"name\":\"HelpTool\",\"id\":\"p1032\"}]}},\"left\":[{\"type\":\"object\",\"name\":\"LinearAxis\",\"id\":\"p1017\",\"attributes\":{\"ticker\":{\"type\":\"object\",\"name\":\"BasicTicker\",\"id\":\"p1018\",\"attributes\":{\"mantissas\":[1,2,5]}},\"formatter\":{\"type\":\"object\",\"name\":\"BasicTickFormatter\",\"id\":\"p1019\"},\"major_label_policy\":{\"type\":\"object\",\"name\":\"AllLabels\",\"id\":\"p1020\"}}}],\"below\":[{\"type\":\"object\",\"name\":\"LinearAxis\",\"id\":\"p1012\",\"attributes\":{\"ticker\":{\"type\":\"object\",\"name\":\"BasicTicker\",\"id\":\"p1013\",\"attributes\":{\"mantissas\":[1,2,5]}},\"formatter\":{\"type\":\"object\",\"name\":\"BasicTickFormatter\",\"id\":\"p1014\"},\"major_label_policy\":{\"type\":\"object\",\"name\":\"AllLabels\",\"id\":\"p1015\"}}}],\"center\":[{\"type\":\"object\",\"name\":\"Grid\",\"id\":\"p1016\",\"attributes\":{\"axis\":{\"id\":\"p1012\"}}},{\"type\":\"object\",\"name\":\"Grid\",\"id\":\"p1021\",\"attributes\":{\"dimension\":1,\"axis\":{\"id\":\"p1017\"}}}]}}]}};\n",
              "  const render_items = [{\"docid\":\"13d12f4d-df49-429e-aec8-e8edf4f3ea48\",\"roots\":{\"p1001\":\"bcd445a7-c5fe-42e2-809b-1383196602e6\"},\"root_ids\":[\"p1001\"]}];\n",
              "  root.Bokeh.embed.embed_items_notebook(docs_json, render_items);\n",
              "  }\n",
              "  if (root.Bokeh !== undefined) {\n",
              "    embed_document(root);\n",
              "  } else {\n",
              "    let attempts = 0;\n",
              "    const timer = setInterval(function(root) {\n",
              "      if (root.Bokeh !== undefined) {\n",
              "        clearInterval(timer);\n",
              "        embed_document(root);\n",
              "      } else {\n",
              "        attempts++;\n",
              "        if (attempts > 100) {\n",
              "          clearInterval(timer);\n",
              "          console.log(\"Bokeh: ERROR: Unable to run BokehJS code because BokehJS library is missing\");\n",
              "        }\n",
              "      }\n",
              "    }, 10, root)\n",
              "  }\n",
              "})(window);"
            ],
            "application/vnd.bokehjs_exec.v0+json": ""
          },
          "metadata": {
            "application/vnd.bokehjs_exec.v0+json": {
              "id": "p1001"
            }
          }
        }
      ]
    },
    {
      "cell_type": "markdown",
      "source": [
        "# Start LSTM architecture with these initial embeddings before BERT\n"
      ],
      "metadata": {
        "id": "fIbme868woHt"
      }
    },
    {
      "cell_type": "markdown",
      "source": [
        "# Need to create embeddings matrix for LSTM\n"
      ],
      "metadata": {
        "id": "5AfbFAoaz39X"
      }
    },
    {
      "cell_type": "code",
      "source": [
        "train_bal.dropna(inplace=True)"
      ],
      "metadata": {
        "id": "iqVkwcnsv8pV"
      },
      "execution_count": 42,
      "outputs": []
    },
    {
      "cell_type": "code",
      "source": [
        "train_bal.shape[0]"
      ],
      "metadata": {
        "id": "nwXq1Lorv_5m",
        "outputId": "595909d1-5671-4336-828c-29f6b1afd925",
        "colab": {
          "base_uri": "https://localhost:8080/"
        }
      },
      "execution_count": 43,
      "outputs": [
        {
          "output_type": "execute_result",
          "data": {
            "text/plain": [
              "1010826"
            ]
          },
          "metadata": {},
          "execution_count": 43
        }
      ]
    },
    {
      "cell_type": "code",
      "source": [
        "train_bal.tail(5)"
      ],
      "metadata": {
        "id": "rayjb8TvwG8R",
        "outputId": "511b7271-1a44-4ebc-eb85-d03e90217d67",
        "colab": {
          "base_uri": "https://localhost:8080/",
          "height": 206
        }
      },
      "execution_count": 44,
      "outputs": [
        {
          "output_type": "execute_result",
          "data": {
            "text/plain": [
              "         label                                            comment  \\\n",
              "1010821      1  I'm sure that Iran and N. Korea have the techn...   \n",
              "1010822      1                 whatever you do, don't vote green!   \n",
              "1010823      1  Perhaps this is an atheist conspiracy to make ...   \n",
              "1010824      1  The Slavs got their own country - it is called...   \n",
              "1010825      1  values, as in capitalism .. there is good mone...   \n",
              "\n",
              "                 author   subreddit  score  ups  downs     date  \\\n",
              "1010821       TwarkMain  reddit.com      2    2      0  2009-04   \n",
              "1010822        BCHarvey     climate      1    1      0  2009-05   \n",
              "1010823  rebelcommander     atheism      1    1      0  2009-01   \n",
              "1010824           catsi   worldnews      1    1      0  2009-01   \n",
              "1010825        frogking    politics      2    2      0  2009-01   \n",
              "\n",
              "                 created_utc  \\\n",
              "1010821  2009-04-25 00:47:52   \n",
              "1010822  2009-05-14 22:27:40   \n",
              "1010823  2009-01-11 00:22:57   \n",
              "1010824  2009-01-23 21:12:49   \n",
              "1010825  2009-01-24 06:20:14   \n",
              "\n",
              "                                            parent_comment  \n",
              "1010821  No one is calling this an engineered pathogen,...  \n",
              "1010822  In a move typical of their recent do-nothing a...  \n",
              "1010823  Screw the Disabled--I've got to get to Church ...  \n",
              "1010824  I've always been unsettled by that. I hear a l...  \n",
              "1010825  Why do the people who make our laws seem unabl...  "
            ],
            "text/html": [
              "\n",
              "  <div id=\"df-77c16206-5b16-4b9a-a75e-b95874465fb5\" class=\"colab-df-container\">\n",
              "    <div>\n",
              "<style scoped>\n",
              "    .dataframe tbody tr th:only-of-type {\n",
              "        vertical-align: middle;\n",
              "    }\n",
              "\n",
              "    .dataframe tbody tr th {\n",
              "        vertical-align: top;\n",
              "    }\n",
              "\n",
              "    .dataframe thead th {\n",
              "        text-align: right;\n",
              "    }\n",
              "</style>\n",
              "<table border=\"1\" class=\"dataframe\">\n",
              "  <thead>\n",
              "    <tr style=\"text-align: right;\">\n",
              "      <th></th>\n",
              "      <th>label</th>\n",
              "      <th>comment</th>\n",
              "      <th>author</th>\n",
              "      <th>subreddit</th>\n",
              "      <th>score</th>\n",
              "      <th>ups</th>\n",
              "      <th>downs</th>\n",
              "      <th>date</th>\n",
              "      <th>created_utc</th>\n",
              "      <th>parent_comment</th>\n",
              "    </tr>\n",
              "  </thead>\n",
              "  <tbody>\n",
              "    <tr>\n",
              "      <th>1010821</th>\n",
              "      <td>1</td>\n",
              "      <td>I'm sure that Iran and N. Korea have the techn...</td>\n",
              "      <td>TwarkMain</td>\n",
              "      <td>reddit.com</td>\n",
              "      <td>2</td>\n",
              "      <td>2</td>\n",
              "      <td>0</td>\n",
              "      <td>2009-04</td>\n",
              "      <td>2009-04-25 00:47:52</td>\n",
              "      <td>No one is calling this an engineered pathogen,...</td>\n",
              "    </tr>\n",
              "    <tr>\n",
              "      <th>1010822</th>\n",
              "      <td>1</td>\n",
              "      <td>whatever you do, don't vote green!</td>\n",
              "      <td>BCHarvey</td>\n",
              "      <td>climate</td>\n",
              "      <td>1</td>\n",
              "      <td>1</td>\n",
              "      <td>0</td>\n",
              "      <td>2009-05</td>\n",
              "      <td>2009-05-14 22:27:40</td>\n",
              "      <td>In a move typical of their recent do-nothing a...</td>\n",
              "    </tr>\n",
              "    <tr>\n",
              "      <th>1010823</th>\n",
              "      <td>1</td>\n",
              "      <td>Perhaps this is an atheist conspiracy to make ...</td>\n",
              "      <td>rebelcommander</td>\n",
              "      <td>atheism</td>\n",
              "      <td>1</td>\n",
              "      <td>1</td>\n",
              "      <td>0</td>\n",
              "      <td>2009-01</td>\n",
              "      <td>2009-01-11 00:22:57</td>\n",
              "      <td>Screw the Disabled--I've got to get to Church ...</td>\n",
              "    </tr>\n",
              "    <tr>\n",
              "      <th>1010824</th>\n",
              "      <td>1</td>\n",
              "      <td>The Slavs got their own country - it is called...</td>\n",
              "      <td>catsi</td>\n",
              "      <td>worldnews</td>\n",
              "      <td>1</td>\n",
              "      <td>1</td>\n",
              "      <td>0</td>\n",
              "      <td>2009-01</td>\n",
              "      <td>2009-01-23 21:12:49</td>\n",
              "      <td>I've always been unsettled by that. I hear a l...</td>\n",
              "    </tr>\n",
              "    <tr>\n",
              "      <th>1010825</th>\n",
              "      <td>1</td>\n",
              "      <td>values, as in capitalism .. there is good mone...</td>\n",
              "      <td>frogking</td>\n",
              "      <td>politics</td>\n",
              "      <td>2</td>\n",
              "      <td>2</td>\n",
              "      <td>0</td>\n",
              "      <td>2009-01</td>\n",
              "      <td>2009-01-24 06:20:14</td>\n",
              "      <td>Why do the people who make our laws seem unabl...</td>\n",
              "    </tr>\n",
              "  </tbody>\n",
              "</table>\n",
              "</div>\n",
              "    <div class=\"colab-df-buttons\">\n",
              "\n",
              "  <div class=\"colab-df-container\">\n",
              "    <button class=\"colab-df-convert\" onclick=\"convertToInteractive('df-77c16206-5b16-4b9a-a75e-b95874465fb5')\"\n",
              "            title=\"Convert this dataframe to an interactive table.\"\n",
              "            style=\"display:none;\">\n",
              "\n",
              "  <svg xmlns=\"http://www.w3.org/2000/svg\" height=\"24px\" viewBox=\"0 -960 960 960\">\n",
              "    <path d=\"M120-120v-720h720v720H120Zm60-500h600v-160H180v160Zm220 220h160v-160H400v160Zm0 220h160v-160H400v160ZM180-400h160v-160H180v160Zm440 0h160v-160H620v160ZM180-180h160v-160H180v160Zm440 0h160v-160H620v160Z\"/>\n",
              "  </svg>\n",
              "    </button>\n",
              "\n",
              "  <style>\n",
              "    .colab-df-container {\n",
              "      display:flex;\n",
              "      gap: 12px;\n",
              "    }\n",
              "\n",
              "    .colab-df-convert {\n",
              "      background-color: #E8F0FE;\n",
              "      border: none;\n",
              "      border-radius: 50%;\n",
              "      cursor: pointer;\n",
              "      display: none;\n",
              "      fill: #1967D2;\n",
              "      height: 32px;\n",
              "      padding: 0 0 0 0;\n",
              "      width: 32px;\n",
              "    }\n",
              "\n",
              "    .colab-df-convert:hover {\n",
              "      background-color: #E2EBFA;\n",
              "      box-shadow: 0px 1px 2px rgba(60, 64, 67, 0.3), 0px 1px 3px 1px rgba(60, 64, 67, 0.15);\n",
              "      fill: #174EA6;\n",
              "    }\n",
              "\n",
              "    .colab-df-buttons div {\n",
              "      margin-bottom: 4px;\n",
              "    }\n",
              "\n",
              "    [theme=dark] .colab-df-convert {\n",
              "      background-color: #3B4455;\n",
              "      fill: #D2E3FC;\n",
              "    }\n",
              "\n",
              "    [theme=dark] .colab-df-convert:hover {\n",
              "      background-color: #434B5C;\n",
              "      box-shadow: 0px 1px 3px 1px rgba(0, 0, 0, 0.15);\n",
              "      filter: drop-shadow(0px 1px 2px rgba(0, 0, 0, 0.3));\n",
              "      fill: #FFFFFF;\n",
              "    }\n",
              "  </style>\n",
              "\n",
              "    <script>\n",
              "      const buttonEl =\n",
              "        document.querySelector('#df-77c16206-5b16-4b9a-a75e-b95874465fb5 button.colab-df-convert');\n",
              "      buttonEl.style.display =\n",
              "        google.colab.kernel.accessAllowed ? 'block' : 'none';\n",
              "\n",
              "      async function convertToInteractive(key) {\n",
              "        const element = document.querySelector('#df-77c16206-5b16-4b9a-a75e-b95874465fb5');\n",
              "        const dataTable =\n",
              "          await google.colab.kernel.invokeFunction('convertToInteractive',\n",
              "                                                    [key], {});\n",
              "        if (!dataTable) return;\n",
              "\n",
              "        const docLinkHtml = 'Like what you see? Visit the ' +\n",
              "          '<a target=\"_blank\" href=https://colab.research.google.com/notebooks/data_table.ipynb>data table notebook</a>'\n",
              "          + ' to learn more about interactive tables.';\n",
              "        element.innerHTML = '';\n",
              "        dataTable['output_type'] = 'display_data';\n",
              "        await google.colab.output.renderOutput(dataTable, element);\n",
              "        const docLink = document.createElement('div');\n",
              "        docLink.innerHTML = docLinkHtml;\n",
              "        element.appendChild(docLink);\n",
              "      }\n",
              "    </script>\n",
              "  </div>\n",
              "\n",
              "\n",
              "<div id=\"df-e5c08e7b-1f62-4a47-8cb4-1b2abb8ad438\">\n",
              "  <button class=\"colab-df-quickchart\" onclick=\"quickchart('df-e5c08e7b-1f62-4a47-8cb4-1b2abb8ad438')\"\n",
              "            title=\"Suggest charts\"\n",
              "            style=\"display:none;\">\n",
              "\n",
              "<svg xmlns=\"http://www.w3.org/2000/svg\" height=\"24px\"viewBox=\"0 0 24 24\"\n",
              "     width=\"24px\">\n",
              "    <g>\n",
              "        <path d=\"M19 3H5c-1.1 0-2 .9-2 2v14c0 1.1.9 2 2 2h14c1.1 0 2-.9 2-2V5c0-1.1-.9-2-2-2zM9 17H7v-7h2v7zm4 0h-2V7h2v10zm4 0h-2v-4h2v4z\"/>\n",
              "    </g>\n",
              "</svg>\n",
              "  </button>\n",
              "\n",
              "<style>\n",
              "  .colab-df-quickchart {\n",
              "      --bg-color: #E8F0FE;\n",
              "      --fill-color: #1967D2;\n",
              "      --hover-bg-color: #E2EBFA;\n",
              "      --hover-fill-color: #174EA6;\n",
              "      --disabled-fill-color: #AAA;\n",
              "      --disabled-bg-color: #DDD;\n",
              "  }\n",
              "\n",
              "  [theme=dark] .colab-df-quickchart {\n",
              "      --bg-color: #3B4455;\n",
              "      --fill-color: #D2E3FC;\n",
              "      --hover-bg-color: #434B5C;\n",
              "      --hover-fill-color: #FFFFFF;\n",
              "      --disabled-bg-color: #3B4455;\n",
              "      --disabled-fill-color: #666;\n",
              "  }\n",
              "\n",
              "  .colab-df-quickchart {\n",
              "    background-color: var(--bg-color);\n",
              "    border: none;\n",
              "    border-radius: 50%;\n",
              "    cursor: pointer;\n",
              "    display: none;\n",
              "    fill: var(--fill-color);\n",
              "    height: 32px;\n",
              "    padding: 0;\n",
              "    width: 32px;\n",
              "  }\n",
              "\n",
              "  .colab-df-quickchart:hover {\n",
              "    background-color: var(--hover-bg-color);\n",
              "    box-shadow: 0 1px 2px rgba(60, 64, 67, 0.3), 0 1px 3px 1px rgba(60, 64, 67, 0.15);\n",
              "    fill: var(--button-hover-fill-color);\n",
              "  }\n",
              "\n",
              "  .colab-df-quickchart-complete:disabled,\n",
              "  .colab-df-quickchart-complete:disabled:hover {\n",
              "    background-color: var(--disabled-bg-color);\n",
              "    fill: var(--disabled-fill-color);\n",
              "    box-shadow: none;\n",
              "  }\n",
              "\n",
              "  .colab-df-spinner {\n",
              "    border: 2px solid var(--fill-color);\n",
              "    border-color: transparent;\n",
              "    border-bottom-color: var(--fill-color);\n",
              "    animation:\n",
              "      spin 1s steps(1) infinite;\n",
              "  }\n",
              "\n",
              "  @keyframes spin {\n",
              "    0% {\n",
              "      border-color: transparent;\n",
              "      border-bottom-color: var(--fill-color);\n",
              "      border-left-color: var(--fill-color);\n",
              "    }\n",
              "    20% {\n",
              "      border-color: transparent;\n",
              "      border-left-color: var(--fill-color);\n",
              "      border-top-color: var(--fill-color);\n",
              "    }\n",
              "    30% {\n",
              "      border-color: transparent;\n",
              "      border-left-color: var(--fill-color);\n",
              "      border-top-color: var(--fill-color);\n",
              "      border-right-color: var(--fill-color);\n",
              "    }\n",
              "    40% {\n",
              "      border-color: transparent;\n",
              "      border-right-color: var(--fill-color);\n",
              "      border-top-color: var(--fill-color);\n",
              "    }\n",
              "    60% {\n",
              "      border-color: transparent;\n",
              "      border-right-color: var(--fill-color);\n",
              "    }\n",
              "    80% {\n",
              "      border-color: transparent;\n",
              "      border-right-color: var(--fill-color);\n",
              "      border-bottom-color: var(--fill-color);\n",
              "    }\n",
              "    90% {\n",
              "      border-color: transparent;\n",
              "      border-bottom-color: var(--fill-color);\n",
              "    }\n",
              "  }\n",
              "</style>\n",
              "\n",
              "  <script>\n",
              "    async function quickchart(key) {\n",
              "      const quickchartButtonEl =\n",
              "        document.querySelector('#' + key + ' button');\n",
              "      quickchartButtonEl.disabled = true;  // To prevent multiple clicks.\n",
              "      quickchartButtonEl.classList.add('colab-df-spinner');\n",
              "      try {\n",
              "        const charts = await google.colab.kernel.invokeFunction(\n",
              "            'suggestCharts', [key], {});\n",
              "      } catch (error) {\n",
              "        console.error('Error during call to suggestCharts:', error);\n",
              "      }\n",
              "      quickchartButtonEl.classList.remove('colab-df-spinner');\n",
              "      quickchartButtonEl.classList.add('colab-df-quickchart-complete');\n",
              "    }\n",
              "    (() => {\n",
              "      let quickchartButtonEl =\n",
              "        document.querySelector('#df-e5c08e7b-1f62-4a47-8cb4-1b2abb8ad438 button');\n",
              "      quickchartButtonEl.style.display =\n",
              "        google.colab.kernel.accessAllowed ? 'block' : 'none';\n",
              "    })();\n",
              "  </script>\n",
              "</div>\n",
              "\n",
              "    </div>\n",
              "  </div>\n"
            ]
          },
          "metadata": {},
          "execution_count": 44
        }
      ]
    },
    {
      "cell_type": "code",
      "source": [
        "from sklearn.model_selection import train_test_split\n",
        "# split the dataset into 60% training and 40% validation and test sets\n",
        "train_df, val_test_df = train_test_split(train_bal, test_size=0.4, random_state=42)\n",
        "\n",
        "# split the 40% into half validation and half test sets\n",
        "val_df, test_df = train_test_split(val_test_df, test_size=0.5, random_state=42)"
      ],
      "metadata": {
        "id": "yqMoDkrHvk28"
      },
      "execution_count": 45,
      "outputs": []
    },
    {
      "cell_type": "code",
      "source": [
        "X_train = train_df['comment']\n",
        "y_train = train_df['label']"
      ],
      "metadata": {
        "id": "ukeBZF6V6O5z"
      },
      "execution_count": 46,
      "outputs": []
    },
    {
      "cell_type": "code",
      "source": [
        "word2vec = Word2Vec.load(\"/content/drive/MyDrive/word2vec.model\")\n"
      ],
      "metadata": {
        "id": "nVAx8QTXwt9Q"
      },
      "execution_count": 47,
      "outputs": []
    },
    {
      "cell_type": "code",
      "source": [
        "#extracting pretrained weights for embedding layer using word2vec model\n",
        "word_vectors = word2vec.wv\n"
      ],
      "metadata": {
        "id": "gQS9mBFjxtCe"
      },
      "execution_count": 48,
      "outputs": []
    },
    {
      "cell_type": "code",
      "source": [
        "vector_size = model.vector_size\n",
        "vector_size"
      ],
      "metadata": {
        "id": "tSbgAa1t0g42",
        "outputId": "9f09b405-3888-43cb-850e-e935751d08f2",
        "colab": {
          "base_uri": "https://localhost:8080/"
        }
      },
      "execution_count": 50,
      "outputs": [
        {
          "output_type": "execute_result",
          "data": {
            "text/plain": [
              "150"
            ]
          },
          "metadata": {},
          "execution_count": 50
        }
      ]
    },
    {
      "cell_type": "code",
      "source": [
        "word_index, word_size, _ = preprocess(comments)"
      ],
      "metadata": {
        "id": "WJu0sRAW8bIU"
      },
      "execution_count": 62,
      "outputs": []
    },
    {
      "cell_type": "code",
      "source": [
        "#inititlze embeddings matrix\n",
        "import numpy as np\n",
        "embedding_matrix = np.zeros((word_size, vector_size))"
      ],
      "metadata": {
        "id": "8U6XoI0q0wT3"
      },
      "execution_count": 65,
      "outputs": []
    },
    {
      "cell_type": "code",
      "source": [
        "#fill embeddings matrix for LSTM with tensor flow : each row should correspond to a word\n",
        "for word, i in word_index.items():\n",
        "    if word in word_vectors:\n",
        "        embedding_matrix[i] = word_vectors[word]\n"
      ],
      "metadata": {
        "id": "55tO0Z86yCap"
      },
      "execution_count": 66,
      "outputs": []
    },
    {
      "cell_type": "code",
      "source": [
        "embedding_df = pd.DataFrame(embedding_matrix)"
      ],
      "metadata": {
        "id": "0I_RICV31eSm"
      },
      "execution_count": 67,
      "outputs": []
    },
    {
      "cell_type": "code",
      "source": [
        "embedding_df.head(5)"
      ],
      "metadata": {
        "id": "ABBkxiZf1zZg",
        "outputId": "6cad1b41-7c72-46d7-e639-dc73caecab1c",
        "colab": {
          "base_uri": "https://localhost:8080/",
          "height": 255
        }
      },
      "execution_count": 68,
      "outputs": [
        {
          "output_type": "execute_result",
          "data": {
            "text/plain": [
              "        0         1         2         3         4         5         6    \\\n",
              "0  0.000000  0.000000  0.000000  0.000000  0.000000  0.000000  0.000000   \n",
              "1 -0.664518 -0.086922  0.283365  0.902932  0.070024 -0.421360  0.600063   \n",
              "2  0.325742 -0.473029  0.729136  0.812504 -1.205325  0.127234  0.083067   \n",
              "3 -0.707989  1.566842  1.210992  2.036757  0.864193 -1.366605  2.543164   \n",
              "4  0.147720  1.951131  2.720746  0.825240  0.188283 -0.662247 -0.178244   \n",
              "\n",
              "        7         8         9    ...       140       141       142       143  \\\n",
              "0  0.000000  0.000000  0.000000  ...  0.000000  0.000000  0.000000  0.000000   \n",
              "1  1.695763  0.727469 -0.283117  ... -0.405994 -0.586456 -0.430985  0.510138   \n",
              "2  1.239108  0.321420  1.252292  ...  0.065309 -0.505013  0.334321  0.154655   \n",
              "3  1.671720  1.539983 -1.236842  ... -1.426946 -0.876561 -0.195377  1.266137   \n",
              "4  0.552779  1.265213 -1.657513  ... -0.672240  2.250735  0.572337 -1.130341   \n",
              "\n",
              "        144       145       146       147       148       149  \n",
              "0  0.000000  0.000000  0.000000  0.000000  0.000000  0.000000  \n",
              "1  0.484568 -0.550256  1.437720 -0.217590  0.259132  1.212474  \n",
              "2  0.633848  0.997518  0.537003 -0.333254 -0.611590  0.209429  \n",
              "3 -0.769589 -1.188386  1.366831 -1.450624  1.433921 -0.457654  \n",
              "4  0.363177  1.574580  0.302234 -0.871057  0.444568 -0.454546  \n",
              "\n",
              "[5 rows x 150 columns]"
            ],
            "text/html": [
              "\n",
              "  <div id=\"df-4d3a4b67-2613-4863-978c-07624460dab6\" class=\"colab-df-container\">\n",
              "    <div>\n",
              "<style scoped>\n",
              "    .dataframe tbody tr th:only-of-type {\n",
              "        vertical-align: middle;\n",
              "    }\n",
              "\n",
              "    .dataframe tbody tr th {\n",
              "        vertical-align: top;\n",
              "    }\n",
              "\n",
              "    .dataframe thead th {\n",
              "        text-align: right;\n",
              "    }\n",
              "</style>\n",
              "<table border=\"1\" class=\"dataframe\">\n",
              "  <thead>\n",
              "    <tr style=\"text-align: right;\">\n",
              "      <th></th>\n",
              "      <th>0</th>\n",
              "      <th>1</th>\n",
              "      <th>2</th>\n",
              "      <th>3</th>\n",
              "      <th>4</th>\n",
              "      <th>5</th>\n",
              "      <th>6</th>\n",
              "      <th>7</th>\n",
              "      <th>8</th>\n",
              "      <th>9</th>\n",
              "      <th>...</th>\n",
              "      <th>140</th>\n",
              "      <th>141</th>\n",
              "      <th>142</th>\n",
              "      <th>143</th>\n",
              "      <th>144</th>\n",
              "      <th>145</th>\n",
              "      <th>146</th>\n",
              "      <th>147</th>\n",
              "      <th>148</th>\n",
              "      <th>149</th>\n",
              "    </tr>\n",
              "  </thead>\n",
              "  <tbody>\n",
              "    <tr>\n",
              "      <th>0</th>\n",
              "      <td>0.000000</td>\n",
              "      <td>0.000000</td>\n",
              "      <td>0.000000</td>\n",
              "      <td>0.000000</td>\n",
              "      <td>0.000000</td>\n",
              "      <td>0.000000</td>\n",
              "      <td>0.000000</td>\n",
              "      <td>0.000000</td>\n",
              "      <td>0.000000</td>\n",
              "      <td>0.000000</td>\n",
              "      <td>...</td>\n",
              "      <td>0.000000</td>\n",
              "      <td>0.000000</td>\n",
              "      <td>0.000000</td>\n",
              "      <td>0.000000</td>\n",
              "      <td>0.000000</td>\n",
              "      <td>0.000000</td>\n",
              "      <td>0.000000</td>\n",
              "      <td>0.000000</td>\n",
              "      <td>0.000000</td>\n",
              "      <td>0.000000</td>\n",
              "    </tr>\n",
              "    <tr>\n",
              "      <th>1</th>\n",
              "      <td>-0.664518</td>\n",
              "      <td>-0.086922</td>\n",
              "      <td>0.283365</td>\n",
              "      <td>0.902932</td>\n",
              "      <td>0.070024</td>\n",
              "      <td>-0.421360</td>\n",
              "      <td>0.600063</td>\n",
              "      <td>1.695763</td>\n",
              "      <td>0.727469</td>\n",
              "      <td>-0.283117</td>\n",
              "      <td>...</td>\n",
              "      <td>-0.405994</td>\n",
              "      <td>-0.586456</td>\n",
              "      <td>-0.430985</td>\n",
              "      <td>0.510138</td>\n",
              "      <td>0.484568</td>\n",
              "      <td>-0.550256</td>\n",
              "      <td>1.437720</td>\n",
              "      <td>-0.217590</td>\n",
              "      <td>0.259132</td>\n",
              "      <td>1.212474</td>\n",
              "    </tr>\n",
              "    <tr>\n",
              "      <th>2</th>\n",
              "      <td>0.325742</td>\n",
              "      <td>-0.473029</td>\n",
              "      <td>0.729136</td>\n",
              "      <td>0.812504</td>\n",
              "      <td>-1.205325</td>\n",
              "      <td>0.127234</td>\n",
              "      <td>0.083067</td>\n",
              "      <td>1.239108</td>\n",
              "      <td>0.321420</td>\n",
              "      <td>1.252292</td>\n",
              "      <td>...</td>\n",
              "      <td>0.065309</td>\n",
              "      <td>-0.505013</td>\n",
              "      <td>0.334321</td>\n",
              "      <td>0.154655</td>\n",
              "      <td>0.633848</td>\n",
              "      <td>0.997518</td>\n",
              "      <td>0.537003</td>\n",
              "      <td>-0.333254</td>\n",
              "      <td>-0.611590</td>\n",
              "      <td>0.209429</td>\n",
              "    </tr>\n",
              "    <tr>\n",
              "      <th>3</th>\n",
              "      <td>-0.707989</td>\n",
              "      <td>1.566842</td>\n",
              "      <td>1.210992</td>\n",
              "      <td>2.036757</td>\n",
              "      <td>0.864193</td>\n",
              "      <td>-1.366605</td>\n",
              "      <td>2.543164</td>\n",
              "      <td>1.671720</td>\n",
              "      <td>1.539983</td>\n",
              "      <td>-1.236842</td>\n",
              "      <td>...</td>\n",
              "      <td>-1.426946</td>\n",
              "      <td>-0.876561</td>\n",
              "      <td>-0.195377</td>\n",
              "      <td>1.266137</td>\n",
              "      <td>-0.769589</td>\n",
              "      <td>-1.188386</td>\n",
              "      <td>1.366831</td>\n",
              "      <td>-1.450624</td>\n",
              "      <td>1.433921</td>\n",
              "      <td>-0.457654</td>\n",
              "    </tr>\n",
              "    <tr>\n",
              "      <th>4</th>\n",
              "      <td>0.147720</td>\n",
              "      <td>1.951131</td>\n",
              "      <td>2.720746</td>\n",
              "      <td>0.825240</td>\n",
              "      <td>0.188283</td>\n",
              "      <td>-0.662247</td>\n",
              "      <td>-0.178244</td>\n",
              "      <td>0.552779</td>\n",
              "      <td>1.265213</td>\n",
              "      <td>-1.657513</td>\n",
              "      <td>...</td>\n",
              "      <td>-0.672240</td>\n",
              "      <td>2.250735</td>\n",
              "      <td>0.572337</td>\n",
              "      <td>-1.130341</td>\n",
              "      <td>0.363177</td>\n",
              "      <td>1.574580</td>\n",
              "      <td>0.302234</td>\n",
              "      <td>-0.871057</td>\n",
              "      <td>0.444568</td>\n",
              "      <td>-0.454546</td>\n",
              "    </tr>\n",
              "  </tbody>\n",
              "</table>\n",
              "<p>5 rows × 150 columns</p>\n",
              "</div>\n",
              "    <div class=\"colab-df-buttons\">\n",
              "\n",
              "  <div class=\"colab-df-container\">\n",
              "    <button class=\"colab-df-convert\" onclick=\"convertToInteractive('df-4d3a4b67-2613-4863-978c-07624460dab6')\"\n",
              "            title=\"Convert this dataframe to an interactive table.\"\n",
              "            style=\"display:none;\">\n",
              "\n",
              "  <svg xmlns=\"http://www.w3.org/2000/svg\" height=\"24px\" viewBox=\"0 -960 960 960\">\n",
              "    <path d=\"M120-120v-720h720v720H120Zm60-500h600v-160H180v160Zm220 220h160v-160H400v160Zm0 220h160v-160H400v160ZM180-400h160v-160H180v160Zm440 0h160v-160H620v160ZM180-180h160v-160H180v160Zm440 0h160v-160H620v160Z\"/>\n",
              "  </svg>\n",
              "    </button>\n",
              "\n",
              "  <style>\n",
              "    .colab-df-container {\n",
              "      display:flex;\n",
              "      gap: 12px;\n",
              "    }\n",
              "\n",
              "    .colab-df-convert {\n",
              "      background-color: #E8F0FE;\n",
              "      border: none;\n",
              "      border-radius: 50%;\n",
              "      cursor: pointer;\n",
              "      display: none;\n",
              "      fill: #1967D2;\n",
              "      height: 32px;\n",
              "      padding: 0 0 0 0;\n",
              "      width: 32px;\n",
              "    }\n",
              "\n",
              "    .colab-df-convert:hover {\n",
              "      background-color: #E2EBFA;\n",
              "      box-shadow: 0px 1px 2px rgba(60, 64, 67, 0.3), 0px 1px 3px 1px rgba(60, 64, 67, 0.15);\n",
              "      fill: #174EA6;\n",
              "    }\n",
              "\n",
              "    .colab-df-buttons div {\n",
              "      margin-bottom: 4px;\n",
              "    }\n",
              "\n",
              "    [theme=dark] .colab-df-convert {\n",
              "      background-color: #3B4455;\n",
              "      fill: #D2E3FC;\n",
              "    }\n",
              "\n",
              "    [theme=dark] .colab-df-convert:hover {\n",
              "      background-color: #434B5C;\n",
              "      box-shadow: 0px 1px 3px 1px rgba(0, 0, 0, 0.15);\n",
              "      filter: drop-shadow(0px 1px 2px rgba(0, 0, 0, 0.3));\n",
              "      fill: #FFFFFF;\n",
              "    }\n",
              "  </style>\n",
              "\n",
              "    <script>\n",
              "      const buttonEl =\n",
              "        document.querySelector('#df-4d3a4b67-2613-4863-978c-07624460dab6 button.colab-df-convert');\n",
              "      buttonEl.style.display =\n",
              "        google.colab.kernel.accessAllowed ? 'block' : 'none';\n",
              "\n",
              "      async function convertToInteractive(key) {\n",
              "        const element = document.querySelector('#df-4d3a4b67-2613-4863-978c-07624460dab6');\n",
              "        const dataTable =\n",
              "          await google.colab.kernel.invokeFunction('convertToInteractive',\n",
              "                                                    [key], {});\n",
              "        if (!dataTable) return;\n",
              "\n",
              "        const docLinkHtml = 'Like what you see? Visit the ' +\n",
              "          '<a target=\"_blank\" href=https://colab.research.google.com/notebooks/data_table.ipynb>data table notebook</a>'\n",
              "          + ' to learn more about interactive tables.';\n",
              "        element.innerHTML = '';\n",
              "        dataTable['output_type'] = 'display_data';\n",
              "        await google.colab.output.renderOutput(dataTable, element);\n",
              "        const docLink = document.createElement('div');\n",
              "        docLink.innerHTML = docLinkHtml;\n",
              "        element.appendChild(docLink);\n",
              "      }\n",
              "    </script>\n",
              "  </div>\n",
              "\n",
              "\n",
              "<div id=\"df-a64baf29-d900-462c-ac00-21a2755f3f9b\">\n",
              "  <button class=\"colab-df-quickchart\" onclick=\"quickchart('df-a64baf29-d900-462c-ac00-21a2755f3f9b')\"\n",
              "            title=\"Suggest charts\"\n",
              "            style=\"display:none;\">\n",
              "\n",
              "<svg xmlns=\"http://www.w3.org/2000/svg\" height=\"24px\"viewBox=\"0 0 24 24\"\n",
              "     width=\"24px\">\n",
              "    <g>\n",
              "        <path d=\"M19 3H5c-1.1 0-2 .9-2 2v14c0 1.1.9 2 2 2h14c1.1 0 2-.9 2-2V5c0-1.1-.9-2-2-2zM9 17H7v-7h2v7zm4 0h-2V7h2v10zm4 0h-2v-4h2v4z\"/>\n",
              "    </g>\n",
              "</svg>\n",
              "  </button>\n",
              "\n",
              "<style>\n",
              "  .colab-df-quickchart {\n",
              "      --bg-color: #E8F0FE;\n",
              "      --fill-color: #1967D2;\n",
              "      --hover-bg-color: #E2EBFA;\n",
              "      --hover-fill-color: #174EA6;\n",
              "      --disabled-fill-color: #AAA;\n",
              "      --disabled-bg-color: #DDD;\n",
              "  }\n",
              "\n",
              "  [theme=dark] .colab-df-quickchart {\n",
              "      --bg-color: #3B4455;\n",
              "      --fill-color: #D2E3FC;\n",
              "      --hover-bg-color: #434B5C;\n",
              "      --hover-fill-color: #FFFFFF;\n",
              "      --disabled-bg-color: #3B4455;\n",
              "      --disabled-fill-color: #666;\n",
              "  }\n",
              "\n",
              "  .colab-df-quickchart {\n",
              "    background-color: var(--bg-color);\n",
              "    border: none;\n",
              "    border-radius: 50%;\n",
              "    cursor: pointer;\n",
              "    display: none;\n",
              "    fill: var(--fill-color);\n",
              "    height: 32px;\n",
              "    padding: 0;\n",
              "    width: 32px;\n",
              "  }\n",
              "\n",
              "  .colab-df-quickchart:hover {\n",
              "    background-color: var(--hover-bg-color);\n",
              "    box-shadow: 0 1px 2px rgba(60, 64, 67, 0.3), 0 1px 3px 1px rgba(60, 64, 67, 0.15);\n",
              "    fill: var(--button-hover-fill-color);\n",
              "  }\n",
              "\n",
              "  .colab-df-quickchart-complete:disabled,\n",
              "  .colab-df-quickchart-complete:disabled:hover {\n",
              "    background-color: var(--disabled-bg-color);\n",
              "    fill: var(--disabled-fill-color);\n",
              "    box-shadow: none;\n",
              "  }\n",
              "\n",
              "  .colab-df-spinner {\n",
              "    border: 2px solid var(--fill-color);\n",
              "    border-color: transparent;\n",
              "    border-bottom-color: var(--fill-color);\n",
              "    animation:\n",
              "      spin 1s steps(1) infinite;\n",
              "  }\n",
              "\n",
              "  @keyframes spin {\n",
              "    0% {\n",
              "      border-color: transparent;\n",
              "      border-bottom-color: var(--fill-color);\n",
              "      border-left-color: var(--fill-color);\n",
              "    }\n",
              "    20% {\n",
              "      border-color: transparent;\n",
              "      border-left-color: var(--fill-color);\n",
              "      border-top-color: var(--fill-color);\n",
              "    }\n",
              "    30% {\n",
              "      border-color: transparent;\n",
              "      border-left-color: var(--fill-color);\n",
              "      border-top-color: var(--fill-color);\n",
              "      border-right-color: var(--fill-color);\n",
              "    }\n",
              "    40% {\n",
              "      border-color: transparent;\n",
              "      border-right-color: var(--fill-color);\n",
              "      border-top-color: var(--fill-color);\n",
              "    }\n",
              "    60% {\n",
              "      border-color: transparent;\n",
              "      border-right-color: var(--fill-color);\n",
              "    }\n",
              "    80% {\n",
              "      border-color: transparent;\n",
              "      border-right-color: var(--fill-color);\n",
              "      border-bottom-color: var(--fill-color);\n",
              "    }\n",
              "    90% {\n",
              "      border-color: transparent;\n",
              "      border-bottom-color: var(--fill-color);\n",
              "    }\n",
              "  }\n",
              "</style>\n",
              "\n",
              "  <script>\n",
              "    async function quickchart(key) {\n",
              "      const quickchartButtonEl =\n",
              "        document.querySelector('#' + key + ' button');\n",
              "      quickchartButtonEl.disabled = true;  // To prevent multiple clicks.\n",
              "      quickchartButtonEl.classList.add('colab-df-spinner');\n",
              "      try {\n",
              "        const charts = await google.colab.kernel.invokeFunction(\n",
              "            'suggestCharts', [key], {});\n",
              "      } catch (error) {\n",
              "        console.error('Error during call to suggestCharts:', error);\n",
              "      }\n",
              "      quickchartButtonEl.classList.remove('colab-df-spinner');\n",
              "      quickchartButtonEl.classList.add('colab-df-quickchart-complete');\n",
              "    }\n",
              "    (() => {\n",
              "      let quickchartButtonEl =\n",
              "        document.querySelector('#df-a64baf29-d900-462c-ac00-21a2755f3f9b button');\n",
              "      quickchartButtonEl.style.display =\n",
              "        google.colab.kernel.accessAllowed ? 'block' : 'none';\n",
              "    })();\n",
              "  </script>\n",
              "</div>\n",
              "\n",
              "    </div>\n",
              "  </div>\n"
            ]
          },
          "metadata": {},
          "execution_count": 68
        }
      ]
    },
    {
      "cell_type": "code",
      "source": [
        "train_index,_, X_train = preprocess(X_train)"
      ],
      "metadata": {
        "id": "5r7ZuIZJ8wSb"
      },
      "execution_count": 69,
      "outputs": []
    },
    {
      "cell_type": "code",
      "source": [
        "X_train"
      ],
      "metadata": {
        "colab": {
          "base_uri": "https://localhost:8080/"
        },
        "id": "_4mkFPrbSxTZ",
        "outputId": "07895f81-bcea-4d45-9504-94d8883cc2d7"
      },
      "execution_count": 90,
      "outputs": [
        {
          "output_type": "execute_result",
          "data": {
            "text/plain": [
              "array([list([6, 147, 36, 321, 15, 6653]), list([528, 28165]),\n",
              "       list([35, 18523, 1311, 5, 1539, 34, 33, 15446, 90592, 33]), ...,\n",
              "       list([28101, 455, 49, 24, 36821, 206849, 146, 5113, 7, 310, 276, 7, 47, 15, 24, 4, 453, 488, 17, 17225, 206850, 7, 6161, 13717]),\n",
              "       list([142, 57, 157, 22, 3, 206851, 636, 910, 143, 4, 3945, 56, 2139, 3919, 2, 193, 8, 3316, 206852, 27061, 46542, 1]),\n",
              "       list([686, 4, 2170, 12796, 17, 971, 206853])], dtype=object)"
            ]
          },
          "metadata": {},
          "execution_count": 90
        }
      ]
    },
    {
      "cell_type": "code",
      "source": [
        "from tensorflow.keras.preprocessing.sequence import pad_sequences\n",
        "\n",
        "X_train_padded = pad_sequences(X_train, maxlen=500, padding='post')\n"
      ],
      "metadata": {
        "id": "PNZ4b7piBeJG"
      },
      "execution_count": 76,
      "outputs": []
    },
    {
      "cell_type": "code",
      "source": [
        "df = pd.DataFrame(X_train_padded)\n",
        "df.head(5)"
      ],
      "metadata": {
        "colab": {
          "base_uri": "https://localhost:8080/",
          "height": 235
        },
        "id": "vyzYRp2iBpcY",
        "outputId": "d410946b-6c06-4ba1-b741-3b0a3a63bb94"
      },
      "execution_count": 83,
      "outputs": [
        {
          "output_type": "execute_result",
          "data": {
            "text/plain": [
              "     0      1      2    3     4     5     6      7      8    9    ...  490  \\\n",
              "0      6    147     36  321    15  6653     0      0      0    0  ...    0   \n",
              "1    528  28165      0    0     0     0     0      0      0    0  ...    0   \n",
              "2     35  18523   1311    5  1539    34    33  15446  90592   33  ...    0   \n",
              "3  15953      8      4  471    12     4  1653      1      0    0  ...    0   \n",
              "4  67745  90593  44625    1     0     0     0      0      0    0  ...    0   \n",
              "\n",
              "   491  492  493  494  495  496  497  498  499  \n",
              "0    0    0    0    0    0    0    0    0    0  \n",
              "1    0    0    0    0    0    0    0    0    0  \n",
              "2    0    0    0    0    0    0    0    0    0  \n",
              "3    0    0    0    0    0    0    0    0    0  \n",
              "4    0    0    0    0    0    0    0    0    0  \n",
              "\n",
              "[5 rows x 500 columns]"
            ],
            "text/html": [
              "\n",
              "  <div id=\"df-38a4cac4-76b1-487e-a189-bad71fd7019b\" class=\"colab-df-container\">\n",
              "    <div>\n",
              "<style scoped>\n",
              "    .dataframe tbody tr th:only-of-type {\n",
              "        vertical-align: middle;\n",
              "    }\n",
              "\n",
              "    .dataframe tbody tr th {\n",
              "        vertical-align: top;\n",
              "    }\n",
              "\n",
              "    .dataframe thead th {\n",
              "        text-align: right;\n",
              "    }\n",
              "</style>\n",
              "<table border=\"1\" class=\"dataframe\">\n",
              "  <thead>\n",
              "    <tr style=\"text-align: right;\">\n",
              "      <th></th>\n",
              "      <th>0</th>\n",
              "      <th>1</th>\n",
              "      <th>2</th>\n",
              "      <th>3</th>\n",
              "      <th>4</th>\n",
              "      <th>5</th>\n",
              "      <th>6</th>\n",
              "      <th>7</th>\n",
              "      <th>8</th>\n",
              "      <th>9</th>\n",
              "      <th>...</th>\n",
              "      <th>490</th>\n",
              "      <th>491</th>\n",
              "      <th>492</th>\n",
              "      <th>493</th>\n",
              "      <th>494</th>\n",
              "      <th>495</th>\n",
              "      <th>496</th>\n",
              "      <th>497</th>\n",
              "      <th>498</th>\n",
              "      <th>499</th>\n",
              "    </tr>\n",
              "  </thead>\n",
              "  <tbody>\n",
              "    <tr>\n",
              "      <th>0</th>\n",
              "      <td>6</td>\n",
              "      <td>147</td>\n",
              "      <td>36</td>\n",
              "      <td>321</td>\n",
              "      <td>15</td>\n",
              "      <td>6653</td>\n",
              "      <td>0</td>\n",
              "      <td>0</td>\n",
              "      <td>0</td>\n",
              "      <td>0</td>\n",
              "      <td>...</td>\n",
              "      <td>0</td>\n",
              "      <td>0</td>\n",
              "      <td>0</td>\n",
              "      <td>0</td>\n",
              "      <td>0</td>\n",
              "      <td>0</td>\n",
              "      <td>0</td>\n",
              "      <td>0</td>\n",
              "      <td>0</td>\n",
              "      <td>0</td>\n",
              "    </tr>\n",
              "    <tr>\n",
              "      <th>1</th>\n",
              "      <td>528</td>\n",
              "      <td>28165</td>\n",
              "      <td>0</td>\n",
              "      <td>0</td>\n",
              "      <td>0</td>\n",
              "      <td>0</td>\n",
              "      <td>0</td>\n",
              "      <td>0</td>\n",
              "      <td>0</td>\n",
              "      <td>0</td>\n",
              "      <td>...</td>\n",
              "      <td>0</td>\n",
              "      <td>0</td>\n",
              "      <td>0</td>\n",
              "      <td>0</td>\n",
              "      <td>0</td>\n",
              "      <td>0</td>\n",
              "      <td>0</td>\n",
              "      <td>0</td>\n",
              "      <td>0</td>\n",
              "      <td>0</td>\n",
              "    </tr>\n",
              "    <tr>\n",
              "      <th>2</th>\n",
              "      <td>35</td>\n",
              "      <td>18523</td>\n",
              "      <td>1311</td>\n",
              "      <td>5</td>\n",
              "      <td>1539</td>\n",
              "      <td>34</td>\n",
              "      <td>33</td>\n",
              "      <td>15446</td>\n",
              "      <td>90592</td>\n",
              "      <td>33</td>\n",
              "      <td>...</td>\n",
              "      <td>0</td>\n",
              "      <td>0</td>\n",
              "      <td>0</td>\n",
              "      <td>0</td>\n",
              "      <td>0</td>\n",
              "      <td>0</td>\n",
              "      <td>0</td>\n",
              "      <td>0</td>\n",
              "      <td>0</td>\n",
              "      <td>0</td>\n",
              "    </tr>\n",
              "    <tr>\n",
              "      <th>3</th>\n",
              "      <td>15953</td>\n",
              "      <td>8</td>\n",
              "      <td>4</td>\n",
              "      <td>471</td>\n",
              "      <td>12</td>\n",
              "      <td>4</td>\n",
              "      <td>1653</td>\n",
              "      <td>1</td>\n",
              "      <td>0</td>\n",
              "      <td>0</td>\n",
              "      <td>...</td>\n",
              "      <td>0</td>\n",
              "      <td>0</td>\n",
              "      <td>0</td>\n",
              "      <td>0</td>\n",
              "      <td>0</td>\n",
              "      <td>0</td>\n",
              "      <td>0</td>\n",
              "      <td>0</td>\n",
              "      <td>0</td>\n",
              "      <td>0</td>\n",
              "    </tr>\n",
              "    <tr>\n",
              "      <th>4</th>\n",
              "      <td>67745</td>\n",
              "      <td>90593</td>\n",
              "      <td>44625</td>\n",
              "      <td>1</td>\n",
              "      <td>0</td>\n",
              "      <td>0</td>\n",
              "      <td>0</td>\n",
              "      <td>0</td>\n",
              "      <td>0</td>\n",
              "      <td>0</td>\n",
              "      <td>...</td>\n",
              "      <td>0</td>\n",
              "      <td>0</td>\n",
              "      <td>0</td>\n",
              "      <td>0</td>\n",
              "      <td>0</td>\n",
              "      <td>0</td>\n",
              "      <td>0</td>\n",
              "      <td>0</td>\n",
              "      <td>0</td>\n",
              "      <td>0</td>\n",
              "    </tr>\n",
              "  </tbody>\n",
              "</table>\n",
              "<p>5 rows × 500 columns</p>\n",
              "</div>\n",
              "    <div class=\"colab-df-buttons\">\n",
              "\n",
              "  <div class=\"colab-df-container\">\n",
              "    <button class=\"colab-df-convert\" onclick=\"convertToInteractive('df-38a4cac4-76b1-487e-a189-bad71fd7019b')\"\n",
              "            title=\"Convert this dataframe to an interactive table.\"\n",
              "            style=\"display:none;\">\n",
              "\n",
              "  <svg xmlns=\"http://www.w3.org/2000/svg\" height=\"24px\" viewBox=\"0 -960 960 960\">\n",
              "    <path d=\"M120-120v-720h720v720H120Zm60-500h600v-160H180v160Zm220 220h160v-160H400v160Zm0 220h160v-160H400v160ZM180-400h160v-160H180v160Zm440 0h160v-160H620v160ZM180-180h160v-160H180v160Zm440 0h160v-160H620v160Z\"/>\n",
              "  </svg>\n",
              "    </button>\n",
              "\n",
              "  <style>\n",
              "    .colab-df-container {\n",
              "      display:flex;\n",
              "      gap: 12px;\n",
              "    }\n",
              "\n",
              "    .colab-df-convert {\n",
              "      background-color: #E8F0FE;\n",
              "      border: none;\n",
              "      border-radius: 50%;\n",
              "      cursor: pointer;\n",
              "      display: none;\n",
              "      fill: #1967D2;\n",
              "      height: 32px;\n",
              "      padding: 0 0 0 0;\n",
              "      width: 32px;\n",
              "    }\n",
              "\n",
              "    .colab-df-convert:hover {\n",
              "      background-color: #E2EBFA;\n",
              "      box-shadow: 0px 1px 2px rgba(60, 64, 67, 0.3), 0px 1px 3px 1px rgba(60, 64, 67, 0.15);\n",
              "      fill: #174EA6;\n",
              "    }\n",
              "\n",
              "    .colab-df-buttons div {\n",
              "      margin-bottom: 4px;\n",
              "    }\n",
              "\n",
              "    [theme=dark] .colab-df-convert {\n",
              "      background-color: #3B4455;\n",
              "      fill: #D2E3FC;\n",
              "    }\n",
              "\n",
              "    [theme=dark] .colab-df-convert:hover {\n",
              "      background-color: #434B5C;\n",
              "      box-shadow: 0px 1px 3px 1px rgba(0, 0, 0, 0.15);\n",
              "      filter: drop-shadow(0px 1px 2px rgba(0, 0, 0, 0.3));\n",
              "      fill: #FFFFFF;\n",
              "    }\n",
              "  </style>\n",
              "\n",
              "    <script>\n",
              "      const buttonEl =\n",
              "        document.querySelector('#df-38a4cac4-76b1-487e-a189-bad71fd7019b button.colab-df-convert');\n",
              "      buttonEl.style.display =\n",
              "        google.colab.kernel.accessAllowed ? 'block' : 'none';\n",
              "\n",
              "      async function convertToInteractive(key) {\n",
              "        const element = document.querySelector('#df-38a4cac4-76b1-487e-a189-bad71fd7019b');\n",
              "        const dataTable =\n",
              "          await google.colab.kernel.invokeFunction('convertToInteractive',\n",
              "                                                    [key], {});\n",
              "        if (!dataTable) return;\n",
              "\n",
              "        const docLinkHtml = 'Like what you see? Visit the ' +\n",
              "          '<a target=\"_blank\" href=https://colab.research.google.com/notebooks/data_table.ipynb>data table notebook</a>'\n",
              "          + ' to learn more about interactive tables.';\n",
              "        element.innerHTML = '';\n",
              "        dataTable['output_type'] = 'display_data';\n",
              "        await google.colab.output.renderOutput(dataTable, element);\n",
              "        const docLink = document.createElement('div');\n",
              "        docLink.innerHTML = docLinkHtml;\n",
              "        element.appendChild(docLink);\n",
              "      }\n",
              "    </script>\n",
              "  </div>\n",
              "\n",
              "\n",
              "<div id=\"df-7283fe70-788f-4041-b8ae-14ae704e0919\">\n",
              "  <button class=\"colab-df-quickchart\" onclick=\"quickchart('df-7283fe70-788f-4041-b8ae-14ae704e0919')\"\n",
              "            title=\"Suggest charts\"\n",
              "            style=\"display:none;\">\n",
              "\n",
              "<svg xmlns=\"http://www.w3.org/2000/svg\" height=\"24px\"viewBox=\"0 0 24 24\"\n",
              "     width=\"24px\">\n",
              "    <g>\n",
              "        <path d=\"M19 3H5c-1.1 0-2 .9-2 2v14c0 1.1.9 2 2 2h14c1.1 0 2-.9 2-2V5c0-1.1-.9-2-2-2zM9 17H7v-7h2v7zm4 0h-2V7h2v10zm4 0h-2v-4h2v4z\"/>\n",
              "    </g>\n",
              "</svg>\n",
              "  </button>\n",
              "\n",
              "<style>\n",
              "  .colab-df-quickchart {\n",
              "      --bg-color: #E8F0FE;\n",
              "      --fill-color: #1967D2;\n",
              "      --hover-bg-color: #E2EBFA;\n",
              "      --hover-fill-color: #174EA6;\n",
              "      --disabled-fill-color: #AAA;\n",
              "      --disabled-bg-color: #DDD;\n",
              "  }\n",
              "\n",
              "  [theme=dark] .colab-df-quickchart {\n",
              "      --bg-color: #3B4455;\n",
              "      --fill-color: #D2E3FC;\n",
              "      --hover-bg-color: #434B5C;\n",
              "      --hover-fill-color: #FFFFFF;\n",
              "      --disabled-bg-color: #3B4455;\n",
              "      --disabled-fill-color: #666;\n",
              "  }\n",
              "\n",
              "  .colab-df-quickchart {\n",
              "    background-color: var(--bg-color);\n",
              "    border: none;\n",
              "    border-radius: 50%;\n",
              "    cursor: pointer;\n",
              "    display: none;\n",
              "    fill: var(--fill-color);\n",
              "    height: 32px;\n",
              "    padding: 0;\n",
              "    width: 32px;\n",
              "  }\n",
              "\n",
              "  .colab-df-quickchart:hover {\n",
              "    background-color: var(--hover-bg-color);\n",
              "    box-shadow: 0 1px 2px rgba(60, 64, 67, 0.3), 0 1px 3px 1px rgba(60, 64, 67, 0.15);\n",
              "    fill: var(--button-hover-fill-color);\n",
              "  }\n",
              "\n",
              "  .colab-df-quickchart-complete:disabled,\n",
              "  .colab-df-quickchart-complete:disabled:hover {\n",
              "    background-color: var(--disabled-bg-color);\n",
              "    fill: var(--disabled-fill-color);\n",
              "    box-shadow: none;\n",
              "  }\n",
              "\n",
              "  .colab-df-spinner {\n",
              "    border: 2px solid var(--fill-color);\n",
              "    border-color: transparent;\n",
              "    border-bottom-color: var(--fill-color);\n",
              "    animation:\n",
              "      spin 1s steps(1) infinite;\n",
              "  }\n",
              "\n",
              "  @keyframes spin {\n",
              "    0% {\n",
              "      border-color: transparent;\n",
              "      border-bottom-color: var(--fill-color);\n",
              "      border-left-color: var(--fill-color);\n",
              "    }\n",
              "    20% {\n",
              "      border-color: transparent;\n",
              "      border-left-color: var(--fill-color);\n",
              "      border-top-color: var(--fill-color);\n",
              "    }\n",
              "    30% {\n",
              "      border-color: transparent;\n",
              "      border-left-color: var(--fill-color);\n",
              "      border-top-color: var(--fill-color);\n",
              "      border-right-color: var(--fill-color);\n",
              "    }\n",
              "    40% {\n",
              "      border-color: transparent;\n",
              "      border-right-color: var(--fill-color);\n",
              "      border-top-color: var(--fill-color);\n",
              "    }\n",
              "    60% {\n",
              "      border-color: transparent;\n",
              "      border-right-color: var(--fill-color);\n",
              "    }\n",
              "    80% {\n",
              "      border-color: transparent;\n",
              "      border-right-color: var(--fill-color);\n",
              "      border-bottom-color: var(--fill-color);\n",
              "    }\n",
              "    90% {\n",
              "      border-color: transparent;\n",
              "      border-bottom-color: var(--fill-color);\n",
              "    }\n",
              "  }\n",
              "</style>\n",
              "\n",
              "  <script>\n",
              "    async function quickchart(key) {\n",
              "      const quickchartButtonEl =\n",
              "        document.querySelector('#' + key + ' button');\n",
              "      quickchartButtonEl.disabled = true;  // To prevent multiple clicks.\n",
              "      quickchartButtonEl.classList.add('colab-df-spinner');\n",
              "      try {\n",
              "        const charts = await google.colab.kernel.invokeFunction(\n",
              "            'suggestCharts', [key], {});\n",
              "      } catch (error) {\n",
              "        console.error('Error during call to suggestCharts:', error);\n",
              "      }\n",
              "      quickchartButtonEl.classList.remove('colab-df-spinner');\n",
              "      quickchartButtonEl.classList.add('colab-df-quickchart-complete');\n",
              "    }\n",
              "    (() => {\n",
              "      let quickchartButtonEl =\n",
              "        document.querySelector('#df-7283fe70-788f-4041-b8ae-14ae704e0919 button');\n",
              "      quickchartButtonEl.style.display =\n",
              "        google.colab.kernel.accessAllowed ? 'block' : 'none';\n",
              "    })();\n",
              "  </script>\n",
              "</div>\n",
              "\n",
              "    </div>\n",
              "  </div>\n"
            ]
          },
          "metadata": {},
          "execution_count": 83
        }
      ]
    },
    {
      "cell_type": "code",
      "source": [
        "# import tensorflow as tf\n",
        "# from tensorflow.keras.models import Sequential\n",
        "# from tensorflow.keras.layers import LSTM, Dense, Embedding\n",
        "# from tensorflow.keras.preprocessing.sequence import pad_sequences\n",
        "\n",
        "# model = Sequential()\n",
        "# model.add(Embedding(input_dim=word_size, output_dim=word2vec.vector_size, weights=[embedding_matrix], trainable=False))\n",
        "# model.add(LSTM(128))\n",
        "# model.add(Dense(1, activation='sigmoid'))\n",
        "\n",
        "\n",
        "# model.compile(optimizer='adam', loss='binary_crossentropy', metrics=['accuracy'])\n",
        "\n",
        "\n",
        "# model.fit(X_train_padded, y_train, epochs=10, validation_split=0.2)\n",
        "\n",
        "# # get X_train data into format where the embeddings layer can look up its corresposnding vector, add padding so that all input is the same length\n",
        "# # model.evaluate(X_test, y_test)\n"
      ],
      "metadata": {
        "id": "1U3uKTHouftj",
        "outputId": "51576390-d45d-4714-fe5e-157e6b361f2c",
        "colab": {
          "base_uri": "https://localhost:8080/",
          "height": 588
        }
      },
      "execution_count": 78,
      "outputs": [
        {
          "output_type": "stream",
          "name": "stdout",
          "text": [
            "Epoch 1/10\n",
            "15163/15163 [==============================] - 309s 20ms/step - loss: 0.6932 - accuracy: 0.4998 - val_loss: 0.6932 - val_accuracy: 0.4990\n",
            "Epoch 2/10\n",
            "15163/15163 [==============================] - 318s 21ms/step - loss: 0.6932 - accuracy: 0.4996 - val_loss: 0.6932 - val_accuracy: 0.5010\n",
            "Epoch 3/10\n",
            "15163/15163 [==============================] - 308s 20ms/step - loss: 0.6932 - accuracy: 0.5002 - val_loss: 0.6932 - val_accuracy: 0.4990\n",
            "Epoch 4/10\n",
            "15163/15163 [==============================] - 319s 21ms/step - loss: 0.6932 - accuracy: 0.4995 - val_loss: 0.6931 - val_accuracy: 0.5010\n",
            "Epoch 5/10\n",
            " 7414/15163 [=============>................] - ETA: 2:29 - loss: 0.6932 - accuracy: 0.4979"
          ]
        },
        {
          "output_type": "error",
          "ename": "KeyboardInterrupt",
          "evalue": "",
          "traceback": [
            "\u001b[0;31m---------------------------------------------------------------------------\u001b[0m",
            "\u001b[0;31mKeyboardInterrupt\u001b[0m                         Traceback (most recent call last)",
            "\u001b[0;32m<ipython-input-78-46f5cff8a345>\u001b[0m in \u001b[0;36m<cell line: 15>\u001b[0;34m()\u001b[0m\n\u001b[1;32m     13\u001b[0m \u001b[0;34m\u001b[0m\u001b[0m\n\u001b[1;32m     14\u001b[0m \u001b[0;34m\u001b[0m\u001b[0m\n\u001b[0;32m---> 15\u001b[0;31m \u001b[0mmodel\u001b[0m\u001b[0;34m.\u001b[0m\u001b[0mfit\u001b[0m\u001b[0;34m(\u001b[0m\u001b[0mX_train_padded\u001b[0m\u001b[0;34m,\u001b[0m \u001b[0my_train\u001b[0m\u001b[0;34m,\u001b[0m \u001b[0mepochs\u001b[0m\u001b[0;34m=\u001b[0m\u001b[0;36m10\u001b[0m\u001b[0;34m,\u001b[0m \u001b[0mvalidation_split\u001b[0m\u001b[0;34m=\u001b[0m\u001b[0;36m0.2\u001b[0m\u001b[0;34m)\u001b[0m\u001b[0;34m\u001b[0m\u001b[0;34m\u001b[0m\u001b[0m\n\u001b[0m\u001b[1;32m     16\u001b[0m \u001b[0;34m\u001b[0m\u001b[0m\n\u001b[1;32m     17\u001b[0m \u001b[0;31m# get X_train data into format where the embeddings layer can look up its corresposnding vector, add padding so that all input is the same length\u001b[0m\u001b[0;34m\u001b[0m\u001b[0;34m\u001b[0m\u001b[0m\n",
            "\u001b[0;32m/usr/local/lib/python3.10/dist-packages/keras/src/utils/traceback_utils.py\u001b[0m in \u001b[0;36merror_handler\u001b[0;34m(*args, **kwargs)\u001b[0m\n\u001b[1;32m     63\u001b[0m         \u001b[0mfiltered_tb\u001b[0m \u001b[0;34m=\u001b[0m \u001b[0;32mNone\u001b[0m\u001b[0;34m\u001b[0m\u001b[0;34m\u001b[0m\u001b[0m\n\u001b[1;32m     64\u001b[0m         \u001b[0;32mtry\u001b[0m\u001b[0;34m:\u001b[0m\u001b[0;34m\u001b[0m\u001b[0;34m\u001b[0m\u001b[0m\n\u001b[0;32m---> 65\u001b[0;31m             \u001b[0;32mreturn\u001b[0m \u001b[0mfn\u001b[0m\u001b[0;34m(\u001b[0m\u001b[0;34m*\u001b[0m\u001b[0margs\u001b[0m\u001b[0;34m,\u001b[0m \u001b[0;34m**\u001b[0m\u001b[0mkwargs\u001b[0m\u001b[0;34m)\u001b[0m\u001b[0;34m\u001b[0m\u001b[0;34m\u001b[0m\u001b[0m\n\u001b[0m\u001b[1;32m     66\u001b[0m         \u001b[0;32mexcept\u001b[0m \u001b[0mException\u001b[0m \u001b[0;32mas\u001b[0m \u001b[0me\u001b[0m\u001b[0;34m:\u001b[0m\u001b[0;34m\u001b[0m\u001b[0;34m\u001b[0m\u001b[0m\n\u001b[1;32m     67\u001b[0m             \u001b[0mfiltered_tb\u001b[0m \u001b[0;34m=\u001b[0m \u001b[0m_process_traceback_frames\u001b[0m\u001b[0;34m(\u001b[0m\u001b[0me\u001b[0m\u001b[0;34m.\u001b[0m\u001b[0m__traceback__\u001b[0m\u001b[0;34m)\u001b[0m\u001b[0;34m\u001b[0m\u001b[0;34m\u001b[0m\u001b[0m\n",
            "\u001b[0;32m/usr/local/lib/python3.10/dist-packages/keras/src/engine/training.py\u001b[0m in \u001b[0;36mfit\u001b[0;34m(self, x, y, batch_size, epochs, verbose, callbacks, validation_split, validation_data, shuffle, class_weight, sample_weight, initial_epoch, steps_per_epoch, validation_steps, validation_batch_size, validation_freq, max_queue_size, workers, use_multiprocessing)\u001b[0m\n\u001b[1;32m   1805\u001b[0m                         ):\n\u001b[1;32m   1806\u001b[0m                             \u001b[0mcallbacks\u001b[0m\u001b[0;34m.\u001b[0m\u001b[0mon_train_batch_begin\u001b[0m\u001b[0;34m(\u001b[0m\u001b[0mstep\u001b[0m\u001b[0;34m)\u001b[0m\u001b[0;34m\u001b[0m\u001b[0;34m\u001b[0m\u001b[0m\n\u001b[0;32m-> 1807\u001b[0;31m                             \u001b[0mtmp_logs\u001b[0m \u001b[0;34m=\u001b[0m \u001b[0mself\u001b[0m\u001b[0;34m.\u001b[0m\u001b[0mtrain_function\u001b[0m\u001b[0;34m(\u001b[0m\u001b[0miterator\u001b[0m\u001b[0;34m)\u001b[0m\u001b[0;34m\u001b[0m\u001b[0;34m\u001b[0m\u001b[0m\n\u001b[0m\u001b[1;32m   1808\u001b[0m                             \u001b[0;32mif\u001b[0m \u001b[0mdata_handler\u001b[0m\u001b[0;34m.\u001b[0m\u001b[0mshould_sync\u001b[0m\u001b[0;34m:\u001b[0m\u001b[0;34m\u001b[0m\u001b[0;34m\u001b[0m\u001b[0m\n\u001b[1;32m   1809\u001b[0m                                 \u001b[0mcontext\u001b[0m\u001b[0;34m.\u001b[0m\u001b[0masync_wait\u001b[0m\u001b[0;34m(\u001b[0m\u001b[0;34m)\u001b[0m\u001b[0;34m\u001b[0m\u001b[0;34m\u001b[0m\u001b[0m\n",
            "\u001b[0;32m/usr/local/lib/python3.10/dist-packages/tensorflow/python/util/traceback_utils.py\u001b[0m in \u001b[0;36merror_handler\u001b[0;34m(*args, **kwargs)\u001b[0m\n\u001b[1;32m    148\u001b[0m     \u001b[0mfiltered_tb\u001b[0m \u001b[0;34m=\u001b[0m \u001b[0;32mNone\u001b[0m\u001b[0;34m\u001b[0m\u001b[0;34m\u001b[0m\u001b[0m\n\u001b[1;32m    149\u001b[0m     \u001b[0;32mtry\u001b[0m\u001b[0;34m:\u001b[0m\u001b[0;34m\u001b[0m\u001b[0;34m\u001b[0m\u001b[0m\n\u001b[0;32m--> 150\u001b[0;31m       \u001b[0;32mreturn\u001b[0m \u001b[0mfn\u001b[0m\u001b[0;34m(\u001b[0m\u001b[0;34m*\u001b[0m\u001b[0margs\u001b[0m\u001b[0;34m,\u001b[0m \u001b[0;34m**\u001b[0m\u001b[0mkwargs\u001b[0m\u001b[0;34m)\u001b[0m\u001b[0;34m\u001b[0m\u001b[0;34m\u001b[0m\u001b[0m\n\u001b[0m\u001b[1;32m    151\u001b[0m     \u001b[0;32mexcept\u001b[0m \u001b[0mException\u001b[0m \u001b[0;32mas\u001b[0m \u001b[0me\u001b[0m\u001b[0;34m:\u001b[0m\u001b[0;34m\u001b[0m\u001b[0;34m\u001b[0m\u001b[0m\n\u001b[1;32m    152\u001b[0m       \u001b[0mfiltered_tb\u001b[0m \u001b[0;34m=\u001b[0m \u001b[0m_process_traceback_frames\u001b[0m\u001b[0;34m(\u001b[0m\u001b[0me\u001b[0m\u001b[0;34m.\u001b[0m\u001b[0m__traceback__\u001b[0m\u001b[0;34m)\u001b[0m\u001b[0;34m\u001b[0m\u001b[0;34m\u001b[0m\u001b[0m\n",
            "\u001b[0;32m/usr/local/lib/python3.10/dist-packages/tensorflow/python/eager/polymorphic_function/polymorphic_function.py\u001b[0m in \u001b[0;36m__call__\u001b[0;34m(self, *args, **kwds)\u001b[0m\n\u001b[1;32m    830\u001b[0m \u001b[0;34m\u001b[0m\u001b[0m\n\u001b[1;32m    831\u001b[0m       \u001b[0;32mwith\u001b[0m \u001b[0mOptionalXlaContext\u001b[0m\u001b[0;34m(\u001b[0m\u001b[0mself\u001b[0m\u001b[0;34m.\u001b[0m\u001b[0m_jit_compile\u001b[0m\u001b[0;34m)\u001b[0m\u001b[0;34m:\u001b[0m\u001b[0;34m\u001b[0m\u001b[0;34m\u001b[0m\u001b[0m\n\u001b[0;32m--> 832\u001b[0;31m         \u001b[0mresult\u001b[0m \u001b[0;34m=\u001b[0m \u001b[0mself\u001b[0m\u001b[0;34m.\u001b[0m\u001b[0m_call\u001b[0m\u001b[0;34m(\u001b[0m\u001b[0;34m*\u001b[0m\u001b[0margs\u001b[0m\u001b[0;34m,\u001b[0m \u001b[0;34m**\u001b[0m\u001b[0mkwds\u001b[0m\u001b[0;34m)\u001b[0m\u001b[0;34m\u001b[0m\u001b[0;34m\u001b[0m\u001b[0m\n\u001b[0m\u001b[1;32m    833\u001b[0m \u001b[0;34m\u001b[0m\u001b[0m\n\u001b[1;32m    834\u001b[0m       \u001b[0mnew_tracing_count\u001b[0m \u001b[0;34m=\u001b[0m \u001b[0mself\u001b[0m\u001b[0;34m.\u001b[0m\u001b[0mexperimental_get_tracing_count\u001b[0m\u001b[0;34m(\u001b[0m\u001b[0;34m)\u001b[0m\u001b[0;34m\u001b[0m\u001b[0;34m\u001b[0m\u001b[0m\n",
            "\u001b[0;32m/usr/local/lib/python3.10/dist-packages/tensorflow/python/eager/polymorphic_function/polymorphic_function.py\u001b[0m in \u001b[0;36m_call\u001b[0;34m(self, *args, **kwds)\u001b[0m\n\u001b[1;32m    866\u001b[0m       \u001b[0;31m# In this case we have created variables on the first call, so we run the\u001b[0m\u001b[0;34m\u001b[0m\u001b[0;34m\u001b[0m\u001b[0m\n\u001b[1;32m    867\u001b[0m       \u001b[0;31m# defunned version which is guaranteed to never create variables.\u001b[0m\u001b[0;34m\u001b[0m\u001b[0;34m\u001b[0m\u001b[0m\n\u001b[0;32m--> 868\u001b[0;31m       return tracing_compilation.call_function(\n\u001b[0m\u001b[1;32m    869\u001b[0m           \u001b[0margs\u001b[0m\u001b[0;34m,\u001b[0m \u001b[0mkwds\u001b[0m\u001b[0;34m,\u001b[0m \u001b[0mself\u001b[0m\u001b[0;34m.\u001b[0m\u001b[0m_no_variable_creation_config\u001b[0m\u001b[0;34m\u001b[0m\u001b[0;34m\u001b[0m\u001b[0m\n\u001b[1;32m    870\u001b[0m       )\n",
            "\u001b[0;32m/usr/local/lib/python3.10/dist-packages/tensorflow/python/eager/polymorphic_function/tracing_compilation.py\u001b[0m in \u001b[0;36mcall_function\u001b[0;34m(args, kwargs, tracing_options)\u001b[0m\n\u001b[1;32m    137\u001b[0m   \u001b[0mbound_args\u001b[0m \u001b[0;34m=\u001b[0m \u001b[0mfunction\u001b[0m\u001b[0;34m.\u001b[0m\u001b[0mfunction_type\u001b[0m\u001b[0;34m.\u001b[0m\u001b[0mbind\u001b[0m\u001b[0;34m(\u001b[0m\u001b[0;34m*\u001b[0m\u001b[0margs\u001b[0m\u001b[0;34m,\u001b[0m \u001b[0;34m**\u001b[0m\u001b[0mkwargs\u001b[0m\u001b[0;34m)\u001b[0m\u001b[0;34m\u001b[0m\u001b[0;34m\u001b[0m\u001b[0m\n\u001b[1;32m    138\u001b[0m   \u001b[0mflat_inputs\u001b[0m \u001b[0;34m=\u001b[0m \u001b[0mfunction\u001b[0m\u001b[0;34m.\u001b[0m\u001b[0mfunction_type\u001b[0m\u001b[0;34m.\u001b[0m\u001b[0munpack_inputs\u001b[0m\u001b[0;34m(\u001b[0m\u001b[0mbound_args\u001b[0m\u001b[0;34m)\u001b[0m\u001b[0;34m\u001b[0m\u001b[0;34m\u001b[0m\u001b[0m\n\u001b[0;32m--> 139\u001b[0;31m   return function._call_flat(  # pylint: disable=protected-access\n\u001b[0m\u001b[1;32m    140\u001b[0m       \u001b[0mflat_inputs\u001b[0m\u001b[0;34m,\u001b[0m \u001b[0mcaptured_inputs\u001b[0m\u001b[0;34m=\u001b[0m\u001b[0mfunction\u001b[0m\u001b[0;34m.\u001b[0m\u001b[0mcaptured_inputs\u001b[0m\u001b[0;34m\u001b[0m\u001b[0;34m\u001b[0m\u001b[0m\n\u001b[1;32m    141\u001b[0m   )\n",
            "\u001b[0;32m/usr/local/lib/python3.10/dist-packages/tensorflow/python/eager/polymorphic_function/concrete_function.py\u001b[0m in \u001b[0;36m_call_flat\u001b[0;34m(self, tensor_inputs, captured_inputs)\u001b[0m\n\u001b[1;32m   1321\u001b[0m         and executing_eagerly):\n\u001b[1;32m   1322\u001b[0m       \u001b[0;31m# No tape is watching; skip to running the function.\u001b[0m\u001b[0;34m\u001b[0m\u001b[0;34m\u001b[0m\u001b[0m\n\u001b[0;32m-> 1323\u001b[0;31m       \u001b[0;32mreturn\u001b[0m \u001b[0mself\u001b[0m\u001b[0;34m.\u001b[0m\u001b[0m_inference_function\u001b[0m\u001b[0;34m.\u001b[0m\u001b[0mcall_preflattened\u001b[0m\u001b[0;34m(\u001b[0m\u001b[0margs\u001b[0m\u001b[0;34m)\u001b[0m\u001b[0;34m\u001b[0m\u001b[0;34m\u001b[0m\u001b[0m\n\u001b[0m\u001b[1;32m   1324\u001b[0m     forward_backward = self._select_forward_and_backward_functions(\n\u001b[1;32m   1325\u001b[0m         \u001b[0margs\u001b[0m\u001b[0;34m,\u001b[0m\u001b[0;34m\u001b[0m\u001b[0;34m\u001b[0m\u001b[0m\n",
            "\u001b[0;32m/usr/local/lib/python3.10/dist-packages/tensorflow/python/eager/polymorphic_function/atomic_function.py\u001b[0m in \u001b[0;36mcall_preflattened\u001b[0;34m(self, args)\u001b[0m\n\u001b[1;32m    214\u001b[0m   \u001b[0;32mdef\u001b[0m \u001b[0mcall_preflattened\u001b[0m\u001b[0;34m(\u001b[0m\u001b[0mself\u001b[0m\u001b[0;34m,\u001b[0m \u001b[0margs\u001b[0m\u001b[0;34m:\u001b[0m \u001b[0mSequence\u001b[0m\u001b[0;34m[\u001b[0m\u001b[0mcore\u001b[0m\u001b[0;34m.\u001b[0m\u001b[0mTensor\u001b[0m\u001b[0;34m]\u001b[0m\u001b[0;34m)\u001b[0m \u001b[0;34m->\u001b[0m \u001b[0mAny\u001b[0m\u001b[0;34m:\u001b[0m\u001b[0;34m\u001b[0m\u001b[0;34m\u001b[0m\u001b[0m\n\u001b[1;32m    215\u001b[0m     \u001b[0;34m\"\"\"Calls with flattened tensor inputs and returns the structured output.\"\"\"\u001b[0m\u001b[0;34m\u001b[0m\u001b[0;34m\u001b[0m\u001b[0m\n\u001b[0;32m--> 216\u001b[0;31m     \u001b[0mflat_outputs\u001b[0m \u001b[0;34m=\u001b[0m \u001b[0mself\u001b[0m\u001b[0;34m.\u001b[0m\u001b[0mcall_flat\u001b[0m\u001b[0;34m(\u001b[0m\u001b[0;34m*\u001b[0m\u001b[0margs\u001b[0m\u001b[0;34m)\u001b[0m\u001b[0;34m\u001b[0m\u001b[0;34m\u001b[0m\u001b[0m\n\u001b[0m\u001b[1;32m    217\u001b[0m     \u001b[0;32mreturn\u001b[0m \u001b[0mself\u001b[0m\u001b[0;34m.\u001b[0m\u001b[0mfunction_type\u001b[0m\u001b[0;34m.\u001b[0m\u001b[0mpack_output\u001b[0m\u001b[0;34m(\u001b[0m\u001b[0mflat_outputs\u001b[0m\u001b[0;34m)\u001b[0m\u001b[0;34m\u001b[0m\u001b[0;34m\u001b[0m\u001b[0m\n\u001b[1;32m    218\u001b[0m \u001b[0;34m\u001b[0m\u001b[0m\n",
            "\u001b[0;32m/usr/local/lib/python3.10/dist-packages/tensorflow/python/eager/polymorphic_function/atomic_function.py\u001b[0m in \u001b[0;36mcall_flat\u001b[0;34m(self, *args)\u001b[0m\n\u001b[1;32m    249\u001b[0m         \u001b[0;32mwith\u001b[0m \u001b[0mrecord\u001b[0m\u001b[0;34m.\u001b[0m\u001b[0mstop_recording\u001b[0m\u001b[0;34m(\u001b[0m\u001b[0;34m)\u001b[0m\u001b[0;34m:\u001b[0m\u001b[0;34m\u001b[0m\u001b[0;34m\u001b[0m\u001b[0m\n\u001b[1;32m    250\u001b[0m           \u001b[0;32mif\u001b[0m \u001b[0mself\u001b[0m\u001b[0;34m.\u001b[0m\u001b[0m_bound_context\u001b[0m\u001b[0;34m.\u001b[0m\u001b[0mexecuting_eagerly\u001b[0m\u001b[0;34m(\u001b[0m\u001b[0;34m)\u001b[0m\u001b[0;34m:\u001b[0m\u001b[0;34m\u001b[0m\u001b[0;34m\u001b[0m\u001b[0m\n\u001b[0;32m--> 251\u001b[0;31m             outputs = self._bound_context.call_function(\n\u001b[0m\u001b[1;32m    252\u001b[0m                 \u001b[0mself\u001b[0m\u001b[0;34m.\u001b[0m\u001b[0mname\u001b[0m\u001b[0;34m,\u001b[0m\u001b[0;34m\u001b[0m\u001b[0;34m\u001b[0m\u001b[0m\n\u001b[1;32m    253\u001b[0m                 \u001b[0mlist\u001b[0m\u001b[0;34m(\u001b[0m\u001b[0margs\u001b[0m\u001b[0;34m)\u001b[0m\u001b[0;34m,\u001b[0m\u001b[0;34m\u001b[0m\u001b[0;34m\u001b[0m\u001b[0m\n",
            "\u001b[0;32m/usr/local/lib/python3.10/dist-packages/tensorflow/python/eager/context.py\u001b[0m in \u001b[0;36mcall_function\u001b[0;34m(self, name, tensor_inputs, num_outputs)\u001b[0m\n\u001b[1;32m   1484\u001b[0m     \u001b[0mcancellation_context\u001b[0m \u001b[0;34m=\u001b[0m \u001b[0mcancellation\u001b[0m\u001b[0;34m.\u001b[0m\u001b[0mcontext\u001b[0m\u001b[0;34m(\u001b[0m\u001b[0;34m)\u001b[0m\u001b[0;34m\u001b[0m\u001b[0;34m\u001b[0m\u001b[0m\n\u001b[1;32m   1485\u001b[0m     \u001b[0;32mif\u001b[0m \u001b[0mcancellation_context\u001b[0m \u001b[0;32mis\u001b[0m \u001b[0;32mNone\u001b[0m\u001b[0;34m:\u001b[0m\u001b[0;34m\u001b[0m\u001b[0;34m\u001b[0m\u001b[0m\n\u001b[0;32m-> 1486\u001b[0;31m       outputs = execute.execute(\n\u001b[0m\u001b[1;32m   1487\u001b[0m           \u001b[0mname\u001b[0m\u001b[0;34m.\u001b[0m\u001b[0mdecode\u001b[0m\u001b[0;34m(\u001b[0m\u001b[0;34m\"utf-8\"\u001b[0m\u001b[0;34m)\u001b[0m\u001b[0;34m,\u001b[0m\u001b[0;34m\u001b[0m\u001b[0;34m\u001b[0m\u001b[0m\n\u001b[1;32m   1488\u001b[0m           \u001b[0mnum_outputs\u001b[0m\u001b[0;34m=\u001b[0m\u001b[0mnum_outputs\u001b[0m\u001b[0;34m,\u001b[0m\u001b[0;34m\u001b[0m\u001b[0;34m\u001b[0m\u001b[0m\n",
            "\u001b[0;32m/usr/local/lib/python3.10/dist-packages/tensorflow/python/eager/execute.py\u001b[0m in \u001b[0;36mquick_execute\u001b[0;34m(op_name, num_outputs, inputs, attrs, ctx, name)\u001b[0m\n\u001b[1;32m     51\u001b[0m   \u001b[0;32mtry\u001b[0m\u001b[0;34m:\u001b[0m\u001b[0;34m\u001b[0m\u001b[0;34m\u001b[0m\u001b[0m\n\u001b[1;32m     52\u001b[0m     \u001b[0mctx\u001b[0m\u001b[0;34m.\u001b[0m\u001b[0mensure_initialized\u001b[0m\u001b[0;34m(\u001b[0m\u001b[0;34m)\u001b[0m\u001b[0;34m\u001b[0m\u001b[0;34m\u001b[0m\u001b[0m\n\u001b[0;32m---> 53\u001b[0;31m     tensors = pywrap_tfe.TFE_Py_Execute(ctx._handle, device_name, op_name,\n\u001b[0m\u001b[1;32m     54\u001b[0m                                         inputs, attrs, num_outputs)\n\u001b[1;32m     55\u001b[0m   \u001b[0;32mexcept\u001b[0m \u001b[0mcore\u001b[0m\u001b[0;34m.\u001b[0m\u001b[0m_NotOkStatusException\u001b[0m \u001b[0;32mas\u001b[0m \u001b[0me\u001b[0m\u001b[0;34m:\u001b[0m\u001b[0;34m\u001b[0m\u001b[0;34m\u001b[0m\u001b[0m\n",
            "\u001b[0;31mKeyboardInterrupt\u001b[0m: "
          ]
        }
      ]
    },
    {
      "cell_type": "markdown",
      "source": [
        "# New Try"
      ],
      "metadata": {
        "id": "o9Lcf0OoI_0y"
      }
    },
    {
      "cell_type": "code",
      "source": [
        "import tensorflow\n",
        "from tensorflow.keras.datasets import imdb\n",
        "from tensorflow.keras.preprocessing.sequence import pad_sequences\n",
        "from tensorflow.keras.models import Sequential\n",
        "from tensorflow.keras.layers import Dense, Dropout, Embedding, SpatialDropout1D, LSTM\n",
        "from tensorflow.keras.layers import Bidirectional\n",
        "from tensorflow.keras.callbacks import ModelCheckpoint\n",
        "import os\n",
        "from sklearn.metrics import roc_auc_score\n",
        "import matplotlib.pyplot as plt"
      ],
      "metadata": {
        "id": "Akjt9DN-H75J"
      },
      "execution_count": 84,
      "outputs": []
    },
    {
      "cell_type": "code",
      "source": [
        "word_size = embedding_matrix.shape[0]\n",
        "embedding_size = embedding_matrix.shape[1]\n",
        "max_comment_length = X_train_padded.shape[1]"
      ],
      "metadata": {
        "id": "SvIz8utII9r8"
      },
      "execution_count": 88,
      "outputs": []
    },
    {
      "cell_type": "code",
      "source": [
        "model = Sequential()\n",
        "\n",
        "\n",
        "model.add(Embedding(input_dim=word_size,\n",
        "                    output_dim=embedding_size,\n",
        "                    weights=[embedding_matrix],\n",
        "                    input_length=max_comment_length,\n",
        "                    trainable=False))\n",
        "\n",
        "model.add(Bidirectional(LSTM(128)))\n",
        "\n",
        "model.add(Dense(1, activation='sigmoid'))\n",
        "\n",
        "model.compile(optimizer='adam', loss='binary_crossentropy', metrics=['accuracy'])\n",
        "\n",
        "# default learning rate .001\n",
        "# add attention / dropout regularization\n",
        "\n",
        "\n",
        "model.fit(X_train_padded, y_train, epochs=6, batch_size=128, validation_split=0.2)\n",
        "\n",
        "\n",
        "\n"
      ],
      "metadata": {
        "colab": {
          "base_uri": "https://localhost:8080/"
        },
        "id": "hpEW6Gz1JmLP",
        "outputId": "bbb5b42e-54ec-4a7c-d72b-7232c9f1059b"
      },
      "execution_count": 89,
      "outputs": [
        {
          "output_type": "stream",
          "name": "stdout",
          "text": [
            "Epoch 1/6\n",
            "3791/3791 [==============================] - 295s 77ms/step - loss: 0.5913 - accuracy: 0.6780 - val_loss: 0.5856 - val_accuracy: 0.6816\n",
            "Epoch 2/6\n",
            "3791/3791 [==============================] - 289s 76ms/step - loss: 0.5585 - accuracy: 0.7064 - val_loss: 0.5575 - val_accuracy: 0.7075\n",
            "Epoch 3/6\n",
            "3791/3791 [==============================] - 288s 76ms/step - loss: 0.5422 - accuracy: 0.7197 - val_loss: 0.5516 - val_accuracy: 0.7129\n",
            "Epoch 4/6\n",
            "3791/3791 [==============================] - 288s 76ms/step - loss: 0.5279 - accuracy: 0.7301 - val_loss: 0.5503 - val_accuracy: 0.7150\n",
            "Epoch 5/6\n",
            "3791/3791 [==============================] - 269s 71ms/step - loss: 0.5147 - accuracy: 0.7402 - val_loss: 0.5529 - val_accuracy: 0.7155\n",
            "Epoch 6/6\n",
            "3791/3791 [==============================] - 287s 76ms/step - loss: 0.5021 - accuracy: 0.7487 - val_loss: 0.5571 - val_accuracy: 0.7127\n"
          ]
        },
        {
          "output_type": "execute_result",
          "data": {
            "text/plain": [
              "<keras.src.callbacks.History at 0x7b513eeb7610>"
            ]
          },
          "metadata": {},
          "execution_count": 89
        }
      ]
    },
    {
      "cell_type": "code",
      "source": [
        "model.save('/content/drive/MyDrive/model.h5')"
      ],
      "metadata": {
        "id": "nHl7MWy5aYjM"
      },
      "execution_count": 105,
      "outputs": []
    },
    {
      "cell_type": "code",
      "source": [
        "from tensorflow.keras.models import load_model\n",
        "import os\n",
        "first_model = load_model('/content/drive/MyDrive/model.h5')"
      ],
      "metadata": {
        "id": "-fNFmBfuaGxU",
        "outputId": "f09b96cb-8ec9-4471-e1a3-d5c9c7f5fe74",
        "colab": {
          "base_uri": "https://localhost:8080/",
          "height": 478
        }
      },
      "execution_count": 107,
      "outputs": [
        {
          "output_type": "error",
          "ename": "OSError",
          "evalue": "Unable to open file (file signature not found)",
          "traceback": [
            "\u001b[0;31m---------------------------------------------------------------------------\u001b[0m",
            "\u001b[0;31mOSError\u001b[0m                                   Traceback (most recent call last)",
            "\u001b[0;32m<ipython-input-107-bd08957c2080>\u001b[0m in \u001b[0;36m<cell line: 3>\u001b[0;34m()\u001b[0m\n\u001b[1;32m      1\u001b[0m \u001b[0;32mfrom\u001b[0m \u001b[0mtensorflow\u001b[0m\u001b[0;34m.\u001b[0m\u001b[0mkeras\u001b[0m\u001b[0;34m.\u001b[0m\u001b[0mmodels\u001b[0m \u001b[0;32mimport\u001b[0m \u001b[0mload_model\u001b[0m\u001b[0;34m\u001b[0m\u001b[0;34m\u001b[0m\u001b[0m\n\u001b[1;32m      2\u001b[0m \u001b[0;32mimport\u001b[0m \u001b[0mos\u001b[0m\u001b[0;34m\u001b[0m\u001b[0;34m\u001b[0m\u001b[0m\n\u001b[0;32m----> 3\u001b[0;31m \u001b[0mfirst_model\u001b[0m \u001b[0;34m=\u001b[0m \u001b[0mload_model\u001b[0m\u001b[0;34m(\u001b[0m\u001b[0;34m'/content/drive/MyDrive/model.h5'\u001b[0m\u001b[0;34m)\u001b[0m\u001b[0;34m\u001b[0m\u001b[0;34m\u001b[0m\u001b[0m\n\u001b[0m",
            "\u001b[0;32m/usr/local/lib/python3.10/dist-packages/keras/src/saving/saving_api.py\u001b[0m in \u001b[0;36mload_model\u001b[0;34m(filepath, custom_objects, compile, safe_mode, **kwargs)\u001b[0m\n\u001b[1;32m    260\u001b[0m \u001b[0;34m\u001b[0m\u001b[0m\n\u001b[1;32m    261\u001b[0m     \u001b[0;31m# Legacy case.\u001b[0m\u001b[0;34m\u001b[0m\u001b[0;34m\u001b[0m\u001b[0m\n\u001b[0;32m--> 262\u001b[0;31m     return legacy_sm_saving_lib.load_model(\n\u001b[0m\u001b[1;32m    263\u001b[0m         \u001b[0mfilepath\u001b[0m\u001b[0;34m,\u001b[0m \u001b[0mcustom_objects\u001b[0m\u001b[0;34m=\u001b[0m\u001b[0mcustom_objects\u001b[0m\u001b[0;34m,\u001b[0m \u001b[0mcompile\u001b[0m\u001b[0;34m=\u001b[0m\u001b[0mcompile\u001b[0m\u001b[0;34m,\u001b[0m \u001b[0;34m**\u001b[0m\u001b[0mkwargs\u001b[0m\u001b[0;34m\u001b[0m\u001b[0;34m\u001b[0m\u001b[0m\n\u001b[1;32m    264\u001b[0m     )\n",
            "\u001b[0;32m/usr/local/lib/python3.10/dist-packages/keras/src/utils/traceback_utils.py\u001b[0m in \u001b[0;36merror_handler\u001b[0;34m(*args, **kwargs)\u001b[0m\n\u001b[1;32m     68\u001b[0m             \u001b[0;31m# To get the full stack trace, call:\u001b[0m\u001b[0;34m\u001b[0m\u001b[0;34m\u001b[0m\u001b[0m\n\u001b[1;32m     69\u001b[0m             \u001b[0;31m# `tf.debugging.disable_traceback_filtering()`\u001b[0m\u001b[0;34m\u001b[0m\u001b[0;34m\u001b[0m\u001b[0m\n\u001b[0;32m---> 70\u001b[0;31m             \u001b[0;32mraise\u001b[0m \u001b[0me\u001b[0m\u001b[0;34m.\u001b[0m\u001b[0mwith_traceback\u001b[0m\u001b[0;34m(\u001b[0m\u001b[0mfiltered_tb\u001b[0m\u001b[0;34m)\u001b[0m \u001b[0;32mfrom\u001b[0m \u001b[0;32mNone\u001b[0m\u001b[0;34m\u001b[0m\u001b[0;34m\u001b[0m\u001b[0m\n\u001b[0m\u001b[1;32m     71\u001b[0m         \u001b[0;32mfinally\u001b[0m\u001b[0;34m:\u001b[0m\u001b[0;34m\u001b[0m\u001b[0;34m\u001b[0m\u001b[0m\n\u001b[1;32m     72\u001b[0m             \u001b[0;32mdel\u001b[0m \u001b[0mfiltered_tb\u001b[0m\u001b[0;34m\u001b[0m\u001b[0;34m\u001b[0m\u001b[0m\n",
            "\u001b[0;32m/usr/local/lib/python3.10/dist-packages/h5py/_hl/files.py\u001b[0m in \u001b[0;36m__init__\u001b[0;34m(self, name, mode, driver, libver, userblock_size, swmr, rdcc_nslots, rdcc_nbytes, rdcc_w0, track_order, fs_strategy, fs_persist, fs_threshold, fs_page_size, page_buf_size, min_meta_keep, min_raw_keep, locking, alignment_threshold, alignment_interval, meta_block_size, **kwds)\u001b[0m\n\u001b[1;32m    565\u001b[0m                                  \u001b[0mfs_persist\u001b[0m\u001b[0;34m=\u001b[0m\u001b[0mfs_persist\u001b[0m\u001b[0;34m,\u001b[0m \u001b[0mfs_threshold\u001b[0m\u001b[0;34m=\u001b[0m\u001b[0mfs_threshold\u001b[0m\u001b[0;34m,\u001b[0m\u001b[0;34m\u001b[0m\u001b[0;34m\u001b[0m\u001b[0m\n\u001b[1;32m    566\u001b[0m                                  fs_page_size=fs_page_size)\n\u001b[0;32m--> 567\u001b[0;31m                 \u001b[0mfid\u001b[0m \u001b[0;34m=\u001b[0m \u001b[0mmake_fid\u001b[0m\u001b[0;34m(\u001b[0m\u001b[0mname\u001b[0m\u001b[0;34m,\u001b[0m \u001b[0mmode\u001b[0m\u001b[0;34m,\u001b[0m \u001b[0muserblock_size\u001b[0m\u001b[0;34m,\u001b[0m \u001b[0mfapl\u001b[0m\u001b[0;34m,\u001b[0m \u001b[0mfcpl\u001b[0m\u001b[0;34m,\u001b[0m \u001b[0mswmr\u001b[0m\u001b[0;34m=\u001b[0m\u001b[0mswmr\u001b[0m\u001b[0;34m)\u001b[0m\u001b[0;34m\u001b[0m\u001b[0;34m\u001b[0m\u001b[0m\n\u001b[0m\u001b[1;32m    568\u001b[0m \u001b[0;34m\u001b[0m\u001b[0m\n\u001b[1;32m    569\u001b[0m             \u001b[0;32mif\u001b[0m \u001b[0misinstance\u001b[0m\u001b[0;34m(\u001b[0m\u001b[0mlibver\u001b[0m\u001b[0;34m,\u001b[0m \u001b[0mtuple\u001b[0m\u001b[0;34m)\u001b[0m\u001b[0;34m:\u001b[0m\u001b[0;34m\u001b[0m\u001b[0;34m\u001b[0m\u001b[0m\n",
            "\u001b[0;32m/usr/local/lib/python3.10/dist-packages/h5py/_hl/files.py\u001b[0m in \u001b[0;36mmake_fid\u001b[0;34m(name, mode, userblock_size, fapl, fcpl, swmr)\u001b[0m\n\u001b[1;32m    229\u001b[0m         \u001b[0;32mif\u001b[0m \u001b[0mswmr\u001b[0m \u001b[0;32mand\u001b[0m \u001b[0mswmr_support\u001b[0m\u001b[0;34m:\u001b[0m\u001b[0;34m\u001b[0m\u001b[0;34m\u001b[0m\u001b[0m\n\u001b[1;32m    230\u001b[0m             \u001b[0mflags\u001b[0m \u001b[0;34m|=\u001b[0m \u001b[0mh5f\u001b[0m\u001b[0;34m.\u001b[0m\u001b[0mACC_SWMR_READ\u001b[0m\u001b[0;34m\u001b[0m\u001b[0;34m\u001b[0m\u001b[0m\n\u001b[0;32m--> 231\u001b[0;31m         \u001b[0mfid\u001b[0m \u001b[0;34m=\u001b[0m \u001b[0mh5f\u001b[0m\u001b[0;34m.\u001b[0m\u001b[0mopen\u001b[0m\u001b[0;34m(\u001b[0m\u001b[0mname\u001b[0m\u001b[0;34m,\u001b[0m \u001b[0mflags\u001b[0m\u001b[0;34m,\u001b[0m \u001b[0mfapl\u001b[0m\u001b[0;34m=\u001b[0m\u001b[0mfapl\u001b[0m\u001b[0;34m)\u001b[0m\u001b[0;34m\u001b[0m\u001b[0;34m\u001b[0m\u001b[0m\n\u001b[0m\u001b[1;32m    232\u001b[0m     \u001b[0;32melif\u001b[0m \u001b[0mmode\u001b[0m \u001b[0;34m==\u001b[0m \u001b[0;34m'r+'\u001b[0m\u001b[0;34m:\u001b[0m\u001b[0;34m\u001b[0m\u001b[0;34m\u001b[0m\u001b[0m\n\u001b[1;32m    233\u001b[0m         \u001b[0mfid\u001b[0m \u001b[0;34m=\u001b[0m \u001b[0mh5f\u001b[0m\u001b[0;34m.\u001b[0m\u001b[0mopen\u001b[0m\u001b[0;34m(\u001b[0m\u001b[0mname\u001b[0m\u001b[0;34m,\u001b[0m \u001b[0mh5f\u001b[0m\u001b[0;34m.\u001b[0m\u001b[0mACC_RDWR\u001b[0m\u001b[0;34m,\u001b[0m \u001b[0mfapl\u001b[0m\u001b[0;34m=\u001b[0m\u001b[0mfapl\u001b[0m\u001b[0;34m)\u001b[0m\u001b[0;34m\u001b[0m\u001b[0;34m\u001b[0m\u001b[0m\n",
            "\u001b[0;32mh5py/_objects.pyx\u001b[0m in \u001b[0;36mh5py._objects.with_phil.wrapper\u001b[0;34m()\u001b[0m\n",
            "\u001b[0;32mh5py/_objects.pyx\u001b[0m in \u001b[0;36mh5py._objects.with_phil.wrapper\u001b[0;34m()\u001b[0m\n",
            "\u001b[0;32mh5py/h5f.pyx\u001b[0m in \u001b[0;36mh5py.h5f.open\u001b[0;34m()\u001b[0m\n",
            "\u001b[0;31mOSError\u001b[0m: Unable to open file (file signature not found)"
          ]
        }
      ]
    }
  ]
}