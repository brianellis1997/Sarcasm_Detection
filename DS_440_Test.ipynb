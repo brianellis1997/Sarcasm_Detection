{
  "nbformat": 4,
  "nbformat_minor": 0,
  "metadata": {
    "colab": {
      "provenance": [],
      "gpuType": "T4",
      "include_colab_link": true
    },
    "kernelspec": {
      "name": "python3",
      "display_name": "Python 3"
    },
    "language_info": {
      "name": "python"
    },
    "accelerator": "GPU"
  },
  "cells": [
    {
      "cell_type": "markdown",
      "metadata": {
        "id": "view-in-github",
        "colab_type": "text"
      },
      "source": [
        "<a href=\"https://colab.research.google.com/github/brianellis1997/Sarcasm_Detection/blob/Brian_token/DS_440_Test.ipynb\" target=\"_parent\"><img src=\"https://colab.research.google.com/assets/colab-badge.svg\" alt=\"Open In Colab\"/></a>"
      ]
    },
    {
      "cell_type": "markdown",
      "source": [
        "# Sarcasm Detection using NLP Techniques\n",
        "### Team 2: Brian Ellis, Lindsey Rich, Elena Kern"
      ],
      "metadata": {
        "id": "83CHGfhCqBUr"
      }
    },
    {
      "cell_type": "markdown",
      "source": [
        "## Load Libraries and Dataset"
      ],
      "metadata": {
        "id": "Mf7bmmcfetuI"
      }
    },
    {
      "cell_type": "code",
      "execution_count": 2,
      "metadata": {
        "id": "gB0K8GssUbrq"
      },
      "outputs": [],
      "source": [
        "import pandas as pd\n",
        "import torch\n",
        "from wordcloud import WordCloud\n",
        "import matplotlib.pyplot as plt\n",
        "\n",
        "#test comment"
      ]
    },
    {
      "cell_type": "code",
      "source": [
        "import torch.nn as nn\n",
        "from torch.nn.utils.rnn import pack_padded_sequence, pad_packed_sequence\n",
        "import torch.optim as optim\n",
        "from sklearn.metrics import accuracy_score, classification_report, confusion_matrix\n",
        "import seaborn as sns"
      ],
      "metadata": {
        "id": "VvT3qX6GYCVV"
      },
      "execution_count": 3,
      "outputs": []
    },
    {
      "cell_type": "code",
      "source": [
        "!git clone https://github.com/brianellis1997/Sarcasm_Detection.git"
      ],
      "metadata": {
        "colab": {
          "base_uri": "https://localhost:8080/"
        },
        "id": "Xqvo69MVYiV-",
        "outputId": "06000a58-93e0-4e55-a3d8-523a8b8b49e1"
      },
      "execution_count": 4,
      "outputs": [
        {
          "output_type": "stream",
          "name": "stdout",
          "text": [
            "Cloning into 'Sarcasm_Detection'...\n",
            "remote: Enumerating objects: 68, done.\u001b[K\n",
            "remote: Counting objects: 100% (68/68), done.\u001b[K\n",
            "remote: Compressing objects: 100% (68/68), done.\u001b[K\n",
            "remote: Total 68 (delta 34), reused 3 (delta 0), pack-reused 0\u001b[K\n",
            "Receiving objects: 100% (68/68), 670.91 KiB | 6.45 MiB/s, done.\n",
            "Resolving deltas: 100% (34/34), done.\n"
          ]
        }
      ]
    },
    {
      "cell_type": "code",
      "source": [
        "from google.colab import drive\n",
        "drive.mount('/content/drive')"
      ],
      "metadata": {
        "id": "kFqAxbBlhxGs",
        "outputId": "e35e327d-9f36-4997-811d-ec2b30b83519",
        "colab": {
          "base_uri": "https://localhost:8080/"
        }
      },
      "execution_count": 6,
      "outputs": [
        {
          "output_type": "stream",
          "name": "stdout",
          "text": [
            "Mounted at /content/drive\n"
          ]
        }
      ]
    },
    {
      "cell_type": "code",
      "source": [
        "train_bal = pd.read_csv('/content/drive/MyDrive/Sarcasm_Data/train-balanced-sarcasm.csv')   # Make sure path is correct in your google drive\n",
        "train_bal.head()"
      ],
      "metadata": {
        "colab": {
          "base_uri": "https://localhost:8080/",
          "height": 206
        },
        "id": "qQbpFOgeViuu",
        "outputId": "ac793e31-98a4-4a89-d3aa-ed6b0931c34d"
      },
      "execution_count": 7,
      "outputs": [
        {
          "output_type": "execute_result",
          "data": {
            "text/plain": [
              "   label                                            comment     author  \\\n",
              "0      0                                         NC and NH.  Trumpbart   \n",
              "1      0  You do know west teams play against west teams...  Shbshb906   \n",
              "2      0  They were underdogs earlier today, but since G...   Creepeth   \n",
              "3      0  This meme isn't funny none of the \"new york ni...  icebrotha   \n",
              "4      0                    I could use one of those tools.  cush2push   \n",
              "\n",
              "            subreddit  score  ups  downs     date          created_utc  \\\n",
              "0            politics      2   -1     -1  2016-10  2016-10-16 23:55:23   \n",
              "1                 nba     -4   -1     -1  2016-11  2016-11-01 00:24:10   \n",
              "2                 nfl      3    3      0  2016-09  2016-09-22 21:45:37   \n",
              "3  BlackPeopleTwitter     -8   -1     -1  2016-10  2016-10-18 21:03:47   \n",
              "4  MaddenUltimateTeam      6   -1     -1  2016-12  2016-12-30 17:00:13   \n",
              "\n",
              "                                      parent_comment  \n",
              "0  Yeah, I get that argument. At this point, I'd ...  \n",
              "1  The blazers and Mavericks (The wests 5 and 6 s...  \n",
              "2                            They're favored to win.  \n",
              "3                         deadass don't kill my buzz  \n",
              "4  Yep can confirm I saw the tool they use for th...  "
            ],
            "text/html": [
              "\n",
              "  <div id=\"df-44a1a785-3fb6-4a6f-9545-fd8b65fd5140\" class=\"colab-df-container\">\n",
              "    <div>\n",
              "<style scoped>\n",
              "    .dataframe tbody tr th:only-of-type {\n",
              "        vertical-align: middle;\n",
              "    }\n",
              "\n",
              "    .dataframe tbody tr th {\n",
              "        vertical-align: top;\n",
              "    }\n",
              "\n",
              "    .dataframe thead th {\n",
              "        text-align: right;\n",
              "    }\n",
              "</style>\n",
              "<table border=\"1\" class=\"dataframe\">\n",
              "  <thead>\n",
              "    <tr style=\"text-align: right;\">\n",
              "      <th></th>\n",
              "      <th>label</th>\n",
              "      <th>comment</th>\n",
              "      <th>author</th>\n",
              "      <th>subreddit</th>\n",
              "      <th>score</th>\n",
              "      <th>ups</th>\n",
              "      <th>downs</th>\n",
              "      <th>date</th>\n",
              "      <th>created_utc</th>\n",
              "      <th>parent_comment</th>\n",
              "    </tr>\n",
              "  </thead>\n",
              "  <tbody>\n",
              "    <tr>\n",
              "      <th>0</th>\n",
              "      <td>0</td>\n",
              "      <td>NC and NH.</td>\n",
              "      <td>Trumpbart</td>\n",
              "      <td>politics</td>\n",
              "      <td>2</td>\n",
              "      <td>-1</td>\n",
              "      <td>-1</td>\n",
              "      <td>2016-10</td>\n",
              "      <td>2016-10-16 23:55:23</td>\n",
              "      <td>Yeah, I get that argument. At this point, I'd ...</td>\n",
              "    </tr>\n",
              "    <tr>\n",
              "      <th>1</th>\n",
              "      <td>0</td>\n",
              "      <td>You do know west teams play against west teams...</td>\n",
              "      <td>Shbshb906</td>\n",
              "      <td>nba</td>\n",
              "      <td>-4</td>\n",
              "      <td>-1</td>\n",
              "      <td>-1</td>\n",
              "      <td>2016-11</td>\n",
              "      <td>2016-11-01 00:24:10</td>\n",
              "      <td>The blazers and Mavericks (The wests 5 and 6 s...</td>\n",
              "    </tr>\n",
              "    <tr>\n",
              "      <th>2</th>\n",
              "      <td>0</td>\n",
              "      <td>They were underdogs earlier today, but since G...</td>\n",
              "      <td>Creepeth</td>\n",
              "      <td>nfl</td>\n",
              "      <td>3</td>\n",
              "      <td>3</td>\n",
              "      <td>0</td>\n",
              "      <td>2016-09</td>\n",
              "      <td>2016-09-22 21:45:37</td>\n",
              "      <td>They're favored to win.</td>\n",
              "    </tr>\n",
              "    <tr>\n",
              "      <th>3</th>\n",
              "      <td>0</td>\n",
              "      <td>This meme isn't funny none of the \"new york ni...</td>\n",
              "      <td>icebrotha</td>\n",
              "      <td>BlackPeopleTwitter</td>\n",
              "      <td>-8</td>\n",
              "      <td>-1</td>\n",
              "      <td>-1</td>\n",
              "      <td>2016-10</td>\n",
              "      <td>2016-10-18 21:03:47</td>\n",
              "      <td>deadass don't kill my buzz</td>\n",
              "    </tr>\n",
              "    <tr>\n",
              "      <th>4</th>\n",
              "      <td>0</td>\n",
              "      <td>I could use one of those tools.</td>\n",
              "      <td>cush2push</td>\n",
              "      <td>MaddenUltimateTeam</td>\n",
              "      <td>6</td>\n",
              "      <td>-1</td>\n",
              "      <td>-1</td>\n",
              "      <td>2016-12</td>\n",
              "      <td>2016-12-30 17:00:13</td>\n",
              "      <td>Yep can confirm I saw the tool they use for th...</td>\n",
              "    </tr>\n",
              "  </tbody>\n",
              "</table>\n",
              "</div>\n",
              "    <div class=\"colab-df-buttons\">\n",
              "\n",
              "  <div class=\"colab-df-container\">\n",
              "    <button class=\"colab-df-convert\" onclick=\"convertToInteractive('df-44a1a785-3fb6-4a6f-9545-fd8b65fd5140')\"\n",
              "            title=\"Convert this dataframe to an interactive table.\"\n",
              "            style=\"display:none;\">\n",
              "\n",
              "  <svg xmlns=\"http://www.w3.org/2000/svg\" height=\"24px\" viewBox=\"0 -960 960 960\">\n",
              "    <path d=\"M120-120v-720h720v720H120Zm60-500h600v-160H180v160Zm220 220h160v-160H400v160Zm0 220h160v-160H400v160ZM180-400h160v-160H180v160Zm440 0h160v-160H620v160ZM180-180h160v-160H180v160Zm440 0h160v-160H620v160Z\"/>\n",
              "  </svg>\n",
              "    </button>\n",
              "\n",
              "  <style>\n",
              "    .colab-df-container {\n",
              "      display:flex;\n",
              "      gap: 12px;\n",
              "    }\n",
              "\n",
              "    .colab-df-convert {\n",
              "      background-color: #E8F0FE;\n",
              "      border: none;\n",
              "      border-radius: 50%;\n",
              "      cursor: pointer;\n",
              "      display: none;\n",
              "      fill: #1967D2;\n",
              "      height: 32px;\n",
              "      padding: 0 0 0 0;\n",
              "      width: 32px;\n",
              "    }\n",
              "\n",
              "    .colab-df-convert:hover {\n",
              "      background-color: #E2EBFA;\n",
              "      box-shadow: 0px 1px 2px rgba(60, 64, 67, 0.3), 0px 1px 3px 1px rgba(60, 64, 67, 0.15);\n",
              "      fill: #174EA6;\n",
              "    }\n",
              "\n",
              "    .colab-df-buttons div {\n",
              "      margin-bottom: 4px;\n",
              "    }\n",
              "\n",
              "    [theme=dark] .colab-df-convert {\n",
              "      background-color: #3B4455;\n",
              "      fill: #D2E3FC;\n",
              "    }\n",
              "\n",
              "    [theme=dark] .colab-df-convert:hover {\n",
              "      background-color: #434B5C;\n",
              "      box-shadow: 0px 1px 3px 1px rgba(0, 0, 0, 0.15);\n",
              "      filter: drop-shadow(0px 1px 2px rgba(0, 0, 0, 0.3));\n",
              "      fill: #FFFFFF;\n",
              "    }\n",
              "  </style>\n",
              "\n",
              "    <script>\n",
              "      const buttonEl =\n",
              "        document.querySelector('#df-44a1a785-3fb6-4a6f-9545-fd8b65fd5140 button.colab-df-convert');\n",
              "      buttonEl.style.display =\n",
              "        google.colab.kernel.accessAllowed ? 'block' : 'none';\n",
              "\n",
              "      async function convertToInteractive(key) {\n",
              "        const element = document.querySelector('#df-44a1a785-3fb6-4a6f-9545-fd8b65fd5140');\n",
              "        const dataTable =\n",
              "          await google.colab.kernel.invokeFunction('convertToInteractive',\n",
              "                                                    [key], {});\n",
              "        if (!dataTable) return;\n",
              "\n",
              "        const docLinkHtml = 'Like what you see? Visit the ' +\n",
              "          '<a target=\"_blank\" href=https://colab.research.google.com/notebooks/data_table.ipynb>data table notebook</a>'\n",
              "          + ' to learn more about interactive tables.';\n",
              "        element.innerHTML = '';\n",
              "        dataTable['output_type'] = 'display_data';\n",
              "        await google.colab.output.renderOutput(dataTable, element);\n",
              "        const docLink = document.createElement('div');\n",
              "        docLink.innerHTML = docLinkHtml;\n",
              "        element.appendChild(docLink);\n",
              "      }\n",
              "    </script>\n",
              "  </div>\n",
              "\n",
              "\n",
              "<div id=\"df-549c47d3-277b-444e-8486-495fa50d30df\">\n",
              "  <button class=\"colab-df-quickchart\" onclick=\"quickchart('df-549c47d3-277b-444e-8486-495fa50d30df')\"\n",
              "            title=\"Suggest charts\"\n",
              "            style=\"display:none;\">\n",
              "\n",
              "<svg xmlns=\"http://www.w3.org/2000/svg\" height=\"24px\"viewBox=\"0 0 24 24\"\n",
              "     width=\"24px\">\n",
              "    <g>\n",
              "        <path d=\"M19 3H5c-1.1 0-2 .9-2 2v14c0 1.1.9 2 2 2h14c1.1 0 2-.9 2-2V5c0-1.1-.9-2-2-2zM9 17H7v-7h2v7zm4 0h-2V7h2v10zm4 0h-2v-4h2v4z\"/>\n",
              "    </g>\n",
              "</svg>\n",
              "  </button>\n",
              "\n",
              "<style>\n",
              "  .colab-df-quickchart {\n",
              "      --bg-color: #E8F0FE;\n",
              "      --fill-color: #1967D2;\n",
              "      --hover-bg-color: #E2EBFA;\n",
              "      --hover-fill-color: #174EA6;\n",
              "      --disabled-fill-color: #AAA;\n",
              "      --disabled-bg-color: #DDD;\n",
              "  }\n",
              "\n",
              "  [theme=dark] .colab-df-quickchart {\n",
              "      --bg-color: #3B4455;\n",
              "      --fill-color: #D2E3FC;\n",
              "      --hover-bg-color: #434B5C;\n",
              "      --hover-fill-color: #FFFFFF;\n",
              "      --disabled-bg-color: #3B4455;\n",
              "      --disabled-fill-color: #666;\n",
              "  }\n",
              "\n",
              "  .colab-df-quickchart {\n",
              "    background-color: var(--bg-color);\n",
              "    border: none;\n",
              "    border-radius: 50%;\n",
              "    cursor: pointer;\n",
              "    display: none;\n",
              "    fill: var(--fill-color);\n",
              "    height: 32px;\n",
              "    padding: 0;\n",
              "    width: 32px;\n",
              "  }\n",
              "\n",
              "  .colab-df-quickchart:hover {\n",
              "    background-color: var(--hover-bg-color);\n",
              "    box-shadow: 0 1px 2px rgba(60, 64, 67, 0.3), 0 1px 3px 1px rgba(60, 64, 67, 0.15);\n",
              "    fill: var(--button-hover-fill-color);\n",
              "  }\n",
              "\n",
              "  .colab-df-quickchart-complete:disabled,\n",
              "  .colab-df-quickchart-complete:disabled:hover {\n",
              "    background-color: var(--disabled-bg-color);\n",
              "    fill: var(--disabled-fill-color);\n",
              "    box-shadow: none;\n",
              "  }\n",
              "\n",
              "  .colab-df-spinner {\n",
              "    border: 2px solid var(--fill-color);\n",
              "    border-color: transparent;\n",
              "    border-bottom-color: var(--fill-color);\n",
              "    animation:\n",
              "      spin 1s steps(1) infinite;\n",
              "  }\n",
              "\n",
              "  @keyframes spin {\n",
              "    0% {\n",
              "      border-color: transparent;\n",
              "      border-bottom-color: var(--fill-color);\n",
              "      border-left-color: var(--fill-color);\n",
              "    }\n",
              "    20% {\n",
              "      border-color: transparent;\n",
              "      border-left-color: var(--fill-color);\n",
              "      border-top-color: var(--fill-color);\n",
              "    }\n",
              "    30% {\n",
              "      border-color: transparent;\n",
              "      border-left-color: var(--fill-color);\n",
              "      border-top-color: var(--fill-color);\n",
              "      border-right-color: var(--fill-color);\n",
              "    }\n",
              "    40% {\n",
              "      border-color: transparent;\n",
              "      border-right-color: var(--fill-color);\n",
              "      border-top-color: var(--fill-color);\n",
              "    }\n",
              "    60% {\n",
              "      border-color: transparent;\n",
              "      border-right-color: var(--fill-color);\n",
              "    }\n",
              "    80% {\n",
              "      border-color: transparent;\n",
              "      border-right-color: var(--fill-color);\n",
              "      border-bottom-color: var(--fill-color);\n",
              "    }\n",
              "    90% {\n",
              "      border-color: transparent;\n",
              "      border-bottom-color: var(--fill-color);\n",
              "    }\n",
              "  }\n",
              "</style>\n",
              "\n",
              "  <script>\n",
              "    async function quickchart(key) {\n",
              "      const quickchartButtonEl =\n",
              "        document.querySelector('#' + key + ' button');\n",
              "      quickchartButtonEl.disabled = true;  // To prevent multiple clicks.\n",
              "      quickchartButtonEl.classList.add('colab-df-spinner');\n",
              "      try {\n",
              "        const charts = await google.colab.kernel.invokeFunction(\n",
              "            'suggestCharts', [key], {});\n",
              "      } catch (error) {\n",
              "        console.error('Error during call to suggestCharts:', error);\n",
              "      }\n",
              "      quickchartButtonEl.classList.remove('colab-df-spinner');\n",
              "      quickchartButtonEl.classList.add('colab-df-quickchart-complete');\n",
              "    }\n",
              "    (() => {\n",
              "      let quickchartButtonEl =\n",
              "        document.querySelector('#df-549c47d3-277b-444e-8486-495fa50d30df button');\n",
              "      quickchartButtonEl.style.display =\n",
              "        google.colab.kernel.accessAllowed ? 'block' : 'none';\n",
              "    })();\n",
              "  </script>\n",
              "</div>\n",
              "\n",
              "    </div>\n",
              "  </div>\n"
            ]
          },
          "metadata": {},
          "execution_count": 7
        }
      ]
    },
    {
      "cell_type": "code",
      "source": [
        "train_bal.info()"
      ],
      "metadata": {
        "id": "buRDCOARVtib"
      },
      "execution_count": null,
      "outputs": []
    },
    {
      "cell_type": "code",
      "source": [
        "train_bal['label'].value_counts()"
      ],
      "metadata": {
        "id": "8ZmNESsSV-QP"
      },
      "execution_count": null,
      "outputs": []
    },
    {
      "cell_type": "markdown",
      "source": [
        "We can see our dataset is balanced."
      ],
      "metadata": {
        "id": "BGEjPFEaXQ-0"
      }
    },
    {
      "cell_type": "code",
      "source": [
        "train_bal['comment'] = train_bal['comment'].astype('str')\n",
        "train_bal.info()"
      ],
      "metadata": {
        "id": "WgAbanW9XSkN"
      },
      "execution_count": null,
      "outputs": []
    },
    {
      "cell_type": "code",
      "source": [
        "train_bal[:20]['comment']"
      ],
      "metadata": {
        "id": "l80XOo3PoGVK"
      },
      "execution_count": null,
      "outputs": []
    },
    {
      "cell_type": "markdown",
      "source": [
        "## EDA"
      ],
      "metadata": {
        "id": "bxRfLcEQerOA"
      }
    },
    {
      "cell_type": "code",
      "source": [
        "# Separating sarcastic vs non sarcastic comments\n",
        "sarcastic_com = train_bal[train_bal['label'] == 1]\n",
        "non_sarcastic_com = train_bal[train_bal['label'] == 0]"
      ],
      "metadata": {
        "id": "5QAY7ml_oq-h"
      },
      "execution_count": 8,
      "outputs": []
    },
    {
      "cell_type": "code",
      "source": [
        "# # WordCloud for sarcastic comments\n",
        "# wordcloud = WordCloud(width=800, height=400, background_color='white').generate(' '.join(sarcastic_com['comment'].values.ravel()))\n",
        "\n",
        "# # Display the generated word cloud using matplotlib\n",
        "# plt.figure(figsize=(10, 5))\n",
        "# plt.imshow(wordcloud, interpolation='bilinear')\n",
        "# plt.axis('off')\n",
        "# plt.show()"
      ],
      "metadata": {
        "id": "eA_0ybLxesig"
      },
      "execution_count": null,
      "outputs": []
    },
    {
      "cell_type": "code",
      "source": [
        "# # WordCloud for non-sarcastic comments\n",
        "# wordcloud = WordCloud(width=800, height=400, background_color='white').generate(' '.join(non_sarcastic_com['comment'].values.ravel()))\n",
        "\n",
        "# # Display the generated word cloud using matplotlib\n",
        "# plt.figure(figsize=(10, 5))\n",
        "# plt.imshow(wordcloud, interpolation='bilinear')\n",
        "# plt.axis('off')\n",
        "# plt.show()"
      ],
      "metadata": {
        "id": "NAr7sC4lpEs2"
      },
      "execution_count": null,
      "outputs": []
    },
    {
      "cell_type": "code",
      "source": [],
      "metadata": {
        "id": "Fn4l2KLpnRkJ"
      },
      "execution_count": null,
      "outputs": []
    },
    {
      "cell_type": "markdown",
      "source": [
        "# Visualizing Sarcastic Comments by Subreddit"
      ],
      "metadata": {
        "id": "a51uPrvhfN97"
      }
    },
    {
      "cell_type": "code",
      "source": [
        "subreddit_count = sarcastic_com['subreddit'].value_counts()"
      ],
      "metadata": {
        "id": "vH4eEHBohhOY"
      },
      "execution_count": 9,
      "outputs": []
    },
    {
      "cell_type": "code",
      "source": [
        "import matplotlib.pyplot as plt\n",
        "import seaborn as sns\n",
        "top = subreddit_count.head(20)\n",
        "plt.figure(figsize=(10, 6))\n",
        "sns.barplot(x=top.values, y=top.index)\n",
        "plt.xlabel('Number of Sarcastic Comments')\n",
        "plt.ylabel('Subreddit')\n",
        "plt.title('Frequency of Sarcastic Comments by Subreddit')\n",
        "plt.show()\n"
      ],
      "metadata": {
        "id": "MyUb_gYKihvx",
        "outputId": "fb91a170-e34e-42ee-dec1-60e6fc446cea",
        "colab": {
          "base_uri": "https://localhost:8080/",
          "height": 564
        }
      },
      "execution_count": 10,
      "outputs": [
        {
          "output_type": "display_data",
          "data": {
            "text/plain": [
              "<Figure size 1000x600 with 1 Axes>"
            ],
            "image/png": "[encoded data removed]"
          },
          "metadata": {}
        }
      ]
    },
    {
      "cell_type": "code",
      "source": [
        "import nltk\n",
        "from nltk import word_tokenize, sent_tokenize\n",
        "from nltk.corpus import stopwords\n",
        "from nltk.stem.porter import *\n",
        "nltk.download('punkt')\n",
        "nltk.download('stopwords')\n",
        "\n",
        "import string\n",
        "\n",
        "import gensim\n",
        "from gensim.models.phrases import Phraser, Phrases\n",
        "from gensim.models.word2vec import Word2Vec\n",
        "\n",
        "import spacy # for a lemmatization example\n",
        "\n",
        "from sklearn.manifold import TSNE\n",
        "\n",
        "import pandas as pd\n",
        "from bokeh.io import output_notebook, output_file\n",
        "from bokeh.plotting import show, figure"
      ],
      "metadata": {
        "id": "0070DkpOns2u",
        "outputId": "c40d9e14-d0a9-47f1-b07c-fa1c27d5d627",
        "colab": {
          "base_uri": "https://localhost:8080/"
        }
      },
      "execution_count": 11,
      "outputs": [
        {
          "output_type": "stream",
          "name": "stderr",
          "text": [
            "[nltk_data] Downloading package punkt to /root/nltk_data...\n",
            "[nltk_data]   Unzipping tokenizers/punkt.zip.\n",
            "[nltk_data] Downloading package stopwords to /root/nltk_data...\n",
            "[nltk_data]   Unzipping corpora/stopwords.zip.\n"
          ]
        }
      ]
    },
    {
      "cell_type": "code",
      "source": [
        "comments = train_bal['comment']"
      ],
      "metadata": {
        "id": "Z1115StdoiGI"
      },
      "execution_count": 12,
      "outputs": []
    },
    {
      "cell_type": "code",
      "source": [
        "comments.info()"
      ],
      "metadata": {
        "id": "EY3sfqD7s9UU",
        "outputId": "d7c5f794-193e-4fc7-a639-bf884055fa85",
        "colab": {
          "base_uri": "https://localhost:8080/"
        }
      },
      "execution_count": 13,
      "outputs": [
        {
          "output_type": "stream",
          "name": "stdout",
          "text": [
            "<class 'pandas.core.series.Series'>\n",
            "RangeIndex: 1010826 entries, 0 to 1010825\n",
            "Series name: comment\n",
            "Non-Null Count    Dtype \n",
            "--------------    ----- \n",
            "1010773 non-null  object\n",
            "dtypes: object(1)\n",
            "memory usage: 7.7+ MB\n"
          ]
        }
      ]
    },
    {
      "cell_type": "code",
      "source": [
        "comments.dropna(inplace=True)\n",
        "comments.info()"
      ],
      "metadata": {
        "id": "sbjzLRGTtbTO",
        "outputId": "75d775cc-a4d3-49af-adc4-b6f92fbbb116",
        "colab": {
          "base_uri": "https://localhost:8080/"
        }
      },
      "execution_count": 14,
      "outputs": [
        {
          "output_type": "stream",
          "name": "stdout",
          "text": [
            "<class 'pandas.core.series.Series'>\n",
            "Int64Index: 1010773 entries, 0 to 1010825\n",
            "Series name: comment\n",
            "Non-Null Count    Dtype \n",
            "--------------    ----- \n",
            "1010773 non-null  object\n",
            "dtypes: object(1)\n",
            "memory usage: 15.4+ MB\n"
          ]
        }
      ]
    },
    {
      "cell_type": "code",
      "source": [
        "!pip install dask[delayed]"
      ],
      "metadata": {
        "id": "FGDdd5DDtef4",
        "outputId": "6feb6572-00c9-43a4-dfc0-d112f3f167bc",
        "colab": {
          "base_uri": "https://localhost:8080/"
        }
      },
      "execution_count": 15,
      "outputs": [
        {
          "output_type": "stream",
          "name": "stdout",
          "text": [
            "Requirement already satisfied: dask[delayed] in /usr/local/lib/python3.10/dist-packages (2023.8.1)\n",
            "Requirement already satisfied: click>=8.0 in /usr/local/lib/python3.10/dist-packages (from dask[delayed]) (8.1.7)\n",
            "Requirement already satisfied: cloudpickle>=1.5.0 in /usr/local/lib/python3.10/dist-packages (from dask[delayed]) (2.2.1)\n",
            "Requirement already satisfied: fsspec>=2021.09.0 in /usr/local/lib/python3.10/dist-packages (from dask[delayed]) (2023.6.0)\n",
            "Requirement already satisfied: packaging>=20.0 in /usr/local/lib/python3.10/dist-packages (from dask[delayed]) (23.2)\n",
            "Requirement already satisfied: partd>=1.2.0 in /usr/local/lib/python3.10/dist-packages (from dask[delayed]) (1.4.1)\n",
            "Requirement already satisfied: pyyaml>=5.3.1 in /usr/local/lib/python3.10/dist-packages (from dask[delayed]) (6.0.1)\n",
            "Requirement already satisfied: toolz>=0.10.0 in /usr/local/lib/python3.10/dist-packages (from dask[delayed]) (0.12.0)\n",
            "Requirement already satisfied: importlib-metadata>=4.13.0 in /usr/local/lib/python3.10/dist-packages (from dask[delayed]) (7.0.1)\n",
            "Requirement already satisfied: zipp>=0.5 in /usr/local/lib/python3.10/dist-packages (from importlib-metadata>=4.13.0->dask[delayed]) (3.17.0)\n",
            "Requirement already satisfied: locket in /usr/local/lib/python3.10/dist-packages (from partd>=1.2.0->dask[delayed]) (1.0.0)\n"
          ]
        }
      ]
    },
    {
      "cell_type": "code",
      "source": [
        "import dask.dataframe as dd\n",
        "from dask import delayed"
      ],
      "metadata": {
        "id": "KJuWYScVtzH6"
      },
      "execution_count": 16,
      "outputs": []
    },
    {
      "cell_type": "code",
      "source": [
        "comment_test = comments.head(10000)"
      ],
      "metadata": {
        "id": "3swTFty9uT5U"
      },
      "execution_count": 17,
      "outputs": []
    },
    {
      "cell_type": "code",
      "source": [
        "#  Replace this?\n",
        "def batch_tokenize(texts, batch_size=50000):\n",
        "    tokenized_texts = []\n",
        "    for i in range(0, len(texts), batch_size):\n",
        "        batch = texts[i:i+batch_size]\n",
        "        tokenized_batch = [word_tokenize(text) for text in batch]\n",
        "        tokenized_texts.extend(tokenized_batch)\n",
        "    return tokenized_texts\n",
        "\n",
        "tokenized_comments = batch_tokenize(comments.tolist())"
      ],
      "metadata": {
        "id": "PHejGAHduG3r"
      },
      "execution_count": 18,
      "outputs": []
    },
    {
      "cell_type": "code",
      "source": [
        "len(tokenized_comments)"
      ],
      "metadata": {
        "id": "pRII2opwuchE",
        "outputId": "6b076df3-1c0e-4558-b8c1-e273682044a7",
        "colab": {
          "base_uri": "https://localhost:8080/"
        }
      },
      "execution_count": 19,
      "outputs": [
        {
          "output_type": "execute_result",
          "data": {
            "text/plain": [
              "1010773"
            ]
          },
          "metadata": {},
          "execution_count": 19
        }
      ]
    },
    {
      "cell_type": "code",
      "source": [
        "phrases = Phrases(tokenized_comments)"
      ],
      "metadata": {
        "id": "RnAMUB1OvgPU"
      },
      "execution_count": 21,
      "outputs": []
    },
    {
      "cell_type": "code",
      "source": [
        "bigram = Phraser(phrases)"
      ],
      "metadata": {
        "id": "E01b4TT1mhOi"
      },
      "execution_count": 22,
      "outputs": []
    },
    {
      "cell_type": "code",
      "source": [
        "# bigram.phrasegrams"
      ],
      "metadata": {
        "id": "N5h707SPnWa3"
      },
      "execution_count": null,
      "outputs": []
    },
    {
      "cell_type": "code",
      "source": [
        "bigram_comments = [bigram[comment] for comment in tokenized_comments]\n"
      ],
      "metadata": {
        "id": "ms4C3_EgqlGH"
      },
      "execution_count": 23,
      "outputs": []
    },
    {
      "cell_type": "code",
      "source": [
        "# Adjust parameters as needed\n",
        "size = 150\n",
        "window = 7\n",
        "min_count = 15\n",
        "workers = 4\n",
        "sg = 1\n",
        "negative = 5\n",
        "epochs = 7\n",
        "\n",
        "\n",
        "model = Word2Vec(bigram_comments, vector_size=size, window=window, min_count=min_count, workers=workers)\n",
        "\n",
        "# model.save(\"/content/drive/Sarcasm_Data/model/word2vec.w2v\")\n"
      ],
      "metadata": {
        "id": "IN5JoLLGq_-J",
        "outputId": "43d7195e-e31e-4900-9b99-6d3d0ab73fb0",
        "colab": {
          "base_uri": "https://localhost:8080/",
          "height": 443
        }
      },
      "execution_count": 24,
      "outputs": [
        {
          "output_type": "error",
          "ename": "FileNotFoundError",
          "evalue": "[Errno 2] No such file or directory: '/content/drive/Sarcasm_Data/model/word2vec.model'",
          "traceback": [
            "\u001b[0;31m---------------------------------------------------------------------------\u001b[0m",
            "\u001b[0;31mTypeError\u001b[0m                                 Traceback (most recent call last)",
            "\u001b[0;32m/usr/local/lib/python3.10/dist-packages/gensim/utils.py\u001b[0m in \u001b[0;36msave\u001b[0;34m(self, fname_or_handle, separately, sep_limit, ignore, pickle_protocol)\u001b[0m\n\u001b[1;32m    763\u001b[0m         \u001b[0;32mtry\u001b[0m\u001b[0;34m:\u001b[0m\u001b[0;34m\u001b[0m\u001b[0;34m\u001b[0m\u001b[0m\n\u001b[0;32m--> 764\u001b[0;31m             \u001b[0m_pickle\u001b[0m\u001b[0;34m.\u001b[0m\u001b[0mdump\u001b[0m\u001b[0;34m(\u001b[0m\u001b[0mself\u001b[0m\u001b[0;34m,\u001b[0m \u001b[0mfname_or_handle\u001b[0m\u001b[0;34m,\u001b[0m \u001b[0mprotocol\u001b[0m\u001b[0;34m=\u001b[0m\u001b[0mpickle_protocol\u001b[0m\u001b[0;34m)\u001b[0m\u001b[0;34m\u001b[0m\u001b[0;34m\u001b[0m\u001b[0m\n\u001b[0m\u001b[1;32m    765\u001b[0m             \u001b[0mlogger\u001b[0m\u001b[0;34m.\u001b[0m\u001b[0minfo\u001b[0m\u001b[0;34m(\u001b[0m\u001b[0;34m\"saved %s object\"\u001b[0m\u001b[0;34m,\u001b[0m \u001b[0mself\u001b[0m\u001b[0;34m.\u001b[0m\u001b[0m__class__\u001b[0m\u001b[0;34m.\u001b[0m\u001b[0m__name__\u001b[0m\u001b[0;34m)\u001b[0m\u001b[0;34m\u001b[0m\u001b[0;34m\u001b[0m\u001b[0m\n",
            "\u001b[0;31mTypeError\u001b[0m: file must have a 'write' attribute",
            "\nDuring handling of the above exception, another exception occurred:\n",
            "\u001b[0;31mFileNotFoundError\u001b[0m                         Traceback (most recent call last)",
            "\u001b[0;32m<ipython-input-24-5a950c33926f>\u001b[0m in \u001b[0;36m<cell line: 13>\u001b[0;34m()\u001b[0m\n\u001b[1;32m     11\u001b[0m \u001b[0mmodel\u001b[0m \u001b[0;34m=\u001b[0m \u001b[0mWord2Vec\u001b[0m\u001b[0;34m(\u001b[0m\u001b[0mbigram_comments\u001b[0m\u001b[0;34m,\u001b[0m \u001b[0mvector_size\u001b[0m\u001b[0;34m=\u001b[0m\u001b[0msize\u001b[0m\u001b[0;34m,\u001b[0m \u001b[0mwindow\u001b[0m\u001b[0;34m=\u001b[0m\u001b[0mwindow\u001b[0m\u001b[0;34m,\u001b[0m \u001b[0mmin_count\u001b[0m\u001b[0;34m=\u001b[0m\u001b[0mmin_count\u001b[0m\u001b[0;34m,\u001b[0m \u001b[0mworkers\u001b[0m\u001b[0;34m=\u001b[0m\u001b[0mworkers\u001b[0m\u001b[0;34m)\u001b[0m\u001b[0;34m\u001b[0m\u001b[0;34m\u001b[0m\u001b[0m\n\u001b[1;32m     12\u001b[0m \u001b[0;34m\u001b[0m\u001b[0m\n\u001b[0;32m---> 13\u001b[0;31m \u001b[0mmodel\u001b[0m\u001b[0;34m.\u001b[0m\u001b[0msave\u001b[0m\u001b[0;34m(\u001b[0m\u001b[0;34m\"/content/drive/Sarcasm_Data/model/word2vec.model\"\u001b[0m\u001b[0;34m)\u001b[0m\u001b[0;34m\u001b[0m\u001b[0;34m\u001b[0m\u001b[0m\n\u001b[0m",
            "\u001b[0;32m/usr/local/lib/python3.10/dist-packages/gensim/models/word2vec.py\u001b[0m in \u001b[0;36msave\u001b[0;34m(self, *args, **kwargs)\u001b[0m\n\u001b[1;32m   1921\u001b[0m \u001b[0;34m\u001b[0m\u001b[0m\n\u001b[1;32m   1922\u001b[0m         \"\"\"\n\u001b[0;32m-> 1923\u001b[0;31m         \u001b[0msuper\u001b[0m\u001b[0;34m(\u001b[0m\u001b[0mWord2Vec\u001b[0m\u001b[0;34m,\u001b[0m \u001b[0mself\u001b[0m\u001b[0;34m)\u001b[0m\u001b[0;34m.\u001b[0m\u001b[0msave\u001b[0m\u001b[0;34m(\u001b[0m\u001b[0;34m*\u001b[0m\u001b[0margs\u001b[0m\u001b[0;34m,\u001b[0m \u001b[0;34m**\u001b[0m\u001b[0mkwargs\u001b[0m\u001b[0;34m)\u001b[0m\u001b[0;34m\u001b[0m\u001b[0;34m\u001b[0m\u001b[0m\n\u001b[0m\u001b[1;32m   1924\u001b[0m \u001b[0;34m\u001b[0m\u001b[0m\n\u001b[1;32m   1925\u001b[0m     \u001b[0;32mdef\u001b[0m \u001b[0m_save_specials\u001b[0m\u001b[0;34m(\u001b[0m\u001b[0mself\u001b[0m\u001b[0;34m,\u001b[0m \u001b[0mfname\u001b[0m\u001b[0;34m,\u001b[0m \u001b[0mseparately\u001b[0m\u001b[0;34m,\u001b[0m \u001b[0msep_limit\u001b[0m\u001b[0;34m,\u001b[0m \u001b[0mignore\u001b[0m\u001b[0;34m,\u001b[0m \u001b[0mpickle_protocol\u001b[0m\u001b[0;34m,\u001b[0m \u001b[0mcompress\u001b[0m\u001b[0;34m,\u001b[0m \u001b[0msubname\u001b[0m\u001b[0;34m)\u001b[0m\u001b[0;34m:\u001b[0m\u001b[0;34m\u001b[0m\u001b[0;34m\u001b[0m\u001b[0m\n",
            "\u001b[0;32m/usr/local/lib/python3.10/dist-packages/gensim/utils.py\u001b[0m in \u001b[0;36msave\u001b[0;34m(self, fname_or_handle, separately, sep_limit, ignore, pickle_protocol)\u001b[0m\n\u001b[1;32m    765\u001b[0m             \u001b[0mlogger\u001b[0m\u001b[0;34m.\u001b[0m\u001b[0minfo\u001b[0m\u001b[0;34m(\u001b[0m\u001b[0;34m\"saved %s object\"\u001b[0m\u001b[0;34m,\u001b[0m \u001b[0mself\u001b[0m\u001b[0;34m.\u001b[0m\u001b[0m__class__\u001b[0m\u001b[0;34m.\u001b[0m\u001b[0m__name__\u001b[0m\u001b[0;34m)\u001b[0m\u001b[0;34m\u001b[0m\u001b[0;34m\u001b[0m\u001b[0m\n\u001b[1;32m    766\u001b[0m         \u001b[0;32mexcept\u001b[0m \u001b[0mTypeError\u001b[0m\u001b[0;34m:\u001b[0m  \u001b[0;31m# `fname_or_handle` does not have write attribute\u001b[0m\u001b[0;34m\u001b[0m\u001b[0;34m\u001b[0m\u001b[0m\n\u001b[0;32m--> 767\u001b[0;31m             \u001b[0mself\u001b[0m\u001b[0;34m.\u001b[0m\u001b[0m_smart_save\u001b[0m\u001b[0;34m(\u001b[0m\u001b[0mfname_or_handle\u001b[0m\u001b[0;34m,\u001b[0m \u001b[0mseparately\u001b[0m\u001b[0;34m,\u001b[0m \u001b[0msep_limit\u001b[0m\u001b[0;34m,\u001b[0m \u001b[0mignore\u001b[0m\u001b[0;34m,\u001b[0m \u001b[0mpickle_protocol\u001b[0m\u001b[0;34m=\u001b[0m\u001b[0mpickle_protocol\u001b[0m\u001b[0;34m)\u001b[0m\u001b[0;34m\u001b[0m\u001b[0;34m\u001b[0m\u001b[0m\n\u001b[0m\u001b[1;32m    768\u001b[0m \u001b[0;34m\u001b[0m\u001b[0m\n\u001b[1;32m    769\u001b[0m \u001b[0;34m\u001b[0m\u001b[0m\n",
            "\u001b[0;32m/usr/local/lib/python3.10/dist-packages/gensim/utils.py\u001b[0m in \u001b[0;36m_smart_save\u001b[0;34m(self, fname, separately, sep_limit, ignore, pickle_protocol)\u001b[0m\n\u001b[1;32m    609\u001b[0m         )\n\u001b[1;32m    610\u001b[0m         \u001b[0;32mtry\u001b[0m\u001b[0;34m:\u001b[0m\u001b[0;34m\u001b[0m\u001b[0;34m\u001b[0m\u001b[0m\n\u001b[0;32m--> 611\u001b[0;31m             \u001b[0mpickle\u001b[0m\u001b[0;34m(\u001b[0m\u001b[0mself\u001b[0m\u001b[0;34m,\u001b[0m \u001b[0mfname\u001b[0m\u001b[0;34m,\u001b[0m \u001b[0mprotocol\u001b[0m\u001b[0;34m=\u001b[0m\u001b[0mpickle_protocol\u001b[0m\u001b[0;34m)\u001b[0m\u001b[0;34m\u001b[0m\u001b[0;34m\u001b[0m\u001b[0m\n\u001b[0m\u001b[1;32m    612\u001b[0m         \u001b[0;32mfinally\u001b[0m\u001b[0;34m:\u001b[0m\u001b[0;34m\u001b[0m\u001b[0;34m\u001b[0m\u001b[0m\n\u001b[1;32m    613\u001b[0m             \u001b[0;31m# restore attribs handled specially\u001b[0m\u001b[0;34m\u001b[0m\u001b[0;34m\u001b[0m\u001b[0m\n",
            "\u001b[0;32m/usr/local/lib/python3.10/dist-packages/gensim/utils.py\u001b[0m in \u001b[0;36mpickle\u001b[0;34m(obj, fname, protocol)\u001b[0m\n\u001b[1;32m   1440\u001b[0m \u001b[0;34m\u001b[0m\u001b[0m\n\u001b[1;32m   1441\u001b[0m     \"\"\"\n\u001b[0;32m-> 1442\u001b[0;31m     \u001b[0;32mwith\u001b[0m \u001b[0mopen\u001b[0m\u001b[0;34m(\u001b[0m\u001b[0mfname\u001b[0m\u001b[0;34m,\u001b[0m \u001b[0;34m'wb'\u001b[0m\u001b[0;34m)\u001b[0m \u001b[0;32mas\u001b[0m \u001b[0mfout\u001b[0m\u001b[0;34m:\u001b[0m  \u001b[0;31m# 'b' for binary, needed on Windows\u001b[0m\u001b[0;34m\u001b[0m\u001b[0;34m\u001b[0m\u001b[0m\n\u001b[0m\u001b[1;32m   1443\u001b[0m         \u001b[0m_pickle\u001b[0m\u001b[0;34m.\u001b[0m\u001b[0mdump\u001b[0m\u001b[0;34m(\u001b[0m\u001b[0mobj\u001b[0m\u001b[0;34m,\u001b[0m \u001b[0mfout\u001b[0m\u001b[0;34m,\u001b[0m \u001b[0mprotocol\u001b[0m\u001b[0;34m=\u001b[0m\u001b[0mprotocol\u001b[0m\u001b[0;34m)\u001b[0m\u001b[0;34m\u001b[0m\u001b[0;34m\u001b[0m\u001b[0m\n\u001b[1;32m   1444\u001b[0m \u001b[0;34m\u001b[0m\u001b[0m\n",
            "\u001b[0;32m/usr/local/lib/python3.10/dist-packages/smart_open/smart_open_lib.py\u001b[0m in \u001b[0;36mopen\u001b[0;34m(uri, mode, buffering, encoding, errors, newline, closefd, opener, compression, transport_params)\u001b[0m\n\u001b[1;32m    175\u001b[0m         \u001b[0mtransport_params\u001b[0m \u001b[0;34m=\u001b[0m \u001b[0;34m{\u001b[0m\u001b[0;34m}\u001b[0m\u001b[0;34m\u001b[0m\u001b[0;34m\u001b[0m\u001b[0m\n\u001b[1;32m    176\u001b[0m \u001b[0;34m\u001b[0m\u001b[0m\n\u001b[0;32m--> 177\u001b[0;31m     fobj = _shortcut_open(\n\u001b[0m\u001b[1;32m    178\u001b[0m         \u001b[0muri\u001b[0m\u001b[0;34m,\u001b[0m\u001b[0;34m\u001b[0m\u001b[0;34m\u001b[0m\u001b[0m\n\u001b[1;32m    179\u001b[0m         \u001b[0mmode\u001b[0m\u001b[0;34m,\u001b[0m\u001b[0;34m\u001b[0m\u001b[0;34m\u001b[0m\u001b[0m\n",
            "\u001b[0;32m/usr/local/lib/python3.10/dist-packages/smart_open/smart_open_lib.py\u001b[0m in \u001b[0;36m_shortcut_open\u001b[0;34m(uri, mode, compression, buffering, encoding, errors, newline)\u001b[0m\n\u001b[1;32m    361\u001b[0m         \u001b[0mopen_kwargs\u001b[0m\u001b[0;34m[\u001b[0m\u001b[0;34m'errors'\u001b[0m\u001b[0;34m]\u001b[0m \u001b[0;34m=\u001b[0m \u001b[0merrors\u001b[0m\u001b[0;34m\u001b[0m\u001b[0;34m\u001b[0m\u001b[0m\n\u001b[1;32m    362\u001b[0m \u001b[0;34m\u001b[0m\u001b[0m\n\u001b[0;32m--> 363\u001b[0;31m     \u001b[0;32mreturn\u001b[0m \u001b[0m_builtin_open\u001b[0m\u001b[0;34m(\u001b[0m\u001b[0mlocal_path\u001b[0m\u001b[0;34m,\u001b[0m \u001b[0mmode\u001b[0m\u001b[0;34m,\u001b[0m \u001b[0mbuffering\u001b[0m\u001b[0;34m=\u001b[0m\u001b[0mbuffering\u001b[0m\u001b[0;34m,\u001b[0m \u001b[0;34m**\u001b[0m\u001b[0mopen_kwargs\u001b[0m\u001b[0;34m)\u001b[0m\u001b[0;34m\u001b[0m\u001b[0;34m\u001b[0m\u001b[0m\n\u001b[0m\u001b[1;32m    364\u001b[0m \u001b[0;34m\u001b[0m\u001b[0m\n\u001b[1;32m    365\u001b[0m \u001b[0;34m\u001b[0m\u001b[0m\n",
            "\u001b[0;31mFileNotFoundError\u001b[0m: [Errno 2] No such file or directory: '/content/drive/Sarcasm_Data/model/word2vec.model'"
          ]
        }
      ]
    },
    {
      "cell_type": "code",
      "source": [
        "# model.save(\"model_embedding.w2v\")"
      ],
      "metadata": {
        "id": "NcOVvoH9UAUZ"
      },
      "execution_count": 26,
      "outputs": []
    },
    {
      "cell_type": "code",
      "source": [
        "# skip re-training the model with the next line:\n",
        "model = gensim.models.Word2Vec.load('/content/drive/Sarcasm_Data/model_embedding.w2v')"
      ],
      "metadata": {
        "id": "mDi59BCHTiqi"
      },
      "execution_count": 27,
      "outputs": []
    },
    {
      "cell_type": "code",
      "source": [
        "model.wv['dog']"
      ],
      "metadata": {
        "id": "KTxPfHCxrYEP",
        "outputId": "f6e71213-cba6-412f-ada9-af56309e0860",
        "colab": {
          "base_uri": "https://localhost:8080/"
        }
      },
      "execution_count": 28,
      "outputs": [
        {
          "output_type": "execute_result",
          "data": {
            "text/plain": [
              "array([ 1.0188653 ,  0.32062483, -0.07807237,  0.85903114,  0.04362991,\n",
              "       -1.1928818 ,  0.45977163,  0.37797037,  0.8945798 ,  0.82961595,\n",
              "       -0.03136215, -0.49116868, -0.7461801 , -0.4845558 , -0.9324936 ,\n",
              "        0.07049374, -0.12309556,  0.57161343,  0.4969225 ,  0.31674108,\n",
              "       -2.4375882 ,  0.9702497 ,  0.01775967, -0.28214842,  0.8720666 ,\n",
              "       -1.00265   ,  0.6558143 , -0.7604041 , -1.4459295 , -0.28646892,\n",
              "       -1.2925223 , -0.7026893 ,  0.85467094,  1.3778654 ,  0.9994284 ,\n",
              "       -1.1475997 , -0.34346926,  0.741116  ,  0.48441404, -1.3507508 ,\n",
              "       -0.51482826, -0.6061933 , -0.00591656,  0.77143335,  0.44804016,\n",
              "       -0.11711957,  0.08903364,  0.26260948,  0.01116152,  1.9489256 ,\n",
              "       -0.2577452 ,  0.553156  ,  0.3978653 ,  1.8590658 ,  1.3861057 ,\n",
              "        0.30002668,  1.8992883 , -1.2189982 ,  1.4793862 , -0.17094561,\n",
              "        0.7126899 ,  0.37536767,  0.9446461 , -0.47818613,  0.39467183,\n",
              "        0.4380137 ,  0.8973546 , -0.35694343, -0.34861717, -0.0820222 ,\n",
              "       -0.29033935,  0.11183391, -0.51047325, -0.46913287, -0.9246278 ,\n",
              "        0.2494627 , -0.8789689 , -1.0770302 ,  1.9074788 , -0.649574  ,\n",
              "       -0.43724096, -0.09530449,  0.17778726,  0.71486396, -0.21075925,\n",
              "       -0.1946915 ,  0.1930497 ,  1.9183165 , -0.6385578 , -2.0483153 ,\n",
              "       -0.8672358 ,  0.5800305 , -0.45605874, -0.36585087, -1.128207  ,\n",
              "       -0.93432456,  0.48127118,  0.68091077,  0.19782534,  0.7882869 ,\n",
              "        0.9594306 ,  0.3568645 ,  0.6076358 , -0.42170796, -1.3834095 ,\n",
              "       -0.28169236,  0.91279095,  0.46709004,  0.08442249, -1.7929058 ,\n",
              "        0.38467023,  0.64524394,  0.6904496 , -0.36455265, -0.27385178,\n",
              "        0.2327597 ,  0.18684018, -0.35905927, -1.3774555 , -0.69056123,\n",
              "        0.70335466,  0.13938414,  0.8856504 ,  0.60928553,  1.7867494 ,\n",
              "       -0.35095912, -1.025274  , -0.9458611 ,  0.9773832 , -1.3334873 ,\n",
              "        0.7527718 , -1.835947  , -0.52619785, -1.4545372 , -0.2944427 ,\n",
              "        0.72248286,  0.7675678 , -1.6123834 , -0.886191  ,  1.3684566 ,\n",
              "       -1.1437886 ,  0.18069182, -1.2288835 , -0.8962299 ,  0.73145705,\n",
              "        0.23458378,  0.33867675, -0.91922927, -0.7233213 ,  0.15723348],\n",
              "      dtype=float32)"
            ]
          },
          "metadata": {},
          "execution_count": 28
        }
      ]
    },
    {
      "cell_type": "code",
      "source": [
        "similar_words = model.wv.most_similar('ok')\n",
        "similar_words"
      ],
      "metadata": {
        "colab": {
          "base_uri": "https://localhost:8080/"
        },
        "id": "7GtgNUaAtcQD",
        "outputId": "851a1588-5d6d-4fb0-cc1a-3ee22a1efc54"
      },
      "execution_count": 29,
      "outputs": [
        {
          "output_type": "execute_result",
          "data": {
            "text/plain": [
              "[('okay', 0.9476559162139893),\n",
              " ('OK', 0.915338397026062),\n",
              " ('alright', 0.7750617265701294),\n",
              " ('fine', 0.6628554463386536),\n",
              " ('cool', 0.5893252491950989),\n",
              " ('perfectly_fine', 0.5848596096038818),\n",
              " ('pretty_obvious', 0.5256322622299194),\n",
              " ('pretty_close', 0.5119588971138),\n",
              " ('justified', 0.49507829546928406),\n",
              " ('wrong', 0.4906427562236786)]"
            ]
          },
          "metadata": {},
          "execution_count": 29
        }
      ]
    },
    {
      "cell_type": "code",
      "source": [
        "model.wv.doesnt_match(\"mother father sister brother dog\".split())"
      ],
      "metadata": {
        "id": "LE74GomRJOWv",
        "outputId": "012b3847-6243-4ef2-f5d3-e7d3c47f7b4f",
        "colab": {
          "base_uri": "https://localhost:8080/",
          "height": 35
        }
      },
      "execution_count": 30,
      "outputs": [
        {
          "output_type": "execute_result",
          "data": {
            "text/plain": [
              "'dog'"
            ],
            "application/vnd.google.colaboratory.intrinsic+json": {
              "type": "string"
            }
          },
          "metadata": {},
          "execution_count": 30
        }
      ]
    },
    {
      "cell_type": "code",
      "source": [
        "model.wv.similarity('father', 'dog')"
      ],
      "metadata": {
        "id": "eJcuoTz4JPoP",
        "outputId": "6def44a0-ba9c-4772-ac3a-e456c89606fc",
        "colab": {
          "base_uri": "https://localhost:8080/"
        }
      },
      "execution_count": 31,
      "outputs": [
        {
          "output_type": "execute_result",
          "data": {
            "text/plain": [
              "0.67697096"
            ]
          },
          "metadata": {},
          "execution_count": 31
        }
      ]
    },
    {
      "cell_type": "code",
      "source": [
        "model.wv.most_similar(positive=['father', 'woman'], negative=['man'])   # Should expect mother"
      ],
      "metadata": {
        "id": "ZH0zJ9D0JTAH",
        "outputId": "20f0db2f-33c7-4b26-e086-0890977c3849",
        "colab": {
          "base_uri": "https://localhost:8080/"
        }
      },
      "execution_count": 32,
      "outputs": [
        {
          "output_type": "execute_result",
          "data": {
            "text/plain": [
              "[('mother', 0.7333528995513916),\n",
              " ('child', 0.6821308135986328),\n",
              " ('husband', 0.6604435443878174),\n",
              " ('daughter', 0.6524917483329773),\n",
              " ('wife', 0.6470549702644348),\n",
              " ('teacher', 0.63566654920578),\n",
              " ('girlfriend', 0.6241698265075684),\n",
              " ('sister', 0.6156890988349915),\n",
              " ('parent', 0.6142110228538513),\n",
              " ('cousin', 0.5869983434677124)]"
            ]
          },
          "metadata": {},
          "execution_count": 32
        }
      ]
    },
    {
      "cell_type": "code",
      "source": [
        "model.wv.most_similar(positive=['husband', 'woman'], negative=['man'])  # Should expect wife"
      ],
      "metadata": {
        "id": "9OBRMbMrJZUa",
        "outputId": "f661aee0-f02b-4db2-b99e-53c30294b4da",
        "colab": {
          "base_uri": "https://localhost:8080/"
        }
      },
      "execution_count": 33,
      "outputs": [
        {
          "output_type": "execute_result",
          "data": {
            "text/plain": [
              "[('mother', 0.6858645081520081),\n",
              " ('child', 0.6771438121795654),\n",
              " ('daughter', 0.6768690347671509),\n",
              " ('partner', 0.6554784774780273),\n",
              " ('girlfriend', 0.6529251337051392),\n",
              " ('father', 0.6479963660240173),\n",
              " ('boyfriend', 0.6227932572364807),\n",
              " ('wife', 0.6187699437141418),\n",
              " ('sister', 0.6163711547851562),\n",
              " ('neighbor', 0.6010925769805908)]"
            ]
          },
          "metadata": {},
          "execution_count": 33
        }
      ]
    },
    {
      "cell_type": "markdown",
      "source": [
        "### t-SNE Word Embedding Visualization"
      ],
      "metadata": {
        "id": "eDUAEbPEYVax"
      }
    },
    {
      "cell_type": "code",
      "source": [
        "# tsne = TSNE(n_components=2, n_iter=1000)"
      ],
      "metadata": {
        "id": "r_PTRS5cJfJn"
      },
      "execution_count": 34,
      "outputs": []
    },
    {
      "cell_type": "code",
      "source": [
        "# # X_2d = tsne.fit_transform(model.wv[model.wv.key_to_index])\n",
        "# coords_df = pd.DataFrame(X_2d, columns=['x','y'])\n",
        "# coords_df['token'] = model.wv.index_to_key\n",
        "# # coords_df.head()\n",
        "# coords_df.to_csv('word_embedding_tsne.csv', index=False)"
      ],
      "metadata": {
        "id": "RsgHPNmMJqKg"
      },
      "execution_count": 38,
      "outputs": []
    },
    {
      "cell_type": "code",
      "source": [
        "coords_df = pd.read_csv('/Sarcasm_Detection/word_embedding_tsne.csv')\n",
        "output_notebook()\n",
        "subset_df = coords_df.sample(n=5000)\n",
        "p = figure(min_width=800, min_height=800)\n",
        "_ = p.text(x=subset_df.x, y=subset_df.y, text=subset_df.token)\n",
        "show(p)"
      ],
      "metadata": {
        "id": "-ZMJHWBWJ0IA",
        "outputId": "ca339d65-339b-4054-c5b1-174434c8b0dd",
        "colab": {
          "base_uri": "https://localhost:8080/",
          "height": 817
        }
      },
      "execution_count": 42,
      "outputs": [
        {
          "output_type": "display_data",
          "data": {
            "application/javascript": [
              "(function(root) {\n",
              "  function now() {\n",
              "    return new Date();\n",
              "  }\n",
              "\n",
              "  const force = true;\n",
              "\n",
              "  if (typeof root._bokeh_onload_callbacks === \"undefined\" || force === true) {\n",
              "    root._bokeh_onload_callbacks = [];\n",
              "    root._bokeh_is_loading = undefined;\n",
              "  }\n",
              "\n",
              "const JS_MIME_TYPE = 'application/javascript';\n",
              "  const HTML_MIME_TYPE = 'text/html';\n",
              "  const EXEC_MIME_TYPE = 'application/vnd.bokehjs_exec.v0+json';\n",
              "  const CLASS_NAME = 'output_bokeh rendered_html';\n",
              "\n",
              "  /**\n",
              "   * Render data to the DOM node\n",
              "   */\n",
              "  function render(props, node) {\n",
              "    const script = document.createElement(\"script\");\n",
              "    node.appendChild(script);\n",
              "  }\n",
              "\n",
              "  /**\n",
              "   * Handle when an output is cleared or removed\n",
              "   */\n",
              "  function handleClearOutput(event, handle) {\n",
              "    function drop(id) {\n",
              "      const view = Bokeh.index.get_by_id(id)\n",
              "      if (view != null) {\n",
              "        view.model.document.clear()\n",
              "        Bokeh.index.delete(view)\n",
              "      }\n",
              "    }\n",
              "\n",
              "    const cell = handle.cell;\n",
              "\n",
              "    const id = cell.output_area._bokeh_element_id;\n",
              "    const server_id = cell.output_area._bokeh_server_id;\n",
              "\n",
              "    // Clean up Bokeh references\n",
              "    if (id != null) {\n",
              "      drop(id)\n",
              "    }\n",
              "\n",
              "    if (server_id !== undefined) {\n",
              "      // Clean up Bokeh references\n",
              "      const cmd_clean = \"from bokeh.io.state import curstate; print(curstate().uuid_to_server['\" + server_id + \"'].get_sessions()[0].document.roots[0]._id)\";\n",
              "      cell.notebook.kernel.execute(cmd_clean, {\n",
              "        iopub: {\n",
              "          output: function(msg) {\n",
              "            const id = msg.content.text.trim()\n",
              "            drop(id)\n",
              "          }\n",
              "        }\n",
              "      });\n",
              "      // Destroy server and session\n",
              "      const cmd_destroy = \"import bokeh.io.notebook as ion; ion.destroy_server('\" + server_id + \"')\";\n",
              "      cell.notebook.kernel.execute(cmd_destroy);\n",
              "    }\n",
              "  }\n",
              "\n",
              "  /**\n",
              "   * Handle when a new output is added\n",
              "   */\n",
              "  function handleAddOutput(event, handle) {\n",
              "    const output_area = handle.output_area;\n",
              "    const output = handle.output;\n",
              "\n",
              "    // limit handleAddOutput to display_data with EXEC_MIME_TYPE content only\n",
              "    if ((output.output_type != \"display_data\") || (!Object.prototype.hasOwnProperty.call(output.data, EXEC_MIME_TYPE))) {\n",
              "      return\n",
              "    }\n",
              "\n",
              "    const toinsert = output_area.element.find(\".\" + CLASS_NAME.split(' ')[0]);\n",
              "\n",
              "    if (output.metadata[EXEC_MIME_TYPE][\"id\"] !== undefined) {\n",
              "      toinsert[toinsert.length - 1].firstChild.textContent = output.data[JS_MIME_TYPE];\n",
              "      // store reference to embed id on output_area\n",
              "      output_area._bokeh_element_id = output.metadata[EXEC_MIME_TYPE][\"id\"];\n",
              "    }\n",
              "    if (output.metadata[EXEC_MIME_TYPE][\"server_id\"] !== undefined) {\n",
              "      const bk_div = document.createElement(\"div\");\n",
              "      bk_div.innerHTML = output.data[HTML_MIME_TYPE];\n",
              "      const script_attrs = bk_div.children[0].attributes;\n",
              "      for (let i = 0; i < script_attrs.length; i++) {\n",
              "        toinsert[toinsert.length - 1].firstChild.setAttribute(script_attrs[i].name, script_attrs[i].value);\n",
              "        toinsert[toinsert.length - 1].firstChild.textContent = bk_div.children[0].textContent\n",
              "      }\n",
              "      // store reference to server id on output_area\n",
              "      output_area._bokeh_server_id = output.metadata[EXEC_MIME_TYPE][\"server_id\"];\n",
              "    }\n",
              "  }\n",
              "\n",
              "  function register_renderer(events, OutputArea) {\n",
              "\n",
              "    function append_mime(data, metadata, element) {\n",
              "      // create a DOM node to render to\n",
              "      const toinsert = this.create_output_subarea(\n",
              "        metadata,\n",
              "        CLASS_NAME,\n",
              "        EXEC_MIME_TYPE\n",
              "      );\n",
              "      this.keyboard_manager.register_events(toinsert);\n",
              "      // Render to node\n",
              "      const props = {data: data, metadata: metadata[EXEC_MIME_TYPE]};\n",
              "      render(props, toinsert[toinsert.length - 1]);\n",
              "      element.append(toinsert);\n",
              "      return toinsert\n",
              "    }\n",
              "\n",
              "    /* Handle when an output is cleared or removed */\n",
              "    events.on('clear_output.CodeCell', handleClearOutput);\n",
              "    events.on('delete.Cell', handleClearOutput);\n",
              "\n",
              "    /* Handle when a new output is added */\n",
              "    events.on('output_added.OutputArea', handleAddOutput);\n",
              "\n",
              "    /**\n",
              "     * Register the mime type and append_mime function with output_area\n",
              "     */\n",
              "    OutputArea.prototype.register_mime_type(EXEC_MIME_TYPE, append_mime, {\n",
              "      /* Is output safe? */\n",
              "      safe: true,\n",
              "      /* Index of renderer in `output_area.display_order` */\n",
              "      index: 0\n",
              "    });\n",
              "  }\n",
              "\n",
              "  // register the mime type if in Jupyter Notebook environment and previously unregistered\n",
              "  if (root.Jupyter !== undefined) {\n",
              "    const events = require('base/js/events');\n",
              "    const OutputArea = require('notebook/js/outputarea').OutputArea;\n",
              "\n",
              "    if (OutputArea.prototype.mime_types().indexOf(EXEC_MIME_TYPE) == -1) {\n",
              "      register_renderer(events, OutputArea);\n",
              "    }\n",
              "  }\n",
              "  if (typeof (root._bokeh_timeout) === \"undefined\" || force === true) {\n",
              "    root._bokeh_timeout = Date.now() + 5000;\n",
              "    root._bokeh_failed_load = false;\n",
              "  }\n",
              "\n",
              "  const NB_LOAD_WARNING = {'data': {'text/html':\n",
              "     \"<div style='background-color: #fdd'>\\n\"+\n",
              "     \"<p>\\n\"+\n",
              "     \"BokehJS does not appear to have successfully loaded. If loading BokehJS from CDN, this \\n\"+\n",
              "     \"may be due to a slow or bad network connection. Possible fixes:\\n\"+\n",
              "     \"</p>\\n\"+\n",
              "     \"<ul>\\n\"+\n",
              "     \"<li>re-rerun `output_notebook()` to attempt to load from CDN again, or</li>\\n\"+\n",
              "     \"<li>use INLINE resources instead, as so:</li>\\n\"+\n",
              "     \"</ul>\\n\"+\n",
              "     \"<code>\\n\"+\n",
              "     \"from bokeh.resources import INLINE\\n\"+\n",
              "     \"output_notebook(resources=INLINE)\\n\"+\n",
              "     \"</code>\\n\"+\n",
              "     \"</div>\"}};\n",
              "\n",
              "  function display_loaded() {\n",
              "    const el = document.getElementById(null);\n",
              "    if (el != null) {\n",
              "      el.textContent = \"BokehJS is loading...\";\n",
              "    }\n",
              "    if (root.Bokeh !== undefined) {\n",
              "      if (el != null) {\n",
              "        el.textContent = \"BokehJS \" + root.Bokeh.version + \" successfully loaded.\";\n",
              "      }\n",
              "    } else if (Date.now() < root._bokeh_timeout) {\n",
              "      setTimeout(display_loaded, 100)\n",
              "    }\n",
              "  }\n",
              "\n",
              "  function run_callbacks() {\n",
              "    try {\n",
              "      root._bokeh_onload_callbacks.forEach(function(callback) {\n",
              "        if (callback != null)\n",
              "          callback();\n",
              "      });\n",
              "    } finally {\n",
              "      delete root._bokeh_onload_callbacks\n",
              "    }\n",
              "    console.debug(\"Bokeh: all callbacks have finished\");\n",
              "  }\n",
              "\n",
              "  function load_libs(css_urls, js_urls, callback) {\n",
              "    if (css_urls == null) css_urls = [];\n",
              "    if (js_urls == null) js_urls = [];\n",
              "\n",
              "    root._bokeh_onload_callbacks.push(callback);\n",
              "    if (root._bokeh_is_loading > 0) {\n",
              "      console.debug(\"Bokeh: BokehJS is being loaded, scheduling callback at\", now());\n",
              "      return null;\n",
              "    }\n",
              "    if (js_urls == null || js_urls.length === 0) {\n",
              "      run_callbacks();\n",
              "      return null;\n",
              "    }\n",
              "    console.debug(\"Bokeh: BokehJS not loaded, scheduling load and callback at\", now());\n",
              "    root._bokeh_is_loading = css_urls.length + js_urls.length;\n",
              "\n",
              "    function on_load() {\n",
              "      root._bokeh_is_loading--;\n",
              "      if (root._bokeh_is_loading === 0) {\n",
              "        console.debug(\"Bokeh: all BokehJS libraries/stylesheets loaded\");\n",
              "        run_callbacks()\n",
              "      }\n",
              "    }\n",
              "\n",
              "    function on_error(url) {\n",
              "      console.error(\"failed to load \" + url);\n",
              "    }\n",
              "\n",
              "    for (let i = 0; i < css_urls.length; i++) {\n",
              "      const url = css_urls[i];\n",
              "      const element = document.createElement(\"link\");\n",
              "      element.onload = on_load;\n",
              "      element.onerror = on_error.bind(null, url);\n",
              "      element.rel = \"stylesheet\";\n",
              "      element.type = \"text/css\";\n",
              "      element.href = url;\n",
              "      console.debug(\"Bokeh: injecting link tag for BokehJS stylesheet: \", url);\n",
              "      document.body.appendChild(element);\n",
              "    }\n",
              "\n",
              "    for (let i = 0; i < js_urls.length; i++) {\n",
              "      const url = js_urls[i];\n",
              "      const element = document.createElement('script');\n",
              "      element.onload = on_load;\n",
              "      element.onerror = on_error.bind(null, url);\n",
              "      element.async = false;\n",
              "      element.src = url;\n",
              "      console.debug(\"Bokeh: injecting script tag for BokehJS library: \", url);\n",
              "      document.head.appendChild(element);\n",
              "    }\n",
              "  };\n",
              "\n",
              "  function inject_raw_css(css) {\n",
              "    const element = document.createElement(\"style\");\n",
              "    element.appendChild(document.createTextNode(css));\n",
              "    document.body.appendChild(element);\n",
              "  }\n",
              "\n",
              "  const js_urls = [\"https://cdn.bokeh.org/bokeh/release/bokeh-3.3.3.min.js\", \"https://cdn.bokeh.org/bokeh/release/bokeh-gl-3.3.3.min.js\", \"https://cdn.bokeh.org/bokeh/release/bokeh-widgets-3.3.3.min.js\", \"https://cdn.bokeh.org/bokeh/release/bokeh-tables-3.3.3.min.js\", \"https://cdn.bokeh.org/bokeh/release/bokeh-mathjax-3.3.3.min.js\"];\n",
              "  const css_urls = [];\n",
              "\n",
              "  const inline_js = [    function(Bokeh) {\n",
              "      Bokeh.set_log_level(\"info\");\n",
              "    },\n",
              "function(Bokeh) {\n",
              "    }\n",
              "  ];\n",
              "\n",
              "  function run_inline_js() {\n",
              "    if (root.Bokeh !== undefined || force === true) {\n",
              "          for (let i = 0; i < inline_js.length; i++) {\n",
              "      inline_js[i].call(root, root.Bokeh);\n",
              "    }\n",
              "} else if (Date.now() < root._bokeh_timeout) {\n",
              "      setTimeout(run_inline_js, 100);\n",
              "    } else if (!root._bokeh_failed_load) {\n",
              "      console.log(\"Bokeh: BokehJS failed to load within specified timeout.\");\n",
              "      root._bokeh_failed_load = true;\n",
              "    } else if (force !== true) {\n",
              "      const cell = $(document.getElementById(null)).parents('.cell').data().cell;\n",
              "      cell.output_area.append_execute_result(NB_LOAD_WARNING)\n",
              "    }\n",
              "  }\n",
              "\n",
              "  if (root._bokeh_is_loading === 0) {\n",
              "    console.debug(\"Bokeh: BokehJS loaded, going straight to plotting\");\n",
              "    run_inline_js();\n",
              "  } else {\n",
              "    load_libs(css_urls, js_urls, function() {\n",
              "      console.debug(\"Bokeh: BokehJS plotting callback run at\", now());\n",
              "      run_inline_js();\n",
              "    });\n",
              "  }\n",
              "}(window));"
            ],
            "application/vnd.bokehjs_load.v0+json": "(function(root) {\n  function now() {\n    return new Date();\n  }\n\n  const force = true;\n\n  if (typeof root._bokeh_onload_callbacks === \"undefined\" || force === true) {\n    root._bokeh_onload_callbacks = [];\n    root._bokeh_is_loading = undefined;\n  }\n\n\n  if (typeof (root._bokeh_timeout) === \"undefined\" || force === true) {\n    root._bokeh_timeout = Date.now() + 5000;\n    root._bokeh_failed_load = false;\n  }\n\n  const NB_LOAD_WARNING = {'data': {'text/html':\n     \"<div style='background-color: #fdd'>\\n\"+\n     \"<p>\\n\"+\n     \"BokehJS does not appear to have successfully loaded. If loading BokehJS from CDN, this \\n\"+\n     \"may be due to a slow or bad network connection. Possible fixes:\\n\"+\n     \"</p>\\n\"+\n     \"<ul>\\n\"+\n     \"<li>re-rerun `output_notebook()` to attempt to load from CDN again, or</li>\\n\"+\n     \"<li>use INLINE resources instead, as so:</li>\\n\"+\n     \"</ul>\\n\"+\n     \"<code>\\n\"+\n     \"from bokeh.resources import INLINE\\n\"+\n     \"output_notebook(resources=INLINE)\\n\"+\n     \"</code>\\n\"+\n     \"</div>\"}};\n\n  function display_loaded() {\n    const el = document.getElementById(null);\n    if (el != null) {\n      el.textContent = \"BokehJS is loading...\";\n    }\n    if (root.Bokeh !== undefined) {\n      if (el != null) {\n        el.textContent = \"BokehJS \" + root.Bokeh.version + \" successfully loaded.\";\n      }\n    } else if (Date.now() < root._bokeh_timeout) {\n      setTimeout(display_loaded, 100)\n    }\n  }\n\n  function run_callbacks() {\n    try {\n      root._bokeh_onload_callbacks.forEach(function(callback) {\n        if (callback != null)\n          callback();\n      });\n    } finally {\n      delete root._bokeh_onload_callbacks\n    }\n    console.debug(\"Bokeh: all callbacks have finished\");\n  }\n\n  function load_libs(css_urls, js_urls, callback) {\n    if (css_urls == null) css_urls = [];\n    if (js_urls == null) js_urls = [];\n\n    root._bokeh_onload_callbacks.push(callback);\n    if (root._bokeh_is_loading > 0) {\n      console.debug(\"Bokeh: BokehJS is being loaded, scheduling callback at\", now());\n      return null;\n    }\n    if (js_urls == null || js_urls.length === 0) {\n      run_callbacks();\n      return null;\n    }\n    console.debug(\"Bokeh: BokehJS not loaded, scheduling load and callback at\", now());\n    root._bokeh_is_loading = css_urls.length + js_urls.length;\n\n    function on_load() {\n      root._bokeh_is_loading--;\n      if (root._bokeh_is_loading === 0) {\n        console.debug(\"Bokeh: all BokehJS libraries/stylesheets loaded\");\n        run_callbacks()\n      }\n    }\n\n    function on_error(url) {\n      console.error(\"failed to load \" + url);\n    }\n\n    for (let i = 0; i < css_urls.length; i++) {\n      const url = css_urls[i];\n      const element = document.createElement(\"link\");\n      element.onload = on_load;\n      element.onerror = on_error.bind(null, url);\n      element.rel = \"stylesheet\";\n      element.type = \"text/css\";\n      element.href = url;\n      console.debug(\"Bokeh: injecting link tag for BokehJS stylesheet: \", url);\n      document.body.appendChild(element);\n    }\n\n    for (let i = 0; i < js_urls.length; i++) {\n      const url = js_urls[i];\n      const element = document.createElement('script');\n      element.onload = on_load;\n      element.onerror = on_error.bind(null, url);\n      element.async = false;\n      element.src = url;\n      console.debug(\"Bokeh: injecting script tag for BokehJS library: \", url);\n      document.head.appendChild(element);\n    }\n  };\n\n  function inject_raw_css(css) {\n    const element = document.createElement(\"style\");\n    element.appendChild(document.createTextNode(css));\n    document.body.appendChild(element);\n  }\n\n  const js_urls = [\"https://cdn.bokeh.org/bokeh/release/bokeh-3.3.3.min.js\", \"https://cdn.bokeh.org/bokeh/release/bokeh-gl-3.3.3.min.js\", \"https://cdn.bokeh.org/bokeh/release/bokeh-widgets-3.3.3.min.js\", \"https://cdn.bokeh.org/bokeh/release/bokeh-tables-3.3.3.min.js\", \"https://cdn.bokeh.org/bokeh/release/bokeh-mathjax-3.3.3.min.js\"];\n  const css_urls = [];\n\n  const inline_js = [    function(Bokeh) {\n      Bokeh.set_log_level(\"info\");\n    },\nfunction(Bokeh) {\n    }\n  ];\n\n  function run_inline_js() {\n    if (root.Bokeh !== undefined || force === true) {\n          for (let i = 0; i < inline_js.length; i++) {\n      inline_js[i].call(root, root.Bokeh);\n    }\n} else if (Date.now() < root._bokeh_timeout) {\n      setTimeout(run_inline_js, 100);\n    } else if (!root._bokeh_failed_load) {\n      console.log(\"Bokeh: BokehJS failed to load within specified timeout.\");\n      root._bokeh_failed_load = true;\n    } else if (force !== true) {\n      const cell = $(document.getElementById(null)).parents('.cell').data().cell;\n      cell.output_area.append_execute_result(NB_LOAD_WARNING)\n    }\n  }\n\n  if (root._bokeh_is_loading === 0) {\n    console.debug(\"Bokeh: BokehJS loaded, going straight to plotting\");\n    run_inline_js();\n  } else {\n    load_libs(css_urls, js_urls, function() {\n      console.debug(\"Bokeh: BokehJS plotting callback run at\", now());\n      run_inline_js();\n    });\n  }\n}(window));"
          },
          "metadata": {}
        },
        {
          "output_type": "display_data",
          "data": {
            "text/html": [
              "\n",
              "  <div id=\"a7d64171-9191-4271-afc9-a58ec75027d6\" data-root-id=\"p1010\" style=\"display: contents;\"></div>\n"
            ]
          },
          "metadata": {}
        },
        {
          "output_type": "display_data",
          "data": {
            "application/javascript": [
              "(function(root) {\n",
              "  function embed_document(root) {\n",
              "  const docs_json = {\"eae3b400-a81a-4bc9-8a73-3fd0a4124e67\":{\"version\":\"3.3.3\",\"title\":\"Bokeh Application\",\"roots\":[{\"type\":\"object\",\"name\":\"Figure\",\"id\":\"p1010\",\"attributes\":{\"min_width\":800,\"min_height\":800,\"x_range\":{\"type\":\"object\",\"name\":\"DataRange1d\",\"id\":\"p1011\"},\"y_range\":{\"type\":\"object\",\"name\":\"DataRange1d\",\"id\":\"p1012\"},\"x_scale\":{\"type\":\"object\",\"name\":\"LinearScale\",\"id\":\"p1019\"},\"y_scale\":{\"type\":\"object\",\"name\":\"LinearScale\",\"id\":\"p1020\"},\"title\":{\"type\":\"object\",\"name\":\"Title\",\"id\":\"p1017\"},\"renderers\":[{\"type\":\"object\",\"name\":\"GlyphRenderer\",\"id\":\"p1048\",\"attributes\":{\"data_source\":{\"type\":\"object\",\"name\":\"ColumnDataSource\",\"id\":\"p1042\",\"attributes\":{\"selected\":{\"type\":\"object\",\"name\":\"Selection\",\"id\":\"p1043\",\"attributes\":{\"indices\":[],\"line_indices\":[]}},\"selection_policy\":{\"type\":\"object\",\"name\":\"UnionRenderers\",\"id\":\"p1044\"},\"data\":{\"type\":\"map\",\"entries\":[[\"x\",{\"type\":\"ndarray\",\"array\":{\"type\":\"bytes\",\"data\":\"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\"},\"shape\":[5000],\"dtype\":\"float64\",\"order\":\"little\"}],[\"y\",{\"type\":\"ndarray\",\"array\":{\"type\":\"bytes\",\"data\":\"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\"},\"shape\":[5000],\"dtype\":\"float64\",\"order\":\"little\"}],[\"text\",{\"type\":\"ndarray\",\"array\":[\"Beyond\",\"Glenn\",\"notable\",\"pink\",\"excel\",\"Zoo\",\"cammer_pissed\",\"sabotaged\",\"Stargate\",\"malicious\",\"alternate\",\"tense\",\"Satoshi\",\"clothing\",\"ET\",\"sleep\",\"illegal_immigrants\",\"insinuate\",\".2\",\"Screen\",\"chanting\",\"300_million\",\"upheld\",\"bud\",\"BUT_MUH\",\"founding\",\"even_notice\",\"tucked\",\"widow\",\"Hint\",\"Obligatory\",\"chalk\",\"ease\",\"layers\",\"child_molesters\",\"every_time\",\"drinks\",\"Rafa\",\"Fair\",\"Prometheus\",\"interrupt\",\"MAD\",\"lumberjack\",\"Ne\",\"banks\",\"todo\",\"perverted\",\"bottled_water\",\"reflected\",\"chase\",\"so-called\",\"alienate\",\"anyone_who\",\"ponder\",\"antics\",\"drama\",\"SS\",\"requested\",\"general_direction\",\"MRA\",\"Ricky\",\"youll\",\"3rd_world\",\"relations\",\"ARE_N'T\",\"enough\",\"ascension\",\"THANK\",\"still_stands\",\"into_believing\",\"dealt_with\",\"Louisiana\",\"install\",\"household\",\"gaem\",\"Carbon\",\"organized\",\"bogus\",\"tf2\",\"rented\",\"ourselves\",\"telling_me\",\"PED\",\"unable_to\",\"speeches\",\"memes\",\"meetings\",\"20k\",\"Korea\",\"society\",\"ignorance\",\"Honestly\",\"Ellis\",\"bein\",\"alimony\",\"Source_:\",\"prizes\",\"Cleveland\",\"cutie\",\"Roland\",\"at_parties\",\"Mm\",\"familiar_with\",\"recover_from\",\"legalizing\",\"inherent\",\"info\",\"willing_to\",\"junk_food\",\"XB1\",\"bandwagoners\",\".50\",\"index\",\"MOAR\",\"dismantled\",\"safari\",\"For\",\"low_price\",\"outreach\",\"Cuba\",\"Samsung\",\"Malcolm\",\"opponents\",\"tasting\",\"config\",\"objectives\",\"instituted\",\"aliens\",\"next_gen\",\"footprint\",\"PUSSY\",\"fan_fiction\",\"inspiring\",\"individually\",\"scares\",\"met\",\"tree\",\"tfw\",\"silence\",\"bruh\",\"TIMES\",\"Newt\",\"Liquid\",\"Jacket\",\"cia\",\"miracle\",\"corporations\",\"CD\",\"P.\",\":0\",\"Ha\",\"small_businesses\",\"renters\",\"friendship\",\"Gaming\",\"tax_payer\",\"downhill\",\"59\",\"Academy\",\"champs\",\"intact\",\"Sony\",\"writing\",\"LR\",\"Legion\",\"Egypt\",\"modified\",\"gym\",\"Liar\",\"1000s\",\"Tea\",\"wife\",\"dont_forget\",\"while_eating\",\"dashboard\",\"Snap\",\"gamebreaking\",\"RULES\",\"nba\",\"king\",\"praise\",\"Clara\",\"sharks\",\"ppr\",\"crammed\",\"Whenever\",\"street\",\"friday\",\"negotiations\",\"terms\",\"dee\",\"manipulative\",\"Evil\",\"inflated\",\"potential\",\"events\",\"cyclists\",\"semantics\",\"uterus\",\"O_o\",\"Thunder\",\"beef\",\"shadow\",\"cancelled\",\"mentioned\",\"returns\",\"trainers\",\"disagrees_with\",\"shareholders\",\"innocent\",\"joining\",\"fur\",\"bees\",\"heck\",\"appease\",\"EVE\",\"tree_fiddy\",\"175\",\"Navy\",\"talks\",\"wisely\",\"conducted\",\"unsafe\",\"osu\",\"mario\",\"seat\",\"feel_like\",\"Asia\",\"Stadium\",\"receipt\",\"those_fuckers\",\"bacon\",\"fetish\",\"Blizzcon\",\"FOR_YOU\",\"undercut\",\"Sheldon\",\"Absolutely_nothing\",\"quid\",\"falls\",\"sweep\",\"cus\",\"an_expansion\",\"Above\",\"cola\",\"compile\",\"Verizon\",\"lure\",\"sunt\",\"bicycle\",\"woke\",\"SAYING\",\"B\",\"spice\",\"CN\",\"Hillary\",\"give\",\"hardest_part\",\"arson\",\"better_than\",\"hedge\",\"Chat\",\"gunshots\",\"standards\",\"makes_perfect\",\"OEL\",\"figures\",\"indicate_sarcasm\",\"eliminated\",\"casinos\",\"tens_of\",\"skin_colour\",\"sacked\",\"PI\",\"40k\",\"rifles\",\"vagina\",\"Nova\",\"brotherhood\",\"denies\",\"BJP\",\"''\",\"los\",\"bombers\",\"end_result\",\"texts\",\"rainy\",\"ghosts\",\"naw\",\"Course\",\"occasion\",\"Dragon\",\"forearm\",\"3rd\",\"NO_WAY\",\"Sion\",\"WONDER\",\"criticisms\",\"stood\",\"FTP\",\"monument\",\"five_years\",\"Think_about\",\"comply\",\"Skylake\",\"heretics\",\"homosexual\",\"dozen\",\"probability\",\"I.\",\"Gronk\",\"dum\",\"3D\",\"Leafs\",\"hound\",\"dmg\",\"motor\",\"guests\",\"Annie\",\"pickle\",\"Wisconsin\",\"Personal\",\"superpowers\",\"though\",\"2GB\",\"Whew\",\"six_years\",\"stripped\",\"large_numbers\",\"perpetuate\",\"necklace\",\"Mi\",\"similarity\",\"African_countries\",\"intelligence_agencies\",\"Further_proof\",\"clearly\",\"cannibalism\",\"outta\",\"Ikea\",\"Pig\",\"remotely\",\"brightest\",\"selfish\",\"boob\",\"needing\",\"how_badly\",\"kappa\",\"violence\",\"any_indication\",\"supermarket\",\"Speed\",\"klay\",\"diving\",\"Aah\",\"scripting\",\"vocal_minority\",\"programs\",\"boi\",\"Marchand\",\"mainstream\",\"projections\",\"legislation\",\"figurines\",\"orb\",\"boundaries\",\"swept\",\"New_Mexico\",\"waiting\",\"STDs\",\"Leia\",\"immediately\",\"primary\",\"five_minutes\",\"niqab\",\"MIGHT\",\"brutality\",\"optical\",\"Tirion\",\"Gmail\",\"uneven\",\"MFA\",\"airlines\",\"fibre\",\"side_effect\",\"Speaking_of\",\"suckers\",\"109\",\"Cue\",\"backseat\",\"threshold\",\"idiotic\",\"camouflage\",\"TN\",\"OBAMA\",\"for_clearing\",\"sonic\",\"prince\",\"km\",\"heap\",\"Aim\",\"branded\",\"brush\",\"Jade_Helm\",\"1400\",\"commenting\",\"Dangerous\",\"destination\",\"pacman\",\"Wednesday\",\"suffered_from\",\"naming\",\"clarified\",\"rly\",\"OWS\",\"upset_about\",\"sponsor\",\"Wall_Street\",\"recession\",\"65\",\"Brits\",\"color_scheme\",\"Spam\",\"face_value\",\"Tag\",\"good_intentions\",\"Phantom\",\"schemes\",\"r/all\",\"Booty\",\"Golden\",\"top_3\",\"heated\",\"young_age\",\"Sauce_?\",\"collective\",\"cheerleader\",\"Mouse\",\"PHP\",\"Tell_us\",\"en\",\"circular\",\"Carlton\",\"Barney\",\"gas_tank\",\"Frontier\",\"black_lives\",\"transformers\",\"stamp\",\"axe\",\"BRING\",\"Blonde\",\"intolerance\",\"Robben\",\"Sanders_supporters\",\"Sith\",\"Nutella\",\"at_midnight\",\"iBP\",\"trucker\",\"Universal\",\"more_difficult\",\"away\",\"cure\",\"mocking\",\"desk\",\"Jerusalem\",\"BW\",\"last_time\",\"Pain\",\"Gone\",\"before_posting\",\"Gawker\",\"worse\",\"msg\",\"fix\",\"90\",\"showers\",\"IDF\",\"preventing\",\"job_creators\",\"scissors\",\"moveset\",\"contents\",\"Dash\",\"Anakin\",\"deep\",\"feats\",\"expire\",\"sheik\",\"economic_anxiety\",\"economics\",\"Parsons\",\"inline\",\"Steven\",\"Doublelift\",\"Fake\",\"witty\",\"came_out\",\"Root\",\"hp\",\"billionaires\",\"Cal\",\"fellows\",\"EleGiggle\",\"pointless\",\"Kotaku\",\"30-40\",\"faced\",\"God_gave\",\"BOX\",\"$_10,000\",\"triangle\",\"aunt\",\"DID_YOU\",\"assessment\",\"wank\",\"manages\",\"EUW\",\"Ward\",\"gaming_industry\",\"GET_OFF\",\"role\",\"flirting\",\"ulti\",\"fed\",\"late_night\",\"Jacksonville\",\"charter\",\"Bernier\",\"Aryan\",\"sooo\",\"government_regulation\",\"Student\",\"junglers\",\"burying\",\"Same_goes\",\"best_friend\",\"comedian\",\"Canadians\",\"Meanwhile\",\"SSW\",\"understand_sarcasm\",\"BEEN\",\"pulled\",\"true_hero\",\"wind\",\"settle_down\",\"Eragon\",\"shithole\",\"verse\",\"throttling\",\"contenders\",\"all-star\",\"Cubans\",\"profile_picture\",\"capitalize\",\"streak\",\"spawning\",\"painter\",\"cameras\",\"damn\",\"Nice_job\",\"divorce\",\"Trump_wins\",\"ii\",\"participants\",\"accommodate\",\"efficiency\",\"accused_of\",\"anon\",\"debut\",\"Gives\",\"locking\",\"Cheat\",\"shares\",\"Hype\",\"meaning\",\"DotA\",\"Mark\",\"greeting\",\"tedious\",\"except\",\"randoms\",\"hollywood\",\"Kyle\",\"dramatically\",\"right\",\"NX\",\"grades\",\"refined\",\"Xmas\",\"Fury\",\"29\",\"photography\",\"Homeless\",\"Google+\",\"raps\",\"conspiracies\",\"in_general\",\"PEDs\",\"falsely\",\"Hot\",\"Fine\",\"QUICK\",\"Due\",\"our_nation\",\"Kanye\",\"tiny_hands\",\"my_friends\",\"wrestlers\",\"tan\",\"corporation\",\"point_guard\",\"eligible\",\"attachments\",\"answers\",\"her_boobs\",\"1000\",\"Internal\",\"Color\",\"proposed\",\"venting\",\"revived\",\"Thatcher\",\"paint_job\",\"last_night\",\"warnings\",\"attend\",\"Learned\",\"BUT_ITS\",\"CZ\",\"Evolve\",\"Box\",\"Might_want\",\"greatest_country\",\"let_me\",\"cyborg\",\"plethora_of\",\"MONEY\",\"CARD\",\"meh\",\"into_heaven\",\"an_SSD\",\"civil_liberties\",\"reminiscent_of\",\"women\",\"runescape\",\"ASU\",\"coolant\",\"kayfabe\",\"Engineer\",\"excellence\",\"smiley_face\",\"waited_for\",\"opposing_team\",\"wooden\",\"horrors\",\"seems_like\",\"bit_harsh\",\"instrument\",\"defeats\",\"Turtle\",\"adjusted\",\"HE_SAID\",\"rank_1\",\"largely\",\"Drill\",\"LESS\",\"grew\",\"students\",\"To_each\",\"Card\",\"flux\",\"dislikes\",\"legal_advice\",\"manslaughter\",\"50th\",\"independents\",\"asking\",\"rework\",\"brainwashing\",\"Family_Guy\",\"legislators\",\"next-gen\",\"hordes\",\"hearing\",\"suppression\",\"usernames\",\"onto\",\"KiA\",\"Santorum\",\"Baseball\",\"March\",\"O'Brien\",\"Til\",\"sleep_tonight\",\"steal\",\"West_Virginia\",\"Something_tells\",\"Anita\",\"LEDs\",\"masteries\",\"optimized\",\"dismiss\",\"exaggerate\",\"his_buddies\",\"Umm_...\",\"charmer\",\"firmly\",\"TM\",\"impoverished\",\"news\",\"cracks_me\",\"gunman\",\"MY\",\"mistaking\",\"slime\",\"Parents\",\"E_D\",\"11/10\",\"Population\",\"wrapped_up\",\"WHOLE\",\"sitting\",\"Aha\",\"Lloyd\",\"christianity\",\"cycles\",\"hulk\",\"chronic\",\"Islam_Islam\",\"diamond\",\"advertised\",\"una\",\"abusers\",\"UCLA\",\"Pm\",\"windmills\",\"68\",\"marketable\",\"African\",\"sole_reason\",\"end_zone\",\"victory\",\"surprising\",\"youtuber\",\"taking\",\"passwords\",\"tend_to\",\"Content\",\"imitate\",\"can_assure\",\"casts\",\"papers\",\"buffs\",\"jesus\",\"go_away\",\"post_office\",\"c\",\"Jackson\",\"Da\",\"resulting\",\"world_peace\",\"Advanced\",\"MOBA\",\"Thank_you\",\")\",\"rope\",\"sums_up\",\"camping\",\"simulation\",\"genocidal\",\"through\",\"formal\",\"white\",\"Reggie\",\"paws\",\"modem\",\"captain\",\"NiP\",\"homeopathy\",\"Supreme_Court\",\"poet\",\"Mortal_Kombat\",\"woes\",\"drums\",\"fitting\",\"rotated\",\"signed\",\"wrecking\",\"resolutions\",\"DMT\",\"annex\",\"awhile\",\"k\",\"ambiguous\",\"catalyst\",\"merch\",\"me\",\"destroyed\",\"stealth\",\"Ellen\",\"smash_4\",\"pan_out\",\"Not_according\",\"eleven\",\"uptime\",\"barbie\",\"Chow\",\"twisting\",\"an_ancient\",\"crabs\",\"Bingo\",\"BUT_HE\",\"behead\",\"libertarian\",\"Worse_than\",\"Peyton\",\"supporting\",\"grad\",\"Greeks\",\"monogamous\",\"clutch\",\"getting_arrested\",\"snob\",\"Cos\",\"relationships\",\"an_elevator\",\"Garcia\",\"spaces\",\"wake_up\",\"bats\",\"toll\",\"arriving\",\"baseball\",\"madden\",\"Mac_Pro\",\"PFF\",\"targeted_by\",\"understood\",\"reformed\",\"Barry\",\"tv_shows\",\"e-mails\",\"plush\",\"brings\",\"PK\",\"an_ideal\",\"retained\",\"exaggeration\",\"an_affair\",\"Euro\",\"Gates\",\"reals\",\"60_seconds\",\"be_ashamed\",\"WAR\",\"noting\",\"Walt\",\"doesnt\",\"atk\",\"dancers\",\"limiting\",\"sparky\",\"physics\",\"region\",\"MAH\",\"demonstrate\",\"WHORE\",\"SUCH\",\"Pulisic\",\"FAULT\",\"accidentally\",\"flown\",\"Jan\",\"referee\",\"Bad\",\"headed\",\"human\",\"1-0\",\"an_alien\",\"almost_certainly\",\"Porzingis\",\"Johnny\",\"Vodka\",\"nfl\",\"montages\",\"calorie\",\"Vanilla\",\"can_confirm\",\"thankfully\",\"skipping\",\"serious_question\",\"occurrence\",\"diversity\",\"Pacquiao\",\"fee\",\"notifications\",\"cries\",\"KEEP\",\"Noel\",\"distributed\",\"chiefs\",\"willingly\",\"dead_inside\",\"tipping\",\"pokeball\",\"Didnt\",\"bits\",\"intellect\",\"paddle\",\"Taurus\",\"payment\",\"JP\",\"shut\",\"multiple_accounts\",\"freedom\",\"dudes\",\"United_Kingdom\",\"Everywhere\",\"Miata\",\"challenges\",\"Freedom\",\"his_wife\",\"officiating\",\"nuance\",\"ruined_everything\",\"Guard\",\"law\",\"THEYRE\",\"THEM\",\"Judging\",\"faze\",\"rename\",\"BEST\",\"R2\",\"Stay\",\"gesture\",\"zerg\",\"blockbuster\",\"allows\",\"repo\",\"WMD\",\"Caucasian\",\"session\",\"coverage\",\"accumulate\",\"touched\",\"Emirates\",\"200+\",\"homeowner\",\"TSA\",\"WOT\",\"Him\",\"just\",\"proof\",\"constructed\",\"IBM\",\"spring\",\"grilled_cheese\",\"Summon\",\"Trick\",\"dressing\",\"personal_attacks\",\"rattle\",\"neglecting\",\"checking\",\"annoying\",\"turrets\",\"Evo\",\"incentives\",\"scenery\",\"messy\",\"KD\",\"expenses\",\"baseless\",\"roof\",\"XBL\",\"avoided\",\"businesses\",\"dismantle\",\"unemployment\",\"shelf\",\"medic\",\"fucking_retard\",\"HOW_DARE\",\"eyeballs\",\"6.5\",\"anus\",\"rulers\",\"800\",\"Byron\",\"Highly\",\"Gorilla\",\"yo\",\"exploding\",\"sock_puppet\",\"97\",\"overkill\",\"bottle\",\"Buy\",\"Patterson\",\"Strike\",\"Sherlock\",\"mmmm\",\"an_argument\",\"synth\",\"ponies\",\"asian\",\"Too_soon\",\"hawks\",\"fashion\",\"endgame\",\"Told\",\"eyebrow\",\"rough\",\"kicked\",\"phallic\",\"same_exact\",\"described\",\"misunderstanding\",\"creatine\",\"bathroom\",\"w/\",\"BEEP_BEEP\",\"No_problem\",\"Romo\",\"assault_weapons\",\"framework\",\"wizards\",\"effects\",\"Marino\",\"Hashtag\",\"whether_or\",\"executed\",\"whole_thing\",\"northeast\",\"LIKE_A\",\"class\",\"exchanged\",\"$_60\",\"o.o\",\"ribs\",\"6_times\",\"gramps\",\"Spot\",\"on_par\",\"renting\",\"pacing\",\"possessions\",\"bcuz\",\"wants\",\"bookmark\",\"IPS\",\"tier\",\"OTP\",\"slice\",\"Hangouts\",\"Nothing_says\",\"pirated\",\"Robinson\",\"flank\",\"solid\",\"porn_star\",\"Vision\",\"Make\",\"park\",\"meetup\",\"removes\",\"Rumble\",\"fuckin_'\",\"adjustment\",\"hungover\",\"humiliated\",\"Rod\",\"Radiance\",\"Multiple\",\"ebay\",\"cancels_out\",\"reviewer\",\"anyways\",\"Very_interesting\",\"drawing\",\"Yall\",\"seafood\",\"millions_of\",\"undead\",\"winters\",\"matchmaking\",\"anti-semite\",\"locker_room\",\"shitheads\",\"Cuban\",\"Nee\",\"Apple\",\"suggesting\",\"split_second\",\"Monstercat\",\"rails\",\"fruition\",\"SOMETHING\",\"Taking\",\"upvote\",\"polluted\",\"makes\",\"AZ\",\"Siege\",\"toilets\",\"ringing\",\"DR\",\"trace\",\"Express\",\"rendition\",\"Quick\",\"My_favourite\",\"Leaving\",\"boom\",\"comedic\",\"mac\",\"Vince_Young\",\"Maria\",\"2_weeks\",\"cant_wait\",\"extras\",\"Hannibal\",\"monies\",\"tricks\",\"pp\",\"fuccboi\",\"waves\",\"most_recent\",\"=/\",\"always_wanted\",\"AT_ALL\",\"streaks\",\"divisive\",\"Mafia\",\"Simmons\",\"differs_from\",\"Terrible\",\"Room\",\"THERE_'S\",\"bois\",\"Budget\",\"sexiest\",\"account\",\"bend_over\",\"voter_suppression\",\"Lots\",\"Saw\",\"shallow\",\"pressing\",\"history_books\",\"encouraging\",\"amaze_me\",\"dressed_up\",\"secret_service\",\"quotas\",\"norwegian\",\"Wallace\",\"Burger\",\"morty\",\"jon\",\"acknowledging\",\"Racism\",\"Mountain\",\"Everybody\",\"aboard\",\"Nailed_it\",\"vowels\",\"Clay\",\"Jennings\",\"Cmon\",\"systemic\",\"$_100\",\"hand\",\"lighten_up\",\"Keeping\",\"cs\",\"hints\",\"logical_thing\",\"relic\",\"likelihood\",\"bill\",\"target_audience\",\"classification\",\"hub\",\"struggling\",\"3_days\",\"serves\",\"survivor\",\"provide\",\"proves\",\"next_month\",\"clouds\",\"audio\",\"photograph\",\"REAL\",\"offending\",\"tiger\",\"deplorables\",\"Brave\",\"Crown\",\"MI\",\"24fps\",\"oh_yea\",\"TES\",\"rained\",\"Let\",\"constitution\",\"reviving\",\"diagnose\",\"shots\",\"Harvick\",\"Crash\",\"climate_change\",\"Avatar\",\"Shift\",\"Filthy\",\"uitat\",\"activate\",\"killer\",\"Drake\",\"mushroom\",\"cishet_white\",\"those_damn\",\"animal_abuse\",\"Emerald\",\"participating\",\"Kelly\",\"l\",\"DRINK\",\"T_D\",\"clip\",\"by_extension\",\"Word\",\"optics\",\"titty\",\"'ve_done\",\"MEMES\",\"vomit\",\"equipment\",\"Helps\",\"primarily\",\"at_McDonald\",\"Bronze\",\"stoned\",\"believed\",\"getting\",\"measurement\",\"Russel\",\"bowling\",\":_l\",\".gif\",\"foam\",\"furious\",\"morph\",\"daring\",\"production\",\"stand\",\"Strength\",\"Gavin\",\"shoddy\",\"75\",\"awe\",\"enforcement\",\"blunt\",\"CW\",\"Magazine\",\"bby\",\"checks\",\"reporter\",\"quote_from\",\"enters\",\"07\",\"ISIS\",\"HE_HAS\",\"Judas\",\"Yasuo\",\"accounts\",\"virus\",\"Divorce\",\"tenth\",\"specs\",\"fortune\",\"Puppet\",\"directory\",\"underrated\",\"homeopathic\",\"TRASH\",\"reasonably\",\"WOULD\",\"Pigs\",\"steroid\",\"socioeconomic\",\"garbage\",\"introducing\",\"hole\",\"Elon\",\"cop\",\"buster\",\"color\",\"persecution\",\"Knicks\",\"Yh\",\"bit_longer\",\"10k\",\"clusterfuck\",\"Il\",\"FFS\",\"last_minute\",\"gentle\",\"capitalists\",\"See\",\"Elo\",\"doot_doot\",\"NONE\",\"taxed\",\"administration\",\"id\",\"license_plate\",\"carb\",\"Shoulda\",\"suprised\",\"paintings\",\"politically_correct\",\"deserves\",\"Nate\",\"whack\",\"carrying\",\"Goodbye\",\"restroom\",\"Smoke\",\"looting\",\"Nike\",\"weave\",\"stop_playing\",\"inspire\",\"incorporate\",\"scrolling\",\"worn_out\",\"genetically\",\"spectator\",\"linux\",\"tablet\",\"Daniel_Bryan\",\"Illidan\",\"GO\",\"Decent\",\"skipped\",\"Ecuador\",\"amirite\",\"SHOW\",\"stupid_questions\",\"brains\",\"governments\",\"vaccinations\",\"wires\",\"Such\",\"Biggest\",\"inferior\",\"passengers\",\"wwe\",\"Remember\",\"4th_quarter\",\"column\",\"IDE\",\"Leeroy\",\"time\",\"Jenkins\",\"stuffed\",\"coupon\",\"weekends\",\"gen_1\",\"dreadful\",\"Things\",\"Anyway\",\"executive_branch\",\"sip\",\"Chef\",\"search_bar\",\"constant\",\"presidential\",\"pirate\",\"completely_agree\",\"amirite_?\",\"Error\",\"resemble\",\"autos\",\"rematch\",\"weakness\",\"Wrestling\",\"files\",\"wheres\",\"Believe\",\"visibility\",\"peanuts\",\"hornets\",\"homework\",\"Helmet\",\"provided\",\"10,000\",\"Go_home\",\"Tape\",\"Carl\",\"Syndrome\",\"refreshed\",\"recycled\",\"York\",\"Basketball\",\"neighbours\",\"apocalypse\",\"mid\",\"scrubs\",\"turtles\",\"TO\",\"bones\",\"rapidly\",\";_/3\",\"isnt\",\"explained\",\"nominated\",\"abused_by\",\"proved\",\"Corbyn\",\"general_population\",\"DVDs\",\"nasa\",\"Duke\",\"babies\",\"dreads\",\"caveman\",\"flip\",\"Justin_Beiber\",\"lying\",\"ep\",\"testament\",\"computers\",\"heartbeat\",\"Dont_worry\",\"flexing\",\"Battlefield\",\"crunch\",\"waste_money\",\"department\",\"afaik\",\"powder\",\"weapon\",\"en_el\",\"salaries\",\"ashe\",\"niche\",\"iPad\",\"UNDERSTAND\",\"tax_payers\",\"latte\",\"dreamy\",\"pictured\",\"110\",\"throne\",\"suspiciously\",\"shutting_down\",\"journey\",\"coming_from\",\"Akira\",\"brave\",\"cactus\",\"Step_3\",\"Friday\",\"booths\",\"produced\",\"Ya\",\"Pittsburgh\",\"handguns\",\"yall\",\"Titanfall\",\"Gamers\",\"independence\",\"7s\",\"focusing_on\",\"6s\",\"reminded_me\",\"NSW\",\"mechanics\",\"getting_fired\",\"more_concerned\",\"builders\",\"murderous\",\"distress\",\"Munich\",\"discriminating_against\",\"thunk\",\"hacks\",\"from_Kenya\",\"cured\",\"Bean\",\"Down_voted\",\"trust\",\"symmetry\",\"enabled\",\"government_intervention\",\"kit\",\"extremes\",\"centres\",\"Sally\",\"Anytime\",\"ezreal\",\"Mario\",\"Mariners\",\"participating_in\",\"collapses\",\"extra\",\"Tito\",\"defuse\",\"Bud_Light\",\"orange\",\"density\",\"Speaking\",\"Long\",\"laid\",\"92\",\"difficulty\",\"tackle\",\"Station\",\"Spring\",\"buyer\",\"companions\",\"explicitly\",\"neocon\",\"demonic\",\"ESPN\",\"economies\",\"baking\",\"DOJ\",\"Matter\",\"theme_song\",\"crops\",\"preseason\",\"greater_than\",\"swords\",\"fees\",\"Subtle\",\"May\",\"picks\",\"Virgin\",\"SHALL\",\"Quality_post\",\"rapture\",\"two_evils\",\"Talon\",\"Kitchen\",\"sucked\",\"RX\",\"republican_party\",\"APU\",\"seperate\",\"merit\",\"voor\",\"activist\",\"electrical\",\"OpTic\",\"*\",\"Spider-Man\",\"Bravo\",\"month_ago\",\"in_terms\",\"shortly\",\"hardly_ever\",\"sadness\",\"record\",\"drain\",\"HIGH_ENERGY\",\"1500\",\"Snake\",\"machinery\",\"unpopular_opinion\",\"preorders\",\"Warsaw\",\"pagan\",\"Rollins\",\"sacrifice\",\"insult\",\"Mad\",\"Ares\",\"passives\",\"slide\",\"teleport\",\"laundry\",\"Southern\",\"insulting\",\"10+_years\",\"nbsp_;\",\"Johnson\",\"typos\",\"Testing\",\"Hawaii\",\"yields\",\"Japanese\",\"PE\",\"stay_classy\",\"encountered\",\"scams\",\"any\",\"Can_someone\",\"migration\",\"chants\",\"Lance\",\"perpetrator\",\"4/10\",\"our_lord\",\"padding\",\"effort_into\",\"give_consent\",\"gas_prices\",\"been\",\"boxers\",\"WINNING\",\"discarded\",\"connection_between\",\"alle\",\"Akali\",\"2012\",\"shittier\",\"Bill_Murray\",\"feel_guilty\",\"disturbing\",\"Starbucks\",\"traveled\",\"investigator\",\"obvious\",\"et\",\"nail_polish\",\"contempt\",\"C\",\"write\",\"framerate\",\"troll\",\"corners\",\"inclined\",\"your_bootstraps\",\"rogues\",\"educating\",\"Point\",\"2nd_round\",\"Circle\",\"either\",\"Tone\",\"Brett\",\"appropriating\",\"describing\",\"Given_how\",\"Shulk\",\"automatically_makes\",\"pleasing\",\"deadlift\",\"people\",\"proven_innocent\",\"alot\",\"cyka_blyat\",\"new_feature\",\"taboo\",\"Both_sides\",\"softcore\",\"selective\",\"appalled\",\"53\",\"GAME\",\"discrete\",\"clients\",\"5.56\",\"breach\",\"mercenaries\",\"NC\",\"Though\",\"relegation\",\"Trigger\",\"Omega\",\"childhood\",\"laggy\",\"incompetent\",\"1920x1080\",\"forgiving\",\"aligned_with\",\"chant\",\"leopard\",\"pass\",\"da\",\"reserves\",\"WTC\",\"shameful\",\"pushed_back\",\"diesel\",\"minor\",\"Poppy\",\"FIA\",\"shapes\",\"Anderson\",\"weekly\",\"skeptical\",\"dan\",\"rape\",\"mai\",\"8000\",\"bare_hands\",\"disprove\",\"horrifying\",\"64_tick\",\"Yogscast\",\"BET\",\"Kim\",\"ADD\",\"supreme_court\",\"senior\",\"FOR_THIS\",\"invading\",\"labs\",\"compulsory\",\"rewatch\",\"as\",\"Diego\",\"catholic\",\"After_watching\",\"meatballs\",\"tray\",\"sensible\",\"continue\",\"Violence\",\"600\",\"my_mom\",\"Hamilton\",\"mills\",\"scan\",\"instructions\",\"thirteen\",\"mistakenly\",\"USE\",\"Tom\",\"Greed\",\"couple_hundred\",\"Sarcasm_does\",\"cord\",\"conquer\",\"Digimon\",\"bunch\",\"leaning\",\"elevator\",\"Guardian\",\"walk_away\",\"held\",\"Australian\",\"rubbed\",\"goal\",\"interviewed\",\"Upgrade\",\"boxer\",\"roadhog\",\"tryin\",\"episodes\",\"mild\",\"Nolan\",\"roach\",\"aluminum\",\"Sergeant\",\"intentions\",\"fills\",\"scroll\",\"AT_&\",\"released\",\"STATE\",\"kicker\",\"Marx\",\"Merkel\",\"SNL\",\"Increased\",\"every_episode\",\"peel\",\"fantastic_job\",\"gainz\",\"IVE\",\"Keystone\",\"Hell\",\"rapey\",\"stable\",\"possible\",\"exercise\",\"MLG\",\"Futurama\",\"maniac\",\"liberating\",\"extend\",\"Cool_thanks\",\"srs\",\"tanky\",\"Paige\",\"PERSON\",\"Uhm\",\"track_record\",\"rounded\",\"kevin\",\"Edgar\",\"execution\",\"Tim_Tebow\",\"underground\",\"reeks_of\",\"i_havent\",\"KGB\",\"desirable\",\"hue\",\"athleticism\",\"factor\",\"ginger\",\"backed_by\",\"Hey_buddy\",\"wandering\",\"bolts\",\"headphones\",\"figure_out\",\"japan\",\"underestimating\",\"existing\",\"SHOULD_BE\",\"Ibaka\",\"distances\",\"cut_myself\",\"server\",\"babes\",\"happy_ending\",\"political_system\",\"button\",\"fixes\",\"europeans\",\"vacant\",\"CM\",\"translate\",\"check_your\",\"label\",\"those_things\",\"Tell_me\",\"dank_memes\",\"paedophiles\",\"But_mah\",\"Jesus_Christ\",\"completing\",\"boxed\",\"BLACK_PEOPLE\",\"minimum\",\"VLC\",\"grumpy\",\"Rand\",\"Soo\",\"apartheid_state\",\"practically\",\"exile\",\"RPM\",\"Tactics\",\"remember\",\"Style\",\"humor\",\"made-up\",\"Nikki\",\"Good_thing\",\"assassins\",\"MGTOW\",\"dick_move\",\"disproportionate\",\"pleasant_person\",\"soldier\",\"Jericho\",\"darkies\",\"lunches\",\"marginalized\",\"circulation\",\"Climate_change\",\"Jagr\",\"puddle\",\"Ancient\",\"dictates\",\"reminding\",\"paraphrasing\",\"enslave\",\"compilation\",\"hooker\",\"cart\",\"cowboy\",\"Michael_Jordan\",\"Modern_Warfare\",\"Sad\",\"reasonable_response\",\"ever_seen\",\"lamps\",\"Deck\",\"strictly\",\"rumour\",\"weeks\",\"props\",\"shooters\",\"react\",\"closure\",\"yep\",\"strikers\",\"North_Korean\",\"SELL\",\"torrent\",\"Totally_agree\",\"authorized\",\"picking_up\",\"analyze\",\"design\",\"an_i7\",\"sudo\",\"Controller\",\"Store\",\"102\",\"often\",\"narwhal\",\"fewer\",\"Bryant\",\"Zone\",\"formats\",\"honk\",\"decency\",\"fleshlight\",\"wait\",\"ship\",\"M_E\",\"enforcing\",\"Jesse\",\"obey\",\"rebuild\",\"plays\",\"300+\",\"Leblanc\",\"Meow\",\"daughter\",\"rebels\",\"fo\",\"into_office\",\"assist\",\"grunts\",\"gta\",\"still_waiting\",\"pimp\",\"emojis\",\"Sent\",\"forward_thinking\",\"stunt\",\"Seahawks_fans\",\"Al_Sharpton\",\"1980s\",\"caused_by\",\"upstanding\",\"tell_me\",\"pumped\",\"special_kind\",\"ran_away\",\"espresso\",\"filling\",\"cleaned_up\",\"drinking\",\"i_swear\",\"Stanley\",\"Please_stop\",\"Im_surprised\",\"snaps\",\"tu\",\"their_lives\",\"Huawei\",\"happy_cake\",\"btw\",\"output\",\"teach_them\",\"willy\",\"TFW\",\"touring\",\"squatting\",\"snare\",\"larger\",\"theocracy\",\"picker\",\"Natalie\",\"market_share\",\"an_American\",\"PD\",\"Ernie\",\"plant\",\"'re_saying\",\"low_effort\",\"315\",\"Big_Brother\",\"human_eye\",\"penny\",\"soloq\",\"internally\",\"Lose\",\"halls\",\"shenanigans\",\"white_folk\",\"ensure\",\"Holy\",\"surface_area\",\"execute\",\"User\",\"desync\",\"duck\",\"thay\",\"[_[\",\"AJ\",\"unlike\",\"Greater\",\"BASED\",\"cuddling\",\"jails\",\"thugs\",\"KSP\",\"Oh_yea\",\"publication\",\"Hardcore\",\"sticking_out\",\"absurd\",\"crimson\",\"f\",\"Rage\",\"division\",\"approaches\",\"SPACE\",\"right-wingers\",\"visits\",\"imperialism\",\"Pft\",\"SHUT_THE\",\"cavity\",\"COPS\",\"Marvin\",\"transport\",\"Stoke\",\"retired\",\"outsiders\",\"discretion\",\"Happy_Cake\",\"stomped\",\"prom\",\"Carrier\",\"founded\",\"chopper\",\"community\",\"Boot\",\"varies\",\"an_oxymoron\",\"Ozzy\",\"bayonet\",\"NV\",\"has_spoken\",\"Valkyrie\",\"rumor\",\"Body\",\"Nature\",\"protect_us\",\"squirrels\",\"hallucinations\",\"threw\",\"shame\",\"95\",\"tells_me\",\"vodka\",\"scrapped\",\"hooked\",\"saved\",\"Dawkins\",\"nothing\",\"fifa\",\"Evidently\",\"Jeep\",\"backwards_compatible\",\"Doom\",\"Danica\",\"salty\",\"Ranch\",\"dj\",\"Greenland\",\"USED\",\"oppressing\",\"carnage\",\"EVERYWHERE\",\"BJJ\",\"snipers\",\"mic\",\"bladder\",\"hoping\",\"lizards\",\"HOURS\",\"ruled_by\",\"my_favourites\",\"elite\",\"DO_IT\",\"over_rated\",\"Fiora\",\"teach\",\"Drone\",\"perk\",\"vid\",\"unbelievably\",\"Request\",\"last_week\",\"dubs\",\"poc\",\"Randle\",\"'m\",\"Ive\",\"Research\",\"an_indicator\",\"vice\",\"pressured\",\"smartphones\",\"turnover\",\"cleanse\",\"GO_BACK\",\"strategies\",\"shortcomings\",\"80k\",\"pros\",\"Smith\",\"sooner\",\"settles\",\"perhaps\",\"Bundy\",\"Public\",\"DAC\",\"second\",\"(_insert\",\"TOS\",\"associated\",\"grinding\",\"16:9\",\"come\",\"Robbie\",\"educate_yourself\",\"Propaganda\",\"dreams\",\"elevated\",\"drawer\",\"Founding_Fathers\",\"airspace\",\"damaged\",\"struggled\",\"LAND\",\"fats\",\"WE_'LL\",\"phrasing\",\"SENSE\",\"fists\",\"Manny\",\"liberal_agenda\",\"past\",\"immune\",\"usefulness\",\"primetime\",\"me_smile\",\"GTA_5\",\"good\",\"Again\",\"Write\",\"Cinematic\",\"thinker\",\"accurately\",\"panic_attack\",\"SO_BRAVE\",\"touches\",\"Marcus\",\"Diamond\",\"art_style\",\"boarded\",\"care\",\"10.5\",\"abs\",\"pinpoint\",\"positively\",\"ahhh\",\"ng\",\"hiko\",\"football_players\",\"someone_who\",\"olive_oil\",\"Carroll\",\"fighter_jet\",\"dolphin\",\"ago\",\"v\",\"Rocket_League\",\"o-line\",\"rainbows\",\"Moral\",\"comical\",\"boiled\",\"personal_gain\",\"factually\",\"nooooooo\",\"ps3\",\"Nah\",\"Typical\",\"Stockholm_Syndrome\",\"recruitment\",\"stare\",\"pro\",\"HYPE\",\"t-shirts\",\"Smells_like\",\"an_iphone\",\"Pixel\",\"Bitcoins\",\"compliance\",\"illnesses\",\"Boo\",\"Saudi\",\"connector\",\"wondered_why\",\"inciting\",\"australia\",\"4_times\",\"revenues\",\"whole_career\",\"guy_named\",\"Seattle\",\"X-Files\",\"stubborn\",\"funds\",\"Club\",\"ordinary\",\"Sitting\",\"color_blind\",\"teenager\",\"griefing\",\"journal\",\"must_be\",\"hungry\",\"slacking\",\"overtime\",\"North_America\",\"shell\",\"Young\",\"tougher\",\"Cho\",\"an_ounce\",\"How_dare\",\"SHURIMA_SHURIMA\",\"yah\",\"at_3am\",\"shake\",\"mailbox\",\"found\",\"teach_him\",\"stomping\",\"spears\",\"McCree\",\"Virginia\",\"whom\",\"scramble\",\"yank\",\"escalated_quickly\",\"death_squads\",\"shuffle\",\"blogs\",\"assault\",\"Civic\",\"Thrall\",\"cops\",\"blanket\",\"shit\",\"Hardy\",\"convey\",\"Amateur\",\"TD\",\"ore\",\"altered\",\"busted\",\"Kind\",\"Same_thing\",\"Rocks\",\"Brewer\",\"Forcing\",\"got_rekt\",\"NA_team\",\"raging\",\"Jerk\",\"King\",\"clarity\",\"extraordinary\",\"HotS\",\"economic\",\"Superman\",\"queens\",\"fully_expect\",\"diagnosis\",\"smack\",\"infinite\",\"graphic\",\"get_banned\",\"newspapers\",\"Prius\",\"private_prisons\",\"Veigar\",\"spitting\",\"ready\",\"Sears\",\"You\",\"treatments\",\"aesthetic\",\"implied\",\"fastest\",\"loving\",\"Lacy\",\"?\",\"distinction\",\"I_'M\",\"witnessing\",\"world_burn\",\"-10\",\"slaves\",\"bashing\",\"free_agency\",\"dus\",\"umm\",\"glimpse\",\"ons\",\"Tim_Kaine\",\"ranch\",\"Dies\",\"200_years\",\"fatal\",\"graceful\",\"Rich\",\"melt_steel\",\"swedish\",\"The_irony\",\"mich\",\"terrorist_organization\",\"demographic\",\"grinder\",\"Pay\",\"subscribe\",\"misleading\",\"hogging\",\"wipes\",\"cheered\",\"December\",\"goldfish\",\"warmongering\",\"sol\",\"ban\",\"Seems_like\",\"elected_officials\",\"Frozen\",\"indeed\",\"due_process\",\"terminal\",\"16gb\",\"compass\",\"New_Years\",\"3d\",\"OTA\",\"Aliens\",\"stabbing\",\"hellfire\",\"3_mana\",\"those_pesky\",\"DO\",\"my_fav\",\"aan\",\"boo_hoo\",\"Apples\",\"weigh\",\"lip\",\"pancake\",\"STARBUCKS_STARBUCKS\",\"custom\",\"stand-up\",\"officially\",\"12\",\"snip\",\"african\",\"charging\",\"snail\",\"re\",\"upfront\",\"dialect\",\"her_tits\",\"neck_beard\",\"still\",\"wounded\",\"pushes\",\"barbecue\",\"significantly_more\",\"ANOTHER\",\"Myers\",\"Maryland\",\"master_plan\",\"impressive\",\"Desert\",\"appeal\",\"PRESIDENT\",\"Demon\",\"Tupac\",\"Goodell\",\"Atlas\",\"care_about\",\"defend\",\"Walter\",\"sunset\",\"solidarity\",\"sheets\",\"revealed\",\"classified\",\"coach\",\"forcefully\",\"storm\",\"small_indie\",\"Soviet_Union\",\"browse\",\"Feel_free\",\"gawd\",\"pong\",\"lan\",\"punch\",\"spurs\",\"rumours\",\"Amy\",\"district\",\"conflict\",\"Besides\",\"Islamic_State\",\"YOU_ARE\",\"becoming\",\"species\",\"Tomorrow\",\"Eyes\",\"literally_worse\",\"gypsies\",\"lateral\",\"accomplishments\",\"more_comfortable\",\"crossed\",\"Hurricane\",\"5s\",\"Picture\",\"offset\",\"chainsaw\",\"idiot\",\"Simon\",\"flying\",\"As_someone\",\"boosts\",\"Mandatory\",\"Pryor\",\"History_Channel\",\"aww\",\"desert\",\"!_RemindMe\",\"Angry\",\"articles\",\"respective\",\"chimp\",\"Solution_:\",\"Gibbs\",\"Noted\",\"Version\",\"SORRY\",\"band_name\",\"C'mon_guys\",\"road\",\"googled\",\"Voting\",\"stroking\",\"exclusivity\",\"willingness\",\"poking\",\"gunshot\",\"per_se\",\"1970\",\"FNAF\",\"offerings\",\"V\",\"Borders\",\"ensures\",\"Republican\",\"completely_rational\",\"neighbors\",\"figured\",\"focusing\",\"holds\",\"graves\",\"IT_UP\",\"MLS\",\"owner\",\"our_leaders\",\"wrapped\",\"fakes\",\"YOU_KNOW\",\"eff\",\"Filthy_casual\",\"headline\",\"Peppers\",\"obligated\",\"Zimmerman\",\"mafia\",\"$_40\",\"ab\",\"butt_hurt\",\"annoyance\",\"ambient\",\"rejection\",\"Username_checks\",\"argue_with\",\"justice_system\",\"Amanda\",\"$_70\",\"Reese\",\"Breitbart\",\"tries\",\"Ironic\",\"serious_business\",\":_c\",\"prevents\",\"#_1\",\"focus\",\"Also_known\",\"crimes\",\"sexy\",\"Boss\",\"kys\",\"15-20\",\"Christ\",\"dominating\",\"spoken\",\"Eddie\",\"stains\",\"ima\",\"shafted\",\"freaks\",\"Alicia\",\"their_ancestors\",\"storytelling\",\"ministry\",\"Naw_man\",\"....\",\"Beta\",\"=p\",\"libtards\",\"spiral\",\"weld\",\"Centipede\",\"types\",\"defined\",\"bake\",\"Eugenics\",\"Constitutional\",\"overpopulation\",\"Bomb\",\"flick\",\"be\",\"suburban\",\"upbringing\",\"Added\",\"WHAT_ARE\",\"please_stop\",\"pissed\",\"YOU_WILL\",\"Qatar\",\"She_sounds\",\"btc\",\"Dexter\",\"video_starts\",\"simulate\",\"apparently\",\"barely\",\"Prob\",\"rhymes\",\"willpower\",\"ideology\",\"lakers\",\"prove\",\"time_machine\",\"Lombardi\",\"YouTuber\",\"WOULDNT\",\"flower\",\"DD\",\"gl\",\"replying\",\"IO\",\"Na'Vi\",\"Most_likely\",\"wakes_up\",\"subway\",\"model\",\"Ive_seen\",\"MX\",\"drains\",\"Bieber\",\"patriotic\",\"belief_system\",\"process\",\"several_times\",\"easier\",\"fucking_moron\",\"Crimson\",\"life_expectancy\",\"repetitive\",\"posters\",\"yelled\",\"WiiU\",\"exercising\",\"be_rewarded\",\"forms\",\"data_caps\",\"luxurious\",\"past_30\",\"hanging_around\",\"req\",\"hitler\",\"rigorous\",\"partying\",\"smart_ass\",\"distract_us\",\"FUCKED\",\"Soda\",\"non-white\",\"Man_U\",\"downvote_button\",\"forgotten\",\"privileged\",\"begs\",\"Roberto\",\"turkey\",\"program\",\"hotter_than\",\"Noooo\",\"sake\",\"geniuses\",\"charger\",\"smoke\",\"their_hearts\",\"practice\",\"permits\",\"request\",\"reasoning\",\"deranged\",\"steep\",\"drool\",\"holding_onto\",\"fags\",\"handing_out\",\"militants\",\"DV\",\"Lucky\",\"disc\",\"flashes\",\"vet\",\"monolithic\",\"routine\",\"skydiving\",\"curve\",\"advertisements\",\"MK\",\"tops\",\"rewind\",\"concentration_camps\",\"GOOD\",\"Ghost\",\"siege\",\"#\",\"oh_ok\",\"presidential_election\",\"Murder\",\"notch\",\"verification\",\"defective\",\"bloodthirsty\",\"bottleneck\",\"Gaben\",\"ES\",\"Leslie\",\"das\",\"Granny\",\"world\",\"Soon\",\"shills\",\"violent_crime\",\"CA_N'T\",\"repealed\",\"Terry\",\"electorate\",\"desktop\",\"measured\",\"work_harder\",\"siding_with\",\"Shillary\",\"frightening\",\"spit\",\"began\",\"Alex_Smith\",\"organisms\",\"char\",\"circling\",\"far_less\",\"Rest\",\"uninstalled\",\"compression\",\"Israel\",\"nodes\",\"giraffe\",\"contradicts\",\"perfectly_safe\",\"very_large\",\"double\",\"Idiots\",\"Vardy\",\"^^\",\"Older\",\"WORKING\",\"came_back\",\"21st_century\",\"year_old\",\"elephants\",\"judicial\",\"twelve\",\"education_system\",\"Gateway\",\"translator\",\"squash\",\"projectiles\",\"testosterone\",\"studying\",\"please_tell\",\"bestest\",\"an_RPG\",\"unique\",\":_o\",\"last_episode\",\"Diddy\",\"5x\",\"Morrowind\",\"polar_bears\",\"wishes\",\"Checkmate_atheists\",\"game_changer\",\"modi\",\"optimization\",\"quieter\",\"1.0\",\"nationality\",\"hai\",\"rushing\",\"Benteke\",\"Queens\",\"totally_unbiased\",\"relatable\",\"chased\",\"restarted\",\"puff\",\"years_later\",\"conferences\",\"sentient\",\"skyrocket\",\"Razer\",\"LMFAO\",\"LOSE\",\"weer\",\"Home\",\"gud\",\"criticizes\",\"disrespect\",\"sworn\",\"smaller_than\",\"tackled\",\"tits\",\"jumps\",\"Management\",\"96\",\"2010\",\"agent\",\"genius\",\"STI\",\"female_characters\",\"COMMUNIST\",\"medicine\",\"reaches\",\"SAID\",\"San_Fran\",\"long_time\",\"breathing\",\"Vin_Diesel\",\"pop_music\",\"Runescape\",\"coded\",\"nipple\",\"Vince\",\"rabbit_hole\",\"act_like\",\"Whole\",\"OS_X\",\"dominate\",\"nos\",\"salvage\",\"annoyed\",\"respectable\",\"young\",\"an_infinite\",\"suspensions\",\"LW\",\"amazed\",\"recycling\",\"edition\",\"supportive\",\"rose\",\"YouTube_channel\",\"290x\",\"overlooking\",\"Asking\",\"buckets\",\"regardless\",\"display\",\"Mormonism\",\"Btw\",\"terrible_person\",\"John\",\"factions\",\"navy\",\"First_time\",\"Nov\",\"right-wing\",\"endangered\",\"articulated\",\"Green\",\"spend_$\",\"algorithms\",\"hypocrisy\",\"October\",\"xd\",\"movement_speed\",\"Statistically\",\"Knew\",\"JUST_A\",\"considered\",\"Baltimore\",\"super_rich\",\"wayyyy\",\"enforced\",\"comic\",\"killstreaks\",\"PS2\",\"3rd_party\",\"sitting_here\",\"existence\",\"owe\",\"Okay\",\"different_types\",\"Nigeria\",\"scheduled\",\"Slap\",\"atomic\",\"grounds\",\"sexist_against\",\"website\",\"corner\",\"Sven\",\"celebrate\",\"complain_about\",\"bribing\",\"DMG\",\"seems\",\"lemonade\",\"lurking\",\"QC\",\"Dempsey\",\"talented\",\"chains\",\"elections\",\"North_Dakota\",\"hardly_any\",\"faking\",\"good_luck\",\"breitbart\",\"hundred\",\"commuting\",\"anticipation\",\"knights\",\"figuring_out\",\"BRB\",\"browser\",\"limb\",\"tilts\",\"$_400\",\"County\",\"Colts\",\"Mini\",\"stacking\",\"pretty_solid\",\"searching_for\",\"hotness\",\"excuse_me\",\"Watergate\",\"jolly\",\"price_tag\",\"POP\",\"adulthood\",\"y/o\",\"ya\",\"Ethereum\",\"funniest_thing\",\"big_corporations\",\"HoF\",\"Dammit\",\"nothing_special\",\"Loved\",\"motion_blur\",\"reparations\",\"Shaman\",\"bribe\",\"tips\",\"1950s\",\"midfielders\",\"cook\",\"provincial\",\"dota2\",\"snacks\",\"social_skills\",\"cishet\",\"Skrillex\",\"Stop_trying\",\"costumes\",\"spending\",\"birthday_party\",\"War\",\"on_earth\",\"WHITE\",\"Run\",\"monk\",\"54\",\"abundant\",\"Massa\",\"Holy_shit\",\"We_need\",\"case_scenario\",\"crayon\",\"Knowing\",\"promised\",\"spectacular\",\"go_outside\",\"were\",\"The_Simpsons\",\"encryption\",\"anecdote\",\"knocked_out\",\"compensated\",\"HAVE\",\"Napoli\",\"zombies\",\"Water\",\"SvcHost.exe_`\",\"WHY_ARE\",\"coercion\",\"font\",\"Vic\",\"winning\",\"protect_yourself\",\"overseas\",\"able\",\"regarded_as\",\"urinals\",\"vegetables\",\"viruses\",\"HRT\",\"wow\",\"JERRY_JERRY\",\"dub\",\"ducks\",\"File\",\"Scientists\",\"Koran\",\"trio\",\"rust\",\"timer\",\"an_outstanding\",\"did\",\"Broncos\",\"Stephen\",\"30fps\",\"which_case\",\"killings\",\"download\",\"brigades\",\"of_curiosity\",\"scroll_through\",\"Bridge\",\"Garry\",\"CA\",\"grace\",\"excuses\",\"credit_card\",\"Rush\",\"660\",\"veins\",\"vacations\",\"Queue\",\";_gt\",\"recommend\",\"tying\",\"Whats_wrong\",\"Pine\",\"squirrel\",\"Temple\",\"cruiser\",\"Blake\",\"2nd_amendment\",\"aggro\",\"laughs\",\"novel\",\"coaching\",\"heal\",\"spaceships\",\"lunch_break\",\"splyce\",\"fit\",\"18th\",\"me_laugh\",\"bothers_me\",\"Data\",\"call_911\",\"enable\",\"kill\",\"Miley\",\"accounting\",\"thin_air\",\"estimation\",\"assumption\",\"satanic\",\"banging\",\"stop_laughing\",\"HEY\",\"buildings\",\"Underrated_comment\",\"Junkrat\",\"recoil\",\"Big\",\"Harrison\",\"wall\",\"Symmetra\",\"dust\",\"adventure\",\"Translation_:\",\"Ok\",\"haven\",\"lollipop\",\"housing_market\",\"POSSIBLY\",\"Blockbuster\",\"caring\",\"Native_Americans\",\"mildly\",\"warping\",\"thereby\",\"god_damned\",\"doggy\",\"plot\",\"or_something\",\"Less\",\"uses\",\"ke\",\"intended\",\"Trilogy\",\"reactionary\",\"twitch\",\"every_morning\",\"LIKE_THAT\",\"your_opponent\",\"central\",\"Never_heard\",\"greener\",\"interested\",\"LL\",\"speaks\",\"Witcher\",\"gun_nuts\",\"following_orders\",\"bing\",\"decimal\",\"Orbit\",\"Fusion\",\"anti-cheat\",\"keep_track\",\"commit\",\"Forge\",\"zero_tolerance\",\"boosted\",\"kite\",\"Woo\",\"losers\",\"EU\",\"titties\",\"windows_10\",\"was_pleasantly\",\"shhh\",\"smurfing\",\"Upper\",\"coming_soon\",\"hosted_by\",\"bows\",\"hinting_at\",\"oh_god\",\"palestinians\",\"Ben_Carson\",\"PL\",\"Over\",\"Gundam\",\"...........\",\"newly\",\"Aquaman\",\"inexperienced\",\"idea\",\"Keanu_Reeves\",\"Saved\",\"Ey\",\"Download\",\"pub\",\"pro_tip\",\"joins\",\"cs_go\",\"cigars\",\"cape\",\"PAY\",\"sizable\",\"removed\",\"succeeded\",\"pi\",\"trinket\",\"simple\",\"assure_you\",\"oh_yeah\",\"kids\",\"grade_school\",\"teenage_girls\",\"10\",\"My_thoughts\",\"Quantum\",\"throat\",\"ama\",\"Bucs\",\"more_appealing\",\"Top_Gear\",\"trade_him\",\"phoenix\",\"ships\",\"song\",\"innings\",\"Jazz\",\"chap\",\"therefore\",\"easier_than\",\"vice_versa\",\"constructive\",\"enticing\",\"offended\",\"my_uncle\",\"making_fun\",\"instincts\",\"feedback\",\"Rare\",\"nets\",\"Thank\",\"let_alone\",\"goddamnit\",\"gorgeous\",\"aim\",\"Jensen\",\"For_science\",\"BOLD\",\"Udyr\",\"Beats\",\"cherry_picked\",\"bolt\",\"HALF\",\"Denmark\",\"gift\",\"mornings\",\"exact_reason\",\"STL\",\"bounds\",\"skill_based\",\"Andy\",\"e\",\"Mac\",\"detector\",\"consecutive\",\"Vampire\",\"Question\",\"Metroid\",\"bugged\",\"rings\",\"rinse\",\"PvE\",\"slaughtering\",\"TAKE\",\"lust\",\"*_sigh\",\"Wonderful\",\"dessert\",\"stat\",\"sooner_than\",\"RC\",\"Certified\",\"cosmic\",\"cells\",\"survey\",\"Huhi\",\"Big_12\",\"game_mode\",\"pure\",\"bumped\",\"Republican_party\",\"WORK\",\"camo\",\"down_votes\",\"disagree_with\",\"REPORT\",\"lord_knows\",\"Guy\",\"CPUs\",\"abolish\",\"timeless\",\"achieve\",\"got_caught\",\"stress\",\"YOU_SHOULD\",\"nickel\",\"Competition\",\"OWN\",\"booed\",\"ends_up\",\"Origins\",\"redistribution\",\"hirez\",\"tweak\",\"Rubber\",\"arrived\",\"spamming\",\"air_force\",\"Eight\",\"Downvote\",\"suppressor\",\"federation\",\"voter\",\"reflex\",\"Predator\",\"miniature\",\"Fiat\",\"law_abiding\",\"150\",\"Trade\",\"500\",\"roaches\",\"compassionate\",\"RS\",\"an_amateur\",\"completely_useless\",\"Graves\",\"wilderness\",\"chocolate\",\"improperly\",\"industry\",\"producer\",\"ORDER\",\"naman\",\"emote\",\"edible\",\"walking_through\",\"OOC_:\",\"repealing\",\"Huffington_Post\",\"Governor\",\"plumbing\",\"Sterling\",\"customer_support\",\"MAKES\",\"browns\",\"message\",\"WHEN_YOU\",\"photographs\",\"worthy\",\"Bing\",\"stem_cells\",\"turbo\",\"overdone\",\"reacts\",\"film\",\"Macbook\",\"hair_color\",\"loading\",\"15_minutes\",\"dead\",\"jar_jar\",\"Whoops\",\"bangs\",\"fold\",\"functional\",\"exploited\",\"`_SvcHost.exe\",\"mod\",\"Something\",\"soil\",\"parrot\",\"fried\",\"spies\",\"Nickelback\",\"brow\",\"RDA\",\"serving\",\"outer\",\"wrestler\",\"fictional\",\"LINE\",\"murdering\",\"My_theory\",\"shove\",\"percent\",\"Packers\",\"Dumbledore\",\"SG\",\"SSD\",\"informed\",\"an_i5\",\"mango\",\"Aka\",\"apes\",\"season\",\"trail\",\"assume\",\"hello\",\"7_months\",\"protoss\",\"uploading\",\"student_loans\",\"#_rekt\",\"eventual\",\"mains\",\"rabble\",\"refused\",\"business_practices\",\"editions\",\"gim_me\",\"Say\",\"San\",\"picturing\",\"main_stream\",\"passed\",\"6_minutes\",\"combine\",\"rng\",\"psychiatrist\",\"Team\",\"displaying\",\"sofa\",\"virgins\",\"Webb\",\"Free_market\",\"Suit\",\"favorites\",\"gay_sex\",\"headshots\",\"omitted\",\"younger_than\",\"positives\",\"hat_trick\",\"notice\",\"ding\",\"socialism\",\"Noone\",\"magically\",\"Welsh\",\"labour\",\"national_anthem\",\"jus\",\"rims\",\"bottled\",\"...\",\"Keeper\",\"Oreo\",\"error\",\"Plat\",\"yogurt\",\"natty\",\"Miracle\",\"AD\",\"Stop_giving\",\"hobo\",\"advise\",\"PTS\",\"same_sentence\",\"migrant\",\"FED\",\"well_spent\",\"restrict\",\"Betty\",\"chemistry\",\"lynch\",\"arnt\",\"Apocalypse\",\"monitors\",\"deer\",\"1337\",\"IMT\",\"secret_Muslim\",\"dia\",\"cherry\",\"Me_too\",\"publicity\",\"95_%\",\"Clippers\",\"champion\",\"contentious\",\"requests\",\"Madness\",\"bern\",\"anonymity\",\"sterilize\",\"so_much\",\"pact\",\"last\",\"feeble\",\"mythic\",\"EDH\",\"Homo\",\"line\",\"year_ago\",\"available\",\"kobe\",\"Wolverine\",\"Surprised\",\"inspired\",\"Car\",\"karma_points\",\"p\",\"illegally\",\"SUPER\",\"turned_out\",\"Axe\",\"Takumi\",\"Mask\",\"Looks\",\"junkies\",\"organise\",\"bf4\",\"get_arrested\",\"Kinda_hard\",\"lowly\",\"lane\",\"so_many\",\"government_agencies\",\"'we\",\"advertisement\",\"Protip_:\",\"clubs\",\"monsters\",\"civil\",\"tradition\",\"flex\",\"unrealistic\",\"court_system\",\"regional\",\"Birmingham\",\"mythical\",\"suit\",\"counties\",\"RAPIST\",\"Digital\",\"intuitive\",\"almost_every\",\"an_unbiased\",\"Grand_Theft\",\"staples\",\"Oh_dear\",\"unit\",\"hippie\",\"technicality\",\"flopped\",\"Yelp\",\"GAWD\",\"steve\",\"Lol_yeah\",\"limit\",\"sounds\",\"was_joking\",\"mee\",\"E\",\"Sleeping\",\"Destroyer\",\"Who_says\",\"70_%\",\"taxis\",\"flawless\",\"weaker_than\",\"couple_months\",\"forged\",\"trials\",\"photoshop\",\"offer\",\"qualify\",\"logged\",\"Fingers_crossed\",\"William\",\"fucky\",\"learn_how\",\"GDP\",\"claws\",\"THEN\",\"Nigga\",\"rs3\",\"owned_by\",\"repeating\",\"Shock\",\"Breaking\",\"Combo\",\"proximity\",\"very_quickly\",\"housing\",\"Undertaker\",\"thermal_paste\",\"Social_Security\",\"doo\",\"criminally\",\"junkie\",\"scoop\",\"star_trek\",\"revert\",\"Seems_legit\",\"murican\",\"disease\",\"choked\",\"t\",\"queue\",\"crazy\",\"videos\",\"Finnish\",\"diapers\",\"patriarchy\",\"ditto\",\"staple\",\"crafted\",\"insect\",\"criticize\",\"occurring\",\"sore\",\"i_dont\",\"cyberpunk\",\"echo_chamber\",\"Attention\",\"inquiry\",\"Steam\",\"mentions\",\"Ol_'\",\"moba\",\"dipping\",\"Dubai\",\"gun_laws\",\"films\",\"4-5\",\"drilled\",\"barbs\",\"Or\",\"bummed\",\"UN\",\"judges\",\"Mage\",\"DELETE\",\"Doctor\",\"enlightening\",\"Irrelevant\",\"scroll_down\",\"attempts\",\"ninth\",\"Push\",\"yell\",\"skeltal\",\"preview\",\"based_upon\",\"bummer\",\"Kinect\",\"unsee\",\"Lamar\",\"Especially\",\"complacent\",\"thumbnails\",\"Spirit\",\"knowingly\",\"hate_crimes\",\"swallow\",\"rejoice\",\"BANG\",\"Listening\",\"attached\",\"Action\",\"memorize\",\"sliced\",\"Iraq_War\",\"Psh\",\"romo\",\"Bunny\",\"similarities\",\"academics\",\"federally\",\"groom\",\"above_average\",\"much_safer\",\"FREEDOM\",\"candy_crush\",\"Burfict\",\"lessons\",\"drilling\",\"Aldo\",\"keeps_getting\",\"ratchet\",\"remorse\",\"during\",\"pneumonia\",\"walker\",\"roads\",\"conspiracy_theorists\",\"dpi\",\"irony\",\"pts\",\"Marxists\",\"exhausting\",\"Redskins\",\"on_campus\",\"best\",\"misogynistic\",\"watcher\",\"cupcake\",\"Pffff\",\"swearing\",\"intro\",\"360\",\"psych\",\"palms\",\"an_item\",\"circle\",\"Se\",\"rays\",\"Team_Fortress\",\"watched\",\"hentai\",\"enjoying\",\"upgrades\",\"nonsense\",\"broker\",\"sparrow\",\"lets_hope\",\"mat\",\"Minus\",\"happen\",\"cannabis\",\"questioning\",\"newborn\",\"SEXIST\",\"'ve_heard\",\"suspect\",\"hockey\",\"rant\",\"public_transport\",\"shoot\",\"0-2\",\"Champ\",\"killed_by\",\"950\",\"Aw\",\"monitored\",\"Bluetooth\",\"goes_through\",\"admin\",\"folding\",\"ft\",\"an_epic\",\"Looked\",\"chart\",\"Horde\",\"haram\",\"more_profitable\",\"KT\",\"Happy_birthday\",\"Here_comes\",\"civility\",\"operate\",\"xbox\",\"bleeding\",\"tangible\",\"approves\",\"Bunch_of\",\"CAD\",\"PLS\",\"bitch\",\"Green_Bay\",\"sibling\",\"stats\",\"Photoshopped\",\"SRS\",\"Commenting\",\"Puerto_Rico\",\"racist\",\"more_affordable\",\"TRIGGERED\",\"C_#\",\"taxpayer_money\",\"subreddit\",\"cartoon\",\"Honest\",\"happens_when\",\"Jon\",\"intel\",\"customization\",\"opens_up\",\"planned_parenthood\",\"shortest\",\"mensen\",\"irritating\",\"SC\",\"Last\",\"godless\",\"three_years\",\"rap_music\",\"Between\",\"goes\",\"min\",\"Nevada\",\"exploitation\",\"cracker\",\"CONSOLE\",\"an_egg\",\"Bass\",\"tails\",\"ND\",\"associate\",\"foster_care\",\"wrecks\",\"applying\",\"theaters\",\"condo\",\"almost_identical\",\"randomness\",\"Caldwell\",\"billion_dollars\",\"ONLY_ONE\",\"Instant\",\"networking\",\"vanity\",\"pinch\",\"hockey_players\",\"scummy\",\"Busch\",\"brick\",\"George_Lucas\",\"folders\",\"shoulders\",\"5_%\",\"lacks\",\"DOESNT\",\"remedy\",\"Rory\",\"Billion\",\"NAP\",\"Crooked_Hillary\",\"rivals\",\"dealing\",\"inviting\",\"airplane\",\"loved_ones\",\"THREE\",\"elf\",\"higher\",\"POWER\",\"WB\",\"lategame\",\"QB\",\"Zarya\",\"jets\",\"Offer\",\"lowering\",\"Isles\",\"Warlock\",\"Hayes\",\"fury\",\"CFB\",\"peer\",\"abuser\",\"chop\",\"cant_tell\",\"Comey\",\"THAT_'S\",\"Scarra\",\"Popular\",\"Skynet\",\"connect\",\"my_pitchfork\",\"``\",\"Corporations_are\",\"Snapchat\",\"downvoted\",\"goalies\",\"Vanguard\",\"^^^\",\"playful\",\"SEC\",\"expired\",\"small_number\",\"swell\",\"rustled\",\"Waifu\",\"enhancements\",\"MORE_THAN\",\"tattooed_on\",\"hindsight\",\"intent\",\"Roberts\",\"suppliers\",\"dosent\",\"convenience\",\"Butter\",\"Kind_of\",\"equip\",\"impact_on\",\"repairs\",\"70_years\",\"disproves\",\"happiest\",\"ive_seen\",\"butcher\",\"Cool_story\",\"priesthood\",\"Normal\",\"handed\",\"NATO\",\"destroyers\",\"QBs\",\"Oct\",\"spanish\",\"easiest\",\"hashtag\",\"[_]\",\"marching\",\"Die_Hard\",\"hooks\",\"FPS\",\"bishop\",\"warn\",\"reflecting\",\"factories\",\"Piglet\",\"router\",\"Obv\",\"dignity\",\"pudding\",\"reroll\",\"Flanders\",\"easy_access\",\"album\",\"clap\",\"exist_anymore\",\"SEE\",\"England\",\"Ottoman\",\"solve_everything\",\"backs\",\"races\",\"Give_him\",\"integration\",\"T-shirt\",\"dickhead\",\"hence_why\",\"free_markets\",\"+_power\",\"our_defense\",\"lock\",\"option\",\"consumed\",\"max\",\"replica\",\"These\",\"prod\",\"Pic\",\"Nobody\",\"representing\",\"Reasons\",\"Draymond\",\"livestream\",\"missionaries\",\"gains\",\"MUSLIM\",\"cache\",\"2k16\",\"legalization\",\"most_transparent\",\"Whoever\",\"off_guard\",\"much_larger\",\"warzone\",\"'Murica\",\"dramatic\",\"doin_'\",\"tariffs\",\"casted\",\"Book\",\"team_mates\",\"sports_car\",\"feathers\",\"Sword\",\"Tale\",\"compromise\",\"Jokes\",\"vegan\",\"feet_tall\",\"1v5\",\"MMR\",\"western_world\",\"lining_up\",\"fullback\",\"AND_YOU\",\"construction\",\"gimp\",\"mein\",\"womens\",\"highest\",\"costs_$\",\"catastrophic\",\"bargaining\",\"analysts\",\"add\",\"float\",\"moderate\",\"plausible\",\"Buff\",\"brexit\",\"meanings\",\"being_thrown\",\"dox\",\"IP\",\"went_full\",\"Feds\",\"lineman\",\"Her\",\"faction\",\"Excalibur\",\"ONE_OF\",\"brew\",\"Buzz\",\"purchased\",\"full_auto\",\"narratives\",\"tour\",\"child\",\"filth\",\"Quit\",\"Ann_Coulter\",\"computing\",\"most_powerful\",\"Belgium\",\"an_hour\",\"Elliot\",\"rivalries\",\"Tuesdays\",\"XP\",\"Slavery\",\"IF\",\"clearer\",\"helm\",\"TX\",\"scandal\",\"Palin\",\"Ant-Man\",\"black_market\",\"techniques\",\"states\",\"popup\",\"Muh\",\"statistically\",\"aur\",\"vault\",\"St_Louis\",\"Missouri\",\"Grade\",\"Rome\",\"strange\",\"watch_porn\",\"cluster\",\"rating\",\"Vault\",\"featured\",\"trusting\",\"DPI\",\"dick_stuck\",\"few_seasons\",\"_\",\"cloak\",\"Hoyer\",\"stressed\",\"highway\",\"Apart_from\",\"differences_between\",\"undocumented\",\"peon\",\"crusade\",\"Healthy\",\"peer_reviewed\",\"\\\\__&\",\"ads\",\"defy\",\"WHERE\",\"volt\",\"beating\",\"Complete\",\"crazy_talk\",\"our_roads\",\"Office\",\"war\",\"molten\",\"ny\",\"harry_potter\",\"insert\",\"arent\",\"faded\",\"Toxic\",\"50+\",\"saturation\",\"FC\",\"whose\",\"differ\",\"phat\",\"Type\",\"sick_burn\",\"phrases\",\"le_reddit\",\"sane\",\"tearing\",\"LED\",\"tile\",\"therapist\",\"r/atheism\",\"White_privilege\",\"Of_course\",\"differentiate_between\",\"takes_place\",\"each\",\"TFA\",\"disrupting\",\"Puppey\",\"rat\",\"anti\",\"rightful\",\"Single\",\"splinter\",\"Greg\",\"sanders\",\"products\",\"provider\",\"booze\",\"subpar\",\"whole_world\",\"fun\",\"UOL\",\"Ubuntu\",\"Hockey\",\"console_players\",\"circumstances\",\"freddy\",\"opposite_side\",\"scripts\",\"Hiko\",\"Quality_content\",\"drug\",\"jackson\",\"Smooth\",\"5_million\",\"Tip\",\"ammunition\",\"GI\",\"decreased\",\"jackpot\",\"violent_video\",\"statistics\",\"world_class\",\"bakery\",\"intolerant\",\"40_hours\",\"SI\",\"Morgana\",\"matchups\",\"conceived\",\"federal_law\",\"warfare\",\"sanctuary\",\"$_75\",\"thin\",\"in_vain\",\"GLORIOUS\",\"JUST\",\"lenses\",\"these_events\",\"wonder_why\",\"doomsday\",\"enlightenment\",\"Barkley\",\"tennis\",\"700\",\"target\",\"incarceration\",\"Kill\",\"Finding\",\"Ike\",\"blond\",\"replays\",\"Stark\",\"proficient\",\"scream\",\"heater\",\"news_outlets\",\"Slavs\",\"squat_rack\",\"alien\",\"ser\",\"commonly\",\"manner\",\"dates\",\"recommending\",\"San_Andreas\",\"surfaces\",\"dnc\",\"Fascism\",\"century\",\"TURN\",\"Spurs\",\"alternatively\",\"SO\",\"butt\",\"working_class\",\"99.9_%\",\"Baja\",\"Willy\",\"melee\",\"Self\",\"tainted\",\"Ignore\",\"Just_remember\",\"School\",\"excuse\",\"GMOs\",\"reworked\",\"OS\",\"nicely\",\"swapped\",\"yrs\",\"liberty\",\"shaman\",\"In_order\",\"A_WHITE\",\"Fucking_hell\",\"background_checks\",\"nerf\",\".........\",\"led_by\",\"AT_LEAST\",\"purchase\",\"minesweeper\",\"feel_entitled\",\"fares\",\"lesbian\",\"cooled\",\"DT\",\"Fan\",\"sell\",\"downvoters\",\"Could\",\"swallowing\",\"dumpster_fire\",\"negros\",\"communications\",\"TSM\",\"Franklin\",\"cheaper\",\"pitch\",\"NFL_history\",\"earn\",\"Winslow\",\"HILLARY\",\"poured\",\"uncle\",\"Swing\",\"Doesnt\",\"Daily_Mail\",\"fucktard\",\"racket\",\"ported\",\"fix_everything\",\"souls\",\"Upvoting\",\"Spaghetti\",\"self-righteous\",\"Exile\",\"Beauty\",\"THC\",\"memorized\",\"public_education\",\"Incoming\",\"cover_up\",\"amusing\",\"GREAT\",\"cross\",\"resident\",\"lame\",\"DEATH\",\"raven\",\"accelerate\",\"sheet\",\"dropped_this\",\"progress\",\"hostage\",\"into_starvation\",\"worried\",\"worth\",\"Not_sure\",\"Plays\",\"remark\",\"OH_NO\",\"400+\",\"summer\",\"des\",\"utter_shit\",\"indies\",\"soup\",\"costing\",\"Sierra\",\"off_topic\",\"Therefore\",\"macho\",\"enthusiastic\",\"three_times\",\"importance\",\"Legacy\",\"iron\",\"Ingress\",\"strawberries\",\"Discovery\",\"set-up\",\"limp\",\"Marvel\",\"surpass\",\"chose\",\"warranted\",\"styled\",\"migrate\",\"/thread\",\"quack\",\"matt\",\"huge_fan\",\"hidden\",\"node\",\"alert\",\"immortality\",\"golden_age\",\"dot\",\"lighter\",\"You_forgot\",\"subset_of\",\"Papyrus\",\"my_mouth\",\"HAHAHA\",\"UF\",\"bungie\",\"unplug\",\"relevant\",\"matching\",\"fishing\",\"left_wing\",\"are_incapable\",\"weight_loss\",\"Apple_Watch\",\"your_privilege\",\"Woohoo\",\"genuine\",\"Other_than\",\"edgy\",\"ofcourse\",\"anywhere_close\",\"Carolina\",\"partly\",\"incendiary\",\"Totally\",\"PIECE_OF\",\"govern\",\"robots\",\"lee\",\"MEAT\",\"had\",\"Energy\",\"hedgehog\",\"67\",\"bold\",\"weeds\",\"unreasonable\",\"infield\",\"hot_dogs\",\"esp\",\"billing\",\"Eww\",\"itch\",\"grow_up\",\"wel\",\"Freddy\",\"little_sister\",\"expect\",\"cable_management\",\"an_anarchist\",\"pretty_cool\",\"acquire\",\"popcorn\",\"surprise\",\"inefficient\",\"travel\",\"Shhh\",\"ill_try\",\"breathe\",\"other_news\",\"qualifies\",\"Fade\",\"Mitt_Romney\",\"BYU\",\"taking_pictures\",\"mobo\",\"rom\",\"Patrick\",\"butterflies\",\"dig\",\"brilliant\",\"photographer\",\"dilute\",\"social_life\",\"SD\",\"colorful\",\"ideals\",\"Trump_supporter\",\"BLACK\",\"wavy\",\"ACL\",\"Alaska\",\"cults\",\"3000\",\"anti-semetic\",\"lifelong\",\"redpill\",\"hurting\",\"grip\",\"sandwich\",\"Heights\",\"Tiger\",\"preserved\",\"taught\",\"an_inch\",\"ANY\",\"clans\",\"Falco\",\"ceremony\",\"mammals\",\"sample\",\"almost_impossible\",\"my_desk\",\"promote\",\"Tokyo\",\"national\",\"faucet\",\"blocks\",\"likable\",\"cake\",\"bio\",\"Italian\",\"burn_down\",\"resentment\",\"determine\",\"WOW\",\"homosexuality\",\"appear\",\"an_injury\",\"new_pair\",\"WWII\",\"20+\",\"approved_by\",\"totally_justified\",\"season_pass\",\"wish\",\"fir\",\"Citizens\",\"highlight\",\"lockscreen\",\"pander\",\"items\",\"FNC\",\"Mason\",\"Alright\",\"incest\",\"Fates\",\"Calvin\",\"Much_better\",\"internalized_misogyny\",\"go_home\",\"top_gear\",\"addict\",\"training_camp\",\"Came\",\"homicide\",\"save\",\"nasus\",\"bright\",\"picked\",\"impartial\",\"THE_FUCKING\",\"apologists\",\"bands\",\"bye\",\"dwellers\",\"Standard\",\"risking\",\"charged\",\"peanut_butter\",\"dispensaries\",\"faster\",\"traumatized\",\"Canada\",\"pitbulls\",\"fair_enough\",\"gave\",\"remind\",\"RANDOM\",\"politely\",\"NI\",\"Both_parties\",\"originated_from\",\"immune_system\",\"Wars\",\"avocado\",\"asians\",\"expand\",\"cancel_out\",\"colours\",\"Kick\",\"disc_golf\",\"OSX\",\"46\",\"Riding\",\"harder\",\"aus\",\"Someone_should\",\"stereotypes\",\"lightly\",\"Stamkos\",\"ahh\",\"keeping_us\",\"temperature\",\"grapes\",\"austerity\",\"Primary\",\"Floyd\",\"outdated\",\"wonky\",\"good_chunk\",\"rush_hour\",\"small_amount\",\"5000\",\"Dice\",\"countered\",\"esto\",\"unfair_advantage\",\"bloodline\",\"LCD\",\"ISPs\",\"Michael\",\"absorbed\",\"Small\",\"900\",\"ez\",\"Joe_Buck\",\"2-3_years\",\"CCW\",\"headset\",\"LEGO\",\"decreasing\",\"placement\",\"treadmill\",\"Punch\",\"Whale\",\"cookie\",\"Eli\",\"courageous\",\"an_individual\",\"csgo\",\"trim\",\"airflow\",\"nvm\",\"AAP\",\"thrilling\",\"integrated\",\"an_explosion\",\"rollercoaster\",\"left_behind\",\"adult\",\"snuff\",\"welding\",\"Fi\",\"uhh\",\"alongside\",\"expert\",\"scholars\",\"cakes\",\"Ambrose\",\"ca_n't\",\"Samuel\",\"repeat\",\"Triple_H\",\"bad_reviews\",\"boxes\",\"hacked\",\"later_today\",\"olympics\",\"DSLR\",\"EMAILS\",\"milking\",\"special_edition\",\"Ultron\",\"dull\",\"rad\",\"was\",\"Monte\",\"PCP\",\"sniffing\",\"swam\",\"very_smart\",\"feelings\",\"dey\",\"Clean\",\"totals\",\"Grats\",\"gluten_free\",\"IS_LITERALLY\",\"Marie\",\"locker\",\"improves\",\"response\",\"medications\",\"buffer\",\"current_meta\",\"yds\",\"lp\",\"fined\",\"SK\",\"Hall\",\"ageist\",\"Shield\",\"50_million\",\"condone\",\"God_damnit\",\"libs\",\"iPad_Pro\",\"subways\",\"SHUT_UP\",\"Oxford\",\"deployment\",\"trips\",\"nationwide\",\"developed_countries\",\"inc\",\"capability\",\"treat\",\"starred\",\"inhaling\",\"cent\",\"never_guessed\",\"ideal\",\"determined_by\",\"fest\",\"address\",\"underwater\",\"economical\",\"amiright\",\"tweaks\",\"more_valuable\",\"sail\",\"Nelson\",\"hack\",\"prosecuting\",\"streamer\",\"Le\",\"Garrett\",\"3rd_place\",\"Oh_yes\",\"charismatic\",\"preferably\",\"smiles\",\"Australians\",\"prowess\",\"islands\",\"fabulous\",\"OMG_SO\",\"cuddle\",\"105\",\"UGA\",\"Immortals\",\"premier\",\"WoD\",\"stopped\",\"Farm\",\"$_45\",\"repaired\",\"vanilla\",\"Explains_why\",\"Learning\",\"rising\",\"sexual_harassment\",\"Union\",\"geen\",\"religious\",\"passionate\",\"fedora\",\"Dad\",\"remind_us\",\"Spoiler_:\",\"obtuse\",\"explanation\",\"referenced\",\"financial_crisis\",\"armpit\",\"African_American\",\"OPINION\",\"AND_HIS\",\"Gomez\",\"icing_on\",\"twin\",\"unstoppable\",\"conscience\",\"broke\",\"drinking_water\",\"Syrian_refugees\",\"tastes_like\",\"strong_independent\",\"intimidate\",\"porting\",\"nimble\",\"unskilled\",\"link_between\",\"hooligans\",\"largest\",\"nerds\",\"NOT\",\"concentration\",\"chem\",\"Sushi\",\"viable_option\",\"'VE\",\"knock_off\",\"Men_ca\",\"alignment\",\"ability\",\"seats\",\"JL\",\"crime\",\"marksman\",\"TF\",\"civilized\",\"buck\",\"Weber\",\"variables\",\"legitimate\",\"coke\",\"grams\",\"ratings\",\"feeds\",\"rigid\",\"Wendy\",\"Jacob\",\"VR\",\"Heavy\",\"Vulcan\",\"growing_up\",\"PLACE\",\"primitive\",\"brah\",\"dood\",\"social_anxiety\",\"countdown\",\"BP\",\"gladly\",\"long_as\",\"exact_moment\",\"Marth\",\"POKEMON\",\"Corbin\",\"Volume\",\"proper_response\",\"want\",\"sa\",\"most_dangerous\",\"Old_Testament\",\"theatre\",\"Israeli\",\"CAN_NOT\",\"worst_part\",\"crush\",\"AV\",\"Black_Friday\",\"director\",\"@\",\"manually\",\"savings\",\"Indy\",\"previously\",\"internet_points\",\"merry\",\"30_minute\",\"rebuttal\",\"asset\",\"scared\",\"Zionists\",\"condom\",\"Shake\",\"magical\",\"Lie\",\"carrots\",\"skating\",\"200_%\",\"golf_course\",\"dictators\",\"australian\",\"NIGHT\",\"redditing\",\"spreading\",\"Thx\",\"cores\",\"kidney\",\"presentation\",\"crypto\",\"undoubtedly\",\"daft\",\"ongoing\",\"caution\",\"La_Liga\",\"barbarian\",\"squishy\",\"deeper\",\"especially_considering\",\"anders\",\"this_weekend\",\"begging\",\"M_$\",\"$_700\",\"disgraceful\",\"Lovely\",\"dedicate\",\"ended\",\"Kiss\",\"Gurley\",\"drummer\",\"8-10\",\"mansplain\",\"causation\",\"Fantastic\",\"Snoop\",\"YAY\",\"scumbags\",\"weaker\",\"NEWS\",\"invaded\",\"graphical\",\"nightmares\",\"apt\",\"categories\",\"intervene\",\"wide\",\"9gag\",\"violate\",\"watermelon\",\"ENOUGH\",\"mobs\",\"gasp\",\"disguised_as\",\"A+\",\"Ai\",\"identifies_as\",\"demonstrating\",\"TV_series\",\"Lebron\",\"an_ally\",\"Bosh\",\"stack\",\"explains_why\",\"Clan\",\"scenes\",\"buggy\",\"mass_murder\",\"roids\",\"detecting\",\"semen\",\"knockoff\",\"Maple\",\"spy_on\",\"bowls\",\"Invasion\",\"Hussein\",\"iPod\",\"addiction\",\"aint\",\"Tower\",\"ripe\",\"Noo\",\"submarines\",\"piracy\",\"easy\",\"demonstrates\",\"todays\",\"It_appears\",\"definetly\",\"Bayern\",\"aimed\",\"A_R\",\"robin\",\"Troy\",\"impressionable\",\"Chuck\",\"Season_3\",\"blaze\",\"pharma\",\"tear\",\"MC\",\"rugby\",\"Edgy\",\"placebo\",\"shelter\",\"reviewers\",\"Co\",\"accidents\",\"Will_Smith\",\"or\",\"patents\",\"Control\",\"tagline\",\"summoner\",\"ink\",\"Samson\",\"examine\",\"horrific\",\"Have\",\"contractors\",\"colonies\",\"Production\",\"Donald\",\"dairy\",\"hateful\",\"rioting\",\"cement\",\"DOT\",\"scores\",\"bullpen\",\"1-3\",\"Mordor\",\"Forget\",\"ovens\",\"Druid\",\"steroids\",\"heavier\",\"Mendes\",\"envious\",\"WvW\",\"death_camps\",\"doubly\",\"capitalist\",\"next_update\",\"shifts\",\"Hunt\",\"fruit\",\"agriculture\",\"plow\",\"memorial\",\"TJ\",\"Code\",\"giving\",\"Gina\",\"STAY\",\"shore\",\"my_grandparents\",\"Tristana\",\"Beat\",\"excessively\",\"year_anniversary\",\"destructive\",\"savages\",\"chorus\",\"lives\",\"Boy\",\"kool-aid\",\"astonishing\",\"dissolve\",\"razor\",\"hes\",\"SHOT\",\"mouth\",\"while_simultaneously\",\"Jews\",\"forgetting\",\"90_%\",\"playstyle\",\"waaay\",\"A\",\"doorstep\",\"De_Gea\",\"each_other\",\"Dirk\",\"mid_laner\",\"Nooooo\",\"Laptop\",\"sounds_legit\",\"queers\",\"Duck\",\"per_hour\",\"sight\",\"FIRST\",\"robbed\",\"fortress\",\"rpm\",\"contact_with\",\"20_years\",\"identifying\",\"tropical\",\"musical\",\"Ezreal\",\"punishments\",\"without_having\",\"Protect\",\"Coalition\",\"geography\",\"yum\",\"uit\",\"disenfranchised\",\"WORDS\",\"other_languages\",\"MOTHER\",\"an_AK\",\"eu\",\"f1\",\"Wat\",\"pad\",\"cents\",\"justification\",\"presence\",\"Oh_god\",\"young_men\",\"lack_of\",\"cartridge\",\"Barca\",\"gassed\",\"rarer\",\"worldwide\",\"ankle\",\"kurds\",\"dragging\",\"sickening\",\"CAN_ONLY\",\"insects\",\"mastermind\",\"behavior\",\"Jo\",\"justice\",\"Cultural_appropriation\",\"durability\",\"monetary\",\"history\",\"bulky\",\"settled\",\"surgeries\",\"retirement\",\"vending_machines\",\"theft\",\"comedians\",\"kill_myself\",\"scheduling\",\"kidneys\",\"firefox\",\"'T\",\"thesis\",\"slow_motion\",\"distributing\",\"BC\",\"female_president\",\"might_be\",\"laziness\",\"Steel\",\"NHS\",\"Brutal\",\"conforming\"],\"shape\":[5000],\"dtype\":\"object\",\"order\":\"little\"}]]}}},\"view\":{\"type\":\"object\",\"name\":\"CDSView\",\"id\":\"p1049\",\"attributes\":{\"filter\":{\"type\":\"object\",\"name\":\"AllIndices\",\"id\":\"p1050\"}}},\"glyph\":{\"type\":\"object\",\"name\":\"Text\",\"id\":\"p1045\",\"attributes\":{\"x\":{\"type\":\"field\",\"field\":\"x\"},\"y\":{\"type\":\"field\",\"field\":\"y\"},\"text\":{\"type\":\"field\",\"field\":\"text\"},\"text_color\":{\"type\":\"value\",\"value\":\"black\"}}},\"nonselection_glyph\":{\"type\":\"object\",\"name\":\"Text\",\"id\":\"p1046\",\"attributes\":{\"x\":{\"type\":\"field\",\"field\":\"x\"},\"y\":{\"type\":\"field\",\"field\":\"y\"},\"text\":{\"type\":\"field\",\"field\":\"text\"},\"text_color\":{\"type\":\"value\",\"value\":\"black\"},\"text_alpha\":{\"type\":\"value\",\"value\":0.1}}},\"muted_glyph\":{\"type\":\"object\",\"name\":\"Text\",\"id\":\"p1047\",\"attributes\":{\"x\":{\"type\":\"field\",\"field\":\"x\"},\"y\":{\"type\":\"field\",\"field\":\"y\"},\"text\":{\"type\":\"field\",\"field\":\"text\"},\"text_color\":{\"type\":\"value\",\"value\":\"black\"},\"text_alpha\":{\"type\":\"value\",\"value\":0.2}}}}}],\"toolbar\":{\"type\":\"object\",\"name\":\"Toolbar\",\"id\":\"p1018\",\"attributes\":{\"tools\":[{\"type\":\"object\",\"name\":\"PanTool\",\"id\":\"p1031\"},{\"type\":\"object\",\"name\":\"WheelZoomTool\",\"id\":\"p1032\",\"attributes\":{\"renderers\":\"auto\"}},{\"type\":\"object\",\"name\":\"BoxZoomTool\",\"id\":\"p1033\",\"attributes\":{\"overlay\":{\"type\":\"object\",\"name\":\"BoxAnnotation\",\"id\":\"p1034\",\"attributes\":{\"syncable\":false,\"level\":\"overlay\",\"visible\":false,\"left\":{\"type\":\"number\",\"value\":\"nan\"},\"right\":{\"type\":\"number\",\"value\":\"nan\"},\"top\":{\"type\":\"number\",\"value\":\"nan\"},\"bottom\":{\"type\":\"number\",\"value\":\"nan\"},\"left_units\":\"canvas\",\"right_units\":\"canvas\",\"top_units\":\"canvas\",\"bottom_units\":\"canvas\",\"line_color\":\"black\",\"line_alpha\":1.0,\"line_width\":2,\"line_dash\":[4,4],\"fill_color\":\"lightgrey\",\"fill_alpha\":0.5}}}},{\"type\":\"object\",\"name\":\"SaveTool\",\"id\":\"p1039\"},{\"type\":\"object\",\"name\":\"ResetTool\",\"id\":\"p1040\"},{\"type\":\"object\",\"name\":\"HelpTool\",\"id\":\"p1041\"}]}},\"left\":[{\"type\":\"object\",\"name\":\"LinearAxis\",\"id\":\"p1026\",\"attributes\":{\"ticker\":{\"type\":\"object\",\"name\":\"BasicTicker\",\"id\":\"p1027\",\"attributes\":{\"mantissas\":[1,2,5]}},\"formatter\":{\"type\":\"object\",\"name\":\"BasicTickFormatter\",\"id\":\"p1028\"},\"major_label_policy\":{\"type\":\"object\",\"name\":\"AllLabels\",\"id\":\"p1029\"}}}],\"below\":[{\"type\":\"object\",\"name\":\"LinearAxis\",\"id\":\"p1021\",\"attributes\":{\"ticker\":{\"type\":\"object\",\"name\":\"BasicTicker\",\"id\":\"p1022\",\"attributes\":{\"mantissas\":[1,2,5]}},\"formatter\":{\"type\":\"object\",\"name\":\"BasicTickFormatter\",\"id\":\"p1023\"},\"major_label_policy\":{\"type\":\"object\",\"name\":\"AllLabels\",\"id\":\"p1024\"}}}],\"center\":[{\"type\":\"object\",\"name\":\"Grid\",\"id\":\"p1025\",\"attributes\":{\"axis\":{\"id\":\"p1021\"}}},{\"type\":\"object\",\"name\":\"Grid\",\"id\":\"p1030\",\"attributes\":{\"dimension\":1,\"axis\":{\"id\":\"p1026\"}}}]}}]}};\n",
              "  const render_items = [{\"docid\":\"eae3b400-a81a-4bc9-8a73-3fd0a4124e67\",\"roots\":{\"p1010\":\"a7d64171-9191-4271-afc9-a58ec75027d6\"},\"root_ids\":[\"p1010\"]}];\n",
              "  root.Bokeh.embed.embed_items_notebook(docs_json, render_items);\n",
              "  }\n",
              "  if (root.Bokeh !== undefined) {\n",
              "    embed_document(root);\n",
              "  } else {\n",
              "    let attempts = 0;\n",
              "    const timer = setInterval(function(root) {\n",
              "      if (root.Bokeh !== undefined) {\n",
              "        clearInterval(timer);\n",
              "        embed_document(root);\n",
              "      } else {\n",
              "        attempts++;\n",
              "        if (attempts > 100) {\n",
              "          clearInterval(timer);\n",
              "          console.log(\"Bokeh: ERROR: Unable to run BokehJS code because BokehJS library is missing\");\n",
              "        }\n",
              "      }\n",
              "    }, 10, root)\n",
              "  }\n",
              "})(window);"
            ],
            "application/vnd.bokehjs_exec.v0+json": ""
          },
          "metadata": {
            "application/vnd.bokehjs_exec.v0+json": {
              "id": "p1010"
            }
          }
        }
      ]
    },
    {
      "cell_type": "markdown",
      "source": [
        "# Start LSTM architecture with these initial embeddings before BERT\n"
      ],
      "metadata": {
        "id": "fIbme868woHt"
      }
    },
    {
      "cell_type": "markdown",
      "source": [
        "# Need to create embeddings matrix for LSTM\n"
      ],
      "metadata": {
        "id": "5AfbFAoaz39X"
      }
    },
    {
      "cell_type": "code",
      "source": [
        "model = Word2Vec.load(\"/content/word2vec.model\")\n"
      ],
      "metadata": {
        "id": "nVAx8QTXwt9Q"
      },
      "execution_count": null,
      "outputs": []
    }
  ]
}