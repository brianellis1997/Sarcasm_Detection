{
  "nbformat": 4,
  "nbformat_minor": 0,
  "metadata": {
    "colab": {
      "provenance": [],
      "gpuType": "T4",
      "authorship_tag": "ABX9TyPJgezHzfc1ncm0b3u5yepx",
      "include_colab_link": true
    },
    "kernelspec": {
      "name": "python3",
      "display_name": "Python 3"
    },
    "language_info": {
      "name": "python"
    },
    "accelerator": "GPU"
  },
  "cells": [
    {
      "cell_type": "markdown",
      "metadata": {
        "id": "view-in-github",
        "colab_type": "text"
      },
      "source": [
        "<a href=\"https://colab.research.google.com/github/brianellis1997/Sarcasm_Detection/blob/main/RNN.ipynb\" target=\"_parent\"><img src=\"https://colab.research.google.com/assets/colab-badge.svg\" alt=\"Open In Colab\"/></a>"
      ]
    },
    {
      "cell_type": "code",
      "source": [
        "import pandas as pd\n",
        "import numpy as np"
      ],
      "metadata": {
        "id": "hj1SI-NHC7gn"
      },
      "execution_count": 1,
      "outputs": []
    },
    {
      "cell_type": "code",
      "execution_count": 1,
      "metadata": {
        "colab": {
          "base_uri": "https://localhost:8080/"
        },
        "id": "EysUVbWxChIF",
        "outputId": "e28888c8-5535-4649-aa21-de6d91f99be9"
      },
      "outputs": [
        {
          "output_type": "stream",
          "name": "stdout",
          "text": [
            "Cloning into 'Sarcasm_Detection'...\n",
            "remote: Enumerating objects: 194, done.\u001b[K\n",
            "remote: Counting objects: 100% (191/191), done.\u001b[K\n",
            "remote: Compressing objects: 100% (129/129), done.\u001b[K\n",
            "remote: Total 194 (delta 106), reused 115 (delta 62), pack-reused 3\u001b[K\n",
            "Receiving objects: 100% (194/194), 4.36 MiB | 13.77 MiB/s, done.\n",
            "Resolving deltas: 100% (106/106), done.\n"
          ]
        }
      ],
      "source": [
        "!git clone https://github.com/brianellis1997/Sarcasm_Detection.git"
      ]
    },
    {
      "cell_type": "code",
      "source": [
        "from google.colab import drive\n",
        "drive.mount('/content/drive')"
      ],
      "metadata": {
        "colab": {
          "base_uri": "https://localhost:8080/"
        },
        "id": "FU6jdiVJCq6f",
        "outputId": "cd5c706b-635f-47dd-fc24-dff85f96023d"
      },
      "execution_count": 2,
      "outputs": [
        {
          "output_type": "stream",
          "name": "stdout",
          "text": [
            "Mounted at /content/drive\n"
          ]
        }
      ]
    },
    {
      "cell_type": "code",
      "source": [
        "train_bal = pd.read_csv('/content/drive/MyDrive/Sarcasm_Data/Train_Balanced.csv')   # Make sure path is correct in your google drive\n",
        "train_bal.head()"
      ],
      "metadata": {
        "colab": {
          "base_uri": "https://localhost:8080/",
          "height": 206
        },
        "id": "ZPEYSvW3CvzL",
        "outputId": "d5422732-fe28-46c7-c46d-ce0367220490"
      },
      "execution_count": 2,
      "outputs": [
        {
          "output_type": "execute_result",
          "data": {
            "text/plain": [
              "   Unnamed: 0  label                                            comment  \\\n",
              "0      522142      0  I personally wasn't a huge Garrosh fan, I've a...   \n",
              "1      907864      1                                     you forgot the   \n",
              "2      604170      1                 Nah man, she's clearly an ad carry   \n",
              "3      110635      1                            This sub in a nutshell.   \n",
              "4      997758      0                                       Yes... I do.   \n",
              "\n",
              "        author        subreddit  score  ups  downs        date  \\\n",
              "0  cromemako83        AskReddit      2    2      0  2015-07-01   \n",
              "1  _SharkWeek_        AskReddit      1    1      0  2013-03-01   \n",
              "2    jdswift13  leagueoflegends      1    1      0  2015-10-01   \n",
              "3    trickz-M-  GlobalOffensive      1   -1     -1  2016-12-01   \n",
              "4    guriboysf           videos      4    4      0  2010-01-01   \n",
              "\n",
              "           created_utc                                     parent_comment  \n",
              "0  2015-07-11 01:55:53  Fuck Vol'jin. Garrosh Hellscream did nothing w...  \n",
              "1  2013-03-14 03:03:46  That's a lie fed to you by the LIEberal media....  \n",
              "2  2015-10-21 23:22:17                                  she isnt already?  \n",
              "3  2016-12-05 03:50:18            Cloud 9 Qualify! (ONLY C9 FANS ALLOWED(  \n",
              "4  2010-01-17 21:32:40                  \"so, i hear you have a fat cock.\"  "
            ],
            "text/html": [
              "\n",
              "  <div id=\"df-20be603e-5b45-4139-9881-271a2e325e14\" class=\"colab-df-container\">\n",
              "    <div>\n",
              "<style scoped>\n",
              "    .dataframe tbody tr th:only-of-type {\n",
              "        vertical-align: middle;\n",
              "    }\n",
              "\n",
              "    .dataframe tbody tr th {\n",
              "        vertical-align: top;\n",
              "    }\n",
              "\n",
              "    .dataframe thead th {\n",
              "        text-align: right;\n",
              "    }\n",
              "</style>\n",
              "<table border=\"1\" class=\"dataframe\">\n",
              "  <thead>\n",
              "    <tr style=\"text-align: right;\">\n",
              "      <th></th>\n",
              "      <th>Unnamed: 0</th>\n",
              "      <th>label</th>\n",
              "      <th>comment</th>\n",
              "      <th>author</th>\n",
              "      <th>subreddit</th>\n",
              "      <th>score</th>\n",
              "      <th>ups</th>\n",
              "      <th>downs</th>\n",
              "      <th>date</th>\n",
              "      <th>created_utc</th>\n",
              "      <th>parent_comment</th>\n",
              "    </tr>\n",
              "  </thead>\n",
              "  <tbody>\n",
              "    <tr>\n",
              "      <th>0</th>\n",
              "      <td>522142</td>\n",
              "      <td>0</td>\n",
              "      <td>I personally wasn't a huge Garrosh fan, I've a...</td>\n",
              "      <td>cromemako83</td>\n",
              "      <td>AskReddit</td>\n",
              "      <td>2</td>\n",
              "      <td>2</td>\n",
              "      <td>0</td>\n",
              "      <td>2015-07-01</td>\n",
              "      <td>2015-07-11 01:55:53</td>\n",
              "      <td>Fuck Vol'jin. Garrosh Hellscream did nothing w...</td>\n",
              "    </tr>\n",
              "    <tr>\n",
              "      <th>1</th>\n",
              "      <td>907864</td>\n",
              "      <td>1</td>\n",
              "      <td>you forgot the</td>\n",
              "      <td>_SharkWeek_</td>\n",
              "      <td>AskReddit</td>\n",
              "      <td>1</td>\n",
              "      <td>1</td>\n",
              "      <td>0</td>\n",
              "      <td>2013-03-01</td>\n",
              "      <td>2013-03-14 03:03:46</td>\n",
              "      <td>That's a lie fed to you by the LIEberal media....</td>\n",
              "    </tr>\n",
              "    <tr>\n",
              "      <th>2</th>\n",
              "      <td>604170</td>\n",
              "      <td>1</td>\n",
              "      <td>Nah man, she's clearly an ad carry</td>\n",
              "      <td>jdswift13</td>\n",
              "      <td>leagueoflegends</td>\n",
              "      <td>1</td>\n",
              "      <td>1</td>\n",
              "      <td>0</td>\n",
              "      <td>2015-10-01</td>\n",
              "      <td>2015-10-21 23:22:17</td>\n",
              "      <td>she isnt already?</td>\n",
              "    </tr>\n",
              "    <tr>\n",
              "      <th>3</th>\n",
              "      <td>110635</td>\n",
              "      <td>1</td>\n",
              "      <td>This sub in a nutshell.</td>\n",
              "      <td>trickz-M-</td>\n",
              "      <td>GlobalOffensive</td>\n",
              "      <td>1</td>\n",
              "      <td>-1</td>\n",
              "      <td>-1</td>\n",
              "      <td>2016-12-01</td>\n",
              "      <td>2016-12-05 03:50:18</td>\n",
              "      <td>Cloud 9 Qualify! (ONLY C9 FANS ALLOWED(</td>\n",
              "    </tr>\n",
              "    <tr>\n",
              "      <th>4</th>\n",
              "      <td>997758</td>\n",
              "      <td>0</td>\n",
              "      <td>Yes... I do.</td>\n",
              "      <td>guriboysf</td>\n",
              "      <td>videos</td>\n",
              "      <td>4</td>\n",
              "      <td>4</td>\n",
              "      <td>0</td>\n",
              "      <td>2010-01-01</td>\n",
              "      <td>2010-01-17 21:32:40</td>\n",
              "      <td>\"so, i hear you have a fat cock.\"</td>\n",
              "    </tr>\n",
              "  </tbody>\n",
              "</table>\n",
              "</div>\n",
              "    <div class=\"colab-df-buttons\">\n",
              "\n",
              "  <div class=\"colab-df-container\">\n",
              "    <button class=\"colab-df-convert\" onclick=\"convertToInteractive('df-20be603e-5b45-4139-9881-271a2e325e14')\"\n",
              "            title=\"Convert this dataframe to an interactive table.\"\n",
              "            style=\"display:none;\">\n",
              "\n",
              "  <svg xmlns=\"http://www.w3.org/2000/svg\" height=\"24px\" viewBox=\"0 -960 960 960\">\n",
              "    <path d=\"M120-120v-720h720v720H120Zm60-500h600v-160H180v160Zm220 220h160v-160H400v160Zm0 220h160v-160H400v160ZM180-400h160v-160H180v160Zm440 0h160v-160H620v160ZM180-180h160v-160H180v160Zm440 0h160v-160H620v160Z\"/>\n",
              "  </svg>\n",
              "    </button>\n",
              "\n",
              "  <style>\n",
              "    .colab-df-container {\n",
              "      display:flex;\n",
              "      gap: 12px;\n",
              "    }\n",
              "\n",
              "    .colab-df-convert {\n",
              "      background-color: #E8F0FE;\n",
              "      border: none;\n",
              "      border-radius: 50%;\n",
              "      cursor: pointer;\n",
              "      display: none;\n",
              "      fill: #1967D2;\n",
              "      height: 32px;\n",
              "      padding: 0 0 0 0;\n",
              "      width: 32px;\n",
              "    }\n",
              "\n",
              "    .colab-df-convert:hover {\n",
              "      background-color: #E2EBFA;\n",
              "      box-shadow: 0px 1px 2px rgba(60, 64, 67, 0.3), 0px 1px 3px 1px rgba(60, 64, 67, 0.15);\n",
              "      fill: #174EA6;\n",
              "    }\n",
              "\n",
              "    .colab-df-buttons div {\n",
              "      margin-bottom: 4px;\n",
              "    }\n",
              "\n",
              "    [theme=dark] .colab-df-convert {\n",
              "      background-color: #3B4455;\n",
              "      fill: #D2E3FC;\n",
              "    }\n",
              "\n",
              "    [theme=dark] .colab-df-convert:hover {\n",
              "      background-color: #434B5C;\n",
              "      box-shadow: 0px 1px 3px 1px rgba(0, 0, 0, 0.15);\n",
              "      filter: drop-shadow(0px 1px 2px rgba(0, 0, 0, 0.3));\n",
              "      fill: #FFFFFF;\n",
              "    }\n",
              "  </style>\n",
              "\n",
              "    <script>\n",
              "      const buttonEl =\n",
              "        document.querySelector('#df-20be603e-5b45-4139-9881-271a2e325e14 button.colab-df-convert');\n",
              "      buttonEl.style.display =\n",
              "        google.colab.kernel.accessAllowed ? 'block' : 'none';\n",
              "\n",
              "      async function convertToInteractive(key) {\n",
              "        const element = document.querySelector('#df-20be603e-5b45-4139-9881-271a2e325e14');\n",
              "        const dataTable =\n",
              "          await google.colab.kernel.invokeFunction('convertToInteractive',\n",
              "                                                    [key], {});\n",
              "        if (!dataTable) return;\n",
              "\n",
              "        const docLinkHtml = 'Like what you see? Visit the ' +\n",
              "          '<a target=\"_blank\" href=https://colab.research.google.com/notebooks/data_table.ipynb>data table notebook</a>'\n",
              "          + ' to learn more about interactive tables.';\n",
              "        element.innerHTML = '';\n",
              "        dataTable['output_type'] = 'display_data';\n",
              "        await google.colab.output.renderOutput(dataTable, element);\n",
              "        const docLink = document.createElement('div');\n",
              "        docLink.innerHTML = docLinkHtml;\n",
              "        element.appendChild(docLink);\n",
              "      }\n",
              "    </script>\n",
              "  </div>\n",
              "\n",
              "\n",
              "<div id=\"df-99df5b73-9fdb-4ed2-9239-1e7a719358ff\">\n",
              "  <button class=\"colab-df-quickchart\" onclick=\"quickchart('df-99df5b73-9fdb-4ed2-9239-1e7a719358ff')\"\n",
              "            title=\"Suggest charts\"\n",
              "            style=\"display:none;\">\n",
              "\n",
              "<svg xmlns=\"http://www.w3.org/2000/svg\" height=\"24px\"viewBox=\"0 0 24 24\"\n",
              "     width=\"24px\">\n",
              "    <g>\n",
              "        <path d=\"M19 3H5c-1.1 0-2 .9-2 2v14c0 1.1.9 2 2 2h14c1.1 0 2-.9 2-2V5c0-1.1-.9-2-2-2zM9 17H7v-7h2v7zm4 0h-2V7h2v10zm4 0h-2v-4h2v4z\"/>\n",
              "    </g>\n",
              "</svg>\n",
              "  </button>\n",
              "\n",
              "<style>\n",
              "  .colab-df-quickchart {\n",
              "      --bg-color: #E8F0FE;\n",
              "      --fill-color: #1967D2;\n",
              "      --hover-bg-color: #E2EBFA;\n",
              "      --hover-fill-color: #174EA6;\n",
              "      --disabled-fill-color: #AAA;\n",
              "      --disabled-bg-color: #DDD;\n",
              "  }\n",
              "\n",
              "  [theme=dark] .colab-df-quickchart {\n",
              "      --bg-color: #3B4455;\n",
              "      --fill-color: #D2E3FC;\n",
              "      --hover-bg-color: #434B5C;\n",
              "      --hover-fill-color: #FFFFFF;\n",
              "      --disabled-bg-color: #3B4455;\n",
              "      --disabled-fill-color: #666;\n",
              "  }\n",
              "\n",
              "  .colab-df-quickchart {\n",
              "    background-color: var(--bg-color);\n",
              "    border: none;\n",
              "    border-radius: 50%;\n",
              "    cursor: pointer;\n",
              "    display: none;\n",
              "    fill: var(--fill-color);\n",
              "    height: 32px;\n",
              "    padding: 0;\n",
              "    width: 32px;\n",
              "  }\n",
              "\n",
              "  .colab-df-quickchart:hover {\n",
              "    background-color: var(--hover-bg-color);\n",
              "    box-shadow: 0 1px 2px rgba(60, 64, 67, 0.3), 0 1px 3px 1px rgba(60, 64, 67, 0.15);\n",
              "    fill: var(--button-hover-fill-color);\n",
              "  }\n",
              "\n",
              "  .colab-df-quickchart-complete:disabled,\n",
              "  .colab-df-quickchart-complete:disabled:hover {\n",
              "    background-color: var(--disabled-bg-color);\n",
              "    fill: var(--disabled-fill-color);\n",
              "    box-shadow: none;\n",
              "  }\n",
              "\n",
              "  .colab-df-spinner {\n",
              "    border: 2px solid var(--fill-color);\n",
              "    border-color: transparent;\n",
              "    border-bottom-color: var(--fill-color);\n",
              "    animation:\n",
              "      spin 1s steps(1) infinite;\n",
              "  }\n",
              "\n",
              "  @keyframes spin {\n",
              "    0% {\n",
              "      border-color: transparent;\n",
              "      border-bottom-color: var(--fill-color);\n",
              "      border-left-color: var(--fill-color);\n",
              "    }\n",
              "    20% {\n",
              "      border-color: transparent;\n",
              "      border-left-color: var(--fill-color);\n",
              "      border-top-color: var(--fill-color);\n",
              "    }\n",
              "    30% {\n",
              "      border-color: transparent;\n",
              "      border-left-color: var(--fill-color);\n",
              "      border-top-color: var(--fill-color);\n",
              "      border-right-color: var(--fill-color);\n",
              "    }\n",
              "    40% {\n",
              "      border-color: transparent;\n",
              "      border-right-color: var(--fill-color);\n",
              "      border-top-color: var(--fill-color);\n",
              "    }\n",
              "    60% {\n",
              "      border-color: transparent;\n",
              "      border-right-color: var(--fill-color);\n",
              "    }\n",
              "    80% {\n",
              "      border-color: transparent;\n",
              "      border-right-color: var(--fill-color);\n",
              "      border-bottom-color: var(--fill-color);\n",
              "    }\n",
              "    90% {\n",
              "      border-color: transparent;\n",
              "      border-bottom-color: var(--fill-color);\n",
              "    }\n",
              "  }\n",
              "</style>\n",
              "\n",
              "  <script>\n",
              "    async function quickchart(key) {\n",
              "      const quickchartButtonEl =\n",
              "        document.querySelector('#' + key + ' button');\n",
              "      quickchartButtonEl.disabled = true;  // To prevent multiple clicks.\n",
              "      quickchartButtonEl.classList.add('colab-df-spinner');\n",
              "      try {\n",
              "        const charts = await google.colab.kernel.invokeFunction(\n",
              "            'suggestCharts', [key], {});\n",
              "      } catch (error) {\n",
              "        console.error('Error during call to suggestCharts:', error);\n",
              "      }\n",
              "      quickchartButtonEl.classList.remove('colab-df-spinner');\n",
              "      quickchartButtonEl.classList.add('colab-df-quickchart-complete');\n",
              "    }\n",
              "    (() => {\n",
              "      let quickchartButtonEl =\n",
              "        document.querySelector('#df-99df5b73-9fdb-4ed2-9239-1e7a719358ff button');\n",
              "      quickchartButtonEl.style.display =\n",
              "        google.colab.kernel.accessAllowed ? 'block' : 'none';\n",
              "    })();\n",
              "  </script>\n",
              "</div>\n",
              "\n",
              "    </div>\n",
              "  </div>\n"
            ],
            "application/vnd.google.colaboratory.intrinsic+json": {
              "type": "dataframe",
              "variable_name": "train_bal"
            }
          },
          "metadata": {},
          "execution_count": 2
        }
      ]
    },
    {
      "cell_type": "code",
      "source": [
        "# import numpy as np\n",
        "# from nltk.tokenize import word_tokenize\n",
        "# from gensim.models import KeyedVectors\n",
        "# import nltk\n",
        "# nltk.download('punkt')\n",
        "\n",
        "# # Load GloVe word vectors\n",
        "# glove_file = '/content/drive/MyDrive/Sarcasm_Data/glove.6B.100d.txt'  # Adjust the path to your downloaded GloVe file\n",
        "# word_vectors = KeyedVectors.load_word2vec_format(glove_file, binary=False, no_header=True)\n",
        "\n",
        "# # Function to obtain word vectors for a sentence\n",
        "# def get_sentence_embedding(sentence):\n",
        "#     words = word_tokenize(sentence)  # Tokenize sentence into words\n",
        "#     word_embeddings = []\n",
        "#     for word in words:\n",
        "#         try:\n",
        "#             word_embeddings.append(word_vectors[word])  # Get GloVe vector for word\n",
        "#         except KeyError:\n",
        "#             # Handle out-of-vocabulary words\n",
        "#             pass\n",
        "#     if len(word_embeddings) == 0:\n",
        "#         # Handle case where all words are out-of-vocabulary\n",
        "#         return np.zeros(word_vectors.vector_size)\n",
        "#     else:\n",
        "#         # Aggregate word vectors (take sum)\n",
        "#         return np.sum(word_embeddings, axis=0)\n",
        "\n",
        "# # Apply to comment and parent comment\n",
        "# comment_vectors = train_bal['comment'].apply(get_sentence_embedding)\n",
        "# parent_comment_vectors = train_bal['parent_comment'].apply(get_sentence_embedding)\n",
        "\n",
        "# Convert comment_vectors and parent_comment_vectors to NumPy arrays\n",
        "# comment_vectors_np = np.array(comment_vectors.tolist())\n",
        "# parent_comment_vectors_np = np.array(parent_comment_vectors.tolist())\n",
        "\n",
        "# # Save the NumPy arrays to files\n",
        "# np.save('/content/drive/MyDrive/Sarcasm_Data/comment_vectors.npy', comment_vectors_np)\n",
        "# np.save('/content/drive/MyDrive/Sarcasm_Data/parent_comment_vectors.npy', parent_comment_vectors_np)"
      ],
      "metadata": {
        "id": "jWiKndy5C6S1"
      },
      "execution_count": 15,
      "outputs": []
    },
    {
      "cell_type": "code",
      "source": [
        "# Load the saved NumPy arrays\n",
        "comment_vectors = np.load('/content/drive/MyDrive/Sarcasm_Data/comment_vectors.npy')\n",
        "parent_comment_vectors = np.load('/content/drive/MyDrive/Sarcasm_Data/parent_comment_vectors.npy')"
      ],
      "metadata": {
        "id": "QRV3Uy9UICj-"
      },
      "execution_count": 3,
      "outputs": []
    },
    {
      "cell_type": "code",
      "source": [
        "print(comment_vectors.shape)\n",
        "print(parent_comment_vectors.shape)"
      ],
      "metadata": {
        "colab": {
          "base_uri": "https://localhost:8080/"
        },
        "id": "7xOzAlyxJh__",
        "outputId": "5c58f18c-a5e4-43b9-f522-6c6ef3ba3ed9"
      },
      "execution_count": 4,
      "outputs": [
        {
          "output_type": "stream",
          "name": "stdout",
          "text": [
            "(808618, 100)\n",
            "(808618, 100)\n"
          ]
        }
      ]
    },
    {
      "cell_type": "code",
      "source": [
        "print(comment_vectors[0])\n",
        "print('-'*100)\n",
        "print(parent_comment_vectors[0])"
      ],
      "metadata": {
        "colab": {
          "base_uri": "https://localhost:8080/"
        },
        "id": "RCj-7Jj3JjOJ",
        "outputId": "b1268d09-0c13-4cb6-b769-2c27f3b6fee5"
      },
      "execution_count": 5,
      "outputs": [
        {
          "output_type": "stream",
          "name": "stdout",
          "text": [
            "[-7.95173943e-01  3.14127636e+00  2.78570318e+00 -5.05811024e+00\n",
            " -5.42068005e-01  3.63985920e+00 -1.27075803e+00  1.66128492e+00\n",
            "  3.84848982e-01 -5.39201796e-01  1.56411278e+00 -4.96732265e-01\n",
            "  3.14057279e+00 -1.09438193e+00  1.24003977e-01 -4.92372990e+00\n",
            "  1.95057189e+00  1.45621693e+00 -5.86305523e+00  3.62457490e+00\n",
            "  2.70052624e+00  2.39906836e+00  1.30075109e+00 -1.94248295e+00\n",
            "  4.43695879e+00  5.67565024e-01 -4.04613018e+00 -4.17990780e+00\n",
            "  2.51732898e+00 -2.02238202e+00 -4.93887007e-01  7.83402014e+00\n",
            "  1.92612505e+00  3.37638760e+00  1.19841099e+00  2.33827353e+00\n",
            " -1.06820077e-01  4.66233015e+00  1.24715900e+00 -3.10010982e+00\n",
            " -3.65968680e+00 -2.88997602e+00  4.48291922e+00 -5.16998005e+00\n",
            " -4.32980001e-01 -1.64014041e-01  3.90807080e+00 -3.62764406e+00\n",
            "  1.86569667e+00 -1.19882402e+01  2.76568204e-01 -2.21814656e+00\n",
            "  2.40661955e+00  1.25513506e+01 -2.04660821e+00 -3.07382088e+01\n",
            " -9.85192060e-02  5.29608965e-01  1.64236794e+01  8.33390999e+00\n",
            " -9.90572035e-01  1.01262293e+01 -5.51144171e+00  1.27350235e+00\n",
            "  9.80021000e+00 -2.77950025e+00  8.05648518e+00  4.56785011e+00\n",
            "  1.56188107e+00  4.03987914e-01  1.38067400e+00 -3.48511577e+00\n",
            "  5.78177989e-01 -2.72719693e+00  1.20745397e+00  2.79291177e+00\n",
            " -6.48575962e-01 -2.50220001e-02 -1.01622009e+01  1.89497089e+00\n",
            "  7.94438982e+00  9.73711014e-01 -5.77689505e+00  2.54203796e-01\n",
            " -1.82186203e+01 -4.89910984e+00 -1.17492509e+00 -3.34603620e+00\n",
            " -3.99891782e+00 -5.57610989e+00 -4.09482062e-01 -4.36970425e+00\n",
            "  7.25854039e-01  1.25175190e+00 -7.29954386e+00  5.87913990e-01\n",
            " -4.51064205e+00 -4.12998629e+00  5.59506273e+00  3.52249193e+00]\n",
            "----------------------------------------------------------------------------------------------------\n",
            "[  -6.45141554   10.62220478   21.36541939  -22.61557961    0.27064675\n",
            "   17.80076981   -8.00616646   10.81078529   -4.19529915   -0.75270176\n",
            "    5.97754478    3.27354002   14.99562359    0.91880578    9.20004272\n",
            "  -22.17715454   13.84591961    5.55279732  -35.88007736   15.58642387\n",
            "   19.8537159    -7.52998352   18.32880783    5.70689631   14.37128544\n",
            "   -3.0309062    -9.42590237  -32.03544998   13.90989971   -9.86495304\n",
            "   -1.73210871   37.07268524   -7.81048536    4.87950039   -1.54337645\n",
            "   21.02444267   -2.0448339    15.89016056   -2.99823999  -11.50785637\n",
            "  -30.78156853  -13.59989357    6.79149914  -28.43291855   -9.75974464\n",
            "   -2.4178257    12.80748844  -23.69897079   -4.22813702  -56.01848221\n",
            "   -1.35161519   -7.73641968    9.85395908   79.48160553  -15.84952736\n",
            " -162.96508789   -4.84318209  -16.68033409  106.38171387   35.82902908\n",
            "  -18.16607285   51.0105896   -16.30660629    5.14722967   55.04941559\n",
            "   -1.1661284    29.90062714   25.46911049    9.5597105    -9.28812408\n",
            "   -6.18693876  -28.31957626   -9.87862587  -24.71577072    9.68878269\n",
            "    2.68926978  -10.54745674   -0.35068822  -57.68596268   -4.61003685\n",
            "   42.05381393    1.83460593  -33.23879242    5.76612616  -92.20313263\n",
            "  -14.30464268    6.5310154    -7.74765968   -9.81037807  -24.44003105\n",
            "   -4.75809383  -15.41175747   -5.88770533    9.15144444  -39.472229\n",
            "   -2.27934933  -13.94301128  -15.30041313   29.74198723    8.53223038]\n"
          ]
        }
      ]
    },
    {
      "cell_type": "code",
      "source": [
        "# Add the embeddings to train_bal DataFrame\n",
        "train_bal['comment_embedding'] = comment_vectors.tolist()\n",
        "train_bal['parent_comment_embedding'] = parent_comment_vectors.tolist()\n",
        "\n",
        "# Split the data into features and target\n",
        "X = train_bal[['comment_embedding', 'parent_comment_embedding']]  # Features\n",
        "y = train_bal['label']  # Target\n",
        "\n",
        "# Convert lists to numpy arrays\n",
        "X['comment_embedding'] = X['comment_embedding'].apply(np.array)\n",
        "X['parent_comment_embedding'] = X['parent_comment_embedding'].apply(np.array)"
      ],
      "metadata": {
        "colab": {
          "base_uri": "https://localhost:8080/"
        },
        "id": "qp5aDoMnOWsx",
        "outputId": "6c13c003-6e8c-437c-9d88-fabad03b6ba7"
      },
      "execution_count": 6,
      "outputs": [
        {
          "output_type": "stream",
          "name": "stderr",
          "text": [
            "<ipython-input-6-a3b503bd4c31>:10: SettingWithCopyWarning: \n",
            "A value is trying to be set on a copy of a slice from a DataFrame.\n",
            "Try using .loc[row_indexer,col_indexer] = value instead\n",
            "\n",
            "See the caveats in the documentation: https://pandas.pydata.org/pandas-docs/stable/user_guide/indexing.html#returning-a-view-versus-a-copy\n",
            "  X['comment_embedding'] = X['comment_embedding'].apply(np.array)\n",
            "<ipython-input-6-a3b503bd4c31>:11: SettingWithCopyWarning: \n",
            "A value is trying to be set on a copy of a slice from a DataFrame.\n",
            "Try using .loc[row_indexer,col_indexer] = value instead\n",
            "\n",
            "See the caveats in the documentation: https://pandas.pydata.org/pandas-docs/stable/user_guide/indexing.html#returning-a-view-versus-a-copy\n",
            "  X['parent_comment_embedding'] = X['parent_comment_embedding'].apply(np.array)\n"
          ]
        }
      ]
    },
    {
      "cell_type": "code",
      "source": [
        "from sklearn.model_selection import train_test_split\n",
        "from sklearn.preprocessing import StandardScaler\n",
        "\n",
        "X_train, X_val, y_train, y_val = train_test_split(X, y, test_size=0.2, random_state=22)\n",
        "\n",
        "scaler = StandardScaler()\n",
        "X_train_scaled = np.vstack(X_train['comment_embedding'].to_numpy())\n",
        "X_val_scaled = np.vstack(X_val['comment_embedding'].to_numpy())\n",
        "X_train = scaler.fit_transform(X_train_scaled)\n",
        "X_val = scaler.transform(np.vstack(X_val['comment_embedding'].to_numpy()))"
      ],
      "metadata": {
        "id": "FsqlDoZNONcG"
      },
      "execution_count": 7,
      "outputs": []
    },
    {
      "cell_type": "code",
      "source": [
        "X_train = X_train.reshape(X_train.shape[0], X_train.shape[1], 1)\n",
        "X_val = X_val.reshape(X_val.shape[0], X_val.shape[1], 1)"
      ],
      "metadata": {
        "id": "6vB3SEEPQx9I"
      },
      "execution_count": 10,
      "outputs": []
    },
    {
      "cell_type": "code",
      "source": [
        "from keras.models import Sequential\n",
        "from keras.layers import LSTM, Dense\n",
        "\n",
        "# Define the model\n",
        "model = Sequential([\n",
        "    LSTM(units=128, input_shape=(X_train.shape[1], X_train.shape[2])),\n",
        "    Dense(units=1, activation='sigmoid')\n",
        "])\n",
        "\n",
        "# Compile the model\n",
        "model.compile(optimizer='adam', loss='binary_crossentropy', metrics=['accuracy'])\n",
        "\n",
        "# Display the model summary\n",
        "model.summary()"
      ],
      "metadata": {
        "colab": {
          "base_uri": "https://localhost:8080/"
        },
        "id": "Okq0KKteQbWN",
        "outputId": "d9fb14aa-eb2c-47ac-f8b0-7342df745a7d"
      },
      "execution_count": 11,
      "outputs": [
        {
          "output_type": "stream",
          "name": "stdout",
          "text": [
            "Model: \"sequential_1\"\n",
            "_________________________________________________________________\n",
            " Layer (type)                Output Shape              Param #   \n",
            "=================================================================\n",
            " lstm_1 (LSTM)               (None, 128)               66560     \n",
            "                                                                 \n",
            " dense_1 (Dense)             (None, 1)                 129       \n",
            "                                                                 \n",
            "=================================================================\n",
            "Total params: 66689 (260.50 KB)\n",
            "Trainable params: 66689 (260.50 KB)\n",
            "Non-trainable params: 0 (0.00 Byte)\n",
            "_________________________________________________________________\n"
          ]
        }
      ]
    },
    {
      "cell_type": "code",
      "source": [
        "from keras.callbacks import EarlyStopping\n",
        "\n",
        "# Define early stopping callback\n",
        "early_stopping = EarlyStopping(patience=3, restore_best_weights=True)\n",
        "\n",
        "# Train the model\n",
        "history = model.fit([comment_vectors, parent_comment_vectors], y_train, validation_split=0.2,\n",
        "                    batch_size=64, epochs=20, callbacks=[early_stopping])"
      ],
      "metadata": {
        "id": "3_iiaKYiJw9X"
      },
      "execution_count": null,
      "outputs": []
    },
    {
      "cell_type": "code",
      "source": [
        "# Evaluate the model on validation data\n",
        "loss, accuracy = model.evaluate(X_val, y_val)\n",
        "print('Validation Loss:', loss)\n",
        "print('Validation Accuracy:', accuracy)"
      ],
      "metadata": {
        "id": "OuN0A6p-RQC3"
      },
      "execution_count": null,
      "outputs": []
    }
  ]
}