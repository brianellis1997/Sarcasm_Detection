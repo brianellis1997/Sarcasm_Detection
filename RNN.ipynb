{
  "nbformat": 4,
  "nbformat_minor": 0,
  "metadata": {
    "colab": {
      "provenance": [],
      "authorship_tag": "ABX9TyO8gaFdh+nfD8WJIKvvZbxI",
      "include_colab_link": true
    },
    "kernelspec": {
      "name": "python3",
      "display_name": "Python 3"
    },
    "language_info": {
      "name": "python"
    }
  },
  "cells": [
    {
      "cell_type": "markdown",
      "metadata": {
        "id": "view-in-github",
        "colab_type": "text"
      },
      "source": [
        "<a href=\"https://colab.research.google.com/github/brianellis1997/Sarcasm_Detection/blob/Elena/RNN.ipynb\" target=\"_parent\"><img src=\"https://colab.research.google.com/assets/colab-badge.svg\" alt=\"Open In Colab\"/></a>"
      ]
    },
    {
      "cell_type": "markdown",
      "source": [
        "##RNN Notebook\n",
        "connect to github and load packages"
      ],
      "metadata": {
        "id": "ZY4eOazp5NMF"
      }
    },
    {
      "cell_type": "code",
      "source": [
        "!git clone https://github.com/brianellis1997/Sarcasm_Detection.git"
      ],
      "metadata": {
        "id": "iusvpFiF5Qvt"
      },
      "execution_count": null,
      "outputs": []
    },
    {
      "cell_type": "code",
      "source": [
        "from google.colab import drive\n",
        "drive.mount('/content/drive')"
      ],
      "metadata": {
        "id": "st_DqWob5Sz-"
      },
      "execution_count": null,
      "outputs": []
    },
    {
      "cell_type": "code",
      "source": [
        "train_bal = pd.read_csv('/content/drive/MyDrive/Sarcasm_Data/Train_Balanced.csv')   # Make sure path is correct in your google drive\n",
        "train_bal.head()"
      ],
      "metadata": {
        "id": "Xn7sxlWd5UWg"
      },
      "execution_count": null,
      "outputs": []
    },
    {
      "cell_type": "code",
      "source": [
        "train_bal['date'] = pd.to_datetime(train_bal['date']) # Run this to convert date to date_time\n",
        "train_bal['created_utc'] = pd.to_datetime(train_bal['created_utc']) # Run this to convert created_utc to date_time\n",
        "train_bal['hour'] = train_bal['created_utc'].dt.hour # Run this to feature engineer hour variable\n",
        "train_bal['month'] = train_bal['date'].dt.month # Run this cell to add month and day of week variables\n",
        "train_bal['dow'] = train_bal['date'].dt.day_of_week\n",
        "train_bal.info()"
      ],
      "metadata": {
        "id": "NzgztJJO5V8b"
      },
      "execution_count": null,
      "outputs": []
    },
    {
      "cell_type": "code",
      "source": [
        "# Drop unneeded columns\n",
        "train = train_bal.drop(columns=['Unnamed: 0', 'date', 'created_utc', 'author'])\n",
        "train.info()"
      ],
      "metadata": {
        "id": "Zu6WmptX5arF"
      },
      "execution_count": null,
      "outputs": []
    },
    {
      "cell_type": "code",
      "source": [
        "X = train.drop(columns=['label', 'comment', 'parent_comment', 'subreddit'])\n",
        "y = train['label']"
      ],
      "metadata": {
        "id": "I1kGfoBr5cp-"
      },
      "execution_count": null,
      "outputs": []
    },
    {
      "cell_type": "code",
      "source": [
        "sc = StandardScaler() # Scale variables\n",
        "\n",
        "X = sc.fit_transform(X)\n",
        "X = pd.DataFrame(X)\n",
        "train_cat = pd.concat([train, X], axis=1)"
      ],
      "metadata": {
        "id": "BhCEKXZi5eJx"
      },
      "execution_count": null,
      "outputs": []
    },
    {
      "cell_type": "code",
      "source": [
        "train_cat.drop(columns=['score', 'ups', 'downs', 'hour', 'month', 'dow', 'label', 'subreddit'], inplace=True)\n",
        "# train_cat.rename(columns={'0':'score', '1':'ups', '2':'downs', '3':'hour', '4':'month', '5':'dow'}, inplace=True)\n",
        "train_cat.info()"
      ],
      "metadata": {
        "id": "XMYXkBuM5gFg"
      },
      "execution_count": null,
      "outputs": []
    },
    {
      "cell_type": "code",
      "source": [],
      "metadata": {
        "id": "CPWCDE735jZJ"
      },
      "execution_count": null,
      "outputs": []
    }
  ]
}