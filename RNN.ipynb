{
  "cells": [
    {
      "cell_type": "markdown",
      "metadata": {
        "id": "view-in-github",
        "colab_type": "text"
      },
      "source": [
        "<a href=\"https://colab.research.google.com/github/brianellis1997/Sarcasm_Detection/blob/Elena/RNN.ipynb\" target=\"_parent\"><img src=\"https://colab.research.google.com/assets/colab-badge.svg\" alt=\"Open In Colab\"/></a>"
      ]
    },
    {
      "cell_type": "markdown",
      "source": [
        "##RNN Notebook\n",
        "connect to github and load packages"
      ],
      "metadata": {
        "id": "5PaYzwCO2D1F"
      }
    },
    {
      "cell_type": "code",
      "source": [
        "!git clone https://github.com/brianellis1997/Sarcasm_Detection.git"
      ],
      "metadata": {
        "id": "5eG-paiH2U7X"
      },
      "execution_count": null,
      "outputs": []
    },
    {
      "cell_type": "code",
      "source": [
        "from google.colab import drive\n",
        "drive.mount('/content/drive')"
      ],
      "metadata": {
        "id": "y4qu2BbI2ZGu"
      },
      "execution_count": null,
      "outputs": []
    },
    {
      "cell_type": "code",
      "source": [
        "train_bal = pd.read_csv('/content/drive/MyDrive/Sarcasm_Data/Train_Balanced.csv')   # Make sure path is correct in your google drive\n",
        "train_bal.head()"
      ],
      "metadata": {
        "id": "k30JyrIq2bFP"
      },
      "execution_count": null,
      "outputs": []
    },
    {
      "cell_type": "code",
      "source": [
        "from sklearn.model_selection import train_test_split\n",
        "from sklearn.preprocessing import StandardScaler\n",
        "import re, string, time, nltk\n",
        "import numpy as np\n",
        "nltk.download('omw-1.4')\n",
        "nltk.download('wordnet')\n",
        "nltk.download('stopwords')\n",
        "from nltk.corpus import stopwords as stopwordprovider\n",
        "from nltk.stem.porter import PorterStemmer\n",
        "from nltk.stem import WordNetLemmatizer"
      ],
      "metadata": {
        "id": "xCE9U0nH2mni"
      },
      "execution_count": null,
      "outputs": []
    },
    {
      "cell_type": "code",
      "source": [
        "train_bal['date'] = pd.to_datetime(train_bal['date']) # Run this to convert date to date_time\n",
        "train_bal['created_utc'] = pd.to_datetime(train_bal['created_utc']) # Run this to convert created_utc to date_time\n",
        "train_bal['hour'] = train_bal['created_utc'].dt.hour # Run this to feature engineer hour variable\n",
        "train_bal['month'] = train_bal['date'].dt.month # Run this cell to add month and day of week variables\n",
        "train_bal['dow'] = train_bal['date'].dt.day_of_week\n",
        "train_bal.info()"
      ],
      "metadata": {
        "id": "CCU6Ldxy21v7"
      },
      "execution_count": null,
      "outputs": []
    },
    {
      "cell_type": "code",
      "source": [
        "# Drop unneeded columns\n",
        "train = train_bal.drop(columns=['Unnamed: 0', 'date', 'created_utc', 'author'])\n",
        "train.info()"
      ],
      "metadata": {
        "id": "jKRflhFV26xr"
      },
      "execution_count": null,
      "outputs": []
    },
    {
      "cell_type": "code",
      "source": [
        "X = train.drop(columns=['label', 'comment', 'parent_comment', 'subreddit'])\n",
        "y = train['label']"
      ],
      "metadata": {
        "id": "bXdu57AM4Dxt"
      },
      "execution_count": null,
      "outputs": []
    },
    {
      "cell_type": "code",
      "source": [
        "sc = StandardScaler() # Scale variables\n",
        "\n",
        "X = sc.fit_transform(X)\n",
        "X = pd.DataFrame(X)\n",
        "train_cat = pd.concat([train, X], axis=1)"
      ],
      "metadata": {
        "id": "kg76DRoR4EmV"
      },
      "execution_count": null,
      "outputs": []
    },
    {
      "cell_type": "code",
      "source": [
        "train_cat.drop(columns=['score', 'ups', 'downs', 'hour', 'month', 'dow', 'label', 'subreddit'], inplace=True)\n",
        "# train_cat.rename(columns={'0':'score', '1':'ups', '2':'downs', '3':'hour', '4':'month', '5':'dow'}, inplace=True)\n",
        "train_cat.info()"
      ],
      "metadata": {
        "id": "B63bRTOK4Hnk"
      },
      "execution_count": null,
      "outputs": []
    },
    {
      "cell_type": "code",
      "source": [
        "train_encoded = train_cat\n",
        "train_encoded.shape"
      ],
      "metadata": {
        "id": "BIoLBo_T4KS4"
      },
      "execution_count": null,
      "outputs": []
    },
    {
      "cell_type": "code",
      "source": [
        "train_encoded.head()"
      ],
      "metadata": {
        "id": "WD_PD8ZW4M5E"
      },
      "execution_count": null,
      "outputs": []
    },
    {
      "cell_type": "code",
      "source": [],
      "metadata": {
        "id": "l1tf-Pda4NxO"
      },
      "execution_count": null,
      "outputs": []
    }
  ],
  "metadata": {
    "colab": {
      "name": "Welcome To Colaboratory",
      "provenance": [],
      "include_colab_link": true
    },
    "kernelspec": {
      "display_name": "Python 3",
      "name": "python3"
    }
  },
  "nbformat": 4,
  "nbformat_minor": 0
}