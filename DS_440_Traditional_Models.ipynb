{
  "nbformat": 4,
  "nbformat_minor": 0,
  "metadata": {
    "colab": {
      "provenance": [],
      "machine_shape": "hm",
      "gpuType": "A100",
      "include_colab_link": true
    },
    "kernelspec": {
      "name": "python3",
      "display_name": "Python 3"
    },
    "language_info": {
      "name": "python"
    },
    "accelerator": "GPU"
  },
  "cells": [
    {
      "cell_type": "markdown",
      "metadata": {
        "id": "view-in-github",
        "colab_type": "text"
      },
      "source": [
        "<a href=\"https://colab.research.google.com/github/brianellis1997/Sarcasm_Detection/blob/Lindsey/DS_440_Traditional_Models.ipynb\" target=\"_parent\"><img src=\"https://colab.research.google.com/assets/colab-badge.svg\" alt=\"Open In Colab\"/></a>"
      ]
    },
    {
      "cell_type": "markdown",
      "source": [
        "# Sarcasm Detection using NLP Techniques\n",
        "### Team 2: Brian Ellis, Lindsey Rich, Elena Kern"
      ],
      "metadata": {
        "id": "83CHGfhCqBUr"
      }
    },
    {
      "cell_type": "markdown",
      "source": [
        "## Load Libraries and Dataset"
      ],
      "metadata": {
        "id": "Mf7bmmcfetuI"
      }
    },
    {
      "cell_type": "code",
      "execution_count": 2,
      "metadata": {
        "id": "gB0K8GssUbrq"
      },
      "outputs": [],
      "source": [
        "import pandas as pd\n",
        "import torch\n",
        "from wordcloud import WordCloud\n",
        "import matplotlib.pyplot as plt\n",
        "from sklearn.model_selection import train_test_split\n",
        "\n",
        "#test comment"
      ]
    },
    {
      "cell_type": "code",
      "source": [
        "import torch.nn as nn\n",
        "from torch.nn.utils.rnn import pack_padded_sequence, pad_packed_sequence\n",
        "import torch.optim as optim\n",
        "from sklearn.metrics import accuracy_score, classification_report, confusion_matrix\n",
        "import seaborn as sns"
      ],
      "metadata": {
        "id": "VvT3qX6GYCVV"
      },
      "execution_count": 3,
      "outputs": []
    },
    {
      "cell_type": "code",
      "source": [
        "!git clone https://github.com/brianellis1997/Sarcasm_Detection.git"
      ],
      "metadata": {
        "colab": {
          "base_uri": "https://localhost:8080/"
        },
        "id": "Xqvo69MVYiV-",
        "outputId": "bfd3d59c-a31d-4b23-e46c-27122696c030"
      },
      "execution_count": 4,
      "outputs": [
        {
          "output_type": "stream",
          "name": "stdout",
          "text": [
            "Cloning into 'Sarcasm_Detection'...\n",
            "remote: Enumerating objects: 122, done.\u001b[K\n",
            "remote: Counting objects: 100% (122/122), done.\u001b[K\n",
            "remote: Compressing objects: 100% (122/122), done.\u001b[K\n",
            "remote: Total 122 (delta 61), reused 3 (delta 0), pack-reused 0\u001b[K\n",
            "Receiving objects: 100% (122/122), 3.99 MiB | 8.84 MiB/s, done.\n",
            "Resolving deltas: 100% (61/61), done.\n"
          ]
        }
      ]
    },
    {
      "cell_type": "code",
      "source": [
        "from google.colab import drive\n",
        "drive.mount('/content/drive')"
      ],
      "metadata": {
        "id": "kFqAxbBlhxGs",
        "outputId": "4778079e-d6e2-4bbf-ff37-cd9cc9d08a67",
        "colab": {
          "base_uri": "https://localhost:8080/"
        }
      },
      "execution_count": 5,
      "outputs": [
        {
          "output_type": "stream",
          "name": "stdout",
          "text": [
            "Mounted at /content/drive\n"
          ]
        }
      ]
    },
    {
      "cell_type": "code",
      "source": [
        "train_bal = pd.read_csv('/content/drive/MyDrive/Sarcasm_Data/Train_Balanced.csv')   # Make sure path is correct in your google drive\n",
        "train_bal.head()"
      ],
      "metadata": {
        "colab": {
          "base_uri": "https://localhost:8080/",
          "height": 206
        },
        "id": "qQbpFOgeViuu",
        "outputId": "232ea48c-37f6-4c44-9750-7482ec7fc3a5"
      },
      "execution_count": 6,
      "outputs": [
        {
          "output_type": "execute_result",
          "data": {
            "text/plain": [
              "   Unnamed: 0  label                                            comment  \\\n",
              "0      522142      0  I personally wasn't a huge Garrosh fan, I've a...   \n",
              "1      907864      1                                     you forgot the   \n",
              "2      604170      1                 Nah man, she's clearly an ad carry   \n",
              "3      110635      1                            This sub in a nutshell.   \n",
              "4      997758      0                                       Yes... I do.   \n",
              "\n",
              "        author        subreddit  score  ups  downs        date  \\\n",
              "0  cromemako83        AskReddit      2    2      0  2015-07-01   \n",
              "1  _SharkWeek_        AskReddit      1    1      0  2013-03-01   \n",
              "2    jdswift13  leagueoflegends      1    1      0  2015-10-01   \n",
              "3    trickz-M-  GlobalOffensive      1   -1     -1  2016-12-01   \n",
              "4    guriboysf           videos      4    4      0  2010-01-01   \n",
              "\n",
              "           created_utc                                     parent_comment  \n",
              "0  2015-07-11 01:55:53  Fuck Vol'jin. Garrosh Hellscream did nothing w...  \n",
              "1  2013-03-14 03:03:46  That's a lie fed to you by the LIEberal media....  \n",
              "2  2015-10-21 23:22:17                                  she isnt already?  \n",
              "3  2016-12-05 03:50:18            Cloud 9 Qualify! (ONLY C9 FANS ALLOWED(  \n",
              "4  2010-01-17 21:32:40                  \"so, i hear you have a fat cock.\"  "
            ],
            "text/html": [
              "\n",
              "  <div id=\"df-a9bf878e-b932-4c7c-932e-9ad0bce9b926\" class=\"colab-df-container\">\n",
              "    <div>\n",
              "<style scoped>\n",
              "    .dataframe tbody tr th:only-of-type {\n",
              "        vertical-align: middle;\n",
              "    }\n",
              "\n",
              "    .dataframe tbody tr th {\n",
              "        vertical-align: top;\n",
              "    }\n",
              "\n",
              "    .dataframe thead th {\n",
              "        text-align: right;\n",
              "    }\n",
              "</style>\n",
              "<table border=\"1\" class=\"dataframe\">\n",
              "  <thead>\n",
              "    <tr style=\"text-align: right;\">\n",
              "      <th></th>\n",
              "      <th>Unnamed: 0</th>\n",
              "      <th>label</th>\n",
              "      <th>comment</th>\n",
              "      <th>author</th>\n",
              "      <th>subreddit</th>\n",
              "      <th>score</th>\n",
              "      <th>ups</th>\n",
              "      <th>downs</th>\n",
              "      <th>date</th>\n",
              "      <th>created_utc</th>\n",
              "      <th>parent_comment</th>\n",
              "    </tr>\n",
              "  </thead>\n",
              "  <tbody>\n",
              "    <tr>\n",
              "      <th>0</th>\n",
              "      <td>522142</td>\n",
              "      <td>0</td>\n",
              "      <td>I personally wasn't a huge Garrosh fan, I've a...</td>\n",
              "      <td>cromemako83</td>\n",
              "      <td>AskReddit</td>\n",
              "      <td>2</td>\n",
              "      <td>2</td>\n",
              "      <td>0</td>\n",
              "      <td>2015-07-01</td>\n",
              "      <td>2015-07-11 01:55:53</td>\n",
              "      <td>Fuck Vol'jin. Garrosh Hellscream did nothing w...</td>\n",
              "    </tr>\n",
              "    <tr>\n",
              "      <th>1</th>\n",
              "      <td>907864</td>\n",
              "      <td>1</td>\n",
              "      <td>you forgot the</td>\n",
              "      <td>_SharkWeek_</td>\n",
              "      <td>AskReddit</td>\n",
              "      <td>1</td>\n",
              "      <td>1</td>\n",
              "      <td>0</td>\n",
              "      <td>2013-03-01</td>\n",
              "      <td>2013-03-14 03:03:46</td>\n",
              "      <td>That's a lie fed to you by the LIEberal media....</td>\n",
              "    </tr>\n",
              "    <tr>\n",
              "      <th>2</th>\n",
              "      <td>604170</td>\n",
              "      <td>1</td>\n",
              "      <td>Nah man, she's clearly an ad carry</td>\n",
              "      <td>jdswift13</td>\n",
              "      <td>leagueoflegends</td>\n",
              "      <td>1</td>\n",
              "      <td>1</td>\n",
              "      <td>0</td>\n",
              "      <td>2015-10-01</td>\n",
              "      <td>2015-10-21 23:22:17</td>\n",
              "      <td>she isnt already?</td>\n",
              "    </tr>\n",
              "    <tr>\n",
              "      <th>3</th>\n",
              "      <td>110635</td>\n",
              "      <td>1</td>\n",
              "      <td>This sub in a nutshell.</td>\n",
              "      <td>trickz-M-</td>\n",
              "      <td>GlobalOffensive</td>\n",
              "      <td>1</td>\n",
              "      <td>-1</td>\n",
              "      <td>-1</td>\n",
              "      <td>2016-12-01</td>\n",
              "      <td>2016-12-05 03:50:18</td>\n",
              "      <td>Cloud 9 Qualify! (ONLY C9 FANS ALLOWED(</td>\n",
              "    </tr>\n",
              "    <tr>\n",
              "      <th>4</th>\n",
              "      <td>997758</td>\n",
              "      <td>0</td>\n",
              "      <td>Yes... I do.</td>\n",
              "      <td>guriboysf</td>\n",
              "      <td>videos</td>\n",
              "      <td>4</td>\n",
              "      <td>4</td>\n",
              "      <td>0</td>\n",
              "      <td>2010-01-01</td>\n",
              "      <td>2010-01-17 21:32:40</td>\n",
              "      <td>\"so, i hear you have a fat cock.\"</td>\n",
              "    </tr>\n",
              "  </tbody>\n",
              "</table>\n",
              "</div>\n",
              "    <div class=\"colab-df-buttons\">\n",
              "\n",
              "  <div class=\"colab-df-container\">\n",
              "    <button class=\"colab-df-convert\" onclick=\"convertToInteractive('df-a9bf878e-b932-4c7c-932e-9ad0bce9b926')\"\n",
              "            title=\"Convert this dataframe to an interactive table.\"\n",
              "            style=\"display:none;\">\n",
              "\n",
              "  <svg xmlns=\"http://www.w3.org/2000/svg\" height=\"24px\" viewBox=\"0 -960 960 960\">\n",
              "    <path d=\"M120-120v-720h720v720H120Zm60-500h600v-160H180v160Zm220 220h160v-160H400v160Zm0 220h160v-160H400v160ZM180-400h160v-160H180v160Zm440 0h160v-160H620v160ZM180-180h160v-160H180v160Zm440 0h160v-160H620v160Z\"/>\n",
              "  </svg>\n",
              "    </button>\n",
              "\n",
              "  <style>\n",
              "    .colab-df-container {\n",
              "      display:flex;\n",
              "      gap: 12px;\n",
              "    }\n",
              "\n",
              "    .colab-df-convert {\n",
              "      background-color: #E8F0FE;\n",
              "      border: none;\n",
              "      border-radius: 50%;\n",
              "      cursor: pointer;\n",
              "      display: none;\n",
              "      fill: #1967D2;\n",
              "      height: 32px;\n",
              "      padding: 0 0 0 0;\n",
              "      width: 32px;\n",
              "    }\n",
              "\n",
              "    .colab-df-convert:hover {\n",
              "      background-color: #E2EBFA;\n",
              "      box-shadow: 0px 1px 2px rgba(60, 64, 67, 0.3), 0px 1px 3px 1px rgba(60, 64, 67, 0.15);\n",
              "      fill: #174EA6;\n",
              "    }\n",
              "\n",
              "    .colab-df-buttons div {\n",
              "      margin-bottom: 4px;\n",
              "    }\n",
              "\n",
              "    [theme=dark] .colab-df-convert {\n",
              "      background-color: #3B4455;\n",
              "      fill: #D2E3FC;\n",
              "    }\n",
              "\n",
              "    [theme=dark] .colab-df-convert:hover {\n",
              "      background-color: #434B5C;\n",
              "      box-shadow: 0px 1px 3px 1px rgba(0, 0, 0, 0.15);\n",
              "      filter: drop-shadow(0px 1px 2px rgba(0, 0, 0, 0.3));\n",
              "      fill: #FFFFFF;\n",
              "    }\n",
              "  </style>\n",
              "\n",
              "    <script>\n",
              "      const buttonEl =\n",
              "        document.querySelector('#df-a9bf878e-b932-4c7c-932e-9ad0bce9b926 button.colab-df-convert');\n",
              "      buttonEl.style.display =\n",
              "        google.colab.kernel.accessAllowed ? 'block' : 'none';\n",
              "\n",
              "      async function convertToInteractive(key) {\n",
              "        const element = document.querySelector('#df-a9bf878e-b932-4c7c-932e-9ad0bce9b926');\n",
              "        const dataTable =\n",
              "          await google.colab.kernel.invokeFunction('convertToInteractive',\n",
              "                                                    [key], {});\n",
              "        if (!dataTable) return;\n",
              "\n",
              "        const docLinkHtml = 'Like what you see? Visit the ' +\n",
              "          '<a target=\"_blank\" href=https://colab.research.google.com/notebooks/data_table.ipynb>data table notebook</a>'\n",
              "          + ' to learn more about interactive tables.';\n",
              "        element.innerHTML = '';\n",
              "        dataTable['output_type'] = 'display_data';\n",
              "        await google.colab.output.renderOutput(dataTable, element);\n",
              "        const docLink = document.createElement('div');\n",
              "        docLink.innerHTML = docLinkHtml;\n",
              "        element.appendChild(docLink);\n",
              "      }\n",
              "    </script>\n",
              "  </div>\n",
              "\n",
              "\n",
              "<div id=\"df-ef05ac65-4c05-487b-b85a-b335740516a8\">\n",
              "  <button class=\"colab-df-quickchart\" onclick=\"quickchart('df-ef05ac65-4c05-487b-b85a-b335740516a8')\"\n",
              "            title=\"Suggest charts\"\n",
              "            style=\"display:none;\">\n",
              "\n",
              "<svg xmlns=\"http://www.w3.org/2000/svg\" height=\"24px\"viewBox=\"0 0 24 24\"\n",
              "     width=\"24px\">\n",
              "    <g>\n",
              "        <path d=\"M19 3H5c-1.1 0-2 .9-2 2v14c0 1.1.9 2 2 2h14c1.1 0 2-.9 2-2V5c0-1.1-.9-2-2-2zM9 17H7v-7h2v7zm4 0h-2V7h2v10zm4 0h-2v-4h2v4z\"/>\n",
              "    </g>\n",
              "</svg>\n",
              "  </button>\n",
              "\n",
              "<style>\n",
              "  .colab-df-quickchart {\n",
              "      --bg-color: #E8F0FE;\n",
              "      --fill-color: #1967D2;\n",
              "      --hover-bg-color: #E2EBFA;\n",
              "      --hover-fill-color: #174EA6;\n",
              "      --disabled-fill-color: #AAA;\n",
              "      --disabled-bg-color: #DDD;\n",
              "  }\n",
              "\n",
              "  [theme=dark] .colab-df-quickchart {\n",
              "      --bg-color: #3B4455;\n",
              "      --fill-color: #D2E3FC;\n",
              "      --hover-bg-color: #434B5C;\n",
              "      --hover-fill-color: #FFFFFF;\n",
              "      --disabled-bg-color: #3B4455;\n",
              "      --disabled-fill-color: #666;\n",
              "  }\n",
              "\n",
              "  .colab-df-quickchart {\n",
              "    background-color: var(--bg-color);\n",
              "    border: none;\n",
              "    border-radius: 50%;\n",
              "    cursor: pointer;\n",
              "    display: none;\n",
              "    fill: var(--fill-color);\n",
              "    height: 32px;\n",
              "    padding: 0;\n",
              "    width: 32px;\n",
              "  }\n",
              "\n",
              "  .colab-df-quickchart:hover {\n",
              "    background-color: var(--hover-bg-color);\n",
              "    box-shadow: 0 1px 2px rgba(60, 64, 67, 0.3), 0 1px 3px 1px rgba(60, 64, 67, 0.15);\n",
              "    fill: var(--button-hover-fill-color);\n",
              "  }\n",
              "\n",
              "  .colab-df-quickchart-complete:disabled,\n",
              "  .colab-df-quickchart-complete:disabled:hover {\n",
              "    background-color: var(--disabled-bg-color);\n",
              "    fill: var(--disabled-fill-color);\n",
              "    box-shadow: none;\n",
              "  }\n",
              "\n",
              "  .colab-df-spinner {\n",
              "    border: 2px solid var(--fill-color);\n",
              "    border-color: transparent;\n",
              "    border-bottom-color: var(--fill-color);\n",
              "    animation:\n",
              "      spin 1s steps(1) infinite;\n",
              "  }\n",
              "\n",
              "  @keyframes spin {\n",
              "    0% {\n",
              "      border-color: transparent;\n",
              "      border-bottom-color: var(--fill-color);\n",
              "      border-left-color: var(--fill-color);\n",
              "    }\n",
              "    20% {\n",
              "      border-color: transparent;\n",
              "      border-left-color: var(--fill-color);\n",
              "      border-top-color: var(--fill-color);\n",
              "    }\n",
              "    30% {\n",
              "      border-color: transparent;\n",
              "      border-left-color: var(--fill-color);\n",
              "      border-top-color: var(--fill-color);\n",
              "      border-right-color: var(--fill-color);\n",
              "    }\n",
              "    40% {\n",
              "      border-color: transparent;\n",
              "      border-right-color: var(--fill-color);\n",
              "      border-top-color: var(--fill-color);\n",
              "    }\n",
              "    60% {\n",
              "      border-color: transparent;\n",
              "      border-right-color: var(--fill-color);\n",
              "    }\n",
              "    80% {\n",
              "      border-color: transparent;\n",
              "      border-right-color: var(--fill-color);\n",
              "      border-bottom-color: var(--fill-color);\n",
              "    }\n",
              "    90% {\n",
              "      border-color: transparent;\n",
              "      border-bottom-color: var(--fill-color);\n",
              "    }\n",
              "  }\n",
              "</style>\n",
              "\n",
              "  <script>\n",
              "    async function quickchart(key) {\n",
              "      const quickchartButtonEl =\n",
              "        document.querySelector('#' + key + ' button');\n",
              "      quickchartButtonEl.disabled = true;  // To prevent multiple clicks.\n",
              "      quickchartButtonEl.classList.add('colab-df-spinner');\n",
              "      try {\n",
              "        const charts = await google.colab.kernel.invokeFunction(\n",
              "            'suggestCharts', [key], {});\n",
              "      } catch (error) {\n",
              "        console.error('Error during call to suggestCharts:', error);\n",
              "      }\n",
              "      quickchartButtonEl.classList.remove('colab-df-spinner');\n",
              "      quickchartButtonEl.classList.add('colab-df-quickchart-complete');\n",
              "    }\n",
              "    (() => {\n",
              "      let quickchartButtonEl =\n",
              "        document.querySelector('#df-ef05ac65-4c05-487b-b85a-b335740516a8 button');\n",
              "      quickchartButtonEl.style.display =\n",
              "        google.colab.kernel.accessAllowed ? 'block' : 'none';\n",
              "    })();\n",
              "  </script>\n",
              "</div>\n",
              "\n",
              "    </div>\n",
              "  </div>\n"
            ]
          },
          "metadata": {},
          "execution_count": 6
        }
      ]
    },
    {
      "cell_type": "code",
      "source": [
        "test = pd.read_csv('/content/drive/MyDrive/Sarcasm_Data/Test_Balanced.csv')"
      ],
      "metadata": {
        "id": "Z8QJtQ71oMaw"
      },
      "execution_count": 7,
      "outputs": []
    },
    {
      "cell_type": "code",
      "source": [
        "train_bal.info()"
      ],
      "metadata": {
        "colab": {
          "base_uri": "https://localhost:8080/"
        },
        "id": "buRDCOARVtib",
        "outputId": "c4cecc73-78bd-4253-cdda-2a60ccc56f36"
      },
      "execution_count": 8,
      "outputs": [
        {
          "output_type": "stream",
          "name": "stdout",
          "text": [
            "<class 'pandas.core.frame.DataFrame'>\n",
            "RangeIndex: 808618 entries, 0 to 808617\n",
            "Data columns (total 11 columns):\n",
            " #   Column          Non-Null Count   Dtype \n",
            "---  ------          --------------   ----- \n",
            " 0   Unnamed: 0      808618 non-null  int64 \n",
            " 1   label           808618 non-null  int64 \n",
            " 2   comment         808618 non-null  object\n",
            " 3   author          808618 non-null  object\n",
            " 4   subreddit       808618 non-null  object\n",
            " 5   score           808618 non-null  int64 \n",
            " 6   ups             808618 non-null  int64 \n",
            " 7   downs           808618 non-null  int64 \n",
            " 8   date            808618 non-null  object\n",
            " 9   created_utc     808618 non-null  object\n",
            " 10  parent_comment  808618 non-null  object\n",
            "dtypes: int64(5), object(6)\n",
            "memory usage: 67.9+ MB\n"
          ]
        }
      ]
    },
    {
      "cell_type": "code",
      "source": [
        "train_bal['label'].value_counts()"
      ],
      "metadata": {
        "colab": {
          "base_uri": "https://localhost:8080/"
        },
        "id": "8ZmNESsSV-QP",
        "outputId": "d8121d79-79fd-4852-c5e0-f80ad38aff79"
      },
      "execution_count": 9,
      "outputs": [
        {
          "output_type": "execute_result",
          "data": {
            "text/plain": [
              "1    404369\n",
              "0    404249\n",
              "Name: label, dtype: int64"
            ]
          },
          "metadata": {},
          "execution_count": 9
        }
      ]
    },
    {
      "cell_type": "markdown",
      "source": [
        "We can see our dataset is balanced."
      ],
      "metadata": {
        "id": "BGEjPFEaXQ-0"
      }
    },
    {
      "cell_type": "code",
      "source": [
        "train_bal['label'].value_counts(normalize=True)"
      ],
      "metadata": {
        "colab": {
          "base_uri": "https://localhost:8080/"
        },
        "id": "_H-pnPjZgGOo",
        "outputId": "276b1828-60fa-48f5-d3d9-019f1493da2c"
      },
      "execution_count": 10,
      "outputs": [
        {
          "output_type": "execute_result",
          "data": {
            "text/plain": [
              "1    0.500074\n",
              "0    0.499926\n",
              "Name: label, dtype: float64"
            ]
          },
          "metadata": {},
          "execution_count": 10
        }
      ]
    },
    {
      "cell_type": "markdown",
      "source": [
        "## EDA"
      ],
      "metadata": {
        "id": "bxRfLcEQerOA"
      }
    },
    {
      "cell_type": "code",
      "source": [
        "# Separating sarcastic vs non sarcastic comments\n",
        "sarcastic_com = train_bal[train_bal['label'] == 1]\n",
        "non_sarcastic_com = train_bal[train_bal['label'] == 0]"
      ],
      "metadata": {
        "id": "5QAY7ml_oq-h"
      },
      "execution_count": 11,
      "outputs": []
    },
    {
      "cell_type": "code",
      "source": [
        "# distribution of the lenth of Sarcastic comments\n",
        "sns.boxplot(x= sarcastic_com.loc[sarcastic_com['label'] == 1, 'comment'].str.len()).set(title = 'Length of Sarcastic Comments', xlabel = 'Length')\n",
        "sns.despine(offset=10, trim=True)\n",
        "plt.show()"
      ],
      "metadata": {
        "id": "okewwrY1zjtU",
        "outputId": "1f321fbd-e950-4cc3-87f2-f7f2c1f65fb2",
        "colab": {
          "base_uri": "https://localhost:8080/",
          "height": 486
        }
      },
      "execution_count": 15,
      "outputs": [
        {
          "output_type": "display_data",
          "data": {
            "text/plain": [
              "<Figure size 640x480 with 1 Axes>"
            ],
            "image/png": "[encoded data removed]"
          },
          "metadata": {}
        }
      ]
    },
    {
      "cell_type": "code",
      "source": [
        "# distribution of the lenth of Sarcastic comments\n",
        "sns.boxplot(x= non_sarcastic_com.loc[non_sarcastic_com['label'] == 0, 'comment'].str.len()).set(title = 'Length of Non Sarcastic Comments', xlabel = 'Length')\n",
        "sns.despine(offset=10, trim=True)\n",
        "plt.show()"
      ],
      "metadata": {
        "id": "K31JFcGy0FPC",
        "outputId": "3e921843-2cc2-4373-a8bd-1bc72a4ab169",
        "colab": {
          "base_uri": "https://localhost:8080/",
          "height": 486
        }
      },
      "execution_count": 18,
      "outputs": [
        {
          "output_type": "display_data",
          "data": {
            "text/plain": [
              "<Figure size 640x480 with 1 Axes>"
            ],
            "image/png": "[encoded data removed]"
          },
          "metadata": {}
        }
      ]
    },
    {
      "cell_type": "code",
      "source": [
        "import numpy as np\n",
        "\n",
        "sarcasm_score = np.array(sarcastic_com.loc[sarcastic_com['label'] == 1]['score'])\n",
        "neutral_score = np.array(sarcastic_com.loc[sarcastic_com['label'] == 0]['score'])"
      ],
      "metadata": {
        "id": "1d8ml_Py0dja"
      },
      "execution_count": 21,
      "outputs": []
    },
    {
      "cell_type": "code",
      "source": [
        "\n",
        "labels = ['Sarcastic Score', 'Non Sarcastic Score']\n",
        "sizes = [3235069, 3725113]\n",
        "colors = ['#F21F3B', '#1FF257']\n",
        "\n",
        "plt.rcParams.update({'font.size': 14})\n",
        "fig1, ax1 = plt.subplots()\n",
        "ax1.pie(sizes, colors = colors, labels=labels, autopct='%1.1f%%', startangle=30)\n",
        "ax1.set_title(\"Scores of Subreddits\")\n",
        "\n",
        "centre_circle = plt.Circle((0,0),0.70,fc='white')\n",
        "fig = plt.gcf()\n",
        "fig.gca().add_artist(centre_circle)\n",
        "ax1.axis('equal')\n",
        "plt.tight_layout()\n",
        "plt.show()"
      ],
      "metadata": {
        "id": "sxSASoGF0oE1",
        "outputId": "8345a25d-fda8-433b-e409-c2757415e37e",
        "colab": {
          "base_uri": "https://localhost:8080/",
          "height": 475
        }
      },
      "execution_count": 22,
      "outputs": [
        {
          "output_type": "display_data",
          "data": {
            "text/plain": [
              "<Figure size 640x480 with 1 Axes>"
            ],
            "image/png": "[encoded data removed]"
          },
          "metadata": {}
        }
      ]
    },
    {
      "cell_type": "code",
      "source": [
        "import nltk\n",
        "from nltk import word_tokenize, sent_tokenize\n",
        "from nltk.corpus import stopwords\n",
        "from nltk.stem.porter import *\n",
        "nltk.download('punkt')\n",
        "nltk.download('stopwords')\n",
        "\n",
        "import string\n",
        "\n",
        "import gensim\n",
        "from gensim.models.phrases import Phraser, Phrases\n",
        "from gensim.models.word2vec import Word2Vec\n",
        "\n",
        "import spacy # for a lemmatization example\n",
        "\n",
        "from sklearn.manifold import TSNE\n",
        "\n",
        "import pandas as pd\n",
        "from bokeh.io import output_notebook, output_file\n",
        "from bokeh.plotting import show, figure"
      ],
      "metadata": {
        "colab": {
          "base_uri": "https://localhost:8080/"
        },
        "id": "8oY5eFTExHSq",
        "outputId": "51dee8aa-72fe-4c28-936e-1b2a19ee5a19"
      },
      "execution_count": null,
      "outputs": [
        {
          "output_type": "stream",
          "name": "stderr",
          "text": [
            "[nltk_data] Downloading package punkt to /root/nltk_data...\n",
            "[nltk_data]   Package punkt is already up-to-date!\n",
            "[nltk_data] Downloading package stopwords to /root/nltk_data...\n",
            "[nltk_data]   Package stopwords is already up-to-date!\n"
          ]
        }
      ]
    },
    {
      "cell_type": "code",
      "source": [
        "# import nltk\n",
        "# from nltk.corpus import stopwords\n",
        "\n",
        "# # Download stopwords if not already downloaded\n",
        "# nltk.download('stopwords')\n",
        "\n",
        "# # Get the English stopwords\n",
        "# stpwrds = set(stopwords.words('english'))\n",
        "\n",
        "# # Assuming 'comment' is the column containing the sentences in your DataFrame\n",
        "# comments = train_bal['comment']\n",
        "\n",
        "# # Function to tokenize, lowercase, and remove stopwords from each comment\n",
        "# def clean_comments(comments):\n",
        "#     clean_comments_list = []\n",
        "#     for comment in comments:\n",
        "#         # Tokenize and lowercase\n",
        "#         tokens = comment.lower().split()\n",
        "\n",
        "#         # Remove stopwords\n",
        "#         cleaned_tokens = [token for token in tokens if token not in stpwrds]\n",
        "\n",
        "#         clean_comments_list.append(cleaned_tokens)\n",
        "\n",
        "#     return clean_comments_list"
      ],
      "metadata": {
        "id": "1CHWNv9Fywif"
      },
      "execution_count": null,
      "outputs": []
    },
    {
      "cell_type": "code",
      "source": [
        "# sarcastic_comments = sarcastic_com['comment']\n",
        "# non_sarcastic_comments = non_sarcastic_com['comment']\n",
        "\n",
        "# # Apply the function to sarcastic and non-sarcastic comments\n",
        "# sarcastic_clean = clean_comments(sarcastic_comments)\n",
        "# non_sarcastic_clean = clean_comments(non_sarcastic_comments)\n",
        "\n",
        "# # Example output for the first 10 sarcastic comments\n",
        "# print(sarcastic_clean[:10])"
      ],
      "metadata": {
        "id": "YMW3m10Q5tPK"
      },
      "execution_count": null,
      "outputs": []
    },
    {
      "cell_type": "code",
      "source": [
        "# from gensim.models.phrases import Phraser, Phrases\n",
        "\n",
        "# # Add common two-word phrases aka Bi-grams\n",
        "# sarc_bigrams = Phraser(Phrases(sarcastic_clean, min_count=32, threshold=64))\n",
        "# non_sarc_bigrams = Phraser(Phrases(non_sarcastic_clean, min_count=32, threshold=64))\n",
        "\n",
        "# # Apply the bigram models to the tokenized lists\n",
        "# clean_sarc = [sarc_bigrams[sentence] for sentence in sarcastic_clean]\n",
        "# clean_non_sarc = [non_sarc_bigrams[sentence] for sentence in non_sarcastic_clean]\n",
        "\n",
        "# # Example output for the first 10 sarcastic comments after adding bigrams\n",
        "# print(clean_sarc[:10])"
      ],
      "metadata": {
        "id": "UiKYd9IMz0T1"
      },
      "execution_count": null,
      "outputs": []
    },
    {
      "cell_type": "code",
      "source": [
        "# # WordCloud for sarcastic comments\n",
        "# wordcloud_sarc = WordCloud(width=800, height=400, background_color='white').generate(' '.join([' '.join(sentence) for sentence in clean_sarc]))\n",
        "\n",
        "# # Display the generated word cloud using matplotlib\n",
        "# plt.figure(figsize=(10, 5))\n",
        "# plt.imshow(wordcloud_sarc, interpolation='bilinear')\n",
        "# plt.axis('off')\n",
        "# plt.title('Word Cloud for Sarcastic Comments')\n",
        "# plt.show()\n"
      ],
      "metadata": {
        "id": "eA_0ybLxesig"
      },
      "execution_count": null,
      "outputs": []
    },
    {
      "cell_type": "code",
      "source": [
        "# # WordCloud for sarcastic comments\n",
        "# wordcloud_sarc = WordCloud(width=800, height=400, background_color='white').generate(' '.join([' '.join(sentence) for sentence in clean_non_sarc]))\n",
        "\n",
        "# # Display the generated word cloud using matplotlib\n",
        "# plt.figure(figsize=(10, 5))\n",
        "# plt.imshow(wordcloud_sarc, interpolation='bilinear')\n",
        "# plt.axis('off')\n",
        "# plt.title('Word Cloud for Non-Sarcastic Comments')\n",
        "# plt.show()"
      ],
      "metadata": {
        "id": "NAr7sC4lpEs2"
      },
      "execution_count": null,
      "outputs": []
    },
    {
      "cell_type": "code",
      "source": [],
      "metadata": {
        "id": "Fn4l2KLpnRkJ"
      },
      "execution_count": null,
      "outputs": []
    },
    {
      "cell_type": "markdown",
      "source": [
        "# Visualizing Sarcastic Comments by Subreddit"
      ],
      "metadata": {
        "id": "a51uPrvhfN97"
      }
    },
    {
      "cell_type": "code",
      "source": [
        "# subreddit_count = sarcastic_com['subreddit'].value_counts()"
      ],
      "metadata": {
        "id": "vH4eEHBohhOY"
      },
      "execution_count": null,
      "outputs": []
    },
    {
      "cell_type": "code",
      "source": [
        "# import matplotlib.pyplot as plt\n",
        "# import seaborn as sns\n",
        "# top = subreddit_count.head(20)\n",
        "# plt.figure(figsize=(10, 6))\n",
        "# sns.barplot(x=top.values, y=top.index)\n",
        "# plt.xlabel('Number of Sarcastic Comments')\n",
        "# plt.ylabel('Subreddit')\n",
        "# plt.title('Frequency of Sarcastic Comments by Subreddit')\n",
        "# plt.show()\n"
      ],
      "metadata": {
        "id": "MyUb_gYKihvx"
      },
      "execution_count": null,
      "outputs": []
    },
    {
      "cell_type": "markdown",
      "source": [
        "## Train Logistic Regression model (baseline)"
      ],
      "metadata": {
        "id": "EbBkarpChUdO"
      }
    },
    {
      "cell_type": "code",
      "source": [
        "from sklearn.model_selection import train_test_split\n",
        "comments = train_bal['comment']\n",
        "# Create a new column 'merged_comment' by concatenating 'comment' and 'parent_comment'\n",
        "train_bal['merged_comment'] = train_bal['comment'] + ' ' + train_bal['parent_comment']\n",
        "\n",
        "labels = train_bal['label']\n",
        "\n",
        "X_train, X_test, y_train, y_test = train_test_split(train_bal['merged_comment'], labels, test_size=0.3, random_state = 42)\n",
        "\n",
        "print(X_train.shape)\n",
        "print(X_test.shape)"
      ],
      "metadata": {
        "colab": {
          "base_uri": "https://localhost:8080/"
        },
        "id": "uQH1UrtihV4r",
        "outputId": "03388fbe-465e-4fe6-8e2d-b5e3c16126f6"
      },
      "execution_count": null,
      "outputs": [
        {
          "output_type": "stream",
          "name": "stdout",
          "text": [
            "(566032,)\n",
            "(242586,)\n"
          ]
        }
      ]
    },
    {
      "cell_type": "code",
      "source": [
        "# from sklearn.feature_extraction.text import TfidfVectorizer\n",
        "# from sklearn.linear_model import LogisticRegression\n",
        "# from sklearn.pipeline import Pipeline\n",
        "\n",
        "# # build bigrams\n",
        "# # and minimal word frequency\n",
        "# tf_idf = TfidfVectorizer(ngram_range=(1, 2), min_df=2, lowercase=False)\n",
        "# # multinomial logistic regression a.k.a softmax classifier\n",
        "# logit = LogisticRegression(C=1, n_jobs=-1, solver='lbfgs',\n",
        "#                            random_state=42, verbose=1)\n",
        "# # sklearn's pipeline\n",
        "# tfidf_logit_pipeline = Pipeline([('tf_idf', tf_idf),\n",
        "#                                  ('logit', logit)])"
      ],
      "metadata": {
        "id": "lDcJ0HINh0dK"
      },
      "execution_count": null,
      "outputs": []
    },
    {
      "cell_type": "code",
      "source": [
        "# %%time\n",
        "# tfidf_logit_pipeline.fit(X_train, y_train)"
      ],
      "metadata": {
        "id": "dmcX5Zw3iIys"
      },
      "execution_count": null,
      "outputs": []
    },
    {
      "cell_type": "code",
      "source": [
        "# %%time\n",
        "# valid_pred = tfidf_logit_pipeline.predict(X_test)"
      ],
      "metadata": {
        "id": "wtSzEJk8iMhB"
      },
      "execution_count": null,
      "outputs": []
    },
    {
      "cell_type": "code",
      "source": [
        "# from sklearn.metrics import accuracy_score\n",
        "\n",
        "# accuracy_score(y_test, valid_pred)"
      ],
      "metadata": {
        "id": "fGh8ySq2iQMK"
      },
      "execution_count": null,
      "outputs": []
    },
    {
      "cell_type": "markdown",
      "source": [
        "## Stacking with parent comment"
      ],
      "metadata": {
        "id": "UOP9fHecbvLN"
      }
    },
    {
      "cell_type": "code",
      "source": [
        "from scipy.sparse import hstack\n",
        "from sklearn.feature_extraction.text import TfidfVectorizer\n",
        "from sklearn.linear_model import LogisticRegression\n",
        "from sklearn.pipeline import Pipeline\n",
        "tf_idf_comment = TfidfVectorizer(ngram_range=(1, 2), min_df=2, lowercase=False)\n",
        "tf_idf_parent_comment = TfidfVectorizer(ngram_range=(1, 2), min_df=2, lowercase=False)\n",
        "\n",
        "comment_vectors = tf_idf_comment.fit_transform(train_bal['comment'])\n",
        "parent_comment_vectors = tf_idf_parent_comment.fit_transform(train_bal['parent_comment'])\n",
        "\n",
        "# Concatenate the TF-IDF vectors horizontally\n",
        "combined_vectors = hstack([comment_vectors, parent_comment_vectors])"
      ],
      "metadata": {
        "id": "XoErCykAbwq4"
      },
      "execution_count": null,
      "outputs": []
    },
    {
      "cell_type": "code",
      "source": [
        "# from scipy.sparse import save_npz\n",
        "# save_npz('/content/drive/MyDrive/Sarcasm_Data/combined_vectors.npz', combined_vectors)"
      ],
      "metadata": {
        "id": "OZ1iZBIJQL_m"
      },
      "execution_count": null,
      "outputs": []
    },
    {
      "cell_type": "code",
      "source": [
        "from scipy.sparse import load_npz\n",
        "combined_vectors = load_npz('/content/drive/MyDrive/Sarcasm_Data/combined_vectors.npz')"
      ],
      "metadata": {
        "id": "8LqPMrMFQMkW"
      },
      "execution_count": null,
      "outputs": []
    },
    {
      "cell_type": "code",
      "source": [
        "combined_vectors"
      ],
      "metadata": {
        "colab": {
          "base_uri": "https://localhost:8080/"
        },
        "id": "-5GYtzyxS9-M",
        "outputId": "0551870f-01a8-40c3-d243-869b7c8e8b35"
      },
      "execution_count": null,
      "outputs": [
        {
          "output_type": "execute_result",
          "data": {
            "text/plain": [
              "<808618x1878463 sparse matrix of type '<class 'numpy.float64'>'\n",
              "\twith 42748996 stored elements in Compressed Sparse Row format>"
            ]
          },
          "metadata": {},
          "execution_count": 27
        }
      ]
    },
    {
      "cell_type": "code",
      "source": [
        "X_train, X_hold_out, y_train, y_hold_out = train_test_split(\n",
        "    combined_vectors, labels, test_size=0.3, random_state=22\n",
        ")\n",
        "\n",
        "\n",
        "X_test, X_eval, y_test, y_eval = train_test_split(\n",
        "    X_hold_out, y_hold_out, test_size=0.5, random_state=22\n",
        ")"
      ],
      "metadata": {
        "id": "ZYvzOnKFPlmD"
      },
      "execution_count": null,
      "outputs": []
    },
    {
      "cell_type": "code",
      "source": [
        "\n",
        "\n",
        "# logit = LogisticRegression(C=1, n_jobs=-1, solver='lbfgs',\n",
        "#                            random_state=42, verbose=1)\n",
        "\n",
        "# logit.fit(X_train, y_train)\n",
        "# valid_pred = logit.predict(X_test)\n",
        "\n",
        "# from sklearn.metrics import accuracy_score\n",
        "\n",
        "# accuracy_score(y_test, valid_pred)"
      ],
      "metadata": {
        "id": "HpUr_9Vn3guD"
      },
      "execution_count": null,
      "outputs": []
    },
    {
      "cell_type": "markdown",
      "source": [
        "## Try Xgboost"
      ],
      "metadata": {
        "id": "B7ro2PLXv5Cx"
      }
    },
    {
      "cell_type": "code",
      "source": [
        "train_bal.info()"
      ],
      "metadata": {
        "colab": {
          "base_uri": "https://localhost:8080/"
        },
        "id": "A75N-rVSv7qO",
        "outputId": "541fff19-1ccf-4008-9f57-20f9605be1e4"
      },
      "execution_count": null,
      "outputs": [
        {
          "output_type": "stream",
          "name": "stdout",
          "text": [
            "<class 'pandas.core.frame.DataFrame'>\n",
            "RangeIndex: 808618 entries, 0 to 808617\n",
            "Data columns (total 12 columns):\n",
            " #   Column          Non-Null Count   Dtype \n",
            "---  ------          --------------   ----- \n",
            " 0   Unnamed: 0      808618 non-null  int64 \n",
            " 1   label           808618 non-null  int64 \n",
            " 2   comment         808618 non-null  object\n",
            " 3   author          808618 non-null  object\n",
            " 4   subreddit       808618 non-null  object\n",
            " 5   score           808618 non-null  int64 \n",
            " 6   ups             808618 non-null  int64 \n",
            " 7   downs           808618 non-null  int64 \n",
            " 8   date            808618 non-null  object\n",
            " 9   created_utc     808618 non-null  object\n",
            " 10  parent_comment  808618 non-null  object\n",
            " 11  merged_comment  808618 non-null  object\n",
            "dtypes: int64(5), object(7)\n",
            "memory usage: 74.0+ MB\n"
          ]
        }
      ]
    },
    {
      "cell_type": "code",
      "source": [
        "import xgboost as xgb\n",
        "from sklearn.metrics import accuracy_score\n",
        "\n",
        "dtrain = xgb.DMatrix(X_train, label=y_train)\n",
        "dtest = xgb.DMatrix(X_test, label=y_test)\n",
        "deval = xgb.DMatrix(X_eval, label=y_test)"
      ],
      "metadata": {
        "id": "AH3mfKeBQQE2"
      },
      "execution_count": null,
      "outputs": []
    },
    {
      "cell_type": "code",
      "source": [
        "params = {\n",
        "    'tree_method': 'hist',\n",
        "    'device': 'cuda',\n",
        "    'predictor': 'gpu_predictor',\n",
        "    'max_depth': 4,\n",
        "    'n_estimators': 100,\n",
        "    'eta': 0.01,\n",
        "    'objective': 'binary:logistic',\n",
        "    'eval_metric': 'logloss',\n",
        "    'n_jobs': -1,\n",
        "    'lambda': 1,\n",
        "    'alpha': 0.01\n",
        "\n",
        "}\n",
        "num_boost_round = 10000"
      ],
      "metadata": {
        "id": "m4ntzTMWQT4L"
      },
      "execution_count": null,
      "outputs": []
    },
    {
      "cell_type": "code",
      "source": [
        "# bst = xgb.train(\n",
        "#     params,\n",
        "#     dtrain,\n",
        "#     num_boost_round,\n",
        "#     evals=[(dtrain, 'train'), (dtest, 'test')],\n",
        "#     early_stopping_rounds=50\n",
        "# )\n"
      ],
      "metadata": {
        "id": "yWuvhGscQVyk"
      },
      "execution_count": null,
      "outputs": []
    },
    {
      "cell_type": "code",
      "source": [
        "# bst.save_model('/content/drive/MyDrive/Sarcasm_Data/Xgboost1.model')"
      ],
      "metadata": {
        "id": "jisLsEE9msGZ"
      },
      "execution_count": null,
      "outputs": []
    },
    {
      "cell_type": "code",
      "source": [
        "loaded_bst = xgb.Booster()\n",
        "loaded_bst.load_model('/content/drive/MyDrive/Sarcasm_Data/Xgboost1.model')"
      ],
      "metadata": {
        "id": "B0GfeylWm6G4"
      },
      "execution_count": null,
      "outputs": []
    },
    {
      "cell_type": "code",
      "source": [
        "y_pred = loaded_bst.predict(deval)\n",
        "# Convert probabilities to binary output with a 0.5 threshold\n",
        "y_pred_binary = (y_pred > 0.5).astype(int)\n"
      ],
      "metadata": {
        "id": "gm4XU_T-QYEX"
      },
      "execution_count": null,
      "outputs": []
    },
    {
      "cell_type": "code",
      "source": [
        "accuracy = accuracy_score(y_eval, y_pred_binary)\n",
        "print(f\"Accuracy: {accuracy}\")"
      ],
      "metadata": {
        "colab": {
          "base_uri": "https://localhost:8080/"
        },
        "id": "qlOi4BlQTWJ_",
        "outputId": "00d541e5-e7d1-45af-dff2-10759663a165"
      },
      "execution_count": null,
      "outputs": [
        {
          "output_type": "stream",
          "name": "stdout",
          "text": [
            "Accuracy: 0.6898172194603152\n"
          ]
        }
      ]
    },
    {
      "cell_type": "markdown",
      "source": [
        "#XGboost Insights\n"
      ],
      "metadata": {
        "id": "vQ4NWiFFniKC"
      }
    },
    {
      "cell_type": "code",
      "source": [
        "from sklearn.metrics import confusion_matrix\n",
        "\n",
        "cm = confusion_matrix(y_eval, y_pred_binary)\n",
        "print(cm)\n"
      ],
      "metadata": {
        "colab": {
          "base_uri": "https://localhost:8080/"
        },
        "id": "4qKFpUlyrsQI",
        "outputId": "a4474151-c0ce-4a99-bcc5-e3ce9aa47049"
      },
      "execution_count": null,
      "outputs": [
        {
          "output_type": "stream",
          "name": "stdout",
          "text": [
            "[[49555 11009]\n",
            " [26614 34115]]\n"
          ]
        }
      ]
    },
    {
      "cell_type": "code",
      "source": [
        "import matplotlib.pyplot as plt\n",
        "import seaborn as sns; sns.set()  # for plot styling\n",
        "\n",
        "plt.figure(figsize=(10,7))\n",
        "sns.heatmap(cm, annot=True, fmt=\"d\", cmap=\"Blues\")\n",
        "plt.xlabel('Predicted labels')\n",
        "plt.ylabel('True labels')\n",
        "plt.title('Confusion Matrix')\n",
        "plt.show()\n"
      ],
      "metadata": {
        "colab": {
          "base_uri": "https://localhost:8080/",
          "height": 650
        },
        "id": "7tP70bGEr6cS",
        "outputId": "5173efb9-87de-432f-bfc3-2f5de320e932"
      },
      "execution_count": null,
      "outputs": [
        {
          "output_type": "display_data",
          "data": {
            "text/plain": [
              "<Figure size 1000x700 with 2 Axes>"
            ],
            "image/png": "[encoded data removed]"
          },
          "metadata": {}
        }
      ]
    },
    {
      "cell_type": "code",
      "source": [
        "import numpy as np\n",
        "\n",
        "\n",
        "importance_dict = loaded_bst.get_score(importance_type='weight')\n",
        "\n",
        "\n",
        "sorted_importances = sorted(importance_dict.items(), key=lambda x: x[1], reverse=True)\n",
        "\n",
        "\n",
        "comment_feature_names = tf_idf_comment.get_feature_names_out()\n",
        "parent_comment_feature_names = tf_idf_parent_comment.get_feature_names_out()\n",
        "\n",
        "\n",
        "combined_feature_names = np.concatenate((comment_feature_names, parent_comment_feature_names))\n",
        "\n",
        "importance_word_pairs = [(combined_feature_names[int(idx[1:])], importance) for idx, importance in sorted_importances]\n",
        "\n",
        "\n",
        "\n"
      ],
      "metadata": {
        "id": "vPz2K6y_nlqk"
      },
      "execution_count": null,
      "outputs": []
    },
    {
      "cell_type": "code",
      "source": [
        "for word, importance in importance_word_pairs[:10]:\n",
        "    print(f'Word: {word}, Importance: {importance}')"
      ],
      "metadata": {
        "colab": {
          "base_uri": "https://localhost:8080/"
        },
        "id": "E5eZAOlPq-o_",
        "outputId": "ab62743d-0476-49cf-e684-94f4e5f14beb"
      },
      "execution_count": null,
      "outputs": [
        {
          "output_type": "stream",
          "name": "stdout",
          "text": [
            "Word: the, Importance: 2223.0\n",
            "Word: to, Importance: 1553.0\n",
            "Word: the, Importance: 1417.0\n",
            "Word: of, Importance: 1384.0\n",
            "Word: it, Importance: 1336.0\n",
            "Word: you, Importance: 1198.0\n",
            "Word: and, Importance: 1150.0\n",
            "Word: but, Importance: 1122.0\n",
            "Word: that, Importance: 1114.0\n",
            "Word: it, Importance: 1019.0\n"
          ]
        }
      ]
    },
    {
      "cell_type": "code",
      "source": [
        "# pip install shap"
      ],
      "metadata": {
        "id": "uLwOHA6vtml-"
      },
      "execution_count": null,
      "outputs": []
    },
    {
      "cell_type": "code",
      "source": [
        "# import shap\n",
        "\n",
        "# # Create a SHAP explainer\n",
        "# explainer = shap.TreeExplainer(loaded_bst)\n",
        "# # Assuming X_test is your test dataset prepared similarly to your training data\n",
        "# shap_values = explainer.shap_values(X_test)\n",
        "\n",
        "# # For binary classification, shap_values will be a list with two arrays: [shap_values_class_0, shap_values_class_1]\n",
        "# # Focus on shap_values for the positive class (usually class 1)\n",
        "# shap_values_pos_class = shap_values[1]\n",
        "\n",
        "# # Summarize the SHAP values for the positive class\n",
        "# shap.summary_plot(shap_values_pos_class, X_test, feature_names=combined_feature_names)\n"
      ],
      "metadata": {
        "id": "R3HVBt6htd9x"
      },
      "execution_count": null,
      "outputs": []
    },
    {
      "cell_type": "markdown",
      "source": [
        "#Determine what features we want to engineer to help predict saracsm\n",
        "* Number of Capital words in comment (parent comment too)\n",
        "* Number of !, #, _, ., ? etc\n",
        "* Length of the comment\n",
        "* Number of curse words?\n",
        "\n"
      ],
      "metadata": {
        "id": "y0bMRwPwvjmG"
      }
    }
  ]
}