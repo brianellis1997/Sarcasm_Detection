{
  "nbformat": 4,
  "nbformat_minor": 0,
  "metadata": {
    "colab": {
      "provenance": [],
      "machine_shape": "hm",
      "gpuType": "V100",
      "authorship_tag": "ABX9TyMOJZo0zR31UU6EhdM9c9o+",
      "include_colab_link": true
    },
    "kernelspec": {
      "name": "python3",
      "display_name": "Python 3"
    },
    "language_info": {
      "name": "python"
    },
    "accelerator": "GPU"
  },
  "cells": [
    {
      "cell_type": "markdown",
      "metadata": {
        "id": "view-in-github",
        "colab_type": "text"
      },
      "source": [
        "<a href=\"https://colab.research.google.com/github/brianellis1997/Sarcasm_Detection/blob/Lindsey/CNN.ipynb\" target=\"_parent\"><img src=\"https://colab.research.google.com/assets/colab-badge.svg\" alt=\"Open In Colab\"/></a>"
      ]
    },
    {
      "cell_type": "code",
      "execution_count": 1,
      "metadata": {
        "colab": {
          "base_uri": "https://localhost:8080/"
        },
        "id": "TtsYYXm9Ai-8",
        "outputId": "86021df7-c6e5-4ad2-cd49-30af9f6c4e69"
      },
      "outputs": [
        {
          "output_type": "stream",
          "name": "stdout",
          "text": [
            "Cloning into 'Sarcasm_Detection'...\n",
            "remote: Enumerating objects: 134, done.\u001b[K\n",
            "remote: Counting objects: 100% (131/131), done.\u001b[K\n",
            "remote: Compressing objects: 100% (69/69), done.\u001b[K\n",
            "remote: Total 134 (delta 71), reused 116 (delta 62), pack-reused 3\u001b[K\n",
            "Receiving objects: 100% (134/134), 2.96 MiB | 25.24 MiB/s, done.\n",
            "Resolving deltas: 100% (71/71), done.\n"
          ]
        }
      ],
      "source": [
        "!git clone https://github.com/brianellis1997/Sarcasm_Detection.git"
      ]
    },
    {
      "cell_type": "code",
      "source": [
        "from google.colab import drive\n",
        "drive.mount('/content/drive')"
      ],
      "metadata": {
        "colab": {
          "base_uri": "https://localhost:8080/"
        },
        "id": "zbMXxrJhAzzx",
        "outputId": "0ec67d2f-1643-4c9b-de84-30fdaf6470bf"
      },
      "execution_count": 2,
      "outputs": [
        {
          "output_type": "stream",
          "name": "stdout",
          "text": [
            "Mounted at /content/drive\n"
          ]
        }
      ]
    },
    {
      "cell_type": "code",
      "source": [
        "import pandas as pd\n",
        "train_bal = pd.read_csv('/content/drive/MyDrive/Sarcasm_Data/train_bal_2.csv')"
      ],
      "metadata": {
        "id": "fgv65YZHBDFG"
      },
      "execution_count": 3,
      "outputs": []
    },
    {
      "cell_type": "code",
      "source": [
        "train_bal"
      ],
      "metadata": {
        "colab": {
          "base_uri": "https://localhost:8080/",
          "height": 1000
        },
        "id": "iT15Bp3uCG6b",
        "outputId": "98b2774d-d535-4757-de2a-f05bbba8b0cd"
      },
      "execution_count": 4,
      "outputs": [
        {
          "output_type": "execute_result",
          "data": {
            "text/plain": [
              "        Unnamed: 0  label                                            comment  \\\n",
              "0           522142      0  I personally wasn't a huge Garrosh fan, I've a...   \n",
              "1           907864      1                                     you forgot the   \n",
              "2           604170      1                 Nah man, she's clearly an ad carry   \n",
              "3           110635      1                            This sub in a nutshell.   \n",
              "4           997758      0                                       Yes... I do.   \n",
              "...            ...    ...                                                ...   \n",
              "808613      368312      1                 Yeah, all asians are smart, right?   \n",
              "808614      541588      1                                  Nah I was serious   \n",
              "808615      833824      0  you are assuming way too much there is no liab...   \n",
              "808616       55102      1  But Planned Parenthood is the devil and must b...   \n",
              "808617      213871      0     Some people have more than 1 TB of data though   \n",
              "\n",
              "                author        subreddit  score  ups  downs        date  \\\n",
              "0          cromemako83        AskReddit      2    2      0  2015-07-01   \n",
              "1          _SharkWeek_        AskReddit      1    1      0  2013-03-01   \n",
              "2            jdswift13  leagueoflegends      1    1      0  2015-10-01   \n",
              "3            trickz-M-  GlobalOffensive      1   -1     -1  2016-12-01   \n",
              "4            guriboysf           videos      4    4      0  2010-01-01   \n",
              "...                ...              ...    ...  ...    ...         ...   \n",
              "808613        est1roth           europe      2    2      0  2016-04-01   \n",
              "808614       SrrBrrGrr            funny     -5   -5      0  2015-08-01   \n",
              "808615             cqm             blog      1    1      0  2014-09-01   \n",
              "808616  DrScientist812        worldnews      3    3      0  2016-09-01   \n",
              "808617      maliciousa              mac      1    1      0  2016-05-01   \n",
              "\n",
              "                created_utc  \\\n",
              "0       2015-07-11 01:55:53   \n",
              "1       2013-03-14 03:03:46   \n",
              "2       2015-10-21 23:22:17   \n",
              "3       2016-12-05 03:50:18   \n",
              "4       2010-01-17 21:32:40   \n",
              "...                     ...   \n",
              "808613  2016-04-17 00:05:51   \n",
              "808614  2015-08-11 23:15:11   \n",
              "808615  2014-09-30 21:44:06   \n",
              "808616  2016-09-06 12:40:25   \n",
              "808617  2016-05-23 03:23:59   \n",
              "\n",
              "                                           parent_comment  exclamation_count  \\\n",
              "0       Fuck Vol'jin. Garrosh Hellscream did nothing w...                  0   \n",
              "1       That's a lie fed to you by the LIEberal media....                  0   \n",
              "2                                       she isnt already?                  0   \n",
              "3                 Cloud 9 Qualify! (ONLY C9 FANS ALLOWED(                  0   \n",
              "4                       \"so, i hear you have a fat cock.\"                  0   \n",
              "...                                                   ...                ...   \n",
              "808613   Well if an asian woman says it, it must be true.                  0   \n",
              "808614  I don't think people understand you were jokin...                  0   \n",
              "808615  They're not saying it is easy. In fact they we...                  0   \n",
              "808616  Fall in ovarian cancer deaths worldwide linked...                  1   \n",
              "808617  I didn't watch the youtube video, but judging ...                  0   \n",
              "\n",
              "        questionmark_count  period_count  space_count  slash_count  \\\n",
              "0                        0             1            0            0   \n",
              "1                        0             0            0            0   \n",
              "2                        0             0            0            0   \n",
              "3                        0             1            0            0   \n",
              "4                        0             4            0            0   \n",
              "...                    ...           ...          ...          ...   \n",
              "808613                   1             0            0            0   \n",
              "808614                   0             0            0            0   \n",
              "808615                   0             0            0            0   \n",
              "808616                   0             0            0            0   \n",
              "808617                   0             0            0            0   \n",
              "\n",
              "        elips_count  capital_letters_count  word_count  total_punctuation  \n",
              "0                 0                      5          14                  4  \n",
              "1                 0                      0           3                  0  \n",
              "2                 0                      1           7                  2  \n",
              "3                 0                      1           5                  1  \n",
              "4                 0                      2           3                  4  \n",
              "...             ...                    ...         ...                ...  \n",
              "808613            0                      1           6                  3  \n",
              "808614            0                      2           4                  0  \n",
              "808615            0                      0          41                  6  \n",
              "808616            0                      3          13                  1  \n",
              "808617            0                      3          10                  0  \n",
              "\n",
              "[808618 rows x 20 columns]"
            ],
            "text/html": [
              "\n",
              "  <div id=\"df-6b419006-502c-4703-a208-a38b337b15d8\" class=\"colab-df-container\">\n",
              "    <div>\n",
              "<style scoped>\n",
              "    .dataframe tbody tr th:only-of-type {\n",
              "        vertical-align: middle;\n",
              "    }\n",
              "\n",
              "    .dataframe tbody tr th {\n",
              "        vertical-align: top;\n",
              "    }\n",
              "\n",
              "    .dataframe thead th {\n",
              "        text-align: right;\n",
              "    }\n",
              "</style>\n",
              "<table border=\"1\" class=\"dataframe\">\n",
              "  <thead>\n",
              "    <tr style=\"text-align: right;\">\n",
              "      <th></th>\n",
              "      <th>Unnamed: 0</th>\n",
              "      <th>label</th>\n",
              "      <th>comment</th>\n",
              "      <th>author</th>\n",
              "      <th>subreddit</th>\n",
              "      <th>score</th>\n",
              "      <th>ups</th>\n",
              "      <th>downs</th>\n",
              "      <th>date</th>\n",
              "      <th>created_utc</th>\n",
              "      <th>parent_comment</th>\n",
              "      <th>exclamation_count</th>\n",
              "      <th>questionmark_count</th>\n",
              "      <th>period_count</th>\n",
              "      <th>space_count</th>\n",
              "      <th>slash_count</th>\n",
              "      <th>elips_count</th>\n",
              "      <th>capital_letters_count</th>\n",
              "      <th>word_count</th>\n",
              "      <th>total_punctuation</th>\n",
              "    </tr>\n",
              "  </thead>\n",
              "  <tbody>\n",
              "    <tr>\n",
              "      <th>0</th>\n",
              "      <td>522142</td>\n",
              "      <td>0</td>\n",
              "      <td>I personally wasn't a huge Garrosh fan, I've a...</td>\n",
              "      <td>cromemako83</td>\n",
              "      <td>AskReddit</td>\n",
              "      <td>2</td>\n",
              "      <td>2</td>\n",
              "      <td>0</td>\n",
              "      <td>2015-07-01</td>\n",
              "      <td>2015-07-11 01:55:53</td>\n",
              "      <td>Fuck Vol'jin. Garrosh Hellscream did nothing w...</td>\n",
              "      <td>0</td>\n",
              "      <td>0</td>\n",
              "      <td>1</td>\n",
              "      <td>0</td>\n",
              "      <td>0</td>\n",
              "      <td>0</td>\n",
              "      <td>5</td>\n",
              "      <td>14</td>\n",
              "      <td>4</td>\n",
              "    </tr>\n",
              "    <tr>\n",
              "      <th>1</th>\n",
              "      <td>907864</td>\n",
              "      <td>1</td>\n",
              "      <td>you forgot the</td>\n",
              "      <td>_SharkWeek_</td>\n",
              "      <td>AskReddit</td>\n",
              "      <td>1</td>\n",
              "      <td>1</td>\n",
              "      <td>0</td>\n",
              "      <td>2013-03-01</td>\n",
              "      <td>2013-03-14 03:03:46</td>\n",
              "      <td>That's a lie fed to you by the LIEberal media....</td>\n",
              "      <td>0</td>\n",
              "      <td>0</td>\n",
              "      <td>0</td>\n",
              "      <td>0</td>\n",
              "      <td>0</td>\n",
              "      <td>0</td>\n",
              "      <td>0</td>\n",
              "      <td>3</td>\n",
              "      <td>0</td>\n",
              "    </tr>\n",
              "    <tr>\n",
              "      <th>2</th>\n",
              "      <td>604170</td>\n",
              "      <td>1</td>\n",
              "      <td>Nah man, she's clearly an ad carry</td>\n",
              "      <td>jdswift13</td>\n",
              "      <td>leagueoflegends</td>\n",
              "      <td>1</td>\n",
              "      <td>1</td>\n",
              "      <td>0</td>\n",
              "      <td>2015-10-01</td>\n",
              "      <td>2015-10-21 23:22:17</td>\n",
              "      <td>she isnt already?</td>\n",
              "      <td>0</td>\n",
              "      <td>0</td>\n",
              "      <td>0</td>\n",
              "      <td>0</td>\n",
              "      <td>0</td>\n",
              "      <td>0</td>\n",
              "      <td>1</td>\n",
              "      <td>7</td>\n",
              "      <td>2</td>\n",
              "    </tr>\n",
              "    <tr>\n",
              "      <th>3</th>\n",
              "      <td>110635</td>\n",
              "      <td>1</td>\n",
              "      <td>This sub in a nutshell.</td>\n",
              "      <td>trickz-M-</td>\n",
              "      <td>GlobalOffensive</td>\n",
              "      <td>1</td>\n",
              "      <td>-1</td>\n",
              "      <td>-1</td>\n",
              "      <td>2016-12-01</td>\n",
              "      <td>2016-12-05 03:50:18</td>\n",
              "      <td>Cloud 9 Qualify! (ONLY C9 FANS ALLOWED(</td>\n",
              "      <td>0</td>\n",
              "      <td>0</td>\n",
              "      <td>1</td>\n",
              "      <td>0</td>\n",
              "      <td>0</td>\n",
              "      <td>0</td>\n",
              "      <td>1</td>\n",
              "      <td>5</td>\n",
              "      <td>1</td>\n",
              "    </tr>\n",
              "    <tr>\n",
              "      <th>4</th>\n",
              "      <td>997758</td>\n",
              "      <td>0</td>\n",
              "      <td>Yes... I do.</td>\n",
              "      <td>guriboysf</td>\n",
              "      <td>videos</td>\n",
              "      <td>4</td>\n",
              "      <td>4</td>\n",
              "      <td>0</td>\n",
              "      <td>2010-01-01</td>\n",
              "      <td>2010-01-17 21:32:40</td>\n",
              "      <td>\"so, i hear you have a fat cock.\"</td>\n",
              "      <td>0</td>\n",
              "      <td>0</td>\n",
              "      <td>4</td>\n",
              "      <td>0</td>\n",
              "      <td>0</td>\n",
              "      <td>0</td>\n",
              "      <td>2</td>\n",
              "      <td>3</td>\n",
              "      <td>4</td>\n",
              "    </tr>\n",
              "    <tr>\n",
              "      <th>...</th>\n",
              "      <td>...</td>\n",
              "      <td>...</td>\n",
              "      <td>...</td>\n",
              "      <td>...</td>\n",
              "      <td>...</td>\n",
              "      <td>...</td>\n",
              "      <td>...</td>\n",
              "      <td>...</td>\n",
              "      <td>...</td>\n",
              "      <td>...</td>\n",
              "      <td>...</td>\n",
              "      <td>...</td>\n",
              "      <td>...</td>\n",
              "      <td>...</td>\n",
              "      <td>...</td>\n",
              "      <td>...</td>\n",
              "      <td>...</td>\n",
              "      <td>...</td>\n",
              "      <td>...</td>\n",
              "      <td>...</td>\n",
              "    </tr>\n",
              "    <tr>\n",
              "      <th>808613</th>\n",
              "      <td>368312</td>\n",
              "      <td>1</td>\n",
              "      <td>Yeah, all asians are smart, right?</td>\n",
              "      <td>est1roth</td>\n",
              "      <td>europe</td>\n",
              "      <td>2</td>\n",
              "      <td>2</td>\n",
              "      <td>0</td>\n",
              "      <td>2016-04-01</td>\n",
              "      <td>2016-04-17 00:05:51</td>\n",
              "      <td>Well if an asian woman says it, it must be true.</td>\n",
              "      <td>0</td>\n",
              "      <td>1</td>\n",
              "      <td>0</td>\n",
              "      <td>0</td>\n",
              "      <td>0</td>\n",
              "      <td>0</td>\n",
              "      <td>1</td>\n",
              "      <td>6</td>\n",
              "      <td>3</td>\n",
              "    </tr>\n",
              "    <tr>\n",
              "      <th>808614</th>\n",
              "      <td>541588</td>\n",
              "      <td>1</td>\n",
              "      <td>Nah I was serious</td>\n",
              "      <td>SrrBrrGrr</td>\n",
              "      <td>funny</td>\n",
              "      <td>-5</td>\n",
              "      <td>-5</td>\n",
              "      <td>0</td>\n",
              "      <td>2015-08-01</td>\n",
              "      <td>2015-08-11 23:15:11</td>\n",
              "      <td>I don't think people understand you were jokin...</td>\n",
              "      <td>0</td>\n",
              "      <td>0</td>\n",
              "      <td>0</td>\n",
              "      <td>0</td>\n",
              "      <td>0</td>\n",
              "      <td>0</td>\n",
              "      <td>2</td>\n",
              "      <td>4</td>\n",
              "      <td>0</td>\n",
              "    </tr>\n",
              "    <tr>\n",
              "      <th>808615</th>\n",
              "      <td>833824</td>\n",
              "      <td>0</td>\n",
              "      <td>you are assuming way too much there is no liab...</td>\n",
              "      <td>cqm</td>\n",
              "      <td>blog</td>\n",
              "      <td>1</td>\n",
              "      <td>1</td>\n",
              "      <td>0</td>\n",
              "      <td>2014-09-01</td>\n",
              "      <td>2014-09-30 21:44:06</td>\n",
              "      <td>They're not saying it is easy. In fact they we...</td>\n",
              "      <td>0</td>\n",
              "      <td>0</td>\n",
              "      <td>0</td>\n",
              "      <td>0</td>\n",
              "      <td>0</td>\n",
              "      <td>0</td>\n",
              "      <td>0</td>\n",
              "      <td>41</td>\n",
              "      <td>6</td>\n",
              "    </tr>\n",
              "    <tr>\n",
              "      <th>808616</th>\n",
              "      <td>55102</td>\n",
              "      <td>1</td>\n",
              "      <td>But Planned Parenthood is the devil and must b...</td>\n",
              "      <td>DrScientist812</td>\n",
              "      <td>worldnews</td>\n",
              "      <td>3</td>\n",
              "      <td>3</td>\n",
              "      <td>0</td>\n",
              "      <td>2016-09-01</td>\n",
              "      <td>2016-09-06 12:40:25</td>\n",
              "      <td>Fall in ovarian cancer deaths worldwide linked...</td>\n",
              "      <td>1</td>\n",
              "      <td>0</td>\n",
              "      <td>0</td>\n",
              "      <td>0</td>\n",
              "      <td>0</td>\n",
              "      <td>0</td>\n",
              "      <td>3</td>\n",
              "      <td>13</td>\n",
              "      <td>1</td>\n",
              "    </tr>\n",
              "    <tr>\n",
              "      <th>808617</th>\n",
              "      <td>213871</td>\n",
              "      <td>0</td>\n",
              "      <td>Some people have more than 1 TB of data though</td>\n",
              "      <td>maliciousa</td>\n",
              "      <td>mac</td>\n",
              "      <td>1</td>\n",
              "      <td>1</td>\n",
              "      <td>0</td>\n",
              "      <td>2016-05-01</td>\n",
              "      <td>2016-05-23 03:23:59</td>\n",
              "      <td>I didn't watch the youtube video, but judging ...</td>\n",
              "      <td>0</td>\n",
              "      <td>0</td>\n",
              "      <td>0</td>\n",
              "      <td>0</td>\n",
              "      <td>0</td>\n",
              "      <td>0</td>\n",
              "      <td>3</td>\n",
              "      <td>10</td>\n",
              "      <td>0</td>\n",
              "    </tr>\n",
              "  </tbody>\n",
              "</table>\n",
              "<p>808618 rows × 20 columns</p>\n",
              "</div>\n",
              "    <div class=\"colab-df-buttons\">\n",
              "\n",
              "  <div class=\"colab-df-container\">\n",
              "    <button class=\"colab-df-convert\" onclick=\"convertToInteractive('df-6b419006-502c-4703-a208-a38b337b15d8')\"\n",
              "            title=\"Convert this dataframe to an interactive table.\"\n",
              "            style=\"display:none;\">\n",
              "\n",
              "  <svg xmlns=\"http://www.w3.org/2000/svg\" height=\"24px\" viewBox=\"0 -960 960 960\">\n",
              "    <path d=\"M120-120v-720h720v720H120Zm60-500h600v-160H180v160Zm220 220h160v-160H400v160Zm0 220h160v-160H400v160ZM180-400h160v-160H180v160Zm440 0h160v-160H620v160ZM180-180h160v-160H180v160Zm440 0h160v-160H620v160Z\"/>\n",
              "  </svg>\n",
              "    </button>\n",
              "\n",
              "  <style>\n",
              "    .colab-df-container {\n",
              "      display:flex;\n",
              "      gap: 12px;\n",
              "    }\n",
              "\n",
              "    .colab-df-convert {\n",
              "      background-color: #E8F0FE;\n",
              "      border: none;\n",
              "      border-radius: 50%;\n",
              "      cursor: pointer;\n",
              "      display: none;\n",
              "      fill: #1967D2;\n",
              "      height: 32px;\n",
              "      padding: 0 0 0 0;\n",
              "      width: 32px;\n",
              "    }\n",
              "\n",
              "    .colab-df-convert:hover {\n",
              "      background-color: #E2EBFA;\n",
              "      box-shadow: 0px 1px 2px rgba(60, 64, 67, 0.3), 0px 1px 3px 1px rgba(60, 64, 67, 0.15);\n",
              "      fill: #174EA6;\n",
              "    }\n",
              "\n",
              "    .colab-df-buttons div {\n",
              "      margin-bottom: 4px;\n",
              "    }\n",
              "\n",
              "    [theme=dark] .colab-df-convert {\n",
              "      background-color: #3B4455;\n",
              "      fill: #D2E3FC;\n",
              "    }\n",
              "\n",
              "    [theme=dark] .colab-df-convert:hover {\n",
              "      background-color: #434B5C;\n",
              "      box-shadow: 0px 1px 3px 1px rgba(0, 0, 0, 0.15);\n",
              "      filter: drop-shadow(0px 1px 2px rgba(0, 0, 0, 0.3));\n",
              "      fill: #FFFFFF;\n",
              "    }\n",
              "  </style>\n",
              "\n",
              "    <script>\n",
              "      const buttonEl =\n",
              "        document.querySelector('#df-6b419006-502c-4703-a208-a38b337b15d8 button.colab-df-convert');\n",
              "      buttonEl.style.display =\n",
              "        google.colab.kernel.accessAllowed ? 'block' : 'none';\n",
              "\n",
              "      async function convertToInteractive(key) {\n",
              "        const element = document.querySelector('#df-6b419006-502c-4703-a208-a38b337b15d8');\n",
              "        const dataTable =\n",
              "          await google.colab.kernel.invokeFunction('convertToInteractive',\n",
              "                                                    [key], {});\n",
              "        if (!dataTable) return;\n",
              "\n",
              "        const docLinkHtml = 'Like what you see? Visit the ' +\n",
              "          '<a target=\"_blank\" href=https://colab.research.google.com/notebooks/data_table.ipynb>data table notebook</a>'\n",
              "          + ' to learn more about interactive tables.';\n",
              "        element.innerHTML = '';\n",
              "        dataTable['output_type'] = 'display_data';\n",
              "        await google.colab.output.renderOutput(dataTable, element);\n",
              "        const docLink = document.createElement('div');\n",
              "        docLink.innerHTML = docLinkHtml;\n",
              "        element.appendChild(docLink);\n",
              "      }\n",
              "    </script>\n",
              "  </div>\n",
              "\n",
              "\n",
              "<div id=\"df-876e048a-12f4-49bd-8767-3b83bea6e641\">\n",
              "  <button class=\"colab-df-quickchart\" onclick=\"quickchart('df-876e048a-12f4-49bd-8767-3b83bea6e641')\"\n",
              "            title=\"Suggest charts\"\n",
              "            style=\"display:none;\">\n",
              "\n",
              "<svg xmlns=\"http://www.w3.org/2000/svg\" height=\"24px\"viewBox=\"0 0 24 24\"\n",
              "     width=\"24px\">\n",
              "    <g>\n",
              "        <path d=\"M19 3H5c-1.1 0-2 .9-2 2v14c0 1.1.9 2 2 2h14c1.1 0 2-.9 2-2V5c0-1.1-.9-2-2-2zM9 17H7v-7h2v7zm4 0h-2V7h2v10zm4 0h-2v-4h2v4z\"/>\n",
              "    </g>\n",
              "</svg>\n",
              "  </button>\n",
              "\n",
              "<style>\n",
              "  .colab-df-quickchart {\n",
              "      --bg-color: #E8F0FE;\n",
              "      --fill-color: #1967D2;\n",
              "      --hover-bg-color: #E2EBFA;\n",
              "      --hover-fill-color: #174EA6;\n",
              "      --disabled-fill-color: #AAA;\n",
              "      --disabled-bg-color: #DDD;\n",
              "  }\n",
              "\n",
              "  [theme=dark] .colab-df-quickchart {\n",
              "      --bg-color: #3B4455;\n",
              "      --fill-color: #D2E3FC;\n",
              "      --hover-bg-color: #434B5C;\n",
              "      --hover-fill-color: #FFFFFF;\n",
              "      --disabled-bg-color: #3B4455;\n",
              "      --disabled-fill-color: #666;\n",
              "  }\n",
              "\n",
              "  .colab-df-quickchart {\n",
              "    background-color: var(--bg-color);\n",
              "    border: none;\n",
              "    border-radius: 50%;\n",
              "    cursor: pointer;\n",
              "    display: none;\n",
              "    fill: var(--fill-color);\n",
              "    height: 32px;\n",
              "    padding: 0;\n",
              "    width: 32px;\n",
              "  }\n",
              "\n",
              "  .colab-df-quickchart:hover {\n",
              "    background-color: var(--hover-bg-color);\n",
              "    box-shadow: 0 1px 2px rgba(60, 64, 67, 0.3), 0 1px 3px 1px rgba(60, 64, 67, 0.15);\n",
              "    fill: var(--button-hover-fill-color);\n",
              "  }\n",
              "\n",
              "  .colab-df-quickchart-complete:disabled,\n",
              "  .colab-df-quickchart-complete:disabled:hover {\n",
              "    background-color: var(--disabled-bg-color);\n",
              "    fill: var(--disabled-fill-color);\n",
              "    box-shadow: none;\n",
              "  }\n",
              "\n",
              "  .colab-df-spinner {\n",
              "    border: 2px solid var(--fill-color);\n",
              "    border-color: transparent;\n",
              "    border-bottom-color: var(--fill-color);\n",
              "    animation:\n",
              "      spin 1s steps(1) infinite;\n",
              "  }\n",
              "\n",
              "  @keyframes spin {\n",
              "    0% {\n",
              "      border-color: transparent;\n",
              "      border-bottom-color: var(--fill-color);\n",
              "      border-left-color: var(--fill-color);\n",
              "    }\n",
              "    20% {\n",
              "      border-color: transparent;\n",
              "      border-left-color: var(--fill-color);\n",
              "      border-top-color: var(--fill-color);\n",
              "    }\n",
              "    30% {\n",
              "      border-color: transparent;\n",
              "      border-left-color: var(--fill-color);\n",
              "      border-top-color: var(--fill-color);\n",
              "      border-right-color: var(--fill-color);\n",
              "    }\n",
              "    40% {\n",
              "      border-color: transparent;\n",
              "      border-right-color: var(--fill-color);\n",
              "      border-top-color: var(--fill-color);\n",
              "    }\n",
              "    60% {\n",
              "      border-color: transparent;\n",
              "      border-right-color: var(--fill-color);\n",
              "    }\n",
              "    80% {\n",
              "      border-color: transparent;\n",
              "      border-right-color: var(--fill-color);\n",
              "      border-bottom-color: var(--fill-color);\n",
              "    }\n",
              "    90% {\n",
              "      border-color: transparent;\n",
              "      border-bottom-color: var(--fill-color);\n",
              "    }\n",
              "  }\n",
              "</style>\n",
              "\n",
              "  <script>\n",
              "    async function quickchart(key) {\n",
              "      const quickchartButtonEl =\n",
              "        document.querySelector('#' + key + ' button');\n",
              "      quickchartButtonEl.disabled = true;  // To prevent multiple clicks.\n",
              "      quickchartButtonEl.classList.add('colab-df-spinner');\n",
              "      try {\n",
              "        const charts = await google.colab.kernel.invokeFunction(\n",
              "            'suggestCharts', [key], {});\n",
              "      } catch (error) {\n",
              "        console.error('Error during call to suggestCharts:', error);\n",
              "      }\n",
              "      quickchartButtonEl.classList.remove('colab-df-spinner');\n",
              "      quickchartButtonEl.classList.add('colab-df-quickchart-complete');\n",
              "    }\n",
              "    (() => {\n",
              "      let quickchartButtonEl =\n",
              "        document.querySelector('#df-876e048a-12f4-49bd-8767-3b83bea6e641 button');\n",
              "      quickchartButtonEl.style.display =\n",
              "        google.colab.kernel.accessAllowed ? 'block' : 'none';\n",
              "    })();\n",
              "  </script>\n",
              "</div>\n",
              "\n",
              "  <div id=\"id_fc25c79c-88ca-4b46-940d-7654ca5aa6f1\">\n",
              "    <style>\n",
              "      .colab-df-generate {\n",
              "        background-color: #E8F0FE;\n",
              "        border: none;\n",
              "        border-radius: 50%;\n",
              "        cursor: pointer;\n",
              "        display: none;\n",
              "        fill: #1967D2;\n",
              "        height: 32px;\n",
              "        padding: 0 0 0 0;\n",
              "        width: 32px;\n",
              "      }\n",
              "\n",
              "      .colab-df-generate:hover {\n",
              "        background-color: #E2EBFA;\n",
              "        box-shadow: 0px 1px 2px rgba(60, 64, 67, 0.3), 0px 1px 3px 1px rgba(60, 64, 67, 0.15);\n",
              "        fill: #174EA6;\n",
              "      }\n",
              "\n",
              "      [theme=dark] .colab-df-generate {\n",
              "        background-color: #3B4455;\n",
              "        fill: #D2E3FC;\n",
              "      }\n",
              "\n",
              "      [theme=dark] .colab-df-generate:hover {\n",
              "        background-color: #434B5C;\n",
              "        box-shadow: 0px 1px 3px 1px rgba(0, 0, 0, 0.15);\n",
              "        filter: drop-shadow(0px 1px 2px rgba(0, 0, 0, 0.3));\n",
              "        fill: #FFFFFF;\n",
              "      }\n",
              "    </style>\n",
              "    <button class=\"colab-df-generate\" onclick=\"generateWithVariable('train_bal')\"\n",
              "            title=\"Generate code using this dataframe.\"\n",
              "            style=\"display:none;\">\n",
              "\n",
              "  <svg xmlns=\"http://www.w3.org/2000/svg\" height=\"24px\"viewBox=\"0 0 24 24\"\n",
              "       width=\"24px\">\n",
              "    <path d=\"M7,19H8.4L18.45,9,17,7.55,7,17.6ZM5,21V16.75L18.45,3.32a2,2,0,0,1,2.83,0l1.4,1.43a1.91,1.91,0,0,1,.58,1.4,1.91,1.91,0,0,1-.58,1.4L9.25,21ZM18.45,9,17,7.55Zm-12,3A5.31,5.31,0,0,0,4.9,8.1,5.31,5.31,0,0,0,1,6.5,5.31,5.31,0,0,0,4.9,4.9,5.31,5.31,0,0,0,6.5,1,5.31,5.31,0,0,0,8.1,4.9,5.31,5.31,0,0,0,12,6.5,5.46,5.46,0,0,0,6.5,12Z\"/>\n",
              "  </svg>\n",
              "    </button>\n",
              "    <script>\n",
              "      (() => {\n",
              "      const buttonEl =\n",
              "        document.querySelector('#id_fc25c79c-88ca-4b46-940d-7654ca5aa6f1 button.colab-df-generate');\n",
              "      buttonEl.style.display =\n",
              "        google.colab.kernel.accessAllowed ? 'block' : 'none';\n",
              "\n",
              "      buttonEl.onclick = () => {\n",
              "        google.colab.notebook.generateWithVariable('train_bal');\n",
              "      }\n",
              "      })();\n",
              "    </script>\n",
              "  </div>\n",
              "\n",
              "    </div>\n",
              "  </div>\n"
            ]
          },
          "metadata": {},
          "execution_count": 4
        }
      ]
    },
    {
      "cell_type": "code",
      "source": [
        "import re, string, time, nltk\n",
        "import numpy as np\n",
        "nltk.download('omw-1.4')\n",
        "nltk.download('wordnet')\n",
        "nltk.download('stopwords')\n",
        "from nltk.corpus import stopwords as stopwordprovider\n",
        "from nltk.stem.porter import PorterStemmer\n",
        "from nltk.stem import WordNetLemmatizer"
      ],
      "metadata": {
        "colab": {
          "base_uri": "https://localhost:8080/"
        },
        "id": "iADH_DTECJ5E",
        "outputId": "c373c7f0-a17e-4584-ea18-b31dccf78e13"
      },
      "execution_count": 5,
      "outputs": [
        {
          "output_type": "stream",
          "name": "stderr",
          "text": [
            "[nltk_data] Downloading package omw-1.4 to /root/nltk_data...\n",
            "[nltk_data] Downloading package wordnet to /root/nltk_data...\n",
            "[nltk_data] Downloading package stopwords to /root/nltk_data...\n",
            "[nltk_data]   Unzipping corpora/stopwords.zip.\n"
          ]
        }
      ]
    },
    {
      "cell_type": "code",
      "source": [
        "train_bal.info()"
      ],
      "metadata": {
        "colab": {
          "base_uri": "https://localhost:8080/"
        },
        "id": "qaHf2cjiCmOd",
        "outputId": "2634e819-67f2-42c4-b7b3-d1fa30bbc979"
      },
      "execution_count": 6,
      "outputs": [
        {
          "output_type": "stream",
          "name": "stdout",
          "text": [
            "<class 'pandas.core.frame.DataFrame'>\n",
            "RangeIndex: 808618 entries, 0 to 808617\n",
            "Data columns (total 20 columns):\n",
            " #   Column                 Non-Null Count   Dtype \n",
            "---  ------                 --------------   ----- \n",
            " 0   Unnamed: 0             808618 non-null  int64 \n",
            " 1   label                  808618 non-null  int64 \n",
            " 2   comment                808618 non-null  object\n",
            " 3   author                 808618 non-null  object\n",
            " 4   subreddit              808618 non-null  object\n",
            " 5   score                  808618 non-null  int64 \n",
            " 6   ups                    808618 non-null  int64 \n",
            " 7   downs                  808618 non-null  int64 \n",
            " 8   date                   808618 non-null  object\n",
            " 9   created_utc            808618 non-null  object\n",
            " 10  parent_comment         808618 non-null  object\n",
            " 11  exclamation_count      808618 non-null  int64 \n",
            " 12  questionmark_count     808618 non-null  int64 \n",
            " 13  period_count           808618 non-null  int64 \n",
            " 14  space_count            808618 non-null  int64 \n",
            " 15  slash_count            808618 non-null  int64 \n",
            " 16  elips_count            808618 non-null  int64 \n",
            " 17  capital_letters_count  808618 non-null  int64 \n",
            " 18  word_count             808618 non-null  int64 \n",
            " 19  total_punctuation      808618 non-null  int64 \n",
            "dtypes: int64(14), object(6)\n",
            "memory usage: 123.4+ MB\n"
          ]
        }
      ]
    },
    {
      "cell_type": "code",
      "source": [
        "y = train_bal['label']\n",
        "X = train_bal.drop(columns=['label'])"
      ],
      "metadata": {
        "id": "lPn8BNwCIKOu"
      },
      "execution_count": 7,
      "outputs": []
    },
    {
      "cell_type": "code",
      "source": [
        "from sklearn.model_selection import train_test_split\n",
        "X_train, X_test, y_train, y_test = train_test_split(X, y, test_size=0.2, random_state=0)\n"
      ],
      "metadata": {
        "id": "t8zGxd5oHyaq"
      },
      "execution_count": 9,
      "outputs": []
    },
    {
      "cell_type": "code",
      "source": [
        "y_train.shape[0]"
      ],
      "metadata": {
        "colab": {
          "base_uri": "https://localhost:8080/"
        },
        "id": "NL3A3XdTPtlQ",
        "outputId": "668f8e3c-0798-4958-c0c6-6d9296183b9a"
      },
      "execution_count": 10,
      "outputs": [
        {
          "output_type": "execute_result",
          "data": {
            "text/plain": [
              "646894"
            ]
          },
          "metadata": {},
          "execution_count": 10
        }
      ]
    },
    {
      "cell_type": "code",
      "source": [
        "X_train.shape[0]"
      ],
      "metadata": {
        "colab": {
          "base_uri": "https://localhost:8080/"
        },
        "id": "cbIFZJzXP0NO",
        "outputId": "927be92c-85ca-4415-f729-d49a58747d9d"
      },
      "execution_count": 11,
      "outputs": [
        {
          "output_type": "execute_result",
          "data": {
            "text/plain": [
              "646894"
            ]
          },
          "metadata": {},
          "execution_count": 11
        }
      ]
    },
    {
      "cell_type": "code",
      "source": [
        "X_text = X_train[['comment', 'parent_comment']]\n",
        "X_numeric = X_train[['word_count', 'capital_letters_count', 'total_punctuation', 'score']] # add brians feature engineering"
      ],
      "metadata": {
        "id": "A7fWClefDnS7"
      },
      "execution_count": 12,
      "outputs": []
    },
    {
      "cell_type": "code",
      "source": [
        "X_numeric.shape[0]"
      ],
      "metadata": {
        "colab": {
          "base_uri": "https://localhost:8080/"
        },
        "id": "wf5xr8wmP7VU",
        "outputId": "5d465cc8-c4b2-408a-faf9-876ed69022a7"
      },
      "execution_count": 13,
      "outputs": [
        {
          "output_type": "execute_result",
          "data": {
            "text/plain": [
              "646894"
            ]
          },
          "metadata": {},
          "execution_count": 13
        }
      ]
    },
    {
      "cell_type": "code",
      "source": [
        "X_text.shape[0]"
      ],
      "metadata": {
        "colab": {
          "base_uri": "https://localhost:8080/"
        },
        "id": "7hkhJcjtRiO3",
        "outputId": "9733b4db-a128-46fc-8821-c08e623111bd"
      },
      "execution_count": 14,
      "outputs": [
        {
          "output_type": "execute_result",
          "data": {
            "text/plain": [
              "646894"
            ]
          },
          "metadata": {},
          "execution_count": 14
        }
      ]
    },
    {
      "cell_type": "code",
      "source": [
        "max_words = 10000  # Maximum number of words to keep based on word frequency\n",
        "max_seq_length = 100  # Maximum length of sequences"
      ],
      "metadata": {
        "id": "Xv1CbJ_JECdP"
      },
      "execution_count": 15,
      "outputs": []
    },
    {
      "cell_type": "code",
      "source": [
        "import pandas as pd\n",
        "\n",
        "from sklearn.preprocessing import StandardScaler\n",
        "from tensorflow.keras.preprocessing.text import Tokenizer\n",
        "from tensorflow.keras.preprocessing.sequence import pad_sequences\n",
        "from tensorflow.keras.layers import Input, Embedding, Conv1D, MaxPooling1D, concatenate, Flatten, Dense\n",
        "from tensorflow.keras.models import Model\n",
        "from tensorflow.keras.utils import plot_model\n",
        "\n",
        "tokenizer = Tokenizer(num_words=max_words)\n",
        "tokenizer.fit_on_texts(X_text['comment'] + ' ' + X_text['parent_comment'])"
      ],
      "metadata": {
        "id": "vkKhwNpGEVpo"
      },
      "execution_count": 16,
      "outputs": []
    },
    {
      "cell_type": "code",
      "source": [
        "X_text_comment_seq = tokenizer.texts_to_sequences(X_text['comment'])\n",
        "X_text_parent_comment_seq = tokenizer.texts_to_sequences(X_text['parent_comment'])"
      ],
      "metadata": {
        "id": "8U6rSQhHE19Y"
      },
      "execution_count": 17,
      "outputs": []
    },
    {
      "cell_type": "code",
      "source": [
        "len(X_text_parent_comment_seq)"
      ],
      "metadata": {
        "colab": {
          "base_uri": "https://localhost:8080/"
        },
        "id": "5AxTFnVeQDNG",
        "outputId": "bcc7c2b6-6257-48b7-c86f-d7f6c592e433"
      },
      "execution_count": 18,
      "outputs": [
        {
          "output_type": "execute_result",
          "data": {
            "text/plain": [
              "646894"
            ]
          },
          "metadata": {},
          "execution_count": 18
        }
      ]
    },
    {
      "cell_type": "code",
      "source": [
        "len(X_text_comment_seq)"
      ],
      "metadata": {
        "colab": {
          "base_uri": "https://localhost:8080/"
        },
        "id": "yMGYmmYqR_sZ",
        "outputId": "f5e46ec5-f442-4b92-b956-52ac683db29c"
      },
      "execution_count": 19,
      "outputs": [
        {
          "output_type": "execute_result",
          "data": {
            "text/plain": [
              "646894"
            ]
          },
          "metadata": {},
          "execution_count": 19
        }
      ]
    },
    {
      "cell_type": "code",
      "source": [
        "y_train.shape[0]"
      ],
      "metadata": {
        "colab": {
          "base_uri": "https://localhost:8080/"
        },
        "id": "pvJsrq5lSDR4",
        "outputId": "653a5372-74c9-46cf-c37b-2ed1cd3d5221"
      },
      "execution_count": 20,
      "outputs": [
        {
          "output_type": "execute_result",
          "data": {
            "text/plain": [
              "646894"
            ]
          },
          "metadata": {},
          "execution_count": 20
        }
      ]
    },
    {
      "cell_type": "code",
      "source": [
        "X_text_comment_pad = pad_sequences(X_text_comment_seq, maxlen=max_seq_length)\n",
        "X_text_parent_comment_pad = pad_sequences(X_text_parent_comment_seq, maxlen=max_seq_length)"
      ],
      "metadata": {
        "id": "AWS2YuvXFO2o"
      },
      "execution_count": 21,
      "outputs": []
    },
    {
      "cell_type": "code",
      "source": [
        "len(X_text_comment_pad)"
      ],
      "metadata": {
        "colab": {
          "base_uri": "https://localhost:8080/"
        },
        "id": "nNkXrtVvSO8A",
        "outputId": "cd387fe9-a93c-409a-fc06-d91a89d60f90"
      },
      "execution_count": 22,
      "outputs": [
        {
          "output_type": "execute_result",
          "data": {
            "text/plain": [
              "646894"
            ]
          },
          "metadata": {},
          "execution_count": 22
        }
      ]
    },
    {
      "cell_type": "code",
      "source": [
        "len(X_text_parent_comment_pad)"
      ],
      "metadata": {
        "colab": {
          "base_uri": "https://localhost:8080/"
        },
        "id": "4o-27OYcSTtN",
        "outputId": "80c33665-9dc5-45a4-93bf-06636ba52904"
      },
      "execution_count": 23,
      "outputs": [
        {
          "output_type": "execute_result",
          "data": {
            "text/plain": [
              "646894"
            ]
          },
          "metadata": {},
          "execution_count": 23
        }
      ]
    },
    {
      "cell_type": "code",
      "source": [
        "scaler = StandardScaler()\n",
        "X_numeric_scaled = scaler.fit_transform(X_numeric)"
      ],
      "metadata": {
        "id": "PsZ11UoIGxPm"
      },
      "execution_count": 24,
      "outputs": []
    },
    {
      "cell_type": "code",
      "source": [
        "X_numeric_scaled.shape[0]"
      ],
      "metadata": {
        "colab": {
          "base_uri": "https://localhost:8080/"
        },
        "id": "7m3kK7NyKNEv",
        "outputId": "1c3a06f0-7c0a-4808-d773-6d4c6b31aacb"
      },
      "execution_count": 25,
      "outputs": [
        {
          "output_type": "execute_result",
          "data": {
            "text/plain": [
              "646894"
            ]
          },
          "metadata": {},
          "execution_count": 25
        }
      ]
    },
    {
      "cell_type": "code",
      "source": [
        "from keras.layers import Input, Embedding, Conv1D, MaxPooling1D, Flatten, Dense, concatenate, Dropout\n",
        "from keras.models import Model\n",
        "\n",
        "\n",
        "\n",
        "# tune pooling size\n",
        "pool_size = 2\n",
        "\n",
        "# smaller batch size for memory purposes\n",
        "batch_size = 32\n",
        "\n",
        "# Three model inputs so far\n",
        "comment_input = Input(shape=(max_seq_length,), name='comment_input')\n",
        "parent_comment_input = Input(shape=(max_seq_length,), name='parent_comment_input')\n",
        "numeric_input = Input(shape=(X_numeric_scaled.shape[1],), name='numeric_input')\n",
        "\n",
        "embedding_dim = 100\n",
        "num_filters = 128\n",
        "filter_sizes = [3, 4, 5]\n",
        "\n",
        "embedding_layer = Embedding(input_dim=max_words, output_dim=embedding_dim, input_length=max_seq_length)\n",
        "comment_embedding = embedding_layer(comment_input)\n",
        "parent_comment_embedding = embedding_layer(parent_comment_input)\n",
        "\n",
        "conv_blocks = []\n",
        "for filter_size in filter_sizes:\n",
        "    conv_comment = Conv1D(filters=num_filters,\n",
        "                          kernel_size=filter_size,\n",
        "                          padding='valid',\n",
        "                          activation='relu',\n",
        "                          strides=1)(comment_embedding)\n",
        "    conv_parent_comment = Conv1D(filters=num_filters,\n",
        "                                 kernel_size=filter_size,\n",
        "                                 padding='valid',\n",
        "                                 activation='relu',\n",
        "                                 strides=1)(parent_comment_embedding)\n",
        "\n",
        "    max_pool_comment = MaxPooling1D(pool_size=max_seq_length - filter_size + 1)(conv_comment)\n",
        "    max_pool_parent_comment = MaxPooling1D(pool_size=max_seq_length - filter_size + 1)(conv_parent_comment)\n",
        "\n",
        "    conv_blocks.append(max_pool_comment)\n",
        "    conv_blocks.append(max_pool_parent_comment)\n",
        "\n",
        "\n",
        "# numeric_dense = Dense(64, activation='relu')(numeric_input)\n",
        "# numeric_dense = Dense(32, activation='relu')(numeric_dense)\n",
        "\n",
        "\n",
        "flatten_tensors = [Flatten()(tensor) for tensor in conv_blocks]\n",
        "\n",
        "\n",
        "numeric_dense = Dense(64, activation='relu')(numeric_input)\n",
        "numeric_dense = Dropout(0.5)(numeric_dense)\n",
        "numeric_dense = Dense(32, activation='relu')(numeric_dense)\n",
        "\n",
        "\n",
        "\n",
        "concatenated_final = concatenate(flatten_tensors + [numeric_dense], axis=-1)\n",
        "\n",
        "\n",
        "dense = Dense(128, activation='relu')(concatenated_final)\n",
        "dense = Dropout(0.5)(dense)\n",
        "output = Dense(1, activation='sigmoid')(dense)\n",
        "\n",
        "\n",
        "model1 = Model(inputs=[comment_input, parent_comment_input, numeric_input], outputs=output)\n",
        "\n",
        "model1.compile(optimizer='adam', loss='binary_crossentropy', metrics=['accuracy'])\n",
        "model1.summary()\n",
        "plot_model(model1)\n",
        "\n",
        "\n",
        "\n",
        "\n"
      ],
      "metadata": {
        "colab": {
          "base_uri": "https://localhost:8080/",
          "height": 1000
        },
        "id": "9T69rpviIibk",
        "outputId": "3e781457-1bfe-4454-ca49-cf28c82c2ee3"
      },
      "execution_count": 41,
      "outputs": [
        {
          "output_type": "stream",
          "name": "stdout",
          "text": [
            "Model: \"model_3\"\n",
            "__________________________________________________________________________________________________\n",
            " Layer (type)                Output Shape                 Param #   Connected to                  \n",
            "==================================================================================================\n",
            " comment_input (InputLayer)  [(None, 100)]                0         []                            \n",
            "                                                                                                  \n",
            " parent_comment_input (Inpu  [(None, 100)]                0         []                            \n",
            " tLayer)                                                                                          \n",
            "                                                                                                  \n",
            " embedding_3 (Embedding)     (None, 100, 100)             1000000   ['comment_input[0][0]',       \n",
            "                                                                     'parent_comment_input[0][0]']\n",
            "                                                                                                  \n",
            " numeric_input (InputLayer)  [(None, 4)]                  0         []                            \n",
            "                                                                                                  \n",
            " conv1d_18 (Conv1D)          (None, 98, 128)              38528     ['embedding_3[0][0]']         \n",
            "                                                                                                  \n",
            " conv1d_19 (Conv1D)          (None, 98, 128)              38528     ['embedding_3[1][0]']         \n",
            "                                                                                                  \n",
            " conv1d_20 (Conv1D)          (None, 97, 128)              51328     ['embedding_3[0][0]']         \n",
            "                                                                                                  \n",
            " conv1d_21 (Conv1D)          (None, 97, 128)              51328     ['embedding_3[1][0]']         \n",
            "                                                                                                  \n",
            " conv1d_22 (Conv1D)          (None, 96, 128)              64128     ['embedding_3[0][0]']         \n",
            "                                                                                                  \n",
            " conv1d_23 (Conv1D)          (None, 96, 128)              64128     ['embedding_3[1][0]']         \n",
            "                                                                                                  \n",
            " dense_14 (Dense)            (None, 64)                   320       ['numeric_input[0][0]']       \n",
            "                                                                                                  \n",
            " max_pooling1d_18 (MaxPooli  (None, 1, 128)               0         ['conv1d_18[0][0]']           \n",
            " ng1D)                                                                                            \n",
            "                                                                                                  \n",
            " max_pooling1d_19 (MaxPooli  (None, 1, 128)               0         ['conv1d_19[0][0]']           \n",
            " ng1D)                                                                                            \n",
            "                                                                                                  \n",
            " max_pooling1d_20 (MaxPooli  (None, 1, 128)               0         ['conv1d_20[0][0]']           \n",
            " ng1D)                                                                                            \n",
            "                                                                                                  \n",
            " max_pooling1d_21 (MaxPooli  (None, 1, 128)               0         ['conv1d_21[0][0]']           \n",
            " ng1D)                                                                                            \n",
            "                                                                                                  \n",
            " max_pooling1d_22 (MaxPooli  (None, 1, 128)               0         ['conv1d_22[0][0]']           \n",
            " ng1D)                                                                                            \n",
            "                                                                                                  \n",
            " max_pooling1d_23 (MaxPooli  (None, 1, 128)               0         ['conv1d_23[0][0]']           \n",
            " ng1D)                                                                                            \n",
            "                                                                                                  \n",
            " dropout_3 (Dropout)         (None, 64)                   0         ['dense_14[0][0]']            \n",
            "                                                                                                  \n",
            " flatten_18 (Flatten)        (None, 128)                  0         ['max_pooling1d_18[0][0]']    \n",
            "                                                                                                  \n",
            " flatten_19 (Flatten)        (None, 128)                  0         ['max_pooling1d_19[0][0]']    \n",
            "                                                                                                  \n",
            " flatten_20 (Flatten)        (None, 128)                  0         ['max_pooling1d_20[0][0]']    \n",
            "                                                                                                  \n",
            " flatten_21 (Flatten)        (None, 128)                  0         ['max_pooling1d_21[0][0]']    \n",
            "                                                                                                  \n",
            " flatten_22 (Flatten)        (None, 128)                  0         ['max_pooling1d_22[0][0]']    \n",
            "                                                                                                  \n",
            " flatten_23 (Flatten)        (None, 128)                  0         ['max_pooling1d_23[0][0]']    \n",
            "                                                                                                  \n",
            " dense_15 (Dense)            (None, 32)                   2080      ['dropout_3[0][0]']           \n",
            "                                                                                                  \n",
            " concatenate_3 (Concatenate  (None, 800)                  0         ['flatten_18[0][0]',          \n",
            " )                                                                   'flatten_19[0][0]',          \n",
            "                                                                     'flatten_20[0][0]',          \n",
            "                                                                     'flatten_21[0][0]',          \n",
            "                                                                     'flatten_22[0][0]',          \n",
            "                                                                     'flatten_23[0][0]',          \n",
            "                                                                     'dense_15[0][0]']            \n",
            "                                                                                                  \n",
            " dense_16 (Dense)            (None, 128)                  102528    ['concatenate_3[0][0]']       \n",
            "                                                                                                  \n",
            " dropout_4 (Dropout)         (None, 128)                  0         ['dense_16[0][0]']            \n",
            "                                                                                                  \n",
            " dense_17 (Dense)            (None, 1)                    129       ['dropout_4[0][0]']           \n",
            "                                                                                                  \n",
            "==================================================================================================\n",
            "Total params: 1413025 (5.39 MB)\n",
            "Trainable params: 1413025 (5.39 MB)\n",
            "Non-trainable params: 0 (0.00 Byte)\n",
            "__________________________________________________________________________________________________\n"
          ]
        },
        {
          "output_type": "execute_result",
          "data": {
            "image/png": "[encoded data removed]",
            "text/plain": [
              "<IPython.core.display.Image object>"
            ]
          },
          "metadata": {},
          "execution_count": 41
        }
      ]
    },
    {
      "cell_type": "code",
      "source": [
        "X_text_test = X_test[['comment', 'parent_comment']]\n",
        "X_numeric_test = X_test[['word_count', 'capital_letters_count', 'total_punctuation', 'score']] # add brians feature engineering"
      ],
      "metadata": {
        "id": "mt5Xai4-OmAL"
      },
      "execution_count": 27,
      "outputs": []
    },
    {
      "cell_type": "code",
      "source": [
        "X_text_comment_seq_test = tokenizer.texts_to_sequences(X_text_test['comment'])\n",
        "X_text_parent_comment_seq_test = tokenizer.texts_to_sequences(X_text_test['parent_comment'])"
      ],
      "metadata": {
        "id": "V-qXRqiUO-Cn"
      },
      "execution_count": 28,
      "outputs": []
    },
    {
      "cell_type": "code",
      "source": [
        "X_text_comment_pad_test = pad_sequences(X_text_comment_seq_test, maxlen=max_seq_length)\n",
        "X_text_parent_comment_pad_test = pad_sequences(X_text_parent_comment_seq_test, maxlen=max_seq_length)"
      ],
      "metadata": {
        "id": "LahsOuvVO4KC"
      },
      "execution_count": 29,
      "outputs": []
    },
    {
      "cell_type": "code",
      "source": [
        "scaler = StandardScaler()\n",
        "X_numeric_scaled_test = scaler.fit_transform(X_numeric_test)"
      ],
      "metadata": {
        "id": "XnGKNL4fPPH0"
      },
      "execution_count": 30,
      "outputs": []
    },
    {
      "cell_type": "code",
      "source": [
        "y_train.shape[0]"
      ],
      "metadata": {
        "colab": {
          "base_uri": "https://localhost:8080/"
        },
        "id": "HFV5BsKcPfjx",
        "outputId": "2676dca8-e961-4f19-d2ad-b4550ed45350"
      },
      "execution_count": 31,
      "outputs": [
        {
          "output_type": "execute_result",
          "data": {
            "text/plain": [
              "646894"
            ]
          },
          "metadata": {},
          "execution_count": 31
        }
      ]
    },
    {
      "cell_type": "code",
      "source": [
        "len(X_text_comment_pad)"
      ],
      "metadata": {
        "colab": {
          "base_uri": "https://localhost:8080/"
        },
        "id": "vlptZx7eQjGo",
        "outputId": "6a06b846-25a2-4e8c-aece-749990ec841b"
      },
      "execution_count": 32,
      "outputs": [
        {
          "output_type": "execute_result",
          "data": {
            "text/plain": [
              "646894"
            ]
          },
          "metadata": {},
          "execution_count": 32
        }
      ]
    },
    {
      "cell_type": "code",
      "source": [
        "model1.fit({'comment_input': X_text_comment_pad, 'parent_comment_input': X_text_parent_comment_pad, 'numeric_input': X_numeric_scaled}, y_train, epochs=4, batch_size=batch_size, validation_split=0.1)\n",
        "\n",
        "\n"
      ],
      "metadata": {
        "colab": {
          "base_uri": "https://localhost:8080/"
        },
        "id": "ger_pwIhLPKA",
        "outputId": "4cb23281-f119-4866-c728-e1cadce66b93"
      },
      "execution_count": 42,
      "outputs": [
        {
          "output_type": "stream",
          "name": "stdout",
          "text": [
            "Epoch 1/4\n",
            "18194/18194 [==============================] - 152s 8ms/step - loss: 0.5644 - accuracy: 0.7085 - val_loss: 0.5448 - val_accuracy: 0.7203\n",
            "Epoch 2/4\n",
            "18194/18194 [==============================] - 125s 7ms/step - loss: 0.5199 - accuracy: 0.7442 - val_loss: 0.5406 - val_accuracy: 0.7277\n",
            "Epoch 3/4\n",
            "18194/18194 [==============================] - 125s 7ms/step - loss: 0.4781 - accuracy: 0.7711 - val_loss: 0.5536 - val_accuracy: 0.7236\n",
            "Epoch 4/4\n",
            "18194/18194 [==============================] - 122s 7ms/step - loss: 0.4273 - accuracy: 0.8001 - val_loss: 0.5742 - val_accuracy: 0.7158\n"
          ]
        },
        {
          "output_type": "execute_result",
          "data": {
            "text/plain": [
              "<keras.src.callbacks.History at 0x7f718055e350>"
            ]
          },
          "metadata": {},
          "execution_count": 42
        }
      ]
    },
    {
      "cell_type": "code",
      "source": [
        "loss, accuracy = model1.evaluate({'comment_input': X_text_comment_pad_test,\n",
        "                                 'parent_comment_input': X_text_parent_comment_pad_test,\n",
        "                                 'numeric_input': X_numeric_scaled_test},\n",
        "                                y_test)\n",
        "\n",
        "print(\"Test Loss:\", loss)\n",
        "print(\"Test Accuracy:\", accuracy)\n"
      ],
      "metadata": {
        "colab": {
          "base_uri": "https://localhost:8080/"
        },
        "id": "0DhFcPEWLBh8",
        "outputId": "904a4721-27cb-4a3c-ef6d-46d2791bdee1"
      },
      "execution_count": 37,
      "outputs": [
        {
          "output_type": "stream",
          "name": "stdout",
          "text": [
            "5054/5054 [==============================] - 15s 3ms/step - loss: 0.5888 - accuracy: 0.7039\n",
            "Test Loss: 0.588805615901947\n",
            "Test Accuracy: 0.703933835029602\n"
          ]
        }
      ]
    },
    {
      "cell_type": "code",
      "source": [
        "from sklearn.metrics import accuracy_score, precision_score, recall_score, f1_score, roc_auc_score\n",
        "from keras.models import Model\n",
        "\n",
        "predictions = model1.predict({'comment_input': X_text_comment_pad_test,\n",
        "                             'parent_comment_input': X_text_parent_comment_pad_test,\n",
        "                             'numeric_input': X_numeric_scaled_test})\n",
        "\n",
        "prediction_result = (predictions > 0.5).astype('int32')\n",
        "\n",
        "accuracy = accuracy_score(y_test, prediction_result)\n",
        "print('Accuracy: %f' % accuracy)\n",
        "\n",
        "\n",
        "precision = precision_score(y_test, prediction_result)\n",
        "print('Precision: %f' % precision)\n",
        "\n",
        "\n",
        "recall = recall_score(y_test, prediction_result)\n",
        "print('Recall: %f' % recall)\n",
        "\n",
        "\n",
        "f1 = f1_score(y_test, prediction_result)\n",
        "print('F1 score: %f' % f1)\n",
        "\n",
        "\n",
        "predictions = predictions.flatten()\n",
        "auc = roc_auc_score(y_test, predictions)\n",
        "print('ROC AUC: %f' % auc)\n",
        "\n",
        "\n"
      ],
      "metadata": {
        "colab": {
          "base_uri": "https://localhost:8080/"
        },
        "id": "R670Cps3hMmM",
        "outputId": "2e94b1a8-5f18-415f-e382-9aeb31add307"
      },
      "execution_count": 43,
      "outputs": [
        {
          "output_type": "stream",
          "name": "stdout",
          "text": [
            "5054/5054 [==============================] - 11s 2ms/step\n",
            "Accuracy: 0.704558\n",
            "Precision: 0.693029\n",
            "Recall: 0.737353\n",
            "F1 score: 0.714504\n",
            "ROC AUC: 0.781382\n"
          ]
        }
      ]
    },
    {
      "cell_type": "markdown",
      "source": [
        "#Build CNN with comment and parent comment\n"
      ],
      "metadata": {
        "id": "NF-6G-fjlMvj"
      }
    },
    {
      "cell_type": "markdown",
      "source": [
        "#CNN Model 2"
      ],
      "metadata": {
        "id": "2RhgGU0ynmr3"
      }
    },
    {
      "cell_type": "code",
      "source": [
        "from keras.layers import Input, Embedding, Conv1D, MaxPooling1D, Flatten, Dense, concatenate, Dropout\n",
        "from keras.models import Model\n",
        "\n",
        "\n",
        "\n",
        "# tune pooling size\n",
        "pool_size = 2\n",
        "\n",
        "# smaller batch size for memory purposes\n",
        "batch_size = 32\n",
        "\n",
        "# Three model inputs so far\n",
        "comment_input = Input(shape=(max_seq_length,), name='comment_input')\n",
        "parent_comment_input = Input(shape=(max_seq_length,), name='parent_comment_input')\n",
        "numeric_input = Input(shape=(X_numeric_scaled.shape[1],), name='numeric_input')\n",
        "\n",
        "embedding_dim = 100\n",
        "num_filters = 128\n",
        "filter_size = 3\n",
        "\n",
        "embedding_layer = Embedding(input_dim=max_words, output_dim=embedding_dim, input_length=max_seq_length)\n",
        "comment_embedding = embedding_layer(comment_input)\n",
        "parent_comment_embedding = embedding_layer(parent_comment_input)\n",
        "\n",
        "\n",
        "conv_comment = Conv1D(filters=num_filters,\n",
        "                          kernel_size=filter_size,\n",
        "                          padding='valid',\n",
        "                          activation='relu',\n",
        "                          strides=1)(comment_embedding)\n",
        "conv_parent_comment = Conv1D(filters=num_filters,\n",
        "                              kernel_size=filter_size,\n",
        "                              padding='valid',\n",
        "                              activation='relu',\n",
        "                              strides=1)(parent_comment_embedding)\n",
        "\n",
        "max_pool_comment = MaxPooling1D(pool_size=max_seq_length - filter_size + 1)(conv_comment)\n",
        "max_pool_parent_comment = MaxPooling1D(pool_size=max_seq_length - filter_size + 1)(conv_parent_comment)\n",
        "\n",
        "conv_blocks = []\n",
        "conv_blocks.append(max_pool_comment)\n",
        "conv_blocks.append(max_pool_parent_comment)\n",
        "\n",
        "\n",
        "# numeric_dense = Dense(64, activation='relu')(numeric_input)\n",
        "# numeric_dense = Dense(32, activation='relu')(numeric_dense)\n",
        "\n",
        "\n",
        "flatten_tensors = [Flatten()(tensor) for tensor in conv_blocks]\n",
        "\n",
        "\n",
        "numeric_dense = Dense(64, activation='relu')(numeric_input)\n",
        "# numeric_dense = Dropout(0.5)(numeric_dense)\n",
        "numeric_dense = Dense(32, activation='relu')(numeric_dense)\n",
        "\n",
        "\n",
        "\n",
        "concatenated_final = concatenate(flatten_tensors + [numeric_dense], axis=-1)\n",
        "\n",
        "\n",
        "dense = Dense(128, activation='relu')(concatenated_final)\n",
        "dense = Dropout(0.5)(dense)\n",
        "output = Dense(1, activation='sigmoid')(dense)\n",
        "\n",
        "\n",
        "model2 = Model(inputs=[comment_input, parent_comment_input, numeric_input], outputs=output)\n",
        "\n",
        "model2.compile(optimizer='adam', loss='binary_crossentropy', metrics=['accuracy'])\n",
        "model2.summary()\n",
        "plot_model(model2)\n",
        "\n",
        "\n",
        "\n",
        "\n"
      ],
      "metadata": {
        "colab": {
          "base_uri": "https://localhost:8080/",
          "height": 1000
        },
        "outputId": "934ad68a-c68d-418f-ad8e-b0afec87a780",
        "id": "1d3ho8XLppFp"
      },
      "execution_count": 45,
      "outputs": [
        {
          "output_type": "stream",
          "name": "stdout",
          "text": [
            "Model: \"model_5\"\n",
            "__________________________________________________________________________________________________\n",
            " Layer (type)                Output Shape                 Param #   Connected to                  \n",
            "==================================================================================================\n",
            " comment_input (InputLayer)  [(None, 100)]                0         []                            \n",
            "                                                                                                  \n",
            " parent_comment_input (Inpu  [(None, 100)]                0         []                            \n",
            " tLayer)                                                                                          \n",
            "                                                                                                  \n",
            " embedding_5 (Embedding)     (None, 100, 100)             1000000   ['comment_input[0][0]',       \n",
            "                                                                     'parent_comment_input[0][0]']\n",
            "                                                                                                  \n",
            " conv1d_26 (Conv1D)          (None, 98, 128)              38528     ['embedding_5[0][0]']         \n",
            "                                                                                                  \n",
            " conv1d_27 (Conv1D)          (None, 98, 128)              38528     ['embedding_5[1][0]']         \n",
            "                                                                                                  \n",
            " numeric_input (InputLayer)  [(None, 4)]                  0         []                            \n",
            "                                                                                                  \n",
            " max_pooling1d_26 (MaxPooli  (None, 1, 128)               0         ['conv1d_26[0][0]']           \n",
            " ng1D)                                                                                            \n",
            "                                                                                                  \n",
            " max_pooling1d_27 (MaxPooli  (None, 1, 128)               0         ['conv1d_27[0][0]']           \n",
            " ng1D)                                                                                            \n",
            "                                                                                                  \n",
            " dense_22 (Dense)            (None, 64)                   320       ['numeric_input[0][0]']       \n",
            "                                                                                                  \n",
            " flatten_26 (Flatten)        (None, 128)                  0         ['max_pooling1d_26[0][0]']    \n",
            "                                                                                                  \n",
            " flatten_27 (Flatten)        (None, 128)                  0         ['max_pooling1d_27[0][0]']    \n",
            "                                                                                                  \n",
            " dense_23 (Dense)            (None, 32)                   2080      ['dense_22[0][0]']            \n",
            "                                                                                                  \n",
            " concatenate_5 (Concatenate  (None, 288)                  0         ['flatten_26[0][0]',          \n",
            " )                                                                   'flatten_27[0][0]',          \n",
            "                                                                     'dense_23[0][0]']            \n",
            "                                                                                                  \n",
            " dense_24 (Dense)            (None, 128)                  36992     ['concatenate_5[0][0]']       \n",
            "                                                                                                  \n",
            " dropout_7 (Dropout)         (None, 128)                  0         ['dense_24[0][0]']            \n",
            "                                                                                                  \n",
            " dense_25 (Dense)            (None, 1)                    129       ['dropout_7[0][0]']           \n",
            "                                                                                                  \n",
            "==================================================================================================\n",
            "Total params: 1116577 (4.26 MB)\n",
            "Trainable params: 1116577 (4.26 MB)\n",
            "Non-trainable params: 0 (0.00 Byte)\n",
            "__________________________________________________________________________________________________\n"
          ]
        },
        {
          "output_type": "execute_result",
          "data": {
            "image/png": "[encoded data removed]",
            "text/plain": [
              "<IPython.core.display.Image object>"
            ]
          },
          "metadata": {},
          "execution_count": 45
        }
      ]
    },
    {
      "cell_type": "code",
      "source": [
        "model2.fit({'comment_input': X_text_comment_pad, 'parent_comment_input': X_text_parent_comment_pad, 'numeric_input': X_numeric_scaled}, y_train, epochs=4, batch_size=batch_size, validation_split=0.1)\n",
        "\n",
        "\n"
      ],
      "metadata": {
        "colab": {
          "base_uri": "https://localhost:8080/"
        },
        "id": "GEF9urn5rlAl",
        "outputId": "f321ff3b-a63f-402c-8016-364cfaca49c4"
      },
      "execution_count": 46,
      "outputs": [
        {
          "output_type": "stream",
          "name": "stdout",
          "text": [
            "Epoch 1/4\n",
            "18194/18194 [==============================] - 117s 6ms/step - loss: 0.5621 - accuracy: 0.7097 - val_loss: 0.5379 - val_accuracy: 0.7263\n",
            "Epoch 2/4\n",
            "18194/18194 [==============================] - 90s 5ms/step - loss: 0.5163 - accuracy: 0.7454 - val_loss: 0.5436 - val_accuracy: 0.7191\n",
            "Epoch 3/4\n",
            "18194/18194 [==============================] - 88s 5ms/step - loss: 0.4780 - accuracy: 0.7712 - val_loss: 0.5417 - val_accuracy: 0.7234\n",
            "Epoch 4/4\n",
            "18194/18194 [==============================] - 88s 5ms/step - loss: 0.4338 - accuracy: 0.7966 - val_loss: 0.5888 - val_accuracy: 0.7170\n"
          ]
        },
        {
          "output_type": "execute_result",
          "data": {
            "text/plain": [
              "<keras.src.callbacks.History at 0x7f71831cedd0>"
            ]
          },
          "metadata": {},
          "execution_count": 46
        }
      ]
    },
    {
      "cell_type": "code",
      "source": [
        "from sklearn.metrics import accuracy_score, precision_score, recall_score, f1_score, roc_auc_score\n",
        "from keras.models import Model\n",
        "\n",
        "predictions = model2.predict({'comment_input': X_text_comment_pad_test,\n",
        "                             'parent_comment_input': X_text_parent_comment_pad_test,\n",
        "                             'numeric_input': X_numeric_scaled_test})\n",
        "\n",
        "prediction_result = (predictions > 0.5).astype('int32')\n",
        "\n",
        "accuracy = accuracy_score(y_test, prediction_result)\n",
        "print('Accuracy: %f' % accuracy)\n",
        "\n",
        "\n",
        "precision = precision_score(y_test, prediction_result)\n",
        "print('Precision: %f' % precision)\n",
        "\n",
        "\n",
        "recall = recall_score(y_test, prediction_result)\n",
        "print('Recall: %f' % recall)\n",
        "\n",
        "\n",
        "f1 = f1_score(y_test, prediction_result)\n",
        "print('F1 score: %f' % f1)\n",
        "\n",
        "\n",
        "predictions = predictions.flatten()\n",
        "auc = roc_auc_score(y_test, predictions)\n",
        "print('ROC AUC: %f' % auc)\n"
      ],
      "metadata": {
        "colab": {
          "base_uri": "https://localhost:8080/"
        },
        "id": "H_ey9kO2tJt5",
        "outputId": "a1877e3c-6d0e-444f-da5a-8d48ba9d08ac"
      },
      "execution_count": 47,
      "outputs": [
        {
          "output_type": "stream",
          "name": "stdout",
          "text": [
            "5054/5054 [==============================] - 9s 2ms/step\n",
            "Accuracy: 0.682224\n",
            "Precision: 0.662234\n",
            "Recall: 0.747416\n",
            "F1 score: 0.702251\n",
            "ROC AUC: 0.758511\n"
          ]
        }
      ]
    },
    {
      "cell_type": "markdown",
      "source": [
        "#Next steps: Stacking Convolutional Layer, addings additional features, more parameter tuning\n"
      ],
      "metadata": {
        "id": "ZGqB4ruDtare"
      }
    }
  ]
}