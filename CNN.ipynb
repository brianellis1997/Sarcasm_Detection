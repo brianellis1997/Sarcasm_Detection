{
  "nbformat": 4,
  "nbformat_minor": 0,
  "metadata": {
    "colab": {
      "provenance": [],
      "machine_shape": "hm",
      "gpuType": "T4",
      "authorship_tag": "ABX9TyP7ZsOnl4QoDKdIX43QagWb",
      "include_colab_link": true
    },
    "kernelspec": {
      "name": "python3",
      "display_name": "Python 3"
    },
    "language_info": {
      "name": "python"
    },
    "accelerator": "GPU"
  },
  "cells": [
    {
      "cell_type": "markdown",
      "metadata": {
        "id": "view-in-github",
        "colab_type": "text"
      },
      "source": [
        "<a href=\"https://colab.research.google.com/github/brianellis1997/Sarcasm_Detection/blob/Lindsey/CNN.ipynb\" target=\"_parent\"><img src=\"https://colab.research.google.com/assets/colab-badge.svg\" alt=\"Open In Colab\"/></a>"
      ]
    },
    {
      "cell_type": "code",
      "execution_count": 137,
      "metadata": {
        "colab": {
          "base_uri": "https://localhost:8080/"
        },
        "id": "TtsYYXm9Ai-8",
        "outputId": "14105038-39ad-468f-d642-8c6fcd0681df"
      },
      "outputs": [
        {
          "output_type": "stream",
          "name": "stdout",
          "text": [
            "fatal: destination path 'Sarcasm_Detection' already exists and is not an empty directory.\n"
          ]
        }
      ],
      "source": [
        "!git clone https://github.com/brianellis1997/Sarcasm_Detection.git"
      ]
    },
    {
      "cell_type": "code",
      "source": [
        "from google.colab import drive\n",
        "drive.mount('/content/drive')"
      ],
      "metadata": {
        "colab": {
          "base_uri": "https://localhost:8080/"
        },
        "id": "zbMXxrJhAzzx",
        "outputId": "d6ccaf5a-6f84-4d51-d4f1-7aeb6224ece4"
      },
      "execution_count": 138,
      "outputs": [
        {
          "output_type": "stream",
          "name": "stdout",
          "text": [
            "Drive already mounted at /content/drive; to attempt to forcibly remount, call drive.mount(\"/content/drive\", force_remount=True).\n"
          ]
        }
      ]
    },
    {
      "cell_type": "code",
      "source": [
        "import pandas as pd\n",
        "train_bal = pd.read_csv('/content/drive/MyDrive/Sarcasm_Data/train_bal_2.csv')"
      ],
      "metadata": {
        "id": "fgv65YZHBDFG"
      },
      "execution_count": 139,
      "outputs": []
    },
    {
      "cell_type": "code",
      "source": [
        "train_bal"
      ],
      "metadata": {
        "colab": {
          "base_uri": "https://localhost:8080/",
          "height": 1000
        },
        "id": "iT15Bp3uCG6b",
        "outputId": "7dbd6d59-65b0-42e5-e993-8a8bd7235902"
      },
      "execution_count": 140,
      "outputs": [
        {
          "output_type": "execute_result",
          "data": {
            "text/plain": [
              "        Unnamed: 0  label                                            comment  \\\n",
              "0           522142      0  I personally wasn't a huge Garrosh fan, I've a...   \n",
              "1           907864      1                                     you forgot the   \n",
              "2           604170      1                 Nah man, she's clearly an ad carry   \n",
              "3           110635      1                            This sub in a nutshell.   \n",
              "4           997758      0                                       Yes... I do.   \n",
              "...            ...    ...                                                ...   \n",
              "808613      368312      1                 Yeah, all asians are smart, right?   \n",
              "808614      541588      1                                  Nah I was serious   \n",
              "808615      833824      0  you are assuming way too much there is no liab...   \n",
              "808616       55102      1  But Planned Parenthood is the devil and must b...   \n",
              "808617      213871      0     Some people have more than 1 TB of data though   \n",
              "\n",
              "                author        subreddit  score  ups  downs        date  \\\n",
              "0          cromemako83        AskReddit      2    2      0  2015-07-01   \n",
              "1          _SharkWeek_        AskReddit      1    1      0  2013-03-01   \n",
              "2            jdswift13  leagueoflegends      1    1      0  2015-10-01   \n",
              "3            trickz-M-  GlobalOffensive      1   -1     -1  2016-12-01   \n",
              "4            guriboysf           videos      4    4      0  2010-01-01   \n",
              "...                ...              ...    ...  ...    ...         ...   \n",
              "808613        est1roth           europe      2    2      0  2016-04-01   \n",
              "808614       SrrBrrGrr            funny     -5   -5      0  2015-08-01   \n",
              "808615             cqm             blog      1    1      0  2014-09-01   \n",
              "808616  DrScientist812        worldnews      3    3      0  2016-09-01   \n",
              "808617      maliciousa              mac      1    1      0  2016-05-01   \n",
              "\n",
              "                created_utc  \\\n",
              "0       2015-07-11 01:55:53   \n",
              "1       2013-03-14 03:03:46   \n",
              "2       2015-10-21 23:22:17   \n",
              "3       2016-12-05 03:50:18   \n",
              "4       2010-01-17 21:32:40   \n",
              "...                     ...   \n",
              "808613  2016-04-17 00:05:51   \n",
              "808614  2015-08-11 23:15:11   \n",
              "808615  2014-09-30 21:44:06   \n",
              "808616  2016-09-06 12:40:25   \n",
              "808617  2016-05-23 03:23:59   \n",
              "\n",
              "                                           parent_comment  exclamation_count  \\\n",
              "0       Fuck Vol'jin. Garrosh Hellscream did nothing w...                  0   \n",
              "1       That's a lie fed to you by the LIEberal media....                  0   \n",
              "2                                       she isnt already?                  0   \n",
              "3                 Cloud 9 Qualify! (ONLY C9 FANS ALLOWED(                  0   \n",
              "4                       \"so, i hear you have a fat cock.\"                  0   \n",
              "...                                                   ...                ...   \n",
              "808613   Well if an asian woman says it, it must be true.                  0   \n",
              "808614  I don't think people understand you were jokin...                  0   \n",
              "808615  They're not saying it is easy. In fact they we...                  0   \n",
              "808616  Fall in ovarian cancer deaths worldwide linked...                  1   \n",
              "808617  I didn't watch the youtube video, but judging ...                  0   \n",
              "\n",
              "        questionmark_count  period_count  space_count  slash_count  \\\n",
              "0                        0             1            0            0   \n",
              "1                        0             0            0            0   \n",
              "2                        0             0            0            0   \n",
              "3                        0             1            0            0   \n",
              "4                        0             4            0            0   \n",
              "...                    ...           ...          ...          ...   \n",
              "808613                   1             0            0            0   \n",
              "808614                   0             0            0            0   \n",
              "808615                   0             0            0            0   \n",
              "808616                   0             0            0            0   \n",
              "808617                   0             0            0            0   \n",
              "\n",
              "        elips_count  capital_letters_count  word_count  total_punctuation  \n",
              "0                 0                      5          14                  4  \n",
              "1                 0                      0           3                  0  \n",
              "2                 0                      1           7                  2  \n",
              "3                 0                      1           5                  1  \n",
              "4                 0                      2           3                  4  \n",
              "...             ...                    ...         ...                ...  \n",
              "808613            0                      1           6                  3  \n",
              "808614            0                      2           4                  0  \n",
              "808615            0                      0          41                  6  \n",
              "808616            0                      3          13                  1  \n",
              "808617            0                      3          10                  0  \n",
              "\n",
              "[808618 rows x 20 columns]"
            ],
            "text/html": [
              "\n",
              "  <div id=\"df-8cd7dceb-0fa9-4582-a0b4-b016886751c0\" class=\"colab-df-container\">\n",
              "    <div>\n",
              "<style scoped>\n",
              "    .dataframe tbody tr th:only-of-type {\n",
              "        vertical-align: middle;\n",
              "    }\n",
              "\n",
              "    .dataframe tbody tr th {\n",
              "        vertical-align: top;\n",
              "    }\n",
              "\n",
              "    .dataframe thead th {\n",
              "        text-align: right;\n",
              "    }\n",
              "</style>\n",
              "<table border=\"1\" class=\"dataframe\">\n",
              "  <thead>\n",
              "    <tr style=\"text-align: right;\">\n",
              "      <th></th>\n",
              "      <th>Unnamed: 0</th>\n",
              "      <th>label</th>\n",
              "      <th>comment</th>\n",
              "      <th>author</th>\n",
              "      <th>subreddit</th>\n",
              "      <th>score</th>\n",
              "      <th>ups</th>\n",
              "      <th>downs</th>\n",
              "      <th>date</th>\n",
              "      <th>created_utc</th>\n",
              "      <th>parent_comment</th>\n",
              "      <th>exclamation_count</th>\n",
              "      <th>questionmark_count</th>\n",
              "      <th>period_count</th>\n",
              "      <th>space_count</th>\n",
              "      <th>slash_count</th>\n",
              "      <th>elips_count</th>\n",
              "      <th>capital_letters_count</th>\n",
              "      <th>word_count</th>\n",
              "      <th>total_punctuation</th>\n",
              "    </tr>\n",
              "  </thead>\n",
              "  <tbody>\n",
              "    <tr>\n",
              "      <th>0</th>\n",
              "      <td>522142</td>\n",
              "      <td>0</td>\n",
              "      <td>I personally wasn't a huge Garrosh fan, I've a...</td>\n",
              "      <td>cromemako83</td>\n",
              "      <td>AskReddit</td>\n",
              "      <td>2</td>\n",
              "      <td>2</td>\n",
              "      <td>0</td>\n",
              "      <td>2015-07-01</td>\n",
              "      <td>2015-07-11 01:55:53</td>\n",
              "      <td>Fuck Vol'jin. Garrosh Hellscream did nothing w...</td>\n",
              "      <td>0</td>\n",
              "      <td>0</td>\n",
              "      <td>1</td>\n",
              "      <td>0</td>\n",
              "      <td>0</td>\n",
              "      <td>0</td>\n",
              "      <td>5</td>\n",
              "      <td>14</td>\n",
              "      <td>4</td>\n",
              "    </tr>\n",
              "    <tr>\n",
              "      <th>1</th>\n",
              "      <td>907864</td>\n",
              "      <td>1</td>\n",
              "      <td>you forgot the</td>\n",
              "      <td>_SharkWeek_</td>\n",
              "      <td>AskReddit</td>\n",
              "      <td>1</td>\n",
              "      <td>1</td>\n",
              "      <td>0</td>\n",
              "      <td>2013-03-01</td>\n",
              "      <td>2013-03-14 03:03:46</td>\n",
              "      <td>That's a lie fed to you by the LIEberal media....</td>\n",
              "      <td>0</td>\n",
              "      <td>0</td>\n",
              "      <td>0</td>\n",
              "      <td>0</td>\n",
              "      <td>0</td>\n",
              "      <td>0</td>\n",
              "      <td>0</td>\n",
              "      <td>3</td>\n",
              "      <td>0</td>\n",
              "    </tr>\n",
              "    <tr>\n",
              "      <th>2</th>\n",
              "      <td>604170</td>\n",
              "      <td>1</td>\n",
              "      <td>Nah man, she's clearly an ad carry</td>\n",
              "      <td>jdswift13</td>\n",
              "      <td>leagueoflegends</td>\n",
              "      <td>1</td>\n",
              "      <td>1</td>\n",
              "      <td>0</td>\n",
              "      <td>2015-10-01</td>\n",
              "      <td>2015-10-21 23:22:17</td>\n",
              "      <td>she isnt already?</td>\n",
              "      <td>0</td>\n",
              "      <td>0</td>\n",
              "      <td>0</td>\n",
              "      <td>0</td>\n",
              "      <td>0</td>\n",
              "      <td>0</td>\n",
              "      <td>1</td>\n",
              "      <td>7</td>\n",
              "      <td>2</td>\n",
              "    </tr>\n",
              "    <tr>\n",
              "      <th>3</th>\n",
              "      <td>110635</td>\n",
              "      <td>1</td>\n",
              "      <td>This sub in a nutshell.</td>\n",
              "      <td>trickz-M-</td>\n",
              "      <td>GlobalOffensive</td>\n",
              "      <td>1</td>\n",
              "      <td>-1</td>\n",
              "      <td>-1</td>\n",
              "      <td>2016-12-01</td>\n",
              "      <td>2016-12-05 03:50:18</td>\n",
              "      <td>Cloud 9 Qualify! (ONLY C9 FANS ALLOWED(</td>\n",
              "      <td>0</td>\n",
              "      <td>0</td>\n",
              "      <td>1</td>\n",
              "      <td>0</td>\n",
              "      <td>0</td>\n",
              "      <td>0</td>\n",
              "      <td>1</td>\n",
              "      <td>5</td>\n",
              "      <td>1</td>\n",
              "    </tr>\n",
              "    <tr>\n",
              "      <th>4</th>\n",
              "      <td>997758</td>\n",
              "      <td>0</td>\n",
              "      <td>Yes... I do.</td>\n",
              "      <td>guriboysf</td>\n",
              "      <td>videos</td>\n",
              "      <td>4</td>\n",
              "      <td>4</td>\n",
              "      <td>0</td>\n",
              "      <td>2010-01-01</td>\n",
              "      <td>2010-01-17 21:32:40</td>\n",
              "      <td>\"so, i hear you have a fat cock.\"</td>\n",
              "      <td>0</td>\n",
              "      <td>0</td>\n",
              "      <td>4</td>\n",
              "      <td>0</td>\n",
              "      <td>0</td>\n",
              "      <td>0</td>\n",
              "      <td>2</td>\n",
              "      <td>3</td>\n",
              "      <td>4</td>\n",
              "    </tr>\n",
              "    <tr>\n",
              "      <th>...</th>\n",
              "      <td>...</td>\n",
              "      <td>...</td>\n",
              "      <td>...</td>\n",
              "      <td>...</td>\n",
              "      <td>...</td>\n",
              "      <td>...</td>\n",
              "      <td>...</td>\n",
              "      <td>...</td>\n",
              "      <td>...</td>\n",
              "      <td>...</td>\n",
              "      <td>...</td>\n",
              "      <td>...</td>\n",
              "      <td>...</td>\n",
              "      <td>...</td>\n",
              "      <td>...</td>\n",
              "      <td>...</td>\n",
              "      <td>...</td>\n",
              "      <td>...</td>\n",
              "      <td>...</td>\n",
              "      <td>...</td>\n",
              "    </tr>\n",
              "    <tr>\n",
              "      <th>808613</th>\n",
              "      <td>368312</td>\n",
              "      <td>1</td>\n",
              "      <td>Yeah, all asians are smart, right?</td>\n",
              "      <td>est1roth</td>\n",
              "      <td>europe</td>\n",
              "      <td>2</td>\n",
              "      <td>2</td>\n",
              "      <td>0</td>\n",
              "      <td>2016-04-01</td>\n",
              "      <td>2016-04-17 00:05:51</td>\n",
              "      <td>Well if an asian woman says it, it must be true.</td>\n",
              "      <td>0</td>\n",
              "      <td>1</td>\n",
              "      <td>0</td>\n",
              "      <td>0</td>\n",
              "      <td>0</td>\n",
              "      <td>0</td>\n",
              "      <td>1</td>\n",
              "      <td>6</td>\n",
              "      <td>3</td>\n",
              "    </tr>\n",
              "    <tr>\n",
              "      <th>808614</th>\n",
              "      <td>541588</td>\n",
              "      <td>1</td>\n",
              "      <td>Nah I was serious</td>\n",
              "      <td>SrrBrrGrr</td>\n",
              "      <td>funny</td>\n",
              "      <td>-5</td>\n",
              "      <td>-5</td>\n",
              "      <td>0</td>\n",
              "      <td>2015-08-01</td>\n",
              "      <td>2015-08-11 23:15:11</td>\n",
              "      <td>I don't think people understand you were jokin...</td>\n",
              "      <td>0</td>\n",
              "      <td>0</td>\n",
              "      <td>0</td>\n",
              "      <td>0</td>\n",
              "      <td>0</td>\n",
              "      <td>0</td>\n",
              "      <td>2</td>\n",
              "      <td>4</td>\n",
              "      <td>0</td>\n",
              "    </tr>\n",
              "    <tr>\n",
              "      <th>808615</th>\n",
              "      <td>833824</td>\n",
              "      <td>0</td>\n",
              "      <td>you are assuming way too much there is no liab...</td>\n",
              "      <td>cqm</td>\n",
              "      <td>blog</td>\n",
              "      <td>1</td>\n",
              "      <td>1</td>\n",
              "      <td>0</td>\n",
              "      <td>2014-09-01</td>\n",
              "      <td>2014-09-30 21:44:06</td>\n",
              "      <td>They're not saying it is easy. In fact they we...</td>\n",
              "      <td>0</td>\n",
              "      <td>0</td>\n",
              "      <td>0</td>\n",
              "      <td>0</td>\n",
              "      <td>0</td>\n",
              "      <td>0</td>\n",
              "      <td>0</td>\n",
              "      <td>41</td>\n",
              "      <td>6</td>\n",
              "    </tr>\n",
              "    <tr>\n",
              "      <th>808616</th>\n",
              "      <td>55102</td>\n",
              "      <td>1</td>\n",
              "      <td>But Planned Parenthood is the devil and must b...</td>\n",
              "      <td>DrScientist812</td>\n",
              "      <td>worldnews</td>\n",
              "      <td>3</td>\n",
              "      <td>3</td>\n",
              "      <td>0</td>\n",
              "      <td>2016-09-01</td>\n",
              "      <td>2016-09-06 12:40:25</td>\n",
              "      <td>Fall in ovarian cancer deaths worldwide linked...</td>\n",
              "      <td>1</td>\n",
              "      <td>0</td>\n",
              "      <td>0</td>\n",
              "      <td>0</td>\n",
              "      <td>0</td>\n",
              "      <td>0</td>\n",
              "      <td>3</td>\n",
              "      <td>13</td>\n",
              "      <td>1</td>\n",
              "    </tr>\n",
              "    <tr>\n",
              "      <th>808617</th>\n",
              "      <td>213871</td>\n",
              "      <td>0</td>\n",
              "      <td>Some people have more than 1 TB of data though</td>\n",
              "      <td>maliciousa</td>\n",
              "      <td>mac</td>\n",
              "      <td>1</td>\n",
              "      <td>1</td>\n",
              "      <td>0</td>\n",
              "      <td>2016-05-01</td>\n",
              "      <td>2016-05-23 03:23:59</td>\n",
              "      <td>I didn't watch the youtube video, but judging ...</td>\n",
              "      <td>0</td>\n",
              "      <td>0</td>\n",
              "      <td>0</td>\n",
              "      <td>0</td>\n",
              "      <td>0</td>\n",
              "      <td>0</td>\n",
              "      <td>3</td>\n",
              "      <td>10</td>\n",
              "      <td>0</td>\n",
              "    </tr>\n",
              "  </tbody>\n",
              "</table>\n",
              "<p>808618 rows × 20 columns</p>\n",
              "</div>\n",
              "    <div class=\"colab-df-buttons\">\n",
              "\n",
              "  <div class=\"colab-df-container\">\n",
              "    <button class=\"colab-df-convert\" onclick=\"convertToInteractive('df-8cd7dceb-0fa9-4582-a0b4-b016886751c0')\"\n",
              "            title=\"Convert this dataframe to an interactive table.\"\n",
              "            style=\"display:none;\">\n",
              "\n",
              "  <svg xmlns=\"http://www.w3.org/2000/svg\" height=\"24px\" viewBox=\"0 -960 960 960\">\n",
              "    <path d=\"M120-120v-720h720v720H120Zm60-500h600v-160H180v160Zm220 220h160v-160H400v160Zm0 220h160v-160H400v160ZM180-400h160v-160H180v160Zm440 0h160v-160H620v160ZM180-180h160v-160H180v160Zm440 0h160v-160H620v160Z\"/>\n",
              "  </svg>\n",
              "    </button>\n",
              "\n",
              "  <style>\n",
              "    .colab-df-container {\n",
              "      display:flex;\n",
              "      gap: 12px;\n",
              "    }\n",
              "\n",
              "    .colab-df-convert {\n",
              "      background-color: #E8F0FE;\n",
              "      border: none;\n",
              "      border-radius: 50%;\n",
              "      cursor: pointer;\n",
              "      display: none;\n",
              "      fill: #1967D2;\n",
              "      height: 32px;\n",
              "      padding: 0 0 0 0;\n",
              "      width: 32px;\n",
              "    }\n",
              "\n",
              "    .colab-df-convert:hover {\n",
              "      background-color: #E2EBFA;\n",
              "      box-shadow: 0px 1px 2px rgba(60, 64, 67, 0.3), 0px 1px 3px 1px rgba(60, 64, 67, 0.15);\n",
              "      fill: #174EA6;\n",
              "    }\n",
              "\n",
              "    .colab-df-buttons div {\n",
              "      margin-bottom: 4px;\n",
              "    }\n",
              "\n",
              "    [theme=dark] .colab-df-convert {\n",
              "      background-color: #3B4455;\n",
              "      fill: #D2E3FC;\n",
              "    }\n",
              "\n",
              "    [theme=dark] .colab-df-convert:hover {\n",
              "      background-color: #434B5C;\n",
              "      box-shadow: 0px 1px 3px 1px rgba(0, 0, 0, 0.15);\n",
              "      filter: drop-shadow(0px 1px 2px rgba(0, 0, 0, 0.3));\n",
              "      fill: #FFFFFF;\n",
              "    }\n",
              "  </style>\n",
              "\n",
              "    <script>\n",
              "      const buttonEl =\n",
              "        document.querySelector('#df-8cd7dceb-0fa9-4582-a0b4-b016886751c0 button.colab-df-convert');\n",
              "      buttonEl.style.display =\n",
              "        google.colab.kernel.accessAllowed ? 'block' : 'none';\n",
              "\n",
              "      async function convertToInteractive(key) {\n",
              "        const element = document.querySelector('#df-8cd7dceb-0fa9-4582-a0b4-b016886751c0');\n",
              "        const dataTable =\n",
              "          await google.colab.kernel.invokeFunction('convertToInteractive',\n",
              "                                                    [key], {});\n",
              "        if (!dataTable) return;\n",
              "\n",
              "        const docLinkHtml = 'Like what you see? Visit the ' +\n",
              "          '<a target=\"_blank\" href=https://colab.research.google.com/notebooks/data_table.ipynb>data table notebook</a>'\n",
              "          + ' to learn more about interactive tables.';\n",
              "        element.innerHTML = '';\n",
              "        dataTable['output_type'] = 'display_data';\n",
              "        await google.colab.output.renderOutput(dataTable, element);\n",
              "        const docLink = document.createElement('div');\n",
              "        docLink.innerHTML = docLinkHtml;\n",
              "        element.appendChild(docLink);\n",
              "      }\n",
              "    </script>\n",
              "  </div>\n",
              "\n",
              "\n",
              "<div id=\"df-7431cb82-fd18-4ef9-8137-0c01e5c3ca8f\">\n",
              "  <button class=\"colab-df-quickchart\" onclick=\"quickchart('df-7431cb82-fd18-4ef9-8137-0c01e5c3ca8f')\"\n",
              "            title=\"Suggest charts\"\n",
              "            style=\"display:none;\">\n",
              "\n",
              "<svg xmlns=\"http://www.w3.org/2000/svg\" height=\"24px\"viewBox=\"0 0 24 24\"\n",
              "     width=\"24px\">\n",
              "    <g>\n",
              "        <path d=\"M19 3H5c-1.1 0-2 .9-2 2v14c0 1.1.9 2 2 2h14c1.1 0 2-.9 2-2V5c0-1.1-.9-2-2-2zM9 17H7v-7h2v7zm4 0h-2V7h2v10zm4 0h-2v-4h2v4z\"/>\n",
              "    </g>\n",
              "</svg>\n",
              "  </button>\n",
              "\n",
              "<style>\n",
              "  .colab-df-quickchart {\n",
              "      --bg-color: #E8F0FE;\n",
              "      --fill-color: #1967D2;\n",
              "      --hover-bg-color: #E2EBFA;\n",
              "      --hover-fill-color: #174EA6;\n",
              "      --disabled-fill-color: #AAA;\n",
              "      --disabled-bg-color: #DDD;\n",
              "  }\n",
              "\n",
              "  [theme=dark] .colab-df-quickchart {\n",
              "      --bg-color: #3B4455;\n",
              "      --fill-color: #D2E3FC;\n",
              "      --hover-bg-color: #434B5C;\n",
              "      --hover-fill-color: #FFFFFF;\n",
              "      --disabled-bg-color: #3B4455;\n",
              "      --disabled-fill-color: #666;\n",
              "  }\n",
              "\n",
              "  .colab-df-quickchart {\n",
              "    background-color: var(--bg-color);\n",
              "    border: none;\n",
              "    border-radius: 50%;\n",
              "    cursor: pointer;\n",
              "    display: none;\n",
              "    fill: var(--fill-color);\n",
              "    height: 32px;\n",
              "    padding: 0;\n",
              "    width: 32px;\n",
              "  }\n",
              "\n",
              "  .colab-df-quickchart:hover {\n",
              "    background-color: var(--hover-bg-color);\n",
              "    box-shadow: 0 1px 2px rgba(60, 64, 67, 0.3), 0 1px 3px 1px rgba(60, 64, 67, 0.15);\n",
              "    fill: var(--button-hover-fill-color);\n",
              "  }\n",
              "\n",
              "  .colab-df-quickchart-complete:disabled,\n",
              "  .colab-df-quickchart-complete:disabled:hover {\n",
              "    background-color: var(--disabled-bg-color);\n",
              "    fill: var(--disabled-fill-color);\n",
              "    box-shadow: none;\n",
              "  }\n",
              "\n",
              "  .colab-df-spinner {\n",
              "    border: 2px solid var(--fill-color);\n",
              "    border-color: transparent;\n",
              "    border-bottom-color: var(--fill-color);\n",
              "    animation:\n",
              "      spin 1s steps(1) infinite;\n",
              "  }\n",
              "\n",
              "  @keyframes spin {\n",
              "    0% {\n",
              "      border-color: transparent;\n",
              "      border-bottom-color: var(--fill-color);\n",
              "      border-left-color: var(--fill-color);\n",
              "    }\n",
              "    20% {\n",
              "      border-color: transparent;\n",
              "      border-left-color: var(--fill-color);\n",
              "      border-top-color: var(--fill-color);\n",
              "    }\n",
              "    30% {\n",
              "      border-color: transparent;\n",
              "      border-left-color: var(--fill-color);\n",
              "      border-top-color: var(--fill-color);\n",
              "      border-right-color: var(--fill-color);\n",
              "    }\n",
              "    40% {\n",
              "      border-color: transparent;\n",
              "      border-right-color: var(--fill-color);\n",
              "      border-top-color: var(--fill-color);\n",
              "    }\n",
              "    60% {\n",
              "      border-color: transparent;\n",
              "      border-right-color: var(--fill-color);\n",
              "    }\n",
              "    80% {\n",
              "      border-color: transparent;\n",
              "      border-right-color: var(--fill-color);\n",
              "      border-bottom-color: var(--fill-color);\n",
              "    }\n",
              "    90% {\n",
              "      border-color: transparent;\n",
              "      border-bottom-color: var(--fill-color);\n",
              "    }\n",
              "  }\n",
              "</style>\n",
              "\n",
              "  <script>\n",
              "    async function quickchart(key) {\n",
              "      const quickchartButtonEl =\n",
              "        document.querySelector('#' + key + ' button');\n",
              "      quickchartButtonEl.disabled = true;  // To prevent multiple clicks.\n",
              "      quickchartButtonEl.classList.add('colab-df-spinner');\n",
              "      try {\n",
              "        const charts = await google.colab.kernel.invokeFunction(\n",
              "            'suggestCharts', [key], {});\n",
              "      } catch (error) {\n",
              "        console.error('Error during call to suggestCharts:', error);\n",
              "      }\n",
              "      quickchartButtonEl.classList.remove('colab-df-spinner');\n",
              "      quickchartButtonEl.classList.add('colab-df-quickchart-complete');\n",
              "    }\n",
              "    (() => {\n",
              "      let quickchartButtonEl =\n",
              "        document.querySelector('#df-7431cb82-fd18-4ef9-8137-0c01e5c3ca8f button');\n",
              "      quickchartButtonEl.style.display =\n",
              "        google.colab.kernel.accessAllowed ? 'block' : 'none';\n",
              "    })();\n",
              "  </script>\n",
              "</div>\n",
              "\n",
              "  <div id=\"id_1068e926-f53c-406c-99de-79eaa43c209c\">\n",
              "    <style>\n",
              "      .colab-df-generate {\n",
              "        background-color: #E8F0FE;\n",
              "        border: none;\n",
              "        border-radius: 50%;\n",
              "        cursor: pointer;\n",
              "        display: none;\n",
              "        fill: #1967D2;\n",
              "        height: 32px;\n",
              "        padding: 0 0 0 0;\n",
              "        width: 32px;\n",
              "      }\n",
              "\n",
              "      .colab-df-generate:hover {\n",
              "        background-color: #E2EBFA;\n",
              "        box-shadow: 0px 1px 2px rgba(60, 64, 67, 0.3), 0px 1px 3px 1px rgba(60, 64, 67, 0.15);\n",
              "        fill: #174EA6;\n",
              "      }\n",
              "\n",
              "      [theme=dark] .colab-df-generate {\n",
              "        background-color: #3B4455;\n",
              "        fill: #D2E3FC;\n",
              "      }\n",
              "\n",
              "      [theme=dark] .colab-df-generate:hover {\n",
              "        background-color: #434B5C;\n",
              "        box-shadow: 0px 1px 3px 1px rgba(0, 0, 0, 0.15);\n",
              "        filter: drop-shadow(0px 1px 2px rgba(0, 0, 0, 0.3));\n",
              "        fill: #FFFFFF;\n",
              "      }\n",
              "    </style>\n",
              "    <button class=\"colab-df-generate\" onclick=\"generateWithVariable('train_bal')\"\n",
              "            title=\"Generate code using this dataframe.\"\n",
              "            style=\"display:none;\">\n",
              "\n",
              "  <svg xmlns=\"http://www.w3.org/2000/svg\" height=\"24px\"viewBox=\"0 0 24 24\"\n",
              "       width=\"24px\">\n",
              "    <path d=\"M7,19H8.4L18.45,9,17,7.55,7,17.6ZM5,21V16.75L18.45,3.32a2,2,0,0,1,2.83,0l1.4,1.43a1.91,1.91,0,0,1,.58,1.4,1.91,1.91,0,0,1-.58,1.4L9.25,21ZM18.45,9,17,7.55Zm-12,3A5.31,5.31,0,0,0,4.9,8.1,5.31,5.31,0,0,0,1,6.5,5.31,5.31,0,0,0,4.9,4.9,5.31,5.31,0,0,0,6.5,1,5.31,5.31,0,0,0,8.1,4.9,5.31,5.31,0,0,0,12,6.5,5.46,5.46,0,0,0,6.5,12Z\"/>\n",
              "  </svg>\n",
              "    </button>\n",
              "    <script>\n",
              "      (() => {\n",
              "      const buttonEl =\n",
              "        document.querySelector('#id_1068e926-f53c-406c-99de-79eaa43c209c button.colab-df-generate');\n",
              "      buttonEl.style.display =\n",
              "        google.colab.kernel.accessAllowed ? 'block' : 'none';\n",
              "\n",
              "      buttonEl.onclick = () => {\n",
              "        google.colab.notebook.generateWithVariable('train_bal');\n",
              "      }\n",
              "      })();\n",
              "    </script>\n",
              "  </div>\n",
              "\n",
              "    </div>\n",
              "  </div>\n"
            ],
            "application/vnd.google.colaboratory.intrinsic+json": {
              "type": "dataframe",
              "variable_name": "train_bal"
            }
          },
          "metadata": {},
          "execution_count": 140
        }
      ]
    },
    {
      "cell_type": "code",
      "source": [
        "import re, string, time, nltk\n",
        "import numpy as np\n",
        "nltk.download('omw-1.4')\n",
        "nltk.download('wordnet')\n",
        "nltk.download('stopwords')\n",
        "from nltk.corpus import stopwords as stopwordprovider\n",
        "from nltk.stem.porter import PorterStemmer\n",
        "from nltk.stem import WordNetLemmatizer"
      ],
      "metadata": {
        "colab": {
          "base_uri": "https://localhost:8080/"
        },
        "id": "iADH_DTECJ5E",
        "outputId": "52c4d24d-dcaa-4901-8bae-7b38fb29572f"
      },
      "execution_count": 141,
      "outputs": [
        {
          "output_type": "stream",
          "name": "stderr",
          "text": [
            "[nltk_data] Downloading package omw-1.4 to /root/nltk_data...\n",
            "[nltk_data]   Package omw-1.4 is already up-to-date!\n",
            "[nltk_data] Downloading package wordnet to /root/nltk_data...\n",
            "[nltk_data]   Package wordnet is already up-to-date!\n",
            "[nltk_data] Downloading package stopwords to /root/nltk_data...\n",
            "[nltk_data]   Package stopwords is already up-to-date!\n"
          ]
        }
      ]
    },
    {
      "cell_type": "code",
      "source": [
        "train_bal.info()"
      ],
      "metadata": {
        "colab": {
          "base_uri": "https://localhost:8080/"
        },
        "id": "qaHf2cjiCmOd",
        "outputId": "969a6391-1c7d-4f9c-82bd-a93a510299d7"
      },
      "execution_count": 142,
      "outputs": [
        {
          "output_type": "stream",
          "name": "stdout",
          "text": [
            "<class 'pandas.core.frame.DataFrame'>\n",
            "RangeIndex: 808618 entries, 0 to 808617\n",
            "Data columns (total 20 columns):\n",
            " #   Column                 Non-Null Count   Dtype \n",
            "---  ------                 --------------   ----- \n",
            " 0   Unnamed: 0             808618 non-null  int64 \n",
            " 1   label                  808618 non-null  int64 \n",
            " 2   comment                808618 non-null  object\n",
            " 3   author                 808618 non-null  object\n",
            " 4   subreddit              808618 non-null  object\n",
            " 5   score                  808618 non-null  int64 \n",
            " 6   ups                    808618 non-null  int64 \n",
            " 7   downs                  808618 non-null  int64 \n",
            " 8   date                   808618 non-null  object\n",
            " 9   created_utc            808618 non-null  object\n",
            " 10  parent_comment         808618 non-null  object\n",
            " 11  exclamation_count      808618 non-null  int64 \n",
            " 12  questionmark_count     808618 non-null  int64 \n",
            " 13  period_count           808618 non-null  int64 \n",
            " 14  space_count            808618 non-null  int64 \n",
            " 15  slash_count            808618 non-null  int64 \n",
            " 16  elips_count            808618 non-null  int64 \n",
            " 17  capital_letters_count  808618 non-null  int64 \n",
            " 18  word_count             808618 non-null  int64 \n",
            " 19  total_punctuation      808618 non-null  int64 \n",
            "dtypes: int64(14), object(6)\n",
            "memory usage: 123.4+ MB\n"
          ]
        }
      ]
    },
    {
      "cell_type": "code",
      "source": [
        "y = train_bal['label']\n",
        "X = train_bal.drop(columns=['label'])"
      ],
      "metadata": {
        "id": "lPn8BNwCIKOu"
      },
      "execution_count": 143,
      "outputs": []
    },
    {
      "cell_type": "code",
      "source": [
        "from sklearn.model_selection import train_test_split\n",
        "X_train, X_test, y_train, y_test = train_test_split(X, y, test_size=0.2, random_state=0)\n"
      ],
      "metadata": {
        "id": "t8zGxd5oHyaq"
      },
      "execution_count": 144,
      "outputs": []
    },
    {
      "cell_type": "code",
      "source": [
        "y_train.shape[0]"
      ],
      "metadata": {
        "colab": {
          "base_uri": "https://localhost:8080/"
        },
        "id": "NL3A3XdTPtlQ",
        "outputId": "69fc41d3-c4b3-47a5-ae29-873022467225"
      },
      "execution_count": 145,
      "outputs": [
        {
          "output_type": "execute_result",
          "data": {
            "text/plain": [
              "646894"
            ]
          },
          "metadata": {},
          "execution_count": 145
        }
      ]
    },
    {
      "cell_type": "code",
      "source": [
        "X_train.shape[0]"
      ],
      "metadata": {
        "colab": {
          "base_uri": "https://localhost:8080/"
        },
        "id": "cbIFZJzXP0NO",
        "outputId": "b444e911-1a56-42c8-f7de-cf39ab48f19c"
      },
      "execution_count": 146,
      "outputs": [
        {
          "output_type": "execute_result",
          "data": {
            "text/plain": [
              "646894"
            ]
          },
          "metadata": {},
          "execution_count": 146
        }
      ]
    },
    {
      "cell_type": "markdown",
      "source": [
        "#Preparing train data"
      ],
      "metadata": {
        "id": "_TWTtb8J7v6w"
      }
    },
    {
      "cell_type": "code",
      "source": [
        "X_text = X_train[['comment', 'parent_comment']]\n",
        "X_numeric = X_train[['word_count', 'capital_letters_count', 'total_punctuation']] # add brians feature engineering"
      ],
      "metadata": {
        "id": "A7fWClefDnS7"
      },
      "execution_count": 147,
      "outputs": []
    },
    {
      "cell_type": "code",
      "source": [
        "X_numeric.shape[0]"
      ],
      "metadata": {
        "colab": {
          "base_uri": "https://localhost:8080/"
        },
        "id": "wf5xr8wmP7VU",
        "outputId": "71f110ec-98d3-4f85-cfb2-306ea9b49104"
      },
      "execution_count": 148,
      "outputs": [
        {
          "output_type": "execute_result",
          "data": {
            "text/plain": [
              "646894"
            ]
          },
          "metadata": {},
          "execution_count": 148
        }
      ]
    },
    {
      "cell_type": "code",
      "source": [
        "X_text.shape[0]"
      ],
      "metadata": {
        "colab": {
          "base_uri": "https://localhost:8080/"
        },
        "id": "7hkhJcjtRiO3",
        "outputId": "b0c61d36-2ca2-410f-96b0-151f79f61137"
      },
      "execution_count": 149,
      "outputs": [
        {
          "output_type": "execute_result",
          "data": {
            "text/plain": [
              "646894"
            ]
          },
          "metadata": {},
          "execution_count": 149
        }
      ]
    },
    {
      "cell_type": "code",
      "source": [
        "max_words = 10000  # Maximum number of words to keep based on word frequency\n",
        "max_seq_length = 100  # Maximum length of sequences"
      ],
      "metadata": {
        "id": "Xv1CbJ_JECdP"
      },
      "execution_count": 150,
      "outputs": []
    },
    {
      "cell_type": "code",
      "source": [
        "import pandas as pd\n",
        "\n",
        "from sklearn.preprocessing import StandardScaler\n",
        "from tensorflow.keras.preprocessing.text import Tokenizer\n",
        "from tensorflow.keras.preprocessing.sequence import pad_sequences\n",
        "from tensorflow.keras.layers import Input, Embedding, Conv1D, MaxPooling1D, concatenate, Flatten, Dense\n",
        "from tensorflow.keras.models import Model\n",
        "from tensorflow.keras.utils import plot_model\n",
        "\n",
        "tokenizer = Tokenizer(num_words=max_words)\n",
        "tokenizer.fit_on_texts(X_text['comment'] + ' ' + X_text['parent_comment'])"
      ],
      "metadata": {
        "id": "vkKhwNpGEVpo"
      },
      "execution_count": 151,
      "outputs": []
    },
    {
      "cell_type": "code",
      "source": [
        "X_text_comment_seq = tokenizer.texts_to_sequences(X_text['comment'])\n",
        "X_text_parent_comment_seq = tokenizer.texts_to_sequences(X_text['parent_comment'])"
      ],
      "metadata": {
        "id": "8U6rSQhHE19Y"
      },
      "execution_count": 152,
      "outputs": []
    },
    {
      "cell_type": "code",
      "source": [
        "len(X_text_parent_comment_seq)"
      ],
      "metadata": {
        "colab": {
          "base_uri": "https://localhost:8080/"
        },
        "id": "5AxTFnVeQDNG",
        "outputId": "156a5e6a-6a26-47be-b14e-cf8e3605f4cf"
      },
      "execution_count": 153,
      "outputs": [
        {
          "output_type": "execute_result",
          "data": {
            "text/plain": [
              "646894"
            ]
          },
          "metadata": {},
          "execution_count": 153
        }
      ]
    },
    {
      "cell_type": "code",
      "source": [
        "len(X_text_comment_seq)"
      ],
      "metadata": {
        "colab": {
          "base_uri": "https://localhost:8080/"
        },
        "id": "yMGYmmYqR_sZ",
        "outputId": "cb6d08ef-c9ad-4097-b29d-7b857457d5a7"
      },
      "execution_count": 154,
      "outputs": [
        {
          "output_type": "execute_result",
          "data": {
            "text/plain": [
              "646894"
            ]
          },
          "metadata": {},
          "execution_count": 154
        }
      ]
    },
    {
      "cell_type": "code",
      "source": [
        "y_train.shape[0]"
      ],
      "metadata": {
        "colab": {
          "base_uri": "https://localhost:8080/"
        },
        "id": "pvJsrq5lSDR4",
        "outputId": "6b548232-435d-4b28-dc73-29ef603ebfdd"
      },
      "execution_count": 155,
      "outputs": [
        {
          "output_type": "execute_result",
          "data": {
            "text/plain": [
              "646894"
            ]
          },
          "metadata": {},
          "execution_count": 155
        }
      ]
    },
    {
      "cell_type": "code",
      "source": [
        "X_text_comment_pad = pad_sequences(X_text_comment_seq, maxlen=max_seq_length)\n",
        "X_text_parent_comment_pad = pad_sequences(X_text_parent_comment_seq, maxlen=max_seq_length)"
      ],
      "metadata": {
        "id": "AWS2YuvXFO2o"
      },
      "execution_count": 156,
      "outputs": []
    },
    {
      "cell_type": "code",
      "source": [
        "len(X_text_comment_pad)"
      ],
      "metadata": {
        "colab": {
          "base_uri": "https://localhost:8080/"
        },
        "id": "nNkXrtVvSO8A",
        "outputId": "4e67d69a-c953-4496-d19a-4b0a53210042"
      },
      "execution_count": 157,
      "outputs": [
        {
          "output_type": "execute_result",
          "data": {
            "text/plain": [
              "646894"
            ]
          },
          "metadata": {},
          "execution_count": 157
        }
      ]
    },
    {
      "cell_type": "code",
      "source": [
        "len(X_text_parent_comment_pad)"
      ],
      "metadata": {
        "colab": {
          "base_uri": "https://localhost:8080/"
        },
        "id": "4o-27OYcSTtN",
        "outputId": "f5383dad-9879-4489-8e7f-97e5a4193dda"
      },
      "execution_count": 158,
      "outputs": [
        {
          "output_type": "execute_result",
          "data": {
            "text/plain": [
              "646894"
            ]
          },
          "metadata": {},
          "execution_count": 158
        }
      ]
    },
    {
      "cell_type": "code",
      "source": [
        "scaler = StandardScaler()\n",
        "X_numeric_scaled = scaler.fit_transform(X_numeric)"
      ],
      "metadata": {
        "id": "PsZ11UoIGxPm"
      },
      "execution_count": 159,
      "outputs": []
    },
    {
      "cell_type": "code",
      "source": [
        "X_numeric_scaled.shape[0]"
      ],
      "metadata": {
        "colab": {
          "base_uri": "https://localhost:8080/"
        },
        "id": "7m3kK7NyKNEv",
        "outputId": "fd77e83c-ae6b-46a1-b895-316f09254ab6"
      },
      "execution_count": 160,
      "outputs": [
        {
          "output_type": "execute_result",
          "data": {
            "text/plain": [
              "646894"
            ]
          },
          "metadata": {},
          "execution_count": 160
        }
      ]
    },
    {
      "cell_type": "markdown",
      "source": [
        "#Pretrained word2vec model"
      ],
      "metadata": {
        "id": "vToKMYEOrzSR"
      }
    },
    {
      "cell_type": "code",
      "source": [
        "import gensim\n",
        "from gensim.models.phrases import Phraser, Phrases\n",
        "from gensim.models.word2vec import Word2Vec\n",
        "word2vec = gensim.models.Word2Vec.load('/content/drive/MyDrive/Sarcasm_Data/word2vec.model')"
      ],
      "metadata": {
        "id": "PimYeb7fr10c"
      },
      "execution_count": 161,
      "outputs": []
    },
    {
      "cell_type": "code",
      "source": [
        "similar_words = word2vec.wv.most_similar('ok')\n",
        "similar_words"
      ],
      "metadata": {
        "id": "tOYksVAZsI2L",
        "outputId": "c4a882f6-71c3-4e04-c392-1f5e18e5c434",
        "colab": {
          "base_uri": "https://localhost:8080/"
        }
      },
      "execution_count": 162,
      "outputs": [
        {
          "output_type": "execute_result",
          "data": {
            "text/plain": [
              "[('okay', 0.9446449279785156),\n",
              " ('OK', 0.9253052473068237),\n",
              " ('alright', 0.7982171773910522),\n",
              " ('fine', 0.6672182083129883),\n",
              " ('perfectly_fine', 0.642020046710968),\n",
              " ('cool', 0.5878971815109253),\n",
              " ('justified', 0.5626591444015503),\n",
              " ('wrong', 0.5318138599395752),\n",
              " ('understandable', 0.5288909077644348),\n",
              " ('unacceptable', 0.4947114884853363)]"
            ]
          },
          "metadata": {},
          "execution_count": 162
        }
      ]
    },
    {
      "cell_type": "code",
      "source": [
        "from gensim.models import Word2Vec\n",
        "\n",
        "word_index = {word: idx for idx, word in enumerate(word2vec.wv.index_to_key, start=1)}\n"
      ],
      "metadata": {
        "id": "rHyHDGozvsrs"
      },
      "execution_count": 163,
      "outputs": []
    },
    {
      "cell_type": "code",
      "source": [
        "import numpy as np\n",
        "from keras.layers import Embedding\n",
        "\n",
        "# Assume word2vec is your pre-trained Word2Vec model\n",
        "# Assume word_index is a dictionary mapping from word to integer index\n",
        "# Assume max_words is the size of your vocabulary, and word2vec.vector_size is the size of each word vector\n",
        "\n",
        "embedding_dim = word2vec.vector_size\n",
        "max_words = len(word_index) + 1  # Adjust based on whether you start indexing from 0 or 1\n",
        "\n",
        "# Initialize the embedding matrix\n",
        "embedding_matrix = np.zeros((max_words, embedding_dim))\n",
        "\n",
        "# Populate the embedding matrix\n",
        "for word, i in word_index.items():\n",
        "    if i < max_words:\n",
        "        if word in word2vec.wv:\n",
        "            # Words not found in the embedding index will be all zeros\n",
        "            embedding_matrix[i] = word2vec.wv[word]\n",
        "\n"
      ],
      "metadata": {
        "id": "9L0nq3qru1Up"
      },
      "execution_count": 164,
      "outputs": []
    },
    {
      "cell_type": "code",
      "source": [
        "embedding_dim"
      ],
      "metadata": {
        "id": "CGmd2iDQw-nf",
        "outputId": "8f01a8f9-9a4e-4fea-cbc1-a1b56f07b263",
        "colab": {
          "base_uri": "https://localhost:8080/"
        }
      },
      "execution_count": 165,
      "outputs": [
        {
          "output_type": "execute_result",
          "data": {
            "text/plain": [
              "150"
            ]
          },
          "metadata": {},
          "execution_count": 165
        }
      ]
    },
    {
      "cell_type": "markdown",
      "source": [
        "#Preparing Test Data"
      ],
      "metadata": {
        "id": "N85IjdJow5tt"
      }
    },
    {
      "cell_type": "code",
      "source": [
        "X_text_test = X_test[['comment', 'parent_comment']]\n",
        "X_numeric_test = X_test[['word_count', 'capital_letters_count', 'total_punctuation']] # add brians feature engineering"
      ],
      "metadata": {
        "id": "mt5Xai4-OmAL"
      },
      "execution_count": 166,
      "outputs": []
    },
    {
      "cell_type": "code",
      "source": [
        "X_text_comment_seq_test = tokenizer.texts_to_sequences(X_text_test['comment'])\n",
        "X_text_parent_comment_seq_test = tokenizer.texts_to_sequences(X_text_test['parent_comment'])"
      ],
      "metadata": {
        "id": "V-qXRqiUO-Cn"
      },
      "execution_count": 167,
      "outputs": []
    },
    {
      "cell_type": "code",
      "source": [
        "X_text_comment_pad_test = pad_sequences(X_text_comment_seq_test, maxlen=max_seq_length)\n",
        "X_text_parent_comment_pad_test = pad_sequences(X_text_parent_comment_seq_test, maxlen=max_seq_length)"
      ],
      "metadata": {
        "id": "LahsOuvVO4KC"
      },
      "execution_count": 168,
      "outputs": []
    },
    {
      "cell_type": "code",
      "source": [
        "scaler = StandardScaler()\n",
        "X_numeric_scaled_test = scaler.fit_transform(X_numeric_test)"
      ],
      "metadata": {
        "id": "XnGKNL4fPPH0"
      },
      "execution_count": 169,
      "outputs": []
    },
    {
      "cell_type": "code",
      "source": [
        "# y_train.shape[0]"
      ],
      "metadata": {
        "id": "HFV5BsKcPfjx"
      },
      "execution_count": 170,
      "outputs": []
    },
    {
      "cell_type": "code",
      "source": [
        "# len(X_text_comment_pad)"
      ],
      "metadata": {
        "id": "vlptZx7eQjGo"
      },
      "execution_count": 171,
      "outputs": []
    },
    {
      "cell_type": "markdown",
      "source": [
        "#Build CNN with comment and parent comment\n"
      ],
      "metadata": {
        "id": "NF-6G-fjlMvj"
      }
    },
    {
      "cell_type": "markdown",
      "source": [
        "#CNN Model 2"
      ],
      "metadata": {
        "id": "2RhgGU0ynmr3"
      }
    },
    {
      "cell_type": "markdown",
      "source": [
        "#Still at around 70% accuracy... look into cross validation or somethhing to find optimal model\n",
        "\n"
      ],
      "metadata": {
        "id": "ZGqB4ruDtare"
      }
    },
    {
      "cell_type": "code",
      "source": [
        "pip install keras-tuner\n"
      ],
      "metadata": {
        "id": "ij-CCho5zZ_p",
        "outputId": "6e2668be-a488-4e98-a778-da0f7bcf77d8",
        "colab": {
          "base_uri": "https://localhost:8080/"
        }
      },
      "execution_count": 172,
      "outputs": [
        {
          "output_type": "stream",
          "name": "stdout",
          "text": [
            "Requirement already satisfied: keras-tuner in /usr/local/lib/python3.10/dist-packages (1.4.6)\n",
            "Requirement already satisfied: keras in /usr/local/lib/python3.10/dist-packages (from keras-tuner) (2.15.0)\n",
            "Requirement already satisfied: packaging in /usr/local/lib/python3.10/dist-packages (from keras-tuner) (23.2)\n",
            "Requirement already satisfied: requests in /usr/local/lib/python3.10/dist-packages (from keras-tuner) (2.31.0)\n",
            "Requirement already satisfied: kt-legacy in /usr/local/lib/python3.10/dist-packages (from keras-tuner) (1.0.5)\n",
            "Requirement already satisfied: charset-normalizer<4,>=2 in /usr/local/lib/python3.10/dist-packages (from requests->keras-tuner) (3.3.2)\n",
            "Requirement already satisfied: idna<4,>=2.5 in /usr/local/lib/python3.10/dist-packages (from requests->keras-tuner) (3.6)\n",
            "Requirement already satisfied: urllib3<3,>=1.21.1 in /usr/local/lib/python3.10/dist-packages (from requests->keras-tuner) (2.0.7)\n",
            "Requirement already satisfied: certifi>=2017.4.17 in /usr/local/lib/python3.10/dist-packages (from requests->keras-tuner) (2024.2.2)\n"
          ]
        }
      ]
    },
    {
      "cell_type": "markdown",
      "source": [
        "#Figure out which features to include or exclude\n",
        "#Add attention layer?\n",
        "\n",
        "#Create LSTM and Bidirectional LSTM\n"
      ],
      "metadata": {
        "id": "JQJ2fr8UGoyY"
      }
    },
    {
      "cell_type": "markdown",
      "source": [
        "Clean Notedbook starts here"
      ],
      "metadata": {
        "id": "Xqsf3ctJ2HEd"
      }
    },
    {
      "cell_type": "markdown",
      "source": [
        "##CNN Text Covariates"
      ],
      "metadata": {
        "id": "ekJDA2kF3U_j"
      }
    },
    {
      "cell_type": "code",
      "source": [
        "\n",
        "\n",
        "# from keras.layers import Input, Embedding, Conv1D, MaxPooling1D, Flatten, Dense, concatenate, Dropout, Bidirectional, LSTM\n",
        "# from keras.models import Model\n",
        "# from keras import optimizers\n",
        "# from kerastuner import HyperModel\n",
        "\n",
        "# def build_model1(hp):\n",
        "#     comment_input = Input(shape=(max_seq_length,), name='comment_input')\n",
        "#     parent_comment_input = Input(shape=(max_seq_length,), name='parent_comment_input')\n",
        "\n",
        "#     embedding_layer = Embedding(input_dim=max_words,\n",
        "#                                 output_dim=150,\n",
        "#                                 weights=[embedding_matrix],\n",
        "#                                 input_length=max_seq_length,\n",
        "#                                 trainable=True)\n",
        "\n",
        "#     comment_embedding = embedding_layer(comment_input)\n",
        "#     parent_comment_embedding = embedding_layer(parent_comment_input)\n",
        "\n",
        "#     concatenated_embeddings = concatenate([comment_embedding, parent_comment_embedding], axis=1)\n",
        "\n",
        "#     conv1 = Conv1D(filters=hp.Int('conv1_filters', min_value=32, max_value=128, step=32),\n",
        "#                    kernel_size=hp.Choice('conv1_kernel_size', values=[3, 5]),\n",
        "#                    padding='same',\n",
        "#                    activation='relu')(concatenated_embeddings)\n",
        "#     conv1 = MaxPooling1D(pool_size=2)(conv1)\n",
        "\n",
        "#     conv2 = Conv1D(filters=hp.Int('conv2_filters', min_value=32, max_value=64, step=32),\n",
        "#                    kernel_size=hp.Choice('conv2_kernel_size', values=[3, 5]),\n",
        "#                    padding='same',\n",
        "#                    activation='relu')(conv1)\n",
        "#     conv2 = MaxPooling1D(pool_size=2)(conv2)\n",
        "\n",
        "\n",
        "#     flattened = Flatten()(conv2)\n",
        "#     flattened = Dropout(0.5)(flattened)\n",
        "\n",
        "#     dense = Dense(hp.Int('dense_units', min_value=64, max_value=128, step=32), activation='relu')(flattened)\n",
        "#     output = Dense(1, activation='sigmoid')(dense)\n",
        "\n",
        "#     model = Model(inputs=[comment_input, parent_comment_input], outputs=output)\n",
        "\n",
        "#     hp_learning_rate = hp.Choice('learning_rate', values=[1e-2, 1e-3, 1e-4])\n",
        "#     model.compile(optimizer=optimizers.Adam(learning_rate=hp_learning_rate),\n",
        "#                   loss='binary_crossentropy',\n",
        "#                   metrics=['accuracy'])\n",
        "\n",
        "#     return model"
      ],
      "metadata": {
        "id": "RitW2NSh2JzX"
      },
      "execution_count": 173,
      "outputs": []
    },
    {
      "cell_type": "code",
      "source": [
        "# from kerastuner.tuners import RandomSearch\n",
        "\n",
        "# tuner = RandomSearch(\n",
        "#     build_model1,\n",
        "#     objective='val_accuracy',\n",
        "#     max_trials=5,\n",
        "#     executions_per_trial=1,\n",
        "#     directory='my_dir',\n",
        "#     project_name='hparam_tuning'\n",
        "# )\n",
        "\n",
        "# tuner.search_space_summary()\n",
        "\n",
        "# tuner.search(x=[X_text_comment_pad, X_text_parent_comment_pad],\n",
        "#              y=y_train,\n",
        "#              epochs=4,\n",
        "#              batch_size=128,\n",
        "#              validation_split=0.10)\n",
        "\n",
        "\n",
        "\n",
        "# best_model = tuner.get_best_models(num_models=1)[0]"
      ],
      "metadata": {
        "id": "_qSMSrNL2lYn"
      },
      "execution_count": 174,
      "outputs": []
    },
    {
      "cell_type": "code",
      "source": [
        "# from kerastuner.tuners import RandomSearch\n",
        "# best_hp = tuner.get_best_hyperparameters(num_trials=1)[0]\n",
        "# print(\"Best hyperparameters:\")\n",
        "# for hp in best_hp.values:\n",
        "#     print(f\"{hp}: {best_hp.get(hp)}\")"
      ],
      "metadata": {
        "id": "hzC4_G4b21-U"
      },
      "execution_count": 175,
      "outputs": []
    },
    {
      "cell_type": "code",
      "source": [
        "# best_model.save('/content/drive/MyDrive/Sarcasm_Data/best_model.h5')"
      ],
      "metadata": {
        "id": "p6apubRr3DL4"
      },
      "execution_count": 176,
      "outputs": []
    },
    {
      "cell_type": "code",
      "source": [
        "from tensorflow.keras.models import load_model\n",
        "best_model = load_model('/content/drive/MyDrive/Sarcasm_Data/best_model.h5')"
      ],
      "metadata": {
        "id": "s6r6ElId3I6p"
      },
      "execution_count": 177,
      "outputs": []
    },
    {
      "cell_type": "code",
      "source": [
        "from sklearn.metrics import accuracy_score, precision_score, recall_score, f1_score, roc_auc_score\n",
        "from keras.models import Model\n",
        "\n",
        "predictions = best_model.predict({'comment_input': X_text_comment_pad_test,\n",
        "                             'parent_comment_input': X_text_parent_comment_pad_test})\n",
        "\n",
        "prediction_result = (predictions > 0.5).astype('int32')\n",
        "\n",
        "accuracy = accuracy_score(y_test, prediction_result)\n",
        "print('Accuracy: %f' % accuracy)\n",
        "\n",
        "\n",
        "precision = precision_score(y_test, prediction_result)\n",
        "print('Precision: %f' % precision)\n",
        "\n",
        "\n",
        "recall = recall_score(y_test, prediction_result)\n",
        "print('Recall: %f' % recall)\n",
        "\n",
        "\n",
        "f1 = f1_score(y_test, prediction_result)\n",
        "print('F1 score: %f' % f1)\n",
        "\n",
        "\n",
        "predictions = predictions.flatten()\n",
        "auc = roc_auc_score(y_test, predictions)\n",
        "print('ROC AUC: %f' % auc)"
      ],
      "metadata": {
        "id": "pM32EKrT3PUJ",
        "outputId": "c6bf7526-fec6-41c2-cf64-db9de9551df3",
        "colab": {
          "base_uri": "https://localhost:8080/"
        }
      },
      "execution_count": 178,
      "outputs": [
        {
          "output_type": "stream",
          "name": "stdout",
          "text": [
            "5054/5054 [==============================] - 53s 10ms/step\n",
            "Accuracy: 0.725471\n",
            "Precision: 0.740457\n",
            "Recall: 0.696643\n",
            "F1 score: 0.717882\n",
            "ROC AUC: 0.801096\n"
          ]
        }
      ]
    },
    {
      "cell_type": "markdown",
      "source": [
        "#CNN text and non-text covariates"
      ],
      "metadata": {
        "id": "MNuQuOXb_OHg"
      }
    },
    {
      "cell_type": "code",
      "source": [
        "from keras.backend import clear_session\n",
        ".\n",
        "clear_session()"
      ],
      "metadata": {
        "id": "IGV-vcKtyjOu"
      },
      "execution_count": 179,
      "outputs": []
    },
    {
      "cell_type": "code",
      "source": [
        "from keras.layers import Input, Embedding, Conv1D, MaxPooling1D, Flatten, Dense, concatenate, Dropout\n",
        "from keras.models import Model\n",
        "from keras import optimizers\n",
        "\n",
        "comment_input = Input(shape=(max_seq_length,), name='comment_input')\n",
        "parent_comment_input = Input(shape=(max_seq_length,), name='parent_comment_input')\n",
        "numeric_input = Input(shape=(X_numeric_scaled.shape[1],), name='numeric_input')\n",
        "\n",
        "embedding_layer = Embedding(input_dim=max_words,\n",
        "                            output_dim=150,\n",
        "                            weights=[embedding_matrix],\n",
        "                            input_length=max_seq_length,\n",
        "                            trainable=True)\n",
        "\n",
        "comment_embedding = embedding_layer(comment_input)\n",
        "parent_comment_embedding = embedding_layer(parent_comment_input)\n",
        "\n",
        "concatenated_embeddings = concatenate([comment_embedding, parent_comment_embedding], axis=1)\n",
        "\n",
        "conv1 = Conv1D(filters=64,\n",
        "               kernel_size=5,\n",
        "               padding='same',\n",
        "               activation='relu')(concatenated_embeddings)\n",
        "conv1 = MaxPooling1D(pool_size=2)(conv1)\n",
        "\n",
        "conv2 = Conv1D(filters=64,\n",
        "               kernel_size=3,\n",
        "               padding='same',\n",
        "               activation='relu')(conv1)\n",
        "conv2 = MaxPooling1D(pool_size=2)(conv2)\n",
        "\n",
        "\n",
        "flattened = Flatten()(conv2)\n",
        "flattened = Dropout(0.5)(flattened)\n",
        "\n",
        "\n",
        "numeric_dense = Dense(64, activation='relu')(numeric_input)\n",
        "numeric_dense = Dropout(0.5)(numeric_dense)\n",
        "numeric_dense = Dense(32, activation='relu')(numeric_dense)\n",
        "\n",
        "\n",
        "concatenated_final = concatenate([flattened, numeric_dense], axis=-1)\n",
        "\n",
        "dense1 = Dense(64, activation='relu')(concatenated_final)\n",
        "dense1 = Dropout(0.5)(dense1)\n",
        "output = Dense(1, activation='sigmoid')(dense1)\n",
        "\n",
        "best_CNN_textandnontext= Model(inputs=[comment_input, parent_comment_input, numeric_input], outputs=output)\n",
        "best_CNN_textandnontext.compile(optimizer=optimizers.Adam(learning_rate=0.001),\n",
        "              loss='binary_crossentropy',\n",
        "              metrics=['accuracy'])\n",
        "\n",
        "\n",
        "\n",
        "\n"
      ],
      "metadata": {
        "id": "tmYROE4-APci"
      },
      "execution_count": 189,
      "outputs": []
    },
    {
      "cell_type": "code",
      "source": [
        "best_CNN_textandnontext.fit({'comment_input': X_text_comment_pad, 'parent_comment_input': X_text_parent_comment_pad, 'numeric_input': X_numeric_scaled}, y_train, epochs=5, batch_size=128, validation_split=0.1)"
      ],
      "metadata": {
        "colab": {
          "base_uri": "https://localhost:8080/",
          "height": 165
        },
        "id": "aebAkcreoDbg",
        "outputId": "9be61740-2059-4543-eb5f-83bc25554b6c"
      },
      "execution_count": 1,
      "outputs": [
        {
          "output_type": "error",
          "ename": "NameError",
          "evalue": "name 'best_CNN_textandnontext' is not defined",
          "traceback": [
            "\u001b[0;31m---------------------------------------------------------------------------\u001b[0m",
            "\u001b[0;31mNameError\u001b[0m                                 Traceback (most recent call last)",
            "\u001b[0;32m<ipython-input-1-64534fe66ce6>\u001b[0m in \u001b[0;36m<cell line: 1>\u001b[0;34m()\u001b[0m\n\u001b[0;32m----> 1\u001b[0;31m \u001b[0mbest_CNN_textandnontext\u001b[0m\u001b[0;34m.\u001b[0m\u001b[0mfit\u001b[0m\u001b[0;34m(\u001b[0m\u001b[0;34m{\u001b[0m\u001b[0;34m'comment_input'\u001b[0m\u001b[0;34m:\u001b[0m \u001b[0mX_text_comment_pad\u001b[0m\u001b[0;34m,\u001b[0m \u001b[0;34m'parent_comment_input'\u001b[0m\u001b[0;34m:\u001b[0m \u001b[0mX_text_parent_comment_pad\u001b[0m\u001b[0;34m,\u001b[0m \u001b[0;34m'numeric_input'\u001b[0m\u001b[0;34m:\u001b[0m \u001b[0mX_numeric_scaled\u001b[0m\u001b[0;34m}\u001b[0m\u001b[0;34m,\u001b[0m \u001b[0my_train\u001b[0m\u001b[0;34m,\u001b[0m \u001b[0mepochs\u001b[0m\u001b[0;34m=\u001b[0m\u001b[0;36m5\u001b[0m\u001b[0;34m,\u001b[0m \u001b[0mbatch_size\u001b[0m\u001b[0;34m=\u001b[0m\u001b[0;36m128\u001b[0m\u001b[0;34m,\u001b[0m \u001b[0mvalidation_split\u001b[0m\u001b[0;34m=\u001b[0m\u001b[0;36m0.1\u001b[0m\u001b[0;34m)\u001b[0m\u001b[0;34m\u001b[0m\u001b[0;34m\u001b[0m\u001b[0m\n\u001b[0m",
            "\u001b[0;31mNameError\u001b[0m: name 'best_CNN_textandnontext' is not defined"
          ]
        }
      ]
    },
    {
      "cell_type": "code",
      "source": [
        "from sklearn.metrics import accuracy_score, precision_score, recall_score, f1_score, roc_auc_score\n",
        "from keras.models import Model\n",
        "\n",
        "predictions = best_CNN_textandnontext.predict({'comment_input': X_text_comment_pad_test,\n",
        "                             'parent_comment_input': X_text_parent_comment_pad_test,\n",
        "                                               'numeric_input': X_numeric_scaled_test})\n",
        "\n",
        "prediction_result = (predictions > 0.5).astype('int32')\n",
        "\n",
        "accuracy = accuracy_score(y_test, prediction_result)\n",
        "print('Accuracy: %f' % accuracy)\n",
        "\n",
        "\n",
        "precision = precision_score(y_test, prediction_result)\n",
        "print('Precision: %f' % precision)\n",
        "\n",
        "\n",
        "recall = recall_score(y_test, prediction_result)\n",
        "print('Recall: %f' % recall)\n",
        "\n",
        "\n",
        "f1 = f1_score(y_test, prediction_result)\n",
        "print('F1 score: %f' % f1)\n",
        "\n",
        "\n",
        "predictions = predictions.flatten()\n",
        "auc = roc_auc_score(y_test, predictions)\n",
        "print('ROC AUC: %f' % auc)"
      ],
      "metadata": {
        "colab": {
          "base_uri": "https://localhost:8080/"
        },
        "id": "jhxeCzBUm0bt",
        "outputId": "061c613e-9b63-4e92-f6cb-e10fd30ab3f1"
      },
      "execution_count": 182,
      "outputs": [
        {
          "output_type": "stream",
          "name": "stdout",
          "text": [
            "5054/5054 [==============================] - 50s 10ms/step\n",
            "Accuracy: 0.696409\n",
            "Precision: 0.672453\n",
            "Recall: 0.769134\n",
            "F1 score: 0.717552\n",
            "ROC AUC: 0.782420\n"
          ]
        }
      ]
    },
    {
      "cell_type": "code",
      "source": [
        "X_numeric_scaled.shape[1]"
      ],
      "metadata": {
        "colab": {
          "base_uri": "https://localhost:8080/"
        },
        "id": "LdjP4iSmuufp",
        "outputId": "561bf04b-ff22-40a5-9f11-8e99add7b090"
      },
      "execution_count": 183,
      "outputs": [
        {
          "output_type": "execute_result",
          "data": {
            "text/plain": [
              "3"
            ]
          },
          "metadata": {},
          "execution_count": 183
        }
      ]
    },
    {
      "cell_type": "code",
      "source": [
        "print(X_text_comment_pad.shape)  # Should match (None, max_seq_length)\n",
        "print(X_text_parent_comment_pad.shape)  # Should match (None, max_seq_length)\n",
        "print(X_numeric_scaled.shape)  # Should match (None, 4) based on the error\n"
      ],
      "metadata": {
        "colab": {
          "base_uri": "https://localhost:8080/"
        },
        "id": "hNkabpevvNZi",
        "outputId": "c02cf2a8-5fff-4ef4-f33d-80a5268bbfa7"
      },
      "execution_count": 184,
      "outputs": [
        {
          "output_type": "stream",
          "name": "stdout",
          "text": [
            "(646894, 100)\n",
            "(646894, 100)\n",
            "(646894, 3)\n"
          ]
        }
      ]
    },
    {
      "cell_type": "code",
      "source": [
        "print(X_text_comment_pad_test.shape)  # Should match (None, max_seq_length)\n",
        "print(X_text_parent_comment_pad_test.shape)  # Should match (None, max_seq_length)\n",
        "print(X_numeric_scaled_test.shape)  # Should match (None, 4) based on the error"
      ],
      "metadata": {
        "colab": {
          "base_uri": "https://localhost:8080/"
        },
        "id": "Ay1rtS95wkHm",
        "outputId": "44f3665b-81a6-4b46-c37f-6fe00a97f700"
      },
      "execution_count": 185,
      "outputs": [
        {
          "output_type": "stream",
          "name": "stdout",
          "text": [
            "(161724, 100)\n",
            "(161724, 100)\n",
            "(161724, 3)\n"
          ]
        }
      ]
    },
    {
      "cell_type": "code",
      "source": [
        "X_numeric_scaled_test"
      ],
      "metadata": {
        "colab": {
          "base_uri": "https://localhost:8080/"
        },
        "id": "Bn8lI15x7FKV",
        "outputId": "e6ca0b40-e92b-4f8a-930c-1fb1ce2b5bae"
      },
      "execution_count": 186,
      "outputs": [
        {
          "output_type": "execute_result",
          "data": {
            "text/plain": [
              "array([[-0.13967442, -0.05053638, -0.48703325],\n",
              "       [ 0.13985763,  0.05317726, -0.48703325],\n",
              "       [ 0.13985763, -0.08510759, -0.94831609],\n",
              "       ...,\n",
              "       [ 0.32621234,  0.01860604, -0.48703325],\n",
              "       [-0.13967442, -0.01596517, -0.02575042],\n",
              "       [-0.69873853,  0.01860604, -0.48703325]])"
            ]
          },
          "metadata": {},
          "execution_count": 186
        }
      ]
    },
    {
      "cell_type": "code",
      "source": [
        "X_numeric_scaled"
      ],
      "metadata": {
        "colab": {
          "base_uri": "https://localhost:8080/"
        },
        "id": "dwtaCLsO7IDf",
        "outputId": "0d7bb015-3af8-49f6-a6b4-0f356c090e75"
      },
      "execution_count": 187,
      "outputs": [
        {
          "output_type": "execute_result",
          "data": {
            "text/plain": [
              "array([[ 1.12998212, -0.01692059, -0.00589384],\n",
              "       [-0.82738605, -0.0578009 ,  0.3088665 ],\n",
              "       [-0.04443878, -0.0578009 ,  0.07279624],\n",
              "       ...,\n",
              "       [-0.43591242,  0.14660068, -0.16327401],\n",
              "       [-0.53378082, -0.0578009 , -0.08458393],\n",
              "       [ 0.54277167, -0.0578009 , -0.16327401]])"
            ]
          },
          "metadata": {},
          "execution_count": 187
        }
      ]
    },
    {
      "cell_type": "code",
      "source": [
        "from keras.layers import Input, Embedding, Conv1D, MaxPooling1D, Flatten, Dense, concatenate, Dropout\n",
        "from keras.models import Model\n",
        "from keras import optimizers\n",
        "\n",
        "# Assuming max_seq_length, max_words, embedding_matrix are defined elsewhere\n",
        "comment_input = Input(shape=(max_seq_length,), name='comment_input')\n",
        "parent_comment_input = Input(shape=(max_seq_length,), name='parent_comment_input')\n",
        "\n",
        "# Adjust the shape of numeric_input to match the expected number of features (3 in this case)\n",
        "numeric_input = Input(shape=(3,), name='numeric_input')  # Adjusted from (X_numeric_scaled.shape[1],)\n",
        "\n",
        "embedding_layer = Embedding(input_dim=max_words,\n",
        "                            output_dim=150,\n",
        "                            weights=[embedding_matrix],\n",
        "                            input_length=max_seq_length,\n",
        "                            trainable=True)\n",
        "\n",
        "comment_embedding = embedding_layer(comment_input)\n",
        "parent_comment_embedding = embedding_layer(parent_comment_input)\n",
        "\n",
        "concatenated_embeddings = concatenate([comment_embedding, parent_comment_embedding], axis=1)\n",
        "\n",
        "conv1 = Conv1D(filters=64,\n",
        "               kernel_size=5,\n",
        "               padding='same',\n",
        "               activation='relu')(concatenated_embeddings)\n",
        "conv1 = MaxPooling1D(pool_size=2)(conv1)\n",
        "\n",
        "conv2 = Conv1D(filters=64,\n",
        "               kernel_size=3,\n",
        "               padding='same',\n",
        "               activation='relu')(conv1)\n",
        "conv2 = MaxPooling1D(pool_size=2)(conv2)\n",
        "\n",
        "flattened = Flatten()(conv2)\n",
        "flattened = Dropout(0.5)(flattened)\n",
        "\n",
        "numeric_dense = Dense(64, activation='relu')(numeric_input)\n",
        "numeric_dense = Dropout(0.5)(numeric_dense)\n",
        "numeric_dense = Dense(32, activation='relu')(numeric_dense)\n",
        "\n",
        "concatenated_final = concatenate([flattened, numeric_dense], axis=-1)\n",
        "\n",
        "dense1 = Dense(64, activation='relu')(concatenated_final)\n",
        "dense1 = Dropout(0.5)(dense1)\n",
        "output = Dense(1, activation='sigmoid')(dense1)\n",
        "\n",
        "best_CNN_textandnontext = Model(inputs=[comment_input, parent_comment_input, numeric_input], outputs=output)\n",
        "best_CNN_textandnontext.compile(optimizer=optimizers.Adam(learning_rate=0.001),\n",
        "              loss='binary_crossentropy',\n",
        "              metrics=['accuracy'])\n"
      ],
      "metadata": {
        "id": "Ko8wBdhbvvEq"
      },
      "execution_count": 188,
      "outputs": []
    }
  ]
}